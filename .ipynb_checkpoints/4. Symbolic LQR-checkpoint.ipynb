{
 "cells": [
  {
   "cell_type": "code",
   "execution_count": 11,
   "id": "f18d9ae7",
   "metadata": {},
   "outputs": [],
   "source": [
    "from sympy import *\n",
    "from sympy.vector import CoordSys3D\n",
    "from sympy.vector import Vector\n",
    "\n",
    "nu, La0, La1, La2, La3 = symbols('nu La0 La1 La2 La3', real=True)\n",
    "x1, y1, z1 = var('x1 y1 z1', real=True)\n",
    "\n",
    "I = CoordSys3D('I')\n",
    "O = I.orient_new_axis('O', nu, I.k)\n",
    "B0 = CoordSys3D('B0')\n",
    "B1 = CoordSys3D('B1')"
   ]
  },
  {
   "cell_type": "code",
   "execution_count": 13,
   "id": "47ee2df4",
   "metadata": {},
   "outputs": [
    {
     "data": {
      "text/latex": [
       "$\\displaystyle \\operatorname{CoordSys3D}\\left(O, \\left( \\left[\\begin{matrix}\\cos{\\left(\\nu \\right)} & \\sin{\\left(\\nu \\right)} & 0\\\\- \\sin{\\left(\\nu \\right)} & \\cos{\\left(\\nu \\right)} & 0\\\\0 & 0 & 1\\end{matrix}\\right], \\  \\mathbf{\\hat{0}}\\right), \\operatorname{CoordSys3D}\\left(I, \\left( \\left[\\begin{matrix}1 & 0 & 0\\\\0 & 1 & 0\\\\0 & 0 & 1\\end{matrix}\\right], \\  \\mathbf{\\hat{0}}\\right)\\right)\\right)$"
      ],
      "text/plain": [
       "O"
      ]
     },
     "execution_count": 13,
     "metadata": {},
     "output_type": "execute_result"
    }
   ],
   "source": [
    "O"
   ]
  },
  {
   "cell_type": "code",
   "execution_count": 3,
   "id": "f0f8153a",
   "metadata": {},
   "outputs": [
    {
     "data": {
      "text/latex": [
       "$\\displaystyle w_{0}$"
      ],
      "text/plain": [
       "w0"
      ]
     },
     "execution_count": 3,
     "metadata": {},
     "output_type": "execute_result"
    }
   ],
   "source": [
    "w0 = Symbol('w0', real=True, constant=True)\n",
    "x, y, z, X, Y, Z, vx, vy, vz, Vx, Vy, Vz = var('x y z X Y Z vx vy vz Vx Vy Vz', real=True)\n",
    "w0"
   ]
  },
  {
   "cell_type": "code",
   "execution_count": 4,
   "id": "aed0ff05",
   "metadata": {},
   "outputs": [
    {
     "data": {
      "text/latex": [
       "$\\displaystyle \\left(- 2 vz w_{0}\\right)\\mathbf{\\hat{i}_{O}} + \\left(- w_{0}^{2} y\\right)\\mathbf{\\hat{j}_{O}} + \\left(2 vx w_{0} + 3 w_{0}^{2} z\\right)\\mathbf{\\hat{k}_{O}}$"
      ],
      "text/plain": [
       "(-2*vz*w0)*O.i + (-w0**2*y)*O.j + (2*vx*w0 + 3*w0**2*z)*O.k"
      ]
     },
     "execution_count": 4,
     "metadata": {},
     "output_type": "execute_result"
    }
   ],
   "source": [
    "def a_hkw(r, v):\n",
    "    x = r & O.i\n",
    "    y = r & O.j\n",
    "    z = r & O.k\n",
    "    vx = v & O.i\n",
    "    vy = v & O.j\n",
    "    vz = v & O.k\n",
    "    return O.i * (- 2 * w0 * vz) + O.j * (- w0**2 * y) + O.k * (3 * w0**2 * z + 2 * w0 * vx)\n",
    "\n",
    "r1 = x1 * B0.i + y1 * B0.j + z1 * B0.k  # target\n",
    "r = x * O.i + y * O.j + z * O.k  # app\n",
    "R = X * O.i + Y * O.j + Z * O.k  # str\n",
    "v = vx * O.i + vy * O.j + vz * O.k\n",
    "V = Vx * O.i + Vy * O.j + Vz * O.k\n",
    "a_hkw(r, v)"
   ]
  },
  {
   "cell_type": "code",
   "execution_count": 10,
   "id": "4b7374e2",
   "metadata": {},
   "outputs": [
    {
     "ename": "TypeError",
     "evalue": "cannot add <class 'sympy.matrices.dense.MutableDenseMatrix'> and <class 'int'>",
     "output_type": "error",
     "traceback": [
      "\u001b[0;31m---------------------------------------------------------------------------\u001b[0m",
      "\u001b[0;31mTypeError\u001b[0m                                 Traceback (most recent call last)",
      "Cell \u001b[0;32mIn[10], line 7\u001b[0m\n\u001b[1;32m      5\u001b[0m U \u001b[38;5;241m=\u001b[39m Matrix([[u00, u01, u02], [u10, u11, u12], [u20, u21, u22]])\n\u001b[1;32m      6\u001b[0m S \u001b[38;5;241m=\u001b[39m Matrix([[s00, s01, s02], [s10, s11, s12], [s20, s21, s22]])\n\u001b[0;32m----> 7\u001b[0m \u001b[43mA\u001b[49m\u001b[43m \u001b[49m\u001b[38;5;241;43m*\u001b[39;49m\u001b[43m \u001b[49m\u001b[43mr\u001b[49m\n",
      "File \u001b[0;32m~/.local/lib/python3.10/site-packages/sympy/core/decorators.py:105\u001b[0m, in \u001b[0;36mcall_highest_priority.<locals>.priority_decorator.<locals>.binary_op_wrapper\u001b[0;34m(self, other)\u001b[0m\n\u001b[1;32m    103\u001b[0m         f \u001b[38;5;241m=\u001b[39m \u001b[38;5;28mgetattr\u001b[39m(other, method_name, \u001b[38;5;28;01mNone\u001b[39;00m)\n\u001b[1;32m    104\u001b[0m         \u001b[38;5;28;01mif\u001b[39;00m f \u001b[38;5;129;01mis\u001b[39;00m \u001b[38;5;129;01mnot\u001b[39;00m \u001b[38;5;28;01mNone\u001b[39;00m:\n\u001b[0;32m--> 105\u001b[0m             \u001b[38;5;28;01mreturn\u001b[39;00m \u001b[43mf\u001b[49m\u001b[43m(\u001b[49m\u001b[38;5;28;43mself\u001b[39;49m\u001b[43m)\u001b[49m\n\u001b[1;32m    106\u001b[0m \u001b[38;5;28;01mreturn\u001b[39;00m func(\u001b[38;5;28mself\u001b[39m, other)\n",
      "File \u001b[0;32m~/.local/lib/python3.10/site-packages/sympy/core/decorators.py:65\u001b[0m, in \u001b[0;36m__sympifyit.<locals>.__sympifyit_wrapper\u001b[0;34m(a, b)\u001b[0m\n\u001b[1;32m     63\u001b[0m     \u001b[38;5;28;01mif\u001b[39;00m \u001b[38;5;129;01mnot\u001b[39;00m \u001b[38;5;28mhasattr\u001b[39m(b, \u001b[38;5;124m'\u001b[39m\u001b[38;5;124m_op_priority\u001b[39m\u001b[38;5;124m'\u001b[39m):\n\u001b[1;32m     64\u001b[0m         b \u001b[38;5;241m=\u001b[39m sympify(b, strict\u001b[38;5;241m=\u001b[39m\u001b[38;5;28;01mTrue\u001b[39;00m)\n\u001b[0;32m---> 65\u001b[0m     \u001b[38;5;28;01mreturn\u001b[39;00m \u001b[43mfunc\u001b[49m\u001b[43m(\u001b[49m\u001b[43ma\u001b[49m\u001b[43m,\u001b[49m\u001b[43m \u001b[49m\u001b[43mb\u001b[49m\u001b[43m)\u001b[49m\n\u001b[1;32m     66\u001b[0m \u001b[38;5;28;01mexcept\u001b[39;00m SympifyError:\n\u001b[1;32m     67\u001b[0m     \u001b[38;5;28;01mreturn\u001b[39;00m retval\n",
      "File \u001b[0;32m~/.local/lib/python3.10/site-packages/sympy/core/decorators.py:106\u001b[0m, in \u001b[0;36mcall_highest_priority.<locals>.priority_decorator.<locals>.binary_op_wrapper\u001b[0;34m(self, other)\u001b[0m\n\u001b[1;32m    104\u001b[0m         \u001b[38;5;28;01mif\u001b[39;00m f \u001b[38;5;129;01mis\u001b[39;00m \u001b[38;5;129;01mnot\u001b[39;00m \u001b[38;5;28;01mNone\u001b[39;00m:\n\u001b[1;32m    105\u001b[0m             \u001b[38;5;28;01mreturn\u001b[39;00m f(\u001b[38;5;28mself\u001b[39m)\n\u001b[0;32m--> 106\u001b[0m \u001b[38;5;28;01mreturn\u001b[39;00m \u001b[43mfunc\u001b[49m\u001b[43m(\u001b[49m\u001b[38;5;28;43mself\u001b[39;49m\u001b[43m,\u001b[49m\u001b[43m \u001b[49m\u001b[43mother\u001b[49m\u001b[43m)\u001b[49m\n",
      "File \u001b[0;32m~/.local/lib/python3.10/site-packages/sympy/vector/basisdependent.py:51\u001b[0m, in \u001b[0;36mBasisDependent.__rmul__\u001b[0;34m(self, other)\u001b[0m\n\u001b[1;32m     48\u001b[0m \u001b[38;5;129m@_sympifyit\u001b[39m(\u001b[38;5;124m'\u001b[39m\u001b[38;5;124mother\u001b[39m\u001b[38;5;124m'\u001b[39m, \u001b[38;5;28mNotImplemented\u001b[39m)\n\u001b[1;32m     49\u001b[0m \u001b[38;5;129m@call_highest_priority\u001b[39m(\u001b[38;5;124m'\u001b[39m\u001b[38;5;124m__mul__\u001b[39m\u001b[38;5;124m'\u001b[39m)\n\u001b[1;32m     50\u001b[0m \u001b[38;5;28;01mdef\u001b[39;00m \u001b[38;5;21m__rmul__\u001b[39m(\u001b[38;5;28mself\u001b[39m, other):\n\u001b[0;32m---> 51\u001b[0m     \u001b[38;5;28;01mreturn\u001b[39;00m \u001b[38;5;28;43mself\u001b[39;49m\u001b[38;5;241;43m.\u001b[39;49m\u001b[43m_mul_func\u001b[49m\u001b[43m(\u001b[49m\u001b[43mother\u001b[49m\u001b[43m,\u001b[49m\u001b[43m \u001b[49m\u001b[38;5;28;43mself\u001b[39;49m\u001b[43m)\u001b[49m\n",
      "File \u001b[0;32m~/.local/lib/python3.10/site-packages/sympy/vector/vector.py:434\u001b[0m, in \u001b[0;36mVectorMul.__new__\u001b[0;34m(cls, *args, **options)\u001b[0m\n\u001b[1;32m    433\u001b[0m \u001b[38;5;28;01mdef\u001b[39;00m \u001b[38;5;21m__new__\u001b[39m(\u001b[38;5;28mcls\u001b[39m, \u001b[38;5;241m*\u001b[39margs, \u001b[38;5;241m*\u001b[39m\u001b[38;5;241m*\u001b[39moptions):\n\u001b[0;32m--> 434\u001b[0m     obj \u001b[38;5;241m=\u001b[39m \u001b[43mBasisDependentMul\u001b[49m\u001b[38;5;241;43m.\u001b[39;49m\u001b[38;5;21;43m__new__\u001b[39;49m\u001b[43m(\u001b[49m\u001b[38;5;28;43mcls\u001b[39;49m\u001b[43m,\u001b[49m\u001b[43m \u001b[49m\u001b[38;5;241;43m*\u001b[39;49m\u001b[43margs\u001b[49m\u001b[43m,\u001b[49m\u001b[43m \u001b[49m\u001b[38;5;241;43m*\u001b[39;49m\u001b[38;5;241;43m*\u001b[39;49m\u001b[43moptions\u001b[49m\u001b[43m)\u001b[49m\n\u001b[1;32m    435\u001b[0m     \u001b[38;5;28;01mreturn\u001b[39;00m obj\n",
      "File \u001b[0;32m~/.local/lib/python3.10/site-packages/sympy/vector/basisdependent.py:279\u001b[0m, in \u001b[0;36mBasisDependentMul.__new__\u001b[0;34m(cls, *args, **options)\u001b[0m\n\u001b[1;32m    276\u001b[0m \u001b[38;5;28;01mif\u001b[39;00m \u001b[38;5;28misinstance\u001b[39m(expr, \u001b[38;5;28mcls\u001b[39m\u001b[38;5;241m.\u001b[39m_add_func):\n\u001b[1;32m    277\u001b[0m     newargs \u001b[38;5;241m=\u001b[39m [\u001b[38;5;28mcls\u001b[39m\u001b[38;5;241m.\u001b[39m_mul_func(measure_number, x) \u001b[38;5;28;01mfor\u001b[39;00m\n\u001b[1;32m    278\u001b[0m                x \u001b[38;5;129;01min\u001b[39;00m expr\u001b[38;5;241m.\u001b[39margs]\n\u001b[0;32m--> 279\u001b[0m     \u001b[38;5;28;01mreturn\u001b[39;00m \u001b[38;5;28;43mcls\u001b[39;49m\u001b[38;5;241;43m.\u001b[39;49m\u001b[43m_add_func\u001b[49m\u001b[43m(\u001b[49m\u001b[38;5;241;43m*\u001b[39;49m\u001b[43mnewargs\u001b[49m\u001b[43m)\u001b[49m\n\u001b[1;32m    281\u001b[0m obj \u001b[38;5;241m=\u001b[39m \u001b[38;5;28msuper\u001b[39m()\u001b[38;5;241m.\u001b[39m\u001b[38;5;21m__new__\u001b[39m(\u001b[38;5;28mcls\u001b[39m, measure_number,\n\u001b[1;32m    282\u001b[0m                       expr\u001b[38;5;241m.\u001b[39m_base_instance,\n\u001b[1;32m    283\u001b[0m                       \u001b[38;5;241m*\u001b[39mextra_args,\n\u001b[1;32m    284\u001b[0m                       \u001b[38;5;241m*\u001b[39m\u001b[38;5;241m*\u001b[39moptions)\n\u001b[1;32m    285\u001b[0m \u001b[38;5;28;01mif\u001b[39;00m \u001b[38;5;28misinstance\u001b[39m(obj, Add):\n",
      "File \u001b[0;32m~/.local/lib/python3.10/site-packages/sympy/vector/vector.py:412\u001b[0m, in \u001b[0;36mVectorAdd.__new__\u001b[0;34m(cls, *args, **options)\u001b[0m\n\u001b[1;32m    411\u001b[0m \u001b[38;5;28;01mdef\u001b[39;00m \u001b[38;5;21m__new__\u001b[39m(\u001b[38;5;28mcls\u001b[39m, \u001b[38;5;241m*\u001b[39margs, \u001b[38;5;241m*\u001b[39m\u001b[38;5;241m*\u001b[39moptions):\n\u001b[0;32m--> 412\u001b[0m     obj \u001b[38;5;241m=\u001b[39m \u001b[43mBasisDependentAdd\u001b[49m\u001b[38;5;241;43m.\u001b[39;49m\u001b[38;5;21;43m__new__\u001b[39;49m\u001b[43m(\u001b[49m\u001b[38;5;28;43mcls\u001b[39;49m\u001b[43m,\u001b[49m\u001b[43m \u001b[49m\u001b[38;5;241;43m*\u001b[39;49m\u001b[43margs\u001b[49m\u001b[43m,\u001b[49m\u001b[43m \u001b[49m\u001b[38;5;241;43m*\u001b[39;49m\u001b[38;5;241;43m*\u001b[39;49m\u001b[43moptions\u001b[49m\u001b[43m)\u001b[49m\n\u001b[1;32m    413\u001b[0m     \u001b[38;5;28;01mreturn\u001b[39;00m obj\n",
      "File \u001b[0;32m~/.local/lib/python3.10/site-packages/sympy/vector/basisdependent.py:209\u001b[0m, in \u001b[0;36mBasisDependentAdd.__new__\u001b[0;34m(cls, *args, **options)\u001b[0m\n\u001b[1;32m    207\u001b[0m     \u001b[38;5;28;01mif\u001b[39;00m \u001b[38;5;28mhasattr\u001b[39m(arg, \u001b[38;5;124m\"\u001b[39m\u001b[38;5;124mcomponents\u001b[39m\u001b[38;5;124m\"\u001b[39m):\n\u001b[1;32m    208\u001b[0m         \u001b[38;5;28;01mfor\u001b[39;00m x \u001b[38;5;129;01min\u001b[39;00m arg\u001b[38;5;241m.\u001b[39mcomponents:\n\u001b[0;32m--> 209\u001b[0m             components[x] \u001b[38;5;241m=\u001b[39m \u001b[43mcomponents\u001b[49m\u001b[38;5;241;43m.\u001b[39;49m\u001b[43mget\u001b[49m\u001b[43m(\u001b[49m\u001b[43mx\u001b[49m\u001b[43m,\u001b[49m\u001b[43m \u001b[49m\u001b[38;5;241;43m0\u001b[39;49m\u001b[43m)\u001b[49m\u001b[43m \u001b[49m\u001b[38;5;241;43m+\u001b[39;49m\u001b[43m \u001b[49m\u001b[43marg\u001b[49m\u001b[38;5;241;43m.\u001b[39;49m\u001b[43mcomponents\u001b[49m\u001b[43m[\u001b[49m\u001b[43mx\u001b[49m\u001b[43m]\u001b[49m\n\u001b[1;32m    211\u001b[0m temp \u001b[38;5;241m=\u001b[39m \u001b[38;5;28mlist\u001b[39m(components\u001b[38;5;241m.\u001b[39mkeys())\n\u001b[1;32m    212\u001b[0m \u001b[38;5;28;01mfor\u001b[39;00m x \u001b[38;5;129;01min\u001b[39;00m temp:\n",
      "File \u001b[0;32m~/.local/lib/python3.10/site-packages/sympy/core/decorators.py:106\u001b[0m, in \u001b[0;36mcall_highest_priority.<locals>.priority_decorator.<locals>.binary_op_wrapper\u001b[0;34m(self, other)\u001b[0m\n\u001b[1;32m    104\u001b[0m         \u001b[38;5;28;01mif\u001b[39;00m f \u001b[38;5;129;01mis\u001b[39;00m \u001b[38;5;129;01mnot\u001b[39;00m \u001b[38;5;28;01mNone\u001b[39;00m:\n\u001b[1;32m    105\u001b[0m             \u001b[38;5;28;01mreturn\u001b[39;00m f(\u001b[38;5;28mself\u001b[39m)\n\u001b[0;32m--> 106\u001b[0m \u001b[38;5;28;01mreturn\u001b[39;00m \u001b[43mfunc\u001b[49m\u001b[43m(\u001b[49m\u001b[38;5;28;43mself\u001b[39;49m\u001b[43m,\u001b[49m\u001b[43m \u001b[49m\u001b[43mother\u001b[49m\u001b[43m)\u001b[49m\n",
      "File \u001b[0;32m~/.local/lib/python3.10/site-packages/sympy/matrices/common.py:2946\u001b[0m, in \u001b[0;36mMatrixArithmetic.__radd__\u001b[0;34m(self, other)\u001b[0m\n\u001b[1;32m   2944\u001b[0m \u001b[38;5;129m@call_highest_priority\u001b[39m(\u001b[38;5;124m'\u001b[39m\u001b[38;5;124m__add__\u001b[39m\u001b[38;5;124m'\u001b[39m)\n\u001b[1;32m   2945\u001b[0m \u001b[38;5;28;01mdef\u001b[39;00m \u001b[38;5;21m__radd__\u001b[39m(\u001b[38;5;28mself\u001b[39m, other):\n\u001b[0;32m-> 2946\u001b[0m     \u001b[38;5;28;01mreturn\u001b[39;00m \u001b[38;5;28;43mself\u001b[39;49m\u001b[43m \u001b[49m\u001b[38;5;241;43m+\u001b[39;49m\u001b[43m \u001b[49m\u001b[43mother\u001b[49m\n",
      "File \u001b[0;32m~/.local/lib/python3.10/site-packages/sympy/core/decorators.py:106\u001b[0m, in \u001b[0;36mcall_highest_priority.<locals>.priority_decorator.<locals>.binary_op_wrapper\u001b[0;34m(self, other)\u001b[0m\n\u001b[1;32m    104\u001b[0m         \u001b[38;5;28;01mif\u001b[39;00m f \u001b[38;5;129;01mis\u001b[39;00m \u001b[38;5;129;01mnot\u001b[39;00m \u001b[38;5;28;01mNone\u001b[39;00m:\n\u001b[1;32m    105\u001b[0m             \u001b[38;5;28;01mreturn\u001b[39;00m f(\u001b[38;5;28mself\u001b[39m)\n\u001b[0;32m--> 106\u001b[0m \u001b[38;5;28;01mreturn\u001b[39;00m \u001b[43mfunc\u001b[49m\u001b[43m(\u001b[49m\u001b[38;5;28;43mself\u001b[39;49m\u001b[43m,\u001b[49m\u001b[43m \u001b[49m\u001b[43mother\u001b[49m\u001b[43m)\u001b[49m\n",
      "File \u001b[0;32m~/.local/lib/python3.10/site-packages/sympy/matrices/common.py:2725\u001b[0m, in \u001b[0;36mMatrixArithmetic.__add__\u001b[0;34m(self, other)\u001b[0m\n\u001b[1;32m   2722\u001b[0m \u001b[38;5;28;01mif\u001b[39;00m \u001b[38;5;28mgetattr\u001b[39m(other, \u001b[38;5;124m'\u001b[39m\u001b[38;5;124mis_MatrixLike\u001b[39m\u001b[38;5;124m'\u001b[39m, \u001b[38;5;28;01mFalse\u001b[39;00m):\n\u001b[1;32m   2723\u001b[0m     \u001b[38;5;28;01mreturn\u001b[39;00m MatrixArithmetic\u001b[38;5;241m.\u001b[39m_eval_add(\u001b[38;5;28mself\u001b[39m, other)\n\u001b[0;32m-> 2725\u001b[0m \u001b[38;5;28;01mraise\u001b[39;00m \u001b[38;5;167;01mTypeError\u001b[39;00m(\u001b[38;5;124m'\u001b[39m\u001b[38;5;124mcannot add \u001b[39m\u001b[38;5;132;01m%s\u001b[39;00m\u001b[38;5;124m and \u001b[39m\u001b[38;5;132;01m%s\u001b[39;00m\u001b[38;5;124m'\u001b[39m \u001b[38;5;241m%\u001b[39m (\u001b[38;5;28mtype\u001b[39m(\u001b[38;5;28mself\u001b[39m), \u001b[38;5;28mtype\u001b[39m(other)))\n",
      "\u001b[0;31mTypeError\u001b[0m: cannot add <class 'sympy.matrices.dense.MutableDenseMatrix'> and <class 'int'>"
     ]
    }
   ],
   "source": [
    "a00, a01, a02, a10, a11, a12, a20, a21, a22 = var('a00 a01 a02 a10 a11 a12 a20 a21 a22', real=True)\n",
    "u00, u01, u02, u10, u11, u12, u20, u21, u22 = var('u00 u01 u02 u10 u11 u12 u20 u21 u22', real=True)\n",
    "s00, s01, s02, s10, s11, s12, s20, s21, s22 = var('s00 s01 s02 s10 s11 s12 s20 s21 s22', real=True)\n",
    "A = Matrix([[a00, a01, a02], [a10, a11, a12], [a20, a21, a22]])\n",
    "U = Matrix([[u00, u01, u02], [u10, u11, u12], [u20, u21, u22]])\n",
    "S = Matrix([[s00, s01, s02], [s10, s11, s12], [s20, s21, s22]])\n",
    "A * r"
   ]
  },
  {
   "cell_type": "code",
   "execution_count": null,
   "id": "6d87e68c",
   "metadata": {},
   "outputs": [],
   "source": [
    "a_si = a_oi + a_hkw(r, v)"
   ]
  },
  {
   "cell_type": "code",
   "execution_count": 6,
   "id": "cdd953c5",
   "metadata": {},
   "outputs": [
    {
     "data": {
      "text/latex": [
       "$\\displaystyle \\mathbf{\\hat{i}_{I}}$"
      ],
      "text/plain": [
       "I.i"
      ]
     },
     "execution_count": 6,
     "metadata": {},
     "output_type": "execute_result"
    }
   ],
   "source": [
    "def rigid_body_rotation(a_s0, a_10, )"
   ]
  }
 ],
 "metadata": {
  "kernelspec": {
   "display_name": "Python 3 (ipykernel)",
   "language": "python",
   "name": "python3"
  },
  "language_info": {
   "codemirror_mode": {
    "name": "ipython",
    "version": 3
   },
   "file_extension": ".py",
   "mimetype": "text/x-python",
   "name": "python",
   "nbconvert_exporter": "python",
   "pygments_lexer": "ipython3",
   "version": "3.10.6"
  }
 },
 "nbformat": 4,
 "nbformat_minor": 5
}
