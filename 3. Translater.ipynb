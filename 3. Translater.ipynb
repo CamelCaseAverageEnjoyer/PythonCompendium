{
 "cells": [
  {
   "cell_type": "markdown",
   "id": "81b7cccf",
   "metadata": {},
   "source": [
    "### Здесь можно ручками каждый абзац вставлять"
   ]
  },
  {
   "cell_type": "code",
   "execution_count": 1,
   "id": "6c6b15b4",
   "metadata": {},
   "outputs": [
    {
     "name": "stdin",
     "output_type": "stream",
     "text": [
      " A latent space model for a family of random graphs as- signs real-valued vectors to nodes of the graph such that edge probabilities are determined by latent positions. Latent space models provide a natural statistical framework for graph vi- sualizing and clustering. A latent space model of particular interest is the Random Dot Product Graph (RDPG), which can be fit using an efficient spectral method; however, this method is based on a heuristic that can fail, even in simple cases. Here, we consider a closely related latent space model, the Logistic RDPG, which uses a logistic link function to map from latent positions to edge likelihoods. Over this model, we show that asymptotically exact maximum likelihood in- ference of latent position vectors can be achieved using an ef- ficient spectral method. Our method involves computing top eigenvectors of a normalized adjacency matrix and scaling eigenvectors using a regression step. The novel regression scaling step is an essential part of the proposed method. In simulations, we show that our proposed method is more ac- curate and more robust than common practices. We also show the effectiveness of our approach over standard real networks of the karate club and political blogs\n"
     ]
    },
    {
     "name": "stdout",
     "output_type": "stream",
     "text": [
      "\n",
      "Модель скрытого пространства для семейства случайных графов присваивает узлам графа вещественные векторы так, что вероятности ребер определяются скрытыми позициями. Модели скрытого пространства обеспечивают естественную статистическую основу для визуализации и кластеризации графов. Моделью скрытого пространства, представляющей особый интерес, является график случайного скалярного произведения (RDPG), который можно аппроксимировать с помощью эффективного спектрального метода; однако этот метод основан на эвристике, которая может дать сбой даже в простых случаях. Здесь мы рассматриваем тесно связанную модель скрытого пространства, логистическую RDPG, которая использует функцию логистической связи для отображения скрытых позиций на вероятности ребер. На основе этой модели мы показываем, что асимптотически точный вывод максимального правдоподобия скрытых векторов положения может быть достигнут с использованием эффективного спектрального метода. Наш метод включает вычисление верхних собственных векторов нормализованной матрицы смежности и масштабирование собственных векторов с использованием шага регрессии. Новый шаг масштабирования регрессии является важной частью предлагаемого метода. В ходе моделирования мы показываем, что предлагаемый нами метод более точен и более надежен, чем общепринятые практики. Мы также показываем эффективность нашего подхода на стандартных реальных сетях клубов каратэ и политических блогах.\n"
     ]
    }
   ],
   "source": [
    "import clipboard\n",
    "from deep_translator import GoogleTranslator\n",
    "text = input().replace('\\n', ' ')\n",
    "text = GoogleTranslator(source='auto', target='ru').translate(text)\n",
    "clipboard.copy(text)\n",
    "print(\"\\n\" + text)"
   ]
  },
  {
   "cell_type": "markdown",
   "id": "4a51bc84",
   "metadata": {},
   "source": [
    "### Здесь можно убрать МаркДаун синтаксиз"
   ]
  },
  {
   "cell_type": "code",
   "execution_count": 2,
   "id": "2c4ad295",
   "metadata": {},
   "outputs": [
    {
     "name": "stdout",
     "output_type": "stream",
     "text": [
      "Важно заботиться о пациенте, следить за врачом, но это время великой боли и страданий. Ибо, говоря в мельчайших подробностях, никто не должен заниматься какой-либо работой, если он не извлечет из нее какой-либо пользы. Не злиться на боль, на выговор в наслаждении, он хочет быть волоском от боли, в надежде, что размножения нет. Если они не ослеплены похотью, они не выходят наружу; виноваты те, кто оставляет свои обязанности и смягчает свое сердце, то есть труд.\n"
     ]
    }
   ],
   "source": [
    "import clipboard\n",
    "text = input().replace('*', '')\n",
    "text = text.replace('$', '')\n",
    "text = text.replace('=', '')\n",
    "text = text.replace('_', '')\n",
    "clipboard.copy(text)"
   ]
  },
  {
   "cell_type": "markdown",
   "id": "b919b493",
   "metadata": {},
   "source": [
    "### PDF конвертер"
   ]
  },
  {
   "cell_type": "code",
   "execution_count": null,
   "id": "bbfd6aa1",
   "metadata": {},
   "outputs": [],
   "source": [
    "import PyPDF2\n",
    "import clipboard\n",
    "from deep_translator import GoogleTranslator\n",
    "\n",
    "pdffileobj=open('papers/Erica STRATEGIES FOR ON-ORBIT ASSEMBLY OF MODULAR SPACECRAFT.pdf','rb')\n",
    "pdfreader=PyPDF2.PdfReader(pdffileobj)\n",
    "\n",
    "anw = \"\"\n",
    "for page in pdfreader.pages:\n",
    "    text = page.extract_text().replace('\\n', ' ')\n",
    "    translated = GoogleTranslator(source='auto', target='ru').translate(text)\n",
    "    anw += translated\n",
    "\n",
    "print(anw)\n",
    "clipboard.copy"
   ]
  },
  {
   "cell_type": "markdown",
   "id": "4e034e74",
   "metadata": {},
   "source": [
    "### Проект \"мега-хитрый жук\" (not complete)"
   ]
  },
  {
   "cell_type": "code",
   "execution_count": null,
   "id": "82bfa1fa",
   "metadata": {},
   "outputs": [],
   "source": [
    "from pdf2image import convert_from_path\n",
    "from googletrans import Translator\n",
    "from PIL import Image \n",
    "import pytesseract\n",
    "\n",
    "images = convert_from_path('papers/IAC-07-C1.2.07.pdf')\n",
    "\n",
    "for i in range(len(images)):\n",
    "    images[i].save('papers/tmp.jpg', 'JPEG')\n",
    "    img = Image.open('papers/tmp.jpg')\n",
    "    result = pytesseract.image_to_string(img)\n",
    "    p = Translator() \n",
    "    p_translated = p.translate(result, dest='ru')\n",
    "    translated = str(p_translated.text)\n",
    "    print(translated)"
   ]
  }
 ],
 "metadata": {
  "kernelspec": {
   "display_name": "Python 3 (ipykernel)",
   "language": "python",
   "name": "python3"
  },
  "language_info": {
   "codemirror_mode": {
    "name": "ipython",
    "version": 3
   },
   "file_extension": ".py",
   "mimetype": "text/x-python",
   "name": "python",
   "nbconvert_exporter": "python",
   "pygments_lexer": "ipython3",
   "version": "3.10.12"
  }
 },
 "nbformat": 4,
 "nbformat_minor": 5
}
