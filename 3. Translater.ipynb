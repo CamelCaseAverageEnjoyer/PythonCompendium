{
 "cells": [
  {
   "cell_type": "markdown",
   "id": "81b7cccf",
   "metadata": {},
   "source": [
    "### Здесь можно ручками каждый абзац вставлять"
   ]
  },
  {
   "cell_type": "code",
   "execution_count": 9,
   "id": "6c6b15b4",
   "metadata": {},
   "outputs": [
    {
     "name": "stdin",
     "output_type": "stream",
     "text": [
      " Our next step is to define and characterize a space mission to meet the objectives. Step 3 begins this process by developing alternative mission concepts. A mission concept or concept of operations is a broad statement of how the mission will work in practice. It includes issues such as how the data will be sensed and delivered to the end user, how the mission will be controlled, and the overall mission timeline. Alternative mission concepts include, for example, conceptually distinct approaches to the prob- lem such as the very low-cost approach defined in Chap. 22. These would also include 4 The Space Mission Analysis and Design Process 1.1 different orbits or different wavelength bands for fire detection that would require dramatically dissimilar systems. Step 4 defines alternate combinations of mission elements or the space mission architecture to. meet the requirements of the mission concept. The space mission architecture is the mission concept plus a definition of each of the elements of the mission shown in Fig. 1-3 (Sec. 1.2). A good way to begin Step 4 is to look at the mission elements in Fig. 1-3 and consider what alternatives for each of them would best meet mission objectives. In any real system, many things influence overall cost, performance, or the design of detailed components. However, these are influenced mainly by a relatively small number of key parameters or components, called drivers. Thus, there may be cost, performance, or system drivers which affect the design of the overall space system. In Step 5 we identify the principal cost and performance drivers for each alternative mission concept. For most space missions, system drivers include the number of satellites, altitude, power, and instrument size and weight. (Sec. 2.3 gives a more detailed 1ist.) By explicitly identifying the system drivers, we can concentrate our effort on parameters having the most impact on the design and therefore on the cost of the space mission. This method improves our chances of getting the best possible design within the available budget.\n"
     ]
    },
    {
     "name": "stdout",
     "output_type": "stream",
     "text": [
      "\n",
      "Наш следующий шаг — определить и охарактеризовать космическую миссию для достижения целей. Шаг 3 начинает этот процесс с разработки альтернативных концепций миссии. Концепция миссии или концепция операций — это общее заявление о том, как миссия будет работать на практике. Она включает такие вопросы, как то, как данные будут считываться и доставляться конечному пользователю, как будет управляться миссия и общая временная шкала миссии. Альтернативные концепции миссии включают, например, концептуально различные подходы к проблеме, такие как очень недорогой подход, определенный в Главе 22. Они также будут включать 4 Процесс анализа и проектирования космической миссии 1.1 различные орбиты или различные диапазоны длин волн для обнаружения пожара, которые потребуют совершенно разных систем. Шаг 4 определяет альтернативные комбинации элементов миссии или архитектуру космической миссии для удовлетворения требований концепции миссии. Архитектура космической миссии — это концепция миссии плюс определение каждого из элементов миссии, показанных на Рис. 1-3 (Раздел 1.2). Хороший способ начать Шаг 4 — рассмотреть элементы миссии на рис. 1-3 и подумать, какие альтернативы для каждого из них лучше всего соответствовали бы целям миссии. В любой реальной системе многие факторы влияют на общую стоимость, производительность или конструкцию подробных компонентов. Однако на них в основном влияет относительно небольшое количество ключевых параметров или компонентов, называемых драйверами. Таким образом, могут быть драйверы стоимости, производительности или системы, которые влияют на конструкцию всей космической системы. На Шаге 5 мы определяем основные драйверы стоимости и производительности для каждой альтернативной концепции миссии. Для большинства космических миссий драйверы системы включают количество спутников, высоту, мощность, а также размер и вес инструмента. (В Разделе 2.3 дается более подробный список.) Явно определяя драйверы системы, мы можем сосредоточить наши усилия на параметрах, которые оказывают наибольшее влияние на конструкцию и, следовательно, на стоимость космической миссии. Этот метод повышает наши шансы получить наилучшую возможную конструкцию в рамках имеющегося бюджета.\n"
     ]
    }
   ],
   "source": [
    "import clipboard\n",
    "from deep_translator import GoogleTranslator\n",
    "text = input().replace('-\\n', '')\n",
    "text = text.replace('\\n', ' ')\n",
    "text = GoogleTranslator(source='auto', target='ru').translate(text)\n",
    "clipboard.copy(text)\n",
    "print(\"\\n\" + text)"
   ]
  },
  {
   "cell_type": "markdown",
   "id": "4a51bc84",
   "metadata": {},
   "source": [
    "### Здесь можно убрать МаркДаун синтаксиз"
   ]
  },
  {
   "cell_type": "code",
   "execution_count": 2,
   "id": "2c4ad295",
   "metadata": {},
   "outputs": [
    {
     "name": "stdout",
     "output_type": "stream",
     "text": [
      "Важно заботиться о пациенте, следить за врачом, но это время великой боли и страданий. Ибо, говоря в мельчайших подробностях, никто не должен заниматься какой-либо работой, если он не извлечет из нее какой-либо пользы. Не злиться на боль, на выговор в наслаждении, он хочет быть волоском от боли, в надежде, что размножения нет. Если они не ослеплены похотью, они не выходят наружу; виноваты те, кто оставляет свои обязанности и смягчает свое сердце, то есть труд.\n"
     ]
    }
   ],
   "source": [
    "import clipboard\n",
    "text = input().replace('*', '')\n",
    "text = text.replace('$', '')\n",
    "text = text.replace('=', '')\n",
    "text = text.replace('_', '')\n",
    "clipboard.copy(text)"
   ]
  },
  {
   "cell_type": "markdown",
   "id": "b919b493",
   "metadata": {},
   "source": [
    "### PDF конвертер"
   ]
  },
  {
   "cell_type": "code",
   "execution_count": null,
   "id": "bbfd6aa1",
   "metadata": {},
   "outputs": [],
   "source": [
    "import PyPDF2\n",
    "import clipboard\n",
    "from deep_translator import GoogleTranslator\n",
    "\n",
    "pdffileobj=open('papers/Erica STRATEGIES FOR ON-ORBIT ASSEMBLY OF MODULAR SPACECRAFT.pdf','rb')\n",
    "pdfreader=PyPDF2.PdfReader(pdffileobj)\n",
    "\n",
    "anw = \"\"\n",
    "for page in pdfreader.pages:\n",
    "    text = page.extract_text().replace('\\n', ' ')\n",
    "    translated = GoogleTranslator(source='auto', target='ru').translate(text)\n",
    "    anw += translated\n",
    "\n",
    "print(anw)\n",
    "clipboard.copy"
   ]
  },
  {
   "cell_type": "markdown",
   "id": "4e034e74",
   "metadata": {},
   "source": [
    "### Проект \"мега-хитрый жук\" (not complete)"
   ]
  },
  {
   "cell_type": "code",
   "execution_count": null,
   "id": "82bfa1fa",
   "metadata": {},
   "outputs": [],
   "source": [
    "from pdf2image import convert_from_path\n",
    "from googletrans import Translator\n",
    "from PIL import Image \n",
    "import pytesseract\n",
    "\n",
    "images = convert_from_path('papers/IAC-07-C1.2.07.pdf')\n",
    "\n",
    "for i in range(len(images)):\n",
    "    images[i].save('papers/tmp.jpg', 'JPEG')\n",
    "    img = Image.open('papers/tmp.jpg')\n",
    "    result = pytesseract.image_to_string(img)\n",
    "    p = Translator() \n",
    "    p_translated = p.translate(result, dest='ru')\n",
    "    translated = str(p_translated.text)\n",
    "    print(translated)"
   ]
  }
 ],
 "metadata": {
  "kernelspec": {
   "display_name": "Python 3 (ipykernel)",
   "language": "python",
   "name": "python3"
  },
  "language_info": {
   "codemirror_mode": {
    "name": "ipython",
    "version": 3
   },
   "file_extension": ".py",
   "mimetype": "text/x-python",
   "name": "python",
   "nbconvert_exporter": "python",
   "pygments_lexer": "ipython3",
   "version": "3.10.12"
  }
 },
 "nbformat": 4,
 "nbformat_minor": 5
}
