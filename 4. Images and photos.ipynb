{
 "cells": [
  {
   "cell_type": "markdown",
   "id": "d9cca75d-31c9-430f-bb26-349973e2282c",
   "metadata": {},
   "source": [
    "### <span style=\"color:#4f6da9\">NEF to</span> <span style=\"color:#0bb79a\">JPG</span> "
   ]
  },
  {
   "cell_type": "code",
   "execution_count": null,
   "id": "4eb5c53e-a562-447d-ac7c-0c8cecb4d633",
   "metadata": {},
   "outputs": [],
   "source": [
    "a=\"memes\\*.NEF\"\n",
    "\n",
    "# Import\n",
    "import rawpy\n",
    "import imageio\n",
    "from tqdm.notebook import tqdm\n",
    "\n",
    "# Algorythm\n",
    "for i in tqdm(a):\n",
    "    with rawpy.imread(i) as raw:\n",
    "        rgb = raw.postprocess()\n",
    "    imageio.imsave(i.replace('NEF','jpg'), rgb)"
   ]
  }
 ],
 "metadata": {
  "kernelspec": {
   "display_name": "Python 3 (ipykernel)",
   "language": "python",
   "name": "python3"
  },
  "language_info": {
   "codemirror_mode": {
    "name": "ipython",
    "version": 3
   },
   "file_extension": ".py",
   "mimetype": "text/x-python",
   "name": "python",
   "nbconvert_exporter": "python",
   "pygments_lexer": "ipython3",
   "version": "3.10.12"
  }
 },
 "nbformat": 4,
 "nbformat_minor": 5
}
