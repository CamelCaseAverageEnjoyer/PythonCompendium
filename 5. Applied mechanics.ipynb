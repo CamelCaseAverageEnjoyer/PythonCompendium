{
 "cells": [
  {
   "cell_type": "markdown",
   "id": "d1b064f1-4303-4399-b130-0cb88f96e5d7",
   "metadata": {},
   "source": [
    "### <span style=\"color:#4f6da9\">Обучение</span> <span style=\"color:#0bb79a\">без подкрепления</span> "
   ]
  },
  {
   "cell_type": "code",
   "execution_count": null,
   "id": "b01a3d90-c6f3-41c0-8885-46fbd31c8fef",
   "metadata": {},
   "outputs": [],
   "source": []
  },
  {
   "cell_type": "markdown",
   "id": "2cf17cbc-ca88-41d9-9417-f4f1d5c9e535",
   "metadata": {},
   "source": [
    "### <span style=\"color:#4f6da9\">Модуль</span> <span style=\"color:#0bb79a\">Drake</span> "
   ]
  },
  {
   "cell_type": "code",
   "execution_count": null,
   "id": "3d24d2f8-f8d1-4f8e-9351-f69a5ab15a94",
   "metadata": {
    "scrolled": true
   },
   "outputs": [],
   "source": [
    "!pip install pydrake"
   ]
  },
  {
   "cell_type": "code",
   "execution_count": 5,
   "id": "9ed81a80-0d85-4ef9-bb18-834da54598c1",
   "metadata": {},
   "outputs": [],
   "source": [
    "import pydrake"
   ]
  },
  {
   "cell_type": "code",
   "execution_count": null,
   "id": "33d1042d-f88b-4298-9a2f-6a67ca5e33f7",
   "metadata": {},
   "outputs": [],
   "source": [
    "dir(pydrake)"
   ]
  },
  {
   "cell_type": "markdown",
   "id": "dc912813-e342-47c1-ac01-5ae6d5240b86",
   "metadata": {},
   "source": [
    "### <span style=\"color:#4f6da9\">Модуль</span> <span style=\"color:#0bb79a\">Gym</span> "
   ]
  },
  {
   "cell_type": "code",
   "execution_count": null,
   "id": "6edf1ef2-0259-48c8-b06e-d96709e37c2b",
   "metadata": {
    "scrolled": true
   },
   "outputs": [],
   "source": [
    "!pip install gymnasium"
   ]
  },
  {
   "cell_type": "code",
   "execution_count": 36,
   "id": "9c06ca65-2912-4c86-b96d-e47dfe4f14b6",
   "metadata": {},
   "outputs": [],
   "source": [
    "import gymnasium as gym"
   ]
  },
  {
   "cell_type": "code",
   "execution_count": null,
   "id": "f48849c5-7de9-4403-88ae-b2a1339d2f79",
   "metadata": {},
   "outputs": [],
   "source": [
    "env = gym.make(\"LunarLander-v2\", render_mode=\"human\")\n",
    "observation, info = env.reset(seed=42)\n",
    "for _ in range(1000):\n",
    "   action = env.action_space.sample()  # this is where you would insert your policy\n",
    "   observation, reward, terminated, truncated, info = env.step(action)\n",
    "\n",
    "   if terminated or truncated:\n",
    "      observation, info = env.reset()\n",
    "\n",
    "env.close()"
   ]
  }
 ],
 "metadata": {
  "kernelspec": {
   "display_name": "Python 3 (ipykernel)",
   "language": "python",
   "name": "python3"
  },
  "language_info": {
   "codemirror_mode": {
    "name": "ipython",
    "version": 3
   },
   "file_extension": ".py",
   "mimetype": "text/x-python",
   "name": "python",
   "nbconvert_exporter": "python",
   "pygments_lexer": "ipython3",
   "version": "3.10.12"
  }
 },
 "nbformat": 4,
 "nbformat_minor": 5
}
