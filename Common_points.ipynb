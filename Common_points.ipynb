{
  "nbformat": 4,
  "nbformat_minor": 0,
  "metadata": {
    "kernelspec": {
      "display_name": "Python 3",
      "language": "python",
      "name": "python3"
    },
    "language_info": {
      "codemirror_mode": {
        "name": "ipython",
        "version": 3
      },
      "file_extension": ".py",
      "mimetype": "text/x-python",
      "name": "python",
      "nbconvert_exporter": "python",
      "pygments_lexer": "ipython3",
      "version": "3.8.5"
    },
    "colab": {
      "name": "Common points.ipynb",
      "provenance": []
    }
  },
  "cells": [
    {
      "cell_type": "code",
      "metadata": {
        "id": "XdTNTLpdfu2N"
      },
      "source": [
        "delta = 0.0001\n",
        "N = 500"
      ],
      "execution_count": null,
      "outputs": []
    },
    {
      "cell_type": "code",
      "metadata": {
        "id": "pBm2wIrrfu2S"
      },
      "source": [
        "import matplotlib.pyplot as p\n",
        "import math as mt\n",
        "import numpy as np\n",
        "def binpoisk(func1, func2, *arg):\n",
        "    m = arg[0]\n",
        "    n = arg[1]\n",
        "    print('Starting binpoisk --> ', m, ': ', func1(m), func2(m), n, ': ', func1(n), func2(n))\n",
        "    while (n - m > delta):\n",
        "        if ((func1((m+n)/2)-func2((m+n)/2)) * (func1(m) - func2(m)) > 0):\n",
        "            m = (m+n)/2\n",
        "        else:\n",
        "            n = (m+n)/2\n",
        "        print ('m: ', m, 'n: ', n)\n",
        "    return m"
      ],
      "execution_count": null,
      "outputs": []
    },
    {
      "cell_type": "code",
      "metadata": {
        "id": "gvRh7fgdfu2X",
        "outputId": "381508b9-04a6-4819-a902-041a686f3413"
      },
      "source": [
        "x = np.linspace(-1, 1, N)\n",
        "'''\n",
        "y1 = list(range(N))\n",
        "y2 = list(range(N))\n",
        "y3 = list(range(N))\n",
        "'''\n",
        "    \n",
        "def yy1(x):\n",
        "    return mt.tan(x)\n",
        "def yy2(x):\n",
        "    return mt.sqrt(mt.fabs(1 - x*x))\n",
        "def yy3(x):\n",
        "    return -mt.sqrt(mt.fabs(1 - x*x))\n",
        "'''\n",
        "for i in range(len(x)):\n",
        "    y1[i] = mt.tan(x[i])\n",
        "    y2[i] = mt.sqrt(mt.fabs(1 - x[i]*x[i]))\n",
        "    y3[i] = -mt.sqrt(mt.fabs(1 - x[i]*x[i]))\n",
        "'''\n",
        "y1 = []\n",
        "y2 = []\n",
        "y3 = []\n",
        "\n",
        "for ix in x:\n",
        "    y1.append(mt.tan(ix))\n",
        "    y2.append(mt.sqrt(mt.fabs(1 - ix*ix)))\n",
        "    y3.append(-mt.sqrt(mt.fabs(1 - ix*ix)))\n",
        "    \n",
        "    \n",
        "    \n",
        "b = binpoisk(yy1, yy2, 0.25, 0.75)\n",
        "print (b)\n",
        "d = binpoisk(yy1, yy3, -0.75, -0.25)\n",
        "print (d)\n",
        "p.plot(x, y1)\n",
        "p.plot(x, y2)\n",
        "p.plot(x, y3)\n",
        "p.axis([-2, 2, -1.5, 1.5])\n",
        "p.scatter (b, yy1(b))\n",
        "p.scatter (d, yy1(d))\n",
        "p.show"
      ],
      "execution_count": null,
      "outputs": [
        {
          "name": "stdout",
          "output_type": "stream",
          "text": [
            "Starting binpoisk -->  0.25 :  0.25534192122103627 0.9682458365518543 0.75 :  0.9315964599440725 0.6614378277661477\n",
            "m:  0.5 n:  0.75\n",
            "m:  0.625 n:  0.75\n",
            "m:  0.625 n:  0.6875\n",
            "m:  0.625 n:  0.65625\n",
            "m:  0.640625 n:  0.65625\n",
            "m:  0.6484375 n:  0.65625\n",
            "m:  0.6484375 n:  0.65234375\n",
            "m:  0.6484375 n:  0.650390625\n",
            "m:  0.6494140625 n:  0.650390625\n",
            "m:  0.6494140625 n:  0.64990234375\n",
            "m:  0.649658203125 n:  0.64990234375\n",
            "m:  0.6497802734375 n:  0.64990234375\n",
            "m:  0.64984130859375 n:  0.64990234375\n",
            "0.64984130859375\n",
            "Starting binpoisk -->  -0.75 :  -0.9315964599440725 -0.6614378277661477 -0.25 :  -0.25534192122103627 -0.9682458365518543\n",
            "m:  -0.75 n:  -0.5\n",
            "m:  -0.75 n:  -0.625\n",
            "m:  -0.6875 n:  -0.625\n",
            "m:  -0.65625 n:  -0.625\n",
            "m:  -0.65625 n:  -0.640625\n",
            "m:  -0.65625 n:  -0.6484375\n",
            "m:  -0.65234375 n:  -0.6484375\n",
            "m:  -0.650390625 n:  -0.6484375\n",
            "m:  -0.650390625 n:  -0.6494140625\n",
            "m:  -0.64990234375 n:  -0.6494140625\n",
            "m:  -0.64990234375 n:  -0.649658203125\n",
            "m:  -0.64990234375 n:  -0.6497802734375\n",
            "m:  -0.64990234375 n:  -0.64984130859375\n",
            "-0.64990234375\n"
          ]
        },
        {
          "data": {
            "text/plain": [
              "<function matplotlib.pyplot.show(*args, **kw)>"
            ]
          },
          "execution_count": 9,
          "metadata": {},
          "output_type": "execute_result"
        },
        {
          "data": {
            "image/png": "[encoded data removed]",
            "text/plain": [
              "<Figure size 432x288 with 1 Axes>"
            ]
          },
          "metadata": {
            "needs_background": "light"
          },
          "output_type": "display_data"
        }
      ]
    },
    {
      "cell_type": "code",
      "metadata": {
        "id": "XOTpLRRifu2a"
      },
      "source": [
        ""
      ],
      "execution_count": null,
      "outputs": []
    }
  ]
}