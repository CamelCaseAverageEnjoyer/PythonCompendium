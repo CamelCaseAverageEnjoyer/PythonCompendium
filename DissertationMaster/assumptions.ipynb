{
 "cells": [
  {
   "cell_type": "markdown",
   "id": "8a02fa69-2b7d-48d0-84cf-7a85763cb204",
   "metadata": {},
   "source": [
    "![](../storage/banners/12_assumptions.png)"
   ]
  },
  {
   "cell_type": "markdown",
   "id": "dd157eb8-753c-4531-8bdc-d1d325626179",
   "metadata": {},
   "source": [
    "##### Предположения о манипуляторе\n",
    "\n",
    "$L = \\frac{v^2}{2a}$"
   ]
  },
  {
   "cell_type": "code",
   "execution_count": 20,
   "id": "33e8a67d-e613-4b5a-b162-185112b334d8",
   "metadata": {},
   "outputs": [
    {
     "name": "stdout",
     "output_type": "stream",
     "text": [
      "Характерная скорость отталкивания КА: 5.77 см/с\n"
     ]
    }
   ],
   "source": [
    "import numpy as np\n",
    "\n",
    "# Поступательная сила в Ньютонах\n",
    "F = 0.1\n",
    "\n",
    "# Длина манипулятора в метрах\n",
    "L = 0.5\n",
    "\n",
    "# Масса аппарата вместе со стержнем\n",
    "m = 20 + 1 * 10\n",
    "\n",
    "v = np.sqrt(L * 2 * F/m)\n",
    "print(f\"Характерная скорость отталкивания КА: {round(100*v,2)} см/с\")"
   ]
  }
 ],
 "metadata": {
  "kernelspec": {
   "display_name": "Python 3 (ipykernel)",
   "language": "python",
   "name": "python3"
  },
  "language_info": {
   "codemirror_mode": {
    "name": "ipython",
    "version": 3
   },
   "file_extension": ".py",
   "mimetype": "text/x-python",
   "name": "python",
   "nbconvert_exporter": "python",
   "pygments_lexer": "ipython3",
   "version": "3.10.12"
  }
 },
 "nbformat": 4,
 "nbformat_minor": 5
}
