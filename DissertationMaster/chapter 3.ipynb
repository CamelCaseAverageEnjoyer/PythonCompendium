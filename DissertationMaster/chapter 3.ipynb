{
 "cells": [
  {
   "cell_type": "markdown",
   "id": "6e29e58e-dd2a-42a7-a047-02e9a7c2154c",
   "metadata": {},
   "source": [
    "### <span style=\"color:#91299A\">Вывод уравнений для ХКУ-приближения</span> \n",
    "\n",
    "<span style=\"color:#85c1e9\">Спокойствие, только спокойствие...</span> "
   ]
  },
  {
   "cell_type": "markdown",
   "id": "92ca4627-47c3-4ac3-bb74-ce3b536ee959",
   "metadata": {},
   "source": [
    "![](../storage/banners/1.gif)"
   ]
  },
  {
   "cell_type": "markdown",
   "id": "1d907841-da84-43ba-8701-bdb33f9ed964",
   "metadata": {},
   "source": [
    "##### <span style=\"color:#2c3e50\">Пересчёт</span> "
   ]
  },
  {
   "cell_type": "code",
   "execution_count": 104,
   "id": "ab410204-0174-47f6-b596-687ec5166a53",
   "metadata": {},
   "outputs": [
    {
     "data": {
      "text/latex": [
       "$\\displaystyle \\frac{w_{0} \\left(- 6 t w_{0} z_{0} \\sin{\\left(t w_{0} \\right)} + x_{0} \\sin{\\left(t w_{0} \\right)} - x_{1} \\sin{\\left(t w_{0} \\right)} - 14 z_{0} \\cos{\\left(t w_{0} \\right)} + 14 z_{0} + 2 z_{1} \\cos{\\left(t w_{0} \\right)} - 2 z_{1}\\right)}{3 t w_{0} \\sin{\\left(t w_{0} \\right)} + 8 \\cos{\\left(t w_{0} \\right)} - 8}$"
      ],
      "text/plain": [
       "w_0*(-6*t*w_0*z_0*sin(t*w_0) + x_0*sin(t*w_0) - x_1*sin(t*w_0) - 14*z_0*cos(t*w_0) + 14*z_0 + 2*z_1*cos(t*w_0) - 2*z_1)/(3*t*w_0*sin(t*w_0) + 8*cos(t*w_0) - 8)"
      ]
     },
     "execution_count": 104,
     "metadata": {},
     "output_type": "execute_result"
    }
   ],
   "source": [
    "from sympy import *\n",
    "import numpy as np\n",
    "\n",
    "t, x1, y1, z1, x0, y0, z0, vx0, vy0, vz0, w = var(\"t x_1 y_1 z_1 x_0 y_0 z_0 v^x_0 v^y_0 v^z_0 w_0\")\n",
    "c1 = 2 * z0 + vx0/w\n",
    "c2 = vz0/w\n",
    "c3 = -3 * z0 - 2 * vx0/w\n",
    "c4 = x0 - 2 * vz0/w\n",
    "c5 = vy0/w\n",
    "c6 = y0\n",
    "eq = [Eq(x1, c4 - 3*c1*w*t + 2*c2*cos(w*t) - 2*c3*sin(w*t)),\n",
    "      Eq(y1, c5*sin(w*t) + c6*cos(w*t)),\n",
    "      Eq(z1, 2*c1 + c2*sin(w*t) + c3*cos(w*t)),]\n",
    "anw = solve(eq, [vx0, vy0, vz0])\n",
    "anw[vx0].simplify().simplify()"
   ]
  },
  {
   "cell_type": "code",
   "execution_count": 2,
   "id": "1469d45b-a637-4a8c-9f0e-ab5b93899896",
   "metadata": {},
   "outputs": [
    {
     "data": {
      "text/latex": [
       "$\\displaystyle \\frac{w_{0} \\left(- y_{0} \\cos{\\left(t w_{0} \\right)} + y_{1}\\right)}{\\sin{\\left(t w_{0} \\right)}}$"
      ],
      "text/plain": [
       "w_0*(-y_0*cos(t*w_0) + y_1)/sin(t*w_0)"
      ]
     },
     "execution_count": 2,
     "metadata": {},
     "output_type": "execute_result"
    }
   ],
   "source": [
    "anw[vy0].simplify()"
   ]
  },
  {
   "cell_type": "code",
   "execution_count": 58,
   "id": "91f0cce8-9e66-4228-bd1c-ee3f6296d3f1",
   "metadata": {},
   "outputs": [
    {
     "data": {
      "text/latex": [
       "$\\displaystyle \\frac{w_{0} \\left(- 3 t w_{0} z_{0} \\cos{\\left(t w_{0} \\right)} + 3 t w_{0} z_{1} + 2 x_{0} \\cos{\\left(t w_{0} \\right)} - 2 x_{0} - 2 x_{1} \\cos{\\left(t w_{0} \\right)} + 2 x_{1} + 4 z_{0} \\sin{\\left(t w_{0} \\right)} - 4 z_{1} \\sin{\\left(t w_{0} \\right)}\\right)}{3 t w_{0} \\sin{\\left(t w_{0} \\right)} + 8 \\cos{\\left(t w_{0} \\right)} - 8}$"
      ],
      "text/plain": [
       "w_0*(-3*t*w_0*z_0*cos(t*w_0) + 3*t*w_0*z_1 + 2*x_0*cos(t*w_0) - 2*x_0 - 2*x_1*cos(t*w_0) + 2*x_1 + 4*z_0*sin(t*w_0) - 4*z_1*sin(t*w_0))/(3*t*w_0*sin(t*w_0) + 8*cos(t*w_0) - 8)"
      ]
     },
     "execution_count": 58,
     "metadata": {},
     "output_type": "execute_result"
    }
   ],
   "source": [
    "anw[vz0].simplify().simplify()"
   ]
  },
  {
   "cell_type": "markdown",
   "id": "06e3df27-5907-458e-a8f9-7012e91c8211",
   "metadata": {},
   "source": [
    "##### <span style=\"color:#2c3e50\">В статье (чуть короче запись)</span> "
   ]
  },
  {
   "cell_type": "code",
   "execution_count": 105,
   "id": "3ae08906-f577-45ec-838c-1b057f6e2743",
   "metadata": {},
   "outputs": [
    {
     "name": "stdout",
     "output_type": "stream",
     "text": [
      "Δx = -5.09379918527220E-18\n",
      "Δy = 0\n",
      "Δz = 5.03037725948091E-18\n"
     ]
    }
   ],
   "source": [
    "rr = 100\n",
    "rv = 0.1\n",
    "params = [(t, 4000), (w, 0.0011),\n",
    "          (x0, np.random.uniform(-rr, rr)), (y0, np.random.uniform(-rr, rr)), (z0, np.random.uniform(-rr, rr)),\n",
    "          (x1, np.random.uniform(-rr, rr)), (y1, np.random.uniform(-rr, rr)), (z1, np.random.uniform(-rr, rr))]\n",
    "\n",
    "den = -3*t*w*sin(t*w) - 8*cos(t*w) + 8\n",
    "num1 = w * ((6*t*w*z0 + x1 - x0)*sin(t*w) + (14*z0 - 2*z1)*(cos(t*w) - 1))\n",
    "num2 = w * ((3*t*w*z0 + 2*x1 - 2*x0)*cos(t*w) - 3*t*w*z1 + 2*x0 - 2*x1 + 4*(z1 - z0)*sin(t*w))\n",
    "vx0_code = num1 / den\n",
    "vy0_code = w * (-y0 * cos(t * w) + y1) / sin(t * w)\n",
    "vz0_code =  num2 / den\n",
    "print(f\"Разность двух записей: Δx = {(vx0_code - anw[vx0]).subs(params)}\")\n",
    "print(f\"Разность двух записей: Δy = {(vy0_code - anw[vy0]).subs(params)}\")\n",
    "print(f\"Разность двух записей: Δz = {(vz0_code - anw[vz0]).subs(params)}\")"
   ]
  },
  {
   "cell_type": "markdown",
   "id": "a5f7b509-2883-428c-956b-05fa39ec6e6e",
   "metadata": {},
   "source": [
    "### <span style=\"color:#91299A\">Алгоритм 2: адаптация метода Ньютона</span> \n",
    "\n",
    "<span style=\"color:#85c1e9\">Однажды ты перестанешь идти путём тыка</span> "
   ]
  },
  {
   "cell_type": "markdown",
   "id": "b2d2c8f6-8342-4d37-a9fa-f871f497f4ee",
   "metadata": {},
   "source": [
    "![](../storage/banners/2.gif)"
   ]
  },
  {
   "cell_type": "markdown",
   "id": "2ac238fb-6b6e-407b-aace-d89d9dbea3fe",
   "metadata": {},
   "source": [
    "##### <span style=\"color:#2ecc71\">Подумаем головой</span>\n",
    "Стандартный метод Ньютона сказал бы следующее:\n",
    "$$\\nabla \\Phi = [\\frac{\\partial \\Phi}{\\partial \\upsilon^x_0},\\frac{\\partial \\Phi}{\\partial \\upsilon^y_0},\\frac{\\partial \\Phi}{\\partial \\upsilon^z_0}]^T$$\n",
    "$$\\boldsymbol{\\upsilon_0}^{i+1} = \\boldsymbol{\\upsilon_0}^{i} - \\Big(\\frac{D \\nabla \\Phi}{D \\boldsymbol{\\upsilon_0}} \\Big)^{-1} \\nabla \\Phi = \\boldsymbol{\\upsilon_0}^{i} -\n",
    "\\begin{bmatrix}\n",
    "\\frac{\\partial^2 \\Phi}{\\partial \\upsilon^x_0 \\partial \\upsilon^x_0} & \\frac{\\partial^2 \\Phi}{\\partial \\upsilon^x_0 \\partial \\upsilon^y_0} & \\frac{\\partial^2 \\Phi}{\\partial \\upsilon^x_0 \\partial \\upsilon^z_0}\\\\\n",
    "\\frac{\\partial^2 \\Phi}{\\partial \\upsilon^x_0 \\partial \\upsilon^y_0} & \\frac{\\partial^2 \\Phi}{\\partial \\upsilon^y_0 \\partial \\upsilon^y_0} & \\frac{\\partial^2 \\Phi}{\\partial \\upsilon^y_0 \\partial \\upsilon^z_0}\\\\\n",
    "\\frac{\\partial^2 \\Phi}{\\partial \\upsilon^x_0 \\partial \\upsilon^z_0} & \\frac{\\partial^2 \\Phi}{\\partial \\upsilon^y_0 \\partial \\upsilon^z_0} & \\frac{\\partial^2 \\Phi}{\\partial \\upsilon^z_0 \\partial \\upsilon^z_0}\n",
    "\\end{bmatrix} ^{-1} \\nabla \\Phi$$\n",
    "Для оценки матрицы Грамма нужно интегрировать не $4=1+3$ а $7=1+3*2$ траекторий на каждую итерацию метода Ньютона. Ну вроде как <span style=\"color:#2e86c1\">в 2 раза медленнее, можно же быстрее</span>.\n",
    "\n",
    "----\n",
    "##### <span style=\"color:#2e86c1\">А теперь ещё раз как следует подумаем головой</span>\n",
    "Как видно по рисунку 8, функция $\\Phi$ по определению неотрицательна $\\to$ решаем то задачу $$\\Phi^* \\to 0$$ что идентично $\\Phi^* \\to \\min$. А вот зачем туда-обратно переделывать задачи? Иначе никак вроде.\n",
    "\n",
    "---\n",
    "Зачем я делаю вектор-целевую функцию\n",
    "$$\\boldsymbol{\\Phi}^* = \\frac{\\boldsymbol{r}}{r} \\Phi^*$$\n",
    "Википедия гласит: Можно использовать метод Ньютона для решения систем из k уравнений, что сводится к нахождению (одновременных) нулей из k непрерывно дифференцируемых функций $f:R^k\\to R$. Это эквивалентно нахождению нулей одной векторнозначной функции $F:R^k\\to R^k$.\n",
    "\n",
    "Как я понял: если аргумент есть 3-вектор, то и целевая функция должна быть 3-вектором.\n",
    "\n",
    "Вопрос на засыпку: вообще важно в каком направлении делать вектор из $\\Phi^*$? "
   ]
  },
  {
   "cell_type": "markdown",
   "id": "3ae5bc1b-50c6-4ed7-bf3c-559b6ab189a6",
   "metadata": {},
   "source": [
    "---\n",
    "---\n",
    "---\n",
    "---\n",
    "---\n",
    "##### <span style=\"color:#a6acaf\">Примерно на этом моменте у меня ничего не получилось:</span> \n",
    "##### <span style=\"color:#2c3e50\">Целевая функция как вектор</span> "
   ]
  },
  {
   "cell_type": "code",
   "execution_count": 158,
   "id": "d8a576ad-9d77-43fe-8d63-d41efedcb28a",
   "metadata": {},
   "outputs": [
    {
     "data": {
      "text/latex": [
       "$\\displaystyle \\left[\\begin{matrix}\\sqrt{\\left(r^{x}\\right)^{2}{\\left(v^{x}_{0},v^{y}_{0},v^{z}_{0} \\right)} + \\left(r^{y}\\right)^{2}{\\left(v^{x}_{0},v^{y}_{0},v^{z}_{0} \\right)} + \\left(r^{z}\\right)^{2}{\\left(v^{x}_{0},v^{y}_{0},v^{z}_{0} \\right)}} r^{x}{\\left(v^{x}_{0},v^{y}_{0},v^{z}_{0} \\right)}\\\\\\sqrt{\\left(r^{x}\\right)^{2}{\\left(v^{x}_{0},v^{y}_{0},v^{z}_{0} \\right)} + \\left(r^{y}\\right)^{2}{\\left(v^{x}_{0},v^{y}_{0},v^{z}_{0} \\right)} + \\left(r^{z}\\right)^{2}{\\left(v^{x}_{0},v^{y}_{0},v^{z}_{0} \\right)}} r^{y}{\\left(v^{x}_{0},v^{y}_{0},v^{z}_{0} \\right)}\\\\\\sqrt{\\left(r^{x}\\right)^{2}{\\left(v^{x}_{0},v^{y}_{0},v^{z}_{0} \\right)} + \\left(r^{y}\\right)^{2}{\\left(v^{x}_{0},v^{y}_{0},v^{z}_{0} \\right)} + \\left(r^{z}\\right)^{2}{\\left(v^{x}_{0},v^{y}_{0},v^{z}_{0} \\right)}} r^{z}{\\left(v^{x}_{0},v^{y}_{0},v^{z}_{0} \\right)}\\end{matrix}\\right]$"
      ],
      "text/plain": [
       "Matrix([\n",
       "[sqrt(r^x(v^x_0, v^y_0, v^z_0)**2 + r^y(v^x_0, v^y_0, v^z_0)**2 + r^z(v^x_0, v^y_0, v^z_0)**2)*r^x(v^x_0, v^y_0, v^z_0)],\n",
       "[sqrt(r^x(v^x_0, v^y_0, v^z_0)**2 + r^y(v^x_0, v^y_0, v^z_0)**2 + r^z(v^x_0, v^y_0, v^z_0)**2)*r^y(v^x_0, v^y_0, v^z_0)],\n",
       "[sqrt(r^x(v^x_0, v^y_0, v^z_0)**2 + r^y(v^x_0, v^y_0, v^z_0)**2 + r^z(v^x_0, v^y_0, v^z_0)**2)*r^z(v^x_0, v^y_0, v^z_0)]])"
      ]
     },
     "execution_count": 158,
     "metadata": {},
     "output_type": "execute_result"
    }
   ],
   "source": [
    "from sympy import *\n",
    "\n",
    "v0x, v0y, v0z = var(\"v^x_0 v^y_0 v^z_0\")\n",
    "rx = Function(\"r^x\")(v0x, v0y, v0z)\n",
    "ry = Function(\"r^y\")(v0x, v0y, v0z)\n",
    "rz = Function(\"r^z\")(v0x, v0y, v0z)\n",
    "r1 = Matrix([rx, ry, rz])\n",
    "v0 = Matrix([v0x, v0y, v0z])\n",
    "# Ф = Function(\"Ф\")(v0x, v0y, v0z)\n",
    "Ф = rx**2 + ry**2 + rz**2\n",
    "\n",
    "Фvec = Ф * r1 / sqrt(rx**2 + ry**2 + rz**2)\n",
    "Фvec"
   ]
  },
  {
   "cell_type": "code",
   "execution_count": 163,
   "id": "46a6ebf1-be72-4a8e-91e4-bdd9a588a228",
   "metadata": {},
   "outputs": [
    {
     "data": {
      "text/latex": [
       "$\\displaystyle \\left[\\begin{matrix}\\frac{\\left(r^{x}{\\left(v^{x}_{0},v^{y}_{0},v^{z}_{0} \\right)} \\frac{\\partial}{\\partial v^{x}_{0}} r^{x}{\\left(v^{x}_{0},v^{y}_{0},v^{z}_{0} \\right)} + r^{y}{\\left(v^{x}_{0},v^{y}_{0},v^{z}_{0} \\right)} \\frac{\\partial}{\\partial v^{x}_{0}} r^{y}{\\left(v^{x}_{0},v^{y}_{0},v^{z}_{0} \\right)} + r^{z}{\\left(v^{x}_{0},v^{y}_{0},v^{z}_{0} \\right)} \\frac{\\partial}{\\partial v^{x}_{0}} r^{z}{\\left(v^{x}_{0},v^{y}_{0},v^{z}_{0} \\right)}\\right) r^{x}{\\left(v^{x}_{0},v^{y}_{0},v^{z}_{0} \\right)}}{\\sqrt{\\left(r^{x}\\right)^{2}{\\left(v^{x}_{0},v^{y}_{0},v^{z}_{0} \\right)} + \\left(r^{y}\\right)^{2}{\\left(v^{x}_{0},v^{y}_{0},v^{z}_{0} \\right)} + \\left(r^{z}\\right)^{2}{\\left(v^{x}_{0},v^{y}_{0},v^{z}_{0} \\right)}}} + \\sqrt{\\left(r^{x}\\right)^{2}{\\left(v^{x}_{0},v^{y}_{0},v^{z}_{0} \\right)} + \\left(r^{y}\\right)^{2}{\\left(v^{x}_{0},v^{y}_{0},v^{z}_{0} \\right)} + \\left(r^{z}\\right)^{2}{\\left(v^{x}_{0},v^{y}_{0},v^{z}_{0} \\right)}} \\frac{\\partial}{\\partial v^{x}_{0}} r^{x}{\\left(v^{x}_{0},v^{y}_{0},v^{z}_{0} \\right)} & \\frac{\\left(r^{x}{\\left(v^{x}_{0},v^{y}_{0},v^{z}_{0} \\right)} \\frac{\\partial}{\\partial v^{y}_{0}} r^{x}{\\left(v^{x}_{0},v^{y}_{0},v^{z}_{0} \\right)} + r^{y}{\\left(v^{x}_{0},v^{y}_{0},v^{z}_{0} \\right)} \\frac{\\partial}{\\partial v^{y}_{0}} r^{y}{\\left(v^{x}_{0},v^{y}_{0},v^{z}_{0} \\right)} + r^{z}{\\left(v^{x}_{0},v^{y}_{0},v^{z}_{0} \\right)} \\frac{\\partial}{\\partial v^{y}_{0}} r^{z}{\\left(v^{x}_{0},v^{y}_{0},v^{z}_{0} \\right)}\\right) r^{x}{\\left(v^{x}_{0},v^{y}_{0},v^{z}_{0} \\right)}}{\\sqrt{\\left(r^{x}\\right)^{2}{\\left(v^{x}_{0},v^{y}_{0},v^{z}_{0} \\right)} + \\left(r^{y}\\right)^{2}{\\left(v^{x}_{0},v^{y}_{0},v^{z}_{0} \\right)} + \\left(r^{z}\\right)^{2}{\\left(v^{x}_{0},v^{y}_{0},v^{z}_{0} \\right)}}} + \\sqrt{\\left(r^{x}\\right)^{2}{\\left(v^{x}_{0},v^{y}_{0},v^{z}_{0} \\right)} + \\left(r^{y}\\right)^{2}{\\left(v^{x}_{0},v^{y}_{0},v^{z}_{0} \\right)} + \\left(r^{z}\\right)^{2}{\\left(v^{x}_{0},v^{y}_{0},v^{z}_{0} \\right)}} \\frac{\\partial}{\\partial v^{y}_{0}} r^{x}{\\left(v^{x}_{0},v^{y}_{0},v^{z}_{0} \\right)} & \\frac{\\left(r^{x}{\\left(v^{x}_{0},v^{y}_{0},v^{z}_{0} \\right)} \\frac{\\partial}{\\partial v^{z}_{0}} r^{x}{\\left(v^{x}_{0},v^{y}_{0},v^{z}_{0} \\right)} + r^{y}{\\left(v^{x}_{0},v^{y}_{0},v^{z}_{0} \\right)} \\frac{\\partial}{\\partial v^{z}_{0}} r^{y}{\\left(v^{x}_{0},v^{y}_{0},v^{z}_{0} \\right)} + r^{z}{\\left(v^{x}_{0},v^{y}_{0},v^{z}_{0} \\right)} \\frac{\\partial}{\\partial v^{z}_{0}} r^{z}{\\left(v^{x}_{0},v^{y}_{0},v^{z}_{0} \\right)}\\right) r^{x}{\\left(v^{x}_{0},v^{y}_{0},v^{z}_{0} \\right)}}{\\sqrt{\\left(r^{x}\\right)^{2}{\\left(v^{x}_{0},v^{y}_{0},v^{z}_{0} \\right)} + \\left(r^{y}\\right)^{2}{\\left(v^{x}_{0},v^{y}_{0},v^{z}_{0} \\right)} + \\left(r^{z}\\right)^{2}{\\left(v^{x}_{0},v^{y}_{0},v^{z}_{0} \\right)}}} + \\sqrt{\\left(r^{x}\\right)^{2}{\\left(v^{x}_{0},v^{y}_{0},v^{z}_{0} \\right)} + \\left(r^{y}\\right)^{2}{\\left(v^{x}_{0},v^{y}_{0},v^{z}_{0} \\right)} + \\left(r^{z}\\right)^{2}{\\left(v^{x}_{0},v^{y}_{0},v^{z}_{0} \\right)}} \\frac{\\partial}{\\partial v^{z}_{0}} r^{x}{\\left(v^{x}_{0},v^{y}_{0},v^{z}_{0} \\right)}\\\\\\frac{\\left(r^{x}{\\left(v^{x}_{0},v^{y}_{0},v^{z}_{0} \\right)} \\frac{\\partial}{\\partial v^{x}_{0}} r^{x}{\\left(v^{x}_{0},v^{y}_{0},v^{z}_{0} \\right)} + r^{y}{\\left(v^{x}_{0},v^{y}_{0},v^{z}_{0} \\right)} \\frac{\\partial}{\\partial v^{x}_{0}} r^{y}{\\left(v^{x}_{0},v^{y}_{0},v^{z}_{0} \\right)} + r^{z}{\\left(v^{x}_{0},v^{y}_{0},v^{z}_{0} \\right)} \\frac{\\partial}{\\partial v^{x}_{0}} r^{z}{\\left(v^{x}_{0},v^{y}_{0},v^{z}_{0} \\right)}\\right) r^{y}{\\left(v^{x}_{0},v^{y}_{0},v^{z}_{0} \\right)}}{\\sqrt{\\left(r^{x}\\right)^{2}{\\left(v^{x}_{0},v^{y}_{0},v^{z}_{0} \\right)} + \\left(r^{y}\\right)^{2}{\\left(v^{x}_{0},v^{y}_{0},v^{z}_{0} \\right)} + \\left(r^{z}\\right)^{2}{\\left(v^{x}_{0},v^{y}_{0},v^{z}_{0} \\right)}}} + \\sqrt{\\left(r^{x}\\right)^{2}{\\left(v^{x}_{0},v^{y}_{0},v^{z}_{0} \\right)} + \\left(r^{y}\\right)^{2}{\\left(v^{x}_{0},v^{y}_{0},v^{z}_{0} \\right)} + \\left(r^{z}\\right)^{2}{\\left(v^{x}_{0},v^{y}_{0},v^{z}_{0} \\right)}} \\frac{\\partial}{\\partial v^{x}_{0}} r^{y}{\\left(v^{x}_{0},v^{y}_{0},v^{z}_{0} \\right)} & \\frac{\\left(r^{x}{\\left(v^{x}_{0},v^{y}_{0},v^{z}_{0} \\right)} \\frac{\\partial}{\\partial v^{y}_{0}} r^{x}{\\left(v^{x}_{0},v^{y}_{0},v^{z}_{0} \\right)} + r^{y}{\\left(v^{x}_{0},v^{y}_{0},v^{z}_{0} \\right)} \\frac{\\partial}{\\partial v^{y}_{0}} r^{y}{\\left(v^{x}_{0},v^{y}_{0},v^{z}_{0} \\right)} + r^{z}{\\left(v^{x}_{0},v^{y}_{0},v^{z}_{0} \\right)} \\frac{\\partial}{\\partial v^{y}_{0}} r^{z}{\\left(v^{x}_{0},v^{y}_{0},v^{z}_{0} \\right)}\\right) r^{y}{\\left(v^{x}_{0},v^{y}_{0},v^{z}_{0} \\right)}}{\\sqrt{\\left(r^{x}\\right)^{2}{\\left(v^{x}_{0},v^{y}_{0},v^{z}_{0} \\right)} + \\left(r^{y}\\right)^{2}{\\left(v^{x}_{0},v^{y}_{0},v^{z}_{0} \\right)} + \\left(r^{z}\\right)^{2}{\\left(v^{x}_{0},v^{y}_{0},v^{z}_{0} \\right)}}} + \\sqrt{\\left(r^{x}\\right)^{2}{\\left(v^{x}_{0},v^{y}_{0},v^{z}_{0} \\right)} + \\left(r^{y}\\right)^{2}{\\left(v^{x}_{0},v^{y}_{0},v^{z}_{0} \\right)} + \\left(r^{z}\\right)^{2}{\\left(v^{x}_{0},v^{y}_{0},v^{z}_{0} \\right)}} \\frac{\\partial}{\\partial v^{y}_{0}} r^{y}{\\left(v^{x}_{0},v^{y}_{0},v^{z}_{0} \\right)} & \\frac{\\left(r^{x}{\\left(v^{x}_{0},v^{y}_{0},v^{z}_{0} \\right)} \\frac{\\partial}{\\partial v^{z}_{0}} r^{x}{\\left(v^{x}_{0},v^{y}_{0},v^{z}_{0} \\right)} + r^{y}{\\left(v^{x}_{0},v^{y}_{0},v^{z}_{0} \\right)} \\frac{\\partial}{\\partial v^{z}_{0}} r^{y}{\\left(v^{x}_{0},v^{y}_{0},v^{z}_{0} \\right)} + r^{z}{\\left(v^{x}_{0},v^{y}_{0},v^{z}_{0} \\right)} \\frac{\\partial}{\\partial v^{z}_{0}} r^{z}{\\left(v^{x}_{0},v^{y}_{0},v^{z}_{0} \\right)}\\right) r^{y}{\\left(v^{x}_{0},v^{y}_{0},v^{z}_{0} \\right)}}{\\sqrt{\\left(r^{x}\\right)^{2}{\\left(v^{x}_{0},v^{y}_{0},v^{z}_{0} \\right)} + \\left(r^{y}\\right)^{2}{\\left(v^{x}_{0},v^{y}_{0},v^{z}_{0} \\right)} + \\left(r^{z}\\right)^{2}{\\left(v^{x}_{0},v^{y}_{0},v^{z}_{0} \\right)}}} + \\sqrt{\\left(r^{x}\\right)^{2}{\\left(v^{x}_{0},v^{y}_{0},v^{z}_{0} \\right)} + \\left(r^{y}\\right)^{2}{\\left(v^{x}_{0},v^{y}_{0},v^{z}_{0} \\right)} + \\left(r^{z}\\right)^{2}{\\left(v^{x}_{0},v^{y}_{0},v^{z}_{0} \\right)}} \\frac{\\partial}{\\partial v^{z}_{0}} r^{y}{\\left(v^{x}_{0},v^{y}_{0},v^{z}_{0} \\right)}\\\\\\frac{\\left(r^{x}{\\left(v^{x}_{0},v^{y}_{0},v^{z}_{0} \\right)} \\frac{\\partial}{\\partial v^{x}_{0}} r^{x}{\\left(v^{x}_{0},v^{y}_{0},v^{z}_{0} \\right)} + r^{y}{\\left(v^{x}_{0},v^{y}_{0},v^{z}_{0} \\right)} \\frac{\\partial}{\\partial v^{x}_{0}} r^{y}{\\left(v^{x}_{0},v^{y}_{0},v^{z}_{0} \\right)} + r^{z}{\\left(v^{x}_{0},v^{y}_{0},v^{z}_{0} \\right)} \\frac{\\partial}{\\partial v^{x}_{0}} r^{z}{\\left(v^{x}_{0},v^{y}_{0},v^{z}_{0} \\right)}\\right) r^{z}{\\left(v^{x}_{0},v^{y}_{0},v^{z}_{0} \\right)}}{\\sqrt{\\left(r^{x}\\right)^{2}{\\left(v^{x}_{0},v^{y}_{0},v^{z}_{0} \\right)} + \\left(r^{y}\\right)^{2}{\\left(v^{x}_{0},v^{y}_{0},v^{z}_{0} \\right)} + \\left(r^{z}\\right)^{2}{\\left(v^{x}_{0},v^{y}_{0},v^{z}_{0} \\right)}}} + \\sqrt{\\left(r^{x}\\right)^{2}{\\left(v^{x}_{0},v^{y}_{0},v^{z}_{0} \\right)} + \\left(r^{y}\\right)^{2}{\\left(v^{x}_{0},v^{y}_{0},v^{z}_{0} \\right)} + \\left(r^{z}\\right)^{2}{\\left(v^{x}_{0},v^{y}_{0},v^{z}_{0} \\right)}} \\frac{\\partial}{\\partial v^{x}_{0}} r^{z}{\\left(v^{x}_{0},v^{y}_{0},v^{z}_{0} \\right)} & \\frac{\\left(r^{x}{\\left(v^{x}_{0},v^{y}_{0},v^{z}_{0} \\right)} \\frac{\\partial}{\\partial v^{y}_{0}} r^{x}{\\left(v^{x}_{0},v^{y}_{0},v^{z}_{0} \\right)} + r^{y}{\\left(v^{x}_{0},v^{y}_{0},v^{z}_{0} \\right)} \\frac{\\partial}{\\partial v^{y}_{0}} r^{y}{\\left(v^{x}_{0},v^{y}_{0},v^{z}_{0} \\right)} + r^{z}{\\left(v^{x}_{0},v^{y}_{0},v^{z}_{0} \\right)} \\frac{\\partial}{\\partial v^{y}_{0}} r^{z}{\\left(v^{x}_{0},v^{y}_{0},v^{z}_{0} \\right)}\\right) r^{z}{\\left(v^{x}_{0},v^{y}_{0},v^{z}_{0} \\right)}}{\\sqrt{\\left(r^{x}\\right)^{2}{\\left(v^{x}_{0},v^{y}_{0},v^{z}_{0} \\right)} + \\left(r^{y}\\right)^{2}{\\left(v^{x}_{0},v^{y}_{0},v^{z}_{0} \\right)} + \\left(r^{z}\\right)^{2}{\\left(v^{x}_{0},v^{y}_{0},v^{z}_{0} \\right)}}} + \\sqrt{\\left(r^{x}\\right)^{2}{\\left(v^{x}_{0},v^{y}_{0},v^{z}_{0} \\right)} + \\left(r^{y}\\right)^{2}{\\left(v^{x}_{0},v^{y}_{0},v^{z}_{0} \\right)} + \\left(r^{z}\\right)^{2}{\\left(v^{x}_{0},v^{y}_{0},v^{z}_{0} \\right)}} \\frac{\\partial}{\\partial v^{y}_{0}} r^{z}{\\left(v^{x}_{0},v^{y}_{0},v^{z}_{0} \\right)} & \\frac{\\left(r^{x}{\\left(v^{x}_{0},v^{y}_{0},v^{z}_{0} \\right)} \\frac{\\partial}{\\partial v^{z}_{0}} r^{x}{\\left(v^{x}_{0},v^{y}_{0},v^{z}_{0} \\right)} + r^{y}{\\left(v^{x}_{0},v^{y}_{0},v^{z}_{0} \\right)} \\frac{\\partial}{\\partial v^{z}_{0}} r^{y}{\\left(v^{x}_{0},v^{y}_{0},v^{z}_{0} \\right)} + r^{z}{\\left(v^{x}_{0},v^{y}_{0},v^{z}_{0} \\right)} \\frac{\\partial}{\\partial v^{z}_{0}} r^{z}{\\left(v^{x}_{0},v^{y}_{0},v^{z}_{0} \\right)}\\right) r^{z}{\\left(v^{x}_{0},v^{y}_{0},v^{z}_{0} \\right)}}{\\sqrt{\\left(r^{x}\\right)^{2}{\\left(v^{x}_{0},v^{y}_{0},v^{z}_{0} \\right)} + \\left(r^{y}\\right)^{2}{\\left(v^{x}_{0},v^{y}_{0},v^{z}_{0} \\right)} + \\left(r^{z}\\right)^{2}{\\left(v^{x}_{0},v^{y}_{0},v^{z}_{0} \\right)}}} + \\sqrt{\\left(r^{x}\\right)^{2}{\\left(v^{x}_{0},v^{y}_{0},v^{z}_{0} \\right)} + \\left(r^{y}\\right)^{2}{\\left(v^{x}_{0},v^{y}_{0},v^{z}_{0} \\right)} + \\left(r^{z}\\right)^{2}{\\left(v^{x}_{0},v^{y}_{0},v^{z}_{0} \\right)}} \\frac{\\partial}{\\partial v^{z}_{0}} r^{z}{\\left(v^{x}_{0},v^{y}_{0},v^{z}_{0} \\right)}\\end{matrix}\\right]$"
      ],
      "text/plain": [
       "Matrix([\n",
       "[(r^x(v^x_0, v^y_0, v^z_0)*Derivative(r^x(v^x_0, v^y_0, v^z_0), v^x_0) + r^y(v^x_0, v^y_0, v^z_0)*Derivative(r^y(v^x_0, v^y_0, v^z_0), v^x_0) + r^z(v^x_0, v^y_0, v^z_0)*Derivative(r^z(v^x_0, v^y_0, v^z_0), v^x_0))*r^x(v^x_0, v^y_0, v^z_0)/sqrt(r^x(v^x_0, v^y_0, v^z_0)**2 + r^y(v^x_0, v^y_0, v^z_0)**2 + r^z(v^x_0, v^y_0, v^z_0)**2) + sqrt(r^x(v^x_0, v^y_0, v^z_0)**2 + r^y(v^x_0, v^y_0, v^z_0)**2 + r^z(v^x_0, v^y_0, v^z_0)**2)*Derivative(r^x(v^x_0, v^y_0, v^z_0), v^x_0), (r^x(v^x_0, v^y_0, v^z_0)*Derivative(r^x(v^x_0, v^y_0, v^z_0), v^y_0) + r^y(v^x_0, v^y_0, v^z_0)*Derivative(r^y(v^x_0, v^y_0, v^z_0), v^y_0) + r^z(v^x_0, v^y_0, v^z_0)*Derivative(r^z(v^x_0, v^y_0, v^z_0), v^y_0))*r^x(v^x_0, v^y_0, v^z_0)/sqrt(r^x(v^x_0, v^y_0, v^z_0)**2 + r^y(v^x_0, v^y_0, v^z_0)**2 + r^z(v^x_0, v^y_0, v^z_0)**2) + sqrt(r^x(v^x_0, v^y_0, v^z_0)**2 + r^y(v^x_0, v^y_0, v^z_0)**2 + r^z(v^x_0, v^y_0, v^z_0)**2)*Derivative(r^x(v^x_0, v^y_0, v^z_0), v^y_0), (r^x(v^x_0, v^y_0, v^z_0)*Derivative(r^x(v^x_0, v^y_0, v^z_0), v^z_0) + r^y(v^x_0, v^y_0, v^z_0)*Derivative(r^y(v^x_0, v^y_0, v^z_0), v^z_0) + r^z(v^x_0, v^y_0, v^z_0)*Derivative(r^z(v^x_0, v^y_0, v^z_0), v^z_0))*r^x(v^x_0, v^y_0, v^z_0)/sqrt(r^x(v^x_0, v^y_0, v^z_0)**2 + r^y(v^x_0, v^y_0, v^z_0)**2 + r^z(v^x_0, v^y_0, v^z_0)**2) + sqrt(r^x(v^x_0, v^y_0, v^z_0)**2 + r^y(v^x_0, v^y_0, v^z_0)**2 + r^z(v^x_0, v^y_0, v^z_0)**2)*Derivative(r^x(v^x_0, v^y_0, v^z_0), v^z_0)],\n",
       "[(r^x(v^x_0, v^y_0, v^z_0)*Derivative(r^x(v^x_0, v^y_0, v^z_0), v^x_0) + r^y(v^x_0, v^y_0, v^z_0)*Derivative(r^y(v^x_0, v^y_0, v^z_0), v^x_0) + r^z(v^x_0, v^y_0, v^z_0)*Derivative(r^z(v^x_0, v^y_0, v^z_0), v^x_0))*r^y(v^x_0, v^y_0, v^z_0)/sqrt(r^x(v^x_0, v^y_0, v^z_0)**2 + r^y(v^x_0, v^y_0, v^z_0)**2 + r^z(v^x_0, v^y_0, v^z_0)**2) + sqrt(r^x(v^x_0, v^y_0, v^z_0)**2 + r^y(v^x_0, v^y_0, v^z_0)**2 + r^z(v^x_0, v^y_0, v^z_0)**2)*Derivative(r^y(v^x_0, v^y_0, v^z_0), v^x_0), (r^x(v^x_0, v^y_0, v^z_0)*Derivative(r^x(v^x_0, v^y_0, v^z_0), v^y_0) + r^y(v^x_0, v^y_0, v^z_0)*Derivative(r^y(v^x_0, v^y_0, v^z_0), v^y_0) + r^z(v^x_0, v^y_0, v^z_0)*Derivative(r^z(v^x_0, v^y_0, v^z_0), v^y_0))*r^y(v^x_0, v^y_0, v^z_0)/sqrt(r^x(v^x_0, v^y_0, v^z_0)**2 + r^y(v^x_0, v^y_0, v^z_0)**2 + r^z(v^x_0, v^y_0, v^z_0)**2) + sqrt(r^x(v^x_0, v^y_0, v^z_0)**2 + r^y(v^x_0, v^y_0, v^z_0)**2 + r^z(v^x_0, v^y_0, v^z_0)**2)*Derivative(r^y(v^x_0, v^y_0, v^z_0), v^y_0), (r^x(v^x_0, v^y_0, v^z_0)*Derivative(r^x(v^x_0, v^y_0, v^z_0), v^z_0) + r^y(v^x_0, v^y_0, v^z_0)*Derivative(r^y(v^x_0, v^y_0, v^z_0), v^z_0) + r^z(v^x_0, v^y_0, v^z_0)*Derivative(r^z(v^x_0, v^y_0, v^z_0), v^z_0))*r^y(v^x_0, v^y_0, v^z_0)/sqrt(r^x(v^x_0, v^y_0, v^z_0)**2 + r^y(v^x_0, v^y_0, v^z_0)**2 + r^z(v^x_0, v^y_0, v^z_0)**2) + sqrt(r^x(v^x_0, v^y_0, v^z_0)**2 + r^y(v^x_0, v^y_0, v^z_0)**2 + r^z(v^x_0, v^y_0, v^z_0)**2)*Derivative(r^y(v^x_0, v^y_0, v^z_0), v^z_0)],\n",
       "[(r^x(v^x_0, v^y_0, v^z_0)*Derivative(r^x(v^x_0, v^y_0, v^z_0), v^x_0) + r^y(v^x_0, v^y_0, v^z_0)*Derivative(r^y(v^x_0, v^y_0, v^z_0), v^x_0) + r^z(v^x_0, v^y_0, v^z_0)*Derivative(r^z(v^x_0, v^y_0, v^z_0), v^x_0))*r^z(v^x_0, v^y_0, v^z_0)/sqrt(r^x(v^x_0, v^y_0, v^z_0)**2 + r^y(v^x_0, v^y_0, v^z_0)**2 + r^z(v^x_0, v^y_0, v^z_0)**2) + sqrt(r^x(v^x_0, v^y_0, v^z_0)**2 + r^y(v^x_0, v^y_0, v^z_0)**2 + r^z(v^x_0, v^y_0, v^z_0)**2)*Derivative(r^z(v^x_0, v^y_0, v^z_0), v^x_0), (r^x(v^x_0, v^y_0, v^z_0)*Derivative(r^x(v^x_0, v^y_0, v^z_0), v^y_0) + r^y(v^x_0, v^y_0, v^z_0)*Derivative(r^y(v^x_0, v^y_0, v^z_0), v^y_0) + r^z(v^x_0, v^y_0, v^z_0)*Derivative(r^z(v^x_0, v^y_0, v^z_0), v^y_0))*r^z(v^x_0, v^y_0, v^z_0)/sqrt(r^x(v^x_0, v^y_0, v^z_0)**2 + r^y(v^x_0, v^y_0, v^z_0)**2 + r^z(v^x_0, v^y_0, v^z_0)**2) + sqrt(r^x(v^x_0, v^y_0, v^z_0)**2 + r^y(v^x_0, v^y_0, v^z_0)**2 + r^z(v^x_0, v^y_0, v^z_0)**2)*Derivative(r^z(v^x_0, v^y_0, v^z_0), v^y_0), (r^x(v^x_0, v^y_0, v^z_0)*Derivative(r^x(v^x_0, v^y_0, v^z_0), v^z_0) + r^y(v^x_0, v^y_0, v^z_0)*Derivative(r^y(v^x_0, v^y_0, v^z_0), v^z_0) + r^z(v^x_0, v^y_0, v^z_0)*Derivative(r^z(v^x_0, v^y_0, v^z_0), v^z_0))*r^z(v^x_0, v^y_0, v^z_0)/sqrt(r^x(v^x_0, v^y_0, v^z_0)**2 + r^y(v^x_0, v^y_0, v^z_0)**2 + r^z(v^x_0, v^y_0, v^z_0)**2) + sqrt(r^x(v^x_0, v^y_0, v^z_0)**2 + r^y(v^x_0, v^y_0, v^z_0)**2 + r^z(v^x_0, v^y_0, v^z_0)**2)*Derivative(r^z(v^x_0, v^y_0, v^z_0), v^z_0)]])"
      ]
     },
     "execution_count": 163,
     "metadata": {},
     "output_type": "execute_result"
    }
   ],
   "source": [
    "J = Фvec.jacobian(v0)\n",
    "J"
   ]
  },
  {
   "cell_type": "markdown",
   "id": "1c940b10-d4d5-4c45-b0a0-cfd2b3f06157",
   "metadata": {},
   "source": [
    "##### <span style=\"color:#2c3e50\">Целевая функция как скаляр</span> "
   ]
  },
  {
   "cell_type": "code",
   "execution_count": null,
   "id": "64912b5c-9a24-4ca6-8711-62cc5cd30fa5",
   "metadata": {},
   "outputs": [],
   "source": [
    "Ф_v0 = Matrix([Ф.diff(v0x), Ф.diff(v0y), Ф.diff(v0z)])\n",
    "Ф_v0 * Ф"
   ]
  }
 ],
 "metadata": {
  "kernelspec": {
   "display_name": "Python 3 (ipykernel)",
   "language": "python",
   "name": "python3"
  },
  "language_info": {
   "codemirror_mode": {
    "name": "ipython",
    "version": 3
   },
   "file_extension": ".py",
   "mimetype": "text/x-python",
   "name": "python",
   "nbconvert_exporter": "python",
   "pygments_lexer": "ipython3",
   "version": "3.10.12"
  }
 },
 "nbformat": 4,
 "nbformat_minor": 5
}
