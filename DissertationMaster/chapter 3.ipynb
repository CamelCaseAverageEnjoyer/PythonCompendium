{
 "cells": [
  {
   "cell_type": "markdown",
   "id": "6e29e58e-dd2a-42a7-a047-02e9a7c2154c",
   "metadata": {},
   "source": [
    "### <span style=\"color:#91299A\">Вывод уравнений для ХКУ-приближения</span> \n",
    "\n",
    "<span style=\"color:#85c1e9\">Спокойствие, только спокойствие...</span> "
   ]
  },
  {
   "cell_type": "markdown",
   "id": "92ca4627-47c3-4ac3-bb74-ce3b536ee959",
   "metadata": {},
   "source": [
    "![](../storage/banners/1.gif)"
   ]
  },
  {
   "cell_type": "code",
   "execution_count": 4,
   "id": "ab410204-0174-47f6-b596-687ec5166a53",
   "metadata": {},
   "outputs": [
    {
     "data": {
      "text/plain": [
       "{v^x_0: -6*t*w_0**2*z_0*sin(t*w_0)/(3*t*w_0*sin(t*w_0) - 4*sin(t*w_0)**2 - 4*cos(t*w_0)**2 + 8*cos(t*w_0) - 4) + w_0*x_0*sin(t*w_0)/(3*t*w_0*sin(t*w_0) - 4*sin(t*w_0)**2 - 4*cos(t*w_0)**2 + 8*cos(t*w_0) - 4) - w_0*x_1*sin(t*w_0)/(3*t*w_0*sin(t*w_0) - 4*sin(t*w_0)**2 - 4*cos(t*w_0)**2 + 8*cos(t*w_0) - 4) + 6*w_0*z_0*sin(t*w_0)**2/(3*t*w_0*sin(t*w_0) - 4*sin(t*w_0)**2 - 4*cos(t*w_0)**2 + 8*cos(t*w_0) - 4) + 6*w_0*z_0*cos(t*w_0)**2/(3*t*w_0*sin(t*w_0) - 4*sin(t*w_0)**2 - 4*cos(t*w_0)**2 + 8*cos(t*w_0) - 4) - 14*w_0*z_0*cos(t*w_0)/(3*t*w_0*sin(t*w_0) - 4*sin(t*w_0)**2 - 4*cos(t*w_0)**2 + 8*cos(t*w_0) - 4) + 8*w_0*z_0/(3*t*w_0*sin(t*w_0) - 4*sin(t*w_0)**2 - 4*cos(t*w_0)**2 + 8*cos(t*w_0) - 4) + 2*w_0*z_1*cos(t*w_0)/(3*t*w_0*sin(t*w_0) - 4*sin(t*w_0)**2 - 4*cos(t*w_0)**2 + 8*cos(t*w_0) - 4) - 2*w_0*z_1/(3*t*w_0*sin(t*w_0) - 4*sin(t*w_0)**2 - 4*cos(t*w_0)**2 + 8*cos(t*w_0) - 4),\n",
       " v^y_0: -w_0*y_0*cos(t*w_0)/sin(t*w_0) + w_0*y_1/sin(t*w_0),\n",
       " v^z_0: -3*t*w_0**2*z_0*cos(t*w_0)/(3*t*w_0*sin(t*w_0) - 4*sin(t*w_0)**2 - 4*cos(t*w_0)**2 + 8*cos(t*w_0) - 4) + 3*t*w_0**2*z_1/(3*t*w_0*sin(t*w_0) - 4*sin(t*w_0)**2 - 4*cos(t*w_0)**2 + 8*cos(t*w_0) - 4) + 2*w_0*x_0*cos(t*w_0)/(3*t*w_0*sin(t*w_0) - 4*sin(t*w_0)**2 - 4*cos(t*w_0)**2 + 8*cos(t*w_0) - 4) - 2*w_0*x_0/(3*t*w_0*sin(t*w_0) - 4*sin(t*w_0)**2 - 4*cos(t*w_0)**2 + 8*cos(t*w_0) - 4) - 2*w_0*x_1*cos(t*w_0)/(3*t*w_0*sin(t*w_0) - 4*sin(t*w_0)**2 - 4*cos(t*w_0)**2 + 8*cos(t*w_0) - 4) + 2*w_0*x_1/(3*t*w_0*sin(t*w_0) - 4*sin(t*w_0)**2 - 4*cos(t*w_0)**2 + 8*cos(t*w_0) - 4) + 4*w_0*z_0*sin(t*w_0)/(3*t*w_0*sin(t*w_0) - 4*sin(t*w_0)**2 - 4*cos(t*w_0)**2 + 8*cos(t*w_0) - 4) - 4*w_0*z_1*sin(t*w_0)/(3*t*w_0*sin(t*w_0) - 4*sin(t*w_0)**2 - 4*cos(t*w_0)**2 + 8*cos(t*w_0) - 4)}"
      ]
     },
     "execution_count": 4,
     "metadata": {},
     "output_type": "execute_result"
    }
   ],
   "source": [
    "from sympy import *\n",
    "\n",
    "t, x1, y1, z1, x0, y0, z0, vx0, vy0, vz0, w = var(\"t x_1 y_1 z_1 x_0 y_0 z_0 v^x_0 v^y_0 v^z_0 w_0\")\n",
    "c1 = 2 * z0 + vx0/w\n",
    "c2 = vz0/w\n",
    "c3 = -3 * z0 - 2 * vx0/w\n",
    "c4 = x0 - 2 * vz0/w\n",
    "c5 = vy0/w\n",
    "c6 = y0\n",
    "eq = [Eq(x1, c4 - 3*c1*w*t + 2*c2*cos(w*t) - 2*c3*sin(w*t)),\n",
    "      Eq(y1, c5*sin(w*t) + c6*cos(w*t)),\n",
    "      Eq(z1, 2*c1 + c2*sin(w*t) + c3*cos(w*t)),]\n",
    "anw = solve(eq, [vx0, vy0, vz0])\n",
    "anw"
   ]
  },
  {
   "cell_type": "code",
   "execution_count": 5,
   "id": "78699bb6-0df8-403f-8662-1848db1e1d6d",
   "metadata": {},
   "outputs": [
    {
     "data": {
      "text/latex": [
       "$\\displaystyle \\frac{w_{0} \\cdot \\left(6 t w_{0} z_{0} \\sin{\\left(t w_{0} \\right)} - x_{0} \\sin{\\left(t w_{0} \\right)} + x_{1} \\sin{\\left(t w_{0} \\right)} + 14 z_{0} \\cos{\\left(t w_{0} \\right)} - 14 z_{0} - 2 z_{1} \\cos{\\left(t w_{0} \\right)} + 2 z_{1}\\right)}{- 3 t w_{0} \\sin{\\left(t w_{0} \\right)} - 8 \\cos{\\left(t w_{0} \\right)} + 8}$"
      ],
      "text/plain": [
       "w_0*(6*t*w_0*z_0*sin(t*w_0) - x_0*sin(t*w_0) + x_1*sin(t*w_0) + 14*z_0*cos(t*w_0) - 14*z_0 - 2*z_1*cos(t*w_0) + 2*z_1)/(-3*t*w_0*sin(t*w_0) - 8*cos(t*w_0) + 8)"
      ]
     },
     "execution_count": 5,
     "metadata": {},
     "output_type": "execute_result"
    }
   ],
   "source": [
    "anw[vx0].simplify()"
   ]
  }
 ],
 "metadata": {
  "kernelspec": {
   "display_name": "Python 3 (ipykernel)",
   "language": "python",
   "name": "python3"
  },
  "language_info": {
   "codemirror_mode": {
    "name": "ipython",
    "version": 3
   },
   "file_extension": ".py",
   "mimetype": "text/x-python",
   "name": "python",
   "nbconvert_exporter": "python",
   "pygments_lexer": "ipython3",
   "version": "3.10.12"
  }
 },
 "nbformat": 4,
 "nbformat_minor": 5
}
