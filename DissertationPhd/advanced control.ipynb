{
 "cells": [
  {
   "cell_type": "markdown",
   "id": "ef72932e-6396-4693-b8d1-51e4753f0025",
   "metadata": {},
   "source": [
    "# <span style=\"color:#91299A\">Управление чипсатами</span> \n",
    "\n",
    "![](../storage/banners/20_control.png)"
   ]
  },
  {
   "cell_type": "markdown",
   "id": "bd5dc259-dd77-42ef-9330-929585ad2fd8",
   "metadata": {},
   "source": [
    "### <span style=\"color:#0ab49a\">Магнитное</span> <span style=\"color:#A254FC\">управление</span> "
   ]
  },
  {
   "cell_type": "code",
   "execution_count": 1,
   "id": "de6d28bf-91f4-4d57-b2d0-c3478b9c659c",
   "metadata": {},
   "outputs": [],
   "source": [
    "from magnetic_control._tiny_functions import *\n",
    "from magnetic_control._objects import *"
   ]
  },
  {
   "cell_type": "markdown",
   "id": "64d7e3c2-07a6-4c6c-91ef-e6f1b8292283",
   "metadata": {},
   "source": [
    "Сука всё в СИ, какие киломемы"
   ]
  },
  {
   "cell_type": "markdown",
   "id": "b0b6e4f7-222b-4880-be02-c4d3d65149fe",
   "metadata": {},
   "source": [
    "## Доделать Mag_Control_func $\\to$ control\n",
    "## Сделать Magnetic_Control\n",
    "## Доделать main_magnetic_control\n",
    "## Main_two_satellites_code и далее"
   ]
  },
  {
   "cell_type": "markdown",
   "id": "c467202d-ab85-4097-8bda-e4b1d1a1421d",
   "metadata": {},
   "source": [
    "##### **Символьное вычисление ..чего-то..**"
   ]
  },
  {
   "cell_type": "code",
   "execution_count": null,
   "id": "4dc0de40-fd2c-447b-bab9-eadba09c339e",
   "metadata": {},
   "outputs": [],
   "source": [
    "\"\"\"ЧЕ ЗА НАХУЙ ЗДЕСЬ ПРОИСХОДИТ\"\"\"\n",
    "# ---> в ../advanced control.ipynb\n",
    "\n",
    "syms mu1_x mu2_x mu2_y mu2_z dx dy dz koef F D\n",
    "\n",
    "S = solve(koef*((mu1_x*mu2_x)*dx + (mu1_x*dx)*mu2_x + (mu2_x*dx+mu2_y*dy+mu2_z*dz)*mu1_x - (5/D^2)*(mu1_x*dx)*(mu2_x*dx+mu2_y*dy+mu2_z*dz)*dx)-F == 0,...\n",
    "                              (mu1_x*mu2_x)*dy + (mu1_x*dx)*mu2_y - (5/D^2)*(mu1_x*dx)*(mu2_x*dx+mu2_y*dy+mu2_z*dz)*dy == 0,...\n",
    "                              (mu1_x*mu2_x)*dz + (mu1_x*dx)*mu2_z - (5/D^2)*(mu1_x*dx)*(mu2_x*dx+mu2_y*dy+mu2_z*dz)*dz == 0,[mu2_x mu2_y mu2_z]);\n",
    "S.mu2_x\n",
    "S.mu2_y\n",
    "S.mu2_z"
   ]
  }
 ],
 "metadata": {
  "kernelspec": {
   "display_name": "Python 3 (ipykernel)",
   "language": "python",
   "name": "python3"
  },
  "language_info": {
   "codemirror_mode": {
    "name": "ipython",
    "version": 3
   },
   "file_extension": ".py",
   "mimetype": "text/x-python",
   "name": "python",
   "nbconvert_exporter": "python",
   "pygments_lexer": "ipython3",
   "version": "3.10.12"
  }
 },
 "nbformat": 4,
 "nbformat_minor": 5
}
