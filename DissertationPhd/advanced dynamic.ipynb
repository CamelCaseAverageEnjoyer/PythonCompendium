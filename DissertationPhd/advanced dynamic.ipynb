{
 "cells": [
  {
   "cell_type": "markdown",
   "id": "c874be57-1429-419f-b8af-ae47804fdc27",
   "metadata": {},
   "source": [
    "### <span style=\"color:#50a27f\">Построение двинамики движения</span> "
   ]
  },
  {
   "cell_type": "code",
   "execution_count": 10,
   "id": "9263e7c5-de1b-46e3-92b1-5f6127a088c6",
   "metadata": {},
   "outputs": [
    {
     "data": {
      "text/latex": [
       "$\\displaystyle \\left[\\begin{matrix}- 2 q_{y}^{2} - 2 q_{z}^{2} + 1 & 2 q_{0} q_{z} + 2 q_{x} q_{y} & - 2 q_{0} q_{y} + 2 q_{x} q_{z}\\\\- 2 q_{0} q_{z} + 2 q_{x} q_{y} & - 2 q_{x}^{2} - 2 q_{z}^{2} + 1 & 2 q_{0} q_{x} + 2 q_{y} q_{z}\\\\2 q_{0} q_{y} + 2 q_{x} q_{z} & - 2 q_{0} q_{x} + 2 q_{y} q_{z} & - 2 q_{x}^{2} - 2 q_{y}^{2} + 1\\end{matrix}\\right]$"
      ],
      "text/plain": [
       "Matrix([\n",
       "[-2*q_y**2 - 2*q_z**2 + 1,    2*q_0*q_z + 2*q_x*q_y,   -2*q_0*q_y + 2*q_x*q_z],\n",
       "[  -2*q_0*q_z + 2*q_x*q_y, -2*q_x**2 - 2*q_z**2 + 1,    2*q_0*q_x + 2*q_y*q_z],\n",
       "[   2*q_0*q_y + 2*q_x*q_z,   -2*q_0*q_x + 2*q_y*q_z, -2*q_x**2 - 2*q_y**2 + 1]])"
      ]
     },
     "execution_count": 10,
     "metadata": {},
     "output_type": "execute_result"
    }
   ],
   "source": [
    "from sympy import *\n",
    "\n",
    "wx, wy, wz = var(\"w_x w_y w_z\")\n",
    "q0, qx, qy, qz = var(\"q_0 q_x q_y q_z\")\n",
    "Jxx, Jyy, Jzz = var(\"J_{xx} J_{yy} J_{zz}\")\n",
    "Mx, My, Mz = var(\"M_x M_y M_z\")\n",
    "w = Matrix([wx, wy, wz])\n",
    "M = Matrix([Mx, My, Mz])\n",
    "q = Matrix([q0, qx, qy, qz])\n",
    "J = Matrix([[Jxx, 0, 0],\n",
    "            [0, Jyy, 0],\n",
    "            [0, 0, Jzz]])\n",
    "A = Matrix([[1 - 2*qy**2 - 2*qz**2, 2*qx*qy + 2*qz*q0, 2*qx*qz - 2*qy*q0],\n",
    "            [2*qx*qy - 2*qz*q0, 1 - 2*qx**2 - 2*qz**2, 2*qy*qz + 2*qx*q0],\n",
    "            [2*qx*qz + 2*qy*q0, 2*qy*qz - 2*qx*q0, 1 - 2*qx**2 - 2*qy**2]])\n",
    "A"
   ]
  },
  {
   "cell_type": "code",
   "execution_count": 15,
   "id": "00d39d01-3739-4af8-be71-534115ebe39c",
   "metadata": {},
   "outputs": [
    {
     "name": "stdout",
     "output_type": "stream",
     "text": [
      "(J_{yy}*w_y*w_z - J_{zz}*w_y*w_z + M_x)/J_{xx}\n",
      "(-J_{xx}*w_x*w_z + J_{zz}*w_x*w_z + M_y)/J_{yy}\n",
      "(J_{xx}*w_x*w_y - J_{yy}*w_x*w_y + M_z)/J_{zz}\n"
     ]
    },
    {
     "data": {
      "text/latex": [
       "$\\displaystyle \\left[\\begin{matrix}\\frac{J_{yy} w_{y} w_{z} - J_{zz} w_{y} w_{z} + M_{x}}{J_{xx}}\\\\\\frac{- J_{xx} w_{x} w_{z} + J_{zz} w_{x} w_{z} + M_{y}}{J_{yy}}\\\\\\frac{J_{xx} w_{x} w_{y} - J_{yy} w_{x} w_{y} + M_{z}}{J_{zz}}\\end{matrix}\\right]$"
      ],
      "text/plain": [
       "Matrix([\n",
       "[ (J_{yy}*w_y*w_z - J_{zz}*w_y*w_z + M_x)/J_{xx}],\n",
       "[(-J_{xx}*w_x*w_z + J_{zz}*w_x*w_z + M_y)/J_{yy}],\n",
       "[ (J_{xx}*w_x*w_y - J_{yy}*w_x*w_y + M_z)/J_{zz}]])"
      ]
     },
     "execution_count": 15,
     "metadata": {},
     "output_type": "execute_result"
    }
   ],
   "source": [
    "w_diff = J.inv() @ (- (w).cross(J @ w) + M)\n",
    "print(w_diff[0])\n",
    "print(w_diff[1])\n",
    "print(w_diff[2])\n",
    "w_diff"
   ]
  },
  {
   "cell_type": "markdown",
   "id": "76ce4d42-fdb7-4212-b357-73ce9234abfb",
   "metadata": {},
   "source": [
    "### <span style=\"color:#A254FC\">Исследование режимов вращения</span> "
   ]
  },
  {
   "cell_type": "code",
   "execution_count": null,
   "id": "27e0b2bc-7f9a-4f63-bfd9-6652e958e9b4",
   "metadata": {},
   "outputs": [],
   "source": [
    "import matplotlib.pyplot as plt\n",
    "import numpy as np"
   ]
  },
  {
   "cell_type": "code",
   "execution_count": 83,
   "id": "0f002d28",
   "metadata": {},
   "outputs": [
    {
     "data": {
      "text/plain": [
       "4.514455893826088e-11"
      ]
     },
     "execution_count": 83,
     "metadata": {},
     "output_type": "execute_result"
    }
   ],
   "source": [
    "Cf = 1\n",
    "m = 0.03\n",
    "a = 0.1\n",
    "b = 0.1\n",
    "\n",
    "rho =  5.21e-13\n",
    "S = a*b\n",
    "M = 5.972e24\n",
    "G = 6.6743e-11\n",
    "mu = M * G\n",
    "v_orb = np.sqrt(mu / 6900e3)\n",
    "c = Cf * rho * v_orb**2 * S / 6 * m * (a**2 + a*b + b**2)\n",
    "c"
   ]
  },
  {
   "cell_type": "code",
   "execution_count": 91,
   "id": "868a8bf5",
   "metadata": {},
   "outputs": [
    {
     "data": {
      "image/png": "[encoded data removed]",
      "text/plain": [
       "<Figure size 432x288 with 1 Axes>"
      ]
     },
     "metadata": {
      "needs_background": "light"
     },
     "output_type": "display_data"
    }
   ],
   "source": [
    "# p = phi\n",
    "dt = 10.\n",
    "T = 1e6\n",
    "days = True\n",
    "\n",
    "def func(p: float, w: float, c: float, dt: float):\n",
    "    return p + w * dt, w - dt * c * np.sin(p)\n",
    "\n",
    "def integrate(c: float, dt: float = 1., T: float = 1000):\n",
    "    w_list = [0.]\n",
    "    p_list = [3.1415/2]\n",
    "    t_list = [0.]\n",
    "    for i in range(int(round(T / dt))):\n",
    "        tmp = func(p_list[i], w_list[i], c, dt)\n",
    "        t_list += [(i+1)*dt]\n",
    "        p_list += [tmp[0]]\n",
    "        w_list += [tmp[1]]\n",
    "    return t_list, p_list\n",
    "\n",
    "t, p = integrate(c=c, dt=dt, T=T)\n",
    "t = [i/(3600*24) for i in t] if days else t\n",
    "plt.plot(t, np.array(p), c='navy', label=f\"c={c}\")  # /(np.pi/2)\n",
    "plt.plot(t, [np.pi/2 for _ in range(len(t))], c='violet')\n",
    "plt.plot(t,[-np.pi/2 for _ in range(len(t))], c='violet')\n",
    "plt.legend()\n",
    "plt.xlabel(\"days\" if days else \"time t, s\")\n",
    "plt.ylabel(\"angle φ, rad\")\n",
    "# plt.ylim([-np.pi/2, np.pi/2])\n",
    "plt.show()"
   ]
  },
  {
   "cell_type": "markdown",
   "id": "4b1c59ab",
   "metadata": {},
   "source": [
    "## Аналитика смещённого центра масс"
   ]
  },
  {
   "cell_type": "code",
   "execution_count": 1,
   "id": "82e509e3",
   "metadata": {},
   "outputs": [],
   "source": [
    "from sympy import *"
   ]
  },
  {
   "cell_type": "code",
   "execution_count": 46,
   "id": "0c822473",
   "metadata": {},
   "outputs": [],
   "source": [
    "a, b, ex, ey = var('a b e_x e_y', real=True, constant=True)  # Стороны ЧипСата, отклонения цетра масс\n",
    "m, f, v = var('m f v', real=True, constant=True)\n",
    "t = var('t', real=True, constant=False)\n",
    "n_x = Function(\"n_x\")(t)\n",
    "n_y = Function(\"n_y\")(t)\n",
    "n_z = Function(\"n_z\")(t)\n",
    "w_x = Function(\"w_x\")(t)\n",
    "w_y = Function(\"w_y\")(t)\n",
    "w_z = Function(\"w_z\")(t)\n",
    "x0 = -a + ex\n",
    "x1 = a + ex\n",
    "y0 = -b + ey\n",
    "y1 = b + ey\n",
    "Ix = m/3 * (x1 - x0) * (y1**3 - y0**3)\n",
    "Iy = m/3 * (y1 - y0) * (x0**3 - x1**3)\n",
    "Iz = Ix + Iy  # верно для пластины\n",
    "eq_n_x = Eq(n_x.diff(t), w_y*n_z - w_z*n_y)\n",
    "eq_n_y = Eq(n_y.diff(t), w_z*n_x - w_x*n_z)\n",
    "eq_n_z = Eq(n_z.diff(t), w_x*n_y - w_y*n_x)\n",
    "eq_x = Eq(f*n_x*v*(x1-x0)*(y1**2-y0**2), Ix * w_x.diff(t) + (Iz - Iy)*w_y*w_z)\n",
    "eq_y = Eq(f*n_x*v*(y1-y0)*(x0**2-x1**2), Iy * w_y.diff(t) + (Ix - Iz)*w_x*w_z)\n",
    "eq_z = Eq(0, Iz * w_z.diff(t) + (Iy - Ix)*w_x*w_y)"
   ]
  },
  {
   "cell_type": "code",
   "execution_count": 17,
   "id": "c63ed902",
   "metadata": {
    "collapsed": true,
    "jupyter": {
     "outputs_hidden": true
    }
   },
   "outputs": [
    {
     "ename": "NotImplementedError",
     "evalue": "",
     "output_type": "error",
     "traceback": [
      "\u001b[0;31m---------------------------------------------------------------------------\u001b[0m",
      "\u001b[0;31mNotImplementedError\u001b[0m                       Traceback (most recent call last)",
      "\u001b[0;32m<ipython-input-17-61361af40bff>\u001b[0m in \u001b[0;36m<module>\u001b[0;34m\u001b[0m\n\u001b[0;32m----> 1\u001b[0;31m \u001b[0manw\u001b[0m \u001b[0;34m=\u001b[0m \u001b[0mdsolve\u001b[0m\u001b[0;34m(\u001b[0m\u001b[0;34m{\u001b[0m\u001b[0meq_n_x\u001b[0m\u001b[0;34m,\u001b[0m \u001b[0meq_n_y\u001b[0m\u001b[0;34m,\u001b[0m \u001b[0meq_n_z\u001b[0m\u001b[0;34m,\u001b[0m \u001b[0meq_x\u001b[0m\u001b[0;34m,\u001b[0m \u001b[0meq_y\u001b[0m\u001b[0;34m,\u001b[0m \u001b[0meq_z\u001b[0m\u001b[0;34m}\u001b[0m\u001b[0;34m)\u001b[0m\u001b[0;34m\u001b[0m\u001b[0;34m\u001b[0m\u001b[0m\n\u001b[0m",
      "\u001b[0;32m~/.local/lib/python3.6/site-packages/sympy/solvers/ode/ode.py\u001b[0m in \u001b[0;36mdsolve\u001b[0;34m(eq, func, hint, simplify, ics, xi, eta, x0, n, **kwargs)\u001b[0m\n\u001b[1;32m    586\u001b[0m             \"number of functions being equal to number of equations\")\n\u001b[1;32m    587\u001b[0m         \u001b[0;32mif\u001b[0m \u001b[0mmatch\u001b[0m\u001b[0;34m[\u001b[0m\u001b[0;34m'type_of_equation'\u001b[0m\u001b[0;34m]\u001b[0m \u001b[0;32mis\u001b[0m \u001b[0;32mNone\u001b[0m\u001b[0;34m:\u001b[0m\u001b[0;34m\u001b[0m\u001b[0;34m\u001b[0m\u001b[0m\n\u001b[0;32m--> 588\u001b[0;31m             \u001b[0;32mraise\u001b[0m \u001b[0mNotImplementedError\u001b[0m\u001b[0;34m\u001b[0m\u001b[0;34m\u001b[0m\u001b[0m\n\u001b[0m\u001b[1;32m    589\u001b[0m         \u001b[0;32melse\u001b[0m\u001b[0;34m:\u001b[0m\u001b[0;34m\u001b[0m\u001b[0;34m\u001b[0m\u001b[0m\n\u001b[1;32m    590\u001b[0m             \u001b[0;32mif\u001b[0m \u001b[0mmatch\u001b[0m\u001b[0;34m[\u001b[0m\u001b[0;34m'is_linear'\u001b[0m\u001b[0;34m]\u001b[0m \u001b[0;34m==\u001b[0m \u001b[0;32mTrue\u001b[0m\u001b[0;34m:\u001b[0m\u001b[0;34m\u001b[0m\u001b[0;34m\u001b[0m\u001b[0m\n",
      "\u001b[0;31mNotImplementedError\u001b[0m: "
     ]
    }
   ],
   "source": [
    "anw = dsolve({eq_n_x, eq_n_y, eq_n_z, eq_x, eq_y, eq_z})"
   ]
  },
  {
   "cell_type": "markdown",
   "id": "f28f67bf",
   "metadata": {},
   "source": [
    "## Не решается! Подстановка малого параметра как малый параметр!"
   ]
  },
  {
   "cell_type": "code",
   "execution_count": 34,
   "id": "50a7c013",
   "metadata": {},
   "outputs": [
    {
     "name": "stdout",
     "output_type": "stream",
     "text": [
      "Eq(0, (-2*a*m*(-(-b + ey)**3 + (b + ey)**3)/3 + 2*b*m*((-a + ex)**3 - (a + ex)**3)/3)*w_x(t)*w_y(t) + (2*a*m*(-(-b + ey)**3 + (b + ey)**3)/3 + 2*b*m*((-a + ex)**3 - (a + ex)**3)/3)*Derivative(w_z(t), t))\n"
     ]
    }
   ],
   "source": [
    "print(eq_z)"
   ]
  },
  {
   "cell_type": "code",
   "execution_count": 47,
   "id": "1308ef30",
   "metadata": {},
   "outputs": [
    {
     "name": "stdout",
     "output_type": "stream",
     "text": [
      "(a**2 + 2*a*e_x + e_x**2)\n"
     ]
    }
   ],
   "source": [
    "tmp = (a + ex)**2\n",
    "print(f\"({tmp.expand()})\")"
   ]
  },
  {
   "cell_type": "code",
   "execution_count": 48,
   "id": "bdc2dbb3",
   "metadata": {},
   "outputs": [
    {
     "data": {
      "text/latex": [
       "$\\displaystyle 8 a b e_{y} f v \\operatorname{n_{x}}{\\left(t \\right)} = \\frac{4 a b^{3} m \\operatorname{w_{y}}{\\left(t \\right)} \\operatorname{w_{z}}{\\left(t \\right)}}{3} + \\frac{4 a b^{3} m \\frac{d}{d t} \\operatorname{w_{x}}{\\left(t \\right)}}{3}$"
      ],
      "text/plain": [
       "Eq(8*a*b*e_y*f*v*n_x(t), 4*a*b**3*m*w_y(t)*w_z(t)/3 + 4*a*b**3*m*Derivative(w_x(t), t)/3)"
      ]
     },
     "execution_count": 48,
     "metadata": {},
     "output_type": "execute_result"
    }
   ],
   "source": [
    "eq_x_new = Eq(2*a*f*v*(-(b**2 - 2*b*ey) + (b**2 + 2*b*ey))*n_x, 2*a*m*(-(-b**3 + 3*b**2*ey) + (b**3 + 3*b**2*ey))*w_y*w_z/3 + 2*a*m*(-(-b**3 + 3*b**2*ey) + (b**3 + 3*b**2*ey))*Derivative(w_x, t)/3)\n",
    "eq_y_new = Eq(2*b*f*v*((a**2 - 2*a*ex) - (a**2 + 2*a*ex))*n_x, -2*b*m*((-a**3 + 3*a**2*ex) - (a**3 + 3*a**2*ex))*w_x*w_z/3 + 2*b*m*((-a**3 + 3*a**2*ex) - (a**3 + 3*a**2*ex))*Derivative(w_y, t)/3)\n",
    "eq_z_new = Eq(0, (-2*a*m*(-(-b**3 + 3*b**2*ey) + (b**3 + 3*b**2*ey))/3 + 2*b*m*((-a**3 + 3*a**2*ex) - (a**3 + 3*a**2*ex))/3)*w_x*w_y + (2*a*m*(-(-b**3 + 3*b**2*ey) + (b**3 + 3*b**2*ey))/3 + 2*b*m*((-a**3 + 3*a**2*ex) - (a**3 + 3*a**2*ex))/3)*Derivative(w_z, t))\n",
    "eq_x_new"
   ]
  },
  {
   "cell_type": "code",
   "execution_count": null,
   "id": "31123ae3",
   "metadata": {},
   "outputs": [],
   "source": []
  },
  {
   "cell_type": "code",
   "execution_count": 40,
   "id": "b3d2b217",
   "metadata": {},
   "outputs": [
    {
     "ename": "NotImplementedError",
     "evalue": "",
     "output_type": "error",
     "traceback": [
      "\u001b[0;31m---------------------------------------------------------------------------\u001b[0m",
      "\u001b[0;31mNotImplementedError\u001b[0m                       Traceback (most recent call last)",
      "\u001b[0;32m<ipython-input-40-526c1414ef4a>\u001b[0m in \u001b[0;36m<module>\u001b[0;34m\u001b[0m\n\u001b[0;32m----> 1\u001b[0;31m \u001b[0manw\u001b[0m \u001b[0;34m=\u001b[0m \u001b[0mdsolve\u001b[0m\u001b[0;34m(\u001b[0m\u001b[0;34m{\u001b[0m\u001b[0meq_n_x\u001b[0m\u001b[0;34m,\u001b[0m \u001b[0meq_n_y\u001b[0m\u001b[0;34m,\u001b[0m \u001b[0meq_n_z\u001b[0m\u001b[0;34m,\u001b[0m \u001b[0meq_x_new\u001b[0m\u001b[0;34m,\u001b[0m \u001b[0meq_y_new\u001b[0m\u001b[0;34m,\u001b[0m \u001b[0meq_z_new\u001b[0m\u001b[0;34m}\u001b[0m\u001b[0;34m,\u001b[0m \u001b[0;34m[\u001b[0m\u001b[0mn_x\u001b[0m\u001b[0;34m,\u001b[0m \u001b[0mn_y\u001b[0m\u001b[0;34m,\u001b[0m \u001b[0mn_z\u001b[0m\u001b[0;34m,\u001b[0m \u001b[0mw_x\u001b[0m\u001b[0;34m,\u001b[0m \u001b[0mw_y\u001b[0m\u001b[0;34m,\u001b[0m \u001b[0mw_z\u001b[0m\u001b[0;34m]\u001b[0m\u001b[0;34m)\u001b[0m\u001b[0;34m\u001b[0m\u001b[0;34m\u001b[0m\u001b[0m\n\u001b[0m",
      "\u001b[0;32m~/.local/lib/python3.6/site-packages/sympy/solvers/ode/ode.py\u001b[0m in \u001b[0;36mdsolve\u001b[0;34m(eq, func, hint, simplify, ics, xi, eta, x0, n, **kwargs)\u001b[0m\n\u001b[1;32m    586\u001b[0m             \"number of functions being equal to number of equations\")\n\u001b[1;32m    587\u001b[0m         \u001b[0;32mif\u001b[0m \u001b[0mmatch\u001b[0m\u001b[0;34m[\u001b[0m\u001b[0;34m'type_of_equation'\u001b[0m\u001b[0;34m]\u001b[0m \u001b[0;32mis\u001b[0m \u001b[0;32mNone\u001b[0m\u001b[0;34m:\u001b[0m\u001b[0;34m\u001b[0m\u001b[0;34m\u001b[0m\u001b[0m\n\u001b[0;32m--> 588\u001b[0;31m             \u001b[0;32mraise\u001b[0m \u001b[0mNotImplementedError\u001b[0m\u001b[0;34m\u001b[0m\u001b[0;34m\u001b[0m\u001b[0m\n\u001b[0m\u001b[1;32m    589\u001b[0m         \u001b[0;32melse\u001b[0m\u001b[0;34m:\u001b[0m\u001b[0;34m\u001b[0m\u001b[0;34m\u001b[0m\u001b[0m\n\u001b[1;32m    590\u001b[0m             \u001b[0;32mif\u001b[0m \u001b[0mmatch\u001b[0m\u001b[0;34m[\u001b[0m\u001b[0;34m'is_linear'\u001b[0m\u001b[0;34m]\u001b[0m \u001b[0;34m==\u001b[0m \u001b[0;32mTrue\u001b[0m\u001b[0;34m:\u001b[0m\u001b[0;34m\u001b[0m\u001b[0;34m\u001b[0m\u001b[0m\n",
      "\u001b[0;31mNotImplementedError\u001b[0m: "
     ]
    }
   ],
   "source": [
    "anw = dsolve({eq_n_x, eq_n_y, eq_n_z, eq_x_new, eq_y_new, eq_z_new}, [n_x, n_y, n_z, w_x, w_y, w_z])"
   ]
  },
  {
   "cell_type": "code",
   "execution_count": 49,
   "id": "4292a7ed",
   "metadata": {},
   "outputs": [
    {
     "data": {
      "text/latex": [
       "$\\displaystyle \\frac{d}{d t} \\operatorname{n_{x}}{\\left(t \\right)} = - \\operatorname{n_{y}}{\\left(t \\right)} \\operatorname{w_{z}}{\\left(t \\right)} + \\operatorname{n_{z}}{\\left(t \\right)} \\operatorname{w_{y}}{\\left(t \\right)}$"
      ],
      "text/plain": [
       "Eq(Derivative(n_x(t), t), -n_y(t)*w_z(t) + n_z(t)*w_y(t))"
      ]
     },
     "execution_count": 49,
     "metadata": {},
     "output_type": "execute_result"
    }
   ],
   "source": [
    "eq_n_x"
   ]
  },
  {
   "cell_type": "code",
   "execution_count": 50,
   "id": "a7ce1c9f",
   "metadata": {},
   "outputs": [
    {
     "data": {
      "text/latex": [
       "$\\displaystyle - \\operatorname{w_{y}}{\\left(t \\right)} \\operatorname{w_{z}}{\\left(t \\right)} + \\frac{6 e_{y} f v \\operatorname{n_{x}}{\\left(t \\right)}}{b^{2} m}$"
      ],
      "text/plain": [
       "-w_y(t)*w_z(t) + 6*e_y*f*v*n_x(t)/(b**2*m)"
      ]
     },
     "execution_count": 50,
     "metadata": {},
     "output_type": "execute_result"
    }
   ],
   "source": [
    "solve(eq_x_new, w_x.diff(t))[0]"
   ]
  },
  {
   "cell_type": "code",
   "execution_count": 51,
   "id": "6fa44e3d",
   "metadata": {},
   "outputs": [
    {
     "data": {
      "text/latex": [
       "$\\displaystyle \\operatorname{w_{x}}{\\left(t \\right)} \\operatorname{w_{z}}{\\left(t \\right)} + \\frac{6 e_{x} f v \\operatorname{n_{x}}{\\left(t \\right)}}{a^{2} m}$"
      ],
      "text/plain": [
       "w_x(t)*w_z(t) + 6*e_x*f*v*n_x(t)/(a**2*m)"
      ]
     },
     "execution_count": 51,
     "metadata": {},
     "output_type": "execute_result"
    }
   ],
   "source": [
    "solve(eq_y_new, w_y.diff(t))[0]"
   ]
  },
  {
   "cell_type": "code",
   "execution_count": 52,
   "id": "01a54a98",
   "metadata": {},
   "outputs": [
    {
     "data": {
      "text/latex": [
       "$\\displaystyle - \\frac{\\left(a^{2} + b^{2}\\right) \\operatorname{w_{x}}{\\left(t \\right)} \\operatorname{w_{y}}{\\left(t \\right)}}{a^{2} - b^{2}}$"
      ],
      "text/plain": [
       "-(a**2 + b**2)*w_x(t)*w_y(t)/(a**2 - b**2)"
      ]
     },
     "execution_count": 52,
     "metadata": {},
     "output_type": "execute_result"
    }
   ],
   "source": [
    "solve(eq_z_new, w_z.diff(t))[0]"
   ]
  }
 ],
 "metadata": {
  "kernelspec": {
   "display_name": "Python 3 (ipykernel)",
   "language": "python",
   "name": "python3"
  },
  "language_info": {
   "codemirror_mode": {
    "name": "ipython",
    "version": 3
   },
   "file_extension": ".py",
   "mimetype": "text/x-python",
   "name": "python",
   "nbconvert_exporter": "python",
   "pygments_lexer": "ipython3",
   "version": "3.10.12"
  }
 },
 "nbformat": 4,
 "nbformat_minor": 5
}
