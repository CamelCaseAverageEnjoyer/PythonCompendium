{
 "cells": [
  {
   "cell_type": "markdown",
   "id": "23589c8a-6cb3-46ef-97ca-68a187be3c2f",
   "metadata": {},
   "source": [
    "![](../storage/banners/40_assumptions.png)"
   ]
  },
  {
   "cell_type": "code",
   "execution_count": 1,
   "id": "a858726b-c494-46f0-b965-84a942c5ac72",
   "metadata": {},
   "outputs": [
    {
     "name": "stdout",
     "output_type": "stream",
     "text": [
      "\u001b[32mИнициализация проекта kiam-formation | Контекст: kiamformation\u001b[0m\n"
     ]
    }
   ],
   "source": [
    "from __init__ import *"
   ]
  },
  {
   "cell_type": "markdown",
   "id": "041c7fef-bf5e-47dd-bef8-f44b380a851e",
   "metadata": {},
   "source": [
    "##### Быстродействие"
   ]
  },
  {
   "cell_type": "markdown",
   "id": "ce35b96e-edea-4da9-b423-07657473a623",
   "metadata": {},
   "source": [
    "`clip`: своё лучше для обычных чисел"
   ]
  },
  {
   "cell_type": "code",
   "execution_count": 43,
   "id": "d813faf4-6706-40fc-b76b-c23bc526583d",
   "metadata": {},
   "outputs": [
    {
     "name": "stdout",
     "output_type": "stream",
     "text": [
      "my-clip: 0.14356112480163574 секунд\n",
      "np.clip: 3.1530544757843018 секунд\n"
     ]
    }
   ],
   "source": [
    "import numpy as np\n",
    "import time\n",
    "\n",
    "n = int(1e6)\n",
    "\n",
    "# Моя функция\n",
    "def clip(a: float, bot: float, top: float) -> float:\n",
    "    if a < bot:\n",
    "        return bot\n",
    "    if a > top:\n",
    "        return top\n",
    "    return a\n",
    "\n",
    "t0 = time.time()\n",
    "for _ in range(n):\n",
    "    tmp = clip(-1, 0, 2)\n",
    "print(f\"my-clip: {time.time() - t0} секунд\")\n",
    "\n",
    "t0 = time.time()\n",
    "for _ in range(n):\n",
    "    tmp = np.clip(-1, 0, 2)\n",
    "print(f\"np.clip: {time.time() - t0} секунд\")"
   ]
  },
  {
   "cell_type": "markdown",
   "id": "c13bad55-ec3b-4556-afec-3265c6135e0b",
   "metadata": {
    "jp-MarkdownHeadingCollapsed": true
   },
   "source": [
    "##### Кватернионы в ПО"
   ]
  },
  {
   "cell_type": "code",
   "execution_count": null,
   "id": "b23d1f64-f31a-47bf-968d-6dd4fce20eb8",
   "metadata": {},
   "outputs": [],
   "source": [
    "# import numpy as np\n",
    "# s0 = dir(np)"
   ]
  },
  {
   "cell_type": "code",
   "execution_count": null,
   "id": "192b5569-a66d-4b74-8bbc-9ab5a352e870",
   "metadata": {},
   "outputs": [],
   "source": [
    "# s = dir(quaternion.np)\n",
    "# for i in s0:\n",
    "#     s.remove(i)\n",
    "# s"
   ]
  },
  {
   "cell_type": "markdown",
   "id": "315db081-e4bd-493e-b67a-c5ba29ed8572",
   "metadata": {},
   "source": [
    "**Инициализация**"
   ]
  },
  {
   "cell_type": "code",
   "execution_count": 100,
   "id": "5793777f-eb14-46e9-b950-e7d15d63319e",
   "metadata": {},
   "outputs": [
    {
     "name": "stdout",
     "output_type": "stream",
     "text": [
      "q = quaternion(1, 0, 0, 0)\n",
      "q = quaternion(1, 2, 3, 4)\n",
      "q = quaternion(0, 5, 0, 0)\n",
      "q = quaternion(5, 0, 0, 0)\n",
      "q = quaternion(0, 0, 0, 0)\n"
     ]
    }
   ],
   "source": [
    "import numpy as np\n",
    "import quaternion\n",
    "\n",
    "for q in [np.quaternion(1, 0, 0, 0),\n",
    "          np.quaternion(1, 2, 3, 4),\n",
    "          np.quaternion(5, 0, 0),\n",
    "          np.quaternion(5),\n",
    "          np.quaternion()]:\n",
    "    print(f\"q = {q}\")\n",
    "\n",
    "q = np.quaternion(1, 2, 3, 4)"
   ]
  },
  {
   "cell_type": "markdown",
   "id": "5abca95a-1d86-4033-a4a4-018d27d424fd",
   "metadata": {},
   "source": [
    "**Преобразования типов**"
   ]
  },
  {
   "cell_type": "code",
   "execution_count": 66,
   "id": "59ec8b4c-3689-4abb-bf96-49c2e2794379",
   "metadata": {},
   "outputs": [
    {
     "name": "stdout",
     "output_type": "stream",
     "text": [
      "Как numpy-массив: [1. 2. 3. 4.]\n",
      "<class 'numpy.ndarray'>\n",
      "Как numpy-массив: quaternion(1, 2, 3, 4)\n",
      "<class 'numpy.ndarray'>\n",
      "Как numpy-массив: quaternion(1, 2, 3, 4)\n",
      "<class 'numpy.ndarray'>\n",
      "Как numpy-массив: [1. 2. 3. 4.]\n",
      "<class 'numpy.ndarray'>\n"
     ]
    }
   ],
   "source": [
    "a = quaternion.as_float_array(q)\n",
    "b = quaternion.np.array(q)\n",
    "c = quaternion.np.asarray(q)\n",
    "d = q.components\n",
    "\n",
    "print(f\"Как numpy-массив: {a}\")\n",
    "print(type(a))\n",
    "print(f\"Как numpy-массив: {b}\")\n",
    "print(type(b))\n",
    "print(f\"Как numpy-массив: {c}\")\n",
    "print(type(c))\n",
    "print(f\"Как numpy-массив: {d}\")\n",
    "print(type(d))"
   ]
  },
  {
   "cell_type": "markdown",
   "id": "57317e4a-6a95-4e94-b18e-fc39ad3d7289",
   "metadata": {},
   "source": [
    "**Преобразовани математические**"
   ]
  },
  {
   "cell_type": "code",
   "execution_count": 101,
   "id": "aa2ec75f-1bd4-45e0-bd19-cef6d84c42f6",
   "metadata": {},
   "outputs": [
    {
     "name": "stdout",
     "output_type": "stream",
     "text": [
      "Скалярная часть: 1.0\n",
      "<class 'float'>\n",
      "Векторная часть: [2. 3. 4.]\n",
      "<class 'numpy.ndarray'>\n",
      "Составлющие: 1.0 2.0 3.0 4.0\n",
      "<class 'float'> <class 'float'> <class 'float'> <class 'float'>\n"
     ]
    }
   ],
   "source": [
    "a = q.real\n",
    "b = q.vec\n",
    "w = q.w\n",
    "x = q.x\n",
    "y = q.y\n",
    "z = q.z\n",
    "\n",
    "print(f\"Скалярная часть: {a}\")\n",
    "print(type(a))\n",
    "print(f\"Векторная часть: {b}\")\n",
    "print(type(b))\n",
    "print(f\"Составлющие: {w} {x} {y} {z}\")\n",
    "print(type(w), type(x), type(y), type(z))"
   ]
  },
  {
   "cell_type": "code",
   "execution_count": 10,
   "id": "f7d65945-8800-463b-b3c6-1b6f486018f1",
   "metadata": {},
   "outputs": [
    {
     "name": "stdout",
     "output_type": "stream",
     "text": [
      "Нормированный кватернион: quaternion(0.182574185835055, 0.365148371670111, 0.547722557505166, 0.730296743340221)\n",
      "<class 'quaternion.quaternion'>\n"
     ]
    }
   ],
   "source": [
    "a = quaternion.np.normalized(q)\n",
    "\n",
    "print(f\"Нормированный кватернион: {a}\")\n",
    "print(type(a))"
   ]
  },
  {
   "cell_type": "code",
   "execution_count": 99,
   "id": "71d87cae-8cf2-47eb-9f20-5d5c01344189",
   "metadata": {},
   "outputs": [
    {
     "name": "stdout",
     "output_type": "stream",
     "text": [
      "Модуль: 5.477225575051661 | 5.477225575051661 | 5.477225575051661\n",
      "<class 'numpy.float64'> <class 'numpy.float64'> <class 'float'> \n",
      "\n",
      "Норма: 30.0 (√c = 5.477225575051661)\n",
      "<class 'numpy.float64'>\n"
     ]
    }
   ],
   "source": [
    "a = quaternion.np.abs(q)\n",
    "b = quaternion.np.absolute(q)\n",
    "d = q.abs()\n",
    "\n",
    "c = quaternion.np.norm(q)\n",
    "\n",
    "print(f\"Модуль: {a} | {b} | {d}\")\n",
    "print(type(a), type(b), type(d), '\\n')\n",
    "\n",
    "print(f\"Норма: {c} (√c = {np.sqrt(c)})\")\n",
    "print(type(c))"
   ]
  },
  {
   "cell_type": "code",
   "execution_count": 27,
   "id": "449d68e3-3290-4587-b393-2c5ee3b58daa",
   "metadata": {},
   "outputs": [
    {
     "name": "stdout",
     "output_type": "stream",
     "text": [
      "Угол поворота: 4.389231563842282 | 4.389231563842282\n",
      "<class 'numpy.float64'> <class 'float'>\n"
     ]
    }
   ],
   "source": [
    "a = quaternion.np.angle_of_rotor(q)\n",
    "b = q.angle()\n",
    "\n",
    "print(f\"Угол поворота: {a} | {b}\")\n",
    "print(type(a), type(b))"
   ]
  },
  {
   "cell_type": "code",
   "execution_count": 96,
   "id": "d08d6c8e-88d0-48c6-a477-321797846134",
   "metadata": {},
   "outputs": [
    {
     "name": "stdout",
     "output_type": "stream",
     "text": [
      "Сопряженный: quaternion(1, -2, -3, -4) | quaternion(1, -2, -3, -4)\n",
      "<class 'quaternion.quaternion'> <class 'quaternion.quaternion'> \n",
      "\n",
      "Обратный: quaternion(0.0333333333333333, -0.0666666666666667, -0.1, -0.133333333333333) | quaternion(0.0333333333333333, -0.0666666666666667, -0.1, -0.133333333333333)\n",
      "<class 'quaternion.quaternion'> <class 'quaternion.quaternion'>\n"
     ]
    }
   ],
   "source": [
    "a = q.conj()\n",
    "b = q.conjugate()\n",
    "\n",
    "с = q.inverse()\n",
    "d = q.reciprocal()\n",
    "\n",
    "print(f\"Сопряженный: {a} | {b}\")\n",
    "print(type(a), type(b), '\\n')\n",
    "\n",
    "print(f\"Обратный: {с} | {d}\")\n",
    "print(type(с), type(d))"
   ]
  },
  {
   "cell_type": "markdown",
   "id": "35235e93-ff1e-4fa8-8b32-b70f943cc9ae",
   "metadata": {},
   "source": [
    "##### Проверка кватернионного умножения"
   ]
  },
  {
   "cell_type": "markdown",
   "id": "dfcd8789-94d2-4c38-b6e4-cd488b6580b1",
   "metadata": {
    "jp-MarkdownHeadingCollapsed": true
   },
   "source": [
    "###### Символьные выражения"
   ]
  },
  {
   "cell_type": "code",
   "execution_count": 3,
   "id": "086b91d4-7bff-4e56-ac65-e73d426544f0",
   "metadata": {},
   "outputs": [
    {
     "name": "stdout",
     "output_type": "stream",
     "text": [
      "Скалярная часть:\n"
     ]
    },
    {
     "data": {
      "text/latex": [
       "$\\displaystyle q^{1}_{0} q^{2}_{0} - q^{1}_{x} q^{2}_{x} - q^{1}_{y} q^{2}_{y} - q^{1}_{z} q^{2}_{z}$"
      ],
      "text/plain": [
       "q^1_0*q^2_0 - q^1_x*q^2_x - q^1_y*q^2_y - q^1_z*q^2_z"
      ]
     },
     "execution_count": 3,
     "metadata": {},
     "output_type": "execute_result"
    }
   ],
   "source": [
    "from sympy import *\n",
    "\n",
    "q1 = kf.get_vars(\"q^1\", 4, numb=False)\n",
    "q2 = kf.get_vars(\"q^2\", 4, numb=False)\n",
    "q1v = Matrix(q1[1:4])\n",
    "q2v = Matrix(q2[1:4])\n",
    "\n",
    "print(\"Скалярная часть:\")\n",
    "q1[0]*q2[0] - q1v.dot(q2v)"
   ]
  },
  {
   "cell_type": "code",
   "execution_count": 4,
   "id": "8ee4b422-4743-4d9f-9362-6f268133aa2b",
   "metadata": {},
   "outputs": [
    {
     "name": "stdout",
     "output_type": "stream",
     "text": [
      "Векторная часть:\n"
     ]
    },
    {
     "data": {
      "text/latex": [
       "$\\displaystyle \\left[\\begin{matrix}q^{1}_{0} q^{2}_{x} + q^{1}_{x} q^{2}_{0} + q^{1}_{y} q^{2}_{z} - q^{1}_{z} q^{2}_{y}\\\\q^{1}_{0} q^{2}_{y} - q^{1}_{x} q^{2}_{z} + q^{1}_{y} q^{2}_{0} + q^{1}_{z} q^{2}_{x}\\\\q^{1}_{0} q^{2}_{z} + q^{1}_{x} q^{2}_{y} - q^{1}_{y} q^{2}_{x} + q^{1}_{z} q^{2}_{0}\\end{matrix}\\right]$"
      ],
      "text/plain": [
       "Matrix([\n",
       "[q^1_0*q^2_x + q^1_x*q^2_0 + q^1_y*q^2_z - q^1_z*q^2_y],\n",
       "[q^1_0*q^2_y - q^1_x*q^2_z + q^1_y*q^2_0 + q^1_z*q^2_x],\n",
       "[q^1_0*q^2_z + q^1_x*q^2_y - q^1_y*q^2_x + q^1_z*q^2_0]])"
      ]
     },
     "execution_count": 4,
     "metadata": {},
     "output_type": "execute_result"
    }
   ],
   "source": [
    "print(\"Векторная часть:\")\n",
    "q1v*q2[0] + q2v*q1[0] + q1v.cross(q2v)"
   ]
  },
  {
   "cell_type": "markdown",
   "id": "8f0434c7-1d51-4259-9165-8f54a56a2d77",
   "metadata": {},
   "source": [
    "###### Старый код"
   ]
  },
  {
   "cell_type": "code",
   "execution_count": 46,
   "id": "89ed0641-85fb-493e-b612-511436740716",
   "metadata": {},
   "outputs": [
    {
     "name": "stdout",
     "output_type": "stream",
     "text": [
      "λ₁ = [0.50963435 0.55272453 0.57937229 0.31479545]\n",
      "q3->q4: [0.5096343479799098, 0.5527245303128928, 0.5793722880928656, 0.31479545222179095]\n",
      "модуль [0.5096343479799098, 0.5527245303128928, 0.5793722880928656, 0.31479545222179095] = 0.9999999999999999)\n",
      "λ₂ = [0.57007807 0.63390766 0.5152193  0.08786999]\n",
      "λ₁∘λ₂ = [-0.38600981  0.526878    0.74384424  0.14174536]\n",
      "\n",
      "A(λ₁) = \n",
      "[[ 0.13046315  0.9613277  -0.2425457 ]\n",
      " [ 0.3196054   0.19079883  0.92814233]\n",
      " [ 0.93852637 -0.19860729 -0.28235331]] (type(A)=<class 'numpy.ndarray'>) \n",
      "Детерминант 1.0000000000000007, \n",
      "AA.T=\n",
      "[[1 0 0]\n",
      " [0 1 0]\n",
      " [0 0 1]]\n"
     ]
    }
   ],
   "source": [
    "import numpy as np\n",
    "\n",
    "def vec2quat(v) -> list:\n",
    "    if len(v) != 3:\n",
    "        raise ValueError(f\"Подаётся вектор длинны {len(v)}, требуется длинна 3!\")\n",
    "    if np.linalg.norm(v) > 1:\n",
    "        return [0] + list(np.array(v)/np.linalg.norm(v))\n",
    "    else:\n",
    "        return [np.sqrt(1 - np.linalg.norm(v)**2), v[0], v[1], v[2]]\n",
    "\n",
    "def q_dot(L1, L2):\n",
    "    return np.array([L1[0] * L2[0] - L1[1] * L2[1] - L1[2] * L2[2] - L1[3] * L2[3],\n",
    "                     L1[0] * L2[1] + L1[1] * L2[0] + L1[2] * L2[3] - L1[3] * L2[2],\n",
    "                     L1[0] * L2[2] + L1[2] * L2[0] + L1[3] * L2[1] - L1[1] * L2[3],\n",
    "                     L1[0] * L2[3] + L1[3] * L2[0] + L1[1] * L2[2] - L1[2] * L2[1]])\n",
    "\n",
    "def quart2dcm(L) -> np.ndarray:\n",
    "    w, x, y, z = L\n",
    "    A = np.eye(3)\n",
    "    A[0][0] = 1 - 2 * y ** 2 - 2 * z ** 2\n",
    "    A[0][1] = 2 * x * y + 2 * z * w\n",
    "    A[0][2] = 2 * x * z - 2 * y * w\n",
    "    A[1][0] = 2 * x * y - 2 * z * w\n",
    "    A[1][1] = 1 - 2 * x ** 2 - 2 * z ** 2\n",
    "    A[1][2] = 2 * y * z + 2 * x * w\n",
    "    A[2][0] = 2 * x * z + 2 * y * w\n",
    "    A[2][1] = 2 * y * z - 2 * x * w\n",
    "    A[2][2] = 1 - 2 * x ** 2 - 2 * y ** 2\n",
    "    return A\n",
    "\n",
    "def check_quat(q1, q2, q_dot, quart2dcm, vec2quat):\n",
    "    print(f\"λ₁ = {q1}\")\n",
    "    if isinstance(q1, list | np.ndarray):\n",
    "        print(f\"q3->q4: {vec2quat(q1[1:4])}\")\n",
    "        if isinstance(vec2quat(q1[1:4]), list | np.ndarray):\n",
    "            print(f\"модуль {vec2quat(q1[1:4])} = {np.linalg.norm(vec2quat(q1[1:4]))})\")\n",
    "    print(f\"λ₂ = {q2}\")\n",
    "    print(f\"λ₁∘λ₂ = {q_dot(q1, q2)}\\n\")\n",
    "\n",
    "    A = quart2dcm(q1)\n",
    "    print(f\"A(λ₁) = \\n{A} (type(A)={type(A)}) \\nДетерминант {np.linalg.det(A)}, \\nAA.T=\\n{np.round(A @ A.T).astype(np.int64)}\")\n",
    "\n",
    "qs = [np.random.rand(4) for _ in range(2)]\n",
    "for i in range(2):\n",
    "    qs[i] /= np.linalg.norm(qs[i])\n",
    "\n",
    "check_quat(qs[0], qs[1], q_dot, quart2dcm, vec2quat)"
   ]
  },
  {
   "cell_type": "markdown",
   "id": "18859a1d-0545-42b0-8730-b039ed338927",
   "metadata": {},
   "source": [
    "###### Новый код"
   ]
  },
  {
   "cell_type": "code",
   "execution_count": 47,
   "id": "4fde252d-6578-49a1-9eb0-d3671e1ddfe2",
   "metadata": {},
   "outputs": [
    {
     "name": "stdout",
     "output_type": "stream",
     "text": [
      "λ₁ = quaternion(0.50963434797991, 0.552724530312893, 0.579372288092866, 0.314795452221791)\n",
      "λ₂ = quaternion(0.570078071786166, 0.633907663196747, 0.51521930422025, 0.0878699901434395)\n",
      "λ₁∘λ₂ = quaternion(-0.386009809429407, 0.526877996461123, 0.743844241487517, 0.141745364210778)\n",
      "\n",
      "A(λ₁) = \n",
      "[[ 0.13046315  0.3196054   0.93852637]\n",
      " [ 0.9613277   0.19079883 -0.19860729]\n",
      " [-0.2425457   0.92814233 -0.28235331]] (type(A)=<class 'numpy.ndarray'>) \n",
      "Детерминант 1.0000000000000007, \n",
      "AA.T=\n",
      "[[1 0 0]\n",
      " [0 1 0]\n",
      " [0 0 1]]\n"
     ]
    }
   ],
   "source": [
    "import numpy as np\n",
    "import quaternion\n",
    "\n",
    "def vec2quat(v):\n",
    "    \"\"\"Перевод вектора кватерниона в кватернион\"\"\"\n",
    "    if isinstance(v, np.ndarray | list | quaternion.quaternion):\n",
    "        return np.quaternion(*v)\n",
    "    else:\n",
    "        from sympy import Matrix\n",
    "        return Matrix([sqrt(1 - v.dot(v)), v[0], v[1], v[2]])\n",
    "\n",
    "def q_dot(q1, q2):\n",
    "    \"\"\"Умножение кватернионов длины 4\"\"\"\n",
    "    if isinstance(q1, quaternion.quaternion):\n",
    "        return q1 * q2\n",
    "    else:\n",
    "        from sympy import Matrix\n",
    "        q1v = Matrix(q1[1:4])\n",
    "        q2v = Matrix(q2[1:4])\n",
    "        scalar = q1[0]*q2[0] - q1v.dot(q2v)\n",
    "        vector = q1v*q2[0] + q2v*q1[0] + q1v.cross(q2v)\n",
    "        return Matrix([scalar, vector[0], vector[1], vector[2]])\n",
    "\n",
    "def quart2dcm(q):\n",
    "    \"\"\"Матрицу поворота из кватерниона поворота\"\"\"\n",
    "    if isinstance(q, quaternion.quaternion):\n",
    "        return quaternion.as_rotation_matrix(q)\n",
    "    else:\n",
    "        from sympy import Matrix, sqrt\n",
    "        w, x, y, z = q\n",
    "        return Matrix([[1 - 2*y**2 - 2*z**2, 2*x*y + 2*z*w, 2*x*z - 2*y*w],\n",
    "                       [2*x*y - 2*z*w, 1 - 2*x**2 - 2*z**2, 2*y*z + 2*x*w],\n",
    "                       [2*x*z + 2*y*w, 2*y*z - 2*x*w, 1 - 2*x**2 - 2*y**2]])\n",
    "\n",
    "for i in range(2):\n",
    "    qs[i] = np.quaternion(*qs[i])\n",
    "check_quat(qs[0], qs[1], q_dot, quart2dcm, vec2quat)"
   ]
  },
  {
   "cell_type": "markdown",
   "id": "290cfd6d-23f2-4818-8452-6e6067dde89f",
   "metadata": {},
   "source": [
    "λ₁ = [0.01206783 0.61613075 0.63217471 0.46967265]\n",
    "q3->q4: [0.012067828774893265, 0.6161307531238012, 0.6321747111229158, 0.4696726489592675]\n",
    "модуль [0.012067828774893265, 0.6161307531238012, 0.6321747111229158, 0.4696726489592675] = 1.0)\n",
    "λ₂ = [0.37735788 0.7657617  0.50802446 0.11454778]\n",
    "λ₁∘λ₂ = [-0.84221562  0.07555189  0.53376778  0.00753134]\n",
    "\n",
    "A(λ₁) = \n",
    "[[-0.24047453  0.79034042  0.56350157]\n",
    " [ 0.7676687  -0.200419    0.60870106]\n",
    " [ 0.59401748  0.57895962 -0.55852394]] \n",
    "Детерминант 1.000000000000001, \n",
    "AA.T=\n",
    "[[1 0 0]\n",
    " [0 1 0]\n",
    " [0 0 1]]"
   ]
  },
  {
   "cell_type": "code",
   "execution_count": 73,
   "id": "e63d69fe-172e-4c9f-8925-30c923c1bf2a",
   "metadata": {},
   "outputs": [
    {
     "data": {
      "text/plain": [
       "quaternion(0, 0, 0.5, 0)"
      ]
     },
     "execution_count": 73,
     "metadata": {},
     "output_type": "execute_result"
    }
   ],
   "source": [
    "a"
   ]
  },
  {
   "cell_type": "code",
   "execution_count": 75,
   "id": "00b7ec5e-d17c-4ae5-879e-4cfd156f6ce3",
   "metadata": {},
   "outputs": [
    {
     "data": {
      "text/plain": [
       "array([0. , 0.5, 0. ])"
      ]
     },
     "execution_count": 75,
     "metadata": {},
     "output_type": "execute_result"
    }
   ],
   "source": [
    "g = quaternion.as_float_array(a)\n",
    "g[[1, 2, 3]]"
   ]
  },
  {
   "cell_type": "code",
   "execution_count": null,
   "id": "ecee28b7-6377-4974-91ff-f984c3d3db38",
   "metadata": {},
   "outputs": [],
   "source": [
    "dir(a)"
   ]
  },
  {
   "cell_type": "code",
   "execution_count": 69,
   "id": "7bf5ddfd-cf4d-4de8-8422-3f2694fe2db8",
   "metadata": {},
   "outputs": [
    {
     "data": {
      "text/plain": [
       "float"
      ]
     },
     "execution_count": 69,
     "metadata": {},
     "output_type": "execute_result"
    }
   ],
   "source": [
    "type(a.x)"
   ]
  },
  {
   "cell_type": "code",
   "execution_count": 80,
   "id": "164e1bd1-7609-4630-a7ba-c5daf667012e",
   "metadata": {},
   "outputs": [
    {
     "data": {
      "text/plain": [
       "list"
      ]
     },
     "execution_count": 80,
     "metadata": {},
     "output_type": "execute_result"
    }
   ],
   "source": [
    "from sympy import *\n",
    "\n",
    "m = Matrix([1, 2, 3, 4, 5])\n",
    "type(m[1:3])"
   ]
  },
  {
   "cell_type": "code",
   "execution_count": null,
   "id": "93286677-0429-463e-aa43-6e4503b592de",
   "metadata": {},
   "outputs": [],
   "source": [
    "import sympy\n",
    "\n",
    "dir(sympy)"
   ]
  },
  {
   "cell_type": "markdown",
   "id": "d87c7bd8-b518-44f0-b11d-f6773dc3a271",
   "metadata": {},
   "source": [
    "### a * 2"
   ]
  },
  {
   "cell_type": "code",
   "execution_count": null,
   "id": "0a737716-efa3-40d2-9643-a11ca75d9491",
   "metadata": {},
   "outputs": [],
   "source": [
    "dir(m)"
   ]
  }
 ],
 "metadata": {
  "kernelspec": {
   "display_name": "Python 3 (ipykernel)",
   "language": "python",
   "name": "python3"
  },
  "language_info": {
   "codemirror_mode": {
    "name": "ipython",
    "version": 3
   },
   "file_extension": ".py",
   "mimetype": "text/x-python",
   "name": "python",
   "nbconvert_exporter": "python",
   "pygments_lexer": "ipython3",
   "version": "3.10.12"
  }
 },
 "nbformat": 4,
 "nbformat_minor": 5
}
