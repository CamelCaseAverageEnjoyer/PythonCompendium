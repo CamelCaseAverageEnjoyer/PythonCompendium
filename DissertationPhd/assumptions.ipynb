{
 "cells": [
  {
   "cell_type": "markdown",
   "id": "23589c8a-6cb3-46ef-97ca-68a187be3c2f",
   "metadata": {},
   "source": [
    "![](../storage/banners/12_assumptions.png)"
   ]
  },
  {
   "cell_type": "code",
   "execution_count": 1,
   "id": "a858726b-c494-46f0-b965-84a942c5ac72",
   "metadata": {},
   "outputs": [
    {
     "name": "stdout",
     "output_type": "stream",
     "text": [
      "\u001b[32mИнициализация проекта kiam-formation | Контекст: kiamformation\u001b[0m\n"
     ]
    }
   ],
   "source": [
    "from __init__ import *"
   ]
  },
  {
   "cell_type": "markdown",
   "id": "35235e93-ff1e-4fa8-8b32-b70f943cc9ae",
   "metadata": {},
   "source": [
    "##### Проверка кватернионного умножения"
   ]
  },
  {
   "cell_type": "markdown",
   "id": "dfcd8789-94d2-4c38-b6e4-cd488b6580b1",
   "metadata": {},
   "source": [
    "###### Символьные выражения"
   ]
  },
  {
   "cell_type": "code",
   "execution_count": 3,
   "id": "086b91d4-7bff-4e56-ac65-e73d426544f0",
   "metadata": {},
   "outputs": [
    {
     "name": "stdout",
     "output_type": "stream",
     "text": [
      "Скалярная часть:\n"
     ]
    },
    {
     "data": {
      "text/latex": [
       "$\\displaystyle q^{1}_{0} q^{2}_{0} - q^{1}_{x} q^{2}_{x} - q^{1}_{y} q^{2}_{y} - q^{1}_{z} q^{2}_{z}$"
      ],
      "text/plain": [
       "q^1_0*q^2_0 - q^1_x*q^2_x - q^1_y*q^2_y - q^1_z*q^2_z"
      ]
     },
     "execution_count": 3,
     "metadata": {},
     "output_type": "execute_result"
    }
   ],
   "source": [
    "from sympy import *\n",
    "\n",
    "q1 = kf.get_vars(\"q^1\", 4, numb=False)\n",
    "q2 = kf.get_vars(\"q^2\", 4, numb=False)\n",
    "q1v = Matrix(q1[1:4])\n",
    "q2v = Matrix(q2[1:4])\n",
    "\n",
    "print(\"Скалярная часть:\")\n",
    "q1[0]*q2[0] - q1v.dot(q2v)"
   ]
  },
  {
   "cell_type": "code",
   "execution_count": 4,
   "id": "8ee4b422-4743-4d9f-9362-6f268133aa2b",
   "metadata": {},
   "outputs": [
    {
     "name": "stdout",
     "output_type": "stream",
     "text": [
      "Векторная часть:\n"
     ]
    },
    {
     "data": {
      "text/latex": [
       "$\\displaystyle \\left[\\begin{matrix}q^{1}_{0} q^{2}_{x} + q^{1}_{x} q^{2}_{0} + q^{1}_{y} q^{2}_{z} - q^{1}_{z} q^{2}_{y}\\\\q^{1}_{0} q^{2}_{y} - q^{1}_{x} q^{2}_{z} + q^{1}_{y} q^{2}_{0} + q^{1}_{z} q^{2}_{x}\\\\q^{1}_{0} q^{2}_{z} + q^{1}_{x} q^{2}_{y} - q^{1}_{y} q^{2}_{x} + q^{1}_{z} q^{2}_{0}\\end{matrix}\\right]$"
      ],
      "text/plain": [
       "Matrix([\n",
       "[q^1_0*q^2_x + q^1_x*q^2_0 + q^1_y*q^2_z - q^1_z*q^2_y],\n",
       "[q^1_0*q^2_y - q^1_x*q^2_z + q^1_y*q^2_0 + q^1_z*q^2_x],\n",
       "[q^1_0*q^2_z + q^1_x*q^2_y - q^1_y*q^2_x + q^1_z*q^2_0]])"
      ]
     },
     "execution_count": 4,
     "metadata": {},
     "output_type": "execute_result"
    }
   ],
   "source": [
    "print(\"Векторная часть:\")\n",
    "q1v*q2[0] + q2v*q1[0] + q1v.cross(q2v)"
   ]
  },
  {
   "cell_type": "markdown",
   "id": "8f0434c7-1d51-4259-9165-8f54a56a2d77",
   "metadata": {},
   "source": [
    "###### Старый код"
   ]
  },
  {
   "cell_type": "code",
   "execution_count": 100,
   "id": "89ed0641-85fb-493e-b612-511436740716",
   "metadata": {},
   "outputs": [
    {
     "name": "stdout",
     "output_type": "stream",
     "text": [
      "λ₁ = [0.09424092 0.33736705 0.55605605 0.2465215 ] \n",
      "(q3->q4: [0.718479153601122, 0.3373670518828597, 0.5560560489710771, 0.24652149712988175])\n",
      "λ₂ = [0.09424092 0.33736705 0.55605605 0.2465215 ]\n",
      "λ₁∘λ₂ = [-0.47490635  0.06358756  0.10480647  0.04646483]\n",
      "\n",
      "A(λ₁) = \n",
      "[[0.26005764 0.42165481 0.06152999]\n",
      " [0.32872515 0.65082125 0.3377471 ]\n",
      " [0.27114293 0.21057197 0.15397029]]\n"
     ]
    }
   ],
   "source": [
    "import numpy as np\n",
    "\n",
    "def vec2quat(v) -> list:\n",
    "    if len(v) != 3:\n",
    "        raise ValueError(f\"Подаётся вектор длинны {len(v)}, требуется длинна 3!\")\n",
    "    if np.linalg.norm(v) > 1:\n",
    "        return [0] + list(np.array(v)/np.linalg.norm(v))\n",
    "    else:\n",
    "        return [np.sqrt(1 - np.linalg.norm(v)**2), v[0], v[1], v[2]]\n",
    "\n",
    "def q_dot(L1, L2):\n",
    "    return np.array([L1[0] * L2[0] - L1[1] * L2[1] - L1[2] * L2[2] - L1[3] * L2[3],\n",
    "                     L1[0] * L2[1] + L1[1] * L2[0] + L1[2] * L2[3] - L1[3] * L2[2],\n",
    "                     L1[0] * L2[2] + L1[2] * L2[0] + L1[3] * L2[1] - L1[1] * L2[3],\n",
    "                     L1[0] * L2[3] + L1[3] * L2[0] + L1[1] * L2[2] - L1[2] * L2[1]])\n",
    "\n",
    "def quart2dcm(L) -> np.ndarray:\n",
    "    w, x, y, z = L\n",
    "    A = np.eye(3)\n",
    "    A[0][0] = 1 - 2 * y ** 2 - 2 * z ** 2\n",
    "    A[0][1] = 2 * x * y + 2 * z * w\n",
    "    A[0][2] = 2 * x * z - 2 * y * w\n",
    "    A[1][0] = 2 * x * y - 2 * z * w\n",
    "    A[1][1] = 1 - 2 * x ** 2 - 2 * z ** 2\n",
    "    A[1][2] = 2 * y * z + 2 * x * w\n",
    "    A[2][0] = 2 * x * z + 2 * y * w\n",
    "    A[2][1] = 2 * y * z - 2 * x * w\n",
    "    A[2][2] = 1 - 2 * x ** 2 - 2 * y ** 2\n",
    "    return A\n",
    "\n",
    "def check_quat(q1, q2, q_dot, quart2dcm, vec2quat):\n",
    "    print(f\"λ₁ = {q1} \\n(q3->q4: {vec2quat(q1[1:4])})\")\n",
    "    print(f\"λ₂ = {q2}\")\n",
    "    print(f\"λ₁∘λ₂ = {q_dot(q1, q2)}\\n\")\n",
    "    print(f\"A(λ₁) = \\n{quart2dcm(q1)}\")\n",
    "\n",
    "qs = [np.random.rand(4) for _ in range(2)]\n",
    "for i in range(2):\n",
    "    qs[i] /= np.linalg.norm(qs)\n",
    "\n",
    "check_quat(qs[0], qs[0], q_dot, quart2dcm, vec2quat)"
   ]
  },
  {
   "cell_type": "code",
   "execution_count": 69,
   "id": "45c991bc-fd9e-4c5e-911b-8380969ae573",
   "metadata": {},
   "outputs": [
    {
     "data": {
      "text/plain": [
       "quaternion(0, 0, 0, -1)"
      ]
     },
     "execution_count": 69,
     "metadata": {},
     "output_type": "execute_result"
    }
   ],
   "source": [
    "import quaternion\n",
    "a = np.quaternion(0, 0, 1, 0)\n",
    "b = np.quaternion(0, 1, 0, 0)\n",
    "a * b"
   ]
  },
  {
   "cell_type": "markdown",
   "id": "18859a1d-0545-42b0-8730-b039ed338927",
   "metadata": {},
   "source": [
    "###### Новый код"
   ]
  },
  {
   "cell_type": "code",
   "execution_count": 139,
   "id": "4fde252d-6578-49a1-9eb0-d3671e1ddfe2",
   "metadata": {},
   "outputs": [
    {
     "name": "stdout",
     "output_type": "stream",
     "text": [
      "Умное преобразование в кватернион! ([0.33736705 0.55605605 0.2465215 ], тип: <class 'numpy.ndarray'>) | True\n",
      "λ₁ = [0.09424092 0.33736705 0.55605605 0.2465215 ] \n",
      "(q3->q4: quaternion(0, 0.33736705188286, 0.556056048971077, 0.246521497129882))\n",
      "λ₂ = [0.09424092 0.33736705 0.55605605 0.2465215 ]\n",
      "Умное кватернионное умножение!\n",
      "λ₁∘λ₂ = [ 0.09431245  0.33762311  0.5564781  -0.75329139]\n",
      "\n",
      "Умное кватернионное преобразование в матрицу!\n",
      "A(λ₁) = \n",
      "[[-0.71723737 -0.42741059  0.55035511]\n",
      " [ 0.6855456  -0.2912509   0.6672332 ]\n",
      " [-0.12489112  0.85585811  0.50190548]]\n"
     ]
    }
   ],
   "source": [
    "def vec2quat(v):\n",
    "    \"\"\"Перевод вектора кватерниона в кватернион\"\"\"\n",
    "    if len(v) != 3:\n",
    "        raise ValueError(f\"Требуется длинна 3! (len(v)={len(v)})\")\n",
    "    if isinstance(v, np.ndarray | list):\n",
    "        import quaternion\n",
    "        \n",
    "        print(f\"Умное преобразование в кватернион! ({v}, тип: {type(v)}) | {isinstance(v, np.ndarray | list)}\")\n",
    "        return np.quaternion(*v)\n",
    "    else:\n",
    "        from sympy import Matrix\n",
    "        return Matrix([sqrt(1 - v.dot(v)), v[0], v[1], v[2]])\n",
    "\n",
    "def q_dot(q1, q2):\n",
    "    if len(q1) == len(q2) == 4:\n",
    "        from scipy.spatial.transform import Rotation\n",
    "        print(f\"Умное кватернионное умножение!\")\n",
    "        return (Rotation.from_quat(q1) * Rotation.from_quat(q2)).as_quat()\n",
    "    else:\n",
    "        from sympy import Matrix\n",
    "        q1v = Matrix(q1[1:4])\n",
    "        q2v = Matrix(q2[1:4])\n",
    "        scalar = q1[0]*q2[0] - q1v.dot(q2v)\n",
    "        vector = q1v*q2[0] + q2v*q1[0] + q1v.cross(q2v)\n",
    "        return Matrix([scalar, vector[0], vector[1], vector[2]])\n",
    "        '''return Matrix([q1[0] * q2[0] - q1[1] * q2[1] - q1[2] * q2[2] - q1[3] * q2[3],\n",
    "                       q1[0] * q2[1] + q1[1] * q2[0] + q1[2] * q2[3] - q1[3] * q2[2],\n",
    "                       q1[0] * q2[2] + q1[2] * q2[0] + q1[3] * q2[1] - q1[1] * q2[3],\n",
    "                       q1[0] * q2[3] + q1[3] * q2[0] + q1[1] * q2[2] - q1[2] * q2[1]])'''\n",
    "\n",
    "def quart2dcm(q):\n",
    "    \"\"\"Матрицу поворота из кватерниона поворота\"\"\"\n",
    "    if isinstance(q, np.ndarray | list):\n",
    "        from scipy.spatial.transform import Rotation\n",
    "        print(f\"Умное кватернионное преобразование в матрицу!\")\n",
    "        return Rotation.from_quat(q).as_matrix()\n",
    "    else:\n",
    "        from sympy import Matrix\n",
    "        w, x, y, z = q\n",
    "        return Matrix([[1 - 2*y**2 - 2*z**2, 2*x*y + 2*z*w, 2*x*z - 2*y*w],\n",
    "                       [2*x*y - 2*z*w, 1 - 2*x**2 - 2*z**2, 2*y*z + 2*x*w],\n",
    "                       [2*x*z + 2*y*w, 2*y*z - 2*x*w, 1 - 2*x**2 - 2*y**2]])\n",
    "\n",
    "check_quat(qs[0], qs[0], q_dot, quart2dcm, vec2quat)"
   ]
  },
  {
   "cell_type": "code",
   "execution_count": 140,
   "id": "89cd3ef0-5062-4f22-b4ec-8fccb85c7f6e",
   "metadata": {},
   "outputs": [
    {
     "data": {
      "text/latex": [
       "$\\displaystyle q^{1}_{y}$"
      ],
      "text/plain": [
       "q^1_y"
      ]
     },
     "execution_count": 140,
     "metadata": {},
     "output_type": "execute_result"
    }
   ],
   "source": [
    "q1[1]"
   ]
  },
  {
   "cell_type": "code",
   "execution_count": 144,
   "id": "161896ea-e437-46ba-a872-16774d11e726",
   "metadata": {},
   "outputs": [
    {
     "data": {
      "text/latex": [
       "$\\displaystyle \\left[\\begin{matrix}\\sqrt{- \\left(q^{1}_{x}\\right)^{2} - \\left(q^{1}_{y}\\right)^{2} - \\left(q^{1}_{z}\\right)^{2} + 1}\\\\q^{1}_{x}\\\\q^{1}_{y}\\\\q^{1}_{z}\\end{matrix}\\right]$"
      ],
      "text/plain": [
       "Matrix([\n",
       "[sqrt(-q^1_x**2 - q^1_y**2 - q^1_z**2 + 1)],\n",
       "[                                    q^1_x],\n",
       "[                                    q^1_y],\n",
       "[                                    q^1_z]])"
      ]
     },
     "execution_count": 144,
     "metadata": {},
     "output_type": "execute_result"
    }
   ],
   "source": [
    "q1 = Matrix(kf.get_vars(\"q^1\", 3, numb=False))\n",
    "anw = vec2quat(q1)\n",
    "anw"
   ]
  },
  {
   "cell_type": "code",
   "execution_count": 145,
   "id": "c8fb32a5-bf9f-4593-841e-53336ce87d37",
   "metadata": {},
   "outputs": [
    {
     "data": {
      "text/latex": [
       "$\\displaystyle 1$"
      ],
      "text/plain": [
       "1"
      ]
     },
     "execution_count": 145,
     "metadata": {},
     "output_type": "execute_result"
    }
   ],
   "source": [
    "anw.dot(anw)"
   ]
  },
  {
   "cell_type": "code",
   "execution_count": 131,
   "id": "79e19ab6-64d8-4a0d-9823-dc8600a69771",
   "metadata": {},
   "outputs": [
    {
     "ename": "NameError",
     "evalue": "name 'v' is not defined",
     "output_type": "error",
     "traceback": [
      "\u001b[0;31m---------------------------------------------------------------------------\u001b[0m",
      "\u001b[0;31mNameError\u001b[0m                                 Traceback (most recent call last)",
      "Cell \u001b[0;32mIn[131], line 1\u001b[0m\n\u001b[0;32m----> 1\u001b[0m \u001b[38;5;28mprint\u001b[39m(\u001b[38;5;124mf\u001b[39m\u001b[38;5;124m\"\u001b[39m\u001b[38;5;124m(\u001b[39m\u001b[38;5;132;01m{\u001b[39;00m\u001b[43mv\u001b[49m\u001b[38;5;132;01m}\u001b[39;00m\u001b[38;5;124m, тип: \u001b[39m\u001b[38;5;132;01m{\u001b[39;00m\u001b[38;5;28mtype\u001b[39m(v)\u001b[38;5;132;01m}\u001b[39;00m\u001b[38;5;124m) | \u001b[39m\u001b[38;5;132;01m{\u001b[39;00m\u001b[38;5;28misinstance\u001b[39m(q,\u001b[38;5;250m \u001b[39mnp\u001b[38;5;241m.\u001b[39mndarray\u001b[38;5;250m \u001b[39m\u001b[38;5;241m|\u001b[39m\u001b[38;5;250m \u001b[39m\u001b[38;5;28mlist\u001b[39m)\u001b[38;5;132;01m}\u001b[39;00m\u001b[38;5;124m\"\u001b[39m)\n",
      "\u001b[0;31mNameError\u001b[0m: name 'v' is not defined"
     ]
    }
   ],
   "source": [
    "print(f\"({q1}, тип: {type(v)}) | {isinstance(q1, np.ndarray | list)}\")"
   ]
  }
 ],
 "metadata": {
  "kernelspec": {
   "display_name": "Python 3 (ipykernel)",
   "language": "python",
   "name": "python3"
  },
  "language_info": {
   "codemirror_mode": {
    "name": "ipython",
    "version": 3
   },
   "file_extension": ".py",
   "mimetype": "text/x-python",
   "name": "python",
   "nbconvert_exporter": "python",
   "pygments_lexer": "ipython3",
   "version": "3.10.12"
  }
 },
 "nbformat": 4,
 "nbformat_minor": 5
}
