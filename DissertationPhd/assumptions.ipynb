{
 "cells": [
  {
   "cell_type": "markdown",
   "id": "23589c8a-6cb3-46ef-97ca-68a187be3c2f",
   "metadata": {},
   "source": [
    "![](../storage/banners/40_assumptions.png)"
   ]
  },
  {
   "cell_type": "markdown",
   "id": "c48c2add-d875-46fd-8858-d123774d474b",
   "metadata": {},
   "source": [
    "`import kiamformation as kf`"
   ]
  },
  {
   "cell_type": "code",
   "execution_count": 1,
   "id": "a858726b-c494-46f0-b965-84a942c5ac72",
   "metadata": {},
   "outputs": [
    {
     "name": "stdout",
     "output_type": "stream",
     "text": [
      "\u001b[32mИнициализация проекта kiam-formation | Контекст: kiamformation\u001b[0m\n"
     ]
    }
   ],
   "source": [
    "from __init__ import *"
   ]
  },
  {
   "cell_type": "markdown",
   "id": "041c7fef-bf5e-47dd-bef8-f44b380a851e",
   "metadata": {
    "jp-MarkdownHeadingCollapsed": true
   },
   "source": [
    "##### Быстродействие"
   ]
  },
  {
   "cell_type": "markdown",
   "id": "ce35b96e-edea-4da9-b423-07657473a623",
   "metadata": {},
   "source": [
    "`clip`: своё лучше для обычных чисел"
   ]
  },
  {
   "cell_type": "code",
   "execution_count": 43,
   "id": "d813faf4-6706-40fc-b76b-c23bc526583d",
   "metadata": {},
   "outputs": [
    {
     "name": "stdout",
     "output_type": "stream",
     "text": [
      "my-clip: 0.14356112480163574 секунд\n",
      "np.clip: 3.1530544757843018 секунд\n"
     ]
    }
   ],
   "source": [
    "import numpy as np\n",
    "import time\n",
    "\n",
    "n = int(1e6)\n",
    "\n",
    "# Моя функция\n",
    "def clip(a: float, bot: float, top: float) -> float:\n",
    "    if a < bot:\n",
    "        return bot\n",
    "    if a > top:\n",
    "        return top\n",
    "    return a\n",
    "\n",
    "t0 = time.time()\n",
    "for _ in range(n):\n",
    "    tmp = clip(-1, 0, 2)\n",
    "print(f\"my-clip: {time.time() - t0} секунд\")\n",
    "\n",
    "t0 = time.time()\n",
    "for _ in range(n):\n",
    "    tmp = np.clip(-1, 0, 2)\n",
    "print(f\"np.clip: {time.time() - t0} секунд\")"
   ]
  },
  {
   "cell_type": "markdown",
   "id": "c13bad55-ec3b-4556-afec-3265c6135e0b",
   "metadata": {
    "jp-MarkdownHeadingCollapsed": true
   },
   "source": [
    "##### Кватернионы в ПО"
   ]
  },
  {
   "cell_type": "code",
   "execution_count": null,
   "id": "b23d1f64-f31a-47bf-968d-6dd4fce20eb8",
   "metadata": {},
   "outputs": [],
   "source": [
    "# import numpy as np\n",
    "# s0 = dir(np)"
   ]
  },
  {
   "cell_type": "code",
   "execution_count": null,
   "id": "192b5569-a66d-4b74-8bbc-9ab5a352e870",
   "metadata": {},
   "outputs": [],
   "source": [
    "# s = dir(quaternion.np)\n",
    "# for i in s0:\n",
    "#     s.remove(i)\n",
    "# s"
   ]
  },
  {
   "cell_type": "markdown",
   "id": "315db081-e4bd-493e-b67a-c5ba29ed8572",
   "metadata": {},
   "source": [
    "**Инициализация**"
   ]
  },
  {
   "cell_type": "code",
   "execution_count": 18,
   "id": "5793777f-eb14-46e9-b950-e7d15d63319e",
   "metadata": {},
   "outputs": [
    {
     "name": "stdout",
     "output_type": "stream",
     "text": [
      "q = quaternion(1, 0, 0, 0)\n",
      "q = quaternion(1, 2, 3, 4)\n",
      "q = quaternion(0, 5, 0, 0)\n",
      "q = quaternion(5, 0, 0, 0)\n",
      "q = quaternion(0, 0, 0, 0)\n"
     ]
    }
   ],
   "source": [
    "import numpy as np\n",
    "import quaternion\n",
    "\n",
    "for q in [np.quaternion(1, 0, 0, 0),\n",
    "          np.quaternion(1, 2, 3, 4),\n",
    "          np.quaternion(5, 0, 0),\n",
    "          np.quaternion(5),\n",
    "          np.quaternion()]:\n",
    "    print(f\"q = {q}\")\n",
    "\n",
    "q = np.quaternion(1, 2, 3, 4)"
   ]
  },
  {
   "cell_type": "code",
   "execution_count": 28,
   "id": "ded77db5-9e2f-4e00-b789-be8cbd3a9ac7",
   "metadata": {},
   "outputs": [
    {
     "name": "stdout",
     "output_type": "stream",
     "text": [
      "Кватернион из вектора: quaternion(0, 0, 0, 0.5)\n",
      "Кватернион единичный из вектора: quaternion(0.866025403784439, 0, 0, 0.5)\n",
      "Кватернион из углов Эйлера: quaternion(0.968912421710645, 0, 0, 0.247403959254523)\n"
     ]
    }
   ],
   "source": [
    "a = np.array([0, 0, 0.5])\n",
    "\n",
    "q1 = quaternion.from_vector_part(a)\n",
    "q2 = quaternion.from_euler_angles(a)\n",
    "\n",
    "q3 = np.quaternion(np.sqrt(1 - np.linalg.norm(a)**2), *a)\n",
    "\n",
    "print(f\"Кватернион из вектора: {q1}\")\n",
    "print(f\"Кватернион единичный из вектора: {q3}\")\n",
    "print(f\"Кватернион из углов Эйлера: {q2}\")"
   ]
  },
  {
   "cell_type": "markdown",
   "id": "5abca95a-1d86-4033-a4a4-018d27d424fd",
   "metadata": {},
   "source": [
    "**Преобразования типов**"
   ]
  },
  {
   "cell_type": "code",
   "execution_count": 66,
   "id": "59ec8b4c-3689-4abb-bf96-49c2e2794379",
   "metadata": {},
   "outputs": [
    {
     "name": "stdout",
     "output_type": "stream",
     "text": [
      "Как numpy-массив: [1. 2. 3. 4.]\n",
      "<class 'numpy.ndarray'>\n",
      "Как numpy-массив: quaternion(1, 2, 3, 4)\n",
      "<class 'numpy.ndarray'>\n",
      "Как numpy-массив: quaternion(1, 2, 3, 4)\n",
      "<class 'numpy.ndarray'>\n",
      "Как numpy-массив: [1. 2. 3. 4.]\n",
      "<class 'numpy.ndarray'>\n"
     ]
    }
   ],
   "source": [
    "a = quaternion.as_float_array(q)\n",
    "b = quaternion.np.array(q)\n",
    "c = quaternion.np.asarray(q)\n",
    "d = q.components\n",
    "\n",
    "print(f\"Как numpy-массив: {a}\")\n",
    "print(type(a))\n",
    "print(f\"Как numpy-массив: {b}\")\n",
    "print(type(b))\n",
    "print(f\"Как numpy-массив: {c}\")\n",
    "print(type(c))\n",
    "print(f\"Как numpy-массив: {d}\")\n",
    "print(type(d))"
   ]
  },
  {
   "cell_type": "code",
   "execution_count": 132,
   "id": "c65a3718-2558-4f07-bd5e-74a469b0e4e5",
   "metadata": {},
   "outputs": [
    {
     "name": "stdout",
     "output_type": "stream",
     "text": [
      "Плохой пример: [quaternion(4, 0, 0, 0) quaternion(5, 0, 0, 0) quaternion(6, 0, 0, 0)\n",
      " quaternion(7, 0, 0, 0) quaternion(1, 2, 3, 4)]\n",
      "Хороший пример: [4. 5. 6. 7. 1. 2. 3. 4.]\n"
     ]
    }
   ],
   "source": [
    "a = np.array([4, 5, 6, 7])\n",
    "\n",
    "anw1 = np.append(a, q)\n",
    "anw2 = np.append(a, q.components)\n",
    "\n",
    "print(f\"Плохой пример: {anw1}\")\n",
    "print(f\"Хороший пример: {anw2}\")"
   ]
  },
  {
   "cell_type": "markdown",
   "id": "57317e4a-6a95-4e94-b18e-fc39ad3d7289",
   "metadata": {},
   "source": [
    "**Преобразовани математические**"
   ]
  },
  {
   "cell_type": "code",
   "execution_count": 101,
   "id": "aa2ec75f-1bd4-45e0-bd19-cef6d84c42f6",
   "metadata": {},
   "outputs": [
    {
     "name": "stdout",
     "output_type": "stream",
     "text": [
      "Скалярная часть: 1.0\n",
      "<class 'float'>\n",
      "Векторная часть: [2. 3. 4.]\n",
      "<class 'numpy.ndarray'>\n",
      "Составлющие: 1.0 2.0 3.0 4.0\n",
      "<class 'float'> <class 'float'> <class 'float'> <class 'float'>\n"
     ]
    }
   ],
   "source": [
    "a = q.real\n",
    "b = q.vec\n",
    "w = q.w\n",
    "x = q.x\n",
    "y = q.y\n",
    "z = q.z\n",
    "\n",
    "print(f\"Скалярная часть: {a}\")\n",
    "print(type(a))\n",
    "print(f\"Векторная часть: {b}\")\n",
    "print(type(b))\n",
    "print(f\"Составлющие: {w} {x} {y} {z}\")\n",
    "print(type(w), type(x), type(y), type(z))"
   ]
  },
  {
   "cell_type": "code",
   "execution_count": 103,
   "id": "f7d65945-8800-463b-b3c6-1b6f486018f1",
   "metadata": {},
   "outputs": [
    {
     "name": "stdout",
     "output_type": "stream",
     "text": [
      "Нормированный кватернион: quaternion(0.182574185835055, 0.365148371670111, 0.547722557505166, 0.730296743340221) | quaternion(0.182574185835055, 0.365148371670111, 0.547722557505166, 0.730296743340221)\n",
      "<class 'quaternion.quaternion'> <class 'quaternion.quaternion'>\n"
     ]
    }
   ],
   "source": [
    "a = quaternion.np.normalized(q)\n",
    "b = q.normalized()\n",
    "\n",
    "print(f\"Нормированный кватернион: {a} | {b}\")\n",
    "print(type(a), type(b))"
   ]
  },
  {
   "cell_type": "code",
   "execution_count": 99,
   "id": "71d87cae-8cf2-47eb-9f20-5d5c01344189",
   "metadata": {},
   "outputs": [
    {
     "name": "stdout",
     "output_type": "stream",
     "text": [
      "Модуль: 5.477225575051661 | 5.477225575051661 | 5.477225575051661\n",
      "<class 'numpy.float64'> <class 'numpy.float64'> <class 'float'> \n",
      "\n",
      "Норма: 30.0 (√c = 5.477225575051661)\n",
      "<class 'numpy.float64'>\n"
     ]
    }
   ],
   "source": [
    "a = quaternion.np.abs(q)\n",
    "b = quaternion.np.absolute(q)\n",
    "d = q.abs()\n",
    "\n",
    "c = quaternion.np.norm(q)\n",
    "\n",
    "print(f\"Модуль: {a} | {b} | {d}\")\n",
    "print(type(a), type(b), type(d), '\\n')\n",
    "\n",
    "print(f\"Норма: {c} (√c = {np.sqrt(c)})\")\n",
    "print(type(c))"
   ]
  },
  {
   "cell_type": "code",
   "execution_count": 27,
   "id": "449d68e3-3290-4587-b393-2c5ee3b58daa",
   "metadata": {},
   "outputs": [
    {
     "name": "stdout",
     "output_type": "stream",
     "text": [
      "Угол поворота: 4.389231563842282 | 4.389231563842282\n",
      "<class 'numpy.float64'> <class 'float'>\n"
     ]
    }
   ],
   "source": [
    "a = quaternion.np.angle_of_rotor(q)\n",
    "b = q.angle()\n",
    "\n",
    "print(f\"Угол поворота: {a} | {b}\")\n",
    "print(type(a), type(b))"
   ]
  },
  {
   "cell_type": "code",
   "execution_count": 96,
   "id": "d08d6c8e-88d0-48c6-a477-321797846134",
   "metadata": {},
   "outputs": [
    {
     "name": "stdout",
     "output_type": "stream",
     "text": [
      "Сопряженный: quaternion(1, -2, -3, -4) | quaternion(1, -2, -3, -4)\n",
      "<class 'quaternion.quaternion'> <class 'quaternion.quaternion'> \n",
      "\n",
      "Обратный: quaternion(0.0333333333333333, -0.0666666666666667, -0.1, -0.133333333333333) | quaternion(0.0333333333333333, -0.0666666666666667, -0.1, -0.133333333333333)\n",
      "<class 'quaternion.quaternion'> <class 'quaternion.quaternion'>\n"
     ]
    }
   ],
   "source": [
    "a = q.conj()\n",
    "b = q.conjugate()\n",
    "\n",
    "с = q.inverse()\n",
    "d = q.reciprocal()\n",
    "\n",
    "print(f\"Сопряженный: {a} | {b}\")\n",
    "print(type(a), type(b), '\\n')\n",
    "\n",
    "print(f\"Обратный: {с} | {d}\")\n",
    "print(type(с), type(d))"
   ]
  },
  {
   "cell_type": "code",
   "execution_count": 125,
   "id": "46679771-8116-44eb-ab05-755324dce575",
   "metadata": {},
   "outputs": [
    {
     "name": "stdout",
     "output_type": "stream",
     "text": [
      "Матрица поворота из кватерниона A: \n",
      "[[-0.66666667  0.13333333  0.73333333]\n",
      " [ 0.66666667 -0.33333333  0.66666667]\n",
      " [ 0.33333333  0.93333333  0.13333333]]\n",
      "Матрица поворота из кватерниона B: \n",
      "[[-0.66666667  0.13333333  0.73333333]\n",
      " [ 0.66666667 -0.33333333  0.66666667]\n",
      " [ 0.33333333  0.93333333  0.13333333]]\n"
     ]
    }
   ],
   "source": [
    "A = quaternion.as_rotation_matrix(q)\n",
    "B = quaternion.as_rotation_matrix(q.normalized())\n",
    "\n",
    "print(f\"Матрица поворота из кватерниона A: \\n{A}\")\n",
    "print(f\"Матрица поворота из кватерниона B: \\n{B}\")"
   ]
  },
  {
   "cell_type": "markdown",
   "id": "35235e93-ff1e-4fa8-8b32-b70f943cc9ae",
   "metadata": {},
   "source": [
    "##### Проверка кватернионного умножения"
   ]
  },
  {
   "cell_type": "markdown",
   "id": "dfcd8789-94d2-4c38-b6e4-cd488b6580b1",
   "metadata": {
    "jp-MarkdownHeadingCollapsed": true
   },
   "source": [
    "###### Символьные выражения"
   ]
  },
  {
   "cell_type": "code",
   "execution_count": 3,
   "id": "086b91d4-7bff-4e56-ac65-e73d426544f0",
   "metadata": {},
   "outputs": [
    {
     "name": "stdout",
     "output_type": "stream",
     "text": [
      "Скалярная часть:\n"
     ]
    },
    {
     "data": {
      "text/latex": [
       "$\\displaystyle q^{1}_{0} q^{2}_{0} - q^{1}_{x} q^{2}_{x} - q^{1}_{y} q^{2}_{y} - q^{1}_{z} q^{2}_{z}$"
      ],
      "text/plain": [
       "q^1_0*q^2_0 - q^1_x*q^2_x - q^1_y*q^2_y - q^1_z*q^2_z"
      ]
     },
     "execution_count": 3,
     "metadata": {},
     "output_type": "execute_result"
    }
   ],
   "source": [
    "from sympy import *\n",
    "\n",
    "q1 = kf.get_vars(\"q^1\", 4, numb=False)\n",
    "q2 = kf.get_vars(\"q^2\", 4, numb=False)\n",
    "q1v = Matrix(q1[1:4])\n",
    "q2v = Matrix(q2[1:4])\n",
    "\n",
    "print(\"Скалярная часть:\")\n",
    "q1[0]*q2[0] - q1v.dot(q2v)"
   ]
  },
  {
   "cell_type": "code",
   "execution_count": 4,
   "id": "8ee4b422-4743-4d9f-9362-6f268133aa2b",
   "metadata": {},
   "outputs": [
    {
     "name": "stdout",
     "output_type": "stream",
     "text": [
      "Векторная часть:\n"
     ]
    },
    {
     "data": {
      "text/latex": [
       "$\\displaystyle \\left[\\begin{matrix}q^{1}_{0} q^{2}_{x} + q^{1}_{x} q^{2}_{0} + q^{1}_{y} q^{2}_{z} - q^{1}_{z} q^{2}_{y}\\\\q^{1}_{0} q^{2}_{y} - q^{1}_{x} q^{2}_{z} + q^{1}_{y} q^{2}_{0} + q^{1}_{z} q^{2}_{x}\\\\q^{1}_{0} q^{2}_{z} + q^{1}_{x} q^{2}_{y} - q^{1}_{y} q^{2}_{x} + q^{1}_{z} q^{2}_{0}\\end{matrix}\\right]$"
      ],
      "text/plain": [
       "Matrix([\n",
       "[q^1_0*q^2_x + q^1_x*q^2_0 + q^1_y*q^2_z - q^1_z*q^2_y],\n",
       "[q^1_0*q^2_y - q^1_x*q^2_z + q^1_y*q^2_0 + q^1_z*q^2_x],\n",
       "[q^1_0*q^2_z + q^1_x*q^2_y - q^1_y*q^2_x + q^1_z*q^2_0]])"
      ]
     },
     "execution_count": 4,
     "metadata": {},
     "output_type": "execute_result"
    }
   ],
   "source": [
    "print(\"Векторная часть:\")\n",
    "q1v*q2[0] + q2v*q1[0] + q1v.cross(q2v)"
   ]
  },
  {
   "cell_type": "markdown",
   "id": "8f0434c7-1d51-4259-9165-8f54a56a2d77",
   "metadata": {},
   "source": [
    "###### Старый код"
   ]
  },
  {
   "cell_type": "code",
   "execution_count": 40,
   "id": "89ed0641-85fb-493e-b612-511436740716",
   "metadata": {},
   "outputs": [
    {
     "name": "stdout",
     "output_type": "stream",
     "text": [
      "λ₁ = [0.63707903 0.43550425 0.60632635 0.19192373]\n",
      "q3->q4: [0.6370790327569399, 0.43550424592350995, 0.6063263470304726, 0.19192373146841368]\n",
      "модуль [0.6370790327569399, 0.43550424592350995, 0.6063263470304726, 0.19192373146841368] = 0.9999999999999999)\n",
      "λ₂ = [0.79525458 0.07058782 0.50466811 0.32847771]\n",
      "λ₁∘λ₂ = [0.10686248 0.49361367 0.67419132 0.53888034]\n",
      "\n",
      "A(λ₁) = \n",
      "[[ 0.19106728  0.77265657 -0.60538841]\n",
      " [ 0.28357423  0.54700267  0.78763808]\n",
      " [ 0.93972281 -0.32216442 -0.11459117]] (type(A)=<class 'numpy.ndarray'>) \n",
      "Детерминант 0.9999999999999999, \n",
      "AA.T=\n",
      "[[1 0 0]\n",
      " [0 1 0]\n",
      " [0 0 1]]\n"
     ]
    }
   ],
   "source": [
    "import numpy as np\n",
    "\n",
    "def vec2quat_old(v) -> list:\n",
    "    if len(v) != 3:\n",
    "        raise ValueError(f\"Подаётся вектор длинны {len(v)}, требуется длинна 3!\")\n",
    "    if np.linalg.norm(v) > 1:\n",
    "        return [0] + list(np.array(v)/np.linalg.norm(v))\n",
    "    else:\n",
    "        return [np.sqrt(1 - np.linalg.norm(v)**2), v[0], v[1], v[2]]\n",
    "\n",
    "def q_dot_old(L1, L2):\n",
    "    return np.array([L1[0] * L2[0] - L1[1] * L2[1] - L1[2] * L2[2] - L1[3] * L2[3],\n",
    "                     L1[0] * L2[1] + L1[1] * L2[0] + L1[2] * L2[3] - L1[3] * L2[2],\n",
    "                     L1[0] * L2[2] + L1[2] * L2[0] + L1[3] * L2[1] - L1[1] * L2[3],\n",
    "                     L1[0] * L2[3] + L1[3] * L2[0] + L1[1] * L2[2] - L1[2] * L2[1]])\n",
    "\n",
    "def quart2dcm_old(L) -> np.ndarray:\n",
    "    w, x, y, z = L\n",
    "    A = np.eye(3)\n",
    "    A[0][0] = 1 - 2 * y ** 2 - 2 * z ** 2\n",
    "    A[0][1] = 2 * x * y + 2 * z * w\n",
    "    A[0][2] = 2 * x * z - 2 * y * w\n",
    "    A[1][0] = 2 * x * y - 2 * z * w\n",
    "    A[1][1] = 1 - 2 * x ** 2 - 2 * z ** 2\n",
    "    A[1][2] = 2 * y * z + 2 * x * w\n",
    "    A[2][0] = 2 * x * z + 2 * y * w\n",
    "    A[2][1] = 2 * y * z - 2 * x * w\n",
    "    A[2][2] = 1 - 2 * x ** 2 - 2 * y ** 2\n",
    "    return A\n",
    "\n",
    "def check_quat(q1, q2, q_dot, quart2dcm, vec2quat):\n",
    "    print(f\"λ₁ = {q1}\")\n",
    "    if isinstance(q1, list | np.ndarray):\n",
    "        print(f\"q3->q4: {vec2quat(q1[1:4])}\")\n",
    "        if isinstance(vec2quat(q1[1:4]), list | np.ndarray):\n",
    "            print(f\"модуль {vec2quat(q1[1:4])} = {np.linalg.norm(vec2quat(q1[1:4]))})\")\n",
    "    if isinstance(q1, quaternion.quaternion):\n",
    "        q_new = vec2quat(q1.vec)\n",
    "        print(f\"q3->q4: {q_new}\")\n",
    "        print(f\"модуль {q_new} = {q_new.abs()})\")\n",
    "    print(f\"λ₂ = {q2}\")\n",
    "    print(f\"λ₁∘λ₂ = {q_dot(q1, q2)}\\n\")\n",
    "\n",
    "    A = quart2dcm(q1)\n",
    "    print(f\"A(λ₁) = \\n{A} (type(A)={type(A)}) \\nДетерминант {np.linalg.det(A)}, \\nAA.T=\\n{np.round(A @ A.T).astype(np.int64)}\")\n",
    "\n",
    "qs = [np.random.rand(4) for _ in range(2)]\n",
    "for i in range(2):\n",
    "    qs[i] /= np.linalg.norm(qs[i])\n",
    "\n",
    "check_quat(qs[0], qs[1], q_dot_old, quart2dcm_old, vec2quat_old)"
   ]
  },
  {
   "cell_type": "markdown",
   "id": "18859a1d-0545-42b0-8730-b039ed338927",
   "metadata": {},
   "source": [
    "###### Новый код"
   ]
  },
  {
   "cell_type": "code",
   "execution_count": 41,
   "id": "e5ec18b0-0209-4931-bccf-a95b7752f670",
   "metadata": {},
   "outputs": [],
   "source": [
    "for i in range(2):\n",
    "    qs[i] = np.quaternion(*qs[i])"
   ]
  },
  {
   "cell_type": "code",
   "execution_count": 42,
   "id": "4fde252d-6578-49a1-9eb0-d3671e1ddfe2",
   "metadata": {},
   "outputs": [
    {
     "name": "stdout",
     "output_type": "stream",
     "text": [
      "λ₁ = quaternion(0.63707903275694, 0.43550424592351, 0.606326347030473, 0.191923731468414)\n",
      "q3->q4: quaternion(0.63707903275694, 0.43550424592351, 0.606326347030473, 0.191923731468414)\n",
      "модуль quaternion(0.63707903275694, 0.43550424592351, 0.606326347030473, 0.191923731468414) = 0.9999999999999999)\n",
      "λ₂ = quaternion(0.795254582567478, 0.0705878228191371, 0.504668110019236, 0.328477711427569)\n",
      "λ₁∘λ₂ = quaternion(0.106862484017262, 0.493613673207103, 0.674191317735446, 0.538880337573003)\n",
      "\n",
      "A(λ₁) = \n",
      "[[ 0.19106728  0.28357423  0.93972281]\n",
      " [ 0.77265657  0.54700267 -0.32216442]\n",
      " [-0.60538841  0.78763808 -0.11459117]] (type(A)=<class 'numpy.ndarray'>) \n",
      "Детерминант 0.9999999999999999, \n",
      "AA.T=\n",
      "[[1 0 0]\n",
      " [0 1 0]\n",
      " [0 0 1]]\n"
     ]
    }
   ],
   "source": [
    "import numpy as np\n",
    "import quaternion\n",
    "\n",
    "def vec2quat(v):\n",
    "    \"\"\"Перевод вектора кватерниона в кватернион\"\"\"\n",
    "    if isinstance(v, np.ndarray):\n",
    "        return np.quaternion(np.sqrt(1 - np.linalg.norm(v)**2), *v)\n",
    "    else:\n",
    "        from sympy import Matrix, sqrt\n",
    "        return Matrix([sqrt(1 - v.dot(v)), v[0], v[1], v[2]])\n",
    "\n",
    "def q_dot(q1, q2):\n",
    "    \"\"\"Умножение кватернионов длины 4\"\"\"\n",
    "    if isinstance(q1, quaternion.quaternion):\n",
    "        return q1 * q2\n",
    "    else:\n",
    "        from sympy import Matrix\n",
    "        q1v = Matrix(q1[1:4])\n",
    "        q2v = Matrix(q2[1:4])\n",
    "        scalar = q1[0]*q2[0] - q1v.dot(q2v)\n",
    "        vector = q1v*q2[0] + q2v*q1[0] + q1v.cross(q2v)\n",
    "        return Matrix([scalar, vector[0], vector[1], vector[2]])\n",
    "\n",
    "def quart2dcm(q):\n",
    "    \"\"\"Матрицу поворота из кватерниона поворота\"\"\"\n",
    "    if isinstance(q, quaternion.quaternion):\n",
    "        return quaternion.as_rotation_matrix(q)\n",
    "    else:\n",
    "        from sympy import Matrix, sqrt\n",
    "        w, x, y, z = q\n",
    "        return Matrix([[1 - 2*y**2 - 2*z**2, 2*x*y + 2*z*w, 2*x*z - 2*y*w],\n",
    "                       [2*x*y - 2*z*w, 1 - 2*x**2 - 2*z**2, 2*y*z + 2*x*w],\n",
    "                       [2*x*z + 2*y*w, 2*y*z - 2*x*w, 1 - 2*x**2 - 2*y**2]]).T\n",
    "\n",
    "check_quat(qs[0], qs[1], q_dot, quart2dcm, vec2quat)"
   ]
  },
  {
   "cell_type": "markdown",
   "id": "8ff2789d-756e-48d2-9422-1322a485b963",
   "metadata": {},
   "source": [
    "**Копия старых результатов**"
   ]
  },
  {
   "cell_type": "markdown",
   "id": "290cfd6d-23f2-4818-8452-6e6067dde89f",
   "metadata": {},
   "source": [
    "λ₁ = [0.63707903 0.43550425 0.60632635 0.19192373]\n",
    "q3->q4: [0.6370790327569399, 0.43550424592350995, 0.6063263470304726, 0.19192373146841368]\n",
    "модуль [0.6370790327569399, 0.43550424592350995, 0.6063263470304726, 0.19192373146841368] = 0.9999999999999999)\n",
    "λ₂ = [0.79525458 0.07058782 0.50466811 0.32847771]\n",
    "λ₁∘λ₂ = [0.10686248 0.49361367 0.67419132 0.53888034]\n",
    "\n",
    "A(λ₁) = \n",
    "[[ 0.19106728  0.77265657 -0.60538841]\n",
    " [ 0.28357423  0.54700267  0.78763808]\n",
    " [ 0.93972281 -0.32216442 -0.11459117]] (type(A)=<class 'numpy.ndarray'>) \n",
    "Детерминант 0.9999999999999999, \n",
    "AA.T=\n",
    "[[1 0 0]\n",
    " [0 1 0]\n",
    " [0 0 1]]"
   ]
  },
  {
   "cell_type": "markdown",
   "id": "a393cc77-94aa-4017-903d-1216d280fc20",
   "metadata": {},
   "source": [
    "*ТАК а почему матрица транспонированная-то была?*\n",
    "\n",
    "<u>Проверка матрицы из кватернионов</u><br>\n",
    "Поворот на $90^\\circ$ вокруг оси $Oz$: \n",
    "$$\\lambda = [\\cos\\frac{\\varphi}{2}, 0, 0, \\sin\\frac{\\varphi}{2}]$$\n",
    "$$x\\to y, \\hskip20px y \\to -x$$"
   ]
  },
  {
   "cell_type": "code",
   "execution_count": 39,
   "id": "ecee28b7-6377-4974-91ff-f984c3d3db38",
   "metadata": {},
   "outputs": [
    {
     "name": "stdout",
     "output_type": "stream",
     "text": [
      "A: \n",
      "[[ 0 -1  0]\n",
      " [ 1  0  0]\n",
      " [ 0  0  1]]\n",
      "\n",
      "x->y: [1 0 0] -> [0 1 0]\n",
      "y->-x: [0 1 0] -> [-1  0  0]\n"
     ]
    }
   ],
   "source": [
    "q1 = np.quaternion(1, 0, 0, 1).normalized()\n",
    "A = quart2dcm(q1)\n",
    "A = np.round(A).astype(np.int64)\n",
    "print(f\"A: \\n{A}\\n\")\n",
    "\n",
    "a = np.array([1, 0, 0])\n",
    "print(f\"x->y: {a} -> {A @ a}\")\n",
    "\n",
    "a = np.array([0, 1, 0])\n",
    "print(f\"y->-x: {a} -> {A @ a}\")"
   ]
  },
  {
   "cell_type": "markdown",
   "id": "402640c1-736f-41b8-b9ac-31c98badf3e2",
   "metadata": {},
   "source": [
    "<u>Проверка всего того же с символьным вычислением</u><br>"
   ]
  },
  {
   "cell_type": "code",
   "execution_count": 47,
   "id": "6e67da25-52c0-4857-b623-e9c3ed2c1f37",
   "metadata": {},
   "outputs": [
    {
     "name": "stdout",
     "output_type": "stream",
     "text": [
      "Численные кватернионы:\n",
      "q1 = quaternion(0.182574185835055, 0.365148371670111, 0.547722557505166, 0.730296743340221)\n",
      "q2 = quaternion(0.182574185835055, 0.365148371670111, 0.547722557505166, 0.730296743340221)\n",
      "\n",
      "Символьные кватернионы:\n",
      "q1 = Matrix([[0.182574185835055], [0.365148371670111], [0.547722557505166], [0.730296743340221]])\n",
      "q2 = Matrix([[0.182574185835055], [0.365148371670111], [0.547722557505166], [0.730296743340221]])\n"
     ]
    }
   ],
   "source": [
    "from sympy import *\n",
    "\n",
    "q1 = np.array([1, 2, 3, 4])\n",
    "q2 = np.array([1, 2, 3, 4])\n",
    "\n",
    "q1_n = np.quaternion(*q1).normalized()\n",
    "q2_n = np.quaternion(*q2).normalized()\n",
    "print(f\"Численные кватернионы:\\nq1 = {q1_n}\\nq2 = {q2_n}\\n\")\n",
    "\n",
    "q1_s = Matrix(q1 / np.linalg.norm(q1))\n",
    "q2_s = Matrix(q2 / np.linalg.norm(q2))\n",
    "print(f\"Символьные кватернионы:\\nq1 = {q1_s}\\nq2 = {q2_s}\")"
   ]
  },
  {
   "cell_type": "code",
   "execution_count": null,
   "id": "b01bc388-aba0-49bc-90db-80ee96400781",
   "metadata": {},
   "outputs": [],
   "source": []
  }
 ],
 "metadata": {
  "kernelspec": {
   "display_name": "Python 3 (ipykernel)",
   "language": "python",
   "name": "python3"
  },
  "language_info": {
   "codemirror_mode": {
    "name": "ipython",
    "version": 3
   },
   "file_extension": ".py",
   "mimetype": "text/x-python",
   "name": "python",
   "nbconvert_exporter": "python",
   "pygments_lexer": "ipython3",
   "version": "3.10.12"
  }
 },
 "nbformat": 4,
 "nbformat_minor": 5
}
