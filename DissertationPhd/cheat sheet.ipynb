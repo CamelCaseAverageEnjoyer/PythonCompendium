{
 "cells": [
  {
   "cell_type": "markdown",
   "id": "23589c8a-6cb3-46ef-97ca-68a187be3c2f",
   "metadata": {},
   "source": [
    "![](../storage/banners/37_cheat.png)"
   ]
  },
  {
   "cell_type": "markdown",
   "id": "c13bad55-ec3b-4556-afec-3265c6135e0b",
   "metadata": {},
   "source": [
    "##### Кватернионы в ПО"
   ]
  },
  {
   "cell_type": "markdown",
   "id": "06a5a494-f619-44c9-bcd0-04ea27b99587",
   "metadata": {
    "jp-MarkdownHeadingCollapsed": true
   },
   "source": [
    "###### Поиск по библиотеке"
   ]
  },
  {
   "cell_type": "code",
   "execution_count": null,
   "id": "b23d1f64-f31a-47bf-968d-6dd4fce20eb8",
   "metadata": {},
   "outputs": [],
   "source": [
    "# import numpy as np\n",
    "# s0 = dir(np)"
   ]
  },
  {
   "cell_type": "code",
   "execution_count": null,
   "id": "192b5569-a66d-4b74-8bbc-9ab5a352e870",
   "metadata": {},
   "outputs": [],
   "source": [
    "# import quaternion\n",
    "# s = dir(quaternion.np)\n",
    "# for i in s0:\n",
    "#     s.remove(i)\n",
    "# s"
   ]
  },
  {
   "cell_type": "markdown",
   "id": "315db081-e4bd-493e-b67a-c5ba29ed8572",
   "metadata": {},
   "source": [
    "###### Инициализация"
   ]
  },
  {
   "cell_type": "code",
   "execution_count": 1,
   "id": "5793777f-eb14-46e9-b950-e7d15d63319e",
   "metadata": {},
   "outputs": [
    {
     "name": "stdout",
     "output_type": "stream",
     "text": [
      "The history saving thread hit an unexpected error (OperationalError('attempt to write a readonly database')).History will not be written to the database.\n",
      "q = quaternion(1, 0, 0, 0)\n",
      "q = quaternion(1, 2, 3, 4)\n",
      "q = quaternion(0, 5, 0, 0)\n",
      "q = quaternion(5, 0, 0, 0)\n",
      "q = quaternion(0, 0, 0, 0)\n"
     ]
    }
   ],
   "source": [
    "import numpy as np\n",
    "import quaternion\n",
    "\n",
    "for q in [np.quaternion(1, 0, 0, 0),\n",
    "          np.quaternion(1, 2, 3, 4),\n",
    "          np.quaternion(5, 0, 0),\n",
    "          np.quaternion(5),\n",
    "          np.quaternion()]:\n",
    "    print(f\"q = {q}\")\n",
    "\n",
    "q = np.quaternion(1, 2, 3, 4)"
   ]
  },
  {
   "cell_type": "code",
   "execution_count": 28,
   "id": "ded77db5-9e2f-4e00-b789-be8cbd3a9ac7",
   "metadata": {},
   "outputs": [
    {
     "name": "stdout",
     "output_type": "stream",
     "text": [
      "Кватернион из вектора: quaternion(0, 0, 0, 0.5)\n",
      "Кватернион единичный из вектора: quaternion(0.866025403784439, 0, 0, 0.5)\n",
      "Кватернион из углов Эйлера: quaternion(0.968912421710645, 0, 0, 0.247403959254523)\n"
     ]
    }
   ],
   "source": [
    "a = np.array([0, 0, 0.5])\n",
    "\n",
    "q1 = quaternion.from_vector_part(a)\n",
    "q2 = quaternion.from_euler_angles(a)\n",
    "\n",
    "q3 = np.quaternion(np.sqrt(1 - np.linalg.norm(a)**2), *a)\n",
    "\n",
    "print(f\"Кватернион из вектора: {q1}\")\n",
    "print(f\"Кватернион единичный из вектора: {q3}\")\n",
    "print(f\"Кватернион из углов Эйлера: {q2}\")"
   ]
  },
  {
   "cell_type": "markdown",
   "id": "5abca95a-1d86-4033-a4a4-018d27d424fd",
   "metadata": {
    "jp-MarkdownHeadingCollapsed": true
   },
   "source": [
    "###### Преобразования типов"
   ]
  },
  {
   "cell_type": "code",
   "execution_count": 66,
   "id": "59ec8b4c-3689-4abb-bf96-49c2e2794379",
   "metadata": {},
   "outputs": [
    {
     "name": "stdout",
     "output_type": "stream",
     "text": [
      "Как numpy-массив: [1. 2. 3. 4.]\n",
      "<class 'numpy.ndarray'>\n",
      "Как numpy-массив: quaternion(1, 2, 3, 4)\n",
      "<class 'numpy.ndarray'>\n",
      "Как numpy-массив: quaternion(1, 2, 3, 4)\n",
      "<class 'numpy.ndarray'>\n",
      "Как numpy-массив: [1. 2. 3. 4.]\n",
      "<class 'numpy.ndarray'>\n"
     ]
    }
   ],
   "source": [
    "a = quaternion.as_float_array(q)\n",
    "b = quaternion.np.array(q)\n",
    "c = quaternion.np.asarray(q)\n",
    "d = q.components\n",
    "\n",
    "print(f\"Как numpy-массив: {a}\")\n",
    "print(type(a))\n",
    "print(f\"Как numpy-массив: {b}\")\n",
    "print(type(b))\n",
    "print(f\"Как numpy-массив: {c}\")\n",
    "print(type(c))\n",
    "print(f\"Как numpy-массив: {d}\")\n",
    "print(type(d))"
   ]
  },
  {
   "cell_type": "code",
   "execution_count": 132,
   "id": "c65a3718-2558-4f07-bd5e-74a469b0e4e5",
   "metadata": {},
   "outputs": [
    {
     "name": "stdout",
     "output_type": "stream",
     "text": [
      "Плохой пример: [quaternion(4, 0, 0, 0) quaternion(5, 0, 0, 0) quaternion(6, 0, 0, 0)\n",
      " quaternion(7, 0, 0, 0) quaternion(1, 2, 3, 4)]\n",
      "Хороший пример: [4. 5. 6. 7. 1. 2. 3. 4.]\n"
     ]
    }
   ],
   "source": [
    "a = np.array([4, 5, 6, 7])\n",
    "\n",
    "anw1 = np.append(a, q)\n",
    "anw2 = np.append(a, q.components)\n",
    "\n",
    "print(f\"Плохой пример: {anw1}\")\n",
    "print(f\"Хороший пример: {anw2}\")"
   ]
  },
  {
   "cell_type": "markdown",
   "id": "57317e4a-6a95-4e94-b18e-fc39ad3d7289",
   "metadata": {},
   "source": [
    "###### Преобразования математические"
   ]
  },
  {
   "cell_type": "code",
   "execution_count": 101,
   "id": "aa2ec75f-1bd4-45e0-bd19-cef6d84c42f6",
   "metadata": {},
   "outputs": [
    {
     "name": "stdout",
     "output_type": "stream",
     "text": [
      "Скалярная часть: 1.0\n",
      "<class 'float'>\n",
      "Векторная часть: [2. 3. 4.]\n",
      "<class 'numpy.ndarray'>\n",
      "Составлющие: 1.0 2.0 3.0 4.0\n",
      "<class 'float'> <class 'float'> <class 'float'> <class 'float'>\n"
     ]
    }
   ],
   "source": [
    "a = q.real\n",
    "b = q.vec\n",
    "w = q.w\n",
    "x = q.x\n",
    "y = q.y\n",
    "z = q.z\n",
    "\n",
    "print(f\"Скалярная часть: {a}\")\n",
    "print(type(a))\n",
    "print(f\"Векторная часть: {b}\")\n",
    "print(type(b))\n",
    "print(f\"Составлющие: {w} {x} {y} {z}\")\n",
    "print(type(w), type(x), type(y), type(z))"
   ]
  },
  {
   "cell_type": "code",
   "execution_count": 103,
   "id": "f7d65945-8800-463b-b3c6-1b6f486018f1",
   "metadata": {},
   "outputs": [
    {
     "name": "stdout",
     "output_type": "stream",
     "text": [
      "Нормированный кватернион: quaternion(0.182574185835055, 0.365148371670111, 0.547722557505166, 0.730296743340221) | quaternion(0.182574185835055, 0.365148371670111, 0.547722557505166, 0.730296743340221)\n",
      "<class 'quaternion.quaternion'> <class 'quaternion.quaternion'>\n"
     ]
    }
   ],
   "source": [
    "a = quaternion.np.normalized(q)\n",
    "b = q.normalized()\n",
    "\n",
    "print(f\"Нормированный кватернион: {a} | {b}\")\n",
    "print(type(a), type(b))"
   ]
  },
  {
   "cell_type": "code",
   "execution_count": 99,
   "id": "71d87cae-8cf2-47eb-9f20-5d5c01344189",
   "metadata": {},
   "outputs": [
    {
     "name": "stdout",
     "output_type": "stream",
     "text": [
      "Модуль: 5.477225575051661 | 5.477225575051661 | 5.477225575051661\n",
      "<class 'numpy.float64'> <class 'numpy.float64'> <class 'float'> \n",
      "\n",
      "Норма: 30.0 (√c = 5.477225575051661)\n",
      "<class 'numpy.float64'>\n"
     ]
    }
   ],
   "source": [
    "a = quaternion.np.abs(q)\n",
    "b = quaternion.np.absolute(q)\n",
    "d = q.abs()\n",
    "\n",
    "c = quaternion.np.norm(q)\n",
    "\n",
    "print(f\"Модуль: {a} | {b} | {d}\")\n",
    "print(type(a), type(b), type(d), '\\n')\n",
    "\n",
    "print(f\"Норма: {c} (√c = {np.sqrt(c)})\")\n",
    "print(type(c))"
   ]
  },
  {
   "cell_type": "code",
   "execution_count": 27,
   "id": "449d68e3-3290-4587-b393-2c5ee3b58daa",
   "metadata": {},
   "outputs": [
    {
     "name": "stdout",
     "output_type": "stream",
     "text": [
      "Угол поворота: 4.389231563842282 | 4.389231563842282\n",
      "<class 'numpy.float64'> <class 'float'>\n"
     ]
    }
   ],
   "source": [
    "a = quaternion.np.angle_of_rotor(q)\n",
    "b = q.angle()\n",
    "\n",
    "print(f\"Угол поворота: {a} | {b}\")\n",
    "print(type(a), type(b))"
   ]
  },
  {
   "cell_type": "code",
   "execution_count": 96,
   "id": "d08d6c8e-88d0-48c6-a477-321797846134",
   "metadata": {},
   "outputs": [
    {
     "name": "stdout",
     "output_type": "stream",
     "text": [
      "Сопряженный: quaternion(1, -2, -3, -4) | quaternion(1, -2, -3, -4)\n",
      "<class 'quaternion.quaternion'> <class 'quaternion.quaternion'> \n",
      "\n",
      "Обратный: quaternion(0.0333333333333333, -0.0666666666666667, -0.1, -0.133333333333333) | quaternion(0.0333333333333333, -0.0666666666666667, -0.1, -0.133333333333333)\n",
      "<class 'quaternion.quaternion'> <class 'quaternion.quaternion'>\n"
     ]
    }
   ],
   "source": [
    "a = q.conj()\n",
    "b = q.conjugate()\n",
    "\n",
    "с = q.inverse()\n",
    "d = q.reciprocal()\n",
    "\n",
    "print(f\"Сопряженный: {a} | {b}\")\n",
    "print(type(a), type(b), '\\n')\n",
    "\n",
    "print(f\"Обратный: {с} | {d}\")\n",
    "print(type(с), type(d))"
   ]
  },
  {
   "cell_type": "code",
   "execution_count": 125,
   "id": "46679771-8116-44eb-ab05-755324dce575",
   "metadata": {},
   "outputs": [
    {
     "name": "stdout",
     "output_type": "stream",
     "text": [
      "Матрица поворота из кватерниона A: \n",
      "[[-0.66666667  0.13333333  0.73333333]\n",
      " [ 0.66666667 -0.33333333  0.66666667]\n",
      " [ 0.33333333  0.93333333  0.13333333]]\n",
      "Матрица поворота из кватерниона B: \n",
      "[[-0.66666667  0.13333333  0.73333333]\n",
      " [ 0.66666667 -0.33333333  0.66666667]\n",
      " [ 0.33333333  0.93333333  0.13333333]]\n"
     ]
    }
   ],
   "source": [
    "A = quaternion.as_rotation_matrix(q)\n",
    "B = quaternion.as_rotation_matrix(q.normalized())\n",
    "\n",
    "print(f\"Матрица поворота из кватерниона A: \\n{A}\")\n",
    "print(f\"Матрица поворота из кватерниона B: \\n{B}\")"
   ]
  }
 ],
 "metadata": {
  "kernelspec": {
   "display_name": "Python 3 (ipykernel)",
   "language": "python",
   "name": "python3"
  },
  "language_info": {
   "codemirror_mode": {
    "name": "ipython",
    "version": 3
   },
   "file_extension": ".py",
   "mimetype": "text/x-python",
   "name": "python",
   "nbconvert_exporter": "python",
   "pygments_lexer": "ipython3",
   "version": "3.10.12"
  }
 },
 "nbformat": 4,
 "nbformat_minor": 5
}
