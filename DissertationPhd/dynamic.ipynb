{
 "cells": [
  {
   "cell_type": "markdown",
   "id": "c874be57-1429-419f-b8af-ae47804fdc27",
   "metadata": {},
   "source": [
    "![](../storage/banners/15_dynamics.png)"
   ]
  },
  {
   "cell_type": "markdown",
   "id": "2a49cdcd-4dfa-4cb2-9ff7-35c85e87dfed",
   "metadata": {},
   "source": [
    "##### <u>Инициализация</u>"
   ]
  },
  {
   "cell_type": "code",
   "execution_count": 1,
   "id": "48a0335a-8c2b-401f-871e-2c096fb8ce8c",
   "metadata": {},
   "outputs": [
    {
     "name": "stdout",
     "output_type": "stream",
     "text": [
      "\u001b[32mИнициализация проекта kiam-formation | Контекст: kiamformation\u001b[0m\n",
      "\u001b[32mИспользуйте следующим способом: import kiamformation as kf\u001b[0m\n",
      "\u001b[31mПараметры не могут быть загружены! Нет файла: kiamformation/data/config_choose.csv\u001b[0m\n",
      "\u001b[32mМатрицы Ф:(6, 6), Q:(3, 3), P:(6, 6), D:(6, 3)\u001b[0m\n"
     ]
    }
   ],
   "source": [
    "from common_func import *\n",
    "\n",
    "w = kf.get_vars(\"w\", 3, numb=False)\n",
    "q = kf.vec2quat(kf.get_vars(name='q', n=3, numb=False))"
   ]
  },
  {
   "cell_type": "markdown",
   "id": "ee754214-c0b3-43e9-a870-98d14c4e56a8",
   "metadata": {
    "jp-MarkdownHeadingCollapsed": true
   },
   "source": [
    "##### <u>Матрицы поворота</u>"
   ]
  },
  {
   "cell_type": "code",
   "execution_count": 4,
   "id": "15e460b0-7a3f-459e-897c-e1bdcf021967",
   "metadata": {},
   "outputs": [
    {
     "name": "stdout",
     "output_type": "stream",
     "text": [
      "\u001b[0mМатрица A ИСК->ССК:\u001b[0m\n"
     ]
    },
    {
     "data": {
      "text/latex": [
       "$\\displaystyle \\left[\\begin{matrix}- 2 q_{y}^{2} - 2 q_{z}^{2} + 1 & 2 q_{x} q_{y} + 2 q_{z} \\sqrt{- q_{x}^{2} - q_{y}^{2} - q_{z}^{2} + 1} & 2 q_{x} q_{z} - 2 q_{y} \\sqrt{- q_{x}^{2} - q_{y}^{2} - q_{z}^{2} + 1}\\\\2 q_{x} q_{y} - 2 q_{z} \\sqrt{- q_{x}^{2} - q_{y}^{2} - q_{z}^{2} + 1} & - 2 q_{x}^{2} - 2 q_{z}^{2} + 1 & 2 q_{x} \\sqrt{- q_{x}^{2} - q_{y}^{2} - q_{z}^{2} + 1} + 2 q_{y} q_{z}\\\\2 q_{x} q_{z} + 2 q_{y} \\sqrt{- q_{x}^{2} - q_{y}^{2} - q_{z}^{2} + 1} & - 2 q_{x} \\sqrt{- q_{x}^{2} - q_{y}^{2} - q_{z}^{2} + 1} + 2 q_{y} q_{z} & - 2 q_{x}^{2} - 2 q_{y}^{2} + 1\\end{matrix}\\right]$"
      ],
      "text/plain": [
       "Matrix([\n",
       "[                             -2*q_y**2 - 2*q_z**2 + 1,  2*q_x*q_y + 2*q_z*sqrt(-q_x**2 - q_y**2 - q_z**2 + 1), 2*q_x*q_z - 2*q_y*sqrt(-q_x**2 - q_y**2 - q_z**2 + 1)],\n",
       "[2*q_x*q_y - 2*q_z*sqrt(-q_x**2 - q_y**2 - q_z**2 + 1),                               -2*q_x**2 - 2*q_z**2 + 1, 2*q_x*sqrt(-q_x**2 - q_y**2 - q_z**2 + 1) + 2*q_y*q_z],\n",
       "[2*q_x*q_z + 2*q_y*sqrt(-q_x**2 - q_y**2 - q_z**2 + 1), -2*q_x*sqrt(-q_x**2 - q_y**2 - q_z**2 + 1) + 2*q_y*q_z,                              -2*q_x**2 - 2*q_y**2 + 1]])"
      ]
     },
     "metadata": {},
     "output_type": "display_data"
    },
    {
     "name": "stdout",
     "output_type": "stream",
     "text": [
      "Матрица U ИСК->ОСК:\n"
     ]
    },
    {
     "data": {
      "text/latex": [
       "$\\displaystyle \\left[\\begin{matrix}- \\sin{\\left(t w_{0} \\right)} & \\cos{\\left(t w_{0} \\right)} & 0\\\\0 & 0 & 1\\\\\\cos{\\left(t w_{0} \\right)} & \\sin{\\left(t w_{0} \\right)} & 0\\end{matrix}\\right]$"
      ],
      "text/plain": [
       "Matrix([\n",
       "[-sin(t*w_0), cos(t*w_0), 0],\n",
       "[          0,          0, 1],\n",
       "[ cos(t*w_0), sin(t*w_0), 0]])"
      ]
     },
     "metadata": {},
     "output_type": "display_data"
    },
    {
     "name": "stdout",
     "output_type": "stream",
     "text": [
      "Матрица S ОСК->ССК:\n"
     ]
    },
    {
     "data": {
      "text/latex": [
       "$\\displaystyle \\left[\\begin{matrix}\\left(2 q_{x} q_{y} + 2 q_{z} \\sqrt{- q_{x}^{2} - q_{y}^{2} - q_{z}^{2} + 1}\\right) \\cos{\\left(t w_{0} \\right)} - \\left(- 2 q_{y}^{2} - 2 q_{z}^{2} + 1\\right) \\sin{\\left(t w_{0} \\right)} & 2 q_{x} q_{z} - 2 q_{y} \\sqrt{- q_{x}^{2} - q_{y}^{2} - q_{z}^{2} + 1} & \\left(2 q_{x} q_{y} + 2 q_{z} \\sqrt{- q_{x}^{2} - q_{y}^{2} - q_{z}^{2} + 1}\\right) \\sin{\\left(t w_{0} \\right)} + \\left(- 2 q_{y}^{2} - 2 q_{z}^{2} + 1\\right) \\cos{\\left(t w_{0} \\right)}\\\\- \\left(2 q_{x} q_{y} - 2 q_{z} \\sqrt{- q_{x}^{2} - q_{y}^{2} - q_{z}^{2} + 1}\\right) \\sin{\\left(t w_{0} \\right)} + \\left(- 2 q_{x}^{2} - 2 q_{z}^{2} + 1\\right) \\cos{\\left(t w_{0} \\right)} & 2 q_{x} \\sqrt{- q_{x}^{2} - q_{y}^{2} - q_{z}^{2} + 1} + 2 q_{y} q_{z} & \\left(2 q_{x} q_{y} - 2 q_{z} \\sqrt{- q_{x}^{2} - q_{y}^{2} - q_{z}^{2} + 1}\\right) \\cos{\\left(t w_{0} \\right)} + \\left(- 2 q_{x}^{2} - 2 q_{z}^{2} + 1\\right) \\sin{\\left(t w_{0} \\right)}\\\\- \\left(2 q_{x} q_{z} + 2 q_{y} \\sqrt{- q_{x}^{2} - q_{y}^{2} - q_{z}^{2} + 1}\\right) \\sin{\\left(t w_{0} \\right)} + \\left(- 2 q_{x} \\sqrt{- q_{x}^{2} - q_{y}^{2} - q_{z}^{2} + 1} + 2 q_{y} q_{z}\\right) \\cos{\\left(t w_{0} \\right)} & - 2 q_{x}^{2} - 2 q_{y}^{2} + 1 & \\left(2 q_{x} q_{z} + 2 q_{y} \\sqrt{- q_{x}^{2} - q_{y}^{2} - q_{z}^{2} + 1}\\right) \\cos{\\left(t w_{0} \\right)} + \\left(- 2 q_{x} \\sqrt{- q_{x}^{2} - q_{y}^{2} - q_{z}^{2} + 1} + 2 q_{y} q_{z}\\right) \\sin{\\left(t w_{0} \\right)}\\end{matrix}\\right]$"
      ],
      "text/plain": [
       "Matrix([\n",
       "[                               (2*q_x*q_y + 2*q_z*sqrt(-q_x**2 - q_y**2 - q_z**2 + 1))*cos(t*w_0) - (-2*q_y**2 - 2*q_z**2 + 1)*sin(t*w_0), 2*q_x*q_z - 2*q_y*sqrt(-q_x**2 - q_y**2 - q_z**2 + 1),                               (2*q_x*q_y + 2*q_z*sqrt(-q_x**2 - q_y**2 - q_z**2 + 1))*sin(t*w_0) + (-2*q_y**2 - 2*q_z**2 + 1)*cos(t*w_0)],\n",
       "[                              -(2*q_x*q_y - 2*q_z*sqrt(-q_x**2 - q_y**2 - q_z**2 + 1))*sin(t*w_0) + (-2*q_x**2 - 2*q_z**2 + 1)*cos(t*w_0), 2*q_x*sqrt(-q_x**2 - q_y**2 - q_z**2 + 1) + 2*q_y*q_z,                               (2*q_x*q_y - 2*q_z*sqrt(-q_x**2 - q_y**2 - q_z**2 + 1))*cos(t*w_0) + (-2*q_x**2 - 2*q_z**2 + 1)*sin(t*w_0)],\n",
       "[-(2*q_x*q_z + 2*q_y*sqrt(-q_x**2 - q_y**2 - q_z**2 + 1))*sin(t*w_0) + (-2*q_x*sqrt(-q_x**2 - q_y**2 - q_z**2 + 1) + 2*q_y*q_z)*cos(t*w_0),                              -2*q_x**2 - 2*q_y**2 + 1, (2*q_x*q_z + 2*q_y*sqrt(-q_x**2 - q_y**2 - q_z**2 + 1))*cos(t*w_0) + (-2*q_x*sqrt(-q_x**2 - q_y**2 - q_z**2 + 1) + 2*q_y*q_z)*sin(t*w_0)]])"
      ]
     },
     "metadata": {},
     "output_type": "display_data"
    }
   ],
   "source": [
    "kf.my_print(f\"Матрица A ИСК->ССК:\")\n",
    "display(A)\n",
    "print(f\"Матрица U ИСК->ОСК:\")\n",
    "display(U)\n",
    "print(f\"Матрица S ОСК->ССК:\")\n",
    "display(S)"
   ]
  },
  {
   "cell_type": "markdown",
   "id": "7a4e8c11-b18e-4ed8-98a7-9bba4feaf415",
   "metadata": {},
   "source": [
    "##### <u>Компоненты производной угловой скорости</u>"
   ]
  },
  {
   "cell_type": "code",
   "execution_count": 23,
   "id": "00d39d01-3739-4af8-be71-534115ebe39c",
   "metadata": {
    "scrolled": true
   },
   "outputs": [],
   "source": [
    "M = 3 * μ / R_0**5 * (S @ R_orb).cross(J @ S @ R_orb)\n",
    "w = Matrix(kf.get_func(\"w\", 3, numb=False, t=t))\n",
    "dw = Matrix(kf.get_func(\"dw\", 3, numb=False, t=t))\n",
    "\n",
    "w_diff = J.inv() @ (- (w).cross(J @ w) + M)\n",
    "w_diff = A.T @ J.inv() @ (- (A @ w).cross(J @ A @ w) + M)"
   ]
  },
  {
   "cell_type": "code",
   "execution_count": null,
   "id": "4b758183-9cff-4122-957a-f987dd17cb02",
   "metadata": {},
   "outputs": [],
   "source": [
    "print(f\"Разложение по Тейлору:\")\n",
    "display(w_diff[0].subs([(w[0], w[0]+dw[0])]).diff(dw[0]).expand())"
   ]
  },
  {
   "cell_type": "markdown",
   "id": "22ea5b60-1625-457a-95e8-d48c536f4f48",
   "metadata": {
    "jp-MarkdownHeadingCollapsed": true
   },
   "source": [
    "##### <u>Линеаризация уравнений движения</u>"
   ]
  },
  {
   "cell_type": "code",
   "execution_count": 3,
   "id": "fa8082d6-ca10-4f99-a41f-e93931a8d98c",
   "metadata": {},
   "outputs": [
    {
     "name": "stdout",
     "output_type": "stream",
     "text": [
      "Линеаризованная матрица Ф:\n"
     ]
    },
    {
     "data": {
      "text/latex": [
       "$\\displaystyle \\left[\\begin{array}{cccccccccccc}0 & 0 & 0 & 0 & 0 & 0 & 1 & 0 & 0 & 0 & 0 & 0\\\\0 & 0 & 0 & 0 & 0 & 0 & 0 & 1 & 0 & 0 & 0 & 0\\\\0 & 0 & 0 & 0 & 0 & 0 & 0 & 0 & 1 & 0 & 0 & 0\\\\0 & 0 & 0 & 0 & 0 & 0 & 0 & 0 & 0 & 0 & 0 & 0\\\\0 & 0 & 0 & 0 & 0 & 0 & 0 & 0 & 0 & 0 & 0 & 0\\\\0 & 0 & 0 & 0 & 0 & 0 & 0 & 0 & 0 & 0 & 0 & 0\\\\0 & 0 & 0 & 0 & 0 & 0 & 0 & 0 & - 2 w_{0} & 0 & 0 & 0\\\\0 & - w_{0}^{2} & 0 & 0 & 0 & 0 & 0 & 0 & 0 & 0 & 0 & 0\\\\0 & 0 & 3 w_{0}^{2} & 0 & 0 & 0 & 2 w_{0} & 0 & 0 & 0 & 0 & 0\\\\0 & 0 & 0 & 0 & 0 & 0 & 0 & 0 & 0 & 0 & 0 & 0\\\\0 & 0 & 0 & 0 & 0 & 0 & 0 & 0 & 0 & 0 & 0 & 0\\\\0 & 0 & 0 & 0 & 0 & 0 & 0 & 0 & 0 & 0 & 0 & 0\\end{array}\\right]$"
      ],
      "text/plain": [
       "Matrix([\n",
       "[0,       0,        0, 0, 0, 0,     1, 0,      0, 0, 0, 0],\n",
       "[0,       0,        0, 0, 0, 0,     0, 1,      0, 0, 0, 0],\n",
       "[0,       0,        0, 0, 0, 0,     0, 0,      1, 0, 0, 0],\n",
       "[0,       0,        0, 0, 0, 0,     0, 0,      0, 0, 0, 0],\n",
       "[0,       0,        0, 0, 0, 0,     0, 0,      0, 0, 0, 0],\n",
       "[0,       0,        0, 0, 0, 0,     0, 0,      0, 0, 0, 0],\n",
       "[0,       0,        0, 0, 0, 0,     0, 0, -2*w_0, 0, 0, 0],\n",
       "[0, -w_0**2,        0, 0, 0, 0,     0, 0,      0, 0, 0, 0],\n",
       "[0,       0, 3*w_0**2, 0, 0, 0, 2*w_0, 0,      0, 0, 0, 0],\n",
       "[0,       0,        0, 0, 0, 0,     0, 0,      0, 0, 0, 0],\n",
       "[0,       0,        0, 0, 0, 0,     0, 0,      0, 0, 0, 0],\n",
       "[0,       0,        0, 0, 0, 0,     0, 0,      0, 0, 0, 0]])"
      ]
     },
     "execution_count": 3,
     "metadata": {},
     "output_type": "execute_result"
    }
   ],
   "source": [
    "r = get_func(\"r\", 3, numb=False)\n",
    "v = get_func(\"v\", 3, numb=False)\n",
    "q = get_func(\"q\", 3, numb=False)\n",
    "w = get_func(\"w\", 3, numb=False)\n",
    "q0 = 1 - sqrt(q[0]**2 + q[1]**2 + q[2]**2)\n",
    "\n",
    "M = 3 * μ / R_0**5 * (S @ R_orb).cross(J @ S @ R_orb)\n",
    "w_diff = A.T @ J.inv() @ (- (A @ Matrix(w)).cross(J @ A @ Matrix(w)) + M)\n",
    "\n",
    "state_vector = r + q + v + w\n",
    "motion_equations = [Eq(r[0].diff(t), v[0]),\n",
    "                    Eq(r[1].diff(t), v[1]),\n",
    "                    Eq(r[2].diff(t), v[2]),\n",
    "                    # Eq(q[0].diff(t), (-w[0]*q[1] - w[1]*q[2] - w[2]*q[3])/2),\n",
    "                    Eq(q[0].diff(t), (w[0]*q0 + w[1]*q[2] - w[2]*q[1])/2),\n",
    "                    Eq(q[1].diff(t), (w[1]*q0 + w[2]*q[0] - w[0]*q[2])/2),\n",
    "                    Eq(q[2].diff(t), (w[2]*q0 + w[0]*q[1] - w[1]*q[0])/2),\n",
    "                    Eq(v[0].diff(t), -2*w_0 * v[2]),\n",
    "                    Eq(v[1].diff(t), -w_0**2 * r[1]),\n",
    "                    Eq(v[2].diff(t), 2*w_0 * v[0] + 3*w_0**2 * r[2]),\n",
    "                    Eq(w[0].diff(t), (J.inv() @ (- Matrix(w).cross(J @ Matrix(w)) + Matrix(M)))[0]),\n",
    "                    Eq(w[1].diff(t), (J.inv() @ (- Matrix(w).cross(J @ Matrix(w)) + Matrix(M)))[1]),\n",
    "                    Eq(w[2].diff(t), (J.inv() @ (- Matrix(w).cross(J @ Matrix(w)) + Matrix(M)))[2])]\n",
    "motion_derivs = [expr.rhs for expr in motion_equations]\n",
    "\n",
    "def get_linearized_component(i_exp: int, i_var: int):\n",
    "    anw = motion_derivs[i_exp].diff(state_vector[i_var])\n",
    "    sv = state_vector.copy()\n",
    "    sv.remove(state_vector[i_var])\n",
    "    for i in sv:\n",
    "        if anw.diff(i) != 0:\n",
    "            return 0\n",
    "    '''for i in state_vector:\n",
    "        if anw.diff(i) != zero:\n",
    "            anw -= anw.diff(i) * i'''\n",
    "    return anw\n",
    "\n",
    "print(f\"Линеаризованная матрица Ф:\")\n",
    "Ф = Matrix(np.zeros((len(motion_equations), len(state_vector))))\n",
    "for i in range(len(motion_equations)):\n",
    "    for j in range(len(state_vector)):\n",
    "        Ф[i, j] = get_linearized_component(i, j)\n",
    "Ф"
   ]
  },
  {
   "cell_type": "markdown",
   "id": "c862ccc7-0654-4c91-80c4-a9eb1fdcc89b",
   "metadata": {},
   "source": [
    "##### <u>Генерация файла</u> `H_matrix.py` <u>(матрица H)</u>"
   ]
  },
  {
   "cell_type": "code",
   "execution_count": 5,
   "id": "67d892c2-9c6d-468c-9bcd-1e8fd0d4a740",
   "metadata": {},
   "outputs": [],
   "source": [
    "r1 = kf.get_vars(\"r1\", 3, numb=False)\n",
    "r2 = kf.get_vars(\"r2\", 3, numb=False)\n",
    "\n",
    "q1 = kf.vec2quat(kf.get_vars(name='q1', n=3, numb=False))\n",
    "q2 = kf.vec2quat(kf.get_vars(name='q2', n=3, numb=False))\n",
    "_, S1, A1, _ = kf.get_matrices(v=o.v, t=t, q=q1)\n",
    "_, S2, A2, _ = kf.get_matrices(v=o.v, t=t, q=q2)\n",
    "\n",
    "r1_brf = S1 @ (r1-r2)\n",
    "r2_brf = S2 @ (r2-r1)"
   ]
  },
  {
   "cell_type": "markdown",
   "id": "e55db579-80a8-4d05-9343-ef9e482afc48",
   "metadata": {},
   "source": [
    "$\\newcommand{bd}[]{\\boldsymbol}$\n",
    "\n",
    "$$\\bd{H}=\\begin{bmatrix} \n",
    "\\bd{H}^{cd}_{1,1} & \\bd{H}^{cd}_{1,2} & ... & ... & \\bd{H}^{cd}_{1,N} \\\\\n",
    "... & ... & ... & ... & ... \\\\\n",
    "\\bd{H}^{cd}_{M,1} & \\bd{H}^{cd}_{M,2} & ... & ... & \\bd{H}^{cd}_{M,N} \\\\\n",
    "- & - & - & - &  - \\\\\n",
    "\\bd{H}^{dd}_{1,2} & \\bd{H}^{dd}_{1,2} & O_{N \\times L_x} & ... & O_{N \\times L_x} \\\\\n",
    "\\bd{H}^{dd}_{1,3} & O_{N \\times L_x} & \\bd{H}^{dd}_{1,3} & ... & O_{N \\times L_x} \\\\\n",
    "... & ... & ... & ... & ... \\\\\n",
    "O_{N \\times L_x} & O_{N \\times L_x} & O_{N \\times L_x} & ... & \\bd{H}^{dd}_{N-1,N} \\\\\n",
    "\\end{bmatrix},$$\n",
    "\n",
    "$$\\bd{H}^{cd}_{1,1 \\hskip10px (NL_z^c\\times6/13)}=\n",
    "\\begin{bmatrix} \n",
    "\\bd{H}^{cd}_{1,1} (1) \\\\\n",
    "... \\\\\n",
    "\\bd{H}^{cd}_{1,1} (N) \\\\\n",
    "\\end{bmatrix},\n",
    "\\hskip15px\n",
    "\\bd{H}^{dd}_{1,1 \\hskip10px (NL_z^d\\times6/13)}=\n",
    "\\begin{bmatrix} \n",
    "\\bd{H}^{dd}_{1,1} (1) \\\\\n",
    "... \\\\\n",
    "\\bd{H}^{dd}_{1,1} (N) \\\\\n",
    "\\end{bmatrix},$$\n",
    "\n",
    "Если рашется задача оценки орбитального движения (angles_navigation==False):\n",
    "$$\\bd{H}^{cd}_{1,1 \\hskip10px (L_z^c\\times6)} (1)=\\begin{bmatrix} \n",
    "\\frac{x^{cd}_{1,1}}{r^{cd}_{1,1}} & \\frac{y^{cd}_{1,1}}{r^{cd}_{1,1}} & \\frac{z^{cd}_{1,1}}{r^{cd}_{1,1}} & 0 & 0 & 0 \\\\\n",
    "0 & 0 & 0 & 0 & 0 & 0  \\\\\n",
    "... \\\\\n",
    "0 & 0 & 0 & 0 & 0 & 0 \\\\\n",
    "\\end{bmatrix},$$\n",
    "\n",
    "$$\\bd{H}^{dd}_{1,2 \\hskip10px (L_z^d\\times6)} (2)=\\begin{bmatrix} \n",
    "0 & 0 & 0 & 0 & 0 & 0  \\\\\n",
    "\\frac{x^{dd}_{1,2}}{r^{dd}_{1,2}} & \\frac{y^{dd}_{1,2}}{r^{dd}_{1,2}} & \\frac{z^{dd}_{1,2}}{r^{dd}_{1,2}} & 0 & 0 & 0 \\\\\n",
    "... \\\\\n",
    "0 & 0 & 0 & 0 & 0 & 0 \\\\\n",
    "\\end{bmatrix}.$$\n",
    "\n",
    "В случае орбитального и углового движения (angles_navigation==True):\n",
    "$$\\bd{H}^{cd}_{1,1 \\hskip10px (L_z^c\\times13)} (1) = \n",
    "\\begin{bmatrix} \n",
    "\\frac{x^{cd}_{1,1}}{r^{cd}_{1,1}\\sqrt{G^{cd}_{1,1}G^{dc}_{1,1}}} & \\frac{y^{cd}_{1,1}}{r^{cd}_{1,1}\\sqrt{G^{cd}_{1,1}G^{dc}_{1,1}}} & \\frac{z^{cd}_{1,1}}{r^{cd}_{1,1}\\sqrt{G^{cd}_{1,1}G^{dc}_{1,1}}} &|& h_1^1 & h_2^1 & h_3^1 & h_4^1  &|& 0 & 0 & 0 &|& 0 & 0 & 0 \\\\\n",
    "0 & 0 & 0 &|& h_1^2 & h_2^2 & h_3^2 & h_4^2  &|& 0 & 0 & 0 &|& 0 & 0 & 0  \\\\\n",
    "... & ... & ... &|& ... & ... & ... & ...  &|& . & . & . &|& . & . & . \\\\\n",
    "0 & 0 & 0 &|& h_1^{L_z^c} & h_2^{L_z^c} & h_3^{L_z^c} & h_4^{L_z^c}  &|& 0 & 0 & 0 &|& 0 & 0 & 0  \\\\\n",
    "\\end{bmatrix},$$\n",
    "\n",
    "$$\\bd{H}^{dd}_{1,2 \\hskip10px (L_z^d\\times13)} (2)=\\begin{bmatrix} \n",
    "0 & 0 & 0 &|& h_1^1 & h_2^1 & h_3^1 & h_4^1  &|& 0 & 0 & 0 &|& 0 & 0 & 0  \\\\\n",
    "\\frac{x^{dd}_{1,2}}{r^{dd}_{1,2}\\sqrt{G^{dd}_{1,2}G^{dd}_{2,1}}} & \\frac{y^{dd}_{1,2}}{r^{dd}_{1,2}\\sqrt{G^{dd}_{1,2}G^{dd}_{2,1}}} & \\frac{z^{dd}_{1,2}}{r^{dd}_{1,2}\\sqrt{G^{dd}_{1,2}G^{dd}_{2,1}}} &|& h_1^2 & h_2^2 & h_3^2 & h_4^2  &|& 0 & 0 & 0 &|& 0 & 0 & 0 \\\\\n",
    "... & ... & ... &|& ... & ... & ... & ...  &|& . & . & . &|& . & . & . \\\\\n",
    "0 & 0 & 0 &|& h_1^{L_z^d} & h_2^{L_z^d} & h_3^{L_z^d} & h_4^{L_z^d}  &|& 0 & 0 & 0 &|& 0 & 0 & 0  \\\\\n",
    "\\end{bmatrix}.$$"
   ]
  },
  {
   "cell_type": "markdown",
   "id": "698c0727-5407-4e32-aa93-cb780505203d",
   "metadata": {
    "jp-MarkdownHeadingCollapsed": true
   },
   "source": [
    "###### Упрощение генерируемого файла. Замена выражений"
   ]
  },
  {
   "cell_type": "code",
   "execution_count": 17,
   "id": "571c97bc-ed66-4e03-94be-5cbc39f2f151",
   "metadata": {},
   "outputs": [],
   "source": [
    "swt, cwt = var(\"swt cwt\")\n",
    "s1_11, s1_12, s1_13, s1_21, s1_22, s1_23, s1_31, s1_32, s1_33 = var(\"s1_11 s1_12 s1_13 s1_21 s1_22 s1_23 s1_31 s1_32 s1_33\")\n",
    "s2_11, s2_12, s2_13, s2_21, s2_22, s2_23, s2_31, s2_32, s2_33 = var(\"s2_11 s2_12 s2_13 s2_21 s2_22 s2_23 s2_31 s2_32 s2_33\")\n",
    "r1_x, r1_y, r1_z, r2_x, r2_y, r2_z, r12x, r12y, r12z, r12 = var(\"r1_x r1_y r1_z r2_x r2_y r2_z r12x r12y r12z r12\")\n",
    "s1_x_r12, s1_y_r12, s1_z_r12, s2_x_r12, s2_y_r12, s2_z_r12, s1_r12, s2_r12 = var(\"s1_x_r12 s1_y_r12 s1_z_r12 s2_x_r12 s2_y_r12 s2_z_r12 s1_r12 s2_r12\")\n",
    "s1_xyx, s1_xy, s1_yz, s1_xz, s2_xyx, s2_xy, s2_yz, s2_xz, s2_yz_2, s2_xz_2 = var(\"s1_xyx s1_xy s1_yz s1_xz s2_xyx s2_xy s2_yz s2_xz  s2_yz_2 s2_xz_2\")\n",
    "s1_xyx_2, s1_xy_2, s1_yz_2, s1_xz_2, s2_xyx_2, s2_xy_2, s2_yz_2, s2_xz_2 = var(\"s1_xyx_2 s1_xy_2 s1_yz_2 s1_xz_2 s2_xyx_2 s2_xy_2 s2_yz_2 s2_xz_2\")\n",
    "c_s1_x, c_s1_y, c_s1_z, c_s2_x, c_s2_y, c_s2_z = var(\"c_s1_x c_s1_y c_s1_z c_s2_x c_s2_y c_s2_z\")\n",
    "s1_r12_2, s2_r12_2, s1_xyx, s1_xy, s1_yz, s1_xz, s2_xyx, s2_xy, s2_yz, s2_xz = var(\"s1_r12_2 s2_r12_2 s1_xyx s1_xy s1_yz s1_xz s2_xyx s2_xy s2_yz s2_xz\")\n",
    "s1_xyx_2, s1_xy_2, s1_yz_2, s1_xz_2, s2_xyx_2, s2_xy_2, s2_yz_2, s2_xz_2 = var(\"s1_xyx_2 s1_xy_2 s1_yz_2 s1_xz_2 s2_xyx_2 s2_xy_2 s2_yz_2 s2_xz_2\")\n",
    "q1_y_z2, q1_x_z2, q1_0z_xy1, q1_0z_xy2, q1_0y_xz1, q1_0x_yz2, q2_y_z2, q2_x_z2, q2_0z_xy1, q2_0z_xy2, q2_0y_xz1, q2_0x_yz2 = var(\"q1_y_z2 q1_x_z2 q1_0z_xy1 q1_0z_xy2 q1_0y_xz1 q1_0x_yz2 q2_y_z2 q2_x_z2 q2_0z_xy1 q2_0z_xy2 q2_0y_xz1 q2_0x_yz2\")\n",
    "c_s1_xr12_xyx = var(\"c_s1_xr12_xyx\")\n",
    "t001, t002, t003, t004, t005, t006 = var(\"t001 t002 t003 t004 t005 t006\")\n",
    "\n",
    "sublist = [(S1[0,0], s1_11), (S1[0,1], s1_12), (S1[0,2], s1_13), \n",
    "           (S1[1,0], s1_21), (S1[1,1], s1_22), (S1[1,2], s1_23), \n",
    "           (S1[2,0], s1_31), (S1[2,1], s1_32), (S1[2,2], s1_33), \n",
    "           (S2[0,0], s2_11), (S2[0,1], s2_12), (S2[0,2], s2_13), \n",
    "           (S2[1,0], s2_21), (S2[1,1], s2_22), (S2[1,2], s2_23), \n",
    "           (S2[2,0], s2_31), (S2[2,1], s2_32), (S2[2,2], s2_33),\n",
    "           (sin(t*w_0), swt), (cos(t*w_0), cwt)]\n",
    "\n",
    "def my_simplify(expr, angles_navigation) -> list:\n",
    "    txt = str(expr.subs(sublist)) if angles_navigation else str(expr)\n",
    "\n",
    "    txt = txt.replace(\"r1_x - r2_x\", \"r12x\")\n",
    "    txt = txt.replace(\"-r1_x + r2_x\", \"-r12x\")\n",
    "    txt = txt.replace(\"r1_y - r2_y\", \"r12y\")\n",
    "    txt = txt.replace(\"-r1_y + r2_y\", \"-r12y\")\n",
    "    txt = txt.replace(\"r1_z - r2_z\", \"r12z\")\n",
    "    txt = txt.replace(\"-r1_z + r2_z\", \"-r12z\")\n",
    "    txt = txt.replace(\"sqrt(r12x**2 + r12y**2 + r12z**2)\", \"r12\")\n",
    "    txt = txt.replace(\"sqrt((r12x)**2 + (r12y)**2 + (r12z)**2)\", \"r12\")\n",
    "\n",
    "    if angles_navigation:\n",
    "        # ПРОВЕРИТЬ ДОСКОНАЛЬНО      2*q1_0*q1_y + 2*q1_x*q1_z\n",
    "        txt = txt.replace(\"1 - sqrt(q1_x**2 + q1_y**2 + q1_z**2)\", \"q1_0\")\n",
    "        txt = txt.replace(\"1 - sqrt(q2_x**2 + q2_y**2 + q2_z**2)\", \"q2_0\")\n",
    "            \n",
    "        txt = txt.replace(\"cwt*(2*q2_0*q2_z + 2*q2_x*q2_y) - swt*(-2*q2_y**2 - 2*q2_z**2 + 1)\", \"s2_11\")\n",
    "        txt = txt.replace(\"-2*q2_0*q2_y + 2*q2_x*q2_z\", \"s2_12\")\n",
    "        txt = txt.replace(\"cwt*(-2*q2_y**2 - 2*q2_z**2 + 1) + swt*(2*q2_0*q2_z + 2*q2_x*q2_y)\", \"s2_13\")\n",
    "        \n",
    "        txt = txt.replace(\"cwt*(-2*q2_x**2 - 2*q2_z**2 + 1) - swt*(-2*q2_0*q2_z + 2*q2_x*q2_y)\", \"s2_21\")\n",
    "        txt = txt.replace(\"2*q2_0*q2_x + 2*q2_y*q2_z\", \"s2_22\")\n",
    "        txt = txt.replace(\"cwt*(-2*q2_0*q2_z + 2*q2_x*q2_y) + swt*(-2*q2_x**2 - 2*q2_z**2 + 1)\", \"s2_23\")\n",
    "        \n",
    "        txt = txt.replace(\"cwt*(-2*q2_0*q2_x + 2*q2_y*q2_z) - swt*(2*q2_0*q2_y + 2*q2_x*q2_z)\", \"s2_31\")\n",
    "        txt = txt.replace(\"-2*q2_x**2 - 2*q2_y**2 + 1\", \"s2_32\")\n",
    "        txt = txt.replace(\"cwt*(2*q2_0*q2_y + 2*q2_x*q2_z) + swt*(-2*q2_0*q2_x + 2*q2_y*q2_z)\", \"s2_33\")\n",
    "\n",
    "        txt = txt.replace(\"cwt*(2*q1_0*q1_z + 2*q1_x*q1_y) - swt*(-2*q1_y**2 - 2*q1_z**2 + 1)\", \"s1_11\")\n",
    "        txt = txt.replace(\"-2*q1_0*q1_y + 2*q1_x*q1_z\", \"s1_12\")\n",
    "        txt = txt.replace(\"cwt*(-2*q1_y**2 - 2*q1_z**2 + 1) + swt*(2*q1_0*q1_z + 2*q1_x*q1_y)\", \"s1_13\")\n",
    "        \n",
    "        txt = txt.replace(\"cwt*(-2*q1_x**2 - 2*q1_z**2 + 1) - swt*(-2*q1_0*q1_z + 2*q1_x*q1_y)\", \"s1_21\")\n",
    "        txt = txt.replace(\"2*q1_0*q1_x + 2*q1_y*q1_z\", \"s1_22\")\n",
    "        txt = txt.replace(\"cwt*(-2*q1_0*q1_z + 2*q1_x*q1_y) + swt*(-2*q1_x**2 - 2*q1_z**2 + 1)\", \"s1_23\")\n",
    "        \n",
    "        txt = txt.replace(\"cwt*(-2*q1_0*q1_x + 2*q1_y*q1_z) - swt*(2*q1_0*q1_y + 2*q1_x*q1_z)\", \"s1_31\")\n",
    "        txt = txt.replace(\"-2*q1_x**2 - 2*q1_y**2 + 1\", \"s1_32\")\n",
    "        txt = txt.replace(\"cwt*(2*q1_0*q1_y + 2*q1_x*q1_z) + swt*(-2*q1_0*q1_x + 2*q1_y*q1_z)\", \"s1_33\")\n",
    "        \n",
    "        txt = txt.replace(\"s1_11*(r12x) + s1_12*(r12y) + s1_13*(r12z)\", \"s1_x_r12\")\n",
    "        txt = txt.replace(\"s1_21*(r12x) + s1_22*(r12y) + s1_23*(r12z)\", \"s1_y_r12\")\n",
    "        txt = txt.replace(\"s1_31*(r12x) + s1_32*(r12y) + s1_33*(r12z)\", \"s1_x_r12\")\n",
    "        txt = txt.replace(\"s2_11*(r12x) + s2_12*(r12y) + s2_13*(r12z)\", \"s2_x_r12\")\n",
    "        txt = txt.replace(\"s2_21*(r12x) + s2_22*(r12y) + s2_23*(r12z)\", \"s2_y_r12\")\n",
    "        txt = txt.replace(\"s2_31*(r12x) + s2_32*(r12y) + s2_33*(r12z)\", \"s2_z_r12\")\n",
    "        \n",
    "        txt = txt.replace(\"s1_11*(-r12x) + s1_12*(-r12y) + s1_13*(-r12z)\", \"-s1_x_r12\")\n",
    "        txt = txt.replace(\"s1_21*(-r12x) + s1_22*(-r12y) + s1_23*(-r12z)\", \"-s1_y_r12\")\n",
    "        txt = txt.replace(\"s1_31*(-r12x) + s1_32*(-r12y) + s1_33*(-r12z)\", \"-s1_x_r12\")\n",
    "        txt = txt.replace(\"s2_11*(-r12x) + s2_12*(-r12y) + s2_13*(-r12z)\", \"-s2_x_r12\")\n",
    "        txt = txt.replace(\"s2_21*(-r12x) + s2_22*(-r12y) + s2_23*(-r12z)\", \"-s2_y_r12\")\n",
    "        txt = txt.replace(\"s2_31*(-r12x) + s2_32*(-r12y) + s2_33*(-r12z)\", \"-s2_z_r12\")\n",
    "        \n",
    "        txt = txt.replace(\"sqrt((s1_x_r12)**2 + (s1_y_r12)**2 + (s1_z_r12)**2)\", \"s1_r12\")\n",
    "        txt = txt.replace(\"sqrt((s2_x_r12)**2 + (s2_y_r12)**2 + (s2_z_r12)**2)\", \"s2_r12\")\n",
    "        txt = txt.replace(\"sqrt((-s1_x_r12)**2 + (-s1_y_r12)**2 + (-s1_z_r12)**2)\", \"s1_r12\")\n",
    "        txt = txt.replace(\"sqrt((-s2_x_r12)**2 + (-s2_y_r12)**2 + (-s2_z_r12)**2)\", \"s2_r12\")\n",
    "        \n",
    "        txt = txt.replace(\"((s1_x_r12)**2 + (s1_y_r12)**2 + (s1_z_r12)**2)\", \"s1_r12_2\")\n",
    "        txt = txt.replace(\"((s2_x_r12)**2 + (s2_y_r12)**2 + (s2_z_r12)**2)\", \"s2_r12_2\")\n",
    "        txt = txt.replace(\"((-s1_x_r12)**2 + (-s1_y_r12)**2 + (-s1_z_r12)**2)\", \"s1_r12_2\")\n",
    "        txt = txt.replace(\"((-s2_x_r12)**2 + (-s2_y_r12)**2 + (-s2_z_r12)**2)\", \"s2_r12_2\")\n",
    "        \n",
    "        txt = txt.replace(\"sqrt((s1_x_r12)**2 + (s1_y_r12)**2 + (s1_x_r12)**2)\", \"s1_xyx\")\n",
    "        txt = txt.replace(\"sqrt((s1_x_r12)**2 + (s1_y_r12)**2)\", \"s1_xy\") \n",
    "        txt = txt.replace(\"sqrt((s1_y_r12)**2 + (s1_z_r12)**2)\", \"s1_yz\")\n",
    "        txt = txt.replace(\"sqrt((s1_x_r12)**2 + (s1_z_r12)**2)\", \"s1_xz\")\n",
    "        txt = txt.replace(\"sqrt((s1_y_r12)**2 + (s1_x_r12)**2)\", \"s1_xy\")\n",
    "        txt = txt.replace(\"sqrt((s1_z_r12)**2 + (s1_y_r12)**2)\", \"s1_yz\")\n",
    "        txt = txt.replace(\"sqrt((s1_z_r12)**2 + (s1_x_r12)**2)\", \"s1_xz\")\n",
    "        txt = txt.replace(\"sqrt((s2_x_r12)**2 + (s2_y_r12)**2 + (s2_x_r12)**2)\", \"s2_xyx\")\n",
    "        txt = txt.replace(\"sqrt((s2_x_r12)**2 + (s2_y_r12)**2)\", \"s2_xy\")\n",
    "        txt = txt.replace(\"sqrt((s2_y_r12)**2 + (s2_z_r12)**2)\", \"s2_yz\")\n",
    "        txt = txt.replace(\"sqrt((s2_x_r12)**2 + (s2_z_r12)**2)\", \"s2_xz\")\n",
    "        txt = txt.replace(\"sqrt((s2_y_r12)**2 + (s2_x_r12)**2)\", \"s2_xy\")\n",
    "        txt = txt.replace(\"sqrt((s2_z_r12)**2 + (s2_y_r12)**2)\", \"s2_yz\")\n",
    "        txt = txt.replace(\"sqrt((s2_z_r12)**2 + (s2_x_r12)**2)\", \"s2_xz\")\n",
    "        txt = txt.replace(\"sqrt((-s1_x_r12)**2 + (-s1_y_r12)**2 + (-s1_x_r12)**2)\", \"s1_xyx\")\n",
    "        txt = txt.replace(\"sqrt((-s1_x_r12)**2 + (-s1_y_r12)**2)\", \"s1_xy\")\n",
    "        txt = txt.replace(\"sqrt((-s1_y_r12)**2 + (-s1_z_r12)**2)\", \"s1_yz\")\n",
    "        txt = txt.replace(\"sqrt((-s1_x_r12)**2 + (-s1_z_r12)**2)\", \"s1_xz\")\n",
    "        txt = txt.replace(\"sqrt((-s1_y_r12)**2 + (-s1_x_r12)**2)\", \"s1_xy\")\n",
    "        txt = txt.replace(\"sqrt((-s1_z_r12)**2 + (-s1_y_r12)**2)\", \"s1_yz\")\n",
    "        txt = txt.replace(\"sqrt((-s1_z_r12)**2 + (-s1_x_r12)**2)\", \"s1_xz\")\n",
    "        txt = txt.replace(\"sqrt((-s2_x_r12)**2 + (-s2_y_r12)**2 + (s2_x_r12)**2)\", \"s2_xyx\")\n",
    "        txt = txt.replace(\"sqrt((-s2_y_r12)**2 + (-s2_x_r12)**2)\", \"s2_xy\")\n",
    "        txt = txt.replace(\"sqrt((-s2_z_r12)**2 + (-s2_y_r12)**2)\", \"s2_yz\")\n",
    "        txt = txt.replace(\"sqrt((-s2_z_r12)**2 + (-s2_x_r12)**2)\", \"s2_xz\")\n",
    "        txt = txt.replace(\"sqrt((-s2_y_r12)**2 + (-s2_z_r12)**2)\", \"s2_yz\")\n",
    "    \n",
    "        \n",
    "        txt = txt.replace(\"((s1_x_r12)**2 + (s1_y_r12)**2 + (s1_x_r12)**2)\", \"s1_xyx_2\")\n",
    "        txt = txt.replace(\"((s1_x_r12)**2 + (s1_y_r12)**2)\", \"s1_xy_2\")\n",
    "        txt = txt.replace(\"((s1_y_r12)**2 + (s1_z_r12)**2)\", \"s1_yz_2\")\n",
    "        txt = txt.replace(\"((s1_x_r12)**2 + (s1_z_r12)**2)\", \"s1_xz_2\")\n",
    "        txt = txt.replace(\"((s1_y_r12)**2 + (s1_x_r12)**2)\", \"s1_xy_2\")\n",
    "        txt = txt.replace(\"((s1_z_r12)**2 + (s1_y_r12)**2)\", \"s1_yz_2\")\n",
    "        txt = txt.replace(\"((s1_z_r12)**2 + (s1_x_r12)**2)\", \"s1_xz_2\")\n",
    "        txt = txt.replace(\"((s2_x_r12)**2 + (s2_y_r12)**2 + (s2_x_r12)**2)\", \"s2_xyx_2\")\n",
    "        txt = txt.replace(\"((s2_x_r12)**2 + (s2_y_r12)**2)\", \"s2_xy_2\")\n",
    "        txt = txt.replace(\"((s2_y_r12)**2 + (s2_z_r12)**2)\", \"s2_yz_2\")\n",
    "        txt = txt.replace(\"((s2_x_r12)**2 + (s2_z_r12)**2)\", \"s2_xz_2\")\n",
    "        txt = txt.replace(\"((s2_y_r12)**2 + (s2_x_r12)**2)\", \"s2_xy_2\")\n",
    "        txt = txt.replace(\"((s2_z_r12)**2 + (s2_y_r12)**2)\", \"s2_yz_2\")\n",
    "        txt = txt.replace(\"((s2_z_r12)**2 + (s2_x_r12)**2)\", \"s2_xz_2\")\n",
    "        txt = txt.replace(\"((-s1_x_r12)**2 + (-s1_y_r12)**2 + (-s1_x_r12)**2)\", \"s1_xyx_2\")\n",
    "        txt = txt.replace(\"((-s1_x_r12)**2 + (-s1_y_r12)**2)\", \"s1_xy_2\")\n",
    "        txt = txt.replace(\"((-s1_y_r12)**2 + (-s1_z_r12)**2)\", \"s1_yz_2\")\n",
    "        txt = txt.replace(\"((-s1_x_r12)**2 + (-s1_z_r12)**2)\", \"s1_xz_2\")\n",
    "        txt = txt.replace(\"((-s1_y_r12)**2 + (-s1_x_r12)**2)\", \"s1_xy_2\")\n",
    "        txt = txt.replace(\"((-s1_z_r12)**2 + (-s1_y_r12)**2)\", \"s1_yz_2\")\n",
    "        txt = txt.replace(\"((-s1_z_r12)**2 + (-s1_x_r12)**2)\", \"s1_xz_2\")\n",
    "        txt = txt.replace(\"((-s2_x_r12)**2 + (-s2_y_r12)**2 + (s2_x_r12)**2)\", \"s2_xyx_2\")\n",
    "        txt = txt.replace(\"((-s2_y_r12)**2 + (-s2_x_r12)**2)\", \"s2_xy_2\")\n",
    "        txt = txt.replace(\"((-s2_z_r12)**2 + (-s2_y_r12)**2)\", \"s2_yz_2\")\n",
    "        txt = txt.replace(\"((-s2_z_r12)**2 + (-s2_x_r12)**2)\", \"s2_xz_2\")\n",
    "\n",
    "        txt = txt.replace(\"-2*q1_y**2 - 2*q1_z**2 + 1\", \"q1_y_z2\")\n",
    "        txt = txt.replace(\"-2*q1_x**2 - 2*q1_z**2 + 1\", \"q1_x_z2\")\n",
    "        txt = txt.replace(\"2*q1_0*q1_z + 2*q1_x*q1_y\", \"q1_0z_xy1\")\n",
    "        txt = txt.replace(\"-2*q1_0*q1_z + 2*q1_x*q1_y\", \"q1_0z_xy2\")\n",
    "        txt = txt.replace(\"2*q1_0*q1_y + 2*q1_x*q1_z\", \"q1_0y_xz1\")\n",
    "        txt = txt.replace(\"-2*q1_0*q1_x + 2*q1_y*q1_z\", \"q1_0x_yz2\")\n",
    "        \n",
    "        txt = txt.replace(\"-2*q2_y**2 - 2*q2_z**2 + 1\", \"q2_y_z2\")\n",
    "        txt = txt.replace(\"-2*q2_x**2 - 2*q2_z**2 + 1\", \"q2_x_z2\")\n",
    "        txt = txt.replace(\"2*q2_0*q2_z + 2*q2_x*q2_y\", \"q2_0z_xy1\")\n",
    "        txt = txt.replace(\"-2*q2_0*q2_z + 2*q2_x*q2_y\", \"q2_0z_xy2\")\n",
    "        txt = txt.replace(\"2*q2_0*q2_y + 2*q2_x*q2_z\", \"q2_0y_xz1\")\n",
    "        txt = txt.replace(\"-2*q2_0*q2_x + 2*q2_y*q2_z\", \"q2_0x_yz2\")\n",
    "        \n",
    "        txt = txt.replace(\"cos(pi*(-s2_x_r12)/(2*s2_r12))\", \"c_s2_x\")\n",
    "        txt = txt.replace(\"cos(pi*(s2_x_r12)/(2*s2_r12))\", \"c_s2_x\")\n",
    "        txt = txt.replace(\"cos(pi*(-s2_y_r12)/(2*s2_r12))\", \"c_s2_y\")\n",
    "        txt = txt.replace(\"cos(pi*(s2_y_r12)/(2*s2_r12))\", \"c_s2_y\")\n",
    "        txt = txt.replace(\"cos(pi*(-s2_z_r12)/(2*s2_r12))\", \"c_s2_z\")\n",
    "        txt = txt.replace(\"cos(pi*(s2_z_r12)/(2*s2_r12))\", \"c_s2_z\")\n",
    "        txt = txt.replace(\"cos(pi*(-s1_x_r12)/(2*s1_r12))\", \"c_s1_x\")\n",
    "        txt = txt.replace(\"cos(pi*(s1_x_r12)/(2*s1_r12))\", \"c_s1_x\")\n",
    "        txt = txt.replace(\"cos(pi*(-s1_y_r12)/(2*s1_r12))\", \"c_s1_y\")\n",
    "        txt = txt.replace(\"cos(pi*(s1_y_r12)/(2*s1_r12))\", \"c_s1_y\")\n",
    "        txt = txt.replace(\"cos(pi*(-s1_z_r12)/(2*s1_r12))\", \"c_s1_z\")\n",
    "        txt = txt.replace(\"cos(pi*(s1_z_r12)/(2*s1_r12))\", \"c_s1_z\")\n",
    "\n",
    "        # Тут могут быть ещё \"сущности\"\n",
    "        txt = txt.replace(\"cos(pi*(s1_x_r12)/(2*s1_xyx))\", \"c_s1_xr12_xyx\")\n",
    "\n",
    "    # expr_ = eval(txt)\n",
    "    # txt = str(expr_.simplify())\n",
    "    txt = str(eval(txt))\n",
    "\n",
    "    if angles_navigation:\n",
    "        # После стрэвальный треш!\n",
    "        txt = txt.replace(\"-2*cwt*q1_0z_xy1 + 2*q1_y_z2*swt\", \"t001\")\n",
    "        txt = txt.replace(\"2*cwt*q1_0z_xy1 - 2*q1_y_z2*swt\", \"-t001\")\n",
    "        txt = txt.replace(\"2*cwt*q1_x_z2 + 2*q1_0z_xy1*swt\", \"t002\")\n",
    "        txt = txt.replace(\"-2*cwt*q1_x_z2 - 2*q1_0z_xy1*swt\", \"-t002\")\n",
    "        txt = txt.replace(\"2*cwt*s1_22 + 2*q1_0y_xz1*swt\", \"t003\")\n",
    "        txt = txt.replace(\"-2*cwt*s1_22 - 2*q1_0y_xz1*swt\", \"t003\")\n",
    "        txt = txt.replace(\"-2*cwt*q2_0z_xy1 + 2*q2_y_z2*swt\", \"t004\")\n",
    "        txt = txt.replace(\"2*cwt*q2_0z_xy1 - 2*q2_y_z2*swt\", \"-t004\")\n",
    "        txt = txt.replace(\"2*cwt*q2_x_z2 + 2*q2_0z_xy1*swt\", \"t005\")\n",
    "        txt = txt.replace(\"-2*cwt*q2_x_z2 - 2*q2_0z_xy1*swt\", \"-t005\")\n",
    "        txt = txt.replace(\"2*cwt*s2_22 + 2*q2_0y_xz1*swt\", \"t006\")\n",
    "        txt = txt.replace(\"-2*cwt*s2_22 - 2*q2_0y_xz1*swt\", \"t006\")\n",
    "\n",
    "        txt = txt.replace(\"sqrt(q1_x**2 + q1_y**2 + q1_z**2)\", \"1 - q1_0\")\n",
    "        txt = txt.replace(\"sqrt(q2_x**2 + q2_y**2 + q2_z**2)\", \"1 - q2_0\")\n",
    "    \n",
    "    return txt"
   ]
  },
  {
   "cell_type": "markdown",
   "id": "36d7bbf2-2572-454a-87b1-0b39eca1ebf8",
   "metadata": {},
   "source": [
    "###### Генерация файла `H_matrix`"
   ]
  },
  {
   "cell_type": "code",
   "execution_count": 19,
   "id": "be7f3ddd-2b12-4960-a7ea-7212aaa8e463",
   "metadata": {
    "scrolled": true
   },
   "outputs": [
    {
     "name": "stdout",
     "output_type": "stream",
     "text": [
      "Матрица частных производных H | КА-1:x, КА-2:x | ang:False | send:False, take:False | glen=2=2\n",
      "Матрица частных производных H | КА-1:x, КА-2:x | ang:False | send:False, take:True | glen=2=2\n",
      "Матрица частных производных H | КА-1:x, КА-2:x | ang:False | send:True, take:False | glen=2=2\n",
      "Матрица частных производных H | КА-1:x, КА-2:x | ang:False | send:True, take:True | glen=2=2\n",
      "Матрица частных производных H | КА-1:x, КА-2:xy | ang:False | send:False, take:False | glen=2=2\n",
      "Матрица частных производных H | КА-1:x, КА-2:xy | ang:False | send:False, take:True | glen=3=3\n",
      "Матрица частных производных H | КА-1:x, КА-2:xy | ang:False | send:True, take:False | glen=3=3\n",
      "Матрица частных производных H | КА-1:x, КА-2:xy | ang:False | send:True, take:True | glen=4=4\n",
      "Матрица частных производных H | КА-1:xy, КА-2:x | ang:False | send:False, take:False | glen=2=2\n",
      "Матрица частных производных H | КА-1:xy, КА-2:x | ang:False | send:False, take:True | glen=3=3\n",
      "Матрица частных производных H | КА-1:xy, КА-2:x | ang:False | send:True, take:False | glen=3=3\n",
      "Матрица частных производных H | КА-1:xy, КА-2:x | ang:False | send:True, take:True | glen=4=4\n",
      "Матрица частных производных H | КА-1:xy, КА-2:xy | ang:False | send:False, take:False | glen=2=2\n",
      "Матрица частных производных H | КА-1:xy, КА-2:xy | ang:False | send:False, take:True | glen=4=4\n",
      "Матрица частных производных H | КА-1:xy, КА-2:xy | ang:False | send:True, take:False | glen=4=4\n",
      "Матрица частных производных H | КА-1:xy, КА-2:xy | ang:False | send:True, take:True | glen=8=8\n",
      "Матрица частных производных H | КА-1:x, КА-2:x | ang:True | send:False, take:False | glen=2=2\n",
      "Матрица частных производных H | КА-1:x, КА-2:x | ang:True | send:False, take:True | glen=2=2\n",
      "Матрица частных производных H | КА-1:x, КА-2:x | ang:True | send:True, take:False | glen=2=2\n",
      "Матрица частных производных H | КА-1:x, КА-2:x | ang:True | send:True, take:True | glen=2=2\n",
      "Матрица частных производных H | КА-1:x, КА-2:xy | ang:True | send:False, take:False | glen=2=2\n",
      "Матрица частных производных H | КА-1:x, КА-2:xy | ang:True | send:False, take:True | glen=3=3\n",
      "Матрица частных производных H | КА-1:x, КА-2:xy | ang:True | send:True, take:False | glen=3=3\n",
      "Матрица частных производных H | КА-1:x, КА-2:xy | ang:True | send:True, take:True | glen=4=4\n",
      "Матрица частных производных H | КА-1:xy, КА-2:x | ang:True | send:False, take:False | glen=2=2\n",
      "Матрица частных производных H | КА-1:xy, КА-2:x | ang:True | send:False, take:True | glen=3=3\n",
      "Матрица частных производных H | КА-1:xy, КА-2:x | ang:True | send:True, take:False | glen=3=3\n",
      "Матрица частных производных H | КА-1:xy, КА-2:x | ang:True | send:True, take:True | glen=4=4\n",
      "Матрица частных производных H | КА-1:xy, КА-2:xy | ang:True | send:False, take:False | glen=2=2\n",
      "Матрица частных производных H | КА-1:xy, КА-2:xy | ang:True | send:False, take:True | glen=4=4\n",
      "Матрица частных производных H | КА-1:xy, КА-2:xy | ang:True | send:True, take:False | glen=4=4\n",
      "Матрица частных производных H | КА-1:xy, КА-2:xy | ang:True | send:True, take:True | glen=8=8\n"
     ]
    }
   ],
   "source": [
    "f = open('storage/H_matrix.py', 'w')\n",
    "\n",
    "# cf {i_c} {i_f} {jj} {ii} {send_len} {take_len}\n",
    "\n",
    "# >>>>>>>>>>>> Элемент матрицы H <<<<<<<<<<<<\n",
    "with open('storage/docking_H_element_matrix.py', 'r') as s:\n",
    "    f.write(s.read())\n",
    "\n",
    "for angles_navigation in [False, True]:\n",
    "    for i_all, dirs_1 in enumerate('xy'):  # 3 !!!!!!!!!!!!!!!!!!!!!!!!!!!!!!!!!!!!!!\n",
    "        for j_all, dirs_2 in enumerate('xy'):  # 3 !!!!!!!!!!!!!!!!!!!!!!!!!!!!!!!!!!!!!!\n",
    "            G1 = [local_dipole(r1_brf, a) for a in dirs_1]\n",
    "            G2 = [local_dipole(r2_brf, a) for a in dirs_2]\n",
    "\n",
    "            for multy_antenna_send in [False, True]:\n",
    "                for multy_antenna_take in [False, True]:\n",
    "                    # Case 1\n",
    "                    if not multy_antenna_send and not multy_antenna_take:  \n",
    "                        G12 = [sum(G1)*sum(G2)]*2  # ПРОВЕРИТЬ: модель суммы сигналов\n",
    "                        glen = 2\n",
    "                    # Case 2\n",
    "                    if multy_antenna_send and not multy_antenna_take:  \n",
    "                        G12 = flatten([g_1*sum(G2) for g_1 in G1] + [sum(G1)*g_2 for g_2 in G2])\n",
    "                        glen = (i_all+1) + (j_all+1)\n",
    "                    # Case 3\n",
    "                    if not multy_antenna_send and multy_antenna_take:  \n",
    "                        G12 = flatten([g_1*sum(G2) for g_1 in G1] + [sum(G1)*g_2 for g_2 in G2])\n",
    "                        glen = (i_all+1) + (j_all+1)\n",
    "                    # Case 4\n",
    "                    if multy_antenna_send and multy_antenna_take:  \n",
    "                        G12 = flatten([flatten([[g_1*g_2]*2 for g_1 in G1]) for g_2 in G2])\n",
    "                        glen = 2 * (i_all+1) * (j_all+1)\n",
    "\n",
    "                    if angles_navigation:\n",
    "                        z = [kf.sympy_norm(r1 - r2) / sqrt(G12[ii]) for ii in range(glen)]  # Измерения\n",
    "                    else:\n",
    "                        z = [kf.sympy_norm(r1 - r2) for ii in range(glen)]  # Измерения\n",
    "                        \n",
    "                    print(f\"Матрица частных производных H | КА-1:{dirs_1}, КА-2:{dirs_2} | ang:{angles_navigation} | send:{multy_antenna_send}, take:{multy_antenna_take} | glen={glen}={len(G12)}\")\n",
    "                    \n",
    "                    for relation in [\"cf\", \"ff\"]:\n",
    "                        txt = f\"    if (angles_navigation=={angles_navigation}) and (i_all=={i_all+1}) and (j_all=={j_all+1}) \"\n",
    "                        txt += f\"and (multy_antenna_send=={multy_antenna_send}) and (multy_antenna_take=={multy_antenna_take}) \" \n",
    "                        txt += f\"and (relation=='{relation}'):\\n\"\n",
    "                        txt += f\"        return np.array([\\n\"\n",
    "                        if angles_navigation:\n",
    "                            for row in range(glen):\n",
    "                                if relation == \"cf\":\n",
    "                                    cnd = f\"*int(i_n==j)*int(i_x==j)\"\n",
    "                                    txt += f\"{' '*23}[\"\n",
    "                                    for ii in range(3):\n",
    "                                        txt += f\"({my_simplify(z[row].diff(r2[ii]), angles_navigation)}){cnd}, \"\n",
    "                                    for ii in range(3):\n",
    "                                        txt += f\"({my_simplify(z[row].diff(q2[ii]), angles_navigation)}){cnd}, \"\n",
    "                                    txt += f\"] + 6*[0],\\n\"\n",
    "                                else:\n",
    "                                    cnd1 = \"*int(ff_sequence[i_y][0]==i_x)\" # f\"*int(i_n==i)*int(i_x==j)*int(ff_sequence[i_y][0]==i_x)\"\n",
    "                                    cnd2 = \"*int(ff_sequence[i_y][1]==i_x)\" # f\"*int(i_n==j)*int(i_x==j)*int(ff_sequence[i_y][1]==i_x)\"\n",
    "                                    txt += f\"{' '*23}[\"\n",
    "                                    for ii in range(3):\n",
    "                                        txt += f\"({my_simplify(z[row].diff(r1[ii]), angles_navigation)}){cnd1}+({my_simplify(z[row].diff(r2[ii]), angles_navigation)}){cnd2}, \"\n",
    "                                    for ii in range(3):\n",
    "                                        txt += f\"({my_simplify(z[row].diff(q1[ii]), angles_navigation)}){cnd1}+({my_simplify(z[row].diff(q2[ii]), angles_navigation)}){cnd2}, \"\n",
    "                                    txt += f\"] + 6*[0],\\n\"\n",
    "                        else:\n",
    "                            for row in range(glen):\n",
    "                                if relation == \"cf\":\n",
    "                                    cnd = f\"*int(i_n==j)*int(i_x==j)\"\n",
    "                                    txt += f\"{' '*23}[\"\n",
    "                                    for ii in range(3):\n",
    "                                        txt += f\"({my_simplify(z[row].diff(r2[ii]), angles_navigation)}){cnd}, \"\n",
    "                                    txt += f\"] + 3*[0],\\n\"\n",
    "                                else:\n",
    "                                    cnd1 = \"*int(ff_sequence[i_y][0]==i_x)\" # f\"*int(i_n==i)*int(i_x==j)*int(ff_sequence[i_y][0]==i_x)\"\n",
    "                                    cnd2 = \"*int(ff_sequence[i_y][1]==i_x)\" # f\"*int(i_n==j)*int(i_x==j)*int(ff_sequence[i_y][1]==i_x)\"\n",
    "                                    txt += f\"{' '*23}[\"\n",
    "                                    for ii in range(3):\n",
    "                                        txt += f\"({my_simplify(z[row].diff(r1[ii]), angles_navigation)}){cnd1}+({my_simplify(z[row].diff(r2[ii]), angles_navigation)}){cnd2}, \"\n",
    "                                    txt += f\"] + 3*[0],\\n\"\n",
    "                        \n",
    "                        f.write(txt + f\"{' '*23}])\\n\\n\")\n",
    "\n",
    "# >>>>>>>>>>>> Полная матрица частных производных H <<<<<<<<<<<<\n",
    "txt = f\"\\ndef h_matrix(c_ant, f_ant, fn, cn, angles_navigation, r_f, r_c, multy_antenna_send: bool, multy_antenna_take: bool, w_0, t, q_f: list | None, q_c: list | None, return_template: bool = False) -> np.ndarray:\\n\"\n",
    "txt += f\"    '''Возвращает матрицу частных производных Н.\\n\"\n",
    "txt += f\"    :param c_ant: Количество антенн у кубсата\\n\"\n",
    "txt += f\"    :param f_ant: Количество антенн у чипсата\\n\"\n",
    "txt += f\"    :param fn: Количество чипсатов\\n\"\n",
    "txt += f\"    :param cn: Количество кубсатов\\n\"\n",
    "txt += f\"    :param angles_navigation: Оценивается ли вращательное движение\\n\"\n",
    "txt += f\"    :param r_f: Положения чипсатов\\n\"\n",
    "txt += f\"    :param r_c: Положения кубсатов\\n\"\n",
    "txt += f\"    :param multy_antenna_send: Раскладывается ли сигнал при отправке\\n\"\n",
    "txt += f\"    :param multy_antenna_take: Раскладывается ли сигнал при принятии\\n\"\n",
    "txt += f\"    :param w_0: Угловая скорость вращения ОСК\\n\"\n",
    "txt += f\"    :param t: Текущее время\\n\"\n",
    "txt += f\"    :param q_f: Вектор-часть кватернионов чипсатов (опционально)\\n\"\n",
    "txt += f\"    :param q_c: Вектор-часть кватернионов кубсатов (опционально)\\n\"\n",
    "txt += f\"    :return: Матрица частных производных H. Отображение состояния в измерения\\n\"\n",
    "txt += f\"    '''\\n\" \n",
    "txt += f\"    from sympy import var\\n\\n\"\n",
    "\n",
    "txt += f\"    ff_sequence = []  # Последовательность номеров непустых столбцов, длина ff_sequence - кол-во строк нижней подматицы\\n\"\n",
    "txt += f\"    for i_f1 in range(fn):\\n\"\n",
    "txt += f\"        for i_f2 in range(i_f1):\\n\"\n",
    "txt += f\"            if i_f1 != i_f2:\\n\"\n",
    "txt += f\"                ff_sequence += [[i_f1, i_f2]]\\n\"\n",
    "txt += f\"    cf_matrix = np.array([])\\n\"\n",
    "txt += f\"    ff_matrix = np.array([])\\n\"\n",
    "txt += f\"    for relation in ['cf', 'ff']:\\n\"\n",
    "txt += f\"        tmp_rows = None\\n\"\n",
    "# txt += f\"        height = 2*c_ant*f_ant*fn*cn if relation=='cf' else f_ant**2*fn*(fn-1)\\n\"  # Что тут не так? \n",
    "txt += f\"        height = cn if relation=='cf' else int(fn*(fn-1)/2)\\n\"  # Что тут не так?\n",
    "txt += f\"        for i_y in range(height):\\n\" \n",
    "txt += f\"            tmp_row = []\\n\"   \n",
    "txt += f\"            for i_x in range(fn):\\n\"\n",
    "txt += f\"                tmp_row_col = []\\n\"\n",
    "txt += f\"                for i_f in range(fn if relation=='cf' else 1):\\n\" # ВОТ ТУТ ТО СВИНЬЯ И ЗАРЫТА ДАААААААААААААААААААААААААААААААА \n",
    "txt += f\"                    if relation == 'cf':\\n\"\n",
    "txt += f\"                        i_1 = i_y\\n\"   \n",
    "txt += f\"                        i_2 = i_f\\n\"   \n",
    "txt += f\"                    else:\\n\"\n",
    "txt += f\"                        i_1 = ff_sequence[i_y][0]\\n\"   \n",
    "txt += f\"                        i_2 = ff_sequence[i_y][1]\\n\"  \n",
    "# txt += \"                    print(f'{relation} | i={i_1}, j={i_2}, i_n={i_f}, i_x={i_x}, seq: {ff_sequence[i_y]}')\\n\"\n",
    "\n",
    "                        \n",
    "                    \n",
    "txt += f\"                    if return_template:\\n\"\n",
    "txt += f\"                        tmp_row_col += [var(relation + '_' + str(i_1) + '^' + str(i_2))]\\n\"\n",
    "txt += f\"                    else:\\n\"\n",
    "txt += f\"                        tmp_row_col += [h_element(i_x=i_x, i_y=i_y, i_n=i_f, i=i_1, j=i_2, \"\n",
    "txt += f\"i_all=c_ant if relation=='cf' else f_ant, j_all=f_ant, fn=fn, cn=cn, relation=relation, angles_navigation=angles_navigation, \"\n",
    "txt += f\"r_f=r_f, r1=r_c[i_1] if relation=='cf' else r_f[i_1], r2=r_f[i_2], \"\n",
    "txt += f\"q_f=q_f, q1=q_c[i_1] if relation=='cf' else q_f[i_1], q2=q_f[i_2], \"\n",
    "txt += f\"multy_antenna_send=multy_antenna_send, multy_antenna_take=multy_antenna_take, w_0=w_0, t=t)]\\n\"\n",
    "txt += f\"                    \\n\"\n",
    "txt += f\"                tmp_row += [np.vstack(tmp_row_col)]\\n\"\n",
    "txt += f\"            \\n\"\n",
    "txt += f\"            tmp_row = np.bmat(tmp_row)\\n\"\n",
    "txt += f\"            tmp_rows = tmp_row if tmp_rows is None else np.vstack([tmp_rows, tmp_row])\\n\"\n",
    "txt += f\"        \\n\"\n",
    "txt += f\"        if relation == 'cf':\\n\"\n",
    "txt += f\"            cf_matrix = tmp_rows\\n\"\n",
    "txt += f\"        else:\\n\"\n",
    "txt += f\"            ff_matrix = tmp_rows\\n\"\n",
    "txt += f\"    \\n\"\n",
    "txt += f\"    # print('Верхняя подматрица: ' + str(cf_matrix.shape))\\n\"\n",
    "txt += f\"    if ff_matrix is not None:\\n\"\n",
    "txt += f\"        # print('Нижняя подматрица: ' + str(ff_matrix.shape))\\n\"\n",
    "txt += f\"        return np.vstack([cf_matrix, ff_matrix]), cf_matrix, ff_matrix\\n\"\n",
    "txt += f\"    return cf_matrix, cf_matrix, None\\n\"\n",
    "f.write(txt)\n",
    "\n",
    "f.close()\n",
    "# talk()"
   ]
  },
  {
   "cell_type": "code",
   "execution_count": 14,
   "id": "12b16a49-587e-4d85-94e3-b789647fc325",
   "metadata": {},
   "outputs": [
    {
     "data": {
      "text/plain": [
       "[[0, 1], [0, 2], [1, 0], [1, 2], [2, 0], [2, 1]]"
      ]
     },
     "execution_count": 14,
     "metadata": {},
     "output_type": "execute_result"
    }
   ],
   "source": [
    "fn = 3\n",
    "ff_sequence = []\n",
    "for i_f1 in range(fn):\n",
    "        for i_f2 in range(fn):\n",
    "            if i_f1 != i_f2:\n",
    "                ff_sequence += [[i_f1, i_f2]]\n",
    "ff_sequence"
   ]
  },
  {
   "cell_type": "markdown",
   "id": "76ce4d42-fdb7-4212-b357-73ce9234abfb",
   "metadata": {
    "jp-MarkdownHeadingCollapsed": true
   },
   "source": [
    "### <span style=\"color:#0ab49a\">Исследование</span> <span style=\"color:#A254FC\">режимов вращения</span> "
   ]
  },
  {
   "cell_type": "code",
   "execution_count": null,
   "id": "27e0b2bc-7f9a-4f63-bfd9-6652e958e9b4",
   "metadata": {},
   "outputs": [],
   "source": [
    "import matplotlib.pyplot as plt\n",
    "import numpy as np"
   ]
  },
  {
   "cell_type": "code",
   "execution_count": 83,
   "id": "0f002d28",
   "metadata": {},
   "outputs": [
    {
     "data": {
      "text/plain": [
       "4.514455893826088e-11"
      ]
     },
     "execution_count": 83,
     "metadata": {},
     "output_type": "execute_result"
    }
   ],
   "source": [
    "Cf = 1\n",
    "m = 0.03\n",
    "a = 0.1\n",
    "b = 0.1\n",
    "\n",
    "rho =  5.21e-13\n",
    "S = a*b\n",
    "M = 5.972e24\n",
    "G = 6.6743e-11\n",
    "mu = M * G\n",
    "v_orb = np.sqrt(mu / 6900e3)\n",
    "c = Cf * rho * v_orb**2 * S / 6 * m * (a**2 + a*b + b**2)\n",
    "c"
   ]
  },
  {
   "cell_type": "code",
   "execution_count": 91,
   "id": "868a8bf5",
   "metadata": {},
   "outputs": [
    {
     "data": {
      "image/png": "[encoded data removed]",
      "text/plain": [
       "<Figure size 432x288 with 1 Axes>"
      ]
     },
     "metadata": {
      "needs_background": "light"
     },
     "output_type": "display_data"
    }
   ],
   "source": [
    "# p = phi\n",
    "dt = 10.\n",
    "T = 1e6\n",
    "days = True\n",
    "\n",
    "def func(p: float, w: float, c: float, dt: float):\n",
    "    return p + w * dt, w - dt * c * np.sin(p)\n",
    "\n",
    "def integrate(c: float, dt: float = 1., T: float = 1000):\n",
    "    w_list = [0.]\n",
    "    p_list = [3.1415/2]\n",
    "    t_list = [0.]\n",
    "    for i in range(int(round(T / dt))):\n",
    "        tmp = func(p_list[i], w_list[i], c, dt)\n",
    "        t_list += [(i+1)*dt]\n",
    "        p_list += [tmp[0]]\n",
    "        w_list += [tmp[1]]\n",
    "    return t_list, p_list\n",
    "\n",
    "t, p = integrate(c=c, dt=dt, T=T)\n",
    "t = [i/(3600*24) for i in t] if days else t\n",
    "plt.plot(t, np.array(p), c='navy', label=f\"c={c}\")  # /(np.pi/2)\n",
    "plt.plot(t, [np.pi/2 for _ in range(len(t))], c='violet')\n",
    "plt.plot(t,[-np.pi/2 for _ in range(len(t))], c='violet')\n",
    "plt.legend()\n",
    "plt.xlabel(\"days\" if days else \"time t, s\")\n",
    "plt.ylabel(\"angle φ, rad\")\n",
    "# plt.ylim([-np.pi/2, np.pi/2])\n",
    "plt.show()"
   ]
  },
  {
   "cell_type": "markdown",
   "id": "4b1c59ab",
   "metadata": {
    "jp-MarkdownHeadingCollapsed": true
   },
   "source": [
    "### <span style=\"color:#0ab49a\">Движение со</span> <span style=\"color:#A254FC\">смещённым центром масс</span> "
   ]
  },
  {
   "cell_type": "code",
   "execution_count": 1,
   "id": "82e509e3",
   "metadata": {},
   "outputs": [],
   "source": [
    "from sympy import *"
   ]
  },
  {
   "cell_type": "code",
   "execution_count": 46,
   "id": "0c822473",
   "metadata": {},
   "outputs": [],
   "source": [
    "a, b, ex, ey = var('a b e_x e_y', real=True, constant=True)  # Стороны ЧипСата, отклонения цетра масс\n",
    "m, f, v = var('m f v', real=True, constant=True)\n",
    "t = var('t', real=True, constant=False)\n",
    "n_x = Function(\"n_x\")(t)\n",
    "n_y = Function(\"n_y\")(t)\n",
    "n_z = Function(\"n_z\")(t)\n",
    "w_x = Function(\"w_x\")(t)\n",
    "w_y = Function(\"w_y\")(t)\n",
    "w_z = Function(\"w_z\")(t)\n",
    "x0 = -a + ex\n",
    "x1 = a + ex\n",
    "y0 = -b + ey\n",
    "y1 = b + ey\n",
    "Ix = m/3 * (x1 - x0) * (y1**3 - y0**3)\n",
    "Iy = m/3 * (y1 - y0) * (x0**3 - x1**3)\n",
    "Iz = Ix + Iy  # верно для пластины\n",
    "eq_n_x = Eq(n_x.diff(t), w_y*n_z - w_z*n_y)\n",
    "eq_n_y = Eq(n_y.diff(t), w_z*n_x - w_x*n_z)\n",
    "eq_n_z = Eq(n_z.diff(t), w_x*n_y - w_y*n_x)\n",
    "eq_x = Eq(f*n_x*v*(x1-x0)*(y1**2-y0**2), Ix * w_x.diff(t) + (Iz - Iy)*w_y*w_z)\n",
    "eq_y = Eq(f*n_x*v*(y1-y0)*(x0**2-x1**2), Iy * w_y.diff(t) + (Ix - Iz)*w_x*w_z)\n",
    "eq_z = Eq(0, Iz * w_z.diff(t) + (Iy - Ix)*w_x*w_y)"
   ]
  },
  {
   "cell_type": "code",
   "execution_count": 17,
   "id": "c63ed902",
   "metadata": {
    "collapsed": true,
    "jupyter": {
     "outputs_hidden": true
    }
   },
   "outputs": [
    {
     "ename": "NotImplementedError",
     "evalue": "",
     "output_type": "error",
     "traceback": [
      "\u001b[0;31m---------------------------------------------------------------------------\u001b[0m",
      "\u001b[0;31mNotImplementedError\u001b[0m                       Traceback (most recent call last)",
      "\u001b[0;32m<ipython-input-17-61361af40bff>\u001b[0m in \u001b[0;36m<module>\u001b[0;34m\u001b[0m\n\u001b[0;32m----> 1\u001b[0;31m \u001b[0manw\u001b[0m \u001b[0;34m=\u001b[0m \u001b[0mdsolve\u001b[0m\u001b[0;34m(\u001b[0m\u001b[0;34m{\u001b[0m\u001b[0meq_n_x\u001b[0m\u001b[0;34m,\u001b[0m \u001b[0meq_n_y\u001b[0m\u001b[0;34m,\u001b[0m \u001b[0meq_n_z\u001b[0m\u001b[0;34m,\u001b[0m \u001b[0meq_x\u001b[0m\u001b[0;34m,\u001b[0m \u001b[0meq_y\u001b[0m\u001b[0;34m,\u001b[0m \u001b[0meq_z\u001b[0m\u001b[0;34m}\u001b[0m\u001b[0;34m)\u001b[0m\u001b[0;34m\u001b[0m\u001b[0;34m\u001b[0m\u001b[0m\n\u001b[0m",
      "\u001b[0;32m~/.local/lib/python3.6/site-packages/sympy/solvers/ode/ode.py\u001b[0m in \u001b[0;36mdsolve\u001b[0;34m(eq, func, hint, simplify, ics, xi, eta, x0, n, **kwargs)\u001b[0m\n\u001b[1;32m    586\u001b[0m             \"number of functions being equal to number of equations\")\n\u001b[1;32m    587\u001b[0m         \u001b[0;32mif\u001b[0m \u001b[0mmatch\u001b[0m\u001b[0;34m[\u001b[0m\u001b[0;34m'type_of_equation'\u001b[0m\u001b[0;34m]\u001b[0m \u001b[0;32mis\u001b[0m \u001b[0;32mNone\u001b[0m\u001b[0;34m:\u001b[0m\u001b[0;34m\u001b[0m\u001b[0;34m\u001b[0m\u001b[0m\n\u001b[0;32m--> 588\u001b[0;31m             \u001b[0;32mraise\u001b[0m \u001b[0mNotImplementedError\u001b[0m\u001b[0;34m\u001b[0m\u001b[0;34m\u001b[0m\u001b[0m\n\u001b[0m\u001b[1;32m    589\u001b[0m         \u001b[0;32melse\u001b[0m\u001b[0;34m:\u001b[0m\u001b[0;34m\u001b[0m\u001b[0;34m\u001b[0m\u001b[0m\n\u001b[1;32m    590\u001b[0m             \u001b[0;32mif\u001b[0m \u001b[0mmatch\u001b[0m\u001b[0;34m[\u001b[0m\u001b[0;34m'is_linear'\u001b[0m\u001b[0;34m]\u001b[0m \u001b[0;34m==\u001b[0m \u001b[0;32mTrue\u001b[0m\u001b[0;34m:\u001b[0m\u001b[0;34m\u001b[0m\u001b[0;34m\u001b[0m\u001b[0m\n",
      "\u001b[0;31mNotImplementedError\u001b[0m: "
     ]
    }
   ],
   "source": [
    "anw = dsolve({eq_n_x, eq_n_y, eq_n_z, eq_x, eq_y, eq_z})"
   ]
  },
  {
   "cell_type": "markdown",
   "id": "178ac739-7167-4e24-a077-ba01ae1cf10e",
   "metadata": {},
   "source": [
    "### <span style=\"color:#0ab49a\">Свистни</span> <span style=\"color:#A254FC\">когда доделаешь</span> "
   ]
  },
  {
   "cell_type": "code",
   "execution_count": 15,
   "id": "d54b2c85-7773-40b8-b2bb-adc40db791db",
   "metadata": {},
   "outputs": [
    {
     "name": "stdout",
     "output_type": "stream",
     "text": [
      "\u001b[96mДумаешь, я не знал, что ты придёшь? \n"
     ]
    }
   ],
   "source": [
    "talk()"
   ]
  }
 ],
 "metadata": {
  "kernelspec": {
   "display_name": "Python 3 (ipykernel)",
   "language": "python",
   "name": "python3"
  },
  "language_info": {
   "codemirror_mode": {
    "name": "ipython",
    "version": 3
   },
   "file_extension": ".py",
   "mimetype": "text/x-python",
   "name": "python",
   "nbconvert_exporter": "python",
   "pygments_lexer": "ipython3",
   "version": "3.10.12"
  }
 },
 "nbformat": 4,
 "nbformat_minor": 5
}
