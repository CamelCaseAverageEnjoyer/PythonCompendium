{
 "cells": [
  {
   "cell_type": "markdown",
   "id": "0222fe4e-2213-435c-b33e-6afbc4783554",
   "metadata": {},
   "source": [
    "# <span style=\"color:#91299A\">Основа аспирантской диссертации - проблема наблюдаемости системы</span> "
   ]
  },
  {
   "cell_type": "markdown",
   "id": "af80236e-9cce-4c88-b3ca-68225373eda8",
   "metadata": {},
   "source": [
    "![](../storage/banners/7.jpg)"
   ]
  },
  {
   "cell_type": "markdown",
   "id": "fa32b67b-5e46-4431-a6f7-f11c50f0199d",
   "metadata": {},
   "source": [
    "### <span style=\"color:#0ab49a\">Согласно статье</span> <span style=\"color:#A254FC\">038 (Shauying R.K.) Observability of Nonlinear Systems</span> "
   ]
  },
  {
   "cell_type": "markdown",
   "id": "da7fe0ed-5aa5-49e7-b661-5bfde30733a2",
   "metadata": {},
   "source": [
    "#### <span style=\"color:#2c3e50\">Начало</span> "
   ]
  },
  {
   "cell_type": "code",
   "execution_count": 118,
   "id": "e83aa4df-5722-4bc6-93d5-0322a210870d",
   "metadata": {},
   "outputs": [
    {
     "name": "stdout",
     "output_type": "stream",
     "text": [
      "Высота орбиты: 379 км\n",
      "Период орбиты: 1.53 часов\n",
      "Плотность атмосферы: 1.1617593224677154e-11 кг/м³\n"
     ]
    }
   ],
   "source": [
    "from sympy import *\n",
    "import numpy as np\n",
    "\n",
    "Radius_orbit=6750000.\n",
    "RadiusEarth = 6371000.\n",
    "mu=398576057600000.06\n",
    "h_orb = Radius_orbit - RadiusEarth\n",
    "ω_orb = np.sqrt(mu / (Radius_orbit ** 3))\n",
    "v_orb = ω_orb * Radius_orbit\n",
    "\n",
    "t = -131.21 + 0.00299 * h_orb\n",
    "p = 2.488 * ((t + 273.1) / 216.6) ** -11.388\n",
    "ρ = p / (0.2869 * (t + 273.1))\n",
    "\n",
    "print(f\"Высота орбиты: {int(h_orb // 1e3)} км\\nПериод орбиты: {round((2*np.pi/ω_orb) / 3600, 2)} часов\\nПлотность атмосферы: {ρ} кг/м³\")"
   ]
  },
  {
   "cell_type": "markdown",
   "id": "e23f1582-78ea-4667-96f7-a845736c1c4d",
   "metadata": {},
   "source": [
    "#### <span style=\"color:#2c3e50\">Алгоритм</span>\n",
    "\n",
    "<span style=\"color:#2b817d\">Примечание:</span>     $km \\geq n$"
   ]
  },
  {
   "cell_type": "code",
   "execution_count": null,
   "id": "9a09675b-63b6-4752-966f-037b5e8d7152",
   "metadata": {},
   "outputs": [],
   "source": [
    "# Функции вспомогательные\n",
    "def quat2matrix(q) -> Matrix:\n",
    "    \"\"\"Преобразует единичный кватернион в матрицу поворота\n",
    "    :param q: Кватернион, list длинны 4\n",
    "    :return: Матрица поворота, sympy.Matrix\"\"\"\n",
    "    return Matrix([[1 - 2*q[2]**2 - 2*q[3]**2, 2*q[1]*q[2] + 2*q[3]*q[0], 2*q[1]*q[3] - 2*q[2]*q[0]],\n",
    "                   [2*q[1]*q[2] - 2*q[3]*q[0], 1 - 2*q[1]**2 - 2*q[3]**2, 2*q[1]*q[3] + 2*q[1]*q[0]],\n",
    "                   [2*q[1]*q[3] + 2*q[2]*q[0], 2*q[2]*q[3] - 2*q[1]*q[0], 1 - 2*q[1]**2 - 2*q[2]**2]])\n",
    "\n",
    "def local_dipol(r: list, r_abs, ind: str, q: list):\n",
    "    \"\"\"Функция возвращает усиление антенны полуволногого диполя\n",
    "    :param r: направление на аппарат в орбитальной системе координат (ОСК)\n",
    "    :param r_abs: модуль вектора r (для таких лентяев как йа)\n",
    "    :param ind: ось x/y/z, по которой направлена антенна в собственной системе координат (ССК)\"\"\"\n",
    "    r_ = quat2matrix(q) @ Matrix(r)\n",
    "    cos_a = r_[0]*int(ind=='x') + r_[1]*int(ind=='y') + r_[2]*int(ind=='z')\n",
    "    sin_a = sqrt(r_[1]**2 + r_[2]**2)*int(ind=='x') + \\\n",
    "            sqrt(r_[0]**2 + r_[2]**2)*int(ind=='y') + \\\n",
    "            sqrt(r_[0]**2 + r_[1]**2)*int(ind=='z')\n",
    "    return cos(cos_a * pi / 2) / sin_a / r_abs\n",
    "\n",
    "def get_vars(name: str, n: int):\n",
    "    s = \"\"\n",
    "    for i in range(n):\n",
    "        s += f\"{name}_{i} \"\n",
    "    return var(s, real=True)\n",
    "\n",
    "def get_func(name: str, n: int):\n",
    "    return [Function(f\"{name}_{i}\")(t) for i in range(n)]\n",
    "\n",
    "def get_params(n: int):\n",
    "    t, ω = var(\"t ω\", real=True)\n",
    "    x = get_func(f\"x\", n)\n",
    "    y = get_func(f\"y\", n)\n",
    "    z = get_func(f\"z\", n)\n",
    "    vx = get_func(f\"v^x\", n)\n",
    "    vy = get_func(f\"v^y\", n)\n",
    "    vz = get_func(f\"v^z\", n)\n",
    "    wx = get_func(f\"w^x\", n)\n",
    "    wy = get_func(f\"w^y\", n)\n",
    "    wz = get_func(f\"w^z\", n)\n",
    "    q0 = get_func(f\"q^0\", n)\n",
    "    qx = get_func(f\"q^x\", n)\n",
    "    qy = get_func(f\"q^y\", n)\n",
    "    qz = get_func(f\"q^z\", n)\n",
    "    return t, ω, x, y, z, vx, vy, vz, wx, wy, wz, q0, qx, qy, qz\n",
    "\n",
    "def save_reports(report_list: list, filename: str) -> None:\n",
    "    common_report = report_list[0]\n",
    "    for i in range(len(report_list) - 1):\n",
    "        common_report += (\"\\n\" + \"-\" * 100)*2 + \"\\n\" + report_list[i + 1]\n",
    "    f = open(\"observability_reoprt_\" + filename + \".txt\", \"w\")\n",
    "    f.write(common_report)\n",
    "    f.close()\n",
    "\n",
    "def read_reports(filename: str) -> str:\n",
    "    f = open(\"observability_reoprt_\" + filename + \".txt\", \"r\")\n",
    "    common_report = f.read()\n",
    "    f.close()\n",
    "    return common_report"
   ]
  },
  {
   "cell_type": "code",
   "execution_count": 121,
   "id": "11fdce1f-4599-4452-adc8-d642bb22af64",
   "metadata": {},
   "outputs": [],
   "source": [
    "def ShauyingObservabilitySufficientCondition(n: int, X_: list, r: list, Y_: list, my_diff, testprint: bool = False):\n",
    "    report = f\"\\033[1mКоличество чипсатов: {n}\\033[0m\\n\"\n",
    "    print(report)\n",
    "\n",
    "    # Количество одномоментных измерений\n",
    "    l = len(Y_)\n",
    "    # Требуемое количество существующих производных функции измерения\n",
    "    k = int(len(X_) // len(Y_))\n",
    "    txt = f\"Неизвестные: n = {len(X_)} (на каждый чипсат по {int(len(X_) // n)} параметров)\\nИзвестные: l = {l}\\n∃ производные порядка k = {len(X_) / len(Y_)}\"\n",
    "    report += txt + \"\\n\"\n",
    "    print(txt)\n",
    "    \n",
    "    # Матрица наблюдаемости системы\n",
    "    H = Matrix([[Y_[0] for ll in range(l)] for kk in range(k)])\n",
    "    H_one_line = []\n",
    "    for kk in range(k):\n",
    "        for ll in range(l):\n",
    "            tmp = Y_[ll] if kk==0 else my_diff(H[kk - 1, ll])\n",
    "            if testprint:\n",
    "                print(f\"_расчёт матрицы H_: k={(kk+1)}/{k}, l={(ll+1)}/{l}\")\n",
    "            H[kk, ll] = tmp\n",
    "            H_one_line += [tmp]\n",
    "    H = Matrix(H_one_line)\n",
    "    txt = f\"Размерность матрицы H: {shape(H)}\"\n",
    "    report += txt + \"\\n\"\n",
    "    print(txt)\n",
    "\n",
    "    # Отречение от символов и знаков, воздадим числам былой языческий огонь\n",
    "    s_r = lambda: np.random.uniform(-100, 100)\n",
    "    s_v = lambda: np.random.uniform(-1, 1)\n",
    "    s_w = lambda: np.random.uniform(-1e-4, 1e-4)\n",
    "    q = np.array([s_v() for _ in range(4)])\n",
    "    q /= np.linalg.norm(q)\n",
    "    rand_params = [(ω, ω_orb), (pi, np.pi)]\n",
    "    for i in range(n):\n",
    "        rand_params += [(x[i], s_r()), (y[i], s_r()), (z[i], s_r()), \n",
    "                        (vx[i], s_v()), (vy[i], s_v()), (vz[i], s_v()), \n",
    "                        (wx[i], s_w()), (wy[i], s_w()), (wz[i], s_w()), \n",
    "                        (q0[i], q[0]), (qx[i], q[1]), (qy[i], q[2]), (qz[i], q[3])]\n",
    "\n",
    "    # Якобиан матрицы наблюдаемости (J[1, 2]: 1 - измерение (H), 2 - состояние (X))\n",
    "    J = Matrix([[Y_[0] for _ in range(len(X_))] for _ in range(k * l)])\n",
    "    J_numb = np.array([[0. for _ in range(len(X_))] for _ in range(k * l)])\n",
    "    for i in range(k * l):\n",
    "        if testprint:\n",
    "            print(f\"_J_numb: расчёт строки_: {i+1} / {k * l}\")\n",
    "        for j in range(len(X_)):\n",
    "            tmp = H[i].diff(X_[j])\n",
    "            J[i, j] = tmp\n",
    "            J_numb[i][j] = float(tmp.subs(rand_params))\n",
    "    txt = f\"Размерность матрицы J: {shape(J)}\"\n",
    "    report += txt + \"\\n\"\n",
    "    print(txt)\n",
    "    \n",
    "    # Достаточное условие\n",
    "    def matrix_minor(arr: np.ndarray, i: int, j: int) -> float:\n",
    "        return np.linalg.det(np.delete(np.delete(arr,i,axis=0), j, axis=1))\n",
    "    txt = f\"\\nСледующие параметры не должны быть нулевыми:\\n\"\n",
    "    report += txt + \"\\n\"\n",
    "    print(txt)\n",
    "    d = []\n",
    "    flag = True\n",
    "    i_min = -1\n",
    "    for i in range(len(X_)):\n",
    "        tmp = matrix_minor(J_numb, i, i)\n",
    "        d += [tmp if i == 0 else tmp / d[-1]]\n",
    "        txt = f\"Δ_{i} = {d[-1]}\"\n",
    "        report += txt + \"\\n\"\n",
    "        print(txt)\n",
    "    \n",
    "        # Чек наблюдаемости\n",
    "        if flag:\n",
    "            if abs(d[-1]) < 1e-7:\n",
    "                i_min = i\n",
    "                flag = False\n",
    "        if not flag:\n",
    "            break\n",
    "\n",
    "    # Вывод\n",
    "    if flag:\n",
    "        txt = f\"\\n\\033[1mВыполнено достаточное условие! Система наблюдаема\\033[0m\"\n",
    "    else:\n",
    "        txt = f\"\\n\\033[1mНе выполнено достаточное условие. Нулевой параметр: Δ_{i_min} = {d[i_min]}\\033[0m\"\n",
    "    report += txt + \"\\n\"\n",
    "    print(txt)\n",
    "\n",
    "    return H, J, J_numb, d, report"
   ]
  },
  {
   "cell_type": "markdown",
   "id": "fbb2b66b-37a1-4452-98d0-7f669711f484",
   "metadata": {},
   "source": [
    "# <span style=\"color:#00c4a0\">Применение алгоритма на примерах</span>"
   ]
  },
  {
   "cell_type": "markdown",
   "id": "2521a8c2-9a44-483f-bfa7-5ca6cf0be69a",
   "metadata": {},
   "source": [
    "#### <span style=\"color:#2c3e50\">Наблюдаемость системы</span> <span style=\"color:#bb4bca\">при кубсате строго на круговой орбите, без аэродинамики и углового движения,</span> <span style=\"color:#e60b9d\">антенны изотропные</span>"
   ]
  },
  {
   "cell_type": "code",
   "execution_count": null,
   "id": "20eb76e3-f39a-4d8f-9846-bd174f2d6069",
   "metadata": {},
   "outputs": [],
   "source": [
    "# Количество чипсатов\n",
    "n = 1\n",
    "\n",
    "# Инициализация\n",
    "t, ω, x, y, z, vx, vy, vz, wx, wy, wz, q0, qx, qy, qz = get_params(n)\n",
    "X_ = []\n",
    "for i in range(n):\n",
    "    X_ += [x[i], y[i], z[i], vx[i], vy[i], vz[i]]\n",
    "r = [sqrt(x[i]**2 + y[i]**2 + z[i]**2) for i in range(n)]\n",
    "R = [[r[i] if i==j else sqrt((x[i]-x[j])**2 + (y[i]-y[j])**2 + (z[i]-z[j])**2) for i in range(n)] for j in range(n)]\n",
    "# Вытягивание измерений в вектор\n",
    "Y_ = []\n",
    "Y_ += r.copy()\n",
    "for i in range(n):\n",
    "    for j in range(i):\n",
    "        Y_ += [R[i][j]]\n",
    "\n",
    "# Уравнения движения\n",
    "def MyDiff_AeroOff_AttitudeOff_AntennaOff(expr, power: int = 1, vari: any = t):\n",
    "    if power == 0:\n",
    "        return expr\n",
    "    if power == 1:\n",
    "        anw = expr\n",
    "    else:\n",
    "        anw = my_diff(expr, power - 1)\n",
    "    subses = []\n",
    "    for i in range(n):\n",
    "        subses += [(Derivative(x[i], t), vx[i])]\n",
    "        subses += [(Derivative(y[i], t), vy[i])]\n",
    "        subses += [(Derivative(z[i], t), vz[i])]\n",
    "        subses += [(Derivative(vx[i], t), -2*ω*vz[i])]  # Нет учёта аэродинамики\n",
    "        subses += [(Derivative(vy[i], t), -ω**2*y[i])]\n",
    "        subses += [(Derivative(vz[i], t), 2*ω*vx[i] + 3*ω**2*z[i])]\n",
    "    return anw.diff(vari).subs(subses).simplify()\n",
    "\n",
    "H_1, J_1, J_numb_1, d_1, report_1_1 = ShauyingObservabilitySufficientCondition(n=n, X_=X_, r=r, Y_=Y_, my_diff=MyDiff_AeroOff_AttitudeOff_AntennaOff)"
   ]
  },
  {
   "cell_type": "code",
   "execution_count": 152,
   "id": "f4b5a3f5-9d96-4635-9730-cf74e685f171",
   "metadata": {},
   "outputs": [
    {
     "name": "stdout",
     "output_type": "stream",
     "text": [
      "\u001b[1mКоличество чипсатов: 1\u001b[0m\n",
      "\n",
      "Неизвестные: n = 6 (на каждый чипсат по 6 параметров)\n",
      "Известные: l = 1\n",
      "∃ производные порядка k = 6.0\n",
      "Размерность матрицы H: (6, 1)\n",
      "Размерность матрицы J: (6, 6)\n",
      "\n",
      "Следующие параметры не должны быть нулевыми:\n",
      "\n",
      "Δ_0 = 4.830413669120013e-25\n",
      "\n",
      "\u001b[1mНе выполнено достаточное условие. Нулевой параметр: Δ_0 = 4.830413669120013e-25\u001b[0m\n",
      "----------------------------------------------------------------------------------------------------\n",
      "----------------------------------------------------------------------------------------------------\n",
      "\u001b[1mКоличество чипсатов: 5\u001b[0m\n",
      "\n",
      "Неизвестные: n = 30 (на каждый чипсат по 6 параметров)\n",
      "Известные: l = 15\n",
      "∃ производные порядка k = 2.0\n",
      "Размерность матрицы H: (30, 1)\n",
      "Размерность матрицы J: (30, 30)\n",
      "\n",
      "Следующие параметры не должны быть нулевыми:\n",
      "\n",
      "Δ_0 = -1.8202978018171094e-82\n",
      "\n",
      "\u001b[1mНе выполнено достаточное условие. Нулевой параметр: Δ_0 = -1.8202978018171094e-82\u001b[0m\n",
      "----------------------------------------------------------------------------------------------------\n",
      "----------------------------------------------------------------------------------------------------\n",
      "\u001b[1mКоличество чипсатов: 11\u001b[0m\n",
      "\n",
      "Неизвестные: n = 66 (на каждый чипсат по 6 параметров)\n",
      "Известные: l = 66\n",
      "∃ производные порядка k = 1.0\n",
      "Размерность матрицы H: (66, 1)\n",
      "Размерность матрицы J: (66, 66)\n",
      "\n",
      "Следующие параметры не должны быть нулевыми:\n",
      "\n",
      "Δ_0 = 0.0\n",
      "\n",
      "\u001b[1mНе выполнено достаточное условие. Нулевой параметр: Δ_0 = 0.0\u001b[0m\n"
     ]
    }
   ],
   "source": [
    "# save_reports([report_1_1, report_1_5, report_1_11], \"AeroOff_AttitudeOff_AntennaOff\")\n",
    "print(read_reports(\"AeroOff_AttitudeOff_AntennaOff\"))"
   ]
  },
  {
   "cell_type": "markdown",
   "id": "ca57f535-d2f7-4658-8e4e-2be34e49fc83",
   "metadata": {},
   "source": [
    "----\n",
    "\n",
    "#### <span style=\"color:#2c3e50\">Наблюдаемость системы</span> <span style=\"color:#00b0b9\">при кубсате строго на круговой орбите, с аэродинамикой и угловым движением,</span> <span style=\"color:#e60b9d\">антенны изотропные</span>"
   ]
  },
  {
   "cell_type": "code",
   "execution_count": 120,
   "id": "c94e93e5-1208-4116-a19e-ec5d4a7cadd7",
   "metadata": {
    "scrolled": true
   },
   "outputs": [
    {
     "name": "stdout",
     "output_type": "stream",
     "text": [
      "\u001b[1mКоличество чипсатов: 5\u001b[0m\n",
      "\n",
      "Неизвестные: n = 60 (на каждый чипсат по 12 параметров)\n",
      "Известные: l = 15\n",
      "∃ производные порядка k = 4.0\n",
      "_расчёт матрицы H_: k=1/4, l=1/15\n",
      "_расчёт матрицы H_: k=1/4, l=2/15\n",
      "_расчёт матрицы H_: k=1/4, l=3/15\n",
      "_расчёт матрицы H_: k=1/4, l=4/15\n",
      "_расчёт матрицы H_: k=1/4, l=5/15\n",
      "_расчёт матрицы H_: k=1/4, l=6/15\n",
      "_расчёт матрицы H_: k=1/4, l=7/15\n",
      "_расчёт матрицы H_: k=1/4, l=8/15\n",
      "_расчёт матрицы H_: k=1/4, l=9/15\n",
      "_расчёт матрицы H_: k=1/4, l=10/15\n",
      "_расчёт матрицы H_: k=1/4, l=11/15\n",
      "_расчёт матрицы H_: k=1/4, l=12/15\n",
      "_расчёт матрицы H_: k=1/4, l=13/15\n",
      "_расчёт матрицы H_: k=1/4, l=14/15\n",
      "_расчёт матрицы H_: k=1/4, l=15/15\n",
      "_расчёт матрицы H_: k=2/4, l=1/15\n",
      "_расчёт матрицы H_: k=2/4, l=2/15\n",
      "_расчёт матрицы H_: k=2/4, l=3/15\n",
      "_расчёт матрицы H_: k=2/4, l=4/15\n",
      "_расчёт матрицы H_: k=2/4, l=5/15\n",
      "_расчёт матрицы H_: k=2/4, l=6/15\n",
      "_расчёт матрицы H_: k=2/4, l=7/15\n",
      "_расчёт матрицы H_: k=2/4, l=8/15\n",
      "_расчёт матрицы H_: k=2/4, l=9/15\n",
      "_расчёт матрицы H_: k=2/4, l=10/15\n",
      "_расчёт матрицы H_: k=2/4, l=11/15\n",
      "_расчёт матрицы H_: k=2/4, l=12/15\n",
      "_расчёт матрицы H_: k=2/4, l=13/15\n",
      "_расчёт матрицы H_: k=2/4, l=14/15\n",
      "_расчёт матрицы H_: k=2/4, l=15/15\n",
      "_расчёт матрицы H_: k=3/4, l=1/15\n",
      "_расчёт матрицы H_: k=3/4, l=2/15\n",
      "_расчёт матрицы H_: k=3/4, l=3/15\n",
      "_расчёт матрицы H_: k=3/4, l=4/15\n",
      "_расчёт матрицы H_: k=3/4, l=5/15\n"
     ]
    },
    {
     "ename": "KeyboardInterrupt",
     "evalue": "",
     "output_type": "error",
     "traceback": [
      "\u001b[0;31m---------------------------------------------------------------------------\u001b[0m",
      "\u001b[0;31mKeyboardInterrupt\u001b[0m                         Traceback (most recent call last)",
      "Cell \u001b[0;32mIn[120], line 49\u001b[0m\n\u001b[1;32m     46\u001b[0m         subses \u001b[38;5;241m+\u001b[39m\u001b[38;5;241m=\u001b[39m [(Derivative(wz[i], t), (Jxx\u001b[38;5;241m*\u001b[39mwx[i]\u001b[38;5;241m*\u001b[39mwy[i] \u001b[38;5;241m-\u001b[39m Jyy\u001b[38;5;241m*\u001b[39mwx[i]\u001b[38;5;241m*\u001b[39mwy[i] \u001b[38;5;241m+\u001b[39m M[\u001b[38;5;241m2\u001b[39m]) \u001b[38;5;241m/\u001b[39m Jzz)]\n\u001b[1;32m     47\u001b[0m     \u001b[38;5;28;01mreturn\u001b[39;00m anw\u001b[38;5;241m.\u001b[39mdiff(vari)\u001b[38;5;241m.\u001b[39msubs(subses)\u001b[38;5;241m.\u001b[39msimplify() \u001b[38;5;66;03m# .simplify()\u001b[39;00m\n\u001b[0;32m---> 49\u001b[0m H_2, J_2, J_numb_2, d_2 \u001b[38;5;241m=\u001b[39m \u001b[43mShauyingObservabilitySufficientCondition\u001b[49m\u001b[43m(\u001b[49m\u001b[43mn\u001b[49m\u001b[38;5;241;43m=\u001b[39;49m\u001b[43mn\u001b[49m\u001b[43m,\u001b[49m\u001b[43m \u001b[49m\u001b[43mX_\u001b[49m\u001b[38;5;241;43m=\u001b[39;49m\u001b[43mX_\u001b[49m\u001b[43m,\u001b[49m\u001b[43m \u001b[49m\u001b[43mr\u001b[49m\u001b[38;5;241;43m=\u001b[39;49m\u001b[43mr\u001b[49m\u001b[43m,\u001b[49m\u001b[43m \u001b[49m\u001b[43mY_\u001b[49m\u001b[38;5;241;43m=\u001b[39;49m\u001b[43mY_\u001b[49m\u001b[43m,\u001b[49m\u001b[43m \u001b[49m\u001b[43mmy_diff\u001b[49m\u001b[38;5;241;43m=\u001b[39;49m\u001b[43mMyDiff_AeroOn_AttitudeOn_AntennaOff\u001b[49m\u001b[43m,\u001b[49m\u001b[43m \u001b[49m\u001b[43mtestprint\u001b[49m\u001b[38;5;241;43m=\u001b[39;49m\u001b[38;5;28;43;01mTrue\u001b[39;49;00m\u001b[43m)\u001b[49m\n",
      "Cell \u001b[0;32mIn[119], line 41\u001b[0m, in \u001b[0;36mShauyingObservabilitySufficientCondition\u001b[0;34m(n, X_, r, Y_, my_diff, testprint)\u001b[0m\n\u001b[1;32m     39\u001b[0m \u001b[38;5;28;01mfor\u001b[39;00m kk \u001b[38;5;129;01min\u001b[39;00m \u001b[38;5;28mrange\u001b[39m(k):\n\u001b[1;32m     40\u001b[0m     \u001b[38;5;28;01mfor\u001b[39;00m ll \u001b[38;5;129;01min\u001b[39;00m \u001b[38;5;28mrange\u001b[39m(l):\n\u001b[0;32m---> 41\u001b[0m         tmp \u001b[38;5;241m=\u001b[39m Y_[ll] \u001b[38;5;28;01mif\u001b[39;00m kk\u001b[38;5;241m==\u001b[39m\u001b[38;5;241m0\u001b[39m \u001b[38;5;28;01melse\u001b[39;00m \u001b[43mmy_diff\u001b[49m\u001b[43m(\u001b[49m\u001b[43mH\u001b[49m\u001b[43m[\u001b[49m\u001b[43mkk\u001b[49m\u001b[43m \u001b[49m\u001b[38;5;241;43m-\u001b[39;49m\u001b[43m \u001b[49m\u001b[38;5;241;43m1\u001b[39;49m\u001b[43m,\u001b[49m\u001b[43m \u001b[49m\u001b[43mll\u001b[49m\u001b[43m]\u001b[49m\u001b[43m)\u001b[49m\n\u001b[1;32m     42\u001b[0m         \u001b[38;5;28;01mif\u001b[39;00m testprint:\n\u001b[1;32m     43\u001b[0m             \u001b[38;5;28mprint\u001b[39m(\u001b[38;5;124mf\u001b[39m\u001b[38;5;124m\"\u001b[39m\u001b[38;5;124m_расчёт матрицы H_: k=\u001b[39m\u001b[38;5;132;01m{\u001b[39;00m(kk\u001b[38;5;241m+\u001b[39m\u001b[38;5;241m1\u001b[39m)\u001b[38;5;132;01m}\u001b[39;00m\u001b[38;5;124m/\u001b[39m\u001b[38;5;132;01m{\u001b[39;00mk\u001b[38;5;132;01m}\u001b[39;00m\u001b[38;5;124m, l=\u001b[39m\u001b[38;5;132;01m{\u001b[39;00m(ll\u001b[38;5;241m+\u001b[39m\u001b[38;5;241m1\u001b[39m)\u001b[38;5;132;01m}\u001b[39;00m\u001b[38;5;124m/\u001b[39m\u001b[38;5;132;01m{\u001b[39;00ml\u001b[38;5;132;01m}\u001b[39;00m\u001b[38;5;124m\"\u001b[39m)\n",
      "Cell \u001b[0;32mIn[120], line 47\u001b[0m, in \u001b[0;36mMyDiff_AeroOn_AttitudeOn_AntennaOff\u001b[0;34m(expr, power, vari)\u001b[0m\n\u001b[1;32m     45\u001b[0m     subses \u001b[38;5;241m+\u001b[39m\u001b[38;5;241m=\u001b[39m [(Derivative(wy[i], t), (\u001b[38;5;241m-\u001b[39mJxx\u001b[38;5;241m*\u001b[39mwx[i]\u001b[38;5;241m*\u001b[39mwz[i] \u001b[38;5;241m+\u001b[39m Jzz\u001b[38;5;241m*\u001b[39mwx[i]\u001b[38;5;241m*\u001b[39mwz[i] \u001b[38;5;241m+\u001b[39m M[\u001b[38;5;241m1\u001b[39m]) \u001b[38;5;241m/\u001b[39m Jyy)]\n\u001b[1;32m     46\u001b[0m     subses \u001b[38;5;241m+\u001b[39m\u001b[38;5;241m=\u001b[39m [(Derivative(wz[i], t), (Jxx\u001b[38;5;241m*\u001b[39mwx[i]\u001b[38;5;241m*\u001b[39mwy[i] \u001b[38;5;241m-\u001b[39m Jyy\u001b[38;5;241m*\u001b[39mwx[i]\u001b[38;5;241m*\u001b[39mwy[i] \u001b[38;5;241m+\u001b[39m M[\u001b[38;5;241m2\u001b[39m]) \u001b[38;5;241m/\u001b[39m Jzz)]\n\u001b[0;32m---> 47\u001b[0m \u001b[38;5;28;01mreturn\u001b[39;00m \u001b[43manw\u001b[49m\u001b[38;5;241;43m.\u001b[39;49m\u001b[43mdiff\u001b[49m\u001b[43m(\u001b[49m\u001b[43mvari\u001b[49m\u001b[43m)\u001b[49m\u001b[38;5;241;43m.\u001b[39;49m\u001b[43msubs\u001b[49m\u001b[43m(\u001b[49m\u001b[43msubses\u001b[49m\u001b[43m)\u001b[49m\u001b[38;5;241;43m.\u001b[39;49m\u001b[43msimplify\u001b[49m\u001b[43m(\u001b[49m\u001b[43m)\u001b[49m\n",
      "File \u001b[0;32m~/.local/lib/python3.10/site-packages/sympy/core/basic.py:1853\u001b[0m, in \u001b[0;36mBasic.simplify\u001b[0;34m(self, **kwargs)\u001b[0m\n\u001b[1;32m   1851\u001b[0m \u001b[38;5;250m\u001b[39m\u001b[38;5;124;03m\"\"\"See the simplify function in sympy.simplify\"\"\"\u001b[39;00m\n\u001b[1;32m   1852\u001b[0m \u001b[38;5;28;01mfrom\u001b[39;00m \u001b[38;5;21;01msympy\u001b[39;00m\u001b[38;5;21;01m.\u001b[39;00m\u001b[38;5;21;01msimplify\u001b[39;00m\u001b[38;5;21;01m.\u001b[39;00m\u001b[38;5;21;01msimplify\u001b[39;00m \u001b[38;5;28;01mimport\u001b[39;00m simplify\n\u001b[0;32m-> 1853\u001b[0m \u001b[38;5;28;01mreturn\u001b[39;00m \u001b[43msimplify\u001b[49m\u001b[43m(\u001b[49m\u001b[38;5;28;43mself\u001b[39;49m\u001b[43m,\u001b[49m\u001b[43m \u001b[49m\u001b[38;5;241;43m*\u001b[39;49m\u001b[38;5;241;43m*\u001b[39;49m\u001b[43mkwargs\u001b[49m\u001b[43m)\u001b[49m\n",
      "File \u001b[0;32m~/.local/lib/python3.10/site-packages/sympy/simplify/simplify.py:726\u001b[0m, in \u001b[0;36msimplify\u001b[0;34m(expr, ratio, measure, rational, inverse, doit, **kwargs)\u001b[0m\n\u001b[1;32m    723\u001b[0m     expr \u001b[38;5;241m=\u001b[39m quantity_simplify(expr)\n\u001b[1;32m    725\u001b[0m short \u001b[38;5;241m=\u001b[39m shorter(powsimp(expr, combine\u001b[38;5;241m=\u001b[39m\u001b[38;5;124m'\u001b[39m\u001b[38;5;124mexp\u001b[39m\u001b[38;5;124m'\u001b[39m, deep\u001b[38;5;241m=\u001b[39m\u001b[38;5;28;01mTrue\u001b[39;00m), powsimp(expr), expr)\n\u001b[0;32m--> 726\u001b[0m short \u001b[38;5;241m=\u001b[39m shorter(short, \u001b[43mcancel\u001b[49m\u001b[43m(\u001b[49m\u001b[43mshort\u001b[49m\u001b[43m)\u001b[49m)\n\u001b[1;32m    727\u001b[0m short \u001b[38;5;241m=\u001b[39m shorter(short, factor_terms(short), expand_power_exp(expand_mul(short)))\n\u001b[1;32m    728\u001b[0m \u001b[38;5;28;01mif\u001b[39;00m short\u001b[38;5;241m.\u001b[39mhas(TrigonometricFunction, HyperbolicFunction, ExpBase, exp):\n",
      "File \u001b[0;32m~/.local/lib/python3.10/site-packages/sympy/polys/polytools.py:6890\u001b[0m, in \u001b[0;36mcancel\u001b[0;34m(f, _signsimp, *gens, **args)\u001b[0m\n\u001b[1;32m   6887\u001b[0m                 \u001b[38;5;28;01mpass\u001b[39;00m\n\u001b[1;32m   6888\u001b[0m         \u001b[38;5;28;01mreturn\u001b[39;00m f\u001b[38;5;241m.\u001b[39mxreplace(\u001b[38;5;28mdict\u001b[39m(reps))\n\u001b[0;32m-> 6890\u001b[0m c, (P, Q) \u001b[38;5;241m=\u001b[39m \u001b[38;5;241m1\u001b[39m, \u001b[43mF\u001b[49m\u001b[38;5;241;43m.\u001b[39;49m\u001b[43mcancel\u001b[49m\u001b[43m(\u001b[49m\u001b[43mG\u001b[49m\u001b[43m)\u001b[49m\n\u001b[1;32m   6891\u001b[0m \u001b[38;5;28;01mif\u001b[39;00m opt\u001b[38;5;241m.\u001b[39mget(\u001b[38;5;124m'\u001b[39m\u001b[38;5;124mpolys\u001b[39m\u001b[38;5;124m'\u001b[39m, \u001b[38;5;28;01mFalse\u001b[39;00m) \u001b[38;5;129;01mand\u001b[39;00m \u001b[38;5;124m'\u001b[39m\u001b[38;5;124mgens\u001b[39m\u001b[38;5;124m'\u001b[39m \u001b[38;5;129;01mnot\u001b[39;00m \u001b[38;5;129;01min\u001b[39;00m opt:\n\u001b[1;32m   6892\u001b[0m     opt[\u001b[38;5;124m'\u001b[39m\u001b[38;5;124mgens\u001b[39m\u001b[38;5;124m'\u001b[39m] \u001b[38;5;241m=\u001b[39m R\u001b[38;5;241m.\u001b[39msymbols\n",
      "File \u001b[0;32m~/.local/lib/python3.10/site-packages/sympy/polys/rings.py:2242\u001b[0m, in \u001b[0;36mPolyElement.cancel\u001b[0;34m(self, g)\u001b[0m\n\u001b[1;32m   2239\u001b[0m domain \u001b[38;5;241m=\u001b[39m ring\u001b[38;5;241m.\u001b[39mdomain\n\u001b[1;32m   2241\u001b[0m \u001b[38;5;28;01mif\u001b[39;00m \u001b[38;5;129;01mnot\u001b[39;00m (domain\u001b[38;5;241m.\u001b[39mis_Field \u001b[38;5;129;01mand\u001b[39;00m domain\u001b[38;5;241m.\u001b[39mhas_assoc_Ring):\n\u001b[0;32m-> 2242\u001b[0m     _, p, q \u001b[38;5;241m=\u001b[39m \u001b[43mf\u001b[49m\u001b[38;5;241;43m.\u001b[39;49m\u001b[43mcofactors\u001b[49m\u001b[43m(\u001b[49m\u001b[43mg\u001b[49m\u001b[43m)\u001b[49m\n\u001b[1;32m   2243\u001b[0m \u001b[38;5;28;01melse\u001b[39;00m:\n\u001b[1;32m   2244\u001b[0m     new_ring \u001b[38;5;241m=\u001b[39m ring\u001b[38;5;241m.\u001b[39mclone(domain\u001b[38;5;241m=\u001b[39mdomain\u001b[38;5;241m.\u001b[39mget_ring())\n",
      "File \u001b[0;32m~/.local/lib/python3.10/site-packages/sympy/polys/rings.py:2158\u001b[0m, in \u001b[0;36mPolyElement.cofactors\u001b[0;34m(f, g)\u001b[0m\n\u001b[1;32m   2155\u001b[0m     \u001b[38;5;28;01mreturn\u001b[39;00m h, cff, cfg\n\u001b[1;32m   2157\u001b[0m J, (f, g) \u001b[38;5;241m=\u001b[39m f\u001b[38;5;241m.\u001b[39mdeflate(g)\n\u001b[0;32m-> 2158\u001b[0m h, cff, cfg \u001b[38;5;241m=\u001b[39m \u001b[43mf\u001b[49m\u001b[38;5;241;43m.\u001b[39;49m\u001b[43m_gcd\u001b[49m\u001b[43m(\u001b[49m\u001b[43mg\u001b[49m\u001b[43m)\u001b[49m\n\u001b[1;32m   2160\u001b[0m \u001b[38;5;28;01mreturn\u001b[39;00m (h\u001b[38;5;241m.\u001b[39minflate(J), cff\u001b[38;5;241m.\u001b[39minflate(J), cfg\u001b[38;5;241m.\u001b[39minflate(J))\n",
      "File \u001b[0;32m~/.local/lib/python3.10/site-packages/sympy/polys/rings.py:2193\u001b[0m, in \u001b[0;36mPolyElement._gcd\u001b[0;34m(f, g)\u001b[0m\n\u001b[1;32m   2191\u001b[0m     \u001b[38;5;28;01mreturn\u001b[39;00m f\u001b[38;5;241m.\u001b[39m_gcd_ZZ(g)\n\u001b[1;32m   2192\u001b[0m \u001b[38;5;28;01melse\u001b[39;00m: \u001b[38;5;66;03m# TODO: don't use dense representation (port PRS algorithms)\u001b[39;00m\n\u001b[0;32m-> 2193\u001b[0m     \u001b[38;5;28;01mreturn\u001b[39;00m \u001b[43mring\u001b[49m\u001b[38;5;241;43m.\u001b[39;49m\u001b[43mdmp_inner_gcd\u001b[49m\u001b[43m(\u001b[49m\u001b[43mf\u001b[49m\u001b[43m,\u001b[49m\u001b[43m \u001b[49m\u001b[43mg\u001b[49m\u001b[43m)\u001b[49m\n",
      "File \u001b[0;32m~/.local/lib/python3.10/site-packages/sympy/polys/compatibility.py:663\u001b[0m, in \u001b[0;36mIPolys.dmp_inner_gcd\u001b[0;34m(self, f, g)\u001b[0m\n\u001b[1;32m    662\u001b[0m \u001b[38;5;28;01mdef\u001b[39;00m \u001b[38;5;21mdmp_inner_gcd\u001b[39m(\u001b[38;5;28mself\u001b[39m, f, g):\n\u001b[0;32m--> 663\u001b[0m     H, F, G \u001b[38;5;241m=\u001b[39m \u001b[43mdmp_inner_gcd\u001b[49m\u001b[43m(\u001b[49m\u001b[38;5;28;43mself\u001b[39;49m\u001b[38;5;241;43m.\u001b[39;49m\u001b[43mto_dense\u001b[49m\u001b[43m(\u001b[49m\u001b[43mf\u001b[49m\u001b[43m)\u001b[49m\u001b[43m,\u001b[49m\u001b[43m \u001b[49m\u001b[38;5;28;43mself\u001b[39;49m\u001b[38;5;241;43m.\u001b[39;49m\u001b[43mto_dense\u001b[49m\u001b[43m(\u001b[49m\u001b[43mg\u001b[49m\u001b[43m)\u001b[49m\u001b[43m,\u001b[49m\u001b[43m \u001b[49m\u001b[38;5;28;43mself\u001b[39;49m\u001b[38;5;241;43m.\u001b[39;49m\u001b[43mngens\u001b[49m\u001b[38;5;241;43m-\u001b[39;49m\u001b[38;5;241;43m1\u001b[39;49m\u001b[43m,\u001b[49m\u001b[43m \u001b[49m\u001b[38;5;28;43mself\u001b[39;49m\u001b[38;5;241;43m.\u001b[39;49m\u001b[43mdomain\u001b[49m\u001b[43m)\u001b[49m\n\u001b[1;32m    664\u001b[0m     \u001b[38;5;28;01mreturn\u001b[39;00m (\u001b[38;5;28mself\u001b[39m\u001b[38;5;241m.\u001b[39mfrom_dense(H), \u001b[38;5;28mself\u001b[39m\u001b[38;5;241m.\u001b[39mfrom_dense(F), \u001b[38;5;28mself\u001b[39m\u001b[38;5;241m.\u001b[39mfrom_dense(G))\n",
      "File \u001b[0;32m~/.local/lib/python3.10/site-packages/sympy/polys/euclidtools.py:1584\u001b[0m, in \u001b[0;36mdmp_inner_gcd\u001b[0;34m(f, g, u, K)\u001b[0m\n\u001b[1;32m   1581\u001b[0m     \u001b[38;5;28;01mreturn\u001b[39;00m dup_inner_gcd(f, g, K)\n\u001b[1;32m   1583\u001b[0m J, (f, g) \u001b[38;5;241m=\u001b[39m dmp_multi_deflate((f, g), u, K)\n\u001b[0;32m-> 1584\u001b[0m h, cff, cfg \u001b[38;5;241m=\u001b[39m \u001b[43m_dmp_inner_gcd\u001b[49m\u001b[43m(\u001b[49m\u001b[43mf\u001b[49m\u001b[43m,\u001b[49m\u001b[43m \u001b[49m\u001b[43mg\u001b[49m\u001b[43m,\u001b[49m\u001b[43m \u001b[49m\u001b[43mu\u001b[49m\u001b[43m,\u001b[49m\u001b[43m \u001b[49m\u001b[43mK\u001b[49m\u001b[43m)\u001b[49m\n\u001b[1;32m   1586\u001b[0m \u001b[38;5;28;01mreturn\u001b[39;00m (dmp_inflate(h, J, u, K),\n\u001b[1;32m   1587\u001b[0m         dmp_inflate(cff, J, u, K),\n\u001b[1;32m   1588\u001b[0m         dmp_inflate(cfg, J, u, K))\n",
      "File \u001b[0;32m~/.local/lib/python3.10/site-packages/sympy/polys/euclidtools.py:1535\u001b[0m, in \u001b[0;36m_dmp_inner_gcd\u001b[0;34m(f, g, u, K)\u001b[0m\n\u001b[1;32m   1532\u001b[0m f \u001b[38;5;241m=\u001b[39m dmp_convert(f, u, K, exact)\n\u001b[1;32m   1533\u001b[0m g \u001b[38;5;241m=\u001b[39m dmp_convert(g, u, K, exact)\n\u001b[0;32m-> 1535\u001b[0m h, cff, cfg \u001b[38;5;241m=\u001b[39m \u001b[43m_dmp_inner_gcd\u001b[49m\u001b[43m(\u001b[49m\u001b[43mf\u001b[49m\u001b[43m,\u001b[49m\u001b[43m \u001b[49m\u001b[43mg\u001b[49m\u001b[43m,\u001b[49m\u001b[43m \u001b[49m\u001b[43mu\u001b[49m\u001b[43m,\u001b[49m\u001b[43m \u001b[49m\u001b[43mexact\u001b[49m\u001b[43m)\u001b[49m\n\u001b[1;32m   1537\u001b[0m h \u001b[38;5;241m=\u001b[39m dmp_convert(h, u, exact, K)\n\u001b[1;32m   1538\u001b[0m cff \u001b[38;5;241m=\u001b[39m dmp_convert(cff, u, exact, K)\n",
      "File \u001b[0;32m~/.local/lib/python3.10/site-packages/sympy/polys/euclidtools.py:1545\u001b[0m, in \u001b[0;36m_dmp_inner_gcd\u001b[0;34m(f, g, u, K)\u001b[0m\n\u001b[1;32m   1543\u001b[0m \u001b[38;5;28;01mif\u001b[39;00m K\u001b[38;5;241m.\u001b[39mis_QQ \u001b[38;5;129;01mand\u001b[39;00m query(\u001b[38;5;124m'\u001b[39m\u001b[38;5;124mUSE_HEU_GCD\u001b[39m\u001b[38;5;124m'\u001b[39m):\n\u001b[1;32m   1544\u001b[0m     \u001b[38;5;28;01mtry\u001b[39;00m:\n\u001b[0;32m-> 1545\u001b[0m         \u001b[38;5;28;01mreturn\u001b[39;00m \u001b[43mdmp_qq_heu_gcd\u001b[49m\u001b[43m(\u001b[49m\u001b[43mf\u001b[49m\u001b[43m,\u001b[49m\u001b[43m \u001b[49m\u001b[43mg\u001b[49m\u001b[43m,\u001b[49m\u001b[43m \u001b[49m\u001b[43mu\u001b[49m\u001b[43m,\u001b[49m\u001b[43m \u001b[49m\u001b[43mK\u001b[49m\u001b[43m)\u001b[49m\n\u001b[1;32m   1546\u001b[0m     \u001b[38;5;28;01mexcept\u001b[39;00m HeuristicGCDFailed:\n\u001b[1;32m   1547\u001b[0m         \u001b[38;5;28;01mpass\u001b[39;00m\n",
      "File \u001b[0;32m~/.local/lib/python3.10/site-packages/sympy/polys/euclidtools.py:1444\u001b[0m, in \u001b[0;36mdmp_qq_heu_gcd\u001b[0;34m(f, g, u, K0)\u001b[0m\n\u001b[1;32m   1424\u001b[0m \u001b[38;5;28;01mdef\u001b[39;00m \u001b[38;5;21mdmp_qq_heu_gcd\u001b[39m(f, g, u, K0):\n\u001b[1;32m   1425\u001b[0m \u001b[38;5;250m    \u001b[39m\u001b[38;5;124;03m\"\"\"\u001b[39;00m\n\u001b[1;32m   1426\u001b[0m \u001b[38;5;124;03m    Heuristic polynomial GCD in `Q[X]`.\u001b[39;00m\n\u001b[1;32m   1427\u001b[0m \n\u001b[0;32m   (...)\u001b[0m\n\u001b[1;32m   1442\u001b[0m \n\u001b[1;32m   1443\u001b[0m \u001b[38;5;124;03m    \"\"\"\u001b[39;00m\n\u001b[0;32m-> 1444\u001b[0m     result \u001b[38;5;241m=\u001b[39m \u001b[43m_dmp_ff_trivial_gcd\u001b[49m\u001b[43m(\u001b[49m\u001b[43mf\u001b[49m\u001b[43m,\u001b[49m\u001b[43m \u001b[49m\u001b[43mg\u001b[49m\u001b[43m,\u001b[49m\u001b[43m \u001b[49m\u001b[43mu\u001b[49m\u001b[43m,\u001b[49m\u001b[43m \u001b[49m\u001b[43mK0\u001b[49m\u001b[43m)\u001b[49m\n\u001b[1;32m   1446\u001b[0m     \u001b[38;5;28;01mif\u001b[39;00m result \u001b[38;5;129;01mis\u001b[39;00m \u001b[38;5;129;01mnot\u001b[39;00m \u001b[38;5;28;01mNone\u001b[39;00m:\n\u001b[1;32m   1447\u001b[0m         \u001b[38;5;28;01mreturn\u001b[39;00m result\n",
      "File \u001b[0;32m~/.local/lib/python3.10/site-packages/sympy/polys/euclidtools.py:933\u001b[0m, in \u001b[0;36m_dmp_ff_trivial_gcd\u001b[0;34m(f, g, u, K)\u001b[0m\n\u001b[1;32m    929\u001b[0m     \u001b[38;5;28;01mreturn\u001b[39;00m (dmp_ground_monic(f, u, K),\n\u001b[1;32m    930\u001b[0m             dmp_ground(dmp_ground_LC(f, u, K), u),\n\u001b[1;32m    931\u001b[0m             dmp_zero(u))\n\u001b[1;32m    932\u001b[0m \u001b[38;5;28;01melif\u001b[39;00m query(\u001b[38;5;124m'\u001b[39m\u001b[38;5;124mUSE_SIMPLIFY_GCD\u001b[39m\u001b[38;5;124m'\u001b[39m):\n\u001b[0;32m--> 933\u001b[0m     \u001b[38;5;28;01mreturn\u001b[39;00m \u001b[43m_dmp_simplify_gcd\u001b[49m\u001b[43m(\u001b[49m\u001b[43mf\u001b[49m\u001b[43m,\u001b[49m\u001b[43m \u001b[49m\u001b[43mg\u001b[49m\u001b[43m,\u001b[49m\u001b[43m \u001b[49m\u001b[43mu\u001b[49m\u001b[43m,\u001b[49m\u001b[43m \u001b[49m\u001b[43mK\u001b[49m\u001b[43m)\u001b[49m\n\u001b[1;32m    934\u001b[0m \u001b[38;5;28;01melse\u001b[39;00m:\n\u001b[1;32m    935\u001b[0m     \u001b[38;5;28;01mreturn\u001b[39;00m \u001b[38;5;28;01mNone\u001b[39;00m\n",
      "File \u001b[0;32m~/.local/lib/python3.10/site-packages/sympy/polys/euclidtools.py:960\u001b[0m, in \u001b[0;36m_dmp_simplify_gcd\u001b[0;34m(f, g, u, K)\u001b[0m\n\u001b[1;32m    957\u001b[0m v \u001b[38;5;241m=\u001b[39m u \u001b[38;5;241m-\u001b[39m \u001b[38;5;241m1\u001b[39m\n\u001b[1;32m    958\u001b[0m h \u001b[38;5;241m=\u001b[39m dmp_gcd(F, G, v, K)\n\u001b[0;32m--> 960\u001b[0m cff \u001b[38;5;241m=\u001b[39m [ dmp_quo(cf, h, v, K) \u001b[38;5;28;01mfor\u001b[39;00m cf \u001b[38;5;129;01min\u001b[39;00m f ]\n\u001b[1;32m    961\u001b[0m cfg \u001b[38;5;241m=\u001b[39m [ dmp_quo(cg, h, v, K) \u001b[38;5;28;01mfor\u001b[39;00m cg \u001b[38;5;129;01min\u001b[39;00m g ]\n\u001b[1;32m    963\u001b[0m \u001b[38;5;28;01mreturn\u001b[39;00m [h], cff, cfg\n",
      "File \u001b[0;32m~/.local/lib/python3.10/site-packages/sympy/polys/euclidtools.py:960\u001b[0m, in \u001b[0;36m<listcomp>\u001b[0;34m(.0)\u001b[0m\n\u001b[1;32m    957\u001b[0m v \u001b[38;5;241m=\u001b[39m u \u001b[38;5;241m-\u001b[39m \u001b[38;5;241m1\u001b[39m\n\u001b[1;32m    958\u001b[0m h \u001b[38;5;241m=\u001b[39m dmp_gcd(F, G, v, K)\n\u001b[0;32m--> 960\u001b[0m cff \u001b[38;5;241m=\u001b[39m [ \u001b[43mdmp_quo\u001b[49m\u001b[43m(\u001b[49m\u001b[43mcf\u001b[49m\u001b[43m,\u001b[49m\u001b[43m \u001b[49m\u001b[43mh\u001b[49m\u001b[43m,\u001b[49m\u001b[43m \u001b[49m\u001b[43mv\u001b[49m\u001b[43m,\u001b[49m\u001b[43m \u001b[49m\u001b[43mK\u001b[49m\u001b[43m)\u001b[49m \u001b[38;5;28;01mfor\u001b[39;00m cf \u001b[38;5;129;01min\u001b[39;00m f ]\n\u001b[1;32m    961\u001b[0m cfg \u001b[38;5;241m=\u001b[39m [ dmp_quo(cg, h, v, K) \u001b[38;5;28;01mfor\u001b[39;00m cg \u001b[38;5;129;01min\u001b[39;00m g ]\n\u001b[1;32m    963\u001b[0m \u001b[38;5;28;01mreturn\u001b[39;00m [h], cff, cfg\n",
      "File \u001b[0;32m~/.local/lib/python3.10/site-packages/sympy/polys/densearith.py:1671\u001b[0m, in \u001b[0;36mdmp_quo\u001b[0;34m(f, g, u, K)\u001b[0m\n\u001b[1;32m   1653\u001b[0m \u001b[38;5;28;01mdef\u001b[39;00m \u001b[38;5;21mdmp_quo\u001b[39m(f, g, u, K):\n\u001b[1;32m   1654\u001b[0m \u001b[38;5;250m    \u001b[39m\u001b[38;5;124;03m\"\"\"\u001b[39;00m\n\u001b[1;32m   1655\u001b[0m \u001b[38;5;124;03m    Returns exact polynomial quotient in ``K[X]``.\u001b[39;00m\n\u001b[1;32m   1656\u001b[0m \n\u001b[0;32m   (...)\u001b[0m\n\u001b[1;32m   1669\u001b[0m \n\u001b[1;32m   1670\u001b[0m \u001b[38;5;124;03m    \"\"\"\u001b[39;00m\n\u001b[0;32m-> 1671\u001b[0m     \u001b[38;5;28;01mreturn\u001b[39;00m \u001b[43mdmp_div\u001b[49m\u001b[43m(\u001b[49m\u001b[43mf\u001b[49m\u001b[43m,\u001b[49m\u001b[43m \u001b[49m\u001b[43mg\u001b[49m\u001b[43m,\u001b[49m\u001b[43m \u001b[49m\u001b[43mu\u001b[49m\u001b[43m,\u001b[49m\u001b[43m \u001b[49m\u001b[43mK\u001b[49m\u001b[43m)\u001b[49m[\u001b[38;5;241m0\u001b[39m]\n",
      "File \u001b[0;32m~/.local/lib/python3.10/site-packages/sympy/polys/densearith.py:1627\u001b[0m, in \u001b[0;36mdmp_div\u001b[0;34m(f, g, u, K)\u001b[0m\n\u001b[1;32m   1609\u001b[0m \u001b[38;5;250m\u001b[39m\u001b[38;5;124;03m\"\"\"\u001b[39;00m\n\u001b[1;32m   1610\u001b[0m \u001b[38;5;124;03mPolynomial division with remainder in ``K[X]``.\u001b[39;00m\n\u001b[1;32m   1611\u001b[0m \n\u001b[0;32m   (...)\u001b[0m\n\u001b[1;32m   1624\u001b[0m \n\u001b[1;32m   1625\u001b[0m \u001b[38;5;124;03m\"\"\"\u001b[39;00m\n\u001b[1;32m   1626\u001b[0m \u001b[38;5;28;01mif\u001b[39;00m K\u001b[38;5;241m.\u001b[39mis_Field:\n\u001b[0;32m-> 1627\u001b[0m     \u001b[38;5;28;01mreturn\u001b[39;00m \u001b[43mdmp_ff_div\u001b[49m\u001b[43m(\u001b[49m\u001b[43mf\u001b[49m\u001b[43m,\u001b[49m\u001b[43m \u001b[49m\u001b[43mg\u001b[49m\u001b[43m,\u001b[49m\u001b[43m \u001b[49m\u001b[43mu\u001b[49m\u001b[43m,\u001b[49m\u001b[43m \u001b[49m\u001b[43mK\u001b[49m\u001b[43m)\u001b[49m\n\u001b[1;32m   1628\u001b[0m \u001b[38;5;28;01melse\u001b[39;00m:\n\u001b[1;32m   1629\u001b[0m     \u001b[38;5;28;01mreturn\u001b[39;00m dmp_rr_div(f, g, u, K)\n",
      "File \u001b[0;32m~/.local/lib/python3.10/site-packages/sympy/polys/densearith.py:1502\u001b[0m, in \u001b[0;36mdmp_ff_div\u001b[0;34m(f, g, u, K)\u001b[0m\n\u001b[1;32m   1499\u001b[0m j \u001b[38;5;241m=\u001b[39m dr \u001b[38;5;241m-\u001b[39m dg\n\u001b[1;32m   1501\u001b[0m q \u001b[38;5;241m=\u001b[39m dmp_add_term(q, c, j, u, K)\n\u001b[0;32m-> 1502\u001b[0m h \u001b[38;5;241m=\u001b[39m \u001b[43mdmp_mul_term\u001b[49m\u001b[43m(\u001b[49m\u001b[43mg\u001b[49m\u001b[43m,\u001b[49m\u001b[43m \u001b[49m\u001b[43mc\u001b[49m\u001b[43m,\u001b[49m\u001b[43m \u001b[49m\u001b[43mj\u001b[49m\u001b[43m,\u001b[49m\u001b[43m \u001b[49m\u001b[43mu\u001b[49m\u001b[43m,\u001b[49m\u001b[43m \u001b[49m\u001b[43mK\u001b[49m\u001b[43m)\u001b[49m\n\u001b[1;32m   1503\u001b[0m r \u001b[38;5;241m=\u001b[39m dmp_sub(r, h, u, K)\n\u001b[1;32m   1505\u001b[0m _dr, dr \u001b[38;5;241m=\u001b[39m dr, dmp_degree(r, u)\n",
      "File \u001b[0;32m~/.local/lib/python3.10/site-packages/sympy/polys/densearith.py:184\u001b[0m, in \u001b[0;36mdmp_mul_term\u001b[0;34m(f, c, i, u, K)\u001b[0m\n\u001b[1;32m    182\u001b[0m     \u001b[38;5;28;01mreturn\u001b[39;00m dmp_zero(u)\n\u001b[1;32m    183\u001b[0m \u001b[38;5;28;01melse\u001b[39;00m:\n\u001b[0;32m--> 184\u001b[0m     \u001b[38;5;28;01mreturn\u001b[39;00m [ dmp_mul(cf, c, v, K) \u001b[38;5;28;01mfor\u001b[39;00m cf \u001b[38;5;129;01min\u001b[39;00m f ] \u001b[38;5;241m+\u001b[39m dmp_zeros(i, v, K)\n",
      "File \u001b[0;32m~/.local/lib/python3.10/site-packages/sympy/polys/densearith.py:184\u001b[0m, in \u001b[0;36m<listcomp>\u001b[0;34m(.0)\u001b[0m\n\u001b[1;32m    182\u001b[0m     \u001b[38;5;28;01mreturn\u001b[39;00m dmp_zero(u)\n\u001b[1;32m    183\u001b[0m \u001b[38;5;28;01melse\u001b[39;00m:\n\u001b[0;32m--> 184\u001b[0m     \u001b[38;5;28;01mreturn\u001b[39;00m [ \u001b[43mdmp_mul\u001b[49m\u001b[43m(\u001b[49m\u001b[43mcf\u001b[49m\u001b[43m,\u001b[49m\u001b[43m \u001b[49m\u001b[43mc\u001b[49m\u001b[43m,\u001b[49m\u001b[43m \u001b[49m\u001b[43mv\u001b[49m\u001b[43m,\u001b[49m\u001b[43m \u001b[49m\u001b[43mK\u001b[49m\u001b[43m)\u001b[49m \u001b[38;5;28;01mfor\u001b[39;00m cf \u001b[38;5;129;01min\u001b[39;00m f ] \u001b[38;5;241m+\u001b[39m dmp_zeros(i, v, K)\n",
      "File \u001b[0;32m~/.local/lib/python3.10/site-packages/sympy/polys/densearith.py:828\u001b[0m, in \u001b[0;36mdmp_mul\u001b[0;34m(f, g, u, K)\u001b[0m\n\u001b[1;32m    825\u001b[0m     coeff \u001b[38;5;241m=\u001b[39m dmp_zero(v)\n\u001b[1;32m    827\u001b[0m     \u001b[38;5;28;01mfor\u001b[39;00m j \u001b[38;5;129;01min\u001b[39;00m \u001b[38;5;28mrange\u001b[39m(\u001b[38;5;28mmax\u001b[39m(\u001b[38;5;241m0\u001b[39m, i \u001b[38;5;241m-\u001b[39m dg), \u001b[38;5;28mmin\u001b[39m(df, i) \u001b[38;5;241m+\u001b[39m \u001b[38;5;241m1\u001b[39m):\n\u001b[0;32m--> 828\u001b[0m         coeff \u001b[38;5;241m=\u001b[39m dmp_add(coeff, \u001b[43mdmp_mul\u001b[49m\u001b[43m(\u001b[49m\u001b[43mf\u001b[49m\u001b[43m[\u001b[49m\u001b[43mj\u001b[49m\u001b[43m]\u001b[49m\u001b[43m,\u001b[49m\u001b[43m \u001b[49m\u001b[43mg\u001b[49m\u001b[43m[\u001b[49m\u001b[43mi\u001b[49m\u001b[43m \u001b[49m\u001b[38;5;241;43m-\u001b[39;49m\u001b[43m \u001b[49m\u001b[43mj\u001b[49m\u001b[43m]\u001b[49m\u001b[43m,\u001b[49m\u001b[43m \u001b[49m\u001b[43mv\u001b[49m\u001b[43m,\u001b[49m\u001b[43m \u001b[49m\u001b[43mK\u001b[49m\u001b[43m)\u001b[49m, v, K)\n\u001b[1;32m    830\u001b[0m     h\u001b[38;5;241m.\u001b[39mappend(coeff)\n\u001b[1;32m    832\u001b[0m \u001b[38;5;28;01mreturn\u001b[39;00m dmp_strip(h, u)\n",
      "File \u001b[0;32m~/.local/lib/python3.10/site-packages/sympy/polys/densearith.py:828\u001b[0m, in \u001b[0;36mdmp_mul\u001b[0;34m(f, g, u, K)\u001b[0m\n\u001b[1;32m    825\u001b[0m     coeff \u001b[38;5;241m=\u001b[39m dmp_zero(v)\n\u001b[1;32m    827\u001b[0m     \u001b[38;5;28;01mfor\u001b[39;00m j \u001b[38;5;129;01min\u001b[39;00m \u001b[38;5;28mrange\u001b[39m(\u001b[38;5;28mmax\u001b[39m(\u001b[38;5;241m0\u001b[39m, i \u001b[38;5;241m-\u001b[39m dg), \u001b[38;5;28mmin\u001b[39m(df, i) \u001b[38;5;241m+\u001b[39m \u001b[38;5;241m1\u001b[39m):\n\u001b[0;32m--> 828\u001b[0m         coeff \u001b[38;5;241m=\u001b[39m dmp_add(coeff, \u001b[43mdmp_mul\u001b[49m\u001b[43m(\u001b[49m\u001b[43mf\u001b[49m\u001b[43m[\u001b[49m\u001b[43mj\u001b[49m\u001b[43m]\u001b[49m\u001b[43m,\u001b[49m\u001b[43m \u001b[49m\u001b[43mg\u001b[49m\u001b[43m[\u001b[49m\u001b[43mi\u001b[49m\u001b[43m \u001b[49m\u001b[38;5;241;43m-\u001b[39;49m\u001b[43m \u001b[49m\u001b[43mj\u001b[49m\u001b[43m]\u001b[49m\u001b[43m,\u001b[49m\u001b[43m \u001b[49m\u001b[43mv\u001b[49m\u001b[43m,\u001b[49m\u001b[43m \u001b[49m\u001b[43mK\u001b[49m\u001b[43m)\u001b[49m, v, K)\n\u001b[1;32m    830\u001b[0m     h\u001b[38;5;241m.\u001b[39mappend(coeff)\n\u001b[1;32m    832\u001b[0m \u001b[38;5;28;01mreturn\u001b[39;00m dmp_strip(h, u)\n",
      "    \u001b[0;31m[... skipping similar frames: dmp_mul at line 828 (16 times)]\u001b[0m\n",
      "File \u001b[0;32m~/.local/lib/python3.10/site-packages/sympy/polys/densearith.py:828\u001b[0m, in \u001b[0;36mdmp_mul\u001b[0;34m(f, g, u, K)\u001b[0m\n\u001b[1;32m    825\u001b[0m     coeff \u001b[38;5;241m=\u001b[39m dmp_zero(v)\n\u001b[1;32m    827\u001b[0m     \u001b[38;5;28;01mfor\u001b[39;00m j \u001b[38;5;129;01min\u001b[39;00m \u001b[38;5;28mrange\u001b[39m(\u001b[38;5;28mmax\u001b[39m(\u001b[38;5;241m0\u001b[39m, i \u001b[38;5;241m-\u001b[39m dg), \u001b[38;5;28mmin\u001b[39m(df, i) \u001b[38;5;241m+\u001b[39m \u001b[38;5;241m1\u001b[39m):\n\u001b[0;32m--> 828\u001b[0m         coeff \u001b[38;5;241m=\u001b[39m dmp_add(coeff, \u001b[43mdmp_mul\u001b[49m\u001b[43m(\u001b[49m\u001b[43mf\u001b[49m\u001b[43m[\u001b[49m\u001b[43mj\u001b[49m\u001b[43m]\u001b[49m\u001b[43m,\u001b[49m\u001b[43m \u001b[49m\u001b[43mg\u001b[49m\u001b[43m[\u001b[49m\u001b[43mi\u001b[49m\u001b[43m \u001b[49m\u001b[38;5;241;43m-\u001b[39;49m\u001b[43m \u001b[49m\u001b[43mj\u001b[49m\u001b[43m]\u001b[49m\u001b[43m,\u001b[49m\u001b[43m \u001b[49m\u001b[43mv\u001b[49m\u001b[43m,\u001b[49m\u001b[43m \u001b[49m\u001b[43mK\u001b[49m\u001b[43m)\u001b[49m, v, K)\n\u001b[1;32m    830\u001b[0m     h\u001b[38;5;241m.\u001b[39mappend(coeff)\n\u001b[1;32m    832\u001b[0m \u001b[38;5;28;01mreturn\u001b[39;00m dmp_strip(h, u)\n",
      "File \u001b[0;32m~/.local/lib/python3.10/site-packages/sympy/polys/densearith.py:807\u001b[0m, in \u001b[0;36mdmp_mul\u001b[0;34m(f, g, u, K)\u001b[0m\n\u001b[1;32m    793\u001b[0m \u001b[38;5;250m\u001b[39m\u001b[38;5;124;03m\"\"\"\u001b[39;00m\n\u001b[1;32m    794\u001b[0m \u001b[38;5;124;03mMultiply dense polynomials in ``K[X]``.\u001b[39;00m\n\u001b[1;32m    795\u001b[0m \n\u001b[0;32m   (...)\u001b[0m\n\u001b[1;32m    804\u001b[0m \n\u001b[1;32m    805\u001b[0m \u001b[38;5;124;03m\"\"\"\u001b[39;00m\n\u001b[1;32m    806\u001b[0m \u001b[38;5;28;01mif\u001b[39;00m \u001b[38;5;129;01mnot\u001b[39;00m u:\n\u001b[0;32m--> 807\u001b[0m     \u001b[38;5;28;01mreturn\u001b[39;00m \u001b[43mdup_mul\u001b[49m\u001b[43m(\u001b[49m\u001b[43mf\u001b[49m\u001b[43m,\u001b[49m\u001b[43m \u001b[49m\u001b[43mg\u001b[49m\u001b[43m,\u001b[49m\u001b[43m \u001b[49m\u001b[43mK\u001b[49m\u001b[43m)\u001b[49m\n\u001b[1;32m    809\u001b[0m \u001b[38;5;28;01mif\u001b[39;00m f \u001b[38;5;241m==\u001b[39m g:\n\u001b[1;32m    810\u001b[0m     \u001b[38;5;28;01mreturn\u001b[39;00m dmp_sqr(f, u, K)\n",
      "File \u001b[0;32m~/.local/lib/python3.10/site-packages/sympy/polys/densearith.py:767\u001b[0m, in \u001b[0;36mdup_mul\u001b[0;34m(f, g, K)\u001b[0m\n\u001b[1;32m    764\u001b[0m     coeff \u001b[38;5;241m=\u001b[39m K\u001b[38;5;241m.\u001b[39mzero\n\u001b[1;32m    766\u001b[0m     \u001b[38;5;28;01mfor\u001b[39;00m j \u001b[38;5;129;01min\u001b[39;00m \u001b[38;5;28mrange\u001b[39m(\u001b[38;5;28mmax\u001b[39m(\u001b[38;5;241m0\u001b[39m, i \u001b[38;5;241m-\u001b[39m dg), \u001b[38;5;28mmin\u001b[39m(df, i) \u001b[38;5;241m+\u001b[39m \u001b[38;5;241m1\u001b[39m):\n\u001b[0;32m--> 767\u001b[0m         coeff \u001b[38;5;241m+\u001b[39m\u001b[38;5;241m=\u001b[39m \u001b[43mf\u001b[49m\u001b[43m[\u001b[49m\u001b[43mj\u001b[49m\u001b[43m]\u001b[49m\u001b[38;5;241;43m*\u001b[39;49m\u001b[43mg\u001b[49m\u001b[43m[\u001b[49m\u001b[43mi\u001b[49m\u001b[43m \u001b[49m\u001b[38;5;241;43m-\u001b[39;49m\u001b[43m \u001b[49m\u001b[43mj\u001b[49m\u001b[43m]\u001b[49m\n\u001b[1;32m    769\u001b[0m     h\u001b[38;5;241m.\u001b[39mappend(coeff)\n\u001b[1;32m    771\u001b[0m \u001b[38;5;28;01mreturn\u001b[39;00m dup_strip(h)\n",
      "File \u001b[0;32m~/.local/lib/python3.10/site-packages/sympy/external/pythonmpq.py:286\u001b[0m, in \u001b[0;36mPythonMPQ.__mul__\u001b[0;34m(self, other)\u001b[0m\n\u001b[1;32m    283\u001b[0m \u001b[38;5;28;01melse\u001b[39;00m:\n\u001b[1;32m    284\u001b[0m     \u001b[38;5;28;01mreturn\u001b[39;00m \u001b[38;5;28mNotImplemented\u001b[39m\n\u001b[0;32m--> 286\u001b[0m \u001b[38;5;28;01mreturn\u001b[39;00m \u001b[38;5;28;43mself\u001b[39;49m\u001b[38;5;241;43m.\u001b[39;49m\u001b[43m_new\u001b[49m\u001b[43m(\u001b[49m\u001b[43mp\u001b[49m\u001b[43m,\u001b[49m\u001b[43m \u001b[49m\u001b[43mq\u001b[49m\u001b[43m)\u001b[49m\n",
      "File \u001b[0;32m~/.local/lib/python3.10/site-packages/sympy/external/pythonmpq.py:103\u001b[0m, in \u001b[0;36mPythonMPQ._new\u001b[0;34m(cls, numerator, denominator)\u001b[0m\n\u001b[1;32m    100\u001b[0m         denominator \u001b[38;5;241m=\u001b[39m \u001b[38;5;241m-\u001b[39mdenominator\n\u001b[1;32m    101\u001b[0m     \u001b[38;5;28;01mreturn\u001b[39;00m \u001b[38;5;28mcls\u001b[39m\u001b[38;5;241m.\u001b[39m_new(numerator, denominator)\n\u001b[0;32m--> 103\u001b[0m \u001b[38;5;129m@classmethod\u001b[39m\n\u001b[1;32m    104\u001b[0m \u001b[38;5;28;01mdef\u001b[39;00m \u001b[38;5;21m_new\u001b[39m(\u001b[38;5;28mcls\u001b[39m, numerator, denominator):\n\u001b[1;32m    105\u001b[0m \u001b[38;5;250m    \u001b[39m\u001b[38;5;124;03m\"\"\"Construct PythonMPQ efficiently (no checks)\"\"\"\u001b[39;00m\n\u001b[1;32m    106\u001b[0m     obj \u001b[38;5;241m=\u001b[39m \u001b[38;5;28msuper\u001b[39m()\u001b[38;5;241m.\u001b[39m\u001b[38;5;21m__new__\u001b[39m(\u001b[38;5;28mcls\u001b[39m)\n",
      "\u001b[0;31mKeyboardInterrupt\u001b[0m: "
     ]
    }
   ],
   "source": [
    "# Количество чипсатов\n",
    "n = 5\n",
    "\n",
    "# Коэффициент сопротивления\n",
    "C = 1.17\n",
    "m = 0.01  # 10 грамм\n",
    "Jxx, Jyy, Jzz = (0.01, 0.01, 0.007)\n",
    "\n",
    "# Инициализация\n",
    "t, ω, x, y, z, vx, vy, vz, wx, wy, wz, q0, qx, qy, qz = get_params(n)\n",
    "X_ = []\n",
    "for i in range(n):\n",
    "    X_ += [x[i], y[i], z[i], vx[i], vy[i], vz[i], qx[i], qy[i], qz[i], wx[i], wy[i], wz[i]]  # , q0[i]\n",
    "r = [sqrt(x[i]**2 + y[i]**2 + z[i]**2) for i in range(n)]\n",
    "R = [[r[i] if i==j else sqrt((x[i]-x[j])**2 + (y[i]-y[j])**2 + (z[i]-z[j])**2) for i in range(n)] for j in range(n)]\n",
    "# Вытягивание измерений в вектор\n",
    "Y_ = []\n",
    "Y_ += r.copy()\n",
    "for i in range(n):\n",
    "    for j in range(i):\n",
    "        Y_ += [R[i][j]]\n",
    "\n",
    "# Уравнения движения\n",
    "def MyDiff_AeroOn_AttitudeOn_AntennaOff(expr, power: int = 1, vari: any = t):\n",
    "    if power == 0:\n",
    "        return expr\n",
    "    if power == 1:\n",
    "        anw = expr\n",
    "    else:\n",
    "        anw = my_diff(expr, power - 1)\n",
    "    subses = []\n",
    "    for i in range(n):\n",
    "        M = np.zeros(3)\n",
    "        subses += [(Derivative(x[i], t), vx[i])]\n",
    "        subses += [(Derivative(y[i], t), vy[i])]\n",
    "        subses += [(Derivative(z[i], t), vz[i])]\n",
    "        subses += [(Derivative(vx[i], t), -2*ω*vz[i] - C*ρ/m * (v_orb + vy[i])**2 * (qx[i]*qy[i] - q0[i]*qz[i]))]\n",
    "        subses += [(Derivative(vy[i], t), -ω**2*y[i])]\n",
    "        subses += [(Derivative(vz[i], t), 2*ω*vx[i] + 3*ω**2*z[i])]\n",
    "        subses += [(Derivative(q0[i], t), (-wx[i]*qx[i] - wy[i]*qy[i] - wz[i]*qz[i])/2)]\n",
    "        subses += [(Derivative(qx[i], t), (wx[i]*q0[i] + wy[i]*qz[i] - wz[i]*qy[i])/2)]\n",
    "        subses += [(Derivative(qy[i], t), (wy[i]*q0[i] + wz[i]*qx[i] - wx[i]*qz[i])/2)]\n",
    "        subses += [(Derivative(qz[i], t), (wz[i]*q0[i] + wx[i]*qy[i] - wy[i]*qx[i])/2)]\n",
    "        subses += [(Derivative(wx[i], t), (Jyy*wy[i]*wz[i] - Jzz*wy[i]*wz[i] + M[0]) / Jxx)]\n",
    "        subses += [(Derivative(wy[i], t), (-Jxx*wx[i]*wz[i] + Jzz*wx[i]*wz[i] + M[1]) / Jyy)]\n",
    "        subses += [(Derivative(wz[i], t), (Jxx*wx[i]*wy[i] - Jyy*wx[i]*wy[i] + M[2]) / Jzz)]\n",
    "    return anw.diff(vari).subs(subses).simplify() # .simplify()\n",
    "\n",
    "H_2, J_2, J_numb_2, d_2, report_2 = ShauyingObservabilitySufficientCondition(n=n, X_=X_, r=r, Y_=Y_, my_diff=MyDiff_AeroOn_AttitudeOn_AntennaOff, testprint=False)"
   ]
  },
  {
   "cell_type": "markdown",
   "id": "69dd2911-7c04-41e7-92eb-50a199e73bb6",
   "metadata": {},
   "source": [
    "----\n",
    "\n",
    "#### <span style=\"color:#2c3e50\">Наблюдаемость системы</span> <span style=\"color:#00b0b9\">при кубсате строго на круговой орбите,</span> <span style=\"color:#00b0b9\">с аэродинамикой и угловым движением,</span> <span style=\"color:#15cbfc\">антенны анизотропны</span>"
   ]
  },
  {
   "cell_type": "code",
   "execution_count": null,
   "id": "b83ff663-ff27-4f2f-b51b-a339e6307b7c",
   "metadata": {},
   "outputs": [],
   "source": [
    "# Количество чипсатов\n",
    "n = 9\n",
    "\n",
    "# Разложение по антеннам\n",
    "antennas = \"xyz\"\n",
    "print(f\"\\033[1mУ каждого чипсата {len(antennas)} антенн(ы): {antennas}\\033[0m\")\n",
    "\n",
    "# Коэффициент сопротивления\n",
    "C = 1.17\n",
    "m = 0.01  # 10 грамм\n",
    "Jxx, Jyy, Jzz = (0.01, 0.01, 0.007)\n",
    "\n",
    "# Инициализация\n",
    "t, ω, x, y, z, vx, vy, vz, wx, wy, wz, q0, qx, qy, qz = get_params(n)\n",
    "\n",
    "def quat2matrix(q):\n",
    "    return Matrix([[1 - 2*q[2]**2 - 2*q[3]**2, 2*q[1]*q[2] + 2*q[3]*q[0], 2*q[1]*q[3] - 2*q[2]*q[0]],\n",
    "                   [2*q[1]*q[2] - 2*q[3]*q[0], 1 - 2*q[1]**2 - 2*q[3]**2, 2*q[1]*q[3] + 2*q[1]*q[0]],\n",
    "                   [2*q[1]*q[3] + 2*q[2]*q[0], 2*q[2]*q[3] - 2*q[1]*q[0], 1 - 2*q[1]**2 - 2*q[2]**2]])\n",
    "\n",
    "def local_dipol(r: list, r_abs, ind: str, q: list):\n",
    "    r_ = quat2matrix(q) @ Matrix(r)\n",
    "    cos_a = r_[0]*int(ind=='x') + r_[1]*int(ind=='y') + r_[2]*int(ind=='z')\n",
    "    sin_a = sqrt(r_[1]**2 + r_[2]**2)*int(ind=='x') + \\\n",
    "            sqrt(r_[0]**2 + r_[2]**2)*int(ind=='y') + \\\n",
    "            sqrt(r_[0]**2 + r_[1]**2)*int(ind=='z')\n",
    "    return cos(cos_a * pi / 2) / sin_a / r_abs\n",
    "    \n",
    "X_ = []\n",
    "r = []\n",
    "R = []\n",
    "for i in range(n):\n",
    "    X_ += [x[i], y[i], z[i], vx[i], vy[i], vz[i], qx[i], qy[i], qz[i], wx[i], wy[i], wz[i]]  # , q0[i]\n",
    "\n",
    "    # Разложение поступающего сигнала на составляющие:\n",
    "    tmp = sqrt(x[i]**2 + y[i]**2 + z[i]**2)\n",
    "    r += [tmp / sqrt(local_dipol([x[i], y[i], z[i]], tmp, c, [q0[i], qx[i], qy[i], qz[i]])) for c in antennas]\n",
    "for j in range(n):\n",
    "    for i in range(j):\n",
    "        if i == j:\n",
    "            tmp = sqrt(x[i]**2 + y[i]**2 + z[i]**2)\n",
    "            R += [tmp / sqrt(local_dipol([x[i], y[i], z[i]], tmp, c, [q0[i], qx[i], qy[i], qz[i]])) for c in antennas]\n",
    "        else:\n",
    "            tmp = sqrt((x[i]-x[j])**2 + (y[i]-y[j])**2 + (z[i]-z[j])**2)\n",
    "            R += [tmp / sqrt(local_dipol([x[i]-x[j], y[i]-y[j], z[i]-z[j]], tmp, c, [q0[i], qx[i], qy[i], qz[i]])) \\\n",
    "                      / sqrt(local_dipol([x[i]-x[j], y[i]-y[j], z[i]-z[j]], tmp, c, [q0[j], qx[j], qy[j], qz[j]])) for c in antennas]\n",
    "Y_ = R\n",
    "\n",
    "# Уравнения движения\n",
    "def MyDiff_AeroOn_AttitudeOn_AntennaOn(expr, power: int = 1, vari: any = t):\n",
    "    if power == 0:\n",
    "        return expr\n",
    "    if power == 1:\n",
    "        anw = expr\n",
    "    else:\n",
    "        anw = my_diff(expr, power - 1)\n",
    "    subses = []\n",
    "    for i in range(n):\n",
    "        M = np.zeros(3)\n",
    "        subses += [(Derivative(x[i], t), vx[i])]\n",
    "        subses += [(Derivative(y[i], t), vy[i])]\n",
    "        subses += [(Derivative(z[i], t), vz[i])]\n",
    "        subses += [(Derivative(vx[i], t), -2*ω*vz[i] - C*ρ/m * (v_orb + vy[i])**2 * (qx[i]*qy[i] - q0[i]*qz[i]))]\n",
    "        subses += [(Derivative(vy[i], t), -ω**2*y[i])]\n",
    "        subses += [(Derivative(vz[i], t), 2*ω*vx[i] + 3*ω**2*z[i])]\n",
    "        subses += [(Derivative(q0[i], t), (-wx[i]*qx[i] - wy[i]*qy[i] - wz[i]*qz[i])/2)]\n",
    "        subses += [(Derivative(qx[i], t), (wx[i]*q0[i] + wy[i]*qz[i] - wz[i]*qy[i])/2)]\n",
    "        subses += [(Derivative(qy[i], t), (wy[i]*q0[i] + wz[i]*qx[i] - wx[i]*qz[i])/2)]\n",
    "        subses += [(Derivative(qz[i], t), (wz[i]*q0[i] + wx[i]*qy[i] - wy[i]*qx[i])/2)]\n",
    "        subses += [(Derivative(wx[i], t), (Jyy*wy[i]*wz[i] - Jzz*wy[i]*wz[i] + M[0]) / Jxx)]\n",
    "        subses += [(Derivative(wy[i], t), (-Jxx*wx[i]*wz[i] + Jzz*wx[i]*wz[i] + M[1]) / Jyy)]\n",
    "        subses += [(Derivative(wz[i], t), (Jxx*wx[i]*wy[i] - Jyy*wx[i]*wy[i] + M[2]) / Jzz)]\n",
    "    return anw.diff(vari).subs(subses).simplify() # .simplify()\n",
    "\n",
    "H_3_9xy, J_3_9xy, J_numb_3_9xy, d_3_9xy, report_3_9_xyz = ShauyingObservabilitySufficientCondition(n=n, X_=X_, r=r, Y_=Y_, my_diff=MyDiff_AeroOn_AttitudeOn_AntennaOn, testprint=True)\n",
    "report_3_9_xyz = f\"\\033[1mУ каждого чипсата {len(antennas)} антенн(ы): {antennas}\\033[0m\\n\" + report_3_9_xyz"
   ]
  },
  {
   "cell_type": "code",
   "execution_count": 157,
   "id": "b456ff6a-ab84-49e4-8587-4ccd144a4b22",
   "metadata": {},
   "outputs": [
    {
     "name": "stdout",
     "output_type": "stream",
     "text": [
      "\u001b[1mУ каждого чипсата 3 антенн(ы): xyz\u001b[0m\n",
      "\u001b[1mКоличество чипсатов: 9\u001b[0m\n",
      "\n",
      "Неизвестные: n = 108 (на каждый чипсат по 12 параметров)\n",
      "Известные: l = 108\n",
      "∃ производные порядка k = 1.0\n",
      "Размерность матрицы H: (108, 1)\n",
      "Размерность матрицы J: (108, 108)\n",
      "\n",
      "Следующие параметры не должны быть нулевыми:\n",
      "\n",
      "Δ_0 = 0.0\n",
      "\n",
      "\u001b[1mНе выполнено достаточное условие. Нулевой параметр: Δ_0 = 0.0\u001b[0m\n",
      "----------------------------------------------------------------------------------------------------\n",
      "----------------------------------------------------------------------------------------------------\n",
      "\u001b[1mУ каждого чипсата 2 антенн(ы): xy\n",
      "\u001b[0m\u001b[1mКоличество чипсатов: 13\u001b[0m\n",
      "\n",
      "Неизвестные: n = 156 (на каждый чипсат по 12 параметров)\n",
      "Известные: l = 156\n",
      "∃ производные порядка k = 1.0\n",
      "Размерность матрицы H: (156, 1)\n",
      "Размерность матрицы J: (156, 156)\n",
      "\n",
      "Следующие параметры не должны быть нулевыми:\n",
      "\n",
      "Δ_0 = 0.0\n",
      "\n",
      "\u001b[1mНе выполнено достаточное условие. Нулевой параметр: Δ_0 = 0.0\u001b[0m\n"
     ]
    }
   ],
   "source": [
    "# save_reports([report_3_9_xyz, report_3_13_xy], \"AeroOn_AttitudeOn_AntennaOn\")\n",
    "print(read_reports(\"AeroOn_AttitudeOn_AntennaOn\"))"
   ]
  },
  {
   "cell_type": "code",
   "execution_count": null,
   "id": "6a739450-6d35-4e91-b892-8ec5c2fd66b1",
   "metadata": {},
   "outputs": [],
   "source": []
  },
  {
   "cell_type": "code",
   "execution_count": null,
   "id": "ef562975-4d7f-42ea-a1ab-37d11fb4f7db",
   "metadata": {},
   "outputs": [],
   "source": []
  },
  {
   "cell_type": "code",
   "execution_count": null,
   "id": "7e42b65e-01a8-428b-be34-fdbbfb8e3441",
   "metadata": {},
   "outputs": [],
   "source": []
  },
  {
   "cell_type": "code",
   "execution_count": null,
   "id": "a0b8201e-b120-4a97-bd1a-cee949be6f93",
   "metadata": {},
   "outputs": [],
   "source": []
  },
  {
   "cell_type": "code",
   "execution_count": null,
   "id": "761fc58e-76f2-452a-8ec1-0025f724453e",
   "metadata": {},
   "outputs": [],
   "source": []
  },
  {
   "cell_type": "code",
   "execution_count": null,
   "id": "3e396fec-9d70-4280-bb43-cc91c6e9ad1c",
   "metadata": {},
   "outputs": [],
   "source": []
  },
  {
   "cell_type": "markdown",
   "id": "2fb3b845-2d6c-4db2-9722-f1bebacf4d9c",
   "metadata": {},
   "source": [
    "### <span style=\"color:#0ab49a\">Согласно книге</span> <span style=\"color:#A254FC\">Афанасьев В.Н.) Математическая теория конструирования систем управления</span> "
   ]
  },
  {
   "cell_type": "code",
   "execution_count": 114,
   "id": "9558ec13-cd2c-4447-be3b-8a719c2e274f",
   "metadata": {},
   "outputs": [],
   "source": [
    "A_single = Matrix([[0, 0, 0, 1, 0, 0], \n",
    "                   [0, 0, 0, 0, 1, 0],\n",
    "                   [0, 0, 0, 0, 0, 1],\n",
    "                   [0, 0, 0, 0, 0, -2*w],\n",
    "                   [0, -w**2, 0, 0, 0, 0],\n",
    "                   [0, 0, 3*w**2, 2*w, 0, 0]])\n",
    "A_ = Matrix([[A_single if i==j else zeros(6, 6) for j in range(n)] for i in range(n)])"
   ]
  },
  {
   "cell_type": "code",
   "execution_count": null,
   "id": "e2c02577-91cb-4fa4-9183-ca61fcd9c2b8",
   "metadata": {},
   "outputs": [],
   "source": [
    "anw = Matrix.hstack(H_, \n",
    "                    A_.T @ H_, \n",
    "                    A_.T @ A_.T @ H_, \n",
    "                    A_.T @ A_.T @ A_.T @ H_, \n",
    "                    A_.T @ A_.T @ A_.T @ A_.T @ H_, \n",
    "                    A_.T @ A_.T @ A_.T @ A_.T @ A_.T @ H_)\n",
    "shape(anw)"
   ]
  },
  {
   "cell_type": "code",
   "execution_count": 108,
   "id": "466bfce9-bc49-4184-95e3-148f75fda884",
   "metadata": {},
   "outputs": [],
   "source": [
    "Radius_orbit = 6800e3\n",
    "mu = 5.972e24 * 6.67408e-11\n",
    "w_0 = np.sqrt(mu / Radius_orbit ** 3)\n",
    "\n",
    "x0rand = [np.random.uniform(-100, 100) for _ in range(n)]\n",
    "y0rand = [np.random.uniform(-100, 100) for _ in range(n)]\n",
    "z0rand = [np.random.uniform(-100, 100) for _ in range(n)]\n",
    "vx0rand = [np.random.uniform(-1, 1) for _ in range(n)]\n",
    "vy0rand = [np.random.uniform(-1, 1) for _ in range(n)]\n",
    "vz0rand = [np.random.uniform(-1, 1) for _ in range(n)]"
   ]
  },
  {
   "cell_type": "code",
   "execution_count": 109,
   "id": "6015a8e1-b264-4f86-8d28-ac8a742bf6e5",
   "metadata": {},
   "outputs": [],
   "source": [
    "subses = [(w, w_0)]\n",
    "for i in range(n):\n",
    "    subses += [(x[0][i], x0rand[i]), (y[0][i], y0rand[i]), (z[0][i], z0rand[i]), (vx[0][i], vx0rand[i]), (vy[0][i], vy0rand[i]), (vz[0][i], vz0rand[i])]\n",
    "anw_numb = anw.subs(subses)\n",
    "det(anw_numb)"
   ]
  },
  {
   "cell_type": "code",
   "execution_count": 110,
   "id": "c3f2330a-c6e0-4e52-aca0-5abc69fe5a12",
   "metadata": {},
   "outputs": [
    {
     "data": {
      "text/latex": [
       "$\\displaystyle \\left[\\begin{matrix}111.920485834732 & 0.371205798574056 & 0.00408786854282351 & 0 & 0 & 0\\\\115.690689327415 & 0.945571542542173 & 0.00702484508913071 & -7.14198782418648 \\cdot 10^{-5} & -6.89198573440637 \\cdot 10^{-7} & -1.62727028742046 \\cdot 10^{-8}\\\\69.3527105132341 & -0.33995394940928 & 0.00197638505615263 & 0.000640287688750991 & 2.17169867883479 \\cdot 10^{-6} & 1.80664255251497 \\cdot 10^{-8}\\\\220.143810267416 & 1.27720496915373 & 0.010815389498481 & 112.299618896271 & 0.37249172485893 & 0.0040985662016115\\\\56.3423083929516 & 0.543700710847932 & 0.0128373453763167 & 115.690689327415 & 0.945571542542173 & 0.00702484508913071\\\\168.371828254168 & 0.571075913837815 & 0.00475079741361419 & 68.8569993385628 & -0.34282990933196 & 0.0019520313874017\\end{matrix}\\right]$"
      ],
      "text/plain": [
       "Matrix([\n",
       "[111.920485834732, 0.371205798574056, 0.00408786854282351,                    0,                    0,                    0],\n",
       "[115.690689327415, 0.945571542542173, 0.00702484508913071, -7.14198782418648e-5, -6.89198573440637e-7, -1.62727028742046e-8],\n",
       "[69.3527105132341, -0.33995394940928, 0.00197638505615263, 0.000640287688750991,  2.17169867883479e-6,  1.80664255251497e-8],\n",
       "[220.143810267416,  1.27720496915373,   0.010815389498481,     112.299618896271,     0.37249172485893,   0.0040985662016115],\n",
       "[56.3423083929516, 0.543700710847932,  0.0128373453763167,     115.690689327415,    0.945571542542173,  0.00702484508913071],\n",
       "[168.371828254168, 0.571075913837815, 0.00475079741361419,     68.8569993385628,    -0.34282990933196,   0.0019520313874017]])"
      ]
     },
     "execution_count": 110,
     "metadata": {},
     "output_type": "execute_result"
    }
   ],
   "source": [
    "anw_get = anw_numb[:,0:6]\n",
    "anw_get"
   ]
  },
  {
   "cell_type": "code",
   "execution_count": 111,
   "id": "9d56096e-dab1-4ab0-92a2-5aa31c3851b0",
   "metadata": {},
   "outputs": [
    {
     "data": {
      "text/latex": [
       "$\\displaystyle 0.0207281102680228$"
      ],
      "text/plain": [
       "0.0207281102680228"
      ]
     },
     "execution_count": 111,
     "metadata": {},
     "output_type": "execute_result"
    }
   ],
   "source": [
    "det(anw_get)"
   ]
  },
  {
   "cell_type": "markdown",
   "id": "c7a1614d-6815-40ce-9637-0df9a400ccfb",
   "metadata": {},
   "source": [
    "Линейная система с 1 челиком ненаблюдаема"
   ]
  }
 ],
 "metadata": {
  "kernelspec": {
   "display_name": "Python 3 (ipykernel)",
   "language": "python",
   "name": "python3"
  },
  "language_info": {
   "codemirror_mode": {
    "name": "ipython",
    "version": 3
   },
   "file_extension": ".py",
   "mimetype": "text/x-python",
   "name": "python",
   "nbconvert_exporter": "python",
   "pygments_lexer": "ipython3",
   "version": "3.10.12"
  }
 },
 "nbformat": 4,
 "nbformat_minor": 5
}
