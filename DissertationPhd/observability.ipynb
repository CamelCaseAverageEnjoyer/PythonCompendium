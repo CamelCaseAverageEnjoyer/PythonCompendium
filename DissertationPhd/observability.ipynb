{
 "cells": [
  {
   "cell_type": "markdown",
   "id": "0222fe4e-2213-435c-b33e-6afbc4783554",
   "metadata": {},
   "source": [
    "# <span style=\"color:#91299A\">Основа аспирантской диссертации - проблема наблюдаемости системы</span> "
   ]
  },
  {
   "cell_type": "markdown",
   "id": "af80236e-9cce-4c88-b3ca-68225373eda8",
   "metadata": {},
   "source": [
    "![](../storage/banners/7_observability.png)"
   ]
  },
  {
   "cell_type": "markdown",
   "id": "665ee46a-fa0a-4ea7-aaa0-5a3b5d93c5b1",
   "metadata": {},
   "source": [
    "### <span style=\"color:#0ab49a\">Свои</span> <span style=\"color:#A254FC\">догадки</span> "
   ]
  },
  {
   "cell_type": "markdown",
   "id": "e4093b8b-3307-4e8a-b529-c5fa22a1ba61",
   "metadata": {},
   "source": [
    "#### <span style=\"color:#2c3e50\">Попытка вывода симметрии у решения</span> \n",
    "**Частные случаи**"
   ]
  },
  {
   "cell_type": "code",
   "execution_count": 152,
   "id": "0aabb974-60cb-4e7e-81d3-3a2fa14b1a2a",
   "metadata": {},
   "outputs": [],
   "source": [
    "from sympy import *\n",
    "import sympy\n",
    "from cosmetic import *\n",
    "\n",
    "def add_extraname(s, extraname):\n",
    "    return \" \".join([i+extraname for i in s.split()])\n",
    "\n",
    "def get_x_y_z(case: dict, extraname: str = \"\", planar: bool = False, test_xz: bool = False):\n",
    "    x0, y0, z0, vx0, vy0, vz0 = var(add_extraname(s=\"x_0 y_0 z_0 v^x_0 v^y_0 v^z_0\", extraname=extraname))\n",
    "    X0, Y0, Z0, VX0, VY0, VZ0 = var(add_extraname(s=\"X_0 Y_0 Z_0 V^X_0 V^Y_0 V^Z_0\", extraname=extraname))\n",
    "    c, rho, m, M, s, S, v_orb = var(add_extraname(s=\"C rho m M s S v_{orb}\", extraname=extraname))\n",
    "    t, w0 = var(\"t w_0\")\n",
    "\n",
    "    r, R = 3*[None], 3*[None]\n",
    "    \n",
    "    if case['C1 = 0']:\n",
    "        vx0 = - 2 * z0 * w0\n",
    "        VX0 = - 2 * Z0 * w0\n",
    "    if not case['CubeSat motion']:\n",
    "        X0, Y0, Z0, VX0, VY0, VZ0 = [0]*6\n",
    "    if planar:\n",
    "        y0, Y0, vy0, VY0 = [0]*4\n",
    "\n",
    "    for _x0, _y0, _z0, _vx0, _vy0, _vz0, _r, _m, _s in zip((x0, X0), (y0, Y0), (z0, Z0), (vx0, VX0), (vy0, VY0), (vz0, VZ0), \n",
    "                                                           (r, R), (m, M), (s, S)):\n",
    "        C_1 = 2 * _z0 + _vx0 / w0\n",
    "        C_2 = _vz0 / w0\n",
    "        C_3 = -3 * _z0 - 2 * _vx0 / w0\n",
    "        C_4 = _x0 - 2 * _vz0 / w0\n",
    "        C_5 = _vy0 / w0\n",
    "        C_6 = _y0\n",
    "        \n",
    "        tmp = (-t**2 / 2 * c * rho / _m * _s * v_orb**2) if case['Aero'] else 0\n",
    "        \n",
    "        _r[0] = C_4 - 3*C_1*w0*t + 2*C_2*cos(w0*t) -2*C_3*sin(w0*t) + tmp\n",
    "        _r[1] = C_5*sin(w0*t) + C_6*cos(w0*t)\n",
    "        _r[2] = 2*C_1 + C_2*sin(w0*t) + C_3*cos(w0*t)\n",
    "    \n",
    "    return {'w0': w0, 't': t,\n",
    "            'x0': x0, 'y0': y0, 'z0': z0, 'vx0': vx0, 'vy0': vy0, 'vz0': vz0,\n",
    "            'x': r[0], 'y': r[1], 'z': r[2], \n",
    "            'X': R[0], 'Y': R[1], 'Z': R[2]}\n",
    "\n",
    "def get_measurements(case: dict, params: dict):\n",
    "    if case['antenna type'] == 'isotropic':\n",
    "        measurements = [(params['X'] - params['x'])**2 + \n",
    "                        (params['Y'] - params['y'])**2 + \n",
    "                        (params['Z'] - params['z'])**2]\n",
    "\n",
    "    return measurements\n",
    "\n",
    "def get_discrepancy_invert_param(measurements, params: dict, variables: list) -> list:\n",
    "    global counter\n",
    "    subses = []\n",
    "    for v in variables:\n",
    "        subses.append((params[v], -params[v]))\n",
    "\n",
    "    anw = []\n",
    "    for i, m in zip(range(len(measurements)), measurements):\n",
    "        tmp = (m - m.subs(subses)).simplify()\n",
    "        anw.append(tmp)\n",
    "        if isinstance(tmp, sympy.core.numbers.Zero):\n",
    "            print(f\"По параметрам\\033[1m\", *variables, f\"\\033[0mу измерения №{i+1} есть зеркальная симметрия\")\n",
    "            counter *= 2\n",
    "    return anw\n",
    "\n",
    "def print_symmetry_problem_result():\n",
    "    global counter\n",
    "    if counter == 1:\n",
    "        my_print(f\"Решение единственное: {counter}!\", bold=True, color=\"g\")\n",
    "    else:\n",
    "        my_print(f\"Симметричных решений: {counter}\", bold=True, color=\"b\")\n",
    "\n",
    "\n",
    "def calculate_symmetry(motion_case, measurement_case, v_list):\n",
    "    global counter\n",
    "    counter = 1\n",
    "    params = get_x_y_z(case=motion_case)\n",
    "    measurements = get_measurements(case=measurement_case, params=params)\n",
    "    for variables in v_list:\n",
    "        _ = get_discrepancy_invert_param(measurements=measurements, variables=variables, params=params)\n",
    "    print_symmetry_problem_result()"
   ]
  },
  {
   "cell_type": "markdown",
   "id": "fe29321b-0fe9-4605-831e-9b279bf76712",
   "metadata": {},
   "source": [
    "##### 0. Поиск решения\n",
    "> "
   ]
  },
  {
   "cell_type": "code",
   "execution_count": 156,
   "id": "a87df3f7-edef-46d8-b9ad-7388c974b586",
   "metadata": {},
   "outputs": [
    {
     "data": {
      "text/latex": [
       "$\\displaystyle \\left(- \\frac{v^{y w}_{0} \\sin{\\left(t w_{0} \\right)}}{w_{0}} - y^{w}_{0} \\cos{\\left(t w_{0} \\right)}\\right)^{2} + \\left(- \\frac{2 v^{x w}_{0}}{w_{0}} - \\frac{v^{z w}_{0} \\sin{\\left(t w_{0} \\right)}}{w_{0}} - 4 z^{w}_{0} - \\left(- \\frac{2 v^{x w}_{0}}{w_{0}} - 3 z^{w}_{0}\\right) \\cos{\\left(t w_{0} \\right)}\\right)^{2} + \\left(t w_{0} \\left(\\frac{3 v^{x w}_{0}}{w_{0}} + 6 z^{w}_{0}\\right) - \\frac{2 v^{z w}_{0} \\cos{\\left(t w_{0} \\right)}}{w_{0}} + \\frac{2 v^{z w}_{0}}{w_{0}} - x^{w}_{0} + \\left(- \\frac{4 v^{x w}_{0}}{w_{0}} - 6 z^{w}_{0}\\right) \\sin{\\left(t w_{0} \\right)}\\right)^{2}$"
      ],
      "text/plain": [
       "(-v^y_0^w*sin(t*w_0)/w_0 - y_0^w*cos(t*w_0))**2 + (-2*v^x_0^w/w_0 - v^z_0^w*sin(t*w_0)/w_0 - 4*z_0^w - (-2*v^x_0^w/w_0 - 3*z_0^w)*cos(t*w_0))**2 + (t*w_0*(3*v^x_0^w/w_0 + 6*z_0^w) - 2*v^z_0^w*cos(t*w_0)/w_0 + 2*v^z_0^w/w_0 - x_0^w + (-4*v^x_0^w/w_0 - 6*z_0^w)*sin(t*w_0))**2"
      ]
     },
     "execution_count": 156,
     "metadata": {},
     "output_type": "execute_result"
    }
   ],
   "source": [
    "# Инициализация\n",
    "motion_case = {'C1 = 0': False, \n",
    "               'Aero': False,\n",
    "               'CubeSat motion': False}\n",
    "\n",
    "measurement_case = {'antenna type': 'isotropic'}\n",
    "\n",
    "params = get_x_y_z(case=motion_case)\n",
    "measurements = get_measurements(case=measurement_case, params=params)\n",
    "\n",
    "params_wrong = get_x_y_z(case=motion_case, planar=False, extraname=\"^w\")\n",
    "measurements_wrong = get_measurements(case=measurement_case, params=params_wrong)\n",
    "measurements_wrong[0]"
   ]
  },
  {
   "cell_type": "code",
   "execution_count": 162,
   "id": "982dba7d-a329-4ccd-9794-8d5a21c2e2e8",
   "metadata": {},
   "outputs": [
    {
     "data": {
      "text/latex": [
       "$\\displaystyle \\frac{\\left(v^{y}_{0}\\right)^{2} \\sin^{2}{\\left(t w_{0} \\right)}}{w_{0}^{2}} + \\frac{2 v^{y}_{0} y_{0} \\sin{\\left(t w_{0} \\right)} \\cos{\\left(t w_{0} \\right)}}{w_{0}} - \\frac{\\left(v^{y w}_{0}\\right)^{2} \\sin^{2}{\\left(t w_{0} \\right)}}{w_{0}^{2}} - \\frac{2 v^{y w}_{0} y^{w}_{0} \\sin{\\left(t w_{0} \\right)} \\cos{\\left(t w_{0} \\right)}}{w_{0}} + y_{0}^{2} \\cos^{2}{\\left(t w_{0} \\right)} - \\left(y^{w}_{0}\\right)^{2} \\cos^{2}{\\left(t w_{0} \\right)}$"
      ],
      "text/plain": [
       "v^y_0**2*sin(t*w_0)**2/w_0**2 + 2*v^y_0*y_0*sin(t*w_0)*cos(t*w_0)/w_0 - v^y_0^w**2*sin(t*w_0)**2/w_0**2 - 2*v^y_0^w*y_0^w*sin(t*w_0)*cos(t*w_0)/w_0 + y_0**2*cos(t*w_0)**2 - y_0^w**2*cos(t*w_0)**2"
      ]
     },
     "execution_count": 162,
     "metadata": {},
     "output_type": "execute_result"
    }
   ],
   "source": [
    "tmp = measurements[0] - measurements_wrong[0]\n",
    "tmp = tmp.subs([(params_wrong['x0'], params['x0']),\n",
    "                (params_wrong['vx0'], params['vx0']),\n",
    "                (params_wrong['z0'], params['z0']),\n",
    "                (params_wrong['vz0'], params['vz0'])]).expand()\n",
    "tmp"
   ]
  },
  {
   "cell_type": "code",
   "execution_count": 158,
   "id": "f7c68976-8cd2-432c-9e9c-d5f67182e38c",
   "metadata": {},
   "outputs": [
    {
     "ename": "KeyboardInterrupt",
     "evalue": "",
     "output_type": "error",
     "traceback": [
      "\u001b[0;31m---------------------------------------------------------------------------\u001b[0m",
      "\u001b[0;31mKeyboardInterrupt\u001b[0m                         Traceback (most recent call last)",
      "Cell \u001b[0;32mIn[158], line 1\u001b[0m\n\u001b[0;32m----> 1\u001b[0m anw \u001b[38;5;241m=\u001b[39m \u001b[43msolve\u001b[49m\u001b[43m(\u001b[49m\u001b[43mEq\u001b[49m\u001b[43m(\u001b[49m\u001b[43mmeasurements_wrong\u001b[49m\u001b[43m[\u001b[49m\u001b[38;5;241;43m0\u001b[39;49m\u001b[43m]\u001b[49m\u001b[43m,\u001b[49m\u001b[43m \u001b[49m\u001b[43mmeasurements\u001b[49m\u001b[43m[\u001b[49m\u001b[38;5;241;43m0\u001b[39;49m\u001b[43m]\u001b[49m\u001b[43m)\u001b[49m\u001b[43m,\u001b[49m\u001b[43m \u001b[49m\n\u001b[1;32m      2\u001b[0m \u001b[43m            \u001b[49m\u001b[43m[\u001b[49m\u001b[43mparams_wrong\u001b[49m\u001b[43m[\u001b[49m\u001b[38;5;124;43m'\u001b[39;49m\u001b[38;5;124;43mx0\u001b[39;49m\u001b[38;5;124;43m'\u001b[39;49m\u001b[43m]\u001b[49m\u001b[43m,\u001b[49m\u001b[43m \u001b[49m\u001b[43mparams_wrong\u001b[49m\u001b[43m[\u001b[49m\u001b[38;5;124;43m'\u001b[39;49m\u001b[38;5;124;43mz0\u001b[39;49m\u001b[38;5;124;43m'\u001b[39;49m\u001b[43m]\u001b[49m\u001b[43m,\u001b[49m\u001b[43m \u001b[49m\u001b[43mparams_wrong\u001b[49m\u001b[43m[\u001b[49m\u001b[38;5;124;43m'\u001b[39;49m\u001b[38;5;124;43mvx0\u001b[39;49m\u001b[38;5;124;43m'\u001b[39;49m\u001b[43m]\u001b[49m\u001b[43m,\u001b[49m\u001b[43m \u001b[49m\u001b[43mparams_wrong\u001b[49m\u001b[43m[\u001b[49m\u001b[38;5;124;43m'\u001b[39;49m\u001b[38;5;124;43mvz0\u001b[39;49m\u001b[38;5;124;43m'\u001b[39;49m\u001b[43m]\u001b[49m\u001b[43m]\u001b[49m\u001b[43m)\u001b[49m\n",
      "File \u001b[0;32m~/.local/lib/python3.10/site-packages/sympy/solvers/solvers.py:1170\u001b[0m, in \u001b[0;36msolve\u001b[0;34m(f, *symbols, **flags)\u001b[0m\n\u001b[1;32m   1168\u001b[0m         solution \u001b[38;5;241m=\u001b[39m _solve_undetermined(f[\u001b[38;5;241m0\u001b[39m], symbols, flags)\n\u001b[1;32m   1169\u001b[0m     \u001b[38;5;28;01mif\u001b[39;00m \u001b[38;5;129;01mnot\u001b[39;00m solution:\n\u001b[0;32m-> 1170\u001b[0m         solution \u001b[38;5;241m=\u001b[39m \u001b[43m_solve\u001b[49m\u001b[43m(\u001b[49m\u001b[43mf\u001b[49m\u001b[43m[\u001b[49m\u001b[38;5;241;43m0\u001b[39;49m\u001b[43m]\u001b[49m\u001b[43m,\u001b[49m\u001b[43m \u001b[49m\u001b[38;5;241;43m*\u001b[39;49m\u001b[43msymbols\u001b[49m\u001b[43m,\u001b[49m\u001b[43m \u001b[49m\u001b[38;5;241;43m*\u001b[39;49m\u001b[38;5;241;43m*\u001b[39;49m\u001b[43mflags\u001b[49m\u001b[43m)\u001b[49m\n\u001b[1;32m   1171\u001b[0m \u001b[38;5;28;01melse\u001b[39;00m:\n\u001b[1;32m   1172\u001b[0m     linear, solution \u001b[38;5;241m=\u001b[39m _solve_system(f, symbols, \u001b[38;5;241m*\u001b[39m\u001b[38;5;241m*\u001b[39mflags)\n",
      "File \u001b[0;32m~/.local/lib/python3.10/site-packages/sympy/solvers/solvers.py:1365\u001b[0m, in \u001b[0;36m_solve\u001b[0;34m(f, *symbols, **flags)\u001b[0m\n\u001b[1;32m   1363\u001b[0m \u001b[38;5;28;01mfor\u001b[39;00m s \u001b[38;5;129;01min\u001b[39;00m nonlin_s:\n\u001b[1;32m   1364\u001b[0m     \u001b[38;5;28;01mtry\u001b[39;00m:\n\u001b[0;32m-> 1365\u001b[0m         soln \u001b[38;5;241m=\u001b[39m \u001b[43m_solve\u001b[49m\u001b[43m(\u001b[49m\u001b[43mf\u001b[49m\u001b[43m,\u001b[49m\u001b[43m \u001b[49m\u001b[43ms\u001b[49m\u001b[43m,\u001b[49m\u001b[43m \u001b[49m\u001b[38;5;241;43m*\u001b[39;49m\u001b[38;5;241;43m*\u001b[39;49m\u001b[43mflags\u001b[49m\u001b[43m)\u001b[49m\n\u001b[1;32m   1366\u001b[0m         \u001b[38;5;28;01mfor\u001b[39;00m sol \u001b[38;5;129;01min\u001b[39;00m soln:\n\u001b[1;32m   1367\u001b[0m             \u001b[38;5;28;01mif\u001b[39;00m sol[s]\u001b[38;5;241m.\u001b[39mfree_symbols \u001b[38;5;241m&\u001b[39m got_s:\n\u001b[1;32m   1368\u001b[0m                 \u001b[38;5;66;03m# depends on previously solved symbols: ignore\u001b[39;00m\n",
      "File \u001b[0;32m~/.local/lib/python3.10/site-packages/sympy/solvers/solvers.py:1640\u001b[0m, in \u001b[0;36m_solve\u001b[0;34m(f, *symbols, **flags)\u001b[0m\n\u001b[1;32m   1638\u001b[0m hints \u001b[38;5;241m=\u001b[39m (\u001b[38;5;124m'\u001b[39m\u001b[38;5;124mcubics\u001b[39m\u001b[38;5;124m'\u001b[39m, \u001b[38;5;124m'\u001b[39m\u001b[38;5;124mquartics\u001b[39m\u001b[38;5;124m'\u001b[39m, \u001b[38;5;124m'\u001b[39m\u001b[38;5;124mquintics\u001b[39m\u001b[38;5;124m'\u001b[39m)\n\u001b[1;32m   1639\u001b[0m solvers \u001b[38;5;241m=\u001b[39m {h: flags\u001b[38;5;241m.\u001b[39mget(h) \u001b[38;5;28;01mfor\u001b[39;00m h \u001b[38;5;129;01min\u001b[39;00m hints}\n\u001b[0;32m-> 1640\u001b[0m soln \u001b[38;5;241m=\u001b[39m \u001b[43mroots\u001b[49m\u001b[43m(\u001b[49m\u001b[43mpoly\u001b[49m\u001b[43m,\u001b[49m\u001b[43m \u001b[49m\u001b[38;5;241;43m*\u001b[39;49m\u001b[38;5;241;43m*\u001b[39;49m\u001b[43msolvers\u001b[49m\u001b[43m)\u001b[49m\n\u001b[1;32m   1641\u001b[0m \u001b[38;5;28;01mif\u001b[39;00m \u001b[38;5;28msum\u001b[39m(soln\u001b[38;5;241m.\u001b[39mvalues()) \u001b[38;5;241m<\u001b[39m deg:\n\u001b[1;32m   1642\u001b[0m     \u001b[38;5;66;03m# e.g. roots(32*x**5 + 400*x**4 + 2032*x**3 +\u001b[39;00m\n\u001b[1;32m   1643\u001b[0m     \u001b[38;5;66;03m#            5000*x**2 + 6250*x + 3189) -> {}\u001b[39;00m\n\u001b[1;32m   1644\u001b[0m     \u001b[38;5;66;03m# so all_roots is used and RootOf instances are\u001b[39;00m\n\u001b[1;32m   1645\u001b[0m     \u001b[38;5;66;03m# returned *unless* the system is multivariate\u001b[39;00m\n\u001b[1;32m   1646\u001b[0m     \u001b[38;5;66;03m# or high-order EX domain.\u001b[39;00m\n\u001b[1;32m   1647\u001b[0m     \u001b[38;5;28;01mtry\u001b[39;00m:\n",
      "File \u001b[0;32m~/.local/lib/python3.10/site-packages/sympy/polys/polyroots.py:1098\u001b[0m, in \u001b[0;36mroots\u001b[0;34m(f, auto, cubics, trig, quartics, quintics, multiple, filter, predicate, strict, *gens, **flags)\u001b[0m\n\u001b[1;32m   1096\u001b[0m _, factors \u001b[38;5;241m=\u001b[39m Poly(f\u001b[38;5;241m.\u001b[39mas_expr())\u001b[38;5;241m.\u001b[39mfactor_list()\n\u001b[1;32m   1097\u001b[0m \u001b[38;5;28;01mif\u001b[39;00m \u001b[38;5;28mlen\u001b[39m(factors) \u001b[38;5;241m==\u001b[39m \u001b[38;5;241m1\u001b[39m \u001b[38;5;129;01mand\u001b[39;00m f\u001b[38;5;241m.\u001b[39mdegree() \u001b[38;5;241m==\u001b[39m \u001b[38;5;241m2\u001b[39m:\n\u001b[0;32m-> 1098\u001b[0m     \u001b[38;5;28;01mfor\u001b[39;00m r \u001b[38;5;129;01min\u001b[39;00m \u001b[43mroots_quadratic\u001b[49m\u001b[43m(\u001b[49m\u001b[43mf\u001b[49m\u001b[43m)\u001b[49m:\n\u001b[1;32m   1099\u001b[0m         _update_dict(result, zeros, r, \u001b[38;5;241m1\u001b[39m)\n\u001b[1;32m   1100\u001b[0m \u001b[38;5;28;01melse\u001b[39;00m:\n",
      "File \u001b[0;32m~/.local/lib/python3.10/site-packages/sympy/polys/polyroots.py:111\u001b[0m, in \u001b[0;36mroots_quadratic\u001b[0;34m(f)\u001b[0m\n\u001b[1;32m    108\u001b[0m     d \u001b[38;5;241m=\u001b[39m _simplify(d)\n\u001b[1;32m    109\u001b[0m     B \u001b[38;5;241m=\u001b[39m _simplify(B)\n\u001b[0;32m--> 111\u001b[0m D \u001b[38;5;241m=\u001b[39m \u001b[43mfactor_terms\u001b[49m\u001b[43m(\u001b[49m\u001b[43m_sqrt\u001b[49m\u001b[43m(\u001b[49m\u001b[43md\u001b[49m\u001b[43m)\u001b[49m\u001b[38;5;241;43m/\u001b[39;49m\u001b[43mA\u001b[49m\u001b[43m)\u001b[49m\n\u001b[1;32m    112\u001b[0m r0 \u001b[38;5;241m=\u001b[39m B \u001b[38;5;241m-\u001b[39m D\n\u001b[1;32m    113\u001b[0m r1 \u001b[38;5;241m=\u001b[39m B \u001b[38;5;241m+\u001b[39m D\n",
      "File \u001b[0;32m~/.local/lib/python3.10/site-packages/sympy/core/exprtools.py:1267\u001b[0m, in \u001b[0;36mfactor_terms\u001b[0;34m(expr, radical, clear, fraction, sign)\u001b[0m\n\u001b[1;32m   1265\u001b[0m     \u001b[38;5;28;01mreturn\u001b[39;00m rv\n\u001b[1;32m   1266\u001b[0m expr \u001b[38;5;241m=\u001b[39m sympify(expr)\n\u001b[0;32m-> 1267\u001b[0m \u001b[38;5;28;01mreturn\u001b[39;00m \u001b[43mdo\u001b[49m\u001b[43m(\u001b[49m\u001b[43mexpr\u001b[49m\u001b[43m)\u001b[49m\n",
      "File \u001b[0;32m~/.local/lib/python3.10/site-packages/sympy/core/exprtools.py:1263\u001b[0m, in \u001b[0;36mfactor_terms.<locals>.do\u001b[0;34m(expr)\u001b[0m\n\u001b[1;32m   1257\u001b[0m     p \u001b[38;5;241m=\u001b[39m gcd_terms(p,\n\u001b[1;32m   1258\u001b[0m         isprimitive\u001b[38;5;241m=\u001b[39m\u001b[38;5;28;01mTrue\u001b[39;00m,\n\u001b[1;32m   1259\u001b[0m         clear\u001b[38;5;241m=\u001b[39mclear,\n\u001b[1;32m   1260\u001b[0m         fraction\u001b[38;5;241m=\u001b[39mfraction)\u001b[38;5;241m.\u001b[39mxreplace(special)\n\u001b[1;32m   1261\u001b[0m \u001b[38;5;28;01melif\u001b[39;00m p\u001b[38;5;241m.\u001b[39margs:\n\u001b[1;32m   1262\u001b[0m     p \u001b[38;5;241m=\u001b[39m p\u001b[38;5;241m.\u001b[39mfunc(\n\u001b[0;32m-> 1263\u001b[0m         \u001b[38;5;241m*\u001b[39m[do(a) \u001b[38;5;28;01mfor\u001b[39;00m a \u001b[38;5;129;01min\u001b[39;00m p\u001b[38;5;241m.\u001b[39margs])\n\u001b[1;32m   1264\u001b[0m rv \u001b[38;5;241m=\u001b[39m _keep_coeff(cont, p, clear\u001b[38;5;241m=\u001b[39mclear, sign\u001b[38;5;241m=\u001b[39msign)\n\u001b[1;32m   1265\u001b[0m \u001b[38;5;28;01mreturn\u001b[39;00m rv\n",
      "File \u001b[0;32m~/.local/lib/python3.10/site-packages/sympy/core/exprtools.py:1263\u001b[0m, in \u001b[0;36m<listcomp>\u001b[0;34m(.0)\u001b[0m\n\u001b[1;32m   1257\u001b[0m     p \u001b[38;5;241m=\u001b[39m gcd_terms(p,\n\u001b[1;32m   1258\u001b[0m         isprimitive\u001b[38;5;241m=\u001b[39m\u001b[38;5;28;01mTrue\u001b[39;00m,\n\u001b[1;32m   1259\u001b[0m         clear\u001b[38;5;241m=\u001b[39mclear,\n\u001b[1;32m   1260\u001b[0m         fraction\u001b[38;5;241m=\u001b[39mfraction)\u001b[38;5;241m.\u001b[39mxreplace(special)\n\u001b[1;32m   1261\u001b[0m \u001b[38;5;28;01melif\u001b[39;00m p\u001b[38;5;241m.\u001b[39margs:\n\u001b[1;32m   1262\u001b[0m     p \u001b[38;5;241m=\u001b[39m p\u001b[38;5;241m.\u001b[39mfunc(\n\u001b[0;32m-> 1263\u001b[0m         \u001b[38;5;241m*\u001b[39m[\u001b[43mdo\u001b[49m\u001b[43m(\u001b[49m\u001b[43ma\u001b[49m\u001b[43m)\u001b[49m \u001b[38;5;28;01mfor\u001b[39;00m a \u001b[38;5;129;01min\u001b[39;00m p\u001b[38;5;241m.\u001b[39margs])\n\u001b[1;32m   1264\u001b[0m rv \u001b[38;5;241m=\u001b[39m _keep_coeff(cont, p, clear\u001b[38;5;241m=\u001b[39mclear, sign\u001b[38;5;241m=\u001b[39msign)\n\u001b[1;32m   1265\u001b[0m \u001b[38;5;28;01mreturn\u001b[39;00m rv\n",
      "File \u001b[0;32m~/.local/lib/python3.10/site-packages/sympy/core/exprtools.py:1230\u001b[0m, in \u001b[0;36mfactor_terms.<locals>.do\u001b[0;34m(expr)\u001b[0m\n\u001b[1;32m   1227\u001b[0m \u001b[38;5;28;01mif\u001b[39;00m expr\u001b[38;5;241m.\u001b[39mis_Pow \u001b[38;5;129;01mor\u001b[39;00m expr\u001b[38;5;241m.\u001b[39mis_Function \u001b[38;5;129;01mor\u001b[39;00m \\\n\u001b[1;32m   1228\u001b[0m         is_iterable \u001b[38;5;129;01mor\u001b[39;00m \u001b[38;5;129;01mnot\u001b[39;00m \u001b[38;5;28mhasattr\u001b[39m(expr, \u001b[38;5;124m'\u001b[39m\u001b[38;5;124margs_cnc\u001b[39m\u001b[38;5;124m'\u001b[39m):\n\u001b[1;32m   1229\u001b[0m     args \u001b[38;5;241m=\u001b[39m expr\u001b[38;5;241m.\u001b[39margs\n\u001b[0;32m-> 1230\u001b[0m     newargs \u001b[38;5;241m=\u001b[39m \u001b[38;5;28mtuple\u001b[39m([do(i) \u001b[38;5;28;01mfor\u001b[39;00m i \u001b[38;5;129;01min\u001b[39;00m args])\n\u001b[1;32m   1231\u001b[0m     \u001b[38;5;28;01mif\u001b[39;00m newargs \u001b[38;5;241m==\u001b[39m args:\n\u001b[1;32m   1232\u001b[0m         \u001b[38;5;28;01mreturn\u001b[39;00m expr\n",
      "File \u001b[0;32m~/.local/lib/python3.10/site-packages/sympy/core/exprtools.py:1230\u001b[0m, in \u001b[0;36m<listcomp>\u001b[0;34m(.0)\u001b[0m\n\u001b[1;32m   1227\u001b[0m \u001b[38;5;28;01mif\u001b[39;00m expr\u001b[38;5;241m.\u001b[39mis_Pow \u001b[38;5;129;01mor\u001b[39;00m expr\u001b[38;5;241m.\u001b[39mis_Function \u001b[38;5;129;01mor\u001b[39;00m \\\n\u001b[1;32m   1228\u001b[0m         is_iterable \u001b[38;5;129;01mor\u001b[39;00m \u001b[38;5;129;01mnot\u001b[39;00m \u001b[38;5;28mhasattr\u001b[39m(expr, \u001b[38;5;124m'\u001b[39m\u001b[38;5;124margs_cnc\u001b[39m\u001b[38;5;124m'\u001b[39m):\n\u001b[1;32m   1229\u001b[0m     args \u001b[38;5;241m=\u001b[39m expr\u001b[38;5;241m.\u001b[39margs\n\u001b[0;32m-> 1230\u001b[0m     newargs \u001b[38;5;241m=\u001b[39m \u001b[38;5;28mtuple\u001b[39m([\u001b[43mdo\u001b[49m\u001b[43m(\u001b[49m\u001b[43mi\u001b[49m\u001b[43m)\u001b[49m \u001b[38;5;28;01mfor\u001b[39;00m i \u001b[38;5;129;01min\u001b[39;00m args])\n\u001b[1;32m   1231\u001b[0m     \u001b[38;5;28;01mif\u001b[39;00m newargs \u001b[38;5;241m==\u001b[39m args:\n\u001b[1;32m   1232\u001b[0m         \u001b[38;5;28;01mreturn\u001b[39;00m expr\n",
      "File \u001b[0;32m~/.local/lib/python3.10/site-packages/sympy/core/exprtools.py:1257\u001b[0m, in \u001b[0;36mfactor_terms.<locals>.do\u001b[0;34m(expr)\u001b[0m\n\u001b[1;32m   1255\u001b[0m     \u001b[38;5;66;03m# rebuild p not worrying about the order which gcd_terms will fix\u001b[39;00m\n\u001b[1;32m   1256\u001b[0m     p \u001b[38;5;241m=\u001b[39m Add\u001b[38;5;241m.\u001b[39m_from_args(list_args)\n\u001b[0;32m-> 1257\u001b[0m     p \u001b[38;5;241m=\u001b[39m \u001b[43mgcd_terms\u001b[49m\u001b[43m(\u001b[49m\u001b[43mp\u001b[49m\u001b[43m,\u001b[49m\n\u001b[1;32m   1258\u001b[0m \u001b[43m        \u001b[49m\u001b[43misprimitive\u001b[49m\u001b[38;5;241;43m=\u001b[39;49m\u001b[38;5;28;43;01mTrue\u001b[39;49;00m\u001b[43m,\u001b[49m\n\u001b[1;32m   1259\u001b[0m \u001b[43m        \u001b[49m\u001b[43mclear\u001b[49m\u001b[38;5;241;43m=\u001b[39;49m\u001b[43mclear\u001b[49m\u001b[43m,\u001b[49m\n\u001b[1;32m   1260\u001b[0m \u001b[43m        \u001b[49m\u001b[43mfraction\u001b[49m\u001b[38;5;241;43m=\u001b[39;49m\u001b[43mfraction\u001b[49m\u001b[43m)\u001b[49m\u001b[38;5;241m.\u001b[39mxreplace(special)\n\u001b[1;32m   1261\u001b[0m \u001b[38;5;28;01melif\u001b[39;00m p\u001b[38;5;241m.\u001b[39margs:\n\u001b[1;32m   1262\u001b[0m     p \u001b[38;5;241m=\u001b[39m p\u001b[38;5;241m.\u001b[39mfunc(\n\u001b[1;32m   1263\u001b[0m         \u001b[38;5;241m*\u001b[39m[do(a) \u001b[38;5;28;01mfor\u001b[39;00m a \u001b[38;5;129;01min\u001b[39;00m p\u001b[38;5;241m.\u001b[39margs])\n",
      "File \u001b[0;32m~/.local/lib/python3.10/site-packages/sympy/core/exprtools.py:1068\u001b[0m, in \u001b[0;36mgcd_terms\u001b[0;34m(terms, isprimitive, clear, fraction)\u001b[0m\n\u001b[1;32m   1066\u001b[0m     terms \u001b[38;5;241m=\u001b[39m sympify(terms)\n\u001b[1;32m   1067\u001b[0m terms, reps \u001b[38;5;241m=\u001b[39m mask(terms)\n\u001b[0;32m-> 1068\u001b[0m cont, numer, denom \u001b[38;5;241m=\u001b[39m \u001b[43m_gcd_terms\u001b[49m\u001b[43m(\u001b[49m\u001b[43mterms\u001b[49m\u001b[43m,\u001b[49m\u001b[43m \u001b[49m\u001b[43misprimitive\u001b[49m\u001b[43m,\u001b[49m\u001b[43m \u001b[49m\u001b[43mfraction\u001b[49m\u001b[43m)\u001b[49m\n\u001b[1;32m   1069\u001b[0m numer \u001b[38;5;241m=\u001b[39m numer\u001b[38;5;241m.\u001b[39mxreplace(reps)\n\u001b[1;32m   1070\u001b[0m coeff, factors \u001b[38;5;241m=\u001b[39m cont\u001b[38;5;241m.\u001b[39mas_coeff_Mul()\n",
      "File \u001b[0;32m~/.local/lib/python3.10/site-packages/sympy/core/exprtools.py:953\u001b[0m, in \u001b[0;36m_gcd_terms\u001b[0;34m(terms, isprimitive, fraction)\u001b[0m\n\u001b[1;32m    950\u001b[0m     cont \u001b[38;5;241m=\u001b[39m cont\u001b[38;5;241m.\u001b[39mgcd(term)\n\u001b[1;32m    952\u001b[0m \u001b[38;5;28;01mfor\u001b[39;00m i, term \u001b[38;5;129;01min\u001b[39;00m \u001b[38;5;28menumerate\u001b[39m(terms):\n\u001b[0;32m--> 953\u001b[0m     terms[i] \u001b[38;5;241m=\u001b[39m \u001b[43mterm\u001b[49m\u001b[38;5;241;43m.\u001b[39;49m\u001b[43mquo\u001b[49m\u001b[43m(\u001b[49m\u001b[43mcont\u001b[49m\u001b[43m)\u001b[49m\n\u001b[1;32m    955\u001b[0m \u001b[38;5;28;01mif\u001b[39;00m fraction:\n\u001b[1;32m    956\u001b[0m     denom \u001b[38;5;241m=\u001b[39m terms[\u001b[38;5;241m0\u001b[39m]\u001b[38;5;241m.\u001b[39mdenom\n",
      "File \u001b[0;32m~/.local/lib/python3.10/site-packages/sympy/core/exprtools.py:868\u001b[0m, in \u001b[0;36mTerm.quo\u001b[0;34m(self, other)\u001b[0m\n\u001b[1;32m    867\u001b[0m \u001b[38;5;28;01mdef\u001b[39;00m \u001b[38;5;21mquo\u001b[39m(\u001b[38;5;28mself\u001b[39m, other):  \u001b[38;5;66;03m# Term\u001b[39;00m\n\u001b[0;32m--> 868\u001b[0m     \u001b[38;5;28;01mreturn\u001b[39;00m \u001b[38;5;28mself\u001b[39m\u001b[38;5;241m.\u001b[39mmul(\u001b[43mother\u001b[49m\u001b[38;5;241;43m.\u001b[39;49m\u001b[43minv\u001b[49m\u001b[43m(\u001b[49m\u001b[43m)\u001b[49m)\n",
      "File \u001b[0;32m~/.local/lib/python3.10/site-packages/sympy/core/exprtools.py:865\u001b[0m, in \u001b[0;36mTerm.inv\u001b[0;34m(self)\u001b[0m\n\u001b[1;32m    864\u001b[0m \u001b[38;5;28;01mdef\u001b[39;00m \u001b[38;5;21minv\u001b[39m(\u001b[38;5;28mself\u001b[39m):  \u001b[38;5;66;03m# Term\u001b[39;00m\n\u001b[0;32m--> 865\u001b[0m     \u001b[38;5;28;01mreturn\u001b[39;00m Term(\u001b[38;5;241;43m1\u001b[39;49m\u001b[38;5;241;43m/\u001b[39;49m\u001b[38;5;28;43mself\u001b[39;49m\u001b[38;5;241;43m.\u001b[39;49m\u001b[43mcoeff\u001b[49m, \u001b[38;5;28mself\u001b[39m\u001b[38;5;241m.\u001b[39mdenom, \u001b[38;5;28mself\u001b[39m\u001b[38;5;241m.\u001b[39mnumer)\n",
      "File \u001b[0;32m~/.local/lib/python3.10/site-packages/sympy/core/decorators.py:65\u001b[0m, in \u001b[0;36m__sympifyit.<locals>.__sympifyit_wrapper\u001b[0;34m(a, b)\u001b[0m\n\u001b[1;32m     63\u001b[0m     \u001b[38;5;28;01mif\u001b[39;00m \u001b[38;5;129;01mnot\u001b[39;00m \u001b[38;5;28mhasattr\u001b[39m(b, \u001b[38;5;124m'\u001b[39m\u001b[38;5;124m_op_priority\u001b[39m\u001b[38;5;124m'\u001b[39m):\n\u001b[1;32m     64\u001b[0m         b \u001b[38;5;241m=\u001b[39m sympify(b, strict\u001b[38;5;241m=\u001b[39m\u001b[38;5;28;01mTrue\u001b[39;00m)\n\u001b[0;32m---> 65\u001b[0m     \u001b[38;5;28;01mreturn\u001b[39;00m \u001b[43mfunc\u001b[49m\u001b[43m(\u001b[49m\u001b[43ma\u001b[49m\u001b[43m,\u001b[49m\u001b[43m \u001b[49m\u001b[43mb\u001b[49m\u001b[43m)\u001b[49m\n\u001b[1;32m     66\u001b[0m \u001b[38;5;28;01mexcept\u001b[39;00m SympifyError:\n\u001b[1;32m     67\u001b[0m     \u001b[38;5;28;01mreturn\u001b[39;00m retval\n",
      "File \u001b[0;32m~/.local/lib/python3.10/site-packages/sympy/core/numbers.py:1490\u001b[0m, in \u001b[0;36mRational.__rtruediv__\u001b[0;34m(self, other)\u001b[0m\n\u001b[1;32m   1487\u001b[0m \u001b[38;5;129m@_sympifyit\u001b[39m(\u001b[38;5;124m'\u001b[39m\u001b[38;5;124mother\u001b[39m\u001b[38;5;124m'\u001b[39m, \u001b[38;5;28mNotImplemented\u001b[39m)\n\u001b[1;32m   1488\u001b[0m \u001b[38;5;28;01mdef\u001b[39;00m \u001b[38;5;21m__rtruediv__\u001b[39m(\u001b[38;5;28mself\u001b[39m, other):\n\u001b[1;32m   1489\u001b[0m     \u001b[38;5;28;01mif\u001b[39;00m global_parameters\u001b[38;5;241m.\u001b[39mevaluate:\n\u001b[0;32m-> 1490\u001b[0m         \u001b[38;5;28;01mif\u001b[39;00m \u001b[38;5;28;43misinstance\u001b[39;49m\u001b[43m(\u001b[49m\u001b[43mother\u001b[49m\u001b[43m,\u001b[49m\u001b[43m \u001b[49m\u001b[43mInteger\u001b[49m\u001b[43m)\u001b[49m:\n\u001b[1;32m   1491\u001b[0m             \u001b[38;5;28;01mreturn\u001b[39;00m Rational(other\u001b[38;5;241m.\u001b[39mp\u001b[38;5;241m*\u001b[39m\u001b[38;5;28mself\u001b[39m\u001b[38;5;241m.\u001b[39mq, \u001b[38;5;28mself\u001b[39m\u001b[38;5;241m.\u001b[39mp, igcd(\u001b[38;5;28mself\u001b[39m\u001b[38;5;241m.\u001b[39mp, other\u001b[38;5;241m.\u001b[39mp))\n\u001b[1;32m   1492\u001b[0m         \u001b[38;5;28;01melif\u001b[39;00m \u001b[38;5;28misinstance\u001b[39m(other, Rational):\n",
      "\u001b[0;31mKeyboardInterrupt\u001b[0m: "
     ]
    }
   ],
   "source": [
    "anw = solve(Eq(measurements_wrong[0], measurements[0]), \n",
    "            [params_wrong['x0'], params_wrong['z0'], params_wrong['vx0'], params_wrong['vz0']])"
   ]
  },
  {
   "cell_type": "code",
   "execution_count": null,
   "id": "e230a1f0-13fc-44fb-98e1-748898b04830",
   "metadata": {},
   "outputs": [],
   "source": [
    "anw"
   ]
  },
  {
   "cell_type": "markdown",
   "id": "5f611411-35f9-4d8a-a93a-6fc3a04367a0",
   "metadata": {},
   "source": [
    "##### 1. ХКУ, 1к-1ч, изотропные антенны, без определение углового движения\n",
    "> Уравнения ХКУ имеют 4 симметричных решения <br>\n",
    "> Антенны изотропные, но углы не ищутся -> симметрия не уменьшается <br>\n",
    "> Итого: 4 симметричных решения"
   ]
  },
  {
   "cell_type": "code",
   "execution_count": 117,
   "id": "f28e1be0-483b-4ccc-8ad2-764ba6782de9",
   "metadata": {},
   "outputs": [
    {
     "name": "stdout",
     "output_type": "stream",
     "text": [
      "По параметрам\u001b[1m y0 vy0 \u001b[0mу измерения №1 есть зеркальная симметрия\n",
      "По параметрам\u001b[1m x0 z0 vx0 vz0 \u001b[0mу измерения №1 есть зеркальная симметрия\n",
      "\u001b[34m\u001b[1mСимметричных решений: 4\u001b[0m\u001b[0m\n"
     ]
    }
   ],
   "source": [
    "# Инициализация\n",
    "motion_case = {'C1 = 0': False, \n",
    "               'Aero': False,\n",
    "               'CubeSat motion': False}\n",
    "\n",
    "measurement_case = {'antenna type': 'isotropic'}\n",
    "\n",
    "v_list = [['x0'], ['vx0'], ['y0'], ['vy0'], ['z0'], ['vz0'],\n",
    "          ['x0', 'vx0'], ['y0', 'vy0'], ['z0', 'vz0'],\n",
    "          ['x0', 'z0'],\n",
    "          ['x0', 'z0', 'vz0'],\n",
    "          ['x0', 'z0', 'vx0', 'vz0']]\n",
    "\n",
    "calculate_symmetry(motion_case=motion_case, measurement_case=measurement_case, v_list=v_list)"
   ]
  },
  {
   "cell_type": "code",
   "execution_count": 118,
   "id": "0cfcebd5-8ca1-40e6-82a1-3266e4f88d52",
   "metadata": {},
   "outputs": [
    {
     "name": "stdout",
     "output_type": "stream",
     "text": [
      "\u001b[32m\u001b[1mРешение единственное: 1!\u001b[0m\u001b[0m\n"
     ]
    }
   ],
   "source": [
    "# Инициализация\n",
    "motion_case = {'C1 = 0': False, \n",
    "               'Aero': False,\n",
    "               'CubeSat motion': True}\n",
    "\n",
    "measurement_case = {'antenna type': 'isotropic'}\n",
    "\n",
    "v_list = [['x0'], ['vx0'], ['y0'], ['vy0'], ['z0'], ['vz0'],\n",
    "          ['x0', 'vx0'], ['y0', 'vy0'], ['z0', 'vz0'],\n",
    "          ['x0', 'z0'],\n",
    "          ['x0', 'z0', 'vz0'],\n",
    "          ['x0', 'z0', 'vx0', 'vz0']]\n",
    "\n",
    "calculate_symmetry(motion_case=motion_case, measurement_case=measurement_case, v_list=v_list)"
   ]
  },
  {
   "cell_type": "code",
   "execution_count": 119,
   "id": "0a53181c-1b86-4a24-8789-2a4859b3ad16",
   "metadata": {},
   "outputs": [
    {
     "name": "stdout",
     "output_type": "stream",
     "text": [
      "По параметрам\u001b[1m vx0 \u001b[0mу измерения №1 есть зеркальная симметрия\n",
      "По параметрам\u001b[1m y0 vy0 \u001b[0mу измерения №1 есть зеркальная симметрия\n",
      "По параметрам\u001b[1m x0 z0 vz0 \u001b[0mу измерения №1 есть зеркальная симметрия\n",
      "\u001b[34m\u001b[1mСимметричных решений: 8\u001b[0m\u001b[0m\n"
     ]
    }
   ],
   "source": [
    "# Инициализация\n",
    "motion_case = {'C1 = 0': True, \n",
    "               'Aero': False,\n",
    "               'CubeSat motion': False}\n",
    "\n",
    "measurement_case = {'antenna type': 'isotropic'}\n",
    "\n",
    "v_list = [['x0'], ['vx0'], ['y0'], ['vy0'], ['z0'], ['vz0'],\n",
    "          ['x0', 'vx0'], ['y0', 'vy0'], ['z0', 'vz0'],\n",
    "          ['x0', 'z0'],\n",
    "          ['x0', 'z0', 'vz0']]\n",
    "\n",
    "calculate_symmetry(motion_case=motion_case, measurement_case=measurement_case, v_list=v_list)"
   ]
  },
  {
   "cell_type": "code",
   "execution_count": 120,
   "id": "8fb30c8e-8d94-428a-a615-b93573a6243c",
   "metadata": {},
   "outputs": [
    {
     "name": "stdout",
     "output_type": "stream",
     "text": [
      "По параметрам\u001b[1m vx0 \u001b[0mу измерения №1 есть зеркальная симметрия\n",
      "\u001b[34m\u001b[1mСимметричных решений: 2\u001b[0m\u001b[0m\n"
     ]
    }
   ],
   "source": [
    "# Инициализация\n",
    "motion_case = {'C1 = 0': True, \n",
    "               'Aero': False,\n",
    "               'CubeSat motion': True}\n",
    "\n",
    "measurement_case = {'antenna type': 'isotropic'}\n",
    "\n",
    "v_list = [['x0'], ['vx0'], ['y0'], ['vy0'], ['z0'], ['vz0'],\n",
    "          ['x0', 'vx0'], ['y0', 'vy0'], ['z0', 'vz0'],\n",
    "          ['x0', 'z0'],\n",
    "          ['x0', 'z0', 'vz0']]\n",
    "\n",
    "calculate_symmetry(motion_case=motion_case, measurement_case=measurement_case, v_list=v_list)"
   ]
  },
  {
   "cell_type": "markdown",
   "id": "5b456168-c526-4f77-9475-88814557b905",
   "metadata": {},
   "source": [
    "##### 2. ХКУ + аэро, 1к-1ч, изотропные антенны, без определение углового движения\n",
    "> Уравнения ХКУ имеют 4 симметричных решения <br>\n",
    "> Антенны изотропные, но углы не ищутся -> симметрия не уменьшается <br> \n",
    "> Итого: 4 симметричных решения"
   ]
  },
  {
   "cell_type": "code",
   "execution_count": 121,
   "id": "8ae5caad-a1a1-414c-aae3-eb8a8fe02505",
   "metadata": {},
   "outputs": [
    {
     "name": "stdout",
     "output_type": "stream",
     "text": [
      "По параметрам\u001b[1m y0 vy0 \u001b[0mу измерения №1 есть зеркальная симметрия\n",
      "\u001b[34m\u001b[1mСимметричных решений: 2\u001b[0m\u001b[0m\n"
     ]
    }
   ],
   "source": [
    "# Инициализация\n",
    "motion_case = {'C1 = 0': False, \n",
    "               'Aero': True,\n",
    "               'CubeSat motion': False}\n",
    "\n",
    "measurement_case = {'antenna type': 'isotropic'}\n",
    "\n",
    "v_list = [['x0'], ['vx0'], ['y0'], ['vy0'], ['z0'], ['vz0'],\n",
    "          ['x0', 'vx0'], ['y0', 'vy0'], ['z0', 'vz0'],\n",
    "          ['x0', 'z0'],\n",
    "          ['x0', 'z0', 'vz0'],\n",
    "          ['x0', 'z0', 'vx0', 'vz0']]\n",
    "\n",
    "calculate_symmetry(motion_case=motion_case, measurement_case=measurement_case, v_list=v_list)"
   ]
  },
  {
   "cell_type": "code",
   "execution_count": 122,
   "id": "9e0247d8-473e-43a5-8a67-6d4d46e16b50",
   "metadata": {},
   "outputs": [
    {
     "name": "stderr",
     "output_type": "stream",
     "text": [
      "\n",
      "KeyboardInterrupt\n",
      "\n"
     ]
    }
   ],
   "source": [
    "# Инициализация\n",
    "motion_case = {'C1 = 0': False, \n",
    "               'Aero': True,\n",
    "               'CubeSat motion': True}\n",
    "\n",
    "measurement_case = {'antenna type': 'isotropic'}\n",
    "\n",
    "v_list = [['x0'], ['vx0'], ['y0'], ['vy0'], ['z0'], ['vz0'],\n",
    "          ['x0', 'vx0'], ['y0', 'vy0'], ['z0', 'vz0'],\n",
    "          ['x0', 'z0'],\n",
    "          ['x0', 'z0', 'vz0'],\n",
    "          ['x0', 'z0', 'vx0', 'vz0']]\n",
    "\n",
    "calculate_symmetry(motion_case=motion_case, measurement_case=measurement_case, v_list=v_list)"
   ]
  },
  {
   "cell_type": "code",
   "execution_count": 105,
   "id": "ab88e116-a199-47bf-96ad-7d852652b391",
   "metadata": {},
   "outputs": [
    {
     "name": "stdout",
     "output_type": "stream",
     "text": [
      "По параметрам vx0 у измерения №1 есть симметрия\n",
      "По параметрам y0 vy0 у измерения №1 есть симметрия\n",
      "\u001b[34m\u001b[1mСимметричных решений: 4\u001b[0m\u001b[0m\n"
     ]
    }
   ],
   "source": [
    "# Инициализация\n",
    "motion_case = {'C1 = 0': True, \n",
    "               'Aero': True,\n",
    "               'CubeSat motion': False}\n",
    "\n",
    "measurement_case = {'antenna type': 'isotropic'}\n",
    "\n",
    "v_list = [['x0'], ['vx0'], ['y0'], ['vy0'], ['z0'], ['vz0'],\n",
    "          ['x0', 'vx0'], ['y0', 'vy0'], ['z0', 'vz0'],\n",
    "          ['x0', 'z0'],\n",
    "          ['x0', 'z0', 'vz0']]\n",
    "\n",
    "calculate_symmetry(motion_case=motion_case, measurement_case=measurement_case, v_list=v_list)"
   ]
  },
  {
   "cell_type": "code",
   "execution_count": 106,
   "id": "348fa9ba-135c-4bd5-a5db-4f096c06a60a",
   "metadata": {},
   "outputs": [
    {
     "name": "stdout",
     "output_type": "stream",
     "text": [
      "По параметрам vx0 у измерения №1 есть симметрия\n",
      "\u001b[34m\u001b[1mСимметричных решений: 2\u001b[0m\u001b[0m\n"
     ]
    }
   ],
   "source": [
    "# Инициализация\n",
    "motion_case = {'C1 = 0': True, \n",
    "               'Aero': True,\n",
    "               'CubeSat motion': True}\n",
    "\n",
    "measurement_case = {'antenna type': 'isotropic'}\n",
    "\n",
    "v_list = [['x0'], ['vx0'], ['y0'], ['vy0'], ['z0'], ['vz0'],\n",
    "          ['x0', 'vx0'], ['y0', 'vy0'], ['z0', 'vz0'],\n",
    "          ['x0', 'z0'],\n",
    "          ['x0', 'z0', 'vz0']]\n",
    "\n",
    "calculate_symmetry(motion_case=motion_case, measurement_case=measurement_case, v_list=v_list)"
   ]
  },
  {
   "cell_type": "markdown",
   "id": "d6cf3800-4fec-40c1-a19f-4eb41530d889",
   "metadata": {},
   "source": [
    "#### <span style=\"color:#2c3e50\">Минимальное кол-во материнских аппаратов для наблюдаемости</span> "
   ]
  },
  {
   "cell_type": "code",
   "execution_count": 9,
   "id": "03c7bbe2-1e64-439f-aa7b-f13bdc6f2c0b",
   "metadata": {},
   "outputs": [
    {
     "name": "stdout",
     "output_type": "stream",
     "text": [
      "Не нашлось такого количества! Измени параметры\n",
      "Минимальное кол-во материнских аппаратов для наблюдаемости: \u001b[1m-1\u001b[0m\n"
     ]
    }
   ],
   "source": [
    "def get_min_chief_amount(fn: int, motion: str, antenna_config: dict) -> int:\n",
    "    \"\"\"\n",
    "    :param fn: кол-во дочерних КА (НЕ УЧИТЫВАЕТСЯ)\n",
    "    :param motion: По каким координатам ОСК движение КА\n",
    "    :param antenna_config: типы антенн материнских и дочерних КА\n",
    "    :return: Кол-во материнских КА для наблюдаемости на НОО (околокруговые)\n",
    "    \"\"\"\n",
    "    for cn in range(1, 10):\n",
    "        n_symmetry_solution = [1, 1, 1]\n",
    "        ############################\n",
    "        # Увеличение симметричных решений\n",
    "        if antenna_config['c-type'] == \"изотропные\":\n",
    "            for i in range(3):\n",
    "                n_symmetry_solution[i] *= 2\n",
    "        if antenna_config['d-type'] == \"изотропные\":\n",
    "            for i in range(3):\n",
    "                n_symmetry_solution[i] *= 2\n",
    "        \n",
    "        # Уменьшение симметричных решений\n",
    "        if not antenna_config['c-multy-send'] and not antenna_config['d-multy-take']:\n",
    "            if cn == 4:\n",
    "                for i in range(3):\n",
    "                    n_symmetry_solution[i] /= 2\n",
    "        ############################\n",
    "        if sum(n_symmetry_solution) == 3:\n",
    "            return cn\n",
    "    print(\"Не нашлось такого количества! Измени параметры\")\n",
    "    return -1\n",
    "    \n",
    "cn = get_min_chief_amount(fn=1, motion=\"xyz\", \n",
    "                          antenna_config={'c-type': [\"изотропные\"][0], \n",
    "                                          'd-type': [\"изотропные\"][0],\n",
    "                                          'c-multy-send': False,\n",
    "                                          'c-multy-take': False,\n",
    "                                          'd-multy-send': False,\n",
    "                                          'd-multy-take': False,})\n",
    "print(f\"Минимальное кол-во материнских аппаратов для наблюдаемости: \\033[1m{cn}\\033[0m\")"
   ]
  },
  {
   "cell_type": "markdown",
   "id": "7c7f9928-ad4b-45ac-9f5a-0cb1eb164b0a",
   "metadata": {},
   "source": [
    "#### <span style=\"color:#2c3e50\">Закрутка чипсата</span> "
   ]
  },
  {
   "cell_type": "code",
   "execution_count": null,
   "id": "af08da6a-52ee-4791-bbc0-830949643803",
   "metadata": {},
   "outputs": [],
   "source": []
  },
  {
   "cell_type": "markdown",
   "id": "fa32b67b-5e46-4431-a6f7-f11c50f0199d",
   "metadata": {
    "jp-MarkdownHeadingCollapsed": true
   },
   "source": [
    "### <span style=\"color:#0ab49a\">Согласно статье</span> <span style=\"color:#A254FC\">038 (Shauying R.K.) Observability of Nonlinear Systems</span> "
   ]
  },
  {
   "cell_type": "markdown",
   "id": "da7fe0ed-5aa5-49e7-b661-5bfde30733a2",
   "metadata": {},
   "source": [
    "#### <span style=\"color:#2c3e50\">Начало</span> "
   ]
  },
  {
   "cell_type": "code",
   "execution_count": 1,
   "id": "e83aa4df-5722-4bc6-93d5-0322a210870d",
   "metadata": {},
   "outputs": [
    {
     "name": "stdout",
     "output_type": "stream",
     "text": [
      "Высота орбиты: 350 км\n",
      "Период орбиты: 1.52 часов\n",
      "Плотность атмосферы: 2.7797537885625094e-11 кг/м³\n"
     ]
    }
   ],
   "source": [
    "from sympy import *\n",
    "import numpy as np\n",
    "\n",
    "# Общие параметры\n",
    "h_orb = 350e3\n",
    "RadiusEarth = 6371000.\n",
    "Radius_orbit = RadiusEarth + h_orb\n",
    "mu = 398576057600000.06\n",
    "ω_orb = np.sqrt(mu / (Radius_orbit ** 3))\n",
    "v_orb = ω_orb * Radius_orbit\n",
    "\n",
    "# Расчёт плотности атмосферы -> https://www.grc.nasa.gov/www/k-12/airplane/atmosmet.html\n",
    "t = -131.21 + 0.00299 * h_orb\n",
    "p = 2.488 * ((t + 273.1) / 216.6) ** -11.388\n",
    "ρ = p / (0.2869 * (t + 273.1))\n",
    "\n",
    "print(f\"Высота орбиты: {int(h_orb // 1e3)} км\\nПериод орбиты: {round((2*np.pi/ω_orb) / 3600, 2)} часов\\nПлотность атмосферы: {ρ} кг/м³\")"
   ]
  },
  {
   "cell_type": "markdown",
   "id": "e23f1582-78ea-4667-96f7-a845736c1c4d",
   "metadata": {},
   "source": [
    "#### <span style=\"color:#2c3e50\">Алгоритм</span>\n",
    "\n",
    "<span style=\"color:#2b817d\">Примечание:</span>     $km \\geq n$\n",
    "\n",
    "<span style=\"color:#0ab49a\">Согласно статье</span> <span style=\"color:#A254FC\">055 (Yujiro Inowe) On the Observability of Autonomous Nonlinear Systems</span> <span style=\"color:#0ab49a\">надо просто проверить ранг во всём $R^n$!</span>    $rg\\frac{\\partial \\boldsymbol{H}_d}{\\partial \\boldsymbol{x}} (\\boldsymbol{x}) = n \\hskip20px \\forall x \\in R^n,$\n",
    "$$d = n \\frac{n +3}{2}.$$\n",
    "\n",
    "<span style=\"color:#0ab49a\">Согласно статье</span> <span style=\"color:#A254FC\">051 (Andrew J. Whalen) Observability and Controllability of Nonlinear Networks The Role of Symmetry</span> <span style=\"color:#0ab49a\">надо проверить</span> $\\delta(x) = \\frac{|\\sigma_{min}[O^T O]|}{|\\sigma_{max}[O^T O]|}.$"
   ]
  },
  {
   "cell_type": "code",
   "execution_count": 2,
   "id": "9a09675b-63b6-4752-966f-037b5e8d7152",
   "metadata": {},
   "outputs": [],
   "source": [
    "# Функции вспомогательные\n",
    "def matrix_minor(arr: np.ndarray, i: int, j: int) -> float:\n",
    "    return np.linalg.det(np.delete(np.delete(arr,i,axis=0), j, axis=1))\n",
    "        \n",
    "def quat2matrix(L) -> Matrix:\n",
    "    \"\"\"Преобразует единичный кватернион в матрицу поворота\n",
    "    :param q: Кватернион, list длинны 4\n",
    "    :return: Матрица поворота, sympy.Matrix\"\"\"\n",
    "    w, x, y, z = L\n",
    "    A = Matrix(np.eye(3))\n",
    "    A[0, 0] = 1 - 2 * y ** 2 - 2 * z ** 2\n",
    "    A[0, 1] = 2 * x * y + 2 * z * w\n",
    "    A[0, 2] = 2 * x * z - 2 * y * w\n",
    "    A[1, 0] = 2 * x * y - 2 * z * w\n",
    "    A[1, 1] = 1 - 2 * x ** 2 - 2 * z ** 2\n",
    "    A[1, 2] = 2 * y * z + 2 * x * w\n",
    "    A[2, 0] = 2 * x * z + 2 * y * w\n",
    "    A[2, 1] = 2 * y * z - 2 * x * w\n",
    "    A[2, 2] = 1 - 2 * x ** 2 - 2 * y ** 2\n",
    "    return A\n",
    "\n",
    "def local_dipol(r: list, r_abs, ind: str, q: list, distortion=0):\n",
    "    \"\"\"Возвращает усиление антенны полуволногого диполя\n",
    "    :param r: направление на аппарат в орбитальной системе координат (ОСК)\n",
    "    :param r_abs: модуль вектора r (для таких лентяев как йа)\n",
    "    :param ind: ось x/y/z, по которой направлена антенна в собственной системе координат (ССК)\n",
    "    :param q: кватернион поворота ОСК -> ССК\n",
    "    :param distortion: искажение диаграммы направленности (несиммеричность)\"\"\"\n",
    "    r_ = quat2matrix(q) @ Matrix(r)\n",
    "    cos_a = (r_[0]*int(ind=='x') + r_[1]*int(ind=='y') + r_[2]*int(ind=='z'))/r_abs\n",
    "    sin_a = (sqrt(r_[1]**2 + r_[2]**2)*int(ind=='x') + \\\n",
    "             sqrt(r_[0]**2 + r_[2]**2)*int(ind=='y') + \\\n",
    "             sqrt(r_[0]**2 + r_[1]**2)*int(ind=='z'))/r_abs\n",
    "    aside = ((r[1]+r[2])*int(ind=='x') + \\\n",
    "             (r[0]+r[2])*int(ind=='y') + \\\n",
    "             r[2]*int(ind=='z'))/r_abs\n",
    "    return cos(cos_a * pi / 2) / sin_a + distortion * cos_a**2 + distortion * aside\n",
    "\n",
    "def get_vars(name: str, n: int):\n",
    "    \"\"\"Генерит символьные переменные с одинаковым названием и индексами 0...(n-1)\n",
    "    :param name: Название переменных (без учёта индекса)\n",
    "    :param n: Количество переменных\"\"\"\n",
    "    s = \"\"\n",
    "    for i in range(n):\n",
    "        s += f\"{name}_{i} \"\n",
    "    return var(s, real=True)\n",
    "\n",
    "def get_func(name: str, n: int):\n",
    "    \"\"\"Генерит символьные функции с одинаковым названием и индексами 0...(n-1)\n",
    "    :param name: Название функций (без учёта индекса)\n",
    "    :param n: Количество функций\"\"\"\n",
    "    return [Function(f\"{name}_{i}\", real=True)(t) for i in range(n)]\n",
    "\n",
    "def get_params(n: int):\n",
    "    \"\"\"Экспресс-инициализация переменных и функций для исследования критериев наблюдаемости\n",
    "    :param n: Количество чипсатов, кинематические параметры которых нужно найти/оценить\"\"\"\n",
    "    t, ω = var(\"t ω\", real=True)\n",
    "    r_cube = get_func(f\"r^c\", 3)\n",
    "    v_cube = get_func(f\"v^c\", 3)\n",
    "    x = get_func(f\"x\", n)\n",
    "    y = get_func(f\"y\", n)\n",
    "    z = get_func(f\"z\", n)\n",
    "    vx = get_func(f\"v^x\", n)\n",
    "    vy = get_func(f\"v^y\", n)\n",
    "    vz = get_func(f\"v^z\", n)\n",
    "    wx = get_func(f\"w^x\", n)\n",
    "    wy = get_func(f\"w^y\", n)\n",
    "    wz = get_func(f\"w^z\", n)\n",
    "    q0 = get_func(f\"q^0\", n)\n",
    "    qx = get_func(f\"q^x\", n)\n",
    "    qy = get_func(f\"q^y\", n)\n",
    "    qz = get_func(f\"q^z\", n)\n",
    "    return t, ω, r_cube, v_cube, x, y, z, vx, vy, vz, wx, wy, wz, q0, qx, qy, qz\n",
    "\n",
    "def save_reports(report_list: list, filename: str) -> None:\n",
    "    \"\"\"Сохраняет в компактном виде несколько выводов в один\n",
    "    :param report_list: Строки вывода, запрашиваемые к объединению\n",
    "    :param filename: Название текстовика, в котором будет храниться информация\"\"\"\n",
    "    common_report = report_list[0]\n",
    "    for i in range(len(report_list) - 1):\n",
    "        common_report += (\"\\n\" + \"-\" * 100)*2 + \"\\n\" + report_list[i + 1]\n",
    "    f = open(\"storage/observability_reoprt_\" + filename + \".txt\", \"w\")\n",
    "    f.write(common_report)\n",
    "    f.close()\n",
    "\n",
    "def read_reports(filename: str) -> str:\n",
    "    \"\"\"Считывает выводы, сохранённые в один файл\n",
    "    :param filename: Название текстовика, в котором хранится информация\"\"\"\n",
    "    f = open(\"storage/observability_reoprt_\" + filename + \".txt\", \"r\")\n",
    "    common_report = f.read()\n",
    "    f.close()\n",
    "    return common_report\n",
    "\n",
    "def print_spectrm_rank(J_numb):\n",
    "    for tol in [1, 1e-1, 1e-2, 1e-3, 1e-4, 1e-5, 1e-6, 1e-7, 1e-8, 1e-9, 1e-10, 1e-11, 1e-12, 1e-13, 1e-14, 1e-15, 1e-20]:\n",
    "        print(f\"Ранг матрицы: {np.linalg.matrix_rank(J_numb, tol=tol)} (tol={tol})\")\n",
    "\n",
    "def SubRandParams(J, n: int, n_x: int, n_y: int, testprint: bool = False):\n",
    "    \"\"\"Берёт матрицу J размером n_x на n_y, подставляет случайные значения\"\"\"\n",
    "    # Генерация случайных параметров движения\n",
    "    s_r = lambda: np.random.uniform(-100, 100)\n",
    "    s_v = lambda: np.random.uniform(-10, 10)\n",
    "    s_w = lambda: np.random.uniform(-1e-4, 1e-4)\n",
    "    q = np.array([s_v() for _ in range(4)])\n",
    "    q /= np.linalg.norm(q)\n",
    "    rand_params = [(ω, ω_orb), (pi, np.pi), \n",
    "                   (r_cube[0], s_r()), (r_cube[1], s_r()), (r_cube[2], s_r()), \n",
    "                   (v_cube[0], s_v()), (v_cube[1], s_v()), (v_cube[2], s_v())]\n",
    "    for i in range(n):\n",
    "        tmp_r = [(x[i], s_r()), (y[i], s_r()), (z[i], s_r())]\n",
    "        tmp_v = [(vx[i], s_v()), (vy[i], s_v()), (vz[i], s_v())]\n",
    "        rand_params += tmp_r + tmp_v + [(wx[i], s_w()), (wy[i], s_w()), (wz[i], s_w()), \n",
    "                                        (q0[i], q[0]), (qx[i], q[1]), (qy[i], q[2]), (qz[i], q[3])]\n",
    "\n",
    "    # Якобиан матрицы наблюдаемости: J[измерение (H), состояние (X)]\n",
    "    J_numb = np.array([[0. for _ in range(n_x)] for _ in range(n_y)])\n",
    "    for i in range(n_y):\n",
    "        if testprint:\n",
    "            print(f\"_J_numb: расчёт строки_: {i+1} / {n_y}\")\n",
    "        for j in range(n_x):\n",
    "            J_numb[i][j] = float(J[i, j].subs(rand_params))\n",
    "    return J_numb"
   ]
  },
  {
   "cell_type": "code",
   "execution_count": 26,
   "id": "11fdce1f-4599-4452-adc8-d642bb22af64",
   "metadata": {},
   "outputs": [],
   "source": [
    "def ShauyingObservabilitySufficientCondition(n: int, X: list, Y: list, my_diff, testprint: bool = False, hand_written_deriv: int = None):\n",
    "    \"\"\"Проверка достаточного условия наблюдаемости системы. Проверка равномерного отношения миноров матрицы наблюдаемости.\n",
    "    :param n: Количество чипсатов\n",
    "    :param X: Список неизвестных параметров, которые необходимо найти\n",
    "    :param Y: Список известных параметров (измерений системы в t₀=0)\n",
    "    :param my_diff: Функция взятия производной по времени\n",
    "    :param testprint: Флаг вывода экстра-информации\"\"\"\n",
    "    report = f\"\\033[1mКоличество чипсатов: {n}\\033[0m\\n\"\n",
    "    print(report)\n",
    "\n",
    "    def LocalPrint(report: str, lcl_txt: str):\n",
    "        report += lcl_txt + \"\\n\"\n",
    "        print(lcl_txt)\n",
    "        return report\n",
    "\n",
    "    # Количество одномоментных измерений\n",
    "    l = len(Y)\n",
    "    # Требуемое количество существующих производных функции измерения\n",
    "    k = int(len(X) // len(Y)) if hand_written_deriv is None else hand_written_deriv\n",
    "    d = len(X) * (len(X) + 3) / 2  / len(Y)\n",
    "    txt = f\"\" if hand_written_deriv is None else f\"\\033[1mВнимание! Рассчитывается не отношение миноров, а ранг расширенного Якобиана\\033[0m\\n\"\n",
    "    report = LocalPrint(report, txt + f\"Неизвестные: n = {len(X)} (на каждый чипсат по {int(len(X) // n)} параметров)\\nИзвестные: l = {l}\\n∃ производные порядка k = {len(X) / len(Y)} (Должна быть целой!)\\nКритерий (055): происзводные порядка {d}\")\n",
    "    \n",
    "    # Матрица наблюдаемости системы\n",
    "    H = Matrix([[Y[0] for ll in range(l)] for kk in range(k)])\n",
    "    H_one_line = []\n",
    "    for kk in range(k):\n",
    "        for ll in range(l):\n",
    "            tmp = Y[ll] if kk == 0 else my_diff(H[kk - 1, ll])\n",
    "            if testprint:\n",
    "                print(f\"_расчёт матрицы H_: k={(kk+1)}/{k}, l={(ll+1)}/{l}\")\n",
    "            H[kk, ll] = tmp\n",
    "            H_one_line += [tmp]\n",
    "    H = Matrix(H_one_line)\n",
    "    report = LocalPrint(report, f\"Размерность матрицы H: {shape(H)}\")\n",
    "\n",
    "    # Якобиан матрицы наблюдаемости: J[измерение (H), состояние (X)]\n",
    "    J = Matrix([[H[i].diff(X[j]) for j in range(len(X))] for i in range(k * l)])\n",
    "    report = LocalPrint(report, f\"Размерность матрицы J: {shape(J)}\")\n",
    "\n",
    "    # Подстановка конкретных значений\n",
    "    J_numb = SubRandParams(J=J, n=n, n_x=len(X), n_y=k*l, testprint=testprint)\n",
    "    _, v, _ = np.linalg.svd(J_numb.T @ J_numb)\n",
    "    report = LocalPrint(report, f\"σₘₙ/σₘₐₓ = {np.min(v)}/{np.max(v)} = {np.min(v) / np.max(v)} | σ>10⁻⁵: {np.sum(v>1e-5)}/{len(v)} (статья 051)\")\n",
    "    # H_H_numb = SubRandParams(J=np.outer(H, H), n=n, n_x=k*l, n_y=k*l, testprint=False)\n",
    "    # _, v, _ = np.linalg.svd(H_H_numb)\n",
    "    # report = LocalPrint(report, f\"σₘₙ/σₘₐₓ = {np.min(v)} / {np.max(v)} = {np.min(v) / np.max(v)} | σ>10⁻⁵: {np.sum(v>1e-5)}/{len(v)} (статья 060)\")\n",
    "    \n",
    "    # Достаточное условие\n",
    "    txt = f\"\\nРанг матрицы: {[np.linalg.matrix_rank(J_numb, tol=tol) for tol in [1e-3, 1e-5, 1e-7, 1e-10, 1e-12, 1e-15]]} (статья 055)\\n\"\n",
    "    txt += f\"Детерминант матрицы: {np.linalg.det(J_numb)}\\n\" if J_numb.shape[0] == J_numb.shape[1] else \"\"\n",
    "    if hand_written_deriv is None:\n",
    "        report = LocalPrint(report, txt + f\"Следующие параметры не должны быть нулевыми:\\n\")\n",
    "        d, Δ, flag, i_min = ([], [], True, -1)\n",
    "        for i in range(len(X)):\n",
    "            tmp = matrix_minor(J_numb, i, i)\n",
    "            d += [tmp if i == 0 else tmp / Δ[-1]]\n",
    "            Δ += [tmp]\n",
    "            report = LocalPrint(report, f\"Δ_{i} = {Δ[-1]}\")\n",
    "        \n",
    "            # Чек наблюдаемости\n",
    "            if flag:\n",
    "                if abs(d[-1]) < 1e-6:\n",
    "                    i_min = i\n",
    "                    flag = False\n",
    "            if not flag:\n",
    "                break\n",
    "    \n",
    "        # Вывод\n",
    "        if flag:\n",
    "            txt = f\"\\n\\033[1mВыполнено достаточное условие! Система наблюдаема\\033[0m\"\n",
    "        else:\n",
    "            in_txt = f\"Δ_{i_min}\" if i_min == 0 else f\"Δ_{i_min} / Δ_{i_min-1}\"\n",
    "            txt = f\"\\n\\033[1mНе выполнено достаточное условие. Нулевой параметр: {in_txt} = {d[i_min]}\\033[0m\"\n",
    "        report = LocalPrint(report, txt)\n",
    "        return H, J, J_numb, Δ, report\n",
    "    report = LocalPrint(report, txt)\n",
    "    return H, J, J_numb, report"
   ]
  },
  {
   "cell_type": "markdown",
   "id": "2521a8c2-9a44-483f-bfa7-5ca6cf0be69a",
   "metadata": {
    "jp-MarkdownHeadingCollapsed": true
   },
   "source": [
    "### <span style=\"color:#00b90e\">Применение алгоритма на примерах</span>\n",
    "\n",
    "#### <span style=\"color:#2c3e50\">Наблюдаемость системы</span> <span style=\"color:#bb4bca\">при кубсате строго на круговой орбите, без аэродинамики и углового движения,</span> <span style=\"color:#e60b9d\">антенны изотропные</span>"
   ]
  },
  {
   "cell_type": "code",
   "execution_count": 27,
   "id": "e1178956-ffa7-4083-9ce1-a9d20508648e",
   "metadata": {},
   "outputs": [],
   "source": [
    "# Уравнения движения\n",
    "def MyDiff_AeroOff_AttitudeOff(expr, power: int = 1):\n",
    "    \"\"\"Функция взятия производной по времени.\n",
    "    Аэродинамика: НЕ УЧИТЫВАЕТСЯ\n",
    "    Угловое движение: НЕ УЧИТЫВАЕТСЯ\n",
    "    :param expr: Выражение, от которого надо взять производную по времени t\n",
    "    :param power: Степень производной\"\"\"\n",
    "    if power == 0:\n",
    "        return expr\n",
    "    if power == 1:\n",
    "        anw = expr\n",
    "    else:\n",
    "        anw = my_diff(expr, power - 1)\n",
    "    subses = []\n",
    "    for i in range(n):\n",
    "        subses += [(Derivative(x[i], t), vx[i])]\n",
    "        subses += [(Derivative(y[i], t), vy[i])]\n",
    "        subses += [(Derivative(z[i], t), vz[i])]\n",
    "        subses += [(Derivative(vx[i], t), -2*ω*vz[i])]\n",
    "        subses += [(Derivative(vy[i], t), -ω**2*y[i])]\n",
    "        subses += [(Derivative(vz[i], t), 2*ω*vx[i] + 3*ω**2*z[i])]\n",
    "    return anw.diff(t).subs(subses).simplify()"
   ]
  },
  {
   "cell_type": "code",
   "execution_count": 39,
   "id": "20eb76e3-f39a-4d8f-9846-bd174f2d6069",
   "metadata": {},
   "outputs": [
    {
     "name": "stdout",
     "output_type": "stream",
     "text": [
      "\u001b[1mКоличество чипсатов: 11\u001b[0m\n",
      "\n",
      "Неизвестные: n = 66 (на каждый чипсат по 6 параметров)\n",
      "Известные: l = 66\n",
      "∃ производные порядка k = 1.0 (Должна быть целой!)\n",
      "Критерий (055): происзводные порядка 34.5\n",
      "Размерность матрицы H: (66, 1)\n",
      "Размерность матрицы J: (66, 66)\n",
      "σₘₙ/σₘₐₓ = 7.684434599837031e-16/11.989042513244367 = 6.409548211500618e-17 | σ>10⁻⁵: 30/66 (статья 051)\n",
      "\n",
      "Ранг матрицы: [30, 30, 30, 30, 30, 30] (статья 055)\n",
      "Детерминант матрицы: 0.0\n",
      "Следующие параметры не должны быть нулевыми:\n",
      "\n",
      "Δ_0 = 0.0\n",
      "\n",
      "\u001b[1mНе выполнено достаточное условие. Нулевой параметр: Δ_0 = 0.0\u001b[0m\n"
     ]
    }
   ],
   "source": [
    "# Количество чипсатов\n",
    "# {1->6, 5->2, 11->1}\n",
    "# {1->4, 3->2, 7->1} без у\n",
    "n = 11\n",
    "\n",
    "# Инициализация переменных\n",
    "t, ω, r_cube, v_cube, x, y, z, vx, vy, vz, wx, wy, wz, q0, qx, qy, qz = get_params(n)\n",
    "\n",
    "# Состояние в начальный момент времени\n",
    "X, Y = ([], [])\n",
    "for i in range(n):\n",
    "    X += [x[i], y[i], z[i], vx[i], vy[i], vz[i]]\n",
    "    # X += [x[i], z[i], vx[i], vz[i]]\n",
    "\n",
    "# Измерения в начальный момент времени\n",
    "for j in range(n):\n",
    "    for i in range(j+1):\n",
    "        if i == j:\n",
    "            Y += [sqrt(x[i]**2 + y[i]**2 + z[i]**2)]\n",
    "        else:\n",
    "            Y += [sqrt((x[i]-x[j])**2 + (y[i]-y[j])**2 + (z[i]-z[j])**2)]\n",
    "\n",
    "H_1, J_1, J_numb_1, d_1, report_1_1 = ShauyingObservabilitySufficientCondition(testprint=False, n=n, X=X, Y=Y, my_diff=MyDiff_AeroOff_AttitudeOff)"
   ]
  },
  {
   "cell_type": "code",
   "execution_count": null,
   "id": "f4b5a3f5-9d96-4635-9730-cf74e685f171",
   "metadata": {},
   "outputs": [],
   "source": [
    "# save_reports([report_1_1, report_1_5, report_1_11], \"AeroOff_AttitudeOff_AntennaOff\")\n",
    "print(read_reports(\"AeroOff_AttitudeOff_AntennaOff\"))"
   ]
  },
  {
   "cell_type": "markdown",
   "id": "52cb6603-814f-41b6-b251-8db167962cb4",
   "metadata": {},
   "source": [
    "----\n",
    "\n",
    "#### <span style=\"color:#2c3e50\">Наблюдаемость системы</span> <span style=\"color:#00b0b9\">при кубсате строго на круговой орбите, с аэродинамикой,</span> <span style=\"color:#bb4bca\">без углового движения,</span> <span style=\"color:#e60b9d\">антенны изотропные</span>"
   ]
  },
  {
   "cell_type": "code",
   "execution_count": 28,
   "id": "8866c45e-c2bb-4ec4-9456-8e80c2534cbb",
   "metadata": {},
   "outputs": [],
   "source": [
    "C = 1.17\n",
    "S = 0.1 ** 2\n",
    "m = 0.01  # 10 грамм\n",
    "\n",
    "# Уравнения движения\n",
    "def MyDiff_AeroOn_AttitudeOff(expr, power: int = 1):\n",
    "    \"\"\"Функция взятия производной по времени.\n",
    "    Аэродинамика: учитывается\n",
    "    Угловое движение: НЕ УЧИТЫВАЕТСЯ\n",
    "    :param expr: Выражение, от которого надо взять производную по времени t\n",
    "    :param power: Степень производной\"\"\"\n",
    "    if power == 0:\n",
    "        return expr\n",
    "    if power == 1:\n",
    "        anw = expr\n",
    "    else:\n",
    "        anw = my_diff(expr, power - 1)\n",
    "    subses = []\n",
    "    for i in range(n):\n",
    "        subses += [(Derivative(x[i], t), vx[i])]\n",
    "        subses += [(Derivative(y[i], t), vy[i])]\n",
    "        subses += [(Derivative(z[i], t), vz[i])]\n",
    "        subses += [(Derivative(vx[i], t), -2*ω*vz[i] - S*C*ρ/m * (v_orb + vy[i])**2)]  # Нет учёта аэродинамики\n",
    "        subses += [(Derivative(vy[i], t), -ω**2*y[i])]\n",
    "        subses += [(Derivative(vz[i], t), 2*ω*vx[i] + 3*ω**2*z[i])]\n",
    "    return anw.diff(t).subs(subses).simplify()"
   ]
  },
  {
   "cell_type": "code",
   "execution_count": 40,
   "id": "8fca3545-b12c-42db-9843-aa1e0c35d3af",
   "metadata": {
    "scrolled": true
   },
   "outputs": [
    {
     "name": "stdout",
     "output_type": "stream",
     "text": [
      "\u001b[1mКоличество чипсатов: 1\u001b[0m\n",
      "\n",
      "Неизвестные: n = 6 (на каждый чипсат по 6 параметров)\n",
      "Известные: l = 1\n",
      "∃ производные порядка k = 6.0 (Должна быть целой!)\n",
      "Критерий (055): происзводные порядка 27.0\n",
      "Размерность матрицы H: (6, 1)\n",
      "Размерность матрицы J: (6, 6)\n",
      "σₘₙ/σₘₐₓ = 5.820990780442059e-18/1.0195921275403392 = 5.709136647106719e-18 | σ>10⁻⁵: 3/6 (статья 051)\n",
      "\n",
      "Ранг матрицы: [3, 4, 4, 6, 6, 6] (статья 055)\n",
      "Детерминант матрицы: 1.1232175608345237e-23\n",
      "Следующие параметры не должны быть нулевыми:\n",
      "\n",
      "Δ_0 = -8.156175146517246e-18\n",
      "\n",
      "\u001b[1mНе выполнено достаточное условие. Нулевой параметр: Δ_0 = -8.156175146517246e-18\u001b[0m\n"
     ]
    }
   ],
   "source": [
    "# Количество чипсатов\n",
    "# {1->6, 5->2, 11->1}\n",
    "# {1->4, 3->2, 7->1} без у\n",
    "n = 1\n",
    "\n",
    "# Инициализация переменных\n",
    "t, ω, r_cube, v_cube, x, y, z, vx, vy, vz, wx, wy, wz, q0, qx, qy, qz = get_params(n)\n",
    "\n",
    "# Состояние в начальный момент времени\n",
    "X, Y = ([], [])\n",
    "for i in range(n):\n",
    "    X += [x[i], y[i], z[i], vx[i], vy[i], vz[i]]\n",
    "    # X += [x[i], z[i], vx[i], vz[i]] \n",
    "\n",
    "# Измерения в начальный момент времени\n",
    "for j in range(n):\n",
    "    for i in range(j+1):\n",
    "        if i == j:\n",
    "            Y += [sqrt(x[i]**2 + y[i]**2 + z[i]**2)]\n",
    "        else:\n",
    "            Y += [sqrt((x[i]-x[j])**2 + (y[i]-y[j])**2 + (z[i]-z[j])**2)]\n",
    "            \n",
    "H_11, J_11, J_numb_11, d_11, report_11_11 = ShauyingObservabilitySufficientCondition(testprint=False, n=n, X=X, Y=Y, my_diff=MyDiff_AeroOn_AttitudeOff)\n",
    "# H_11, J_11, J_numb_11, report_11_11 = ShauyingObservabilitySufficientCondition(testprint=True, hand_written_deriv=8, n=n, X=X, Y=Y, my_diff=MyDiff_AeroOn_AttitudeOff)\n",
    "# report_11_7 = f\"\\033[1mВнимание! Нет учёта компоненты y!\\033[0m\\n\" + report_11_"
   ]
  },
  {
   "cell_type": "code",
   "execution_count": null,
   "id": "e2aeda37-66e8-4f43-aca3-00d8ee577521",
   "metadata": {},
   "outputs": [],
   "source": [
    "# save_reports([report_11_1, report_11_5, report_11_11, report_11_1_, report_11_3_, report_11_7_], \"AeroOn_AttitudeOff_AntennaOff\")\n",
    "print(read_reports(\"AeroOn_AttitudeOff_AntennaOff\"))"
   ]
  },
  {
   "cell_type": "markdown",
   "id": "92dff4a3-868d-42e0-8eca-a1acf2811cb9",
   "metadata": {
    "jp-MarkdownHeadingCollapsed": true
   },
   "source": [
    "----\n",
    "\n",
    "#### <span style=\"color:#2c3e50\">Наблюдаемость системы</span> <span style=\"color:#00b0b9\">при кубсате</span> <span style=\"color:#ed9a00\">не на круговой орбите,</span> <span style=\"color:#00b0b9\">с аэродинамикой,</span> <span style=\"color:#bb4bca\">без углового движения,</span> <span style=\"color:#e60b9d\">антенны изотропные</span>"
   ]
  },
  {
   "cell_type": "code",
   "execution_count": 19,
   "id": "24c2c776-4e59-4548-a7aa-0214331dd65d",
   "metadata": {},
   "outputs": [],
   "source": [
    "C = 1.17\n",
    "S = 0.1 ** 2\n",
    "m = 0.01  # 10 грамм\n",
    "\n",
    "# Уравнения движения\n",
    "def MyDiff_AeroOn_AttitudeOff_WithCubeSat(expr, power: int = 1):\n",
    "    \"\"\"Функция взятия производной по времени.\n",
    "    Аэродинамика: учитывается\n",
    "    Угловое движение: НЕ УЧИТЫВАЕТСЯ\n",
    "    :param expr: Выражение, от которого надо взять производную по времени t\n",
    "    :param power: Степень производной\"\"\"\n",
    "    if power == 0:\n",
    "        return expr\n",
    "    if power == 1:\n",
    "        anw = expr\n",
    "    else:\n",
    "        anw = my_diff(expr, power - 1)\n",
    "    subses = [(Derivative(r_cube[0], t), v_cube[0]), \n",
    "              (Derivative(r_cube[1], t), v_cube[1]), \n",
    "              (Derivative(r_cube[2], t), v_cube[2]),\n",
    "              (Derivative(v_cube[0], t), -2*ω*v_cube[2] - (0.3)**2*C*ρ/10 * (v_orb + v_cube[1])**2),\n",
    "              (Derivative(v_cube[1], t), -ω**2*r_cube[1]),\n",
    "              (Derivative(v_cube[2], t), 2*ω*v_cube[0] + 3*ω**2*r_cube[2])]\n",
    "    for i in range(n):\n",
    "        subses += [(Derivative(x[i], t), vx[i])]\n",
    "        subses += [(Derivative(y[i], t), vy[i])]\n",
    "        subses += [(Derivative(z[i], t), vz[i])]\n",
    "        subses += [(Derivative(vx[i], t), -2*ω*vz[i] - S*C*ρ/m * (v_orb + vy[i])**2)]\n",
    "        subses += [(Derivative(vy[i], t), -ω**2*y[i])]\n",
    "        subses += [(Derivative(vz[i], t), 2*ω*vx[i] + 3*ω**2*z[i])]\n",
    "    return anw.diff(t).subs(subses).simplify()"
   ]
  },
  {
   "cell_type": "code",
   "execution_count": 21,
   "id": "e070b44b-b78f-4983-9e2a-82f06a83b0d8",
   "metadata": {
    "scrolled": true
   },
   "outputs": [
    {
     "name": "stdout",
     "output_type": "stream",
     "text": [
      "\u001b[1mКоличество чипсатов: 1\u001b[0m\n",
      "\n",
      "Неизвестные: n = 6 (на каждый чипсат по 6 параметров)\n",
      "Известные: l = 1\n",
      "∃ производные порядка k = 6.0 (Должна быть целой!)\n",
      "_расчёт матрицы H_: k=1/6, l=1/1\n",
      "_расчёт матрицы H_: k=2/6, l=1/1\n",
      "_расчёт матрицы H_: k=3/6, l=1/1\n"
     ]
    },
    {
     "name": "stderr",
     "output_type": "stream",
     "text": [
      "\n",
      "KeyboardInterrupt\n",
      "\n"
     ]
    }
   ],
   "source": [
    "# Количество чипсатов\n",
    "# {1->6, 5->2, 11->1}\n",
    "# {1->4, 3->2, 7->1} без у\n",
    "n = 1\n",
    "\n",
    "# Инициализация переменных\n",
    "t, ω, r_cube, v_cube, x, y, z, vx, vy, vz, wx, wy, wz, q0, qx, qy, qz = get_params(n)\n",
    "\n",
    "# Состояние в начальный момент времени\n",
    "X, Y = ([], [])\n",
    "for i in range(n):\n",
    "    X += [x[i], z[i], y[i], vx[i], vy[i], vz[i]]\n",
    "    # X += [x[i], z[i], vx[i], vz[i]]\n",
    "\n",
    "# Измерения в начальный момент времени\n",
    "for j in range(n):\n",
    "    for i in range(j+1):\n",
    "        if i == j:\n",
    "            Y += [sqrt((x[i]-r_cube[0])**2 + (y[i]-r_cube[1])**2 + (z[i]-r_cube[2])**2)]\n",
    "            # Y += [sqrt(x[i]**2 + y[i]**2 + z[i]**2)]\n",
    "        else:\n",
    "            Y += [sqrt((x[i]-x[j])**2 + (y[i]-y[j])**2 + (z[i]-z[j])**2)]\n",
    "            \n",
    "H_12, J_12, J_numb_12, d_12, report_12_1 = ShauyingObservabilitySufficientCondition(testprint=True, n=n, X=X, Y=Y, my_diff=MyDiff_AeroOn_AttitudeOff_WithCubeSat)\n",
    "# H_12, J_12, J_numb_12, report_12_ = ShauyingObservabilitySufficientCondition(testprint=True, hand_written_deriv=1, n=n, X=X, Y=Y, my_diff=MyDiff_AeroOn_AttitudeOff_WithCubeSat)\n",
    "# report_12_1 = f\"\\033[1mВнимание! Нет учёта компоненты y!\\033[0m\\n\" + report_12_"
   ]
  },
  {
   "cell_type": "code",
   "execution_count": 49,
   "id": "0240bb85-4d3e-4e0c-9777-d4d50351165a",
   "metadata": {},
   "outputs": [
    {
     "name": "stdout",
     "output_type": "stream",
     "text": [
      "σₘₙ/σₘₐₓ = 1.9901393773271942e-13 / 0.9297096724645358 = 2.1406030681079193e-13 (статья 051)\n"
     ]
    }
   ],
   "source": [
    "_, v, _ = np.linalg.svd(J_numb_12.T @ J_numb_12)\n",
    "print(f\"σₘₙ/σₘₐₓ = {np.min(v)} / {np.max(v)} = {np.min(v) / np.max(v)} (статья 051)\")"
   ]
  },
  {
   "cell_type": "code",
   "execution_count": 48,
   "id": "57847ba5-98dc-4d3a-b266-b52442ee6d12",
   "metadata": {},
   "outputs": [
    {
     "name": "stdout",
     "output_type": "stream",
     "text": [
      "\u001b[1mВнимание! Нет учёта компоненты y!\u001b[0m\n",
      "\u001b[1mКоличество чипсатов: 1\u001b[0m\n",
      "Неизвестные: n = 4 (на каждый чипсат по 4 параметров)\n",
      "Известные: l = 1\n",
      "∃ производные порядка k = 4.0 (Должна быть целой!)\n",
      "Размерность матрицы H: (4, 1)\n",
      "Размерность матрицы J: (4, 4)\n",
      "σₘₙ/σₘₐₓ = 4.459350831250673e-07 / 0.9642145365345494 = 4.62485335190846e-07 (статья 051)\n",
      "\n",
      "Ранг матрицы: [3, 3, 4, 4, 4, 4] (статья 055)\n",
      "Следующие параметры не должны быть нулевыми:\n",
      "\n",
      "Δ_0 = -1.9307937971540438e-05\n",
      "Δ_1 = -0.001404428776027749\n",
      "Δ_2 = 1.992862790753914e-05\n",
      "Δ_3 = 0.006330687609678351\n",
      "\n",
      "\u001b[1mВыполнено достаточное условие! Система наблюдаема\u001b[0m\n",
      "\n",
      "----------------------------------------------------------------------------------------------------\n",
      "----------------------------------------------------------------------------------------------------\n",
      "\u001b[1mКоличество чипсатов: 11\u001b[0m\n",
      "Неизвестные: n = 66 (на каждый чипсат по 6 параметров)\n",
      "Известные: l = 66\n",
      "∃ производные порядка k = 1.0 (Должна быть целой!)\n",
      "Размерность матрицы H: (66, 1)\n",
      "Размерность матрицы J: (66, 66)\n",
      "σₘₙ/σₘₐₓ = 1.1328400811635885e-16 / 3.4392663130228693 = 3.293842285123605e-17 (статья 051)\n",
      "\n",
      "Ранг матрицы: [30, 30, 30, 30, 30, 30] (статья 055)\n",
      "Следующие параметры не должны быть нулевыми:\n",
      "\n",
      "Δ_0 = 0.0\n",
      "\n",
      "\u001b[1mНе выполнено достаточное условие. Нулевой параметр: Δ_0 = 0.0\u001b[0m\n",
      "\n"
     ]
    }
   ],
   "source": [
    "# save_reports([report_12_1, report_12_11], \"AeroOn_AttitudeOff_AntennaOff_WithCubeSat\")\n",
    "print(read_reports(\"AeroOn_AttitudeOff_AntennaOff_WithCubeSat\"))"
   ]
  },
  {
   "cell_type": "markdown",
   "id": "ca57f535-d2f7-4658-8e4e-2be34e49fc83",
   "metadata": {},
   "source": [
    "----\n",
    "\n",
    "#### <span style=\"color:#2c3e50\">Наблюдаемость системы</span> <span style=\"color:#00b0b9\">при кубсате строго на круговой орбите, с аэродинамикой и угловым движением,</span> <span style=\"color:#e60b9d\">антенны изотропные</span>"
   ]
  },
  {
   "cell_type": "code",
   "execution_count": null,
   "id": "19d07ec3-b495-4dcf-b157-3a9e8bec3b75",
   "metadata": {},
   "outputs": [],
   "source": [
    "# Уравнения движения\n",
    "def MyDiff_AeroOn_AttitudeOn(expr, power: int = 1):\n",
    "    \"\"\"Функция взятия производной по времени.\n",
    "    Аэродинамика: учитывается\n",
    "    Угловое движение: учитывается\n",
    "    Примечание: крутящий момент равен 0 (даже гравитационного нет)\n",
    "    :param expr: Выражение, от которого надо взять производную по времени t\n",
    "    :param power: Степень производной\"\"\"\n",
    "    if power == 0:\n",
    "        return expr\n",
    "    if power == 1:\n",
    "        anw = expr\n",
    "    else:\n",
    "        anw = my_diff(expr, power - 1)\n",
    "    subses = []\n",
    "    for i in range(n):\n",
    "        M = np.zeros(3)\n",
    "        subses += [(Derivative(x[i], t), vx[i])]\n",
    "        subses += [(Derivative(y[i], t), vy[i])]\n",
    "        subses += [(Derivative(z[i], t), vz[i])]\n",
    "        subses += [(Derivative(vx[i], t), -2*ω*vz[i] - S*C*ρ/m * (v_orb + vy[i])**2 * (qx[i]*qy[i] - q0[i]*qz[i]))]\n",
    "        subses += [(Derivative(vy[i], t), -ω**2*y[i])]\n",
    "        subses += [(Derivative(vz[i], t), 2*ω*vx[i] + 3*ω**2*z[i])]\n",
    "        subses += [(Derivative(q0[i], t), (-wx[i]*qx[i] - wy[i]*qy[i] - wz[i]*qz[i])/2)]\n",
    "        subses += [(Derivative(qx[i], t), (wx[i]*q0[i] + wy[i]*qz[i] - wz[i]*qy[i])/2)]\n",
    "        subses += [(Derivative(qy[i], t), (wy[i]*q0[i] + wz[i]*qx[i] - wx[i]*qz[i])/2)]\n",
    "        subses += [(Derivative(qz[i], t), (wz[i]*q0[i] + wx[i]*qy[i] - wy[i]*qx[i])/2)]\n",
    "        subses += [(Derivative(wx[i], t), (Jyy*wy[i]*wz[i] - Jzz*wy[i]*wz[i] + M[0]) / Jxx)]\n",
    "        subses += [(Derivative(wy[i], t), (-Jxx*wx[i]*wz[i] + Jzz*wx[i]*wz[i] + M[1]) / Jyy)]\n",
    "        subses += [(Derivative(wz[i], t), (Jxx*wx[i]*wy[i] - Jyy*wx[i]*wy[i] + M[2]) / Jzz)]\n",
    "    return anw.diff(t).subs(subses).simplify()"
   ]
  },
  {
   "cell_type": "code",
   "execution_count": null,
   "id": "c94e93e5-1208-4116-a19e-ec5d4a7cadd7",
   "metadata": {
    "scrolled": true
   },
   "outputs": [],
   "source": [
    "# Количество чипсатов\n",
    "# {1->12, 3->6, 5->4, 7->3, 11->2, 23->1}\n",
    "n = 23\n",
    "\n",
    "# Коэффициент сопротивления\n",
    "C = 1.17\n",
    "S = 0.1 ** 2\n",
    "m = 0.01  # 10 грамм\n",
    "Jxx, Jyy, Jzz = (0.01, 0.01, 0.007)\n",
    "\n",
    "# Инициализация переменных\n",
    "t, ω, r_cube, v_cube, x, y, z, vx, vy, vz, wx, wy, wz, q0, qx, qy, qz = get_params(n)\n",
    "\n",
    "# Состояние в начальный момент времени\n",
    "X, Y = ([], [])\n",
    "for i in range(n):\n",
    "    X += [x[i], y[i], z[i], vx[i], vy[i], vz[i], qx[i], qy[i], qz[i], wx[i], wy[i], wz[i]]  # , q0[i]\n",
    "\n",
    "# Измерения в начальный момент времени\n",
    "for j in range(n):\n",
    "    for i in range(j+1):\n",
    "        if i == j:\n",
    "            Y += [sqrt(x[i]**2 + y[i]**2 + z[i]**2)]\n",
    "        else:\n",
    "            Y += [sqrt((x[i]-x[j])**2 + (y[i]-y[j])**2 + (z[i]-z[j])**2)]\n",
    "\n",
    "# H_2, J_2, J_numb_2, d_2, report_2_ = ShauyingObservabilitySufficientCondition(testprint=True, n=n, X=X, Y=Y, my_diff=MyDiff_AeroOn_AttitudeOn)\n",
    "H_2, J_2, J_numb_2, d_2, report_2_ = ShauyingObservabilitySufficientCondition(testprint=True, hand_written_deriv=2, n=n, X=X, Y=Y, my_diff=MyDiff_AeroOn_AttitudeOn)"
   ]
  },
  {
   "cell_type": "code",
   "execution_count": null,
   "id": "7c6546b5-ecc1-489f-b3da-af12dbf5fab3",
   "metadata": {},
   "outputs": [],
   "source": [
    "# save_reports([report_2_], \"AeroOn_AttitudeOn_AntennaOff\")\n",
    "print(read_reports(\"AeroOn_AttitudeOn_AntennaOff\"))"
   ]
  },
  {
   "cell_type": "markdown",
   "id": "69dd2911-7c04-41e7-92eb-50a199e73bb6",
   "metadata": {},
   "source": [
    "----\n",
    "\n",
    "#### <span style=\"color:#2c3e50\">Наблюдаемость системы</span> <span style=\"color:#00b0b9\">при кубсате строго на круговой орбите,</span> <span style=\"color:#00b0b9\">с аэродинамикой и угловым движением,</span> <span style=\"color:#15cbfc\">антенны анизотропны</span>"
   ]
  },
  {
   "cell_type": "code",
   "execution_count": null,
   "id": "b83ff663-ff27-4f2f-b51b-a339e6307b7c",
   "metadata": {},
   "outputs": [],
   "source": [
    "# Количество чипсатов\n",
    "# {11->1}\n",
    "n = 11\n",
    "\n",
    "# Разложение по антеннам\n",
    "antennas = \"xy\"\n",
    "print(f\"\\033[1mУ каждого чипсата {len(antennas)} антенн(ы): {antennas}\\033[0m\")\n",
    "\n",
    "# Коэффициент сопротивления\n",
    "C = 1.17\n",
    "m = 0.01  # 10 грамм\n",
    "Jxx, Jyy, Jzz = (0.01, 0.01, 0.007)\n",
    "\n",
    "# Инициализация переменных\n",
    "t, ω, r_cube, v_cube, x, y, z, vx, vy, vz, wx, wy, wz, q0, qx, qy, qz = get_params(n)\n",
    "\n",
    "# Состояние в начальный момент времени\n",
    "X, r, Y = ([], [], [])\n",
    "for i in range(n):  \n",
    "    X += [x[i], y[i], z[i], vx[i], vy[i], vz[i], qx[i], qy[i], qz[i], wx[i], wy[i], wz[i]]  # , q0[i]\n",
    "\n",
    "# Измерения в начальный момент времени\n",
    "for j in range(n):\n",
    "    for i in range(j+1):\n",
    "        if i == j:\n",
    "            tmp = sqrt(x[i]**2 + y[i]**2 + z[i]**2)\n",
    "            Y += [tmp / sqrt(local_dipol([x[i], y[i], z[i]], tmp, c, [q0[i], qx[i], qy[i], qz[i]])) for c in antennas]\n",
    "        else:\n",
    "            tmp = sqrt((x[i]-x[j])**2 + (y[i]-y[j])**2 + (z[i]-z[j])**2)\n",
    "            Y += [tmp / sqrt(local_dipol([x[i]-x[j], y[i]-y[j], z[i]-z[j]], tmp, c, [q0[i], qx[i], qy[i], qz[i]])) \\\n",
    "                      / sqrt(local_dipol([x[j]-x[i], y[j]-y[i], z[j]-z[i]], tmp, c, [q0[j], qx[j], qy[j], qz[j]])) for c in antennas]\n",
    "\n",
    "H_3, J_3, J_numb_3, d_3, report_3_ = ShauyingObservabilitySufficientCondition(testprint=True, n=n, X=X, Y=Y, my_diff=MyDiff_AeroOn_AttitudeOn)\n",
    "report_3_ = f\"\\033[1mУ каждого чипсата {len(antennas)} антенн(ы): {antennas}\\033[0m\\n\" + report_3_"
   ]
  },
  {
   "cell_type": "code",
   "execution_count": null,
   "id": "b456ff6a-ab84-49e4-8587-4ccd144a4b22",
   "metadata": {},
   "outputs": [],
   "source": [
    "# save_reports([report_3_13], \"AeroOn_AttitudeOn_AntennaOn\")\n",
    "print(read_reports(\"AeroOn_AttitudeOn_AntennaOn\"))"
   ]
  },
  {
   "cell_type": "markdown",
   "id": "8e167a42-f031-43d2-a9ea-5cdcaa106aa9",
   "metadata": {},
   "source": [
    "----\n",
    "\n",
    "#### <span style=\"color:#2c3e50\">То же самое, но</span> <span style=\"color:#00b0b9\">диаграмма направленностей не симметрична</span>"
   ]
  },
  {
   "cell_type": "code",
   "execution_count": null,
   "id": "ef562975-4d7f-42ea-a1ab-37d11fb4f7db",
   "metadata": {},
   "outputs": [],
   "source": [
    "# Количество чипсатов\n",
    "n = 11\n",
    "\n",
    "# Разложение по антеннам\n",
    "antennas = \"xy\"\n",
    "print(f\"\\033[1mУ каждого чипсата {len(antennas)} антенн(ы): {antennas}\\033[0m\")\n",
    "\n",
    "# Коэффициент сопротивления\n",
    "C = 1.17\n",
    "m = 0.01  # 10 грамм\n",
    "Jxx, Jyy, Jzz = (0.01, 0.01, 0.007)\n",
    "distortion = 0.4\n",
    "\n",
    "# Инициализация переменных\n",
    "t, ω, r_cube, v_cube, x, y, z, vx, vy, vz, wx, wy, wz, q0, qx, qy, qz = get_params(n)\n",
    "\n",
    "# Состояние в начальный момент времени\n",
    "X, r, Y = ([], [], [])\n",
    "for i in range(n):\n",
    "    X += [x[i], y[i], z[i], vx[i], vy[i], vz[i], qx[i], qy[i], qz[i], wx[i], wy[i], wz[i]]  # , q0[i]\n",
    "\n",
    "# Измерения в начальный момент времени\n",
    "for j in range(n):\n",
    "    for i in range(j+1):\n",
    "        if i == j:\n",
    "            tmp = sqrt(x[i]**2 + y[i]**2 + z[i]**2)\n",
    "            Y += [tmp / sqrt(local_dipol([x[i], y[i], z[i]], tmp, c, [q0[i], qx[i], qy[i], qz[i]], distortion=distortion)) for c in antennas]\n",
    "        else:\n",
    "            tmp = sqrt((x[i]-x[j])**2 + (y[i]-y[j])**2 + (z[i]-z[j])**2)\n",
    "            Y += [tmp / sqrt(local_dipol([x[i]-x[j], y[i]-y[j], z[i]-z[j]], tmp, c, [q0[i], qx[i], qy[i], qz[i]], distortion=distortion)) \\\n",
    "                      / sqrt(local_dipol([x[j]-x[i], y[j]-y[i], z[j]-z[i]], tmp, c, [q0[j], qx[j], qy[j], qz[j]], distortion=distortion)) for c in antennas]\n",
    "\n",
    "H_4, J_4, J_numb_4, d_4, report_4_ = ShauyingObservabilitySufficientCondition(testprint=True, n=n, X=X, Y=Y, my_diff=MyDiff_AeroOn_AttitudeOn)\n",
    "report_4_ = f\"\\033[1mУ каждого чипсата {len(antennas)} кривые антенн(ы): {antennas}\\033[0m\\n\" + report_4_"
   ]
  },
  {
   "cell_type": "code",
   "execution_count": null,
   "id": "5a462cfd-ac65-4a4d-bb6c-6f19b5667745",
   "metadata": {},
   "outputs": [],
   "source": [
    "J_numb_4[0][1]"
   ]
  },
  {
   "cell_type": "code",
   "execution_count": null,
   "id": "399cea17-7658-4718-a0f8-4f128c54473b",
   "metadata": {},
   "outputs": [],
   "source": [
    "# save_reports([report_4_9xyz, report_4_13xy], \"AeroOn_AttitudeOn_AntennaOn_CurveRadiation\")\n",
    "print(read_reports(\"AeroOn_AttitudeOn_AntennaOn_CurveRadiation\"))"
   ]
  },
  {
   "cell_type": "code",
   "execution_count": null,
   "id": "69f3264f-9d49-4c87-86a9-fceec400918d",
   "metadata": {},
   "outputs": [],
   "source": []
  },
  {
   "cell_type": "code",
   "execution_count": null,
   "id": "a4e89638-04f9-42f0-9947-3e3d0e2d1f2d",
   "metadata": {},
   "outputs": [],
   "source": []
  },
  {
   "cell_type": "code",
   "execution_count": null,
   "id": "807a1f0d-88fa-418a-b215-fc439cb80ba5",
   "metadata": {},
   "outputs": [],
   "source": []
  },
  {
   "cell_type": "code",
   "execution_count": null,
   "id": "53b26d75-fd3e-493f-8239-9c05d6380326",
   "metadata": {},
   "outputs": [],
   "source": []
  },
  {
   "cell_type": "code",
   "execution_count": null,
   "id": "227006f0-5ef0-496f-8067-517d921925c1",
   "metadata": {},
   "outputs": [],
   "source": []
  },
  {
   "cell_type": "code",
   "execution_count": null,
   "id": "a94015a2-fb0d-4af3-8241-7be1940e6f1b",
   "metadata": {},
   "outputs": [],
   "source": []
  },
  {
   "cell_type": "code",
   "execution_count": null,
   "id": "a812600a-2996-4deb-8589-71b1b298937e",
   "metadata": {},
   "outputs": [],
   "source": []
  },
  {
   "cell_type": "code",
   "execution_count": null,
   "id": "3aed42b9-7e9f-4c88-a716-d739f0fe66bc",
   "metadata": {},
   "outputs": [],
   "source": []
  },
  {
   "cell_type": "code",
   "execution_count": null,
   "id": "80a75bc7-d667-4f28-b7f4-6ac854adbe61",
   "metadata": {},
   "outputs": [],
   "source": []
  },
  {
   "cell_type": "code",
   "execution_count": null,
   "id": "66aec060-fc22-482c-9895-79b74555b14d",
   "metadata": {},
   "outputs": [],
   "source": []
  },
  {
   "cell_type": "code",
   "execution_count": null,
   "id": "0dfe21c3-76bf-48ec-897d-3fc038bb1b16",
   "metadata": {},
   "outputs": [],
   "source": []
  },
  {
   "cell_type": "code",
   "execution_count": null,
   "id": "99016102-cc10-4e1d-8ee6-27b7975d9ec8",
   "metadata": {},
   "outputs": [],
   "source": []
  },
  {
   "cell_type": "code",
   "execution_count": null,
   "id": "8093c83e-4a95-4c46-801f-5ec8a2d10b5e",
   "metadata": {},
   "outputs": [],
   "source": []
  },
  {
   "cell_type": "code",
   "execution_count": null,
   "id": "26755611-bf73-4a0b-87db-dcb35ed6089b",
   "metadata": {},
   "outputs": [],
   "source": []
  },
  {
   "cell_type": "code",
   "execution_count": null,
   "id": "2cb0466e-fa0c-4176-b4b4-4831bc60c945",
   "metadata": {},
   "outputs": [],
   "source": []
  },
  {
   "cell_type": "code",
   "execution_count": null,
   "id": "8096e552-0cc5-4bc5-a25a-3422a98c35ba",
   "metadata": {},
   "outputs": [],
   "source": []
  },
  {
   "cell_type": "code",
   "execution_count": null,
   "id": "0cf84884-d3b3-4742-a670-6299a2775a81",
   "metadata": {},
   "outputs": [],
   "source": []
  },
  {
   "cell_type": "markdown",
   "id": "101f59a7-6a72-4fe7-a39a-78baa3135fea",
   "metadata": {
    "jp-MarkdownHeadingCollapsed": true
   },
   "source": [
    "### <span style=\"color:#0ab49a\">Что-то с производной</span> <span style=\"color:#A254FC\">Ли</span>"
   ]
  },
  {
   "cell_type": "code",
   "execution_count": null,
   "id": "f9411f5a-2983-4596-b0be-a78bad4810f6",
   "metadata": {},
   "outputs": [],
   "source": [
    "for i in range(n):\n",
    "    X_ += [x[i], y[i], z[i], vx[i], vy[i], vz[i]]\n",
    "def GetF():\n",
    "    anw = []\n",
    "    for i in range(n):\n",
    "        anw += [vx[i], vy[i], vz[i]]\n",
    "        anw += [2*ω*vz[i], -ω**2*y[i], 2*ω*vx[i] + 3*ω**2*z[i]]\n",
    "    return Matirx(anw)\n",
    "\n",
    "# Уравнения движения\n",
    "def GetGradient_AeroOff_AttitudeOff_AntennaOff(expr):\n",
    "    \"\"\"Функция взятия производной по времени.\n",
    "    Аэродинамика: НЕ УЧИТЫВАЕТСЯ\n",
    "    Угловое движение: НЕ УЧИТЫВАЕТСЯ\n",
    "    :param expr: Выражение, от которого надо взять производную по времени t\n",
    "    :param power: Степень производной\"\"\"\n",
    "    subses = []\n",
    "    for i in range(n):\n",
    "        subses += [(Derivative(x[i], t), vx[i])]\n",
    "        subses += [(Derivative(y[i], t), vy[i])]\n",
    "        subses += [(Derivative(z[i], t), vz[i])]\n",
    "        subses += [(Derivative(vx[i], t), -2*ω*vz[i])]  # Нет учёта аэродинамики\n",
    "        subses += [(Derivative(vy[i], t), -ω**2*y[i])]\n",
    "        subses += [(Derivative(vz[i], t), 2*ω*vx[i] + 3*ω**2*z[i])]\n",
    "    return expr.diff(vari).subs(subses).simplify()"
   ]
  }
 ],
 "metadata": {
  "kernelspec": {
   "display_name": "Python 3 (ipykernel)",
   "language": "python",
   "name": "python3"
  },
  "language_info": {
   "codemirror_mode": {
    "name": "ipython",
    "version": 3
   },
   "file_extension": ".py",
   "mimetype": "text/x-python",
   "name": "python",
   "nbconvert_exporter": "python",
   "pygments_lexer": "ipython3",
   "version": "3.10.12"
  }
 },
 "nbformat": 4,
 "nbformat_minor": 5
}
