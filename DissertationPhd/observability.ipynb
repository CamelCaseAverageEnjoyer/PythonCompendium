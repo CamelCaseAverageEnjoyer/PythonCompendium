{
 "cells": [
  {
   "cell_type": "markdown",
   "id": "af80236e-9cce-4c88-b3ca-68225373eda8",
   "metadata": {},
   "source": [
    "![](../storage/banners/28_observability.png)"
   ]
  },
  {
   "cell_type": "markdown",
   "id": "665ee46a-fa0a-4ea7-aaa0-5a3b5d93c5b1",
   "metadata": {
    "jp-MarkdownHeadingCollapsed": true
   },
   "source": [
    "##### **<u>Свои догадки</u>**"
   ]
  },
  {
   "cell_type": "markdown",
   "id": "e4093b8b-3307-4e8a-b529-c5fa22a1ba61",
   "metadata": {
    "jp-MarkdownHeadingCollapsed": true
   },
   "source": [
    "###### Попытка вывода симметрии у решения - Частные случаи"
   ]
  },
  {
   "cell_type": "code",
   "execution_count": 11,
   "id": "0aabb974-60cb-4e7e-81d3-3a2fa14b1a2a",
   "metadata": {},
   "outputs": [],
   "source": [
    "from sympy import *\n",
    "import sympy\n",
    "from cosmetic import *\n",
    "\n",
    "def add_extraname(s, extraname):\n",
    "    return \" \".join([i+extraname for i in s.split()])\n",
    "\n",
    "def get_x_y_z(case: dict, extraname: str = \"\", planar: bool = False, test_xz: bool = False):\n",
    "    x0, y0, z0, vx0, vy0, vz0 = var(add_extraname(s=\"x_0 y_0 z_0 v^x_0 v^y_0 v^z_0\", extraname=extraname))\n",
    "    X0, Y0, Z0, VX0, VY0, VZ0 = var(add_extraname(s=\"X_0 Y_0 Z_0 V^X_0 V^Y_0 V^Z_0\", extraname=extraname))\n",
    "    c, rho, m, M, s, S, v_orb = var(add_extraname(s=\"C rho m M s S v_{orb}\", extraname=extraname))\n",
    "    t, w0 = var(\"t w_0\")\n",
    "\n",
    "    r, R = 3*[None], 3*[None]\n",
    "    \n",
    "    if case['C1 = 0']:\n",
    "        vx0 = - 2 * z0 * w0\n",
    "        VX0 = - 2 * Z0 * w0\n",
    "    if not case['CubeSat motion']:\n",
    "        X0, Y0, Z0, VX0, VY0, VZ0 = [0]*6\n",
    "    if planar:\n",
    "        y0, Y0, vy0, VY0 = [0]*4\n",
    "\n",
    "    for _x0, _y0, _z0, _vx0, _vy0, _vz0, _r, _m, _s in zip((x0, X0), (y0, Y0), (z0, Z0), (vx0, VX0), (vy0, VY0), (vz0, VZ0), \n",
    "                                                           (r, R), (m, M), (s, S)):\n",
    "        C_1 = 2 * _z0 + _vx0 / w0\n",
    "        C_2 = _vz0 / w0\n",
    "        C_3 = -3 * _z0 - 2 * _vx0 / w0\n",
    "        C_4 = _x0 - 2 * _vz0 / w0\n",
    "        C_5 = _vy0 / w0\n",
    "        C_6 = _y0\n",
    "        \n",
    "        tmp = (-t**2 / 2 * c * rho / _m * _s * v_orb**2) if case['Aero'] else 0\n",
    "        \n",
    "        _r[0] = C_4 - 3*C_1*w0*t + 2*C_2*cos(w0*t) -2*C_3*sin(w0*t) + tmp\n",
    "        _r[1] = C_5*sin(w0*t) + C_6*cos(w0*t)\n",
    "        _r[2] = 2*C_1 + C_2*sin(w0*t) + C_3*cos(w0*t)\n",
    "    \n",
    "    return {'w0': w0, 't': t,\n",
    "            'x0': x0, 'y0': y0, 'z0': z0, 'vx0': vx0, 'vy0': vy0, 'vz0': vz0,\n",
    "            'x': r[0], 'y': r[1], 'z': r[2], \n",
    "            'X': R[0], 'Y': R[1], 'Z': R[2]}\n",
    "\n",
    "def get_measurements(case: dict, params: dict):\n",
    "    if case['antenna type'] == 'isotropic':\n",
    "        measurements = [(params['X'] - params['x'])**2 + \n",
    "                        (params['Y'] - params['y'])**2 + \n",
    "                        (params['Z'] - params['z'])**2]\n",
    "\n",
    "    return measurements\n",
    "\n",
    "def get_discrepancy_invert_param(measurements, params: dict, variables: list) -> list:\n",
    "    global counter\n",
    "    subses = []\n",
    "    for v in variables:\n",
    "        subses.append((params[v], -params[v]))\n",
    "\n",
    "    anw = []\n",
    "    for i, m in zip(range(len(measurements)), measurements):\n",
    "        tmp = (m - m.subs(subses)).simplify()\n",
    "        anw.append(tmp)\n",
    "        if isinstance(tmp, sympy.core.numbers.Zero):\n",
    "            print(f\"По параметрам\\033[1m\", *variables, f\"\\033[0mу измерения №{i+1} есть зеркальная симметрия\")\n",
    "            counter *= 2\n",
    "    return anw\n",
    "\n",
    "def print_symmetry_problem_result():\n",
    "    global counter\n",
    "    if counter == 1:\n",
    "        my_print(f\"Решение единственное: {counter}!\", bold=True, color=\"g\")\n",
    "    else:\n",
    "        my_print(f\"Симметричных решений: {counter}\", bold=True, color=\"b\")\n",
    "\n",
    "\n",
    "def calculate_symmetry(motion_case, measurement_case, v_list):\n",
    "    global counter\n",
    "    counter = 1\n",
    "    params = get_x_y_z(case=motion_case)\n",
    "    measurements = get_measurements(case=measurement_case, params=params)\n",
    "    for variables in v_list:\n",
    "        _ = get_discrepancy_invert_param(measurements=measurements, variables=variables, params=params)\n",
    "    print_symmetry_problem_result()"
   ]
  },
  {
   "cell_type": "markdown",
   "id": "fe29321b-0fe9-4605-831e-9b279bf76712",
   "metadata": {
    "jp-MarkdownHeadingCollapsed": true
   },
   "source": [
    "###### 0. Поиск решения"
   ]
  },
  {
   "cell_type": "markdown",
   "id": "c15bd12a-621c-4cec-8dd6-6405b93f060d",
   "metadata": {},
   "source": [
    ">> Уравнения:\n",
    "$$\\ddot{x} = -2 \\omega_0 \\upsilon_z,$$\n",
    "$$\\ddot{y} = -\\omega_0^2 y,$$\n",
    "$$\\ddot{z} = 2 \\omega_0 \\upsilon_x + 3 \\omega_0^2 z.$$\n",
    "\n",
    "> Движение по $y$ отделимо <br>\n",
    "> Возможна симметрия по одновременному изменению положений и скоростей по $x, z$ <br>"
   ]
  },
  {
   "cell_type": "code",
   "execution_count": 13,
   "id": "a87df3f7-edef-46d8-b9ad-7388c974b586",
   "metadata": {},
   "outputs": [
    {
     "data": {
      "text/latex": [
       "$\\displaystyle \\left(- \\frac{v^{y}_{0} \\sin{\\left(t w_{0} \\right)}}{w_{0}} - y_{0} \\cos{\\left(t w_{0} \\right)}\\right)^{2} + \\left(- \\frac{2 v^{x}_{0}}{w_{0}} - \\frac{v^{z}_{0} \\sin{\\left(t w_{0} \\right)}}{w_{0}} - 4 z_{0} - \\left(- \\frac{2 v^{x}_{0}}{w_{0}} - 3 z_{0}\\right) \\cos{\\left(t w_{0} \\right)}\\right)^{2} + \\left(t w_{0} \\left(\\frac{3 v^{x}_{0}}{w_{0}} + 6 z_{0}\\right) - \\frac{2 v^{z}_{0} \\cos{\\left(t w_{0} \\right)}}{w_{0}} + \\frac{2 v^{z}_{0}}{w_{0}} - x_{0} + \\left(- \\frac{4 v^{x}_{0}}{w_{0}} - 6 z_{0}\\right) \\sin{\\left(t w_{0} \\right)}\\right)^{2}$"
      ],
      "text/plain": [
       "(-v^y_0*sin(t*w_0)/w_0 - y_0*cos(t*w_0))**2 + (-2*v^x_0/w_0 - v^z_0*sin(t*w_0)/w_0 - 4*z_0 - (-2*v^x_0/w_0 - 3*z_0)*cos(t*w_0))**2 + (t*w_0*(3*v^x_0/w_0 + 6*z_0) - 2*v^z_0*cos(t*w_0)/w_0 + 2*v^z_0/w_0 - x_0 + (-4*v^x_0/w_0 - 6*z_0)*sin(t*w_0))**2"
      ]
     },
     "execution_count": 13,
     "metadata": {},
     "output_type": "execute_result"
    }
   ],
   "source": [
    "# Инициализация\n",
    "motion_case = {'C1 = 0': False, \n",
    "               'Aero': False,\n",
    "               'CubeSat motion': False}\n",
    "\n",
    "measurement_case = {'antenna type': 'isotropic'}\n",
    "\n",
    "params = get_x_y_z(case=motion_case)\n",
    "measurements = get_measurements(case=measurement_case, params=params)\n",
    "\n",
    "# params_wrong = get_x_y_z(case=motion_case, planar=False, extraname=\"^w\")\n",
    "# measurements_wrong = get_measurements(case=measurement_case, params=params_wrong)\n",
    "measurements[0]"
   ]
  },
  {
   "cell_type": "code",
   "execution_count": 16,
   "id": "982dba7d-a329-4ccd-9794-8d5a21c2e2e8",
   "metadata": {},
   "outputs": [],
   "source": [
    "grad_vec = {}\n",
    "for v in [\"x0\", \"y0\", \"z0\", \"vx0\", \"vy0\", \"vz0\"]:\n",
    "    grad_vec[v] = measurements[0].diff(params[v])"
   ]
  },
  {
   "cell_type": "code",
   "execution_count": null,
   "id": "78fc292c-47bc-49cc-83d1-ee6a56754830",
   "metadata": {},
   "outputs": [],
   "source": []
  },
  {
   "cell_type": "markdown",
   "id": "5f611411-35f9-4d8a-a93a-6fc3a04367a0",
   "metadata": {
    "jp-MarkdownHeadingCollapsed": true
   },
   "source": [
    "###### 1. ХКУ, 1к-1ч, изотропные антенны, без определение углового движения\n",
    "> Уравнения ХКУ имеют 4 симметричных решения <br>\n",
    "> Антенны изотропные, но углы не ищутся -> симметрия не уменьшается <br>\n",
    "> Итого: 4 симметричных решения"
   ]
  },
  {
   "cell_type": "code",
   "execution_count": 117,
   "id": "f28e1be0-483b-4ccc-8ad2-764ba6782de9",
   "metadata": {},
   "outputs": [
    {
     "name": "stdout",
     "output_type": "stream",
     "text": [
      "По параметрам\u001b[1m y0 vy0 \u001b[0mу измерения №1 есть зеркальная симметрия\n",
      "По параметрам\u001b[1m x0 z0 vx0 vz0 \u001b[0mу измерения №1 есть зеркальная симметрия\n",
      "\u001b[34m\u001b[1mСимметричных решений: 4\u001b[0m\u001b[0m\n"
     ]
    }
   ],
   "source": [
    "# Инициализация\n",
    "motion_case = {'C1 = 0': False, \n",
    "               'Aero': False,\n",
    "               'CubeSat motion': False}\n",
    "\n",
    "measurement_case = {'antenna type': 'isotropic'}\n",
    "\n",
    "v_list = [['x0'], ['vx0'], ['y0'], ['vy0'], ['z0'], ['vz0'],\n",
    "          ['x0', 'vx0'], ['y0', 'vy0'], ['z0', 'vz0'],\n",
    "          ['x0', 'z0'],\n",
    "          ['x0', 'z0', 'vz0'],\n",
    "          ['x0', 'z0', 'vx0', 'vz0']]\n",
    "\n",
    "calculate_symmetry(motion_case=motion_case, measurement_case=measurement_case, v_list=v_list)"
   ]
  },
  {
   "cell_type": "code",
   "execution_count": 118,
   "id": "0cfcebd5-8ca1-40e6-82a1-3266e4f88d52",
   "metadata": {},
   "outputs": [
    {
     "name": "stdout",
     "output_type": "stream",
     "text": [
      "\u001b[32m\u001b[1mРешение единственное: 1!\u001b[0m\u001b[0m\n"
     ]
    }
   ],
   "source": [
    "# Инициализация\n",
    "motion_case = {'C1 = 0': False, \n",
    "               'Aero': False,\n",
    "               'CubeSat motion': True}\n",
    "\n",
    "measurement_case = {'antenna type': 'isotropic'}\n",
    "\n",
    "v_list = [['x0'], ['vx0'], ['y0'], ['vy0'], ['z0'], ['vz0'],\n",
    "          ['x0', 'vx0'], ['y0', 'vy0'], ['z0', 'vz0'],\n",
    "          ['x0', 'z0'],\n",
    "          ['x0', 'z0', 'vz0'],\n",
    "          ['x0', 'z0', 'vx0', 'vz0']]\n",
    "\n",
    "calculate_symmetry(motion_case=motion_case, measurement_case=measurement_case, v_list=v_list)"
   ]
  },
  {
   "cell_type": "code",
   "execution_count": 119,
   "id": "0a53181c-1b86-4a24-8789-2a4859b3ad16",
   "metadata": {},
   "outputs": [
    {
     "name": "stdout",
     "output_type": "stream",
     "text": [
      "По параметрам\u001b[1m vx0 \u001b[0mу измерения №1 есть зеркальная симметрия\n",
      "По параметрам\u001b[1m y0 vy0 \u001b[0mу измерения №1 есть зеркальная симметрия\n",
      "По параметрам\u001b[1m x0 z0 vz0 \u001b[0mу измерения №1 есть зеркальная симметрия\n",
      "\u001b[34m\u001b[1mСимметричных решений: 8\u001b[0m\u001b[0m\n"
     ]
    }
   ],
   "source": [
    "# Инициализация\n",
    "motion_case = {'C1 = 0': True, \n",
    "               'Aero': False,\n",
    "               'CubeSat motion': False}\n",
    "\n",
    "measurement_case = {'antenna type': 'isotropic'}\n",
    "\n",
    "v_list = [['x0'], ['vx0'], ['y0'], ['vy0'], ['z0'], ['vz0'],\n",
    "          ['x0', 'vx0'], ['y0', 'vy0'], ['z0', 'vz0'],\n",
    "          ['x0', 'z0'],\n",
    "          ['x0', 'z0', 'vz0']]\n",
    "\n",
    "calculate_symmetry(motion_case=motion_case, measurement_case=measurement_case, v_list=v_list)"
   ]
  },
  {
   "cell_type": "code",
   "execution_count": 120,
   "id": "8fb30c8e-8d94-428a-a615-b93573a6243c",
   "metadata": {},
   "outputs": [
    {
     "name": "stdout",
     "output_type": "stream",
     "text": [
      "По параметрам\u001b[1m vx0 \u001b[0mу измерения №1 есть зеркальная симметрия\n",
      "\u001b[34m\u001b[1mСимметричных решений: 2\u001b[0m\u001b[0m\n"
     ]
    }
   ],
   "source": [
    "# Инициализация\n",
    "motion_case = {'C1 = 0': True, \n",
    "               'Aero': False,\n",
    "               'CubeSat motion': True}\n",
    "\n",
    "measurement_case = {'antenna type': 'isotropic'}\n",
    "\n",
    "v_list = [['x0'], ['vx0'], ['y0'], ['vy0'], ['z0'], ['vz0'],\n",
    "          ['x0', 'vx0'], ['y0', 'vy0'], ['z0', 'vz0'],\n",
    "          ['x0', 'z0'],\n",
    "          ['x0', 'z0', 'vz0']]\n",
    "\n",
    "calculate_symmetry(motion_case=motion_case, measurement_case=measurement_case, v_list=v_list)"
   ]
  },
  {
   "cell_type": "markdown",
   "id": "5b456168-c526-4f77-9475-88814557b905",
   "metadata": {
    "jp-MarkdownHeadingCollapsed": true
   },
   "source": [
    "###### 2. ХКУ + аэро, 1к-1ч, изотропные антенны, без определение углового движения\n",
    "> Уравнения ХКУ имеют 4 симметричных решения <br>\n",
    "> Антенны изотропные, но углы не ищутся -> симметрия не уменьшается <br> \n",
    "> Итого: 4 симметричных решения"
   ]
  },
  {
   "cell_type": "code",
   "execution_count": 121,
   "id": "8ae5caad-a1a1-414c-aae3-eb8a8fe02505",
   "metadata": {},
   "outputs": [
    {
     "name": "stdout",
     "output_type": "stream",
     "text": [
      "По параметрам\u001b[1m y0 vy0 \u001b[0mу измерения №1 есть зеркальная симметрия\n",
      "\u001b[34m\u001b[1mСимметричных решений: 2\u001b[0m\u001b[0m\n"
     ]
    }
   ],
   "source": [
    "# Инициализация\n",
    "motion_case = {'C1 = 0': False, \n",
    "               'Aero': True,\n",
    "               'CubeSat motion': False}\n",
    "\n",
    "measurement_case = {'antenna type': 'isotropic'}\n",
    "\n",
    "v_list = [['x0'], ['vx0'], ['y0'], ['vy0'], ['z0'], ['vz0'],\n",
    "          ['x0', 'vx0'], ['y0', 'vy0'], ['z0', 'vz0'],\n",
    "          ['x0', 'z0'],\n",
    "          ['x0', 'z0', 'vz0'],\n",
    "          ['x0', 'z0', 'vx0', 'vz0']]\n",
    "\n",
    "calculate_symmetry(motion_case=motion_case, measurement_case=measurement_case, v_list=v_list)"
   ]
  },
  {
   "cell_type": "code",
   "execution_count": 122,
   "id": "9e0247d8-473e-43a5-8a67-6d4d46e16b50",
   "metadata": {},
   "outputs": [
    {
     "name": "stderr",
     "output_type": "stream",
     "text": [
      "\n",
      "KeyboardInterrupt\n",
      "\n"
     ]
    }
   ],
   "source": [
    "# Инициализация\n",
    "motion_case = {'C1 = 0': False, \n",
    "               'Aero': True,\n",
    "               'CubeSat motion': True}\n",
    "\n",
    "measurement_case = {'antenna type': 'isotropic'}\n",
    "\n",
    "v_list = [['x0'], ['vx0'], ['y0'], ['vy0'], ['z0'], ['vz0'],\n",
    "          ['x0', 'vx0'], ['y0', 'vy0'], ['z0', 'vz0'],\n",
    "          ['x0', 'z0'],\n",
    "          ['x0', 'z0', 'vz0'],\n",
    "          ['x0', 'z0', 'vx0', 'vz0']]\n",
    "\n",
    "calculate_symmetry(motion_case=motion_case, measurement_case=measurement_case, v_list=v_list)"
   ]
  },
  {
   "cell_type": "code",
   "execution_count": 105,
   "id": "ab88e116-a199-47bf-96ad-7d852652b391",
   "metadata": {},
   "outputs": [
    {
     "name": "stdout",
     "output_type": "stream",
     "text": [
      "По параметрам vx0 у измерения №1 есть симметрия\n",
      "По параметрам y0 vy0 у измерения №1 есть симметрия\n",
      "\u001b[34m\u001b[1mСимметричных решений: 4\u001b[0m\u001b[0m\n"
     ]
    }
   ],
   "source": [
    "# Инициализация\n",
    "motion_case = {'C1 = 0': True, \n",
    "               'Aero': True,\n",
    "               'CubeSat motion': False}\n",
    "\n",
    "measurement_case = {'antenna type': 'isotropic'}\n",
    "\n",
    "v_list = [['x0'], ['vx0'], ['y0'], ['vy0'], ['z0'], ['vz0'],\n",
    "          ['x0', 'vx0'], ['y0', 'vy0'], ['z0', 'vz0'],\n",
    "          ['x0', 'z0'],\n",
    "          ['x0', 'z0', 'vz0']]\n",
    "\n",
    "calculate_symmetry(motion_case=motion_case, measurement_case=measurement_case, v_list=v_list)"
   ]
  },
  {
   "cell_type": "code",
   "execution_count": 106,
   "id": "348fa9ba-135c-4bd5-a5db-4f096c06a60a",
   "metadata": {},
   "outputs": [
    {
     "name": "stdout",
     "output_type": "stream",
     "text": [
      "По параметрам vx0 у измерения №1 есть симметрия\n",
      "\u001b[34m\u001b[1mСимметричных решений: 2\u001b[0m\u001b[0m\n"
     ]
    }
   ],
   "source": [
    "# Инициализация\n",
    "motion_case = {'C1 = 0': True, \n",
    "               'Aero': True,\n",
    "               'CubeSat motion': True}\n",
    "\n",
    "measurement_case = {'antenna type': 'isotropic'}\n",
    "\n",
    "v_list = [['x0'], ['vx0'], ['y0'], ['vy0'], ['z0'], ['vz0'],\n",
    "          ['x0', 'vx0'], ['y0', 'vy0'], ['z0', 'vz0'],\n",
    "          ['x0', 'z0'],\n",
    "          ['x0', 'z0', 'vz0']]\n",
    "\n",
    "calculate_symmetry(motion_case=motion_case, measurement_case=measurement_case, v_list=v_list)"
   ]
  },
  {
   "cell_type": "markdown",
   "id": "d6cf3800-4fec-40c1-a19f-4eb41530d889",
   "metadata": {
    "jp-MarkdownHeadingCollapsed": true
   },
   "source": [
    "###### <span style=\"color:#2c3e50\">Минимальное кол-во материнских аппаратов для наблюдаемости</span> "
   ]
  },
  {
   "cell_type": "code",
   "execution_count": 9,
   "id": "03c7bbe2-1e64-439f-aa7b-f13bdc6f2c0b",
   "metadata": {},
   "outputs": [
    {
     "name": "stdout",
     "output_type": "stream",
     "text": [
      "Не нашлось такого количества! Измени параметры\n",
      "Минимальное кол-во материнских аппаратов для наблюдаемости: \u001b[1m-1\u001b[0m\n"
     ]
    }
   ],
   "source": [
    "def get_min_chief_amount(fn: int, motion: str, antenna_config: dict) -> int:\n",
    "    \"\"\"\n",
    "    :param fn: кол-во дочерних КА (НЕ УЧИТЫВАЕТСЯ)\n",
    "    :param motion: По каким координатам ОСК движение КА\n",
    "    :param antenna_config: типы антенн материнских и дочерних КА\n",
    "    :return: Кол-во материнских КА для наблюдаемости на НОО (околокруговые)\n",
    "    \"\"\"\n",
    "    for cn in range(1, 10):\n",
    "        n_symmetry_solution = [1, 1, 1]\n",
    "        ############################\n",
    "        # Увеличение симметричных решений\n",
    "        if antenna_config['c-type'] == \"изотропные\":\n",
    "            for i in range(3):\n",
    "                n_symmetry_solution[i] *= 2\n",
    "        if antenna_config['d-type'] == \"изотропные\":\n",
    "            for i in range(3):\n",
    "                n_symmetry_solution[i] *= 2\n",
    "        \n",
    "        # Уменьшение симметричных решений\n",
    "        if not antenna_config['c-multy-send'] and not antenna_config['d-multy-take']:\n",
    "            if cn == 4:\n",
    "                for i in range(3):\n",
    "                    n_symmetry_solution[i] /= 2\n",
    "        ############################\n",
    "        if sum(n_symmetry_solution) == 3:\n",
    "            return cn\n",
    "    print(\"Не нашлось такого количества! Измени параметры\")\n",
    "    return -1\n",
    "    \n",
    "cn = get_min_chief_amount(fn=1, motion=\"xyz\", \n",
    "                          antenna_config={'c-type': [\"изотропные\"][0], \n",
    "                                          'd-type': [\"изотропные\"][0],\n",
    "                                          'c-multy-send': False,\n",
    "                                          'c-multy-take': False,\n",
    "                                          'd-multy-send': False,\n",
    "                                          'd-multy-take': False,})\n",
    "print(f\"Минимальное кол-во материнских аппаратов для наблюдаемости: \\033[1m{cn}\\033[0m\")"
   ]
  },
  {
   "cell_type": "markdown",
   "id": "7c7f9928-ad4b-45ac-9f5a-0cb1eb164b0a",
   "metadata": {
    "jp-MarkdownHeadingCollapsed": true
   },
   "source": [
    "###### Закрутка чипсата"
   ]
  },
  {
   "cell_type": "code",
   "execution_count": null,
   "id": "af08da6a-52ee-4791-bbc0-830949643803",
   "metadata": {},
   "outputs": [],
   "source": []
  },
  {
   "cell_type": "markdown",
   "id": "fa32b67b-5e46-4431-a6f7-f11c50f0199d",
   "metadata": {},
   "source": [
    "##### **<u>Согласно статье</u> 038 (Shauying R.K.) Observability of Nonlinear Systems**"
   ]
  },
  {
   "cell_type": "markdown",
   "id": "e23f1582-78ea-4667-96f7-a845736c1c4d",
   "metadata": {},
   "source": [
    "<span style=\"color:#2b817d\">Примечание:</span>     $km \\geq n$\n",
    "\n",
    "<span style=\"color:#0ab49a\">Согласно статье</span> <span style=\"color:#A254FC\">055 (Yujiro Inowe) On the Observability of Autonomous Nonlinear Systems</span> <span style=\"color:#0ab49a\">надо просто проверить ранг во всём $R^n$!</span>    $rg\\frac{\\partial \\boldsymbol{H}_d}{\\partial \\boldsymbol{x}} (\\boldsymbol{x}) = n \\hskip20px \\forall x \\in R^n,$\n",
    "$$d = n \\frac{n +3}{2}.$$\n",
    "\n",
    "<span style=\"color:#0ab49a\">Согласно статье</span> <span style=\"color:#A254FC\">051 (Andrew J. Whalen) Observability and Controllability of Nonlinear Networks The Role of Symmetry</span> <span style=\"color:#0ab49a\">надо проверить</span> $\\delta(x) = \\frac{|\\sigma_{min}[O^T O]|}{|\\sigma_{max}[O^T O]|}.$"
   ]
  },
  {
   "cell_type": "markdown",
   "id": "da7fe0ed-5aa5-49e7-b661-5bfde30733a2",
   "metadata": {},
   "source": [
    "###### <u>Инициализация</u>"
   ]
  },
  {
   "cell_type": "code",
   "execution_count": 6,
   "id": "c5b0fe04-c03e-4378-a7c0-0dc446d20e16",
   "metadata": {},
   "outputs": [
    {
     "name": "stdout",
     "output_type": "stream",
     "text": [
      "\u001b[31mПараметры не могут быть загружены! Нет файла: kiamformation/data/config_choose.csv\u001b[0m\n",
      "\u001b[32mМатрицы Ф:(6, 6), Q:(3, 3), P:(6, 6), D:(6, 3)\u001b[0m\n",
      "Высота орбиты: 400 км\n",
      "Период орбиты: 1.54 часов\n",
      "Плотность атмосферы: 6.404751331738951e-12 кг/м³\n"
     ]
    }
   ],
   "source": [
    "from common_func import *\n",
    "\n",
    "o, num_params, t, ω, μ, ρ, r_orb, v_orb = init_symbol_params()"
   ]
  },
  {
   "cell_type": "markdown",
   "id": "1aa845cf-a151-446f-b3eb-e134e5ffd0c6",
   "metadata": {},
   "source": [
    "###### <u>Алгоритм</u>"
   ]
  },
  {
   "cell_type": "code",
   "execution_count": 7,
   "id": "5db930ac-026a-4eb8-895c-8c7a3a20ad20",
   "metadata": {},
   "outputs": [],
   "source": [
    "def my_diff(expr, power: int = 1, n_c=1, n_d=1):\n",
    "    \"\"\"\n",
    "    :param expr: Выражение, от которого надо взять производную по времени t\n",
    "    :param power: Степень производной\n",
    "    \"\"\"    \n",
    "    global r_d, v_d, q_d, ω_d, r_c, v_c, q_c, ω_c\n",
    "    global dr_d, dv_d, dq_d, dω_d, dr_c, dv_c, dq_c, dω_c\n",
    "    if power == 0:\n",
    "        return expr\n",
    "    if power == 1:\n",
    "        anw = expr\n",
    "    else:\n",
    "        anw = my_diff(expr, power - 1)\n",
    "    subses = []\n",
    "    for j in range(3):\n",
    "        for i in range(n_d):\n",
    "            subses += [(Derivative(r_d[i][j], t), dr_d[i][j])]\n",
    "            subses += [(Derivative(v_d[i][j], t), dv_d[i][j])]\n",
    "            subses += [(Derivative(q_d[i][j+1], t), dq_d[i][j+1])]\n",
    "            subses += [(Derivative(ω_d[i][j], t), dω_d[i][j])]\n",
    "        for i in range(n_c):\n",
    "            subses += [(Derivative(r_c[i][j], t), dr_c[i][j])]\n",
    "            subses += [(Derivative(v_c[i][j], t), dv_c[i][j])]\n",
    "            subses += [(Derivative(q_c[i][j+1], t), dq_c[i][j+1])]\n",
    "            subses += [(Derivative(ω_c[i][j], t), dω_c[i][j])]\n",
    "    anw = anw.diff(t).subs(subses)\n",
    "    anw.simplify()\n",
    "    return anw\n",
    "\n",
    "def SubRandParams(J, n_d: int, n_c: int, n_x: int, n_y: int, testprint: bool = False):\n",
    "    \"\"\"Берёт матрицу J размером n_x на n_y, подставляет случайные значения\"\"\"\n",
    "    global r_d, v_d, q_d, ω_d, r_c, v_c, q_c, ω_c\n",
    "    # Генерация случайных параметров движения\n",
    "    s_r = lambda: np.random.uniform(-100, 100)\n",
    "    s_v = lambda: np.random.uniform(-10, 10)\n",
    "    s_w = lambda: np.random.uniform(-1e-4, 1e-4)\n",
    "    s_q = lambda: np.random.uniform(-0.5, 0.5)\n",
    "    rand_params = [(ω, num_params['ω0']), (pi, np.pi), (ρ, num_params['ρ']), (v_orb, num_params['v0']), \n",
    "                   (o.f.c_resist, num_params['Cd']), (o.c.c_resist, num_params['Cc']), \n",
    "                   (o.f.mass, num_params['md']), (o.c.mass, num_params['mc']),\n",
    "                   (o.f.size[0], num_params['sd'][0]), (o.f.size[1], num_params['sd'][1]),\n",
    "                   (o.c.size[0], num_params['sc'][0]), (o.c.size[1], num_params['sc'][1]),\n",
    "                   (o.f.J[0, 0], num_params['Jd'][0, 0]), (o.f.J[1, 1], num_params['Jd'][1, 1]), (o.f.J[2, 2], num_params['Jd'][2, 2]),\n",
    "                  ] \n",
    "    for j in range(3):\n",
    "        for i in range(n_d):\n",
    "            rand_params.extend([(r_d[i][j], s_r()), (v_d[i][j], s_v()), (ω_d[i][j], s_w()), (q_d[i][j+1], s_q())])\n",
    "        for i in range(n_c):\n",
    "            rand_params.extend([(r_c[i][j], s_r()), (v_c[i][j], s_v()), (ω_c[i][j], s_w()), (q_c[i][j+1], s_q())])\n",
    "\n",
    "    # Якобиан матрицы наблюдаемости: J[измерение (H), состояние (X)] \n",
    "    J_numb = np.array([[0. for _ in range(n_x)] for _ in range(n_y)])\n",
    "    for i in range(n_y):\n",
    "        if testprint:\n",
    "            print(f\"    J_numb: расчёт строки : {i+1} / {n_y}\")\n",
    "        for j in range(n_x):\n",
    "            J_numb[i][j] = float(J[i, j].subs(rand_params))\n",
    "    return J_numb\n",
    "\n",
    "def ShauyingObservabilitySufficientCondition(n_d: int, n_c: int, X: list, Y: list, testprint: bool = False, hand_written_deriv: int = None):\n",
    "    \"\"\"Проверка достаточного условия наблюдаемости системы. Проверка равномерного отношения миноров матрицы наблюдаемости.\n",
    "    :param n_d: Количество чипсатов\n",
    "    :param X: Список неизвестных параметров, которые необходимо найти\n",
    "    :param Y: Список известных параметров (измерений системы в t₀=0)\n",
    "    :param my_diff: Функция взятия производной по времени\n",
    "    :param testprint: Флаг вывода экстра-информации\"\"\"\n",
    "    global r_d, v_d, q_d, ω_d, r_c, v_c, q_c, ω_c\n",
    "    def print_and_record(report: str, lcl_txt: str):\n",
    "        print(lcl_txt)\n",
    "        return report + lcl_txt + \"\\n\"\n",
    "    report = kf.my_print(f\"Количество кубсатов: {n_c}\\nКоличество чипсатов: {n_d}\\n\", if_return=True, bold=True)\n",
    "\n",
    "    # Количество одномоментных измерений\n",
    "    l = len(Y)\n",
    "    # Требуемое количество существующих производных функции измерения\n",
    "    k = int(len(X) // len(Y)) if hand_written_deriv is None else hand_written_deriv\n",
    "    d = len(X) * (len(X) + 3) / 2  / len(Y)\n",
    "    txt = f\"\" if hand_written_deriv is None else f\"\\033[1mВнимание! Рассчитывается не отношение миноров, а ранг расширенного Якобиана\\033[0m\\n\"\n",
    "    report = print_and_record(report, txt + f\"Неизвестные: n = {len(X)} (на каждый чипсат по {int(len(X) // n_d)} параметров)\\nИзвестные: l = {l}\\n∃ производные порядка k = {len(X) / len(Y)} (Должна быть целой!)\\nКритерий (055): происзводные порядка {d}\")\n",
    "    \n",
    "    # Матрица наблюдаемости системы\n",
    "    H = Matrix([[Y[0] for ll in range(l)] for kk in range(k)])\n",
    "    H_one_line = []\n",
    "    for kk in range(k):\n",
    "        for ll in range(l):\n",
    "            tmp = Y[ll] if kk == 0 else my_diff(H[kk - 1, ll], n_c=n_c, n_d=n_d)\n",
    "            if testprint:\n",
    "                print(f\"_расчёт матрицы H_: k={(kk+1)}/{k}, l={(ll+1)}/{l}\")\n",
    "            H[kk, ll] = tmp\n",
    "            H_one_line += [tmp]\n",
    "    H = Matrix(H_one_line)\n",
    "    report = print_and_record(report, f\"Размерность матрицы H: {shape(H)}\")\n",
    "\n",
    "    # Якобиан матрицы наблюдаемости: J[измерение (H), состояние (X)]\n",
    "    J = Matrix([[H[i].diff(X[j]) for j in range(len(X))] for i in range(k * l)])\n",
    "    report = print_and_record(report, f\"Размерность матрицы J: {shape(J)}\")\n",
    "\n",
    "    # Подстановка конкретных значений\n",
    "    J_numb = SubRandParams(J=J, n_c=n_c, n_d=n_d, n_x=len(X), n_y=k*l, testprint=testprint)\n",
    "    _, v, _ = np.linalg.svd(J_numb.T @ J_numb)\n",
    "    report = print_and_record(report, f\"v = {v}\")\n",
    "    report = print_and_record(report, f\"σₘₙ/σₘₐₓ = {np.min(v)}/{np.max(v)} = {np.min(v) / np.max(v)} | σ>10⁻⁵: {np.sum(v>1e-5)}/{len(v)} (статья 051)\")\n",
    "\n",
    "    # Достаточное условие\n",
    "    txt = f\"\\nРанг матрицы: {[np.linalg.matrix_rank(J_numb, tol=tol) for tol in [1e-3, 1e-5, 1e-7, 1e-10, 1e-12, 1e-15]]} (статья 055)\\n\"\n",
    "    txt += f\"Детерминант матрицы: {np.linalg.det(J_numb)}\\n\" if J_numb.shape[0] == J_numb.shape[1] else \"\"\n",
    "    if hand_written_deriv is None:\n",
    "        report = print_and_record(report, txt + f\"Следующие параметры не должны быть нулевыми:\\n\")\n",
    "        d, Δ, flag, i_min = ([], [], True, -1)\n",
    "        for i in range(len(X)):\n",
    "            tmp = kf.matrix_minor(J_numb, i, i)\n",
    "            d += [tmp if i == 0 else tmp / Δ[-1]]\n",
    "            Δ += [tmp]\n",
    "            report = print_and_record(report, f\"Δ_{i} = {Δ[-1]}\" if i == 0 else f\"Δ_{i} / Δ_{i-1} = {Δ[-1]}\")\n",
    "        \n",
    "            # Чек наблюдаемости\n",
    "            if flag:\n",
    "                if abs(d[-1]) < 1e-6:\n",
    "                    i_min = i\n",
    "                    flag = False\n",
    "            if not flag:\n",
    "                break\n",
    "    \n",
    "        # Вывод\n",
    "        if flag:\n",
    "            txt = f\"\\n\\033[1mВыполнено достаточное условие! Система наблюдаема\\033[0m\"\n",
    "        else:\n",
    "            in_txt = f\"Δ_{i_min}\" if i_min == 0 else f\"Δ_{i_min} / Δ_{i_min-1}\"\n",
    "            txt = f\"\\n\\033[1mНе выполнено достаточное условие. Нулевой параметр: {in_txt} = {d[i_min]}\\033[0m\"\n",
    "        report = print_and_record(report, txt)\n",
    "        return H, J, J_numb, Δ, report\n",
    "    report = print_and_record(report, txt)\n",
    "    return H, J, J_numb, report\n",
    "\n",
    "def observe_system(n_c, n_d, is_c_move, is_d_qw, is_angles, is_drag, is_only_xz, testprint, hand_written_deriv):\n",
    "    global r_d, v_d, q_d, ω_d, r_c, v_c, q_c, ω_c\n",
    "    global dr_d, dv_d, dq_d, dω_d, dr_c, dv_c, dq_c, dω_c\n",
    "    r_d, v_d, q_d, ω_d = get_state_vector(func=kf.get_func, obj='d', n=n_d)\n",
    "    r_c, v_c, q_c, ω_c = get_state_vector(func=kf.get_func, obj='c', n=n_c)\n",
    "    # U_d, S_d, A_d, r0_d = kf.get_matrices(v=o.v, t=t, q=q_d)\n",
    "    # U_c, S_c, A_c, r0_c = kf.get_matrices(v=o.v, t=t, q=q_c)\n",
    "\n",
    "    o.c.n = n_c\n",
    "    o.f.n = n_d\n",
    "\n",
    "    if is_c_move:\n",
    "        o.c.r_orf, o.c.v_orf, o.c.q, o.c.w_irf = r_c, v_c, q_c, ω_c\n",
    "    else:\n",
    "        o.c.r_orf, o.c.v_orf, o.c.q, o.c.w_irf = ([zeros(3, 1) for _ in range(n_c)], \n",
    "                                                  [zeros(3, 1) for _ in range(n_c)], \n",
    "                                                  [Matrix([1, 0, 0, 0]) for _ in range(n_c)], \n",
    "                                                  [Matrix([0, 0, ω]) for _ in range(n_c)])\n",
    "\n",
    "    if is_d_qw:\n",
    "        x = kf.sympy_append(kf.sympy_append(*r_d), kf.sympy_append(*[Matrix(q[1:4]) for q in q_d]), kf.sympy_append(*v_d), kf.sympy_append(*ω_d))\n",
    "    else:\n",
    "        x = kf.sympy_append(kf.sympy_append(*r_d), kf.sympy_append(*v_d))\n",
    "    kf.my_print(f\"Вектор состояния:\", bold=True)\n",
    "    display(x.T)\n",
    "    \n",
    "    o.v.GAIN_MODEL_C_N, o.v.GAIN_MODEL_F_N = (0, 0)\n",
    "    o.v.init_choice_params()\n",
    "    o.v.NAVIGATION_ANGLES = is_angles\n",
    "    o.v.DYNAMIC_MODEL['aero drag'] = is_drag\n",
    "\n",
    "    if is_angles:\n",
    "        o.v.GAIN_MODEL_C_N = 2\n",
    "        o.v.GAIN_MODEL_F_N = 2\n",
    "        o.v.init_choice_params()\n",
    "        o.c.gain_mode = o.v.GAIN_MODEL_C\n",
    "        o.f.gain_mode = o.v.GAIN_MODEL_F\n",
    "        o.v.MULTI_ANTENNA_TAKE = True\n",
    "        o.v.MULTI_ANTENNA_SEND = True\n",
    "    \n",
    "    y, notes = kf.measure_antennas_power(c=o.c, f=o.f, v=o.v, p=o.p, j=len(x), estimated_params=x, t=t)\n",
    "    kf.my_print(f\"Вектор измерений:\", bold=True)\n",
    "    display(y)\n",
    "    \n",
    "    y = Matrix([y[::2]])\n",
    "    kf.my_print(f\"Вектор измерений (изменённый):\", bold=True)\n",
    "    display(y)\n",
    "\n",
    "    if is_only_xz:\n",
    "        tmp = []\n",
    "        for i in range(n_d):\n",
    "            tmp.append([r_d[i][0], r_d[i][2], v_d[i][0], v_d[i][2]])\n",
    "        x = Matrix(tmp)\n",
    "        kf.my_print(f\"Вектор состояния (изменённый):\", bold=True)\n",
    "        display(x.T)\n",
    "    \n",
    "    dr_d, dv_d, dq_d, dω_d = ([0 for _ in range(n_d)] for _ in range(4))\n",
    "    dr_c, dv_c, dq_c, dω_c = ([0 for _ in range(n_c)] for _ in range(4))\n",
    "    for i in range(n_d):\n",
    "        dr_d[i], dv_d[i] = kf.translate_rhs(vrs=o.v, obj=o.f, i=0, rv=(r_d[i], v_d[i]), w=ω, mu=μ, rho=ρ)\n",
    "        dq_d[i], dω_d[i] = kf.attitude_rhs(v=o.v, obj=o.f, t=t, i=0, qw=(q_d[i], ω_d[i]))\n",
    "    for i in range(n_c):\n",
    "        dr_c[i], dv_c[i] = kf.translate_rhs(vrs=o.v, obj=o.c, i=0, rv=(r_c[i], v_c[i]), w=ω, mu=μ, rho=ρ)\n",
    "        dq_c[i], dω_c[i] = kf.attitude_rhs(v=o.v, obj=o.c, t=t, i=0, qw=(q_c[i], ω_c[i]))\n",
    "    \n",
    "    return ShauyingObservabilitySufficientCondition(testprint=True, n_c=n_c, n_d=n_d, X=x, Y=y, hand_written_deriv=hand_written_deriv)"
   ]
  },
  {
   "cell_type": "markdown",
   "id": "10757555-65e9-468d-a03b-616e48dda241",
   "metadata": {},
   "source": [
    "###### <u>Наблюдаемость системы</u> без аэродинамики и углового движения, антенны изотропные"
   ]
  },
  {
   "cell_type": "code",
   "execution_count": 3,
   "id": "5a5ba4c9-75a3-461d-947c-0aef6020558b",
   "metadata": {},
   "outputs": [
    {
     "name": "stdout",
     "output_type": "stream",
     "text": [
      "\u001b[0m\u001b[1mВектор состояния:\u001b[0m\u001b[0m\n"
     ]
    },
    {
     "data": {
      "text/latex": [
       "$\\displaystyle \\left[\\begin{matrix}r^{d}_{0 x}{\\left(t \\right)} & r^{d}_{0 y}{\\left(t \\right)} & r^{d}_{0 z}{\\left(t \\right)} & v^{d}_{0 x}{\\left(t \\right)} & v^{d}_{0 y}{\\left(t \\right)} & v^{d}_{0 z}{\\left(t \\right)}\\end{matrix}\\right]$"
      ],
      "text/plain": [
       "Matrix([[r_0^d_x(t), r_0^d_y(t), r_0^d_z(t), v_0^d_x(t), v_0^d_y(t), v_0^d_z(t)]])"
      ]
     },
     "metadata": {},
     "output_type": "display_data"
    },
    {
     "name": "stdout",
     "output_type": "stream",
     "text": [
      "\u001b[0m\u001b[1mВектор измерений:\u001b[0m\u001b[0m\n"
     ]
    },
    {
     "data": {
      "text/latex": [
       "$\\displaystyle \\left[\\begin{matrix}\\sqrt{\\left(r^{d}_{0 x}\\right)^{2}{\\left(t \\right)} + \\left(r^{d}_{0 y}\\right)^{2}{\\left(t \\right)} + \\left(r^{d}_{0 z}\\right)^{2}{\\left(t \\right)}}\\\\\\sqrt{\\left(r^{d}_{0 x}\\right)^{2}{\\left(t \\right)} + \\left(r^{d}_{0 y}\\right)^{2}{\\left(t \\right)} + \\left(r^{d}_{0 z}\\right)^{2}{\\left(t \\right)}}\\end{matrix}\\right]$"
      ],
      "text/plain": [
       "Matrix([\n",
       "[sqrt(r_0^d_x(t)**2 + r_0^d_y(t)**2 + r_0^d_z(t)**2)],\n",
       "[sqrt(r_0^d_x(t)**2 + r_0^d_y(t)**2 + r_0^d_z(t)**2)]])"
      ]
     },
     "metadata": {},
     "output_type": "display_data"
    },
    {
     "name": "stdout",
     "output_type": "stream",
     "text": [
      "\u001b[0m\u001b[1mВектор измерений (изменённый):\u001b[0m\u001b[0m\n"
     ]
    },
    {
     "data": {
      "text/latex": [
       "$\\displaystyle \\left[\\begin{matrix}\\sqrt{\\left(r^{d}_{0 x}\\right)^{2}{\\left(t \\right)} + \\left(r^{d}_{0 y}\\right)^{2}{\\left(t \\right)} + \\left(r^{d}_{0 z}\\right)^{2}{\\left(t \\right)}}\\end{matrix}\\right]$"
      ],
      "text/plain": [
       "Matrix([[sqrt(r_0^d_x(t)**2 + r_0^d_y(t)**2 + r_0^d_z(t)**2)]])"
      ]
     },
     "metadata": {},
     "output_type": "display_data"
    },
    {
     "name": "stdout",
     "output_type": "stream",
     "text": [
      "\u001b[0m\u001b[1mКоличество кубсатов: 1\n",
      "Количество чипсатов: 1\n",
      "\u001b[0m\u001b[0m\n",
      "Неизвестные: n = 6 (на каждый чипсат по 6 параметров)\n",
      "Известные: l = 1\n",
      "∃ производные порядка k = 6.0 (Должна быть целой!)\n",
      "Критерий (055): происзводные порядка 27.0\n",
      "_расчёт матрицы H_: k=1/6, l=1/1\n",
      "_расчёт матрицы H_: k=2/6, l=1/1\n",
      "_расчёт матрицы H_: k=3/6, l=1/1\n",
      "_расчёт матрицы H_: k=4/6, l=1/1\n",
      "_расчёт матрицы H_: k=5/6, l=1/1\n",
      "_расчёт матрицы H_: k=6/6, l=1/1\n",
      "Размерность матрицы H: (6, 1)\n",
      "Размерность матрицы J: (6, 6)\n",
      "    J_numb: расчёт строки : 1 / 6\n",
      "    J_numb: расчёт строки : 2 / 6\n",
      "    J_numb: расчёт строки : 3 / 6\n",
      "    J_numb: расчёт строки : 4 / 6\n",
      "    J_numb: расчёт строки : 5 / 6\n",
      "    J_numb: расчёт строки : 6 / 6\n",
      "v = [1.00478867e+00 1.00002212e+00 1.81522976e-02 1.98856791e-11\n",
      " 2.37559019e-17 5.40095800e-18]\n",
      "σₘₙ/σₘₐₓ = 5.4009579984034685e-18/1.0047886737969498 = 5.3752178336107594e-18 | σ>10⁻⁵: 3/6 (статья 051)\n",
      "\n",
      "Ранг матрицы: [3, 3, 4, 6, 6, 6] (статья 055)\n",
      "Детерминант матрицы: 7.741822811904543e-25\n",
      "Следующие параметры не должны быть нулевыми:\n",
      "\n",
      "Δ_0 = 1.2188168911958793e-19\n",
      "\n",
      "\u001b[1mНе выполнено достаточное условие. Нулевой параметр: Δ_0 = 1.2188168911958793e-19\u001b[0m\n"
     ]
    }
   ],
   "source": [
    "H_1_1, J_1_1, J_numb_1_1, Δ_1_1, report_1_1 = observe_system(n_c=1, \n",
    "                                                             n_d=1, \n",
    "                                                             is_c_move=False, \n",
    "                                                             is_d_qw=False, \n",
    "                                                             is_angles=False, \n",
    "                                                             is_drag=False, \n",
    "                                                             is_only_xz=False, \n",
    "                                                             testprint=True,\n",
    "                                                             hand_written_deriv=None)"
   ]
  },
  {
   "cell_type": "code",
   "execution_count": 8,
   "id": "8fba5219-3a6a-49c8-972e-0f467174df53",
   "metadata": {},
   "outputs": [
    {
     "name": "stdout",
     "output_type": "stream",
     "text": [
      "\u001b[0m\u001b[1mВектор состояния:\u001b[0m\u001b[0m\n"
     ]
    },
    {
     "data": {
      "text/latex": [
       "$\\displaystyle \\left[\\begin{matrix}r^{d}_{0 x}{\\left(t \\right)} & r^{d}_{0 y}{\\left(t \\right)} & r^{d}_{0 z}{\\left(t \\right)} & v^{d}_{0 x}{\\left(t \\right)} & v^{d}_{0 y}{\\left(t \\right)} & v^{d}_{0 z}{\\left(t \\right)}\\end{matrix}\\right]$"
      ],
      "text/plain": [
       "Matrix([[r_0^d_x(t), r_0^d_y(t), r_0^d_z(t), v_0^d_x(t), v_0^d_y(t), v_0^d_z(t)]])"
      ]
     },
     "metadata": {},
     "output_type": "display_data"
    },
    {
     "name": "stdout",
     "output_type": "stream",
     "text": [
      "\u001b[0m\u001b[1mВектор измерений:\u001b[0m\u001b[0m\n"
     ]
    },
    {
     "data": {
      "text/latex": [
       "$\\displaystyle \\left[\\begin{matrix}\\sqrt{\\left(- r^{c}_{0 x}{\\left(t \\right)} + r^{d}_{0 x}{\\left(t \\right)}\\right)^{2} + \\left(- r^{c}_{0 y}{\\left(t \\right)} + r^{d}_{0 y}{\\left(t \\right)}\\right)^{2} + \\left(- r^{c}_{0 z}{\\left(t \\right)} + r^{d}_{0 z}{\\left(t \\right)}\\right)^{2}}\\\\\\sqrt{\\left(- r^{c}_{0 x}{\\left(t \\right)} + r^{d}_{0 x}{\\left(t \\right)}\\right)^{2} + \\left(- r^{c}_{0 y}{\\left(t \\right)} + r^{d}_{0 y}{\\left(t \\right)}\\right)^{2} + \\left(- r^{c}_{0 z}{\\left(t \\right)} + r^{d}_{0 z}{\\left(t \\right)}\\right)^{2}}\\\\\\sqrt{\\left(r^{d}_{0 x}{\\left(t \\right)} - r^{c}_{1 x}{\\left(t \\right)}\\right)^{2} + \\left(r^{d}_{0 y}{\\left(t \\right)} - r^{c}_{1 y}{\\left(t \\right)}\\right)^{2} + \\left(r^{d}_{0 z}{\\left(t \\right)} - r^{c}_{1 z}{\\left(t \\right)}\\right)^{2}}\\\\\\sqrt{\\left(r^{d}_{0 x}{\\left(t \\right)} - r^{c}_{1 x}{\\left(t \\right)}\\right)^{2} + \\left(r^{d}_{0 y}{\\left(t \\right)} - r^{c}_{1 y}{\\left(t \\right)}\\right)^{2} + \\left(r^{d}_{0 z}{\\left(t \\right)} - r^{c}_{1 z}{\\left(t \\right)}\\right)^{2}}\\end{matrix}\\right]$"
      ],
      "text/plain": [
       "Matrix([\n",
       "[sqrt((-r_0^c_x(t) + r_0^d_x(t))**2 + (-r_0^c_y(t) + r_0^d_y(t))**2 + (-r_0^c_z(t) + r_0^d_z(t))**2)],\n",
       "[sqrt((-r_0^c_x(t) + r_0^d_x(t))**2 + (-r_0^c_y(t) + r_0^d_y(t))**2 + (-r_0^c_z(t) + r_0^d_z(t))**2)],\n",
       "[   sqrt((r_0^d_x(t) - r_1^c_x(t))**2 + (r_0^d_y(t) - r_1^c_y(t))**2 + (r_0^d_z(t) - r_1^c_z(t))**2)],\n",
       "[   sqrt((r_0^d_x(t) - r_1^c_x(t))**2 + (r_0^d_y(t) - r_1^c_y(t))**2 + (r_0^d_z(t) - r_1^c_z(t))**2)]])"
      ]
     },
     "metadata": {},
     "output_type": "display_data"
    },
    {
     "name": "stdout",
     "output_type": "stream",
     "text": [
      "\u001b[0m\u001b[1mВектор измерений (изменённый):\u001b[0m\u001b[0m\n"
     ]
    },
    {
     "data": {
      "text/latex": [
       "$\\displaystyle \\left[\\begin{matrix}\\sqrt{\\left(- r^{c}_{0 x}{\\left(t \\right)} + r^{d}_{0 x}{\\left(t \\right)}\\right)^{2} + \\left(- r^{c}_{0 y}{\\left(t \\right)} + r^{d}_{0 y}{\\left(t \\right)}\\right)^{2} + \\left(- r^{c}_{0 z}{\\left(t \\right)} + r^{d}_{0 z}{\\left(t \\right)}\\right)^{2}} & \\sqrt{\\left(r^{d}_{0 x}{\\left(t \\right)} - r^{c}_{1 x}{\\left(t \\right)}\\right)^{2} + \\left(r^{d}_{0 y}{\\left(t \\right)} - r^{c}_{1 y}{\\left(t \\right)}\\right)^{2} + \\left(r^{d}_{0 z}{\\left(t \\right)} - r^{c}_{1 z}{\\left(t \\right)}\\right)^{2}}\\end{matrix}\\right]$"
      ],
      "text/plain": [
       "Matrix([[sqrt((-r_0^c_x(t) + r_0^d_x(t))**2 + (-r_0^c_y(t) + r_0^d_y(t))**2 + (-r_0^c_z(t) + r_0^d_z(t))**2), sqrt((r_0^d_x(t) - r_1^c_x(t))**2 + (r_0^d_y(t) - r_1^c_y(t))**2 + (r_0^d_z(t) - r_1^c_z(t))**2)]])"
      ]
     },
     "metadata": {},
     "output_type": "display_data"
    },
    {
     "name": "stdout",
     "output_type": "stream",
     "text": [
      "\u001b[0m\u001b[1mКоличество кубсатов: 2\n",
      "Количество чипсатов: 1\n",
      "\u001b[0m\u001b[0m\n",
      "Неизвестные: n = 6 (на каждый чипсат по 6 параметров)\n",
      "Известные: l = 2\n",
      "∃ производные порядка k = 3.0 (Должна быть целой!)\n",
      "Критерий (055): происзводные порядка 13.5\n",
      "_расчёт матрицы H_: k=1/3, l=1/2\n",
      "_расчёт матрицы H_: k=1/3, l=2/2\n",
      "_расчёт матрицы H_: k=2/3, l=1/2\n",
      "_расчёт матрицы H_: k=2/3, l=2/2\n",
      "_расчёт матрицы H_: k=3/3, l=1/2\n",
      "_расчёт матрицы H_: k=3/3, l=2/2\n",
      "Размерность матрицы H: (6, 1)\n",
      "Размерность матрицы J: (6, 6)\n",
      "    J_numb: расчёт строки : 1 / 6\n",
      "    J_numb: расчёт строки : 2 / 6\n",
      "    J_numb: расчёт строки : 3 / 6\n",
      "    J_numb: расчёт строки : 4 / 6\n",
      "    J_numb: расчёт строки : 5 / 6\n",
      "    J_numb: расчёт строки : 6 / 6\n",
      "v = [1.92988077e+00 1.90958695e+00 1.00880593e-01 7.78097834e-02\n",
      " 1.19659073e-03 2.20645298e-06]\n",
      "σₘₙ/σₘₐₓ = 2.206452981417231e-06/1.9298807674138023 = 1.1433105188016656e-06 | σ>10⁻⁵: 5/6 (статья 051)\n",
      "\n",
      "Ранг матрицы: [6, 6, 6, 6, 6, 6] (статья 055)\n",
      "Детерминант матрицы: 8.739287558536382e-06\n",
      "Следующие параметры не должны быть нулевыми:\n",
      "\n",
      "Δ_0 = 0.000136834688266237\n",
      "Δ_1 / Δ_0 = -8.831833667479231e-05\n",
      "Δ_2 / Δ_1 = -0.0006080178314749584\n",
      "Δ_3 / Δ_2 = 4.508677341341916e-05\n",
      "Δ_4 / Δ_3 = 0.00013120771036456155\n",
      "Δ_5 / Δ_4 = -6.27101183842013e-05\n",
      "\n",
      "\u001b[1mВыполнено достаточное условие! Система наблюдаема\u001b[0m\n"
     ]
    }
   ],
   "source": [
    "H_2_1, J_2_1, J_numb_2_1, Δ_2_1, report_2_1 = observe_system(n_c=2, \n",
    "                                                             n_d=1, \n",
    "                                                             is_c_move=True, \n",
    "                                                             is_d_qw=False, \n",
    "                                                             is_angles=False, \n",
    "                                                             is_drag=False, \n",
    "                                                             is_only_xz=False, \n",
    "                                                             testprint=False,\n",
    "                                                             hand_written_deriv=None)"
   ]
  },
  {
   "cell_type": "code",
   "execution_count": 10,
   "id": "971e184d-8cb2-490e-b6dd-f3069ba3ed20",
   "metadata": {},
   "outputs": [
    {
     "name": "stdout",
     "output_type": "stream",
     "text": [
      "\u001b[0m\u001b[1mВектор состояния:\u001b[0m\u001b[0m\n"
     ]
    },
    {
     "data": {
      "text/latex": [
       "$\\displaystyle \\left[\\begin{matrix}r^{d}_{0 x}{\\left(t \\right)} & r^{d}_{0 y}{\\left(t \\right)} & r^{d}_{0 z}{\\left(t \\right)} & v^{d}_{0 x}{\\left(t \\right)} & v^{d}_{0 y}{\\left(t \\right)} & v^{d}_{0 z}{\\left(t \\right)}\\end{matrix}\\right]$"
      ],
      "text/plain": [
       "Matrix([[r_0^d_x(t), r_0^d_y(t), r_0^d_z(t), v_0^d_x(t), v_0^d_y(t), v_0^d_z(t)]])"
      ]
     },
     "metadata": {},
     "output_type": "display_data"
    },
    {
     "name": "stdout",
     "output_type": "stream",
     "text": [
      "\u001b[0m\u001b[1mВектор измерений:\u001b[0m\u001b[0m\n"
     ]
    },
    {
     "data": {
      "text/latex": [
       "$\\displaystyle \\left[\\begin{matrix}\\sqrt{\\left(- r^{c}_{0 x}{\\left(t \\right)} + r^{d}_{0 x}{\\left(t \\right)}\\right)^{2} + \\left(- r^{c}_{0 y}{\\left(t \\right)} + r^{d}_{0 y}{\\left(t \\right)}\\right)^{2} + \\left(- r^{c}_{0 z}{\\left(t \\right)} + r^{d}_{0 z}{\\left(t \\right)}\\right)^{2}}\\\\\\sqrt{\\left(- r^{c}_{0 x}{\\left(t \\right)} + r^{d}_{0 x}{\\left(t \\right)}\\right)^{2} + \\left(- r^{c}_{0 y}{\\left(t \\right)} + r^{d}_{0 y}{\\left(t \\right)}\\right)^{2} + \\left(- r^{c}_{0 z}{\\left(t \\right)} + r^{d}_{0 z}{\\left(t \\right)}\\right)^{2}}\\\\\\sqrt{\\left(r^{d}_{0 x}{\\left(t \\right)} - r^{c}_{1 x}{\\left(t \\right)}\\right)^{2} + \\left(r^{d}_{0 y}{\\left(t \\right)} - r^{c}_{1 y}{\\left(t \\right)}\\right)^{2} + \\left(r^{d}_{0 z}{\\left(t \\right)} - r^{c}_{1 z}{\\left(t \\right)}\\right)^{2}}\\\\\\sqrt{\\left(r^{d}_{0 x}{\\left(t \\right)} - r^{c}_{1 x}{\\left(t \\right)}\\right)^{2} + \\left(r^{d}_{0 y}{\\left(t \\right)} - r^{c}_{1 y}{\\left(t \\right)}\\right)^{2} + \\left(r^{d}_{0 z}{\\left(t \\right)} - r^{c}_{1 z}{\\left(t \\right)}\\right)^{2}}\\\\\\sqrt{\\left(r^{d}_{0 x}{\\left(t \\right)} - r^{c}_{2 x}{\\left(t \\right)}\\right)^{2} + \\left(r^{d}_{0 y}{\\left(t \\right)} - r^{c}_{2 y}{\\left(t \\right)}\\right)^{2} + \\left(r^{d}_{0 z}{\\left(t \\right)} - r^{c}_{2 z}{\\left(t \\right)}\\right)^{2}}\\\\\\sqrt{\\left(r^{d}_{0 x}{\\left(t \\right)} - r^{c}_{2 x}{\\left(t \\right)}\\right)^{2} + \\left(r^{d}_{0 y}{\\left(t \\right)} - r^{c}_{2 y}{\\left(t \\right)}\\right)^{2} + \\left(r^{d}_{0 z}{\\left(t \\right)} - r^{c}_{2 z}{\\left(t \\right)}\\right)^{2}}\\end{matrix}\\right]$"
      ],
      "text/plain": [
       "Matrix([\n",
       "[sqrt((-r_0^c_x(t) + r_0^d_x(t))**2 + (-r_0^c_y(t) + r_0^d_y(t))**2 + (-r_0^c_z(t) + r_0^d_z(t))**2)],\n",
       "[sqrt((-r_0^c_x(t) + r_0^d_x(t))**2 + (-r_0^c_y(t) + r_0^d_y(t))**2 + (-r_0^c_z(t) + r_0^d_z(t))**2)],\n",
       "[   sqrt((r_0^d_x(t) - r_1^c_x(t))**2 + (r_0^d_y(t) - r_1^c_y(t))**2 + (r_0^d_z(t) - r_1^c_z(t))**2)],\n",
       "[   sqrt((r_0^d_x(t) - r_1^c_x(t))**2 + (r_0^d_y(t) - r_1^c_y(t))**2 + (r_0^d_z(t) - r_1^c_z(t))**2)],\n",
       "[   sqrt((r_0^d_x(t) - r_2^c_x(t))**2 + (r_0^d_y(t) - r_2^c_y(t))**2 + (r_0^d_z(t) - r_2^c_z(t))**2)],\n",
       "[   sqrt((r_0^d_x(t) - r_2^c_x(t))**2 + (r_0^d_y(t) - r_2^c_y(t))**2 + (r_0^d_z(t) - r_2^c_z(t))**2)]])"
      ]
     },
     "metadata": {},
     "output_type": "display_data"
    },
    {
     "name": "stdout",
     "output_type": "stream",
     "text": [
      "\u001b[0m\u001b[1mВектор измерений (изменённый):\u001b[0m\u001b[0m\n"
     ]
    },
    {
     "data": {
      "text/latex": [
       "$\\displaystyle \\left[\\begin{matrix}\\sqrt{\\left(- r^{c}_{0 x}{\\left(t \\right)} + r^{d}_{0 x}{\\left(t \\right)}\\right)^{2} + \\left(- r^{c}_{0 y}{\\left(t \\right)} + r^{d}_{0 y}{\\left(t \\right)}\\right)^{2} + \\left(- r^{c}_{0 z}{\\left(t \\right)} + r^{d}_{0 z}{\\left(t \\right)}\\right)^{2}} & \\sqrt{\\left(r^{d}_{0 x}{\\left(t \\right)} - r^{c}_{1 x}{\\left(t \\right)}\\right)^{2} + \\left(r^{d}_{0 y}{\\left(t \\right)} - r^{c}_{1 y}{\\left(t \\right)}\\right)^{2} + \\left(r^{d}_{0 z}{\\left(t \\right)} - r^{c}_{1 z}{\\left(t \\right)}\\right)^{2}} & \\sqrt{\\left(r^{d}_{0 x}{\\left(t \\right)} - r^{c}_{2 x}{\\left(t \\right)}\\right)^{2} + \\left(r^{d}_{0 y}{\\left(t \\right)} - r^{c}_{2 y}{\\left(t \\right)}\\right)^{2} + \\left(r^{d}_{0 z}{\\left(t \\right)} - r^{c}_{2 z}{\\left(t \\right)}\\right)^{2}}\\end{matrix}\\right]$"
      ],
      "text/plain": [
       "Matrix([[sqrt((-r_0^c_x(t) + r_0^d_x(t))**2 + (-r_0^c_y(t) + r_0^d_y(t))**2 + (-r_0^c_z(t) + r_0^d_z(t))**2), sqrt((r_0^d_x(t) - r_1^c_x(t))**2 + (r_0^d_y(t) - r_1^c_y(t))**2 + (r_0^d_z(t) - r_1^c_z(t))**2), sqrt((r_0^d_x(t) - r_2^c_x(t))**2 + (r_0^d_y(t) - r_2^c_y(t))**2 + (r_0^d_z(t) - r_2^c_z(t))**2)]])"
      ]
     },
     "metadata": {},
     "output_type": "display_data"
    },
    {
     "name": "stdout",
     "output_type": "stream",
     "text": [
      "\u001b[0m\u001b[1mКоличество кубсатов: 3\n",
      "Количество чипсатов: 1\n",
      "\u001b[0m\u001b[0m\n",
      "Неизвестные: n = 6 (на каждый чипсат по 6 параметров)\n",
      "Известные: l = 3\n",
      "∃ производные порядка k = 2.0 (Должна быть целой!)\n",
      "Критерий (055): происзводные порядка 9.0\n",
      "_расчёт матрицы H_: k=1/2, l=1/3\n",
      "_расчёт матрицы H_: k=1/2, l=2/3\n",
      "_расчёт матрицы H_: k=1/2, l=3/3\n",
      "_расчёт матрицы H_: k=2/2, l=1/3\n",
      "_расчёт матрицы H_: k=2/2, l=2/3\n",
      "_расчёт матрицы H_: k=2/2, l=3/3\n",
      "Размерность матрицы H: (6, 1)\n",
      "Размерность матрицы J: (6, 6)\n",
      "    J_numb: расчёт строки : 1 / 6\n",
      "    J_numb: расчёт строки : 2 / 6\n",
      "    J_numb: расчёт строки : 3 / 6\n",
      "    J_numb: расчёт строки : 4 / 6\n",
      "    J_numb: расчёт строки : 5 / 6\n",
      "    J_numb: расчёт строки : 6 / 6\n",
      "v = [1.92608954 1.81829476 1.19125186 1.05319309 0.04695186 0.00803984]\n",
      "σₘₙ/σₘₐₓ = 0.008039844240931123/1.9260895375160711 = 0.004174179904065877 | σ>10⁻⁵: 6/6 (статья 051)\n",
      "\n",
      "Ранг матрицы: [6, 6, 6, 6, 6, 6] (статья 055)\n",
      "Детерминант матрицы: 0.04072643480619379\n",
      "Следующие параметры не должны быть нулевыми:\n",
      "\n",
      "Δ_0 = 0.02130463680140075\n",
      "Δ_1 / Δ_0 = -0.012888566582631352\n",
      "Δ_2 / Δ_1 = 0.14121720765893286\n",
      "Δ_3 / Δ_2 = 0.021304636801400767\n",
      "Δ_4 / Δ_3 = -0.012888566582631352\n",
      "Δ_5 / Δ_4 = 0.14121720765893286\n",
      "\n",
      "\u001b[1mВыполнено достаточное условие! Система наблюдаема\u001b[0m\n"
     ]
    }
   ],
   "source": [
    "H_3_1, J_3_1, J_numb_3_1, Δ_3_1, report_3_1 = observe_system(n_c=3, \n",
    "                                                             n_d=1, \n",
    "                                                             is_c_move=True, \n",
    "                                                             is_d_qw=False, \n",
    "                                                             is_angles=False, \n",
    "                                                             is_drag=False, \n",
    "                                                             is_only_xz=False, \n",
    "                                                             testprint=False,\n",
    "                                                             hand_written_deriv=None)"
   ]
  },
  {
   "cell_type": "code",
   "execution_count": 16,
   "id": "0a9b6d24-13b5-4a57-94e0-edd0fe74c59e",
   "metadata": {},
   "outputs": [
    {
     "name": "stdout",
     "output_type": "stream",
     "text": [
      "\u001b[0m\u001b[1mВектор состояния:\u001b[0m\u001b[0m\n"
     ]
    },
    {
     "data": {
      "text/latex": [
       "$\\displaystyle \\left[\\begin{matrix}r^{d}_{0 x}{\\left(t \\right)} & r^{d}_{0 y}{\\left(t \\right)} & r^{d}_{0 z}{\\left(t \\right)} & v^{d}_{0 x}{\\left(t \\right)} & v^{d}_{0 y}{\\left(t \\right)} & v^{d}_{0 z}{\\left(t \\right)}\\end{matrix}\\right]$"
      ],
      "text/plain": [
       "Matrix([[r_0^d_x(t), r_0^d_y(t), r_0^d_z(t), v_0^d_x(t), v_0^d_y(t), v_0^d_z(t)]])"
      ]
     },
     "metadata": {},
     "output_type": "display_data"
    },
    {
     "name": "stdout",
     "output_type": "stream",
     "text": [
      "\u001b[0m\u001b[1mВектор измерений:\u001b[0m\u001b[0m\n"
     ]
    },
    {
     "data": {
      "text/latex": [
       "$\\displaystyle \\left[\\begin{matrix}\\sqrt{\\left(- r^{c}_{0 x}{\\left(t \\right)} + r^{d}_{0 x}{\\left(t \\right)}\\right)^{2} + \\left(- r^{c}_{0 y}{\\left(t \\right)} + r^{d}_{0 y}{\\left(t \\right)}\\right)^{2} + \\left(- r^{c}_{0 z}{\\left(t \\right)} + r^{d}_{0 z}{\\left(t \\right)}\\right)^{2}}\\\\\\sqrt{\\left(- r^{c}_{0 x}{\\left(t \\right)} + r^{d}_{0 x}{\\left(t \\right)}\\right)^{2} + \\left(- r^{c}_{0 y}{\\left(t \\right)} + r^{d}_{0 y}{\\left(t \\right)}\\right)^{2} + \\left(- r^{c}_{0 z}{\\left(t \\right)} + r^{d}_{0 z}{\\left(t \\right)}\\right)^{2}}\\\\\\sqrt{\\left(r^{d}_{0 x}{\\left(t \\right)} - r^{c}_{1 x}{\\left(t \\right)}\\right)^{2} + \\left(r^{d}_{0 y}{\\left(t \\right)} - r^{c}_{1 y}{\\left(t \\right)}\\right)^{2} + \\left(r^{d}_{0 z}{\\left(t \\right)} - r^{c}_{1 z}{\\left(t \\right)}\\right)^{2}}\\\\\\sqrt{\\left(r^{d}_{0 x}{\\left(t \\right)} - r^{c}_{1 x}{\\left(t \\right)}\\right)^{2} + \\left(r^{d}_{0 y}{\\left(t \\right)} - r^{c}_{1 y}{\\left(t \\right)}\\right)^{2} + \\left(r^{d}_{0 z}{\\left(t \\right)} - r^{c}_{1 z}{\\left(t \\right)}\\right)^{2}}\\\\\\sqrt{\\left(r^{d}_{0 x}{\\left(t \\right)} - r^{c}_{2 x}{\\left(t \\right)}\\right)^{2} + \\left(r^{d}_{0 y}{\\left(t \\right)} - r^{c}_{2 y}{\\left(t \\right)}\\right)^{2} + \\left(r^{d}_{0 z}{\\left(t \\right)} - r^{c}_{2 z}{\\left(t \\right)}\\right)^{2}}\\\\\\sqrt{\\left(r^{d}_{0 x}{\\left(t \\right)} - r^{c}_{2 x}{\\left(t \\right)}\\right)^{2} + \\left(r^{d}_{0 y}{\\left(t \\right)} - r^{c}_{2 y}{\\left(t \\right)}\\right)^{2} + \\left(r^{d}_{0 z}{\\left(t \\right)} - r^{c}_{2 z}{\\left(t \\right)}\\right)^{2}}\\\\\\sqrt{\\left(r^{d}_{0 x}{\\left(t \\right)} - r^{c}_{3 x}{\\left(t \\right)}\\right)^{2} + \\left(r^{d}_{0 y}{\\left(t \\right)} - r^{c}_{3 y}{\\left(t \\right)}\\right)^{2} + \\left(r^{d}_{0 z}{\\left(t \\right)} - r^{c}_{3 z}{\\left(t \\right)}\\right)^{2}}\\\\\\sqrt{\\left(r^{d}_{0 x}{\\left(t \\right)} - r^{c}_{3 x}{\\left(t \\right)}\\right)^{2} + \\left(r^{d}_{0 y}{\\left(t \\right)} - r^{c}_{3 y}{\\left(t \\right)}\\right)^{2} + \\left(r^{d}_{0 z}{\\left(t \\right)} - r^{c}_{3 z}{\\left(t \\right)}\\right)^{2}}\\\\\\sqrt{\\left(r^{d}_{0 x}{\\left(t \\right)} - r^{c}_{4 x}{\\left(t \\right)}\\right)^{2} + \\left(r^{d}_{0 y}{\\left(t \\right)} - r^{c}_{4 y}{\\left(t \\right)}\\right)^{2} + \\left(r^{d}_{0 z}{\\left(t \\right)} - r^{c}_{4 z}{\\left(t \\right)}\\right)^{2}}\\\\\\sqrt{\\left(r^{d}_{0 x}{\\left(t \\right)} - r^{c}_{4 x}{\\left(t \\right)}\\right)^{2} + \\left(r^{d}_{0 y}{\\left(t \\right)} - r^{c}_{4 y}{\\left(t \\right)}\\right)^{2} + \\left(r^{d}_{0 z}{\\left(t \\right)} - r^{c}_{4 z}{\\left(t \\right)}\\right)^{2}}\\\\\\sqrt{\\left(r^{d}_{0 x}{\\left(t \\right)} - r^{c}_{5 x}{\\left(t \\right)}\\right)^{2} + \\left(r^{d}_{0 y}{\\left(t \\right)} - r^{c}_{5 y}{\\left(t \\right)}\\right)^{2} + \\left(r^{d}_{0 z}{\\left(t \\right)} - r^{c}_{5 z}{\\left(t \\right)}\\right)^{2}}\\\\\\sqrt{\\left(r^{d}_{0 x}{\\left(t \\right)} - r^{c}_{5 x}{\\left(t \\right)}\\right)^{2} + \\left(r^{d}_{0 y}{\\left(t \\right)} - r^{c}_{5 y}{\\left(t \\right)}\\right)^{2} + \\left(r^{d}_{0 z}{\\left(t \\right)} - r^{c}_{5 z}{\\left(t \\right)}\\right)^{2}}\\end{matrix}\\right]$"
      ],
      "text/plain": [
       "Matrix([\n",
       "[sqrt((-r_0^c_x(t) + r_0^d_x(t))**2 + (-r_0^c_y(t) + r_0^d_y(t))**2 + (-r_0^c_z(t) + r_0^d_z(t))**2)],\n",
       "[sqrt((-r_0^c_x(t) + r_0^d_x(t))**2 + (-r_0^c_y(t) + r_0^d_y(t))**2 + (-r_0^c_z(t) + r_0^d_z(t))**2)],\n",
       "[   sqrt((r_0^d_x(t) - r_1^c_x(t))**2 + (r_0^d_y(t) - r_1^c_y(t))**2 + (r_0^d_z(t) - r_1^c_z(t))**2)],\n",
       "[   sqrt((r_0^d_x(t) - r_1^c_x(t))**2 + (r_0^d_y(t) - r_1^c_y(t))**2 + (r_0^d_z(t) - r_1^c_z(t))**2)],\n",
       "[   sqrt((r_0^d_x(t) - r_2^c_x(t))**2 + (r_0^d_y(t) - r_2^c_y(t))**2 + (r_0^d_z(t) - r_2^c_z(t))**2)],\n",
       "[   sqrt((r_0^d_x(t) - r_2^c_x(t))**2 + (r_0^d_y(t) - r_2^c_y(t))**2 + (r_0^d_z(t) - r_2^c_z(t))**2)],\n",
       "[   sqrt((r_0^d_x(t) - r_3^c_x(t))**2 + (r_0^d_y(t) - r_3^c_y(t))**2 + (r_0^d_z(t) - r_3^c_z(t))**2)],\n",
       "[   sqrt((r_0^d_x(t) - r_3^c_x(t))**2 + (r_0^d_y(t) - r_3^c_y(t))**2 + (r_0^d_z(t) - r_3^c_z(t))**2)],\n",
       "[   sqrt((r_0^d_x(t) - r_4^c_x(t))**2 + (r_0^d_y(t) - r_4^c_y(t))**2 + (r_0^d_z(t) - r_4^c_z(t))**2)],\n",
       "[   sqrt((r_0^d_x(t) - r_4^c_x(t))**2 + (r_0^d_y(t) - r_4^c_y(t))**2 + (r_0^d_z(t) - r_4^c_z(t))**2)],\n",
       "[   sqrt((r_0^d_x(t) - r_5^c_x(t))**2 + (r_0^d_y(t) - r_5^c_y(t))**2 + (r_0^d_z(t) - r_5^c_z(t))**2)],\n",
       "[   sqrt((r_0^d_x(t) - r_5^c_x(t))**2 + (r_0^d_y(t) - r_5^c_y(t))**2 + (r_0^d_z(t) - r_5^c_z(t))**2)]])"
      ]
     },
     "metadata": {},
     "output_type": "display_data"
    },
    {
     "name": "stdout",
     "output_type": "stream",
     "text": [
      "\u001b[0m\u001b[1mВектор измерений (изменённый):\u001b[0m\u001b[0m\n"
     ]
    },
    {
     "data": {
      "text/latex": [
       "$\\displaystyle \\left[\\begin{matrix}\\sqrt{\\left(- r^{c}_{0 x}{\\left(t \\right)} + r^{d}_{0 x}{\\left(t \\right)}\\right)^{2} + \\left(- r^{c}_{0 y}{\\left(t \\right)} + r^{d}_{0 y}{\\left(t \\right)}\\right)^{2} + \\left(- r^{c}_{0 z}{\\left(t \\right)} + r^{d}_{0 z}{\\left(t \\right)}\\right)^{2}} & \\sqrt{\\left(r^{d}_{0 x}{\\left(t \\right)} - r^{c}_{1 x}{\\left(t \\right)}\\right)^{2} + \\left(r^{d}_{0 y}{\\left(t \\right)} - r^{c}_{1 y}{\\left(t \\right)}\\right)^{2} + \\left(r^{d}_{0 z}{\\left(t \\right)} - r^{c}_{1 z}{\\left(t \\right)}\\right)^{2}} & \\sqrt{\\left(r^{d}_{0 x}{\\left(t \\right)} - r^{c}_{2 x}{\\left(t \\right)}\\right)^{2} + \\left(r^{d}_{0 y}{\\left(t \\right)} - r^{c}_{2 y}{\\left(t \\right)}\\right)^{2} + \\left(r^{d}_{0 z}{\\left(t \\right)} - r^{c}_{2 z}{\\left(t \\right)}\\right)^{2}} & \\sqrt{\\left(r^{d}_{0 x}{\\left(t \\right)} - r^{c}_{3 x}{\\left(t \\right)}\\right)^{2} + \\left(r^{d}_{0 y}{\\left(t \\right)} - r^{c}_{3 y}{\\left(t \\right)}\\right)^{2} + \\left(r^{d}_{0 z}{\\left(t \\right)} - r^{c}_{3 z}{\\left(t \\right)}\\right)^{2}} & \\sqrt{\\left(r^{d}_{0 x}{\\left(t \\right)} - r^{c}_{4 x}{\\left(t \\right)}\\right)^{2} + \\left(r^{d}_{0 y}{\\left(t \\right)} - r^{c}_{4 y}{\\left(t \\right)}\\right)^{2} + \\left(r^{d}_{0 z}{\\left(t \\right)} - r^{c}_{4 z}{\\left(t \\right)}\\right)^{2}} & \\sqrt{\\left(r^{d}_{0 x}{\\left(t \\right)} - r^{c}_{5 x}{\\left(t \\right)}\\right)^{2} + \\left(r^{d}_{0 y}{\\left(t \\right)} - r^{c}_{5 y}{\\left(t \\right)}\\right)^{2} + \\left(r^{d}_{0 z}{\\left(t \\right)} - r^{c}_{5 z}{\\left(t \\right)}\\right)^{2}}\\end{matrix}\\right]$"
      ],
      "text/plain": [
       "Matrix([[sqrt((-r_0^c_x(t) + r_0^d_x(t))**2 + (-r_0^c_y(t) + r_0^d_y(t))**2 + (-r_0^c_z(t) + r_0^d_z(t))**2), sqrt((r_0^d_x(t) - r_1^c_x(t))**2 + (r_0^d_y(t) - r_1^c_y(t))**2 + (r_0^d_z(t) - r_1^c_z(t))**2), sqrt((r_0^d_x(t) - r_2^c_x(t))**2 + (r_0^d_y(t) - r_2^c_y(t))**2 + (r_0^d_z(t) - r_2^c_z(t))**2), sqrt((r_0^d_x(t) - r_3^c_x(t))**2 + (r_0^d_y(t) - r_3^c_y(t))**2 + (r_0^d_z(t) - r_3^c_z(t))**2), sqrt((r_0^d_x(t) - r_4^c_x(t))**2 + (r_0^d_y(t) - r_4^c_y(t))**2 + (r_0^d_z(t) - r_4^c_z(t))**2), sqrt((r_0^d_x(t) - r_5^c_x(t))**2 + (r_0^d_y(t) - r_5^c_y(t))**2 + (r_0^d_z(t) - r_5^c_z(t))**2)]])"
      ]
     },
     "metadata": {},
     "output_type": "display_data"
    },
    {
     "name": "stdout",
     "output_type": "stream",
     "text": [
      "\u001b[0m\u001b[1mКоличество кубсатов: 6\n",
      "Количество чипсатов: 1\n",
      "\u001b[0m\u001b[0m\n",
      "Неизвестные: n = 6 (на каждый чипсат по 6 параметров)\n",
      "Известные: l = 6\n",
      "∃ производные порядка k = 1.0 (Должна быть целой!)\n",
      "Критерий (055): происзводные порядка 4.5\n",
      "_расчёт матрицы H_: k=1/1, l=1/6\n",
      "_расчёт матрицы H_: k=1/1, l=2/6\n",
      "_расчёт матрицы H_: k=1/1, l=3/6\n",
      "_расчёт матрицы H_: k=1/1, l=4/6\n",
      "_расчёт матрицы H_: k=1/1, l=5/6\n",
      "_расчёт матрицы H_: k=1/1, l=6/6\n",
      "Размерность матрицы H: (6, 1)\n",
      "Размерность матрицы J: (6, 6)\n",
      "    J_numb: расчёт строки : 1 / 6\n",
      "    J_numb: расчёт строки : 2 / 6\n",
      "    J_numb: расчёт строки : 3 / 6\n",
      "    J_numb: расчёт строки : 4 / 6\n",
      "    J_numb: расчёт строки : 5 / 6\n",
      "    J_numb: расчёт строки : 6 / 6\n",
      "v = [2.69510789 2.09062384 1.21426827 0.         0.         0.        ]\n",
      "σₘₙ/σₘₐₓ = 0.0/2.695107894585057 = 0.0 | σ>10⁻⁵: 3/6 (статья 051)\n",
      "\n",
      "Ранг матрицы: [3, 3, 3, 3, 3, 3] (статья 055)\n",
      "Детерминант матрицы: 0.0\n",
      "Следующие параметры не должны быть нулевыми:\n",
      "\n",
      "Δ_0 = 0.0\n",
      "\n",
      "\u001b[1mНе выполнено достаточное условие. Нулевой параметр: Δ_0 = 0.0\u001b[0m\n"
     ]
    }
   ],
   "source": [
    "H_3_1, J_3_1, J_numb_3_1, Δ_3_1, report_3_1 = observe_system(n_c=6, \n",
    "                                                             n_d=1, \n",
    "                                                             is_c_move=True, \n",
    "                                                             is_d_qw=False, \n",
    "                                                             is_angles=False, \n",
    "                                                             is_drag=False, \n",
    "                                                             is_only_xz=False, \n",
    "                                                             testprint=False,\n",
    "                                                             hand_written_deriv=None)"
   ]
  },
  {
   "cell_type": "code",
   "execution_count": null,
   "id": "7059c550-e120-410a-b117-cc671a7d8c7d",
   "metadata": {},
   "outputs": [],
   "source": [
    "# save_reports([report_11_1, report_11_5, report_11_11, report_11_1_, report_11_3_, report_11_7_], \"AeroOn_AttitudeOff_AntennaOff\")\n",
    "# print(read_reports(\"AeroOn_AttitudeOff_AntennaOff\"))"
   ]
  },
  {
   "cell_type": "markdown",
   "id": "ec908404-8a0a-4100-94f8-2314d33c689c",
   "metadata": {},
   "source": [
    "###### <u>Наблюдаемость системы</u> c аэродинамикой, без углового движения, антенны изотропные"
   ]
  },
  {
   "cell_type": "code",
   "execution_count": null,
   "id": "778190b3-c8e2-4dbc-b008-0d7079165ff3",
   "metadata": {},
   "outputs": [],
   "source": [
    "H_tmp, J_tmp, J_numb_tmp, Δ_tmp, report_tmp = observe_system(n_c=2, \n",
    "                                                             n_d=1, \n",
    "                                                             is_c_move=True, \n",
    "                                                             is_d_qw=False, \n",
    "                                                             is_angles=False, \n",
    "                                                             is_drag=True, \n",
    "                                                             is_only_xz=False, \n",
    "                                                             testprint=False,\n",
    "                                                             hand_written_deriv=None)"
   ]
  },
  {
   "cell_type": "code",
   "execution_count": 14,
   "id": "7dae3198-160f-4f81-853a-84c864ba2b42",
   "metadata": {},
   "outputs": [
    {
     "name": "stdout",
     "output_type": "stream",
     "text": [
      "\u001b[0m\u001b[1mВектор состояния:\u001b[0m\u001b[0m\n"
     ]
    },
    {
     "data": {
      "text/latex": [
       "$\\displaystyle \\left[\\begin{matrix}r^{d}_{0 x}{\\left(t \\right)} & r^{d}_{0 y}{\\left(t \\right)} & r^{d}_{0 z}{\\left(t \\right)} & v^{d}_{0 x}{\\left(t \\right)} & v^{d}_{0 y}{\\left(t \\right)} & v^{d}_{0 z}{\\left(t \\right)}\\end{matrix}\\right]$"
      ],
      "text/plain": [
       "Matrix([[r_0^d_x(t), r_0^d_y(t), r_0^d_z(t), v_0^d_x(t), v_0^d_y(t), v_0^d_z(t)]])"
      ]
     },
     "metadata": {},
     "output_type": "display_data"
    },
    {
     "name": "stdout",
     "output_type": "stream",
     "text": [
      "\u001b[0m\u001b[1mВектор измерений:\u001b[0m\u001b[0m\n"
     ]
    },
    {
     "data": {
      "text/latex": [
       "$\\displaystyle \\left[\\begin{matrix}\\sqrt{\\left(r^{d}_{0 x}\\right)^{2}{\\left(t \\right)} + \\left(r^{d}_{0 y}\\right)^{2}{\\left(t \\right)} + \\left(r^{d}_{0 z}\\right)^{2}{\\left(t \\right)}}\\\\\\sqrt{\\left(r^{d}_{0 x}\\right)^{2}{\\left(t \\right)} + \\left(r^{d}_{0 y}\\right)^{2}{\\left(t \\right)} + \\left(r^{d}_{0 z}\\right)^{2}{\\left(t \\right)}}\\end{matrix}\\right]$"
      ],
      "text/plain": [
       "Matrix([\n",
       "[sqrt(r_0^d_x(t)**2 + r_0^d_y(t)**2 + r_0^d_z(t)**2)],\n",
       "[sqrt(r_0^d_x(t)**2 + r_0^d_y(t)**2 + r_0^d_z(t)**2)]])"
      ]
     },
     "metadata": {},
     "output_type": "display_data"
    },
    {
     "name": "stdout",
     "output_type": "stream",
     "text": [
      "\u001b[0m\u001b[1mВектор измерений (изменённый):\u001b[0m\u001b[0m\n"
     ]
    },
    {
     "data": {
      "text/latex": [
       "$\\displaystyle \\left[\\begin{matrix}\\sqrt{\\left(r^{d}_{0 x}\\right)^{2}{\\left(t \\right)} + \\left(r^{d}_{0 y}\\right)^{2}{\\left(t \\right)} + \\left(r^{d}_{0 z}\\right)^{2}{\\left(t \\right)}}\\end{matrix}\\right]$"
      ],
      "text/plain": [
       "Matrix([[sqrt(r_0^d_x(t)**2 + r_0^d_y(t)**2 + r_0^d_z(t)**2)]])"
      ]
     },
     "metadata": {},
     "output_type": "display_data"
    },
    {
     "name": "stdout",
     "output_type": "stream",
     "text": [
      "\u001b[0m\u001b[1mВектор состояния (изменённый):\u001b[0m\u001b[0m\n"
     ]
    },
    {
     "data": {
      "text/latex": [
       "$\\displaystyle \\left[\\begin{matrix}r^{d}_{0 x}{\\left(t \\right)}\\\\r^{d}_{0 z}{\\left(t \\right)}\\\\v^{d}_{0 x}{\\left(t \\right)}\\\\v^{d}_{0 z}{\\left(t \\right)}\\end{matrix}\\right]$"
      ],
      "text/plain": [
       "Matrix([\n",
       "[r_0^d_x(t)],\n",
       "[r_0^d_z(t)],\n",
       "[v_0^d_x(t)],\n",
       "[v_0^d_z(t)]])"
      ]
     },
     "metadata": {},
     "output_type": "display_data"
    },
    {
     "name": "stdout",
     "output_type": "stream",
     "text": [
      "\u001b[0m\u001b[1mКоличество кубсатов: 1\n",
      "Количество чипсатов: 1\n",
      "\u001b[0m\u001b[0m\n",
      "Неизвестные: n = 4 (на каждый чипсат по 4 параметров)\n",
      "Известные: l = 1\n",
      "∃ производные порядка k = 4.0 (Должна быть целой!)\n",
      "Критерий (055): происзводные порядка 14.0\n",
      "_расчёт матрицы H_: k=1/4, l=1/1\n",
      "_расчёт матрицы H_: k=2/4, l=1/1\n",
      "_расчёт матрицы H_: k=3/4, l=1/1\n",
      "_расчёт матрицы H_: k=4/4, l=1/1\n",
      "Размерность матрицы H: (4, 1)\n",
      "Размерность матрицы J: (4, 4)\n",
      "    J_numb: расчёт строки : 1 / 4\n",
      "    J_numb: расчёт строки : 2 / 4\n",
      "    J_numb: расчёт строки : 3 / 4\n",
      "    J_numb: расчёт строки : 4 / 4\n",
      "v = [1.01005853e+00 9.91224792e-01 4.11394173e-02 3.18725872e-13]\n",
      "σₘₙ/σₘₐₓ = 3.1872587164221276e-13/1.0100585309839982 = 3.155518832475087e-13 | σ>10⁻⁵: 3/4 (статья 051)\n",
      "\n",
      "Ранг матрицы: [3, 3, 4, 4, 4, 4] (статья 055)\n",
      "Детерминант матрицы: -1.1457174342670641e-07\n",
      "Следующие параметры не должны быть нулевыми:\n",
      "\n",
      "Δ_0 = 0.00022814262825270046\n",
      "Δ_1 / Δ_0 = 0.00520245822266811\n",
      "Δ_2 / Δ_1 = -0.0009497291018764873\n",
      "Δ_3 / Δ_2 = -0.01635263353004185\n",
      "\n",
      "\u001b[1mВыполнено достаточное условие! Система наблюдаема\u001b[0m\n"
     ]
    }
   ],
   "source": [
    "H_tmp, J_tmp, J_numb_tmp, Δ_tmp, report_tmp = observe_system(n_c=1, \n",
    "                                                             n_d=1, \n",
    "                                                             is_c_move=False, \n",
    "                                                             is_d_qw=False, \n",
    "                                                             is_angles=False, \n",
    "                                                             is_drag=True, \n",
    "                                                             is_only_xz=True, \n",
    "                                                             testprint=False,\n",
    "                                                             hand_written_deriv=None)"
   ]
  },
  {
   "cell_type": "markdown",
   "id": "1ad5a114-b0c3-476c-84f9-f3438a674fe2",
   "metadata": {},
   "source": [
    "###### <u>Наблюдаемость системы</u> с аэродинамикой, с угловым движением, антенны - полуволновой диполь"
   ]
  },
  {
   "cell_type": "code",
   "execution_count": null,
   "id": "2847255e-be92-4fba-b020-fac1fb312934",
   "metadata": {},
   "outputs": [
    {
     "name": "stdout",
     "output_type": "stream",
     "text": [
      "\u001b[0m\u001b[1mВектор состояния:\u001b[0m\u001b[0m\n"
     ]
    },
    {
     "data": {
      "text/latex": [
       "$\\displaystyle \\left[\\begin{array}{cccccccccccc}r^{d}_{0 x}{\\left(t \\right)} & r^{d}_{0 y}{\\left(t \\right)} & r^{d}_{0 z}{\\left(t \\right)} & q^{d}_{0 x}{\\left(t \\right)} & q^{d}_{0 y}{\\left(t \\right)} & q^{d}_{0 z}{\\left(t \\right)} & v^{d}_{0 x}{\\left(t \\right)} & v^{d}_{0 y}{\\left(t \\right)} & v^{d}_{0 z}{\\left(t \\right)} & ω^{d}_{0 x}{\\left(t \\right)} & ω^{d}_{0 y}{\\left(t \\right)} & ω^{d}_{0 z}{\\left(t \\right)}\\end{array}\\right]$"
      ],
      "text/plain": [
       "Matrix([[r_0^d_x(t), r_0^d_y(t), r_0^d_z(t), q_0^d_x(t), q_0^d_y(t), q_0^d_z(t), v_0^d_x(t), v_0^d_y(t), v_0^d_z(t), ω_0^d_x(t), ω_0^d_y(t), ω_0^d_z(t)]])"
      ]
     },
     "metadata": {},
     "output_type": "display_data"
    },
    {
     "name": "stdout",
     "output_type": "stream",
     "text": [
      "\u001b[0m\u001b[1mВектор измерений:\u001b[0m\u001b[0m\n"
     ]
    }
   ],
   "source": [
    "H_3, Js_3, Jn_3, Δ_3, report_3 = observe_system(n_c=2, \n",
    "                                                n_d=1, \n",
    "                                                is_c_move=True, \n",
    "                                                is_d_qw=True, \n",
    "                                                is_angles=True, \n",
    "                                                is_drag=True, \n",
    "                                                is_only_xz=True, \n",
    "                                                testprint=False,\n",
    "                                                hand_written_deriv=None)"
   ]
  },
  {
   "cell_type": "code",
   "execution_count": null,
   "id": "11fdce1f-4599-4452-adc8-d642bb22af64",
   "metadata": {},
   "outputs": [],
   "source": [
    "H_3, Js_3, Jn_3, Δ_3, report_3 = observe_system(n_c=1, \n",
    "                                                n_d=1, \n",
    "                                                is_c_move=True, \n",
    "                                                is_d_qw=True, \n",
    "                                                is_angles=True, \n",
    "                                                is_drag=True, \n",
    "                                                is_only_xz=False, \n",
    "                                                testprint=False,\n",
    "                                                hand_written_deriv=None)"
   ]
  },
  {
   "cell_type": "code",
   "execution_count": null,
   "id": "e2aeda37-66e8-4f43-aca3-00d8ee577521",
   "metadata": {},
   "outputs": [],
   "source": [
    "H_3, Js_3, Jn_3, Δ_3, report_3 = observe_system(n_c=12, \n",
    "                                                n_d=1, \n",
    "                                                is_c_move=True, \n",
    "                                                is_d_qw=True, \n",
    "                                                is_angles=True, \n",
    "                                                is_drag=True, \n",
    "                                                is_only_xz=False, \n",
    "                                                testprint=False,\n",
    "                                                hand_written_deriv=None)"
   ]
  },
  {
   "cell_type": "code",
   "execution_count": null,
   "id": "53b26d75-fd3e-493f-8239-9c05d6380326",
   "metadata": {},
   "outputs": [],
   "source": [
    "H_3, Js_3, Jn_3, Δ_3, report_3 = observe_system(n_c=1, \n",
    "                                                n_d=1, \n",
    "                                                is_c_move=True, \n",
    "                                                is_d_qw=True, \n",
    "                                                is_angles=True, \n",
    "                                                is_drag=True, \n",
    "                                                is_only_xz=True, \n",
    "                                                testprint=False,\n",
    "                                                hand_written_deriv=None)"
   ]
  },
  {
   "cell_type": "code",
   "execution_count": null,
   "id": "a94015a2-fb0d-4af3-8241-7be1940e6f1b",
   "metadata": {},
   "outputs": [],
   "source": []
  },
  {
   "cell_type": "code",
   "execution_count": null,
   "id": "a812600a-2996-4deb-8589-71b1b298937e",
   "metadata": {},
   "outputs": [],
   "source": []
  },
  {
   "cell_type": "code",
   "execution_count": null,
   "id": "3aed42b9-7e9f-4c88-a716-d739f0fe66bc",
   "metadata": {},
   "outputs": [],
   "source": []
  },
  {
   "cell_type": "code",
   "execution_count": null,
   "id": "80a75bc7-d667-4f28-b7f4-6ac854adbe61",
   "metadata": {},
   "outputs": [],
   "source": []
  },
  {
   "cell_type": "code",
   "execution_count": null,
   "id": "66aec060-fc22-482c-9895-79b74555b14d",
   "metadata": {},
   "outputs": [],
   "source": [
    "H_5, Js_5, Jn_5, Δ_5, report_5 = observe_system(n_c=1, \n",
    "                                                n_d=1, \n",
    "                                                is_c_move=True, \n",
    "                                                is_d_qw=True, \n",
    "                                                is_angles=True, \n",
    "                                                is_drag=True, \n",
    "                                                is_only_xz=True, \n",
    "                                                testprint=False,\n",
    "                                                hand_written_deriv=None)"
   ]
  }
 ],
 "metadata": {
  "kernelspec": {
   "display_name": "Python 3 (ipykernel)",
   "language": "python",
   "name": "python3"
  },
  "language_info": {
   "codemirror_mode": {
    "name": "ipython",
    "version": 3
   },
   "file_extension": ".py",
   "mimetype": "text/x-python",
   "name": "python",
   "nbconvert_exporter": "python",
   "pygments_lexer": "ipython3",
   "version": "3.10.12"
  }
 },
 "nbformat": 4,
 "nbformat_minor": 5
}
