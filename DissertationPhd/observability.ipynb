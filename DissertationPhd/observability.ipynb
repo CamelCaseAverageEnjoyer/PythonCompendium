{
 "cells": [
  {
   "cell_type": "markdown",
   "id": "0222fe4e-2213-435c-b33e-6afbc4783554",
   "metadata": {},
   "source": [
    "# <span style=\"color:#91299A\">Основа аспирантской диссертации - проблема наблюдаемости системы</span> "
   ]
  },
  {
   "cell_type": "markdown",
   "id": "af80236e-9cce-4c88-b3ca-68225373eda8",
   "metadata": {},
   "source": [
    "![](../storage/banners/7.jpg)"
   ]
  },
  {
   "cell_type": "markdown",
   "id": "fa32b67b-5e46-4431-a6f7-f11c50f0199d",
   "metadata": {},
   "source": [
    "### <span style=\"color:#0ab49a\">Согласно статье</span> <span style=\"color:#A254FC\">038 (Shauying R.K.) Observability of Nonlinear Systems</span> "
   ]
  },
  {
   "cell_type": "markdown",
   "id": "da7fe0ed-5aa5-49e7-b661-5bfde30733a2",
   "metadata": {},
   "source": [
    "#### <span style=\"color:#2c3e50\">Начало</span> "
   ]
  },
  {
   "cell_type": "code",
   "execution_count": 1,
   "id": "e83aa4df-5722-4bc6-93d5-0322a210870d",
   "metadata": {},
   "outputs": [
    {
     "name": "stdout",
     "output_type": "stream",
     "text": [
      "Высота орбиты: 350 км\n",
      "Период орбиты: 1.52 часов\n",
      "Плотность атмосферы: 2.7797537885625094e-11 кг/м³\n"
     ]
    }
   ],
   "source": [
    "from sympy import *\n",
    "import numpy as np\n",
    "\n",
    "# Общие параметры\n",
    "h_orb = 350e3\n",
    "RadiusEarth = 6371000.\n",
    "Radius_orbit = RadiusEarth + h_orb\n",
    "mu = 398576057600000.06\n",
    "ω_orb = np.sqrt(mu / (Radius_orbit ** 3))\n",
    "v_orb = ω_orb * Radius_orbit\n",
    "\n",
    "# Расчёт плотности атмосферы -> https://www.grc.nasa.gov/www/k-12/airplane/atmosmet.html\n",
    "t = -131.21 + 0.00299 * h_orb\n",
    "p = 2.488 * ((t + 273.1) / 216.6) ** -11.388\n",
    "ρ = p / (0.2869 * (t + 273.1))\n",
    "\n",
    "print(f\"Высота орбиты: {int(h_orb // 1e3)} км\\nПериод орбиты: {round((2*np.pi/ω_orb) / 3600, 2)} часов\\nПлотность атмосферы: {ρ} кг/м³\")"
   ]
  },
  {
   "cell_type": "markdown",
   "id": "e23f1582-78ea-4667-96f7-a845736c1c4d",
   "metadata": {},
   "source": [
    "#### <span style=\"color:#2c3e50\">Алгоритм</span>\n",
    "\n",
    "<span style=\"color:#2b817d\">Примечание:</span>     $km \\geq n$"
   ]
  },
  {
   "cell_type": "markdown",
   "id": "dc5f69a6-2a0a-42ce-bf36-8445f13a0972",
   "metadata": {},
   "source": [
    "<span style=\"color:#0ab49a\">Согласно статье</span> <span style=\"color:#A254FC\">055 (Yujiro Inowe) On the Observability of Autonomous Nonlinear Systems</span> <span style=\"color:#0ab49a\">надо просто проверить ранг во всём $R^n$!</span>    $rg\\frac{\\partial \\boldsymbol{H}_d}{\\partial \\boldsymbol{x}} (\\boldsymbol{x}) = n \\hskip20px \\forall x \\in R^n,$\n",
    "$$d = n \\frac{n +3}{2}.$$"
   ]
  },
  {
   "cell_type": "markdown",
   "id": "242899a8-f66e-4e6f-8dd8-3164f9853337",
   "metadata": {},
   "source": [
    "<span style=\"color:#0ab49a\">Согласно статье</span> <span style=\"color:#A254FC\">051 (Andrew J. Whalen) Observability and Controllability of Nonlinear Networks The Role of Symmetry</span> <span style=\"color:#0ab49a\">надо проверить</span> $\\delta(x) = \\frac{|\\sigma_{min}[O^T O]|}{|\\sigma_{max}[O^T O]|}.$"
   ]
  },
  {
   "cell_type": "code",
   "execution_count": 2,
   "id": "9a09675b-63b6-4752-966f-037b5e8d7152",
   "metadata": {},
   "outputs": [],
   "source": [
    "# Функции вспомогательные\n",
    "def matrix_minor(arr: np.ndarray, i: int, j: int) -> float:\n",
    "    return np.linalg.det(np.delete(np.delete(arr,i,axis=0), j, axis=1))\n",
    "        \n",
    "def quat2matrix(L) -> Matrix:\n",
    "    \"\"\"Преобразует единичный кватернион в матрицу поворота\n",
    "    :param q: Кватернион, list длинны 4\n",
    "    :return: Матрица поворота, sympy.Matrix\"\"\"\n",
    "    w, x, y, z = L\n",
    "    A = Matrix(np.eye(3))\n",
    "    A[0, 0] = 1 - 2 * y ** 2 - 2 * z ** 2\n",
    "    A[0, 1] = 2 * x * y + 2 * z * w\n",
    "    A[0, 2] = 2 * x * z - 2 * y * w\n",
    "    A[1, 0] = 2 * x * y - 2 * z * w\n",
    "    A[1, 1] = 1 - 2 * x ** 2 - 2 * z ** 2\n",
    "    A[1, 2] = 2 * y * z + 2 * x * w\n",
    "    A[2, 0] = 2 * x * z + 2 * y * w\n",
    "    A[2, 1] = 2 * y * z - 2 * x * w\n",
    "    A[2, 2] = 1 - 2 * x ** 2 - 2 * y ** 2\n",
    "    return A\n",
    "\n",
    "def local_dipol(r: list, r_abs, ind: str, q: list, distortion=0):\n",
    "    \"\"\"Возвращает усиление антенны полуволногого диполя\n",
    "    :param r: направление на аппарат в орбитальной системе координат (ОСК)\n",
    "    :param r_abs: модуль вектора r (для таких лентяев как йа)\n",
    "    :param ind: ось x/y/z, по которой направлена антенна в собственной системе координат (ССК)\n",
    "    :param q: кватернион поворота ОСК -> ССК\n",
    "    :param distortion: искажение диаграммы направленности (несиммеричность)\"\"\"\n",
    "    r_ = quat2matrix(q) @ Matrix(r)\n",
    "    cos_a = (r_[0]*int(ind=='x') + r_[1]*int(ind=='y') + r_[2]*int(ind=='z'))/r_abs\n",
    "    sin_a = (sqrt(r_[1]**2 + r_[2]**2)*int(ind=='x') + \\\n",
    "             sqrt(r_[0]**2 + r_[2]**2)*int(ind=='y') + \\\n",
    "             sqrt(r_[0]**2 + r_[1]**2)*int(ind=='z'))/r_abs\n",
    "    aside = ((r[1]+r[2])*int(ind=='x') + \\\n",
    "             (r[0]+r[2])*int(ind=='y') + \\\n",
    "             r[2]*int(ind=='z'))/r_abs\n",
    "    return cos(cos_a * pi / 2) / sin_a + distortion * cos_a**2 + distortion * aside\n",
    "\n",
    "def get_vars(name: str, n: int):\n",
    "    \"\"\"Генерит символьные переменные с одинаковым названием и индексами 0...(n-1)\n",
    "    :param name: Название переменных (без учёта индекса)\n",
    "    :param n: Количество переменных\"\"\"\n",
    "    s = \"\"\n",
    "    for i in range(n):\n",
    "        s += f\"{name}_{i} \"\n",
    "    return var(s, real=True)\n",
    "\n",
    "def get_func(name: str, n: int):\n",
    "    \"\"\"Генерит символьные функции с одинаковым названием и индексами 0...(n-1)\n",
    "    :param name: Название функций (без учёта индекса)\n",
    "    :param n: Количество функций\"\"\"\n",
    "    return [Function(f\"{name}_{i}\", real=True)(t) for i in range(n)]\n",
    "\n",
    "def get_params(n: int):\n",
    "    \"\"\"Экспресс-инициализация переменных и функций для исследования критериев наблюдаемости\n",
    "    :param n: Количество чипсатов, кинематические параметры которых нужно найти/оценить\"\"\"\n",
    "    t, ω = var(\"t ω\", real=True)\n",
    "    r_cube = get_func(f\"r^c\", 3)\n",
    "    v_cube = get_func(f\"v^c\", 3)\n",
    "    x = get_func(f\"x\", n)\n",
    "    y = get_func(f\"y\", n)\n",
    "    z = get_func(f\"z\", n)\n",
    "    vx = get_func(f\"v^x\", n)\n",
    "    vy = get_func(f\"v^y\", n)\n",
    "    vz = get_func(f\"v^z\", n)\n",
    "    wx = get_func(f\"w^x\", n)\n",
    "    wy = get_func(f\"w^y\", n)\n",
    "    wz = get_func(f\"w^z\", n)\n",
    "    q0 = get_func(f\"q^0\", n)\n",
    "    qx = get_func(f\"q^x\", n)\n",
    "    qy = get_func(f\"q^y\", n)\n",
    "    qz = get_func(f\"q^z\", n)\n",
    "    return t, ω, r_cube, v_cube, x, y, z, vx, vy, vz, wx, wy, wz, q0, qx, qy, qz\n",
    "\n",
    "def save_reports(report_list: list, filename: str) -> None:\n",
    "    \"\"\"Сохраняет в компактном виде несколько выводов в один\n",
    "    :param report_list: Строки вывода, запрашиваемые к объединению\n",
    "    :param filename: Название текстовика, в котором будет храниться информация\"\"\"\n",
    "    common_report = report_list[0]\n",
    "    for i in range(len(report_list) - 1):\n",
    "        common_report += (\"\\n\" + \"-\" * 100)*2 + \"\\n\" + report_list[i + 1]\n",
    "    f = open(\"storage/observability_reoprt_\" + filename + \".txt\", \"w\")\n",
    "    f.write(common_report)\n",
    "    f.close()\n",
    "\n",
    "def read_reports(filename: str) -> str:\n",
    "    \"\"\"Считывает выводы, сохранённые в один файл\n",
    "    :param filename: Название текстовика, в котором хранится информация\"\"\"\n",
    "    f = open(\"storage/observability_reoprt_\" + filename + \".txt\", \"r\")\n",
    "    common_report = f.read()\n",
    "    f.close()\n",
    "    return common_report\n",
    "\n",
    "def print_spectrm_rank(J_numb):\n",
    "    for tol in [1, 1e-1, 1e-2, 1e-3, 1e-4, 1e-5, 1e-6, 1e-7, 1e-8, 1e-9, 1e-10, 1e-11, 1e-12, 1e-13, 1e-14, 1e-15, 1e-20]:\n",
    "        print(f\"Ранг матрицы: {np.linalg.matrix_rank(J_numb, tol=tol)} (tol={tol})\")\n",
    "\n",
    "def SubRandParams(J, n: int, n_x: int, n_y: int, testprint: bool = False):\n",
    "    \"\"\"Берёт матрицу J размером n_x на n_y, подставляет случайные значения\"\"\"\n",
    "    # Генерация случайных параметров движения\n",
    "    s_r = lambda: np.random.uniform(-100, 100)\n",
    "    s_v = lambda: np.random.uniform(-10, 10)\n",
    "    s_w = lambda: np.random.uniform(-1e-4, 1e-4)\n",
    "    q = np.array([s_v() for _ in range(4)])\n",
    "    q /= np.linalg.norm(q)\n",
    "    rand_params = [(ω, ω_orb), (pi, np.pi), \n",
    "                   (r_cube[0], s_r()), (r_cube[1], s_r()), (r_cube[2], s_r()), \n",
    "                   (v_cube[0], s_v()), (v_cube[1], s_v()), (v_cube[2], s_v())]\n",
    "    for i in range(n):\n",
    "        tmp_r = [(x[i], s_r()), (y[i], s_r()), (z[i], s_r())]\n",
    "        tmp_v = [(vx[i], s_v()), (vy[i], s_v()), (vz[i], s_v())]\n",
    "        rand_params += tmp_r + tmp_v + [(wx[i], s_w()), (wy[i], s_w()), (wz[i], s_w()), \n",
    "                                        (q0[i], q[0]), (qx[i], q[1]), (qy[i], q[2]), (qz[i], q[3])]\n",
    "\n",
    "    # Якобиан матрицы наблюдаемости: J[измерение (H), состояние (X)]\n",
    "    J_numb = np.array([[0. for _ in range(n_x)] for _ in range(n_y)])\n",
    "    for i in range(n_y):\n",
    "        if testprint:\n",
    "            print(f\"_J_numb: расчёт строки_: {i+1} / {n_y}\")\n",
    "        for j in range(n_x):\n",
    "            J_numb[i][j] = float(J[i, j].subs(rand_params))\n",
    "    return J_numb"
   ]
  },
  {
   "cell_type": "code",
   "execution_count": 22,
   "id": "11fdce1f-4599-4452-adc8-d642bb22af64",
   "metadata": {},
   "outputs": [],
   "source": [
    "def ShauyingObservabilitySufficientCondition(n: int, X: list, Y: list, my_diff, testprint: bool = False, hand_written_deriv: int = None):\n",
    "    \"\"\"Проверка достаточного условия наблюдаемости системы. Проверка равномерного отношения миноров матрицы наблюдаемости.\n",
    "    :param n: Количество чипсатов\n",
    "    :param X: Список неизвестных параметров, которые необходимо найти\n",
    "    :param Y: Список известных параметров (измерений системы в t₀=0)\n",
    "    :param my_diff: Функция взятия производной по времени\n",
    "    :param testprint: Флаг вывода экстра-информации\"\"\"\n",
    "    report = f\"\\033[1mКоличество чипсатов: {n}\\033[0m\\n\"\n",
    "    print(report)\n",
    "\n",
    "    def LocalPrint(report: str, lcl_txt: str):\n",
    "        report += lcl_txt + \"\\n\"\n",
    "        print(lcl_txt)\n",
    "        return report\n",
    "\n",
    "    # Количество одномоментных измерений\n",
    "    l = len(Y)\n",
    "    # Требуемое количество существующих производных функции измерения\n",
    "    k = int(len(X) // len(Y)) if hand_written_deriv is None else hand_written_deriv\n",
    "    d = len(X) * (len(X) + 3) / 2  / len(Y)\n",
    "    txt = f\"\" if hand_written_deriv is None else f\"\\033[1mВнимание! Рассчитывается не отношение миноров, а ранг расширенного Якобиана\\033[0m\\n\"\n",
    "    report = LocalPrint(report, txt + f\"Неизвестные: n = {len(X)} (на каждый чипсат по {int(len(X) // n)} параметров)\\nИзвестные: l = {l}\\n∃ производные порядка k = {len(X) / len(Y)} (Должна быть целой!)\\nКритерий (055): происзводные порядка {d}\")\n",
    "    \n",
    "    # Матрица наблюдаемости системы\n",
    "    H = Matrix([[Y[0] for ll in range(l)] for kk in range(k)])\n",
    "    H_one_line = []\n",
    "    for kk in range(k):\n",
    "        for ll in range(l):\n",
    "            tmp = Y[ll] if kk == 0 else my_diff(H[kk - 1, ll])\n",
    "            if testprint:\n",
    "                print(f\"_расчёт матрицы H_: k={(kk+1)}/{k}, l={(ll+1)}/{l}\")\n",
    "            H[kk, ll] = tmp\n",
    "            H_one_line += [tmp]\n",
    "    H = Matrix(H_one_line)\n",
    "    report = LocalPrint(report, f\"Размерность матрицы H: {shape(H)}\")\n",
    "\n",
    "    # Якобиан матрицы наблюдаемости: J[измерение (H), состояние (X)]\n",
    "    J = Matrix([[H[i].diff(X[j]) for j in range(len(X))] for i in range(k * l)])\n",
    "    report = LocalPrint(report, f\"Размерность матрицы J: {shape(J)}\")\n",
    "\n",
    "    # Подстановка конкретных значений\n",
    "    J_numb = SubRandParams(J=J, n=n, n_x=len(X), n_y=k*l, testprint=testprint)\n",
    "    _, v, _ = np.linalg.svd(J_numb.T @ J_numb)\n",
    "    report = LocalPrint(report, f\"σₘₙ/σₘₐₓ = {np.min(v)} / {np.max(v)} = {np.min(v) / np.max(v)} (статья 051)\")\n",
    "    \n",
    "    # Достаточное условие\n",
    "    txt = f\"\\nРанг матрицы: {[np.linalg.matrix_rank(J_numb, tol=tol) for tol in [1e-3, 1e-5, 1e-7, 1e-10, 1e-12, 1e-15]]} (статья 055)\\n\"\n",
    "    if hand_written_deriv is None:\n",
    "        report = LocalPrint(report, txt + f\"Следующие параметры не должны быть нулевыми:\\n\")\n",
    "        d, Δ, flag, i_min = ([], [], True, -1)\n",
    "        for i in range(len(X)):\n",
    "            tmp = matrix_minor(J_numb, i, i)\n",
    "            d += [tmp if i == 0 else tmp / Δ[-1]]\n",
    "            Δ += [tmp]\n",
    "            report = LocalPrint(report, f\"Δ_{i} = {Δ[-1]}\")\n",
    "        \n",
    "            # Чек наблюдаемости\n",
    "            if flag:\n",
    "                if abs(d[-1]) < 1e-10:\n",
    "                    i_min = i\n",
    "                    flag = False\n",
    "            if not flag:\n",
    "                break\n",
    "    \n",
    "        # Вывод\n",
    "        if flag:\n",
    "            txt = f\"\\n\\033[1mВыполнено достаточное условие! Система наблюдаема\\033[0m\"\n",
    "        else:\n",
    "            in_txt = f\"Δ_{i_min}\" if i_min == 0 else f\"Δ_{i_min} / Δ_{i_min-1}\"\n",
    "            txt = f\"\\n\\033[1mНе выполнено достаточное условие. Нулевой параметр: {in_txt} = {d[i_min]}\\033[0m\"\n",
    "        report = LocalPrint(report, txt)\n",
    "        return H, J, J_numb, Δ, report\n",
    "    report = LocalPrint(report, txt)\n",
    "    return H, J, J_numb, report"
   ]
  },
  {
   "cell_type": "markdown",
   "id": "2521a8c2-9a44-483f-bfa7-5ca6cf0be69a",
   "metadata": {},
   "source": [
    "# <span style=\"color:#00b90e\">Применение алгоритма на примерах</span>\n",
    "\n",
    "#### <span style=\"color:#2c3e50\">Наблюдаемость системы</span> <span style=\"color:#bb4bca\">при кубсате строго на круговой орбите, без аэродинамики и углового движения,</span> <span style=\"color:#e60b9d\">антенны изотропные</span>"
   ]
  },
  {
   "cell_type": "code",
   "execution_count": 23,
   "id": "e1178956-ffa7-4083-9ce1-a9d20508648e",
   "metadata": {},
   "outputs": [],
   "source": [
    "# Уравнения движения\n",
    "def MyDiff_AeroOff_AttitudeOff(expr, power: int = 1):\n",
    "    \"\"\"Функция взятия производной по времени.\n",
    "    Аэродинамика: НЕ УЧИТЫВАЕТСЯ\n",
    "    Угловое движение: НЕ УЧИТЫВАЕТСЯ\n",
    "    :param expr: Выражение, от которого надо взять производную по времени t\n",
    "    :param power: Степень производной\"\"\"\n",
    "    if power == 0:\n",
    "        return expr\n",
    "    if power == 1:\n",
    "        anw = expr\n",
    "    else:\n",
    "        anw = my_diff(expr, power - 1)\n",
    "    subses = []\n",
    "    for i in range(n):\n",
    "        subses += [(Derivative(x[i], t), vx[i])]\n",
    "        subses += [(Derivative(y[i], t), vy[i])]\n",
    "        subses += [(Derivative(z[i], t), vz[i])]\n",
    "        subses += [(Derivative(vx[i], t), -2*ω*vz[i])]\n",
    "        subses += [(Derivative(vy[i], t), -ω**2*y[i])]\n",
    "        subses += [(Derivative(vz[i], t), 2*ω*vx[i] + 3*ω**2*z[i])]\n",
    "    return anw.diff(t).subs(subses).simplify()"
   ]
  },
  {
   "cell_type": "code",
   "execution_count": null,
   "id": "20eb76e3-f39a-4d8f-9846-bd174f2d6069",
   "metadata": {},
   "outputs": [],
   "source": [
    "# Количество чипсатов\n",
    "n = 1\n",
    "\n",
    "# Инициализация переменных\n",
    "t, ω, r_cube, v_cube, x, y, z, vx, vy, vz, wx, wy, wz, q0, qx, qy, qz = get_params(n)\n",
    "\n",
    "# Состояние в начальный момент времени\n",
    "X, Y = ([], [])\n",
    "for i in range(n):\n",
    "    X += [x[i], y[i], z[i], vx[i], vy[i], vz[i]]\n",
    "\n",
    "# Измерения в начальный момент времени\n",
    "for j in range(n):\n",
    "    for i in range(j+1):\n",
    "        if i == j:\n",
    "            Y += [sqrt(x[i]**2 + y[i]**2 + z[i]**2)]\n",
    "        else:\n",
    "            Y += [sqrt((x[i]-x[j])**2 + (y[i]-y[j])**2 + (z[i]-z[j])**2)]\n",
    "\n",
    "H_1, J_1, J_numb_1, d_1, report_1_1 = ShauyingObservabilitySufficientCondition(testprint=False, n=n, X=X, Y=Y, my_diff=MyDiff_AeroOff_AttitudeOff)\n",
    "# H_1, J_1, J_numb_1, d_1, report_1_1_ = ShauyingObservabilitySufficientCondition(hand_written_deriv=20, testprint=True, n=n, X=X, Y=Y, my_diff=MyDiff_AeroOff_AttitudeOff)"
   ]
  },
  {
   "cell_type": "code",
   "execution_count": 40,
   "id": "f4b5a3f5-9d96-4635-9730-cf74e685f171",
   "metadata": {},
   "outputs": [
    {
     "name": "stdout",
     "output_type": "stream",
     "text": [
      "\u001b[1mКоличество чипсатов: 1\u001b[0m\n",
      "Неизвестные: n = 6 (на каждый чипсат по 6 параметров)\n",
      "Известные: l = 1\n",
      "∃ производные порядка k = 6.0 (Должна быть целой!)\n",
      "Критерий (055): происзводные порядка 27.0\n",
      "Размерность матрицы H: (6, 1)\n",
      "Размерность матрицы J: (6, 6)\n",
      "σₘₙ/σₘₐₓ = 9.463829207161212e-18 / 1.0131140835863388 = 9.341326273601934e-18 (статья 051)\n",
      "\n",
      "Ранг матрицы: [3, 3, 4, 6, 6, 6] (статья 055)\n",
      "Следующие параметры не должны быть нулевыми:\n",
      "\n",
      "Δ_0 = -8.970264956268867e-19\n",
      "\n",
      "\u001b[1mНе выполнено достаточное условие. Нулевой параметр: Δ_0 = -8.970264956268867e-19\u001b[0m\n",
      "\n"
     ]
    }
   ],
   "source": [
    "# save_reports([report_1_1, report_1_5, report_1_11], \"AeroOff_AttitudeOff_AntennaOff\")\n",
    "# print(read_reports(\"AeroOff_AttitudeOff_AntennaOff\"))\n",
    "print(report_1_1)"
   ]
  },
  {
   "cell_type": "markdown",
   "id": "52cb6603-814f-41b6-b251-8db167962cb4",
   "metadata": {},
   "source": [
    "----\n",
    "\n",
    "#### <span style=\"color:#2c3e50\">Наблюдаемость системы</span> <span style=\"color:#00b0b9\">при кубсате строго на круговой орбите, с аэродинамикой,</span> <span style=\"color:#bb4bca\">без углового движения,</span> <span style=\"color:#e60b9d\">антенны изотропные</span>"
   ]
  },
  {
   "cell_type": "code",
   "execution_count": 6,
   "id": "8866c45e-c2bb-4ec4-9456-8e80c2534cbb",
   "metadata": {},
   "outputs": [],
   "source": [
    "C = 1.17\n",
    "S = 0.1 ** 2\n",
    "m = 0.01  # 10 грамм\n",
    "\n",
    "# Уравнения движения\n",
    "def MyDiff_AeroOn_AttitudeOff(expr, power: int = 1):\n",
    "    \"\"\"Функция взятия производной по времени.\n",
    "    Аэродинамика: учитывается\n",
    "    Угловое движение: НЕ УЧИТЫВАЕТСЯ\n",
    "    :param expr: Выражение, от которого надо взять производную по времени t\n",
    "    :param power: Степень производной\"\"\"\n",
    "    if power == 0:\n",
    "        return expr\n",
    "    if power == 1:\n",
    "        anw = expr\n",
    "    else:\n",
    "        anw = my_diff(expr, power - 1)\n",
    "    subses = []\n",
    "    for i in range(n):\n",
    "        subses += [(Derivative(x[i], t), vx[i])]\n",
    "        subses += [(Derivative(y[i], t), vy[i])]\n",
    "        subses += [(Derivative(z[i], t), vz[i])]\n",
    "        subses += [(Derivative(vx[i], t), -2*ω*vz[i] - S*C*ρ/m * (v_orb + vy[i])**2)]  # Нет учёта аэродинамики\n",
    "        subses += [(Derivative(vy[i], t), -ω**2*y[i])]\n",
    "        subses += [(Derivative(vz[i], t), 2*ω*vx[i] + 3*ω**2*z[i])]\n",
    "    return anw.diff(t).subs(subses).simplify()"
   ]
  },
  {
   "cell_type": "code",
   "execution_count": null,
   "id": "411c304b-c3e1-4d3d-92c3-ebb1586020b1",
   "metadata": {
    "scrolled": true
   },
   "outputs": [],
   "source": [
    "# Количество чипсатов\n",
    "# {1->6, 5->2, 11->1}\n",
    "# {1->4, 3->2, 7->1} без у\n",
    "n = 1\n",
    "\n",
    "# Инициализация переменных\n",
    "t, ω, r_cube, v_cube, x, y, z, vx, vy, vz, wx, wy, wz, q0, qx, qy, qz = get_params(n)\n",
    "\n",
    "# Состояние в начальный момент времени\n",
    "X, Y = ([], [])\n",
    "for i in range(n):\n",
    "    X += [x[i], y[i], z[i], vx[i], vy[i], vz[i]]\n",
    "    # X += [x[i], z[i], vx[i], vz[i]] \n",
    "\n",
    "# Измерения в начальный момент времени\n",
    "for j in range(n):\n",
    "    for i in range(j+1):\n",
    "        if i == j:\n",
    "            Y += [sqrt(x[i]**2 + y[i]**2 + z[i]**2)]\n",
    "        else:\n",
    "            Y += [sqrt((x[i]-x[j])**2 + (y[i]-y[j])**2 + (z[i]-z[j])**2)]\n",
    "            \n",
    "# H_11, J_11, J_numb_11, d_11, report_11_ = ShauyingObservabilitySufficientCondition(testprint=False, n=n, X=X, Y=Y, my_diff=MyDiff_AeroOn_AttitudeOff)\n",
    "H_11, J_11, J_numb_11, report_11_1 = ShauyingObservabilitySufficientCondition(testprint=True, hand_written_deriv=8, n=n, X=X, Y=Y, my_diff=MyDiff_AeroOn_AttitudeOff)\n",
    "# report_11_7 = f\"\\033[1mВнимание! Нет учёта компоненты y!\\033[0m\\n\" + report_11_"
   ]
  },
  {
   "cell_type": "code",
   "execution_count": 41,
   "id": "e2aeda37-66e8-4f43-aca3-00d8ee577521",
   "metadata": {},
   "outputs": [
    {
     "name": "stdout",
     "output_type": "stream",
     "text": [
      "\u001b[1mКоличество чипсатов: 1\u001b[0m\n",
      "\u001b[1mВнимание! Рассчитывается не отношение миноров, а ранг расширенного Якобиана\u001b[0m\n",
      "Неизвестные: n = 6 (на каждый чипсат по 6 параметров)\n",
      "Известные: l = 1\n",
      "∃ производные порядка k = 6.0 (Должна быть целой!)\n",
      "Критерий (055): происзводные порядка 27.0\n",
      "Размерность матрицы H: (8, 1)\n",
      "Размерность матрицы J: (8, 6)\n",
      "σₘₙ/σₘₐₓ = 8.555265741896934e-17 / 1.1662685141448748 = 7.335588364202544e-17 (статья 051)\n",
      "\n",
      "Ранг матрицы: [3, 4, 5, 5, 6, 6] (статья 055)\n",
      "\n",
      "\n",
      "----------------------------------------------------------------------------------------------------\n",
      "----------------------------------------------------------------------------------------------------\n",
      "\u001b[1mКоличество чипсатов: 11\u001b[0m\n",
      "\u001b[1mВнимание! Рассчитывается не отношение миноров, а ранг расширенного Якобиана\u001b[0m\n",
      "Неизвестные: n = 66 (на каждый чипсат по 6 параметров)\n",
      "Известные: l = 66\n",
      "∃ производные порядка k = 1.0 (Должна быть целой!)\n",
      "Критерий (055): происзводные порядка 34.5\n",
      "Размерность матрицы H: (198, 1)\n",
      "Размерность матрицы J: (198, 66)\n",
      "σₘₙ/σₘₐₓ = 6.15758944162967e-11 / 11.913042929301282 = 5.1687796964824855e-12 (статья 051)\n",
      "\n",
      "Ранг матрицы: [63, 65, 66, 66, 66, 66] (статья 055)\n",
      "\n",
      "\n"
     ]
    }
   ],
   "source": [
    "# save_reports([report_11_1, report_11_11], \"AeroOn_AttitudeOff_AntennaOff\")\n",
    "print(read_reports(\"AeroOn_AttitudeOff_AntennaOff\"))"
   ]
  },
  {
   "cell_type": "markdown",
   "id": "92dff4a3-868d-42e0-8eca-a1acf2811cb9",
   "metadata": {},
   "source": [
    "----\n",
    "\n",
    "#### <span style=\"color:#2c3e50\">Наблюдаемость системы</span> <span style=\"color:#00b0b9\">при кубсате</span> <span style=\"color:#ed9a00\">не на круговой орбите,</span> <span style=\"color:#00b0b9\">с аэродинамикой,</span> <span style=\"color:#bb4bca\">без углового движения,</span> <span style=\"color:#e60b9d\">антенны изотропные</span>"
   ]
  },
  {
   "cell_type": "code",
   "execution_count": 19,
   "id": "24c2c776-4e59-4548-a7aa-0214331dd65d",
   "metadata": {},
   "outputs": [],
   "source": [
    "C = 1.17\n",
    "S = 0.1 ** 2\n",
    "m = 0.01  # 10 грамм\n",
    "\n",
    "# Уравнения движения\n",
    "def MyDiff_AeroOn_AttitudeOff_WithCubeSat(expr, power: int = 1):\n",
    "    \"\"\"Функция взятия производной по времени.\n",
    "    Аэродинамика: учитывается\n",
    "    Угловое движение: НЕ УЧИТЫВАЕТСЯ\n",
    "    :param expr: Выражение, от которого надо взять производную по времени t\n",
    "    :param power: Степень производной\"\"\"\n",
    "    if power == 0:\n",
    "        return expr\n",
    "    if power == 1:\n",
    "        anw = expr\n",
    "    else:\n",
    "        anw = my_diff(expr, power - 1)\n",
    "    subses = [(Derivative(r_cube[0], t), v_cube[0]), \n",
    "              (Derivative(r_cube[1], t), v_cube[1]), \n",
    "              (Derivative(r_cube[2], t), v_cube[2]),\n",
    "              (Derivative(v_cube[0], t), -2*ω*v_cube[2] - (0.3)**2*C*ρ/10 * (v_orb + v_cube[1])**2),\n",
    "              (Derivative(v_cube[1], t), -ω**2*r_cube[1]),\n",
    "              (Derivative(v_cube[2], t), 2*ω*v_cube[0] + 3*ω**2*r_cube[2])]\n",
    "    for i in range(n):\n",
    "        subses += [(Derivative(x[i], t), vx[i])]\n",
    "        subses += [(Derivative(y[i], t), vy[i])]\n",
    "        subses += [(Derivative(z[i], t), vz[i])]\n",
    "        subses += [(Derivative(vx[i], t), -2*ω*vz[i] - S*C*ρ/m * (v_orb + vy[i])**2)]\n",
    "        subses += [(Derivative(vy[i], t), -ω**2*y[i])]\n",
    "        subses += [(Derivative(vz[i], t), 2*ω*vx[i] + 3*ω**2*z[i])]\n",
    "    return anw.diff(t).subs(subses).simplify()"
   ]
  },
  {
   "cell_type": "code",
   "execution_count": 21,
   "id": "e070b44b-b78f-4983-9e2a-82f06a83b0d8",
   "metadata": {
    "scrolled": true
   },
   "outputs": [
    {
     "name": "stdout",
     "output_type": "stream",
     "text": [
      "\u001b[1mКоличество чипсатов: 1\u001b[0m\n",
      "\n",
      "Неизвестные: n = 6 (на каждый чипсат по 6 параметров)\n",
      "Известные: l = 1\n",
      "∃ производные порядка k = 6.0 (Должна быть целой!)\n",
      "_расчёт матрицы H_: k=1/6, l=1/1\n",
      "_расчёт матрицы H_: k=2/6, l=1/1\n",
      "_расчёт матрицы H_: k=3/6, l=1/1\n"
     ]
    },
    {
     "name": "stderr",
     "output_type": "stream",
     "text": [
      "\n",
      "KeyboardInterrupt\n",
      "\n"
     ]
    }
   ],
   "source": [
    "# Количество чипсатов\n",
    "# {1->6, 5->2, 11->1}\n",
    "# {1->4, 3->2, 7->1} без у\n",
    "n = 1\n",
    "\n",
    "# Инициализация переменных\n",
    "t, ω, r_cube, v_cube, x, y, z, vx, vy, vz, wx, wy, wz, q0, qx, qy, qz = get_params(n)\n",
    "\n",
    "# Состояние в начальный момент времени\n",
    "X, Y = ([], [])\n",
    "for i in range(n):\n",
    "    X += [x[i], z[i], y[i], vx[i], vy[i], vz[i]]\n",
    "    # X += [x[i], z[i], vx[i], vz[i]]\n",
    "\n",
    "# Измерения в начальный момент времени\n",
    "for j in range(n):\n",
    "    for i in range(j+1):\n",
    "        if i == j:\n",
    "            Y += [sqrt((x[i]-r_cube[0])**2 + (y[i]-r_cube[1])**2 + (z[i]-r_cube[2])**2)]\n",
    "            # Y += [sqrt(x[i]**2 + y[i]**2 + z[i]**2)]\n",
    "        else:\n",
    "            Y += [sqrt((x[i]-x[j])**2 + (y[i]-y[j])**2 + (z[i]-z[j])**2)]\n",
    "            \n",
    "H_12, J_12, J_numb_12, d_12, report_12_1 = ShauyingObservabilitySufficientCondition(testprint=True, n=n, X=X, Y=Y, my_diff=MyDiff_AeroOn_AttitudeOff_WithCubeSat)\n",
    "# H_12, J_12, J_numb_12, report_12_ = ShauyingObservabilitySufficientCondition(testprint=True, hand_written_deriv=1, n=n, X=X, Y=Y, my_diff=MyDiff_AeroOn_AttitudeOff_WithCubeSat)\n",
    "# report_12_1 = f\"\\033[1mВнимание! Нет учёта компоненты y!\\033[0m\\n\" + report_12_"
   ]
  },
  {
   "cell_type": "code",
   "execution_count": 49,
   "id": "0240bb85-4d3e-4e0c-9777-d4d50351165a",
   "metadata": {},
   "outputs": [
    {
     "name": "stdout",
     "output_type": "stream",
     "text": [
      "σₘₙ/σₘₐₓ = 1.9901393773271942e-13 / 0.9297096724645358 = 2.1406030681079193e-13 (статья 051)\n"
     ]
    }
   ],
   "source": [
    "_, v, _ = np.linalg.svd(J_numb_12.T @ J_numb_12)\n",
    "print(f\"σₘₙ/σₘₐₓ = {np.min(v)} / {np.max(v)} = {np.min(v) / np.max(v)} (статья 051)\")"
   ]
  },
  {
   "cell_type": "code",
   "execution_count": 48,
   "id": "57847ba5-98dc-4d3a-b266-b52442ee6d12",
   "metadata": {},
   "outputs": [
    {
     "name": "stdout",
     "output_type": "stream",
     "text": [
      "\u001b[1mВнимание! Нет учёта компоненты y!\u001b[0m\n",
      "\u001b[1mКоличество чипсатов: 1\u001b[0m\n",
      "Неизвестные: n = 4 (на каждый чипсат по 4 параметров)\n",
      "Известные: l = 1\n",
      "∃ производные порядка k = 4.0 (Должна быть целой!)\n",
      "Размерность матрицы H: (4, 1)\n",
      "Размерность матрицы J: (4, 4)\n",
      "σₘₙ/σₘₐₓ = 4.459350831250673e-07 / 0.9642145365345494 = 4.62485335190846e-07 (статья 051)\n",
      "\n",
      "Ранг матрицы: [3, 3, 4, 4, 4, 4] (статья 055)\n",
      "Следующие параметры не должны быть нулевыми:\n",
      "\n",
      "Δ_0 = -1.9307937971540438e-05\n",
      "Δ_1 = -0.001404428776027749\n",
      "Δ_2 = 1.992862790753914e-05\n",
      "Δ_3 = 0.006330687609678351\n",
      "\n",
      "\u001b[1mВыполнено достаточное условие! Система наблюдаема\u001b[0m\n",
      "\n",
      "----------------------------------------------------------------------------------------------------\n",
      "----------------------------------------------------------------------------------------------------\n",
      "\u001b[1mКоличество чипсатов: 11\u001b[0m\n",
      "Неизвестные: n = 66 (на каждый чипсат по 6 параметров)\n",
      "Известные: l = 66\n",
      "∃ производные порядка k = 1.0 (Должна быть целой!)\n",
      "Размерность матрицы H: (66, 1)\n",
      "Размерность матрицы J: (66, 66)\n",
      "σₘₙ/σₘₐₓ = 1.1328400811635885e-16 / 3.4392663130228693 = 3.293842285123605e-17 (статья 051)\n",
      "\n",
      "Ранг матрицы: [30, 30, 30, 30, 30, 30] (статья 055)\n",
      "Следующие параметры не должны быть нулевыми:\n",
      "\n",
      "Δ_0 = 0.0\n",
      "\n",
      "\u001b[1mНе выполнено достаточное условие. Нулевой параметр: Δ_0 = 0.0\u001b[0m\n",
      "\n"
     ]
    }
   ],
   "source": [
    "# save_reports([report_12_1, report_12_11], \"AeroOn_AttitudeOff_AntennaOff_WithCubeSat\")\n",
    "print(read_reports(\"AeroOn_AttitudeOff_AntennaOff_WithCubeSat\"))"
   ]
  },
  {
   "cell_type": "markdown",
   "id": "ca57f535-d2f7-4658-8e4e-2be34e49fc83",
   "metadata": {},
   "source": [
    "----\n",
    "\n",
    "#### <span style=\"color:#2c3e50\">Наблюдаемость системы</span> <span style=\"color:#00b0b9\">при кубсате строго на круговой орбите, с аэродинамикой и угловым движением,</span> <span style=\"color:#e60b9d\">антенны изотропные</span>"
   ]
  },
  {
   "cell_type": "code",
   "execution_count": null,
   "id": "19d07ec3-b495-4dcf-b157-3a9e8bec3b75",
   "metadata": {},
   "outputs": [],
   "source": [
    "# Уравнения движения\n",
    "def MyDiff_AeroOn_AttitudeOn(expr, power: int = 1):\n",
    "    \"\"\"Функция взятия производной по времени.\n",
    "    Аэродинамика: учитывается\n",
    "    Угловое движение: учитывается\n",
    "    Примечание: крутящий момент равен 0 (даже гравитационного нет)\n",
    "    :param expr: Выражение, от которого надо взять производную по времени t\n",
    "    :param power: Степень производной\"\"\"\n",
    "    if power == 0:\n",
    "        return expr\n",
    "    if power == 1:\n",
    "        anw = expr\n",
    "    else:\n",
    "        anw = my_diff(expr, power - 1)\n",
    "    subses = []\n",
    "    for i in range(n):\n",
    "        M = np.zeros(3)\n",
    "        subses += [(Derivative(x[i], t), vx[i])]\n",
    "        subses += [(Derivative(y[i], t), vy[i])]\n",
    "        subses += [(Derivative(z[i], t), vz[i])]\n",
    "        subses += [(Derivative(vx[i], t), -2*ω*vz[i] - S*C*ρ/m * (v_orb + vy[i])**2 * (qx[i]*qy[i] - q0[i]*qz[i]))]\n",
    "        subses += [(Derivative(vy[i], t), -ω**2*y[i])]\n",
    "        subses += [(Derivative(vz[i], t), 2*ω*vx[i] + 3*ω**2*z[i])]\n",
    "        subses += [(Derivative(q0[i], t), (-wx[i]*qx[i] - wy[i]*qy[i] - wz[i]*qz[i])/2)]\n",
    "        subses += [(Derivative(qx[i], t), (wx[i]*q0[i] + wy[i]*qz[i] - wz[i]*qy[i])/2)]\n",
    "        subses += [(Derivative(qy[i], t), (wy[i]*q0[i] + wz[i]*qx[i] - wx[i]*qz[i])/2)]\n",
    "        subses += [(Derivative(qz[i], t), (wz[i]*q0[i] + wx[i]*qy[i] - wy[i]*qx[i])/2)]\n",
    "        subses += [(Derivative(wx[i], t), (Jyy*wy[i]*wz[i] - Jzz*wy[i]*wz[i] + M[0]) / Jxx)]\n",
    "        subses += [(Derivative(wy[i], t), (-Jxx*wx[i]*wz[i] + Jzz*wx[i]*wz[i] + M[1]) / Jyy)]\n",
    "        subses += [(Derivative(wz[i], t), (Jxx*wx[i]*wy[i] - Jyy*wx[i]*wy[i] + M[2]) / Jzz)]\n",
    "    return anw.diff(t).subs(subses).simplify()"
   ]
  },
  {
   "cell_type": "code",
   "execution_count": null,
   "id": "c94e93e5-1208-4116-a19e-ec5d4a7cadd7",
   "metadata": {
    "scrolled": true
   },
   "outputs": [],
   "source": [
    "# Количество чипсатов\n",
    "# {1->12, 3->6, 5->4, 7->3, 11->2, 23->1}\n",
    "n = 23\n",
    "\n",
    "# Коэффициент сопротивления\n",
    "C = 1.17\n",
    "S = 0.1 ** 2\n",
    "m = 0.01  # 10 грамм\n",
    "Jxx, Jyy, Jzz = (0.01, 0.01, 0.007)\n",
    "\n",
    "# Инициализация переменных\n",
    "t, ω, r_cube, v_cube, x, y, z, vx, vy, vz, wx, wy, wz, q0, qx, qy, qz = get_params(n)\n",
    "\n",
    "# Состояние в начальный момент времени\n",
    "X, Y = ([], [])\n",
    "for i in range(n):\n",
    "    X += [x[i], y[i], z[i], vx[i], vy[i], vz[i], qx[i], qy[i], qz[i], wx[i], wy[i], wz[i]]  # , q0[i]\n",
    "\n",
    "# Измерения в начальный момент времени\n",
    "for j in range(n):\n",
    "    for i in range(j+1):\n",
    "        if i == j:\n",
    "            Y += [sqrt(x[i]**2 + y[i]**2 + z[i]**2)]\n",
    "        else:\n",
    "            Y += [sqrt((x[i]-x[j])**2 + (y[i]-y[j])**2 + (z[i]-z[j])**2)]\n",
    "\n",
    "# H_2, J_2, J_numb_2, d_2, report_2_ = ShauyingObservabilitySufficientCondition(testprint=True, n=n, X=X, Y=Y, my_diff=MyDiff_AeroOn_AttitudeOn)\n",
    "H_2, J_2, J_numb_2, d_2, report_2_ = ShauyingObservabilitySufficientCondition(testprint=True, hand_written_deriv=2, n=n, X=X, Y=Y, my_diff=MyDiff_AeroOn_AttitudeOn)"
   ]
  },
  {
   "cell_type": "code",
   "execution_count": null,
   "id": "7c6546b5-ecc1-489f-b3da-af12dbf5fab3",
   "metadata": {},
   "outputs": [],
   "source": [
    "# save_reports([report_2_], \"AeroOn_AttitudeOn_AntennaOff\")\n",
    "print(read_reports(\"AeroOn_AttitudeOn_AntennaOff\"))"
   ]
  },
  {
   "cell_type": "markdown",
   "id": "69dd2911-7c04-41e7-92eb-50a199e73bb6",
   "metadata": {},
   "source": [
    "----\n",
    "\n",
    "#### <span style=\"color:#2c3e50\">Наблюдаемость системы</span> <span style=\"color:#00b0b9\">при кубсате строго на круговой орбите,</span> <span style=\"color:#00b0b9\">с аэродинамикой и угловым движением,</span> <span style=\"color:#15cbfc\">антенны анизотропны</span>"
   ]
  },
  {
   "cell_type": "code",
   "execution_count": null,
   "id": "b83ff663-ff27-4f2f-b51b-a339e6307b7c",
   "metadata": {},
   "outputs": [],
   "source": [
    "# Количество чипсатов\n",
    "# {11->1}\n",
    "n = 11\n",
    "\n",
    "# Разложение по антеннам\n",
    "antennas = \"xy\"\n",
    "print(f\"\\033[1mУ каждого чипсата {len(antennas)} антенн(ы): {antennas}\\033[0m\")\n",
    "\n",
    "# Коэффициент сопротивления\n",
    "C = 1.17\n",
    "m = 0.01  # 10 грамм\n",
    "Jxx, Jyy, Jzz = (0.01, 0.01, 0.007)\n",
    "\n",
    "# Инициализация переменных\n",
    "t, ω, r_cube, v_cube, x, y, z, vx, vy, vz, wx, wy, wz, q0, qx, qy, qz = get_params(n)\n",
    "\n",
    "# Состояние в начальный момент времени\n",
    "X, r, Y = ([], [], [])\n",
    "for i in range(n):  \n",
    "    X += [x[i], y[i], z[i], vx[i], vy[i], vz[i], qx[i], qy[i], qz[i], wx[i], wy[i], wz[i]]  # , q0[i]\n",
    "\n",
    "# Измерения в начальный момент времени\n",
    "for j in range(n):\n",
    "    for i in range(j+1):\n",
    "        if i == j:\n",
    "            tmp = sqrt(x[i]**2 + y[i]**2 + z[i]**2)\n",
    "            Y += [tmp / sqrt(local_dipol([x[i], y[i], z[i]], tmp, c, [q0[i], qx[i], qy[i], qz[i]])) for c in antennas]\n",
    "        else:\n",
    "            tmp = sqrt((x[i]-x[j])**2 + (y[i]-y[j])**2 + (z[i]-z[j])**2)\n",
    "            Y += [tmp / sqrt(local_dipol([x[i]-x[j], y[i]-y[j], z[i]-z[j]], tmp, c, [q0[i], qx[i], qy[i], qz[i]])) \\\n",
    "                      / sqrt(local_dipol([x[j]-x[i], y[j]-y[i], z[j]-z[i]], tmp, c, [q0[j], qx[j], qy[j], qz[j]])) for c in antennas]\n",
    "\n",
    "H_3, J_3, J_numb_3, d_3, report_3_ = ShauyingObservabilitySufficientCondition(testprint=True, n=n, X=X, Y=Y, my_diff=MyDiff_AeroOn_AttitudeOn)\n",
    "report_3_ = f\"\\033[1mУ каждого чипсата {len(antennas)} антенн(ы): {antennas}\\033[0m\\n\" + report_3_"
   ]
  },
  {
   "cell_type": "code",
   "execution_count": null,
   "id": "b456ff6a-ab84-49e4-8587-4ccd144a4b22",
   "metadata": {},
   "outputs": [],
   "source": [
    "# save_reports([report_3_13], \"AeroOn_AttitudeOn_AntennaOn\")\n",
    "print(read_reports(\"AeroOn_AttitudeOn_AntennaOn\"))"
   ]
  },
  {
   "cell_type": "markdown",
   "id": "8e167a42-f031-43d2-a9ea-5cdcaa106aa9",
   "metadata": {},
   "source": [
    "----\n",
    "\n",
    "#### <span style=\"color:#2c3e50\">То же самое, но</span> <span style=\"color:#00b0b9\">диаграмма направленностей не симметрична</span>"
   ]
  },
  {
   "cell_type": "code",
   "execution_count": null,
   "id": "ef562975-4d7f-42ea-a1ab-37d11fb4f7db",
   "metadata": {},
   "outputs": [],
   "source": [
    "# Количество чипсатов\n",
    "n = 11\n",
    "\n",
    "# Разложение по антеннам\n",
    "antennas = \"xy\"\n",
    "print(f\"\\033[1mУ каждого чипсата {len(antennas)} антенн(ы): {antennas}\\033[0m\")\n",
    "\n",
    "# Коэффициент сопротивления\n",
    "C = 1.17\n",
    "m = 0.01  # 10 грамм\n",
    "Jxx, Jyy, Jzz = (0.01, 0.01, 0.007)\n",
    "distortion = 0.4\n",
    "\n",
    "# Инициализация переменных\n",
    "t, ω, r_cube, v_cube, x, y, z, vx, vy, vz, wx, wy, wz, q0, qx, qy, qz = get_params(n)\n",
    "\n",
    "# Состояние в начальный момент времени\n",
    "X, r, Y = ([], [], [])\n",
    "for i in range(n):\n",
    "    X += [x[i], y[i], z[i], vx[i], vy[i], vz[i], qx[i], qy[i], qz[i], wx[i], wy[i], wz[i]]  # , q0[i]\n",
    "\n",
    "# Измерения в начальный момент времени\n",
    "for j in range(n):\n",
    "    for i in range(j+1):\n",
    "        if i == j:\n",
    "            tmp = sqrt(x[i]**2 + y[i]**2 + z[i]**2)\n",
    "            Y += [tmp / sqrt(local_dipol([x[i], y[i], z[i]], tmp, c, [q0[i], qx[i], qy[i], qz[i]], distortion=distortion)) for c in antennas]\n",
    "        else:\n",
    "            tmp = sqrt((x[i]-x[j])**2 + (y[i]-y[j])**2 + (z[i]-z[j])**2)\n",
    "            Y += [tmp / sqrt(local_dipol([x[i]-x[j], y[i]-y[j], z[i]-z[j]], tmp, c, [q0[i], qx[i], qy[i], qz[i]], distortion=distortion)) \\\n",
    "                      / sqrt(local_dipol([x[j]-x[i], y[j]-y[i], z[j]-z[i]], tmp, c, [q0[j], qx[j], qy[j], qz[j]], distortion=distortion)) for c in antennas]\n",
    "\n",
    "H_4, J_4, J_numb_4, d_4, report_4_ = ShauyingObservabilitySufficientCondition(testprint=True, n=n, X=X, Y=Y, my_diff=MyDiff_AeroOn_AttitudeOn)\n",
    "report_4_ = f\"\\033[1mУ каждого чипсата {len(antennas)} кривые антенн(ы): {antennas}\\033[0m\\n\" + report_4_"
   ]
  },
  {
   "cell_type": "code",
   "execution_count": null,
   "id": "5a462cfd-ac65-4a4d-bb6c-6f19b5667745",
   "metadata": {},
   "outputs": [],
   "source": [
    "J_numb_4[0][1]"
   ]
  },
  {
   "cell_type": "code",
   "execution_count": null,
   "id": "399cea17-7658-4718-a0f8-4f128c54473b",
   "metadata": {},
   "outputs": [],
   "source": [
    "# save_reports([report_4_9xyz, report_4_13xy], \"AeroOn_AttitudeOn_AntennaOn_CurveRadiation\")\n",
    "print(read_reports(\"AeroOn_AttitudeOn_AntennaOn_CurveRadiation\"))"
   ]
  },
  {
   "cell_type": "code",
   "execution_count": null,
   "id": "69f3264f-9d49-4c87-86a9-fceec400918d",
   "metadata": {},
   "outputs": [],
   "source": []
  },
  {
   "cell_type": "code",
   "execution_count": null,
   "id": "a4e89638-04f9-42f0-9947-3e3d0e2d1f2d",
   "metadata": {},
   "outputs": [],
   "source": []
  },
  {
   "cell_type": "code",
   "execution_count": null,
   "id": "807a1f0d-88fa-418a-b215-fc439cb80ba5",
   "metadata": {},
   "outputs": [],
   "source": []
  },
  {
   "cell_type": "code",
   "execution_count": null,
   "id": "53b26d75-fd3e-493f-8239-9c05d6380326",
   "metadata": {},
   "outputs": [],
   "source": []
  },
  {
   "cell_type": "code",
   "execution_count": null,
   "id": "227006f0-5ef0-496f-8067-517d921925c1",
   "metadata": {},
   "outputs": [],
   "source": []
  },
  {
   "cell_type": "code",
   "execution_count": null,
   "id": "a94015a2-fb0d-4af3-8241-7be1940e6f1b",
   "metadata": {},
   "outputs": [],
   "source": []
  },
  {
   "cell_type": "code",
   "execution_count": null,
   "id": "a812600a-2996-4deb-8589-71b1b298937e",
   "metadata": {},
   "outputs": [],
   "source": []
  },
  {
   "cell_type": "code",
   "execution_count": null,
   "id": "3aed42b9-7e9f-4c88-a716-d739f0fe66bc",
   "metadata": {},
   "outputs": [],
   "source": []
  },
  {
   "cell_type": "code",
   "execution_count": null,
   "id": "80a75bc7-d667-4f28-b7f4-6ac854adbe61",
   "metadata": {},
   "outputs": [],
   "source": []
  },
  {
   "cell_type": "code",
   "execution_count": null,
   "id": "66aec060-fc22-482c-9895-79b74555b14d",
   "metadata": {},
   "outputs": [],
   "source": []
  },
  {
   "cell_type": "code",
   "execution_count": null,
   "id": "0dfe21c3-76bf-48ec-897d-3fc038bb1b16",
   "metadata": {},
   "outputs": [],
   "source": []
  },
  {
   "cell_type": "code",
   "execution_count": null,
   "id": "99016102-cc10-4e1d-8ee6-27b7975d9ec8",
   "metadata": {},
   "outputs": [],
   "source": []
  },
  {
   "cell_type": "code",
   "execution_count": null,
   "id": "8093c83e-4a95-4c46-801f-5ec8a2d10b5e",
   "metadata": {},
   "outputs": [],
   "source": []
  },
  {
   "cell_type": "code",
   "execution_count": null,
   "id": "26755611-bf73-4a0b-87db-dcb35ed6089b",
   "metadata": {},
   "outputs": [],
   "source": []
  },
  {
   "cell_type": "code",
   "execution_count": null,
   "id": "2cb0466e-fa0c-4176-b4b4-4831bc60c945",
   "metadata": {},
   "outputs": [],
   "source": []
  },
  {
   "cell_type": "code",
   "execution_count": null,
   "id": "8096e552-0cc5-4bc5-a25a-3422a98c35ba",
   "metadata": {},
   "outputs": [],
   "source": []
  },
  {
   "cell_type": "code",
   "execution_count": null,
   "id": "0cf84884-d3b3-4742-a670-6299a2775a81",
   "metadata": {},
   "outputs": [],
   "source": []
  },
  {
   "cell_type": "markdown",
   "id": "101f59a7-6a72-4fe7-a39a-78baa3135fea",
   "metadata": {},
   "source": [
    "### <span style=\"color:#0ab49a\">Что-то с производной</span> <span style=\"color:#A254FC\">Ли</span>"
   ]
  },
  {
   "cell_type": "code",
   "execution_count": null,
   "id": "f9411f5a-2983-4596-b0be-a78bad4810f6",
   "metadata": {},
   "outputs": [],
   "source": [
    "for i in range(n):\n",
    "    X_ += [x[i], y[i], z[i], vx[i], vy[i], vz[i]]\n",
    "def GetF():\n",
    "    anw = []\n",
    "    for i in range(n):\n",
    "        anw += [vx[i], vy[i], vz[i]]\n",
    "        anw += [2*ω*vz[i], -ω**2*y[i], 2*ω*vx[i] + 3*ω**2*z[i]]\n",
    "    return Matirx(anw)\n",
    "\n",
    "# Уравнения движения\n",
    "def GetGradient_AeroOff_AttitudeOff_AntennaOff(expr):\n",
    "    \"\"\"Функция взятия производной по времени.\n",
    "    Аэродинамика: НЕ УЧИТЫВАЕТСЯ\n",
    "    Угловое движение: НЕ УЧИТЫВАЕТСЯ\n",
    "    :param expr: Выражение, от которого надо взять производную по времени t\n",
    "    :param power: Степень производной\"\"\"\n",
    "    subses = []\n",
    "    for i in range(n):\n",
    "        subses += [(Derivative(x[i], t), vx[i])]\n",
    "        subses += [(Derivative(y[i], t), vy[i])]\n",
    "        subses += [(Derivative(z[i], t), vz[i])]\n",
    "        subses += [(Derivative(vx[i], t), -2*ω*vz[i])]  # Нет учёта аэродинамики\n",
    "        subses += [(Derivative(vy[i], t), -ω**2*y[i])]\n",
    "        subses += [(Derivative(vz[i], t), 2*ω*vx[i] + 3*ω**2*z[i])]\n",
    "    return expr.diff(vari).subs(subses).simplify()"
   ]
  }
 ],
 "metadata": {
  "kernelspec": {
   "display_name": "Python 3 (ipykernel)",
   "language": "python",
   "name": "python3"
  },
  "language_info": {
   "codemirror_mode": {
    "name": "ipython",
    "version": 3
   },
   "file_extension": ".py",
   "mimetype": "text/x-python",
   "name": "python",
   "nbconvert_exporter": "python",
   "pygments_lexer": "ipython3",
   "version": "3.10.12"
  }
 },
 "nbformat": 4,
 "nbformat_minor": 5
}
