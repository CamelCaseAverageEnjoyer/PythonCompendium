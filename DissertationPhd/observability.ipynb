{
 "cells": [
  {
   "cell_type": "markdown",
   "id": "0222fe4e-2213-435c-b33e-6afbc4783554",
   "metadata": {},
   "source": [
    "# <span style=\"color:#91299A\">Основа аспирантской диссертации - проблема наблюдаемости системы</span> "
   ]
  },
  {
   "cell_type": "markdown",
   "id": "af80236e-9cce-4c88-b3ca-68225373eda8",
   "metadata": {},
   "source": [
    "![](../storage/banners/7.jpg)"
   ]
  },
  {
   "cell_type": "markdown",
   "id": "fa32b67b-5e46-4431-a6f7-f11c50f0199d",
   "metadata": {},
   "source": [
    "### <span style=\"color:#0ab49a\">Согласно статье</span> <span style=\"color:#A254FC\">038 (Shauying R.K.) Observability of Nonlinear Systems</span> "
   ]
  },
  {
   "cell_type": "markdown",
   "id": "da7fe0ed-5aa5-49e7-b661-5bfde30733a2",
   "metadata": {},
   "source": [
    "#### <span style=\"color:#2c3e50\">Начало</span> "
   ]
  },
  {
   "cell_type": "code",
   "execution_count": 148,
   "id": "e83aa4df-5722-4bc6-93d5-0322a210870d",
   "metadata": {},
   "outputs": [
    {
     "name": "stdout",
     "output_type": "stream",
     "text": [
      "Высота орбиты: 379 км\n",
      "Период орбиты: 1.533 часов\n",
      "Плотность атмосферы: 1.1617593224677154e-11 кг/м³\n"
     ]
    }
   ],
   "source": [
    "from sympy import *\n",
    "import numpy as np\n",
    "\n",
    "Radius_orbit=6750000.\n",
    "RadiusEarth = 6371000.\n",
    "mu=398576057600000.06\n",
    "h_orb = Radius_orbit - RadiusEarth\n",
    "ω_orb = np.sqrt(mu / (Radius_orbit ** 3))\n",
    "v_orb = ω_orb * Radius_orbit\n",
    "\n",
    "t = -131.21 + 0.00299 * h_orb\n",
    "p = 2.488 * ((t + 273.1) / 216.6) ** -11.388\n",
    "ρ = p / (0.2869 * (t + 273.1))\n",
    "\n",
    "print(f\"Высота орбиты: {int(h_orb // 1e3)} км\\nПериод орбиты: {round((2*np.pi/ω_orb) / 3600, 3)} часов\\nПлотность атмосферы: {ρ} кг/м³\")"
   ]
  },
  {
   "cell_type": "markdown",
   "id": "e23f1582-78ea-4667-96f7-a845736c1c4d",
   "metadata": {},
   "source": [
    "#### <span style=\"color:#2c3e50\">Алгоритм</span>\n",
    "\n",
    "<span style=\"color:#2b817d\">Примечание:</span>     $km \\geq n$"
   ]
  },
  {
   "cell_type": "code",
   "execution_count": 180,
   "id": "11fdce1f-4599-4452-adc8-d642bb22af64",
   "metadata": {},
   "outputs": [],
   "source": [
    "def get_vars(name: str, n: int):\n",
    "    s = \"\"\n",
    "    for i in range(n):\n",
    "        s += f\"{name}_{i} \"\n",
    "    return var(s, real=True)\n",
    "\n",
    "def get_func(name: str, n: int):\n",
    "    return [Function(f\"{name}_{i}\")(t) for i in range(n)]\n",
    "\n",
    "def get_params(n: int):\n",
    "    t, ω = var(\"t ω\", real=True)\n",
    "    x = get_func(f\"x\", n)\n",
    "    y = get_func(f\"y\", n)\n",
    "    z = get_func(f\"z\", n)\n",
    "    vx = get_func(f\"v^x\", n)\n",
    "    vy = get_func(f\"v^y\", n)\n",
    "    vz = get_func(f\"v^z\", n)\n",
    "    wx = get_func(f\"w^x\", n)\n",
    "    wy = get_func(f\"w^y\", n)\n",
    "    wz = get_func(f\"w^z\", n)\n",
    "    q0 = get_func(f\"q^0\", n)\n",
    "    qx = get_func(f\"q^x\", n)\n",
    "    qy = get_func(f\"q^y\", n)\n",
    "    qz = get_func(f\"q^z\", n)\n",
    "    return t, ω, x, y, z, vx, vy, vz, wx, wy, wz, q0, qx, qy, qz\n",
    "\n",
    "def ShauyingObservabilitySufficientCondition(n: int, X_: list, r: list, R: list, my_diff, testprint: bool = False):\n",
    "    print(f\"\\033[1mКоличество чипсатов: {n}\\033[0m\\n\")\n",
    "    \n",
    "    # Вытягивание измерений в вектор\n",
    "    Y_ = []\n",
    "    Y_ += r.copy()\n",
    "    for i in range(n):\n",
    "        for j in range(i):\n",
    "            Y_ += [R[i][j]]\n",
    "    l = len(Y_)\n",
    "    k = int(len(X_) // len(Y_))\n",
    "    print(f\"Неизвестные: n = {len(X_)} (на каждый чипсат по {int(len(X_) // n)} параметров)\\nИзвестные: l = {l}\\n∃ производные порядка k = {len(X_) / len(Y_)}\")\n",
    "    \n",
    "    # Матрица наблюдаемости системы\n",
    "    H = Matrix([[Y_[0] for ll in range(l)] for kk in range(k)])\n",
    "    H_one_line = []\n",
    "    for kk in range(k):\n",
    "        for ll in range(l):\n",
    "            tmp = Y_[ll] if kk==0 else my_diff(H[kk - 1, ll])\n",
    "            if testprint:\n",
    "                print(f\"_расчёт матрицы H_: k={(kk+1)}/{k}, l={(ll+1)}/{l}\")\n",
    "            H[kk, ll] = tmp\n",
    "            H_one_line += [tmp]\n",
    "    H = Matrix(H_one_line)\n",
    "    print(f\"Размерность матрицы H: {shape(H)}\")\n",
    "    \n",
    "    # Якобиан матрицы наблюдаемости (J[1, 2]: 1 - измерение (H), 2 - состояние (X))\n",
    "    J = Matrix([[Y_[0] for _ in range(len(X_))] for _ in range(k * l)])\n",
    "    for k1 in range(k * l):\n",
    "        for k2 in range(len(X_)):\n",
    "            J[k1, k2] = H[k1].diff(X_[k2])\n",
    "    print(f\"Размерность матрицы J: {shape(J)}\")\n",
    "    \n",
    "    # Отречение от символов и знаков, воздадим числам былой языческий огонь\n",
    "    s_r = lambda: np.random.uniform(-100, 100)\n",
    "    s_v = lambda: np.random.uniform(-1, 1)\n",
    "    s_w = lambda: np.random.uniform(-1e-4, 1e-4)\n",
    "    q = np.array([s_v() for _ in range(4)])\n",
    "    q /= np.linalg.norm(q)\n",
    "    rand_params = [(ω, ω_orb)]\n",
    "    for i in range(n):\n",
    "        rand_params += [(x[i], s_r()), (y[i], s_r()), (z[i], s_r()), \n",
    "                        (vx[i], s_v()), (vy[i], s_v()), (vz[i], s_v()), \n",
    "                        (wx[i], s_w()), (wy[i], s_w()), (wz[i], s_w()), \n",
    "                        (q0[i], q[0]), (qx[i], q[1]), (qy[i], q[2]), (qz[i], q[3]),\n",
    "                        (Mx[i], 0), (My[i], 0), (Mz[i], 0)]\n",
    "    J_numb = J.subs(rand_params)\n",
    "    \n",
    "    # Достаточное условие\n",
    "    print(f\"\\nСледующие параметры не должны быть нулевыми:\\n\")\n",
    "    d = []\n",
    "    flag = True\n",
    "    i_min = -1\n",
    "    for i in range(len(X_)):\n",
    "        d += [J_numb.minor(i, i) if i == 0 else J_numb.minor(i, i) / d[-1]]\n",
    "        print(f\"Δ_{i} = {d[-1]}\")\n",
    "\n",
    "        # Чек наблюдаемости\n",
    "        if flag:\n",
    "            if abs(d[-1]) < 1e-7:\n",
    "                i_min = i\n",
    "                flag = False\n",
    "\n",
    "    # Вывод\n",
    "    if flag:\n",
    "        print(f\"\\n\\033[1mВыполнено достаточное условие! Система наблюдаема\\033[0m\")\n",
    "    else:\n",
    "        print(f\"\\n\\033[1mНе выполнено достаточное условие. Нулевой параметр: Δ_{i_min} = {d[i_min]}\\033[0m\")\n",
    "\n",
    "    return H, J, J_numb, d"
   ]
  },
  {
   "cell_type": "markdown",
   "id": "fbb2b66b-37a1-4452-98d0-7f669711f484",
   "metadata": {},
   "source": [
    "![](../storage/banners/6.gif)"
   ]
  },
  {
   "cell_type": "markdown",
   "id": "2521a8c2-9a44-483f-bfa7-5ca6cf0be69a",
   "metadata": {},
   "source": [
    "#### <span style=\"color:#2c3e50\">Наблюдаемость системы</span> <span style=\"color:#00b0b9\">при кубсате строго на круговой орбите, без аэродинамики и углового движения,</span> <span style=\"color:#e60b9d\">антенны изотропные</span>"
   ]
  },
  {
   "cell_type": "code",
   "execution_count": 181,
   "id": "302c2f08-d367-4877-adbc-18428ef3a76f",
   "metadata": {},
   "outputs": [
    {
     "name": "stdout",
     "output_type": "stream",
     "text": [
      "\u001b[1mКоличество чипсатов: 3\u001b[0m\n",
      "\n",
      "Неизвестные: n = 18 (на каждый чипсат по 6 параметров)\n",
      "Известные: l = 6\n",
      "∃ производные порядка k = 3.0\n",
      "Размерность матрицы H: (18, 1)\n",
      "Размерность матрицы J: (18, 18)\n",
      "\n",
      "Следующие параметры не должны быть нулевыми:\n",
      "\n",
      "Δ_0 = 8.60231493160760E-20\n",
      "Δ_1 = -0.593104005282523\n",
      "Δ_2 = -7.80355246027562E-20\n",
      "Δ_3 = -8.13792895871826\n",
      "Δ_4 = 9.19004009018045E-21\n",
      "Δ_5 = 247.695441534162\n",
      "Δ_6 = -4.25133099420084E-22\n",
      "Δ_7 = 522.976477236570\n",
      "Δ_8 = -1.08341574086129E-22\n",
      "Δ_9 = 3254.92936270906\n",
      "Δ_10 = 1.64727410357984E-22\n",
      "Δ_11 = -89.7623474189247\n",
      "Δ_12 = 3.83911663805243E-22\n",
      "Δ_13 = -422.520128334142\n",
      "Δ_14 = 3.14570405703392E-22\n",
      "Δ_15 = 145.105532843909\n",
      "Δ_16 = 4.82793287004358E-21\n",
      "Δ_17 = 21.3738435836089\n",
      "\n",
      "\u001b[1mНе выполнено достаточное условие. Нулевой параметр: Δ_0 = 8.60231493160760E-20\u001b[0m\n"
     ]
    }
   ],
   "source": [
    "# Количество чипсатов\n",
    "n = 3\n",
    "\n",
    "# Инициализация\n",
    "t, ω, x, y, z, vx, vy, vz, wx, wy, wz, q0, qx, qy, qz = get_params(n)\n",
    "X_ = []\n",
    "for i in range(n):\n",
    "    X_ += [x[i], y[i], z[i], vx[i], vy[i], vz[i]]\n",
    "r = [sqrt(x[i]**2 + y[i]**2 + z[i]**2) for i in range(n)]\n",
    "R = [[r[i] if i==j else sqrt((x[i]-x[j])**2 + (y[i]-y[j])**2 + (z[i]-z[j])**2) for i in range(n)] for j in range(n)]\n",
    "\n",
    "# Уравнения движения\n",
    "def MyDiff_NoAero_NoAttitude(expr, power: int = 1, vari: any = t):\n",
    "    if power == 0:\n",
    "        return expr\n",
    "    if power == 1:\n",
    "        anw = expr\n",
    "    else:\n",
    "        anw = my_diff(expr, power - 1)\n",
    "    subses = []\n",
    "    for i in range(n):\n",
    "        subses += [(Derivative(x[i], t), vx[i])]\n",
    "        subses += [(Derivative(y[i], t), vy[i])]\n",
    "        subses += [(Derivative(z[i], t), vz[i])]\n",
    "        subses += [(Derivative(vx[i], t), -2*ω*vz[i])]  # Нет учёта аэродинамики\n",
    "        subses += [(Derivative(vy[i], t), -ω**2*y[i])]\n",
    "        subses += [(Derivative(vz[i], t), 2*ω*vx[i] + 3*ω**2*z[i])]\n",
    "    return anw.diff(vari).subs(subses).simplify()\n",
    "\n",
    "H_1, J_1, J_numb_1, d_1 = ShauyingObservabilitySufficientCondition(n=n, X_=X_, r=r, R=R, my_diff=MyDiff_NoAero_NoAttitude)"
   ]
  },
  {
   "cell_type": "markdown",
   "id": "ca57f535-d2f7-4658-8e4e-2be34e49fc83",
   "metadata": {},
   "source": [
    "----\n",
    "\n",
    "#### <span style=\"color:#2c3e50\">Наблюдаемость системы</span> <span style=\"color:#00b0b9\">при кубсате строго на круговой орбите, с аэродинамикой и угловым движением,</span> <span style=\"color:#e60b9d\">антенны изотропные</span>"
   ]
  },
  {
   "cell_type": "code",
   "execution_count": 170,
   "id": "c94e93e5-1208-4116-a19e-ec5d4a7cadd7",
   "metadata": {},
   "outputs": [
    {
     "name": "stdout",
     "output_type": "stream",
     "text": [
      "\u001b[1mКоличество чипсатов: 1\u001b[0m\n",
      "\n",
      "Неизвестные: n = 13 (на каждый чипсат по 13 параметров)\n",
      "Известные: l = 1\n",
      "∃ производные порядка k = 13.0\n",
      "_расчёт матрицы H_: k=1/13, l=1/1\n",
      "_расчёт матрицы H_: k=2/13, l=1/1\n",
      "_расчёт матрицы H_: k=3/13, l=1/1\n",
      "_расчёт матрицы H_: k=4/13, l=1/1\n",
      "Размерность матрицы H: (4, 1)\n",
      "Размерность матрицы J: (4, 4)\n",
      "\n",
      "Следующие параметры не должны быть нулевыми:\n",
      "\n",
      "Δ_0 = 3.49170653028694E-11\n",
      "Δ_1 = -13.3608967270478\n",
      "Δ_2 = 1.66090842692955E-8\n",
      "Δ_3 = 9.54370497871519\n",
      "\n",
      "\u001b[1mНе выполнено достаточное условие. Нулевой параметр: Δ_0 = 3.49170653028694E-11\u001b[0m\n"
     ]
    }
   ],
   "source": [
    "# Количество чипсатов\n",
    "n = 1\n",
    "\n",
    "# Коэффициент сопротивления\n",
    "C = 1.17\n",
    "m = 0.01  # 10 грамм\n",
    "Jxx, Jyy, Jzz = (0.01, 0.01, 0.007)\n",
    "\n",
    "# Инициализация\n",
    "t, ω, x, y, z, vx, vy, vz, wx, wy, wz, q0, qx, qy, qz = get_params(n)\n",
    "X_ = []\n",
    "for i in range(n):\n",
    "    X_ += [x[i], y[i], z[i], vx[i], vy[i], vz[i], q0[i], qx[i], qy[i], qz[i], wx[i], wy[i], wz[i]]\n",
    "r = [sqrt(x[i]**2 + y[i]**2 + z[i]**2) for i in range(n)]\n",
    "R = [[r[i] if i==j else sqrt((x[i]-x[j])**2 + (y[i]-y[j])**2 + (z[i]-z[j])**2) for i in range(n)] for j in range(n)]\n",
    "\n",
    "# Уравнения движения\n",
    "def MyDiff_NoAero_NoAttitude(expr, power: int = 1, vari: any = t):\n",
    "    if power == 0:\n",
    "        return expr\n",
    "    if power == 1:\n",
    "        anw = expr\n",
    "    else:\n",
    "        anw = my_diff(expr, power - 1)\n",
    "    subses = []\n",
    "    for i in range(n):\n",
    "        M = np.zeros(3)\n",
    "        subses += [(Derivative(x[i], t), vx[i])]\n",
    "        subses += [(Derivative(y[i], t), vy[i])]\n",
    "        subses += [(Derivative(z[i], t), vz[i])]\n",
    "        subses += [(Derivative(vx[i], t), -2*ω*vz[i] - C*ρ/m * (v_orb + vy[i])**2 * (qx[i]*qy[i] - q0[i]*qz[i]))]\n",
    "        subses += [(Derivative(vy[i], t), -ω**2*y[i])]\n",
    "        subses += [(Derivative(vz[i], t), 2*ω*vx[i] + 3*ω**2*z[i])]\n",
    "        subses += [(Derivative(q0[i], t), (-wx[i]*qx[i] - wy[i]*qy[i] - wz[i]*qz[i])/2)]\n",
    "        subses += [(Derivative(qx[i], t), (wx[i]*q0[i] + wy[i]*qz[i] - wz[i]*qy[i])/2)]\n",
    "        subses += [(Derivative(qy[i], t), (wy[i]*q0[i] + wz[i]*qx[i] - wx[i]*qz[i])/2)]\n",
    "        subses += [(Derivative(qz[i], t), (wz[i]*q0[i] + wx[i]*qy[i] - wy[i]*qx[i])/2)]\n",
    "        subses += [(Derivative(wx[i], t), (Jyy*wy[i]*wz[i] - Jzz*wy[i]*wz[i] + M[0]) / Jxx)]\n",
    "        subses += [(Derivative(wy[i], t), (-Jxx*wx[i]*wz[i] + Jzz*wx[i]*wz[i] + M[1]) / Jyy)]\n",
    "        subses += [(Derivative(wz[i], t), (Jxx*wx[i]*wy[i] - Jyy*wx[i]*wy[i] + M[2]) / Jzz)]\n",
    "    return anw.diff(vari).subs(subses).simplify() # .simplify()\n",
    "\n",
    "H_2, J_2, J_numb_2, d_2 = ShauyingObservabilitySufficientCondition(n=n, X_=X_, r=r, R=R, my_diff=MyDiff_NoAero_NoAttitude, testprint=True)"
   ]
  },
  {
   "cell_type": "code",
   "execution_count": 172,
   "id": "05ac2926-caa6-4c62-a690-2d0e19c138db",
   "metadata": {},
   "outputs": [
    {
     "data": {
      "text/latex": [
       "$\\displaystyle \\left[\\begin{matrix}0.372310719925559 & -0.836265392047091 & -0.402548036751934 & 0\\\\0.00105605909988416 & 0.00259709475122301 & -0.00441854927651588 & 0.372310719925559\\\\3.49577250104515 \\cdot 10^{-5} & 7.40042205199919 \\cdot 10^{-5} & -5.26942889459152 \\cdot 10^{-5} & 0.001195586156966\\\\3.28276741519095 \\cdot 10^{-7} & 1.83470871580018 \\cdot 10^{-6} & -2.13522513565941 \\cdot 10^{-7} & 7.27623285571031 \\cdot 10^{-5}\\end{matrix}\\right]$"
      ],
      "text/plain": [
       "Matrix([\n",
       "[  0.372310719925559,  -0.836265392047091,   -0.402548036751934,                   0],\n",
       "[0.00105605909988416, 0.00259709475122301, -0.00441854927651588,   0.372310719925559],\n",
       "[3.49577250104515e-5, 7.40042205199919e-5, -5.26942889459152e-5,   0.001195586156966],\n",
       "[3.28276741519095e-7, 1.83470871580018e-6, -2.13522513565941e-7, 7.27623285571031e-5]])"
      ]
     },
     "execution_count": 172,
     "metadata": {},
     "output_type": "execute_result"
    }
   ],
   "source": [
    "J_numb_2"
   ]
  },
  {
   "cell_type": "code",
   "execution_count": null,
   "id": "e40bf19a-e751-4549-b6c0-fa8c2d5ea19e",
   "metadata": {},
   "outputs": [],
   "source": []
  },
  {
   "cell_type": "code",
   "execution_count": null,
   "id": "65ac22ef-7af3-437f-a7f1-fdf5b484371f",
   "metadata": {},
   "outputs": [],
   "source": []
  },
  {
   "cell_type": "code",
   "execution_count": null,
   "id": "4be1d748-db4b-406f-8223-171c38fad253",
   "metadata": {},
   "outputs": [],
   "source": []
  },
  {
   "cell_type": "code",
   "execution_count": null,
   "id": "53584ca2-7ddb-4db9-9611-4316ad6b2d23",
   "metadata": {},
   "outputs": [],
   "source": []
  },
  {
   "cell_type": "code",
   "execution_count": null,
   "id": "679cb07a-343e-4a65-b5f8-c189e654a737",
   "metadata": {},
   "outputs": [],
   "source": []
  },
  {
   "cell_type": "code",
   "execution_count": null,
   "id": "391bb570-4c0a-40ac-9559-dcb6483278c9",
   "metadata": {},
   "outputs": [],
   "source": []
  },
  {
   "cell_type": "code",
   "execution_count": null,
   "id": "b93dc5a0-0c32-4f78-9b41-224c59676bea",
   "metadata": {},
   "outputs": [],
   "source": []
  },
  {
   "cell_type": "code",
   "execution_count": null,
   "id": "42007264-bfb8-493e-a158-d0ae322aacb6",
   "metadata": {},
   "outputs": [],
   "source": []
  },
  {
   "cell_type": "code",
   "execution_count": null,
   "id": "6a739450-6d35-4e91-b892-8ec5c2fd66b1",
   "metadata": {},
   "outputs": [],
   "source": []
  },
  {
   "cell_type": "markdown",
   "id": "2fb3b845-2d6c-4db2-9722-f1bebacf4d9c",
   "metadata": {},
   "source": [
    "### <span style=\"color:#0ab49a\">Согласно книге</span> <span style=\"color:#A254FC\">Афанасьев В.Н.) Математическая теория конструирования систем управления</span> "
   ]
  },
  {
   "cell_type": "code",
   "execution_count": 114,
   "id": "9558ec13-cd2c-4447-be3b-8a719c2e274f",
   "metadata": {},
   "outputs": [],
   "source": [
    "A_single = Matrix([[0, 0, 0, 1, 0, 0], \n",
    "                   [0, 0, 0, 0, 1, 0],\n",
    "                   [0, 0, 0, 0, 0, 1],\n",
    "                   [0, 0, 0, 0, 0, -2*w],\n",
    "                   [0, -w**2, 0, 0, 0, 0],\n",
    "                   [0, 0, 3*w**2, 2*w, 0, 0]])\n",
    "A_ = Matrix([[A_single if i==j else zeros(6, 6) for j in range(n)] for i in range(n)])"
   ]
  },
  {
   "cell_type": "code",
   "execution_count": null,
   "id": "e2c02577-91cb-4fa4-9183-ca61fcd9c2b8",
   "metadata": {},
   "outputs": [],
   "source": [
    "anw = Matrix.hstack(H_, \n",
    "                    A_.T @ H_, \n",
    "                    A_.T @ A_.T @ H_, \n",
    "                    A_.T @ A_.T @ A_.T @ H_, \n",
    "                    A_.T @ A_.T @ A_.T @ A_.T @ H_, \n",
    "                    A_.T @ A_.T @ A_.T @ A_.T @ A_.T @ H_)\n",
    "shape(anw)"
   ]
  },
  {
   "cell_type": "code",
   "execution_count": 108,
   "id": "466bfce9-bc49-4184-95e3-148f75fda884",
   "metadata": {},
   "outputs": [],
   "source": [
    "Radius_orbit = 6800e3\n",
    "mu = 5.972e24 * 6.67408e-11\n",
    "w_0 = np.sqrt(mu / Radius_orbit ** 3)\n",
    "\n",
    "x0rand = [np.random.uniform(-100, 100) for _ in range(n)]\n",
    "y0rand = [np.random.uniform(-100, 100) for _ in range(n)]\n",
    "z0rand = [np.random.uniform(-100, 100) for _ in range(n)]\n",
    "vx0rand = [np.random.uniform(-1, 1) for _ in range(n)]\n",
    "vy0rand = [np.random.uniform(-1, 1) for _ in range(n)]\n",
    "vz0rand = [np.random.uniform(-1, 1) for _ in range(n)]"
   ]
  },
  {
   "cell_type": "code",
   "execution_count": 109,
   "id": "6015a8e1-b264-4f86-8d28-ac8a742bf6e5",
   "metadata": {},
   "outputs": [],
   "source": [
    "subses = [(w, w_0)]\n",
    "for i in range(n):\n",
    "    subses += [(x[0][i], x0rand[i]), (y[0][i], y0rand[i]), (z[0][i], z0rand[i]), (vx[0][i], vx0rand[i]), (vy[0][i], vy0rand[i]), (vz[0][i], vz0rand[i])]\n",
    "anw_numb = anw.subs(subses)\n",
    "det(anw_numb)"
   ]
  },
  {
   "cell_type": "code",
   "execution_count": 110,
   "id": "c3f2330a-c6e0-4e52-aca0-5abc69fe5a12",
   "metadata": {},
   "outputs": [
    {
     "data": {
      "text/latex": [
       "$\\displaystyle \\left[\\begin{matrix}111.920485834732 & 0.371205798574056 & 0.00408786854282351 & 0 & 0 & 0\\\\115.690689327415 & 0.945571542542173 & 0.00702484508913071 & -7.14198782418648 \\cdot 10^{-5} & -6.89198573440637 \\cdot 10^{-7} & -1.62727028742046 \\cdot 10^{-8}\\\\69.3527105132341 & -0.33995394940928 & 0.00197638505615263 & 0.000640287688750991 & 2.17169867883479 \\cdot 10^{-6} & 1.80664255251497 \\cdot 10^{-8}\\\\220.143810267416 & 1.27720496915373 & 0.010815389498481 & 112.299618896271 & 0.37249172485893 & 0.0040985662016115\\\\56.3423083929516 & 0.543700710847932 & 0.0128373453763167 & 115.690689327415 & 0.945571542542173 & 0.00702484508913071\\\\168.371828254168 & 0.571075913837815 & 0.00475079741361419 & 68.8569993385628 & -0.34282990933196 & 0.0019520313874017\\end{matrix}\\right]$"
      ],
      "text/plain": [
       "Matrix([\n",
       "[111.920485834732, 0.371205798574056, 0.00408786854282351,                    0,                    0,                    0],\n",
       "[115.690689327415, 0.945571542542173, 0.00702484508913071, -7.14198782418648e-5, -6.89198573440637e-7, -1.62727028742046e-8],\n",
       "[69.3527105132341, -0.33995394940928, 0.00197638505615263, 0.000640287688750991,  2.17169867883479e-6,  1.80664255251497e-8],\n",
       "[220.143810267416,  1.27720496915373,   0.010815389498481,     112.299618896271,     0.37249172485893,   0.0040985662016115],\n",
       "[56.3423083929516, 0.543700710847932,  0.0128373453763167,     115.690689327415,    0.945571542542173,  0.00702484508913071],\n",
       "[168.371828254168, 0.571075913837815, 0.00475079741361419,     68.8569993385628,    -0.34282990933196,   0.0019520313874017]])"
      ]
     },
     "execution_count": 110,
     "metadata": {},
     "output_type": "execute_result"
    }
   ],
   "source": [
    "anw_get = anw_numb[:,0:6]\n",
    "anw_get"
   ]
  },
  {
   "cell_type": "code",
   "execution_count": 111,
   "id": "9d56096e-dab1-4ab0-92a2-5aa31c3851b0",
   "metadata": {},
   "outputs": [
    {
     "data": {
      "text/latex": [
       "$\\displaystyle 0.0207281102680228$"
      ],
      "text/plain": [
       "0.0207281102680228"
      ]
     },
     "execution_count": 111,
     "metadata": {},
     "output_type": "execute_result"
    }
   ],
   "source": [
    "det(anw_get)"
   ]
  },
  {
   "cell_type": "markdown",
   "id": "c7a1614d-6815-40ce-9637-0df9a400ccfb",
   "metadata": {},
   "source": [
    "Линейная система с 1 челиком ненаблюдаема"
   ]
  }
 ],
 "metadata": {
  "kernelspec": {
   "display_name": "Python 3 (ipykernel)",
   "language": "python",
   "name": "python3"
  },
  "language_info": {
   "codemirror_mode": {
    "name": "ipython",
    "version": 3
   },
   "file_extension": ".py",
   "mimetype": "text/x-python",
   "name": "python",
   "nbconvert_exporter": "python",
   "pygments_lexer": "ipython3",
   "version": "3.10.12"
  }
 },
 "nbformat": 4,
 "nbformat_minor": 5
}
