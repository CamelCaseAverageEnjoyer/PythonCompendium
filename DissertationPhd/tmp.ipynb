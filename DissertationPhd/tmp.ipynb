{
 "cells": [
  {
   "cell_type": "markdown",
   "id": "ee5c52b5-73e7-4ccc-95f1-f8b37a1ba6f0",
   "metadata": {},
   "source": [
    "![](../storage/banners/13_tmp.png)"
   ]
  },
  {
   "cell_type": "markdown",
   "id": "28e03f9a-7f03-42bc-8999-b1031e7e24d8",
   "metadata": {},
   "source": [
    "### <span style=\"color:#0ab49a\">Проверка dynamics.py.</span> <span style=\"color:#A254FC\">Фильтр Калмана: генерация файлика</span> "
   ]
  },
  {
   "cell_type": "code",
   "execution_count": 7,
   "id": "a400642b-a6c4-4f08-81d8-bb89bec7a76b",
   "metadata": {},
   "outputs": [
    {
     "name": "stdout",
     "output_type": "stream",
     "text": [
      "Верхняя подматрица: (4, 12)\n",
      "Нижняя подматрица: (4, 12)\n"
     ]
    },
    {
     "data": {
      "text/latex": [
       "$\\displaystyle \\left[\\begin{array}{cccccccccccc}-0.981453981743705 & 0.0277206881625429 & -0.189683012331685 & 0.0 & 0.0 & 0.0 & 0.0 & 0.0 & 0.0 & 0.0 & 0.0 & 0.0\\\\-0.981453981743705 & 0.0277206881625429 & -0.189683012331685 & 0.0 & 0.0 & 0.0 & 0.0 & 0.0 & 0.0 & 0.0 & 0.0 & 0.0\\\\0.0 & 0.0 & 0.0 & 0.0 & 0.0 & 0.0 & -0.0539210143728765 & 0.736553904459148 & -0.674226126781649 & 0.0 & 0.0 & 0.0\\\\0.0 & 0.0 & 0.0 & 0.0 & 0.0 & 0.0 & -0.0539210143728765 & 0.736553904459148 & -0.674226126781649 & 0.0 & 0.0 & 0.0\\\\0.0 & 0.0 & 0.0 & 0.0 & 0.0 & 0.0 & 0.0 & 0.0 & 0.0 & 0.0 & 0.0 & 0.0\\\\0.0 & 0.0 & 0.0 & 0.0 & 0.0 & 0.0 & 0.0 & 0.0 & 0.0 & 0.0 & 0.0 & 0.0\\\\0.0 & 0.0 & 0.0 & 0.0 & 0.0 & 0.0 & 0.611324412640377 & 0.635612611120654 & -0.471464814269615 & 0.0 & 0.0 & 0.0\\\\0.0 & 0.0 & 0.0 & 0.0 & 0.0 & 0.0 & 0.611324412640377 & 0.635612611120654 & -0.471464814269615 & 0.0 & 0.0 & 0.0\\end{array}\\right]$"
      ],
      "text/plain": [
       "Matrix([\n",
       "[-0.981453981743705, 0.0277206881625429, -0.189683012331685, 0.0, 0.0, 0.0,                 0.0,               0.0,                0.0, 0.0, 0.0, 0.0],\n",
       "[-0.981453981743705, 0.0277206881625429, -0.189683012331685, 0.0, 0.0, 0.0,                 0.0,               0.0,                0.0, 0.0, 0.0, 0.0],\n",
       "[               0.0,                0.0,                0.0, 0.0, 0.0, 0.0, -0.0539210143728765, 0.736553904459148, -0.674226126781649, 0.0, 0.0, 0.0],\n",
       "[               0.0,                0.0,                0.0, 0.0, 0.0, 0.0, -0.0539210143728765, 0.736553904459148, -0.674226126781649, 0.0, 0.0, 0.0],\n",
       "[               0.0,                0.0,                0.0, 0.0, 0.0, 0.0,                 0.0,               0.0,                0.0, 0.0, 0.0, 0.0],\n",
       "[               0.0,                0.0,                0.0, 0.0, 0.0, 0.0,                 0.0,               0.0,                0.0, 0.0, 0.0, 0.0],\n",
       "[               0.0,                0.0,                0.0, 0.0, 0.0, 0.0,   0.611324412640377, 0.635612611120654, -0.471464814269615, 0.0, 0.0, 0.0],\n",
       "[               0.0,                0.0,                0.0, 0.0, 0.0, 0.0,   0.611324412640377, 0.635612611120654, -0.471464814269615, 0.0, 0.0, 0.0]])"
      ]
     },
     "execution_count": 7,
     "metadata": {},
     "output_type": "execute_result"
    }
   ],
   "source": [
    "from storage.observability_mapping_partial_derivatives import h_element, h_matrix\n",
    "import numpy as np\n",
    "import sympy as sp\n",
    "\n",
    "c_ant = 1\n",
    "f_ant = 1\n",
    "fn = 2\n",
    "cn = 1\n",
    "angles_navigation = False\n",
    "r_f = [np.random.uniform(-100, 100, 3) for i in range(fn)]\n",
    "r_c = [np.random.uniform(-10, 10, 3) for i in range(cn)]\n",
    "q_f = [None for i in range(fn)]\n",
    "q_c = [None for i in range(cn)]\n",
    "\n",
    "multy_antenna_send = False\n",
    "multy_antenna_take = False\n",
    "\n",
    "\n",
    "H = h_matrix(c_ant=c_ant, f_ant=f_ant, fn=fn, cn=cn, angles_navigation=angles_navigation, r_f=r_f, r_c=r_c, q_f=q_f, q_c=q_c, multy_antenna_send=multy_antenna_send, multy_antenna_take=multy_antenna_take)\n",
    "sp.Matrix(H)"
   ]
  }
 ],
 "metadata": {
  "kernelspec": {
   "display_name": "Python 3 (ipykernel)",
   "language": "python",
   "name": "python3"
  },
  "language_info": {
   "codemirror_mode": {
    "name": "ipython",
    "version": 3
   },
   "file_extension": ".py",
   "mimetype": "text/x-python",
   "name": "python",
   "nbconvert_exporter": "python",
   "pygments_lexer": "ipython3",
   "version": "3.10.12"
  }
 },
 "nbformat": 4,
 "nbformat_minor": 5
}
