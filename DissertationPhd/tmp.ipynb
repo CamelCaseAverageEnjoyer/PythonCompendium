{
 "cells": [
  {
   "cell_type": "markdown",
   "id": "ee5c52b5-73e7-4ccc-95f1-f8b37a1ba6f0",
   "metadata": {},
   "source": [
    "![](../storage/banners/13_tmp.png)"
   ]
  },
  {
   "cell_type": "markdown",
   "id": "28e03f9a-7f03-42bc-8999-b1031e7e24d8",
   "metadata": {},
   "source": [
    "### <span style=\"color:#0ab49a\">Проверка dynamics.py.</span> <span style=\"color:#A254FC\">Фильтр Калмана: генерация файлика</span> "
   ]
  },
  {
   "cell_type": "code",
   "execution_count": null,
   "id": "a400642b-a6c4-4f08-81d8-bb89bec7a76b",
   "metadata": {},
   "outputs": [],
   "source": [
    "from storage.observability_mapping_partial_derivatives import h_element, h_matrix\n",
    "\n",
    "i_all = \n",
    "j_all = \n",
    "fn = 3\n",
    "cn = 1\n",
    "angles_navigation = False\n",
    "r_f = np.array([10, 20, 30])\n",
    "r_c = np.array([1, 2, 3])\n",
    "q_f = None\n",
    "q_с = None\n",
    "\n",
    "\n",
    "H = h_matrix(i_all=i_all, j_all=j_all, fn=fn, cn=cn, angles_navigation=angles_navigation, r_f=r_f, r_c=r_c, q_f=q_f, q_с=q_с)\n",
    "H"
   ]
  }
 ],
 "metadata": {
  "kernelspec": {
   "display_name": "Python 3 (ipykernel)",
   "language": "python",
   "name": "python3"
  },
  "language_info": {
   "codemirror_mode": {
    "name": "ipython",
    "version": 3
   },
   "file_extension": ".py",
   "mimetype": "text/x-python",
   "name": "python",
   "nbconvert_exporter": "python",
   "pygments_lexer": "ipython3",
   "version": "3.10.12"
  }
 },
 "nbformat": 4,
 "nbformat_minor": 5
}
