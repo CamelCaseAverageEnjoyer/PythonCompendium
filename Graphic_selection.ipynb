{
  "nbformat": 4,
  "nbformat_minor": 0,
  "metadata": {
    "kernelspec": {
      "display_name": "Python 3",
      "language": "python",
      "name": "python3"
    },
    "language_info": {
      "codemirror_mode": {
        "name": "ipython",
        "version": 3
      },
      "file_extension": ".py",
      "mimetype": "text/x-python",
      "name": "python",
      "nbconvert_exporter": "python",
      "pygments_lexer": "ipython3",
      "version": "3.8.5"
    },
    "colab": {
      "name": "Graphic selection.ipynb",
      "provenance": []
    }
  },
  "cells": [
    {
      "cell_type": "code",
      "metadata": {
        "id": "DTsP1NlWgcXY",
        "outputId": "29dfce01-011d-45f6-b9ca-33a407f0fb41"
      },
      "source": [
        "import matplotlib.pyplot as p\n",
        "import math as mt\n",
        "import numpy as np\n",
        "E = 0.001\n",
        "x = np.linspace(1., 100., 1000)\n",
        "def f(x):\n",
        "    g = 1.4\n",
        "    return (4*g/(g+1)**2 - 2*(g-1)/(g+1)**2/x**2)**(g/(g-1)) / (2*g*x**2/(g+1) - (g-1)/(g+1))\n",
        "PP = 0.165   ###################### Подбираемое отношение давлений\n",
        "y = list(range(len(x)));\n",
        "l = list(range(len(x)));\n",
        "for i in range(len(x)):\n",
        "    y[i] = f(x[i]);\n",
        "    l[i] = PP;\n",
        "    \n",
        "p.plot(x,y,label='P/P0')\n",
        "p.plot(x,l, label='подбор')\n",
        "p.legend()\n",
        "p.axis([0,10,0,0.2])\n",
        "p.show()"
      ],
      "execution_count": null,
      "outputs": [
        {
          "data": {
            "image/png": "[encoded data removed]",
            "text/plain": [
              "<Figure size 432x288 with 1 Axes>"
            ]
          },
          "metadata": {
            "needs_background": "light"
          },
          "output_type": "display_data"
        }
      ]
    },
    {
      "cell_type": "code",
      "metadata": {
        "id": "pjFbI6KqgcX4",
        "outputId": "59b821b5-805b-4070-d33b-733c5149dede"
      },
      "source": [
        "import random\n",
        "E = 1e-4\n",
        "def k1(x):\n",
        "    x = 3.2\n",
        "    while (E < abs(PP - f(x))):\n",
        "        if (PP < f(x)):\n",
        "            flag = 1\n",
        "        else:\n",
        "            flag = -1\n",
        "        x = x + flag*(PP-f(x))\n",
        "            \n",
        "        print(x)\n",
        "    return x\n",
        "\n",
        "x1 = k1(PP)\n",
        "\n",
        "p.title(\"Координаты от времени\")\n",
        "p.plot(x,y,label='P/P0')\n",
        "p.plot(x,l, label='подбор')\n",
        "\n",
        "p.axis([0,10,0,0.2])\n",
        "p.scatter(x1, f(x1), color = 'k')\n",
        "p.legend()\n",
        "p.show()"
      ],
      "execution_count": null,
      "outputs": [
        {
          "name": "stdout",
          "output_type": "stream",
          "text": [
            "3.1082283108999\n",
            "3.0206802457306545\n",
            "2.937505975142449\n",
            "2.8588335707369943\n",
            "2.784763976878352\n",
            "2.7153662927234095\n",
            "2.6506736992976787\n",
            "2.590680372025938\n",
            "2.535339684833607\n",
            "2.4845639348302218\n",
            "2.4382257016630007\n",
            "2.3961608162452843\n",
            "2.3581727695181955\n",
            "2.324038265346545\n",
            "2.2935135319678936\n",
            "2.2663409657012523\n",
            "2.2422556912303313\n",
            "2.220991677621412\n",
            "2.2022871345078467\n",
            "2.185889012002086\n",
            "2.17155652540664\n",
            "2.159063710016689\n",
            "2.1482010755247267\n",
            "2.138776471755911\n",
            "2.1306152992843246\n",
            "2.1235602036680192\n",
            "2.117470385196448\n",
            "2.1122206416348175\n",
            "2.1077002432364136\n",
            "2.103811720100137\n",
            "2.100469623671212\n",
            "2.097599307923293\n",
            "2.0951357620242983\n",
            "2.093022515167141\n",
            "2.0912106255759766\n",
            "2.089657759179432\n",
            "2.0883273587235593\n",
            "2.087187900828951\n",
            "2.08621223635906\n",
            "2.0853770081851852\n",
            "2.0846621397807654\n",
            "2.0840503878722396\n",
            "2.0835269524750637\n",
            "2.083079137944899\n",
            "2.082696059096765\n",
            "2.0823683869321723\n",
            "2.082088129026105\n",
            "2.0818484401350412\n",
            "2.0816434590764517\n",
            "2.081468168388651\n",
            "2.081318273701708\n",
            "2.0811901001329605\n",
            "2.081080503364425\n"
          ]
        }
      ]
    },
    {
      "cell_type": "code",
      "metadata": {
        "id": "QmAKd306gcX9"
      },
      "source": [
        ""
      ],
      "execution_count": null,
      "outputs": []
    }
  ]
}