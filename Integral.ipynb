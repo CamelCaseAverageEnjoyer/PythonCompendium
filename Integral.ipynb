{
 "cells": [
  {
   "cell_type": "code",
   "execution_count": 2,
   "metadata": {},
   "outputs": [
    {
     "data": {
      "image/png": "[encoded data removed]",
      "text/plain": [
       "<Figure size 432x288 with 1 Axes>"
      ]
     },
     "metadata": {
      "needs_background": "light"
     },
     "output_type": "display_data"
    },
    {
     "name": "stdout",
     "output_type": "stream",
     "text": [
      "28.765384615384612\n",
      "28.79920634920635\n"
     ]
    }
   ],
   "source": [
    "import matplotlib.pyplot as p\n",
    "import math as mt\n",
    "import numpy as np\n",
    "\n",
    "begin = 200\n",
    "end = 400\n",
    "\n",
    "def func(x):\n",
    "    return 4155/x\n",
    "\n",
    "def arg(x):\n",
    "    return (begin + end)/2 + x*(end - begin)/2\n",
    "\n",
    "def fack(n):\n",
    "    f = 1\n",
    "    while (n > 1):\n",
    "        f *= n\n",
    "        n -= 1\n",
    "    return f\n",
    "\n",
    "ax = np.linspace(begin, end, 10000)\n",
    "lx = len(ax)\n",
    "f = list(range(lx))\n",
    "for i in range(lx):\n",
    "    f[i] = func(ax[i])\n",
    "p.plot(ax, f)\n",
    "p.show()\n",
    "#Бог праведный эта функция страшная[\n",
    "\n",
    "n = [2, 3]\n",
    "c = [[1, 1], [5/9, 8/9, 5/9]]\n",
    "t = [[-1/mt.sqrt(3), 1/mt.sqrt(3)], [-mt.sqrt(3/5), 0, mt.sqrt(3/5)]]\n",
    "\n",
    "J = [0, 0]\n",
    "\n",
    "for j in range(2):\n",
    "    for i in range(n[j]):\n",
    "        J[n[j] - 2] += c[n[j] - 2][i]*func(arg(t[n[j] - 2][i]))\n",
    "    print(J[n[j] - 2])\n",
    "    #r = (end - begin)^(2*n[j] + 3)*(fack(n[j] + 1))^4/(2*n[j] + 3)/(fack(2*n[j] + 2))^3*func()"
   ]
  },
  {
   "cell_type": "code",
   "execution_count": 35,
   "metadata": {},
   "outputs": [
    {
     "name": "stdout",
     "output_type": "stream",
     "text": [
      "Формула трапеций:  0.010005347701885057\n",
      "Формула Симпсона:  0.010004597492632087\n",
      "Формула 3/8:       0.010004977014148824\n"
     ]
    }
   ],
   "source": [
    "#f[i] от ax[i]\n",
    "h = ax[2]-ax[1]\n",
    "J1 = 0\n",
    "c1 = list(range(lx))\n",
    "for i in range(lx):\n",
    "    c1[i] = 2\n",
    "    if (i == 0 or i == lx-1):\n",
    "        c1[i] = 1\n",
    "for i in range(lx):\n",
    "    J1 += f[i]*c1[i]\n",
    "J1 *= h/2\n",
    "print('Формула трапеций: ', J1)\n",
    "\n",
    "J2 = 0\n",
    "c2 = list(range(lx))\n",
    "for i in range(lx):\n",
    "    if (i % 2 == 0):\n",
    "        c2[i] = 4\n",
    "    else:\n",
    "        c2[i] = 2\n",
    "c2[0] = c2[lx-1] = 1\n",
    "for i in range(lx):\n",
    "    J2 += f[i]*c2[i]\n",
    "J2 *= h/3\n",
    "print('Формула Симпсона: ', J2)\n",
    "\n",
    "J3 = 0\n",
    "c3 = list(range(lx))\n",
    "for i in range(lx):\n",
    "    if ((i-1) % 3 == 0):\n",
    "        c3[i] = 2\n",
    "    else:\n",
    "        c3[i] = 3\n",
    "c3[0] = c3[lx-1] = 1\n",
    "for i in range(lx):\n",
    "    J3 += f[i]*c3[i]\n",
    "J3 *= 3*h/8\n",
    "print('Формула 3/8:      ', J3)\n"
   ]
  }
 ],
 "metadata": {
  "kernelspec": {
   "display_name": "Python 3",
   "language": "python",
   "name": "python3"
  },
  "language_info": {
   "codemirror_mode": {
    "name": "ipython",
    "version": 3
   },
   "file_extension": ".py",
   "mimetype": "text/x-python",
   "name": "python",
   "nbconvert_exporter": "python",
   "pygments_lexer": "ipython3",
   "version": "3.8.5"
  }
 },
 "nbformat": 4,
 "nbformat_minor": 2
}
