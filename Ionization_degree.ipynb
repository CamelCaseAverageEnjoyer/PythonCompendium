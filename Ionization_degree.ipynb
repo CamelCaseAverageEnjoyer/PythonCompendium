{
  "nbformat": 4,
  "nbformat_minor": 0,
  "metadata": {
    "kernelspec": {
      "display_name": "Python 3",
      "language": "python",
      "name": "python3"
    },
    "language_info": {
      "codemirror_mode": {
        "name": "ipython",
        "version": 3
      },
      "file_extension": ".py",
      "mimetype": "text/x-python",
      "name": "python",
      "nbconvert_exporter": "python",
      "pygments_lexer": "ipython3",
      "version": "3.8.5"
    },
    "colab": {
      "name": "Ionization degree.ipynb",
      "provenance": [],
      "collapsed_sections": []
    }
  },
  "cells": [
    {
      "cell_type": "markdown",
      "metadata": {
        "id": "89eF5DmXbwxV"
      },
      "source": [
        "## Note: все расчёты изначально для P = 0.1 атмосфер, потом больше графиков"
      ]
    },
    {
      "cell_type": "code",
      "metadata": {
        "id": "YW14vYjHbwxY"
      },
      "source": [
        "import matplotlib.pyplot as plt\n",
        "import math\n",
        "import numpy as np"
      ],
      "execution_count": null,
      "outputs": []
    },
    {
      "cell_type": "markdown",
      "metadata": {
        "id": "WJcgPVVbbwxf"
      },
      "source": [
        "# Расчёты для Азота"
      ]
    },
    {
      "cell_type": "code",
      "metadata": {
        "id": "FAY97W5_bwxh",
        "outputId": "92620dd5-b4db-46eb-e195-87bde3d2c694"
      },
      "source": [
        "######################## Атом\n",
        "L1 = 0\n",
        "S1 = 4\n",
        "g1 = S1*(2*L1 + 1)\n",
        "######################## Молекула\n",
        "L2 = 1\n",
        "S2 = 2\n",
        "g2 = S2*(2*L2 + 1)\n",
        "######################## Переводы\n",
        "def erg(T):\n",
        "    return 1.380648780669e-16*T\n",
        "\n",
        "def eV(T):\n",
        "    return 0.00008617328149741*T\n",
        "\n",
        "def eV_erg(E):\n",
        "    return 1.60218e-12*E\n",
        "\n",
        "def erg_K(T):\n",
        "    return T/1.380648780669e-16\n",
        "\n",
        "def eV_K(T):\n",
        "    return T/0.00008617328149741\n",
        "\n",
        "######################## Общие параметры\n",
        "N_exp = 5\n",
        "P = np.linspace(0.1, 1, N_exp) ############## В атмосферах\n",
        "P1 = [P[i]*1.01325 for i in range(N_exp)] ### В барах\n",
        "h = 6.62607015*1e-27   ##### эрг*с\n",
        "#h = 4.135667669*1e-15   ### эВ * с\n",
        "w = 1461 #### 1/см\n",
        "Na = 6.02214082*1e23\n",
        "m = 14.0067 / Na\n",
        "D = eV_erg(9.76)\n",
        "B1 = 1.455 ##### Вращательная постоянная\n",
        "\n",
        "def alpha(BB):\n",
        "    return math.sqrt(BB/(1+BB))\n",
        "\n",
        "def B(formul, n0):\n",
        "    return formul/n0\n",
        "\n",
        "def formula(g1,g2,h,w,m,T,D,B1):\n",
        "    return g1*g1/g2 * (1 - math.exp(-h*w/T)) * B1/T *( m/2 * T/2/math.pi/h**2 )**(3/2) * math.exp(-D/T)\n",
        "\n",
        "def aaa(i,j):\n",
        "    return alpha(B( formula(g1,g2,h,w,m,T1[i],D,B1) , P[j]/T1[i] ))\n",
        "\n",
        "N = 100  ###### Количество точек\n",
        "t = np.linspace(1,N,N)\n",
        "T = np.linspace(1000, 10000, N) ########### В Кельвинах\n",
        "T1 = [erg(T[i]) for i in range(N)]\n",
        "a = np.linspace(1,N,N)\n",
        "\n",
        "################################################################# ГЛАВНЫЙ ПОДСЧЁТ\n",
        "j = 0\n",
        "for i in range(N):\n",
        "    a[i] = aaa(i,j)\n",
        "    \n",
        "plt.plot(T,a)\n",
        "plt.show()\n",
        "\n",
        "for i in range(N_exp):\n",
        "    print('P[', i, '] = ', P[i], 'атмосфер')"
      ],
      "execution_count": null,
      "outputs": [
        {
          "data": {
            "image/png": "[encoded data removed]",
            "text/plain": [
              "<Figure size 432x288 with 1 Axes>"
            ]
          },
          "metadata": {
            "needs_background": "light"
          },
          "output_type": "display_data"
        },
        {
          "name": "stdout",
          "output_type": "stream",
          "text": [
            "P[ 0 ] =  0.1 атмосфер\n",
            "P[ 1 ] =  0.325 атмосфер\n",
            "P[ 2 ] =  0.55 атмосфер\n",
            "P[ 3 ] =  0.775 атмосфер\n",
            "P[ 4 ] =  1.0 атмосфер\n"
          ]
        }
      ]
    },
    {
      "cell_type": "code",
      "metadata": {
        "id": "cD4qoj8Tbwxo",
        "outputId": "ffce81db-22fa-4bc9-b723-0990f0e10ce4"
      },
      "source": [
        "N_scatter = 50\n",
        "X_T = np.linspace(1,2,N_scatter)\n",
        "Y_T = np.linspace(1,2,N_scatter)\n",
        "\n",
        "ii = 23\n",
        "\n",
        "for i in range(N_scatter):\n",
        "    X_T[i] = T[ii]\n",
        "    Y_T[i] = i/N_scatter\n",
        "    \n",
        "print('P[', j, '] = ', P[j], 'атмосфер')\n",
        "print('T* = ', T[ii])\n",
        "\n",
        "plt.title(\"Азот N2\")\n",
        "plt.plot(T,a)\n",
        "plt.plot(X_T,Y_T)\n",
        "plt.show()"
      ],
      "execution_count": null,
      "outputs": [
        {
          "name": "stdout",
          "output_type": "stream",
          "text": [
            "P[ 0 ] =  0.1 атмосфер\n",
            "T* =  3090.909090909091\n"
          ]
        },
        {
          "data": {
            "image/png": "[encoded data removed]",
            "text/plain": [
              "<Figure size 432x288 with 1 Axes>"
            ]
          },
          "metadata": {
            "needs_background": "light"
          },
          "output_type": "display_data"
        }
      ]
    },
    {
      "cell_type": "markdown",
      "metadata": {
        "id": "OwSEPeLYbwxr"
      },
      "source": [
        "# Расчёты для Водорода"
      ]
    },
    {
      "cell_type": "code",
      "metadata": {
        "id": "_yoApKIBbwxw",
        "outputId": "15586933-7991-4fa4-de3f-43c19d4d12ee"
      },
      "source": [
        "######################## Атом\n",
        "L1 = 0\n",
        "S1 = 4\n",
        "g1 = S1*(2*L1 + 1)\n",
        "######################## Молекула\n",
        "L2 = 1\n",
        "S2 = 2\n",
        "g2 = S2*(2*L2 + 1)\n",
        "\n",
        "######################## Общие параметры\n",
        "w = 2661\n",
        "m = 1 / Na\n",
        "D = eV_erg(4.478)\n",
        "B1 = 31.5 ##### Вращательная постоянная\n",
        "\n",
        "a2 = np.linspace(1,N,N)\n",
        "\n",
        "T = np.linspace(500, 4000, N) ########### В Кельвинах\n",
        "T1 = [erg(T[i]) for i in range(N)]\n",
        "\n",
        "j = 0\n",
        "for i in range(N):\n",
        "    a2[i] = aaa(i,j)\n",
        "    \n",
        "plt.plot(T,a2)\n",
        "plt.show()\n",
        "\n",
        "for i in range(N_exp):\n",
        "    print('P[', i, '] = ', P[i], 'атмосфер')"
      ],
      "execution_count": null,
      "outputs": [
        {
          "data": {
            "image/png": "[encoded data removed]",
            "text/plain": [
              "<Figure size 432x288 with 1 Axes>"
            ]
          },
          "metadata": {
            "needs_background": "light"
          },
          "output_type": "display_data"
        },
        {
          "name": "stdout",
          "output_type": "stream",
          "text": [
            "P[ 0 ] =  0.1 атмосфер\n",
            "P[ 1 ] =  0.325 атмосфер\n",
            "P[ 2 ] =  0.55 атмосфер\n",
            "P[ 3 ] =  0.775 атмосфер\n",
            "P[ 4 ] =  1.0 атмосфер\n"
          ]
        }
      ]
    },
    {
      "cell_type": "code",
      "metadata": {
        "id": "f-50IVcsbwx1",
        "outputId": "7750ea3e-5ba0-478a-9ae2-2208dc460ac5"
      },
      "source": [
        "N_scatter = 50\n",
        "X_T = np.linspace(1,2,N_scatter)\n",
        "Y_T = np.linspace(1,2,N_scatter)\n",
        "\n",
        "ii = 5\n",
        "\n",
        "for i in range(N_scatter):\n",
        "    X_T[i] = T[ii]\n",
        "    Y_T[i] = i/N_scatter\n",
        "    \n",
        "print('P[', j, '] = ', P[j], 'атмосфер')\n",
        "print('T* = ', T[ii])\n",
        "\n",
        "plt.title(\"Водород Н2\")\n",
        "plt.plot(T,a2)\n",
        "plt.plot(X_T,Y_T)\n",
        "plt.show()"
      ],
      "execution_count": null,
      "outputs": [
        {
          "name": "stdout",
          "output_type": "stream",
          "text": [
            "P[ 0 ] =  0.1 атмосфер\n",
            "T* =  1454.5454545454545\n"
          ]
        },
        {
          "data": {
            "image/png": "[encoded data removed]",
            "text/plain": [
              "<Figure size 432x288 with 1 Axes>"
            ]
          },
          "metadata": {
            "needs_background": "light"
          },
          "output_type": "display_data"
        }
      ]
    },
    {
      "cell_type": "code",
      "metadata": {
        "id": "gl89kiUwbwx7",
        "outputId": "71c44fa8-1846-4ff8-f38d-fbfa4df7f34a"
      },
      "source": [
        "ii = [5, 6, 6, 7, 7]\n",
        "for j in range(N_exp):\n",
        "    for i in range(N):\n",
        "        a2[i] = aaa(i,j)\n",
        "    for i in range(N_scatter):\n",
        "        X_T[i] = T[ii[j]]\n",
        "        Y_T[i] = i/N_scatter\n",
        "    \n",
        "    print('P[', j, '] = ', P[j], 'атмосфер')\n",
        "    plt.title(\"Водород Н2\")\n",
        "    plt.plot(X_T,Y_T)\n",
        "    plt.plot(T,a2)\n",
        "    plt.show()"
      ],
      "execution_count": null,
      "outputs": [
        {
          "name": "stdout",
          "output_type": "stream",
          "text": [
            "P[ 0 ] =  0.1 атмосфер\n"
          ]
        },
        {
          "data": {
            "image/png": "[encoded data removed]",
            "text/plain": [
              "<Figure size 432x288 with 1 Axes>"
            ]
          },
          "metadata": {
            "needs_background": "light"
          },
          "output_type": "display_data"
        },
        {
          "name": "stdout",
          "output_type": "stream",
          "text": [
            "P[ 1 ] =  0.325 атмосфер\n"
          ]
        },
        {
          "data": {
            "image/png": "[encoded data removed]",
            "text/plain": [
              "<Figure size 432x288 with 1 Axes>"
            ]
          },
          "metadata": {
            "needs_background": "light"
          },
          "output_type": "display_data"
        },
        {
          "name": "stdout",
          "output_type": "stream",
          "text": [
            "P[ 2 ] =  0.55 атмосфер\n"
          ]
        },
        {
          "data": {
            "image/png": "[encoded data removed]",
            "text/plain": [
              "<Figure size 432x288 with 1 Axes>"
            ]
          },
          "metadata": {
            "needs_background": "light"
          },
          "output_type": "display_data"
        },
        {
          "name": "stdout",
          "output_type": "stream",
          "text": [
            "P[ 3 ] =  0.775 атмосфер\n"
          ]
        },
        {
          "data": {
            "image/png": "[encoded data removed]",
            "text/plain": [
              "<Figure size 432x288 with 1 Axes>"
            ]
          },
          "metadata": {
            "needs_background": "light"
          },
          "output_type": "display_data"
        },
        {
          "name": "stdout",
          "output_type": "stream",
          "text": [
            "P[ 4 ] =  1.0 атмосфер\n"
          ]
        },
        {
          "data": {
            "image/png": "[encoded data removed]",
            "text/plain": [
              "<Figure size 432x288 with 1 Axes>"
            ]
          },
          "metadata": {
            "needs_background": "light"
          },
          "output_type": "display_data"
        }
      ]
    },
    {
      "cell_type": "code",
      "metadata": {
        "id": "mSeH-eb0bwyA"
      },
      "source": [
        ""
      ],
      "execution_count": null,
      "outputs": []
    }
  ]
}