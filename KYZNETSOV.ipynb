{
 "cells": [
  {
   "cell_type": "code",
   "execution_count": 1,
   "metadata": {},
   "outputs": [],
   "source": [
    "import numpy as np\n",
    "import matplotlib.pyplot as plt\n",
    "import math"
   ]
  },
  {
   "cell_type": "code",
   "execution_count": 38,
   "metadata": {},
   "outputs": [
    {
     "data": {
      "text/plain": [
       "100"
      ]
     },
     "execution_count": 38,
     "metadata": {},
     "output_type": "execute_result"
    }
   ],
   "source": [
    "x_begin = -1\n",
    "x_end = 1\n",
    "t_begin = 0\n",
    "t_end = 4\n",
    "\n",
    "lamda = 1\n",
    "\n",
    "N_x = 100\n",
    "N_t = 800\n",
    "T = np.linspace(t_begin, t_end, N_t)\n",
    "X = np.linspace(x_begin, x_end, N_x)\n",
    "U = [[0 for i in range(N_x)] for j in range(N_t)]\n",
    "len(U[150][:])"
   ]
  },
  {
   "cell_type": "code",
   "execution_count": 39,
   "metadata": {},
   "outputs": [
    {
     "data": {
      "text/plain": [
       "<function matplotlib.pyplot.show(close=None, block=None)>"
      ]
     },
     "execution_count": 39,
     "metadata": {},
     "output_type": "execute_result"
    },
    {
     "data": {
      "image/png": "[encoded data removed]",
      "text/plain": [
       "<Figure size 432x288 with 1 Axes>"
      ]
     },
     "metadata": {
      "needs_background": "light"
     },
     "output_type": "display_data"
    }
   ],
   "source": [
    "for i in range(N_x):\n",
    "    U[0][i] = math.exp(-X[i])\n",
    "    \"\"\" if (X[i] > -0.1) and (X[i] < 0.1):\n",
    "        U[0][i] = 1\n",
    "    else:\n",
    "        U[0][i] = 0\"\"\"\n",
    "        \n",
    "plt.plot(X, U[0])\n",
    "plt.show"
   ]
  },
  {
   "cell_type": "code",
   "execution_count": 4,
   "metadata": {},
   "outputs": [
    {
     "data": {
      "text/plain": [
       "(0.01, 0.002, 0.2)"
      ]
     },
     "execution_count": 4,
     "metadata": {},
     "output_type": "execute_result"
    }
   ],
   "source": [
    "h = (x_end - x_begin)/N_x\n",
    "tao = (t_end - t_begin)/N_t\n",
    "sigma = lamda*tao/h\n",
    "h,tao,sigma"
   ]
  },
  {
   "cell_type": "code",
   "execution_count": 13,
   "metadata": {},
   "outputs": [],
   "source": [
    "sigma = lamda*tao/h\n",
    "\n",
    "def reshenie(a_2, sigma):\n",
    "    M = [[1, 1, 1], [1, 0, -1], [1, 0, 1]]\n",
    "    V = [1 - a_2, sigma - 2*a_2, sigma**2 - 4*a_2]\n",
    "    return np.linalg.solve(M, V)\n",
    "\n",
    "for tt in range(N_t - 1):\n",
    "    U[tt + 1][0] = U[tt][0]\n",
    "    U[tt + 1][1] = U[tt][1]\n",
    "    U[tt + 1][N_x - 1] = U[tt][N_x - 1]\n",
    "    \n",
    "    for i in range(N_x - 3):\n",
    "        ii = i + 2\n",
    "        # Русанов\n",
    "        a_2 = sigma*(sigma**2 - 1)/6\n",
    "        a = reshenie(a_2, sigma)\n",
    "        tmp = a_2 * U[tt][ii - 2] + a[0]*U[tt][ii - 1] + a[1]*U[tt][ii] + a[2]*U[tt][ii + 1]\n",
    "        \n",
    "        if (tmp - U[tt + 1][ii - 1])*(U[tt][ii] - U[tt][ii - 1]) < 0:\n",
    "            # Лакса-Вендрофф\n",
    "            a_2 = 0\n",
    "            a = reshenie(a_2, sigma)\n",
    "            tmp = a_2 * U[tt][ii - 2] + a[0]*U[tt][ii - 1] + a[1]*U[tt][ii] + a[2]*U[tt][ii + 1]\n",
    "            \n",
    "            if (tmp - U[tt + 1][ii - 1])*(U[tt][ii] - U[tt][ii - 1]) < 0:\n",
    "                # Бим-Уорминг\n",
    "                a_2 = sigma*(sigma - 1)/2\n",
    "                a = reshenie(a_2, sigma)\n",
    "                tmp = a_2 * U[tt][ii - 2] + a[0]*U[tt][ii - 1] + a[1]*U[tt][ii] + a[2]*U[tt][ii + 1]\n",
    "                \n",
    "        U[tt + 1][ii] = tmp"
   ]
  },
  {
   "cell_type": "code",
   "execution_count": 14,
   "metadata": {},
   "outputs": [
    {
     "data": {
      "image/png": "[encoded data removed]",
      "text/plain": [
       "<Figure size 432x288 with 1 Axes>"
      ]
     },
     "metadata": {
      "needs_background": "light"
     },
     "output_type": "display_data"
    }
   ],
   "source": [
    "plt.plot(X, U[1])\n",
    "plt.show()"
   ]
  },
  {
   "cell_type": "code",
   "execution_count": 40,
   "metadata": {},
   "outputs": [],
   "source": [
    "h = (x_end - x_begin)/N_x\n",
    "tao = (t_end - t_begin)/N_t\n",
    "\n",
    "for tt in range(N_t - 1):\n",
    "    U[tt + 1][0] = U[tt][0]\n",
    "    U[tt + 1][N_x - 1] = U[tt][N_x - 1]\n",
    "\n",
    "    for i in range(N_x - 2):\n",
    "        ii = i + 1\n",
    "        lmbd = (1-X[ii])/2\n",
    "        sig = abs(lmbd)*tao/h\n",
    "        if lmbd >= 0:\n",
    "            U[tt+1][ii] = (1 - sig)*U[tt][ii] + sig*U[tt][ii-1]\n",
    "        else:\n",
    "            U[tt+1][ii] = (1 - sig)*U[tt][ii] + sig*U[tt][ii+1]"
   ]
  },
  {
   "cell_type": "code",
   "execution_count": 44,
   "metadata": {},
   "outputs": [
    {
     "data": {
      "image/png": "[encoded data removed]",
      "text/plain": [
       "<Figure size 432x288 with 1 Axes>"
      ]
     },
     "metadata": {
      "needs_background": "light"
     },
     "output_type": "display_data"
    }
   ],
   "source": [
    "plt.plot(X, U[799])\n",
    "plt.show()"
   ]
  },
  {
   "cell_type": "code",
   "execution_count": 45,
   "metadata": {},
   "outputs": [],
   "source": [
    "import numpy as np\n",
    "import matplotlib.pyplot as plt\n",
    "import math"
   ]
  },
  {
   "cell_type": "code",
   "execution_count": 46,
   "metadata": {},
   "outputs": [
    {
     "data": {
      "text/plain": [
       "100"
      ]
     },
     "execution_count": 46,
     "metadata": {},
     "output_type": "execute_result"
    }
   ],
   "source": [
    "x_begin = -1\n",
    "x_end = 1\n",
    "t_begin = 0\n",
    "t_end = 4\n",
    "\n",
    "lamda = 1\n",
    "\n",
    "N_x = 100\n",
    "N_t = 800\n",
    "T = np.linspace(t_begin, t_end, N_t)\n",
    "X = np.linspace(x_begin, x_end, N_x)\n",
    "U = [[0 for i in range(N_x)] for j in range(N_t)]\n",
    "len(U[150][:])"
   ]
  },
  {
   "cell_type": "code",
   "execution_count": 51,
   "metadata": {},
   "outputs": [
    {
     "data": {
      "text/plain": [
       "<function matplotlib.pyplot.show(close=None, block=None)>"
      ]
     },
     "execution_count": 51,
     "metadata": {},
     "output_type": "execute_result"
    },
    {
     "data": {
      "image/png": "[encoded data removed]",
      "text/plain": [
       "<Figure size 432x288 with 1 Axes>"
      ]
     },
     "metadata": {
      "needs_background": "light"
     },
     "output_type": "display_data"
    }
   ],
   "source": [
    "for i in range(N_x):\n",
    "    U[0][i] = math.exp(-X[i]-1)\n",
    "    \"\"\" if (X[i] > -0.1) and (X[i] < 0.1):\n",
    "        U[0][i] = 1\n",
    "    else:\n",
    "        U[0][i] = 0\"\"\"\n",
    "        \n",
    "plt.plot(X, U[0])\n",
    "plt.show"
   ]
  },
  {
   "cell_type": "code",
   "execution_count": 52,
   "metadata": {},
   "outputs": [],
   "source": [
    "h = (x_end - x_begin)/N_x\n",
    "tao = (t_end - t_begin)/N_t\n",
    "\n",
    "for tt in range(N_t - 1):\n",
    "    U[tt + 1][0] = U[tt][0]\n",
    "    U[tt + 1][N_x - 1] = U[tt][N_x - 1]\n",
    "\n",
    "    for i in range(N_x - 2):\n",
    "        ii = i + 1\n",
    "        lmbd = (1-X[ii])/2\n",
    "        sig = abs(lmbd)*tao/h\n",
    "        if lmbd >= 0:\n",
    "            U[tt+1][ii] = (1 - sig)*U[tt][ii] + sig*U[tt][ii-1]\n",
    "        else:\n",
    "            U[tt+1][ii] = (1 - sig)*U[tt][ii] + sig*U[tt][ii+1]"
   ]
  },
  {
   "cell_type": "code",
   "execution_count": 56,
   "metadata": {},
   "outputs": [
    {
     "data": {
      "image/png": "[encoded data removed]",
      "text/plain": [
       "<Figure size 432x288 with 1 Axes>"
      ]
     },
     "metadata": {
      "needs_background": "light"
     },
     "output_type": "display_data"
    }
   ],
   "source": [
    "plt.plot(X, U[300])\n",
    "plt.show()"
   ]
  },
  {
   "cell_type": "code",
   "execution_count": null,
   "metadata": {},
   "outputs": [],
   "source": []
  }
 ],
 "metadata": {
  "kernelspec": {
   "display_name": "Python 3",
   "language": "python",
   "name": "python3"
  },
  "language_info": {
   "codemirror_mode": {
    "name": "ipython",
    "version": 3
   },
   "file_extension": ".py",
   "mimetype": "text/x-python",
   "name": "python",
   "nbconvert_exporter": "python",
   "pygments_lexer": "ipython3",
   "version": "3.8.5"
  }
 },
 "nbformat": 4,
 "nbformat_minor": 4
}
