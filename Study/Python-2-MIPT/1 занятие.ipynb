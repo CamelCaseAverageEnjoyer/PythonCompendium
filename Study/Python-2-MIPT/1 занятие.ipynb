{
 "cells": [
  {
   "cell_type": "markdown",
   "id": "0bc600ae",
   "metadata": {},
   "source": [
    "### <span style=\"color:#0ab49a\">Занятие №1:</span> <span style=\"color:#BA77D8\">Базовый синтаксис Python</span> \n",
    "\n",
    "![](img/banner.png)"
   ]
  },
  {
   "cell_type": "markdown",
   "id": "fd018ae5",
   "metadata": {},
   "source": [
    "Контактная информация:\n",
    "- Орлов Владислав Владимирович\n",
    "- Почта: orlov.vv@phystech.edu/.su\n",
    "- Telegram: @v_v_or\n",
    "\n",
    "Напоминание для меня:\n",
    "- 17:45-17:50 - пятиминутка\n",
    "- 18:30-18:35 - перемена\n",
    "- 19:15-19:20 - пятиминутка"
   ]
  },
  {
   "cell_type": "markdown",
   "id": "95d6b6df",
   "metadata": {},
   "source": [
    "### <span style=\"color:#55628D\">0. Формат файла</span>\n",
    "\n",
    "![](img/py_ipynb.jpg)"
   ]
  },
  {
   "cell_type": "markdown",
   "id": "b74ff80d",
   "metadata": {},
   "source": [
    "### <span style=\"color:#55628D\">1. Привет, мир!</span>"
   ]
  },
  {
   "cell_type": "code",
   "execution_count": null,
   "id": "a0f95594",
   "metadata": {},
   "outputs": [],
   "source": [
    "# Не будем нарушать традиций, начнём с Hello world-а.\n",
    "\n",
    "# Однострочные комментарии в Python-е начинаются с символа \"#\"\n",
    "\n",
    "print(\"Hello world\")"
   ]
  },
  {
   "cell_type": "markdown",
   "id": "76241e64",
   "metadata": {},
   "source": [
    "### <span style=\"color:#55628D\">2. Переменные</span>"
   ]
  },
  {
   "cell_type": "code",
   "execution_count": null,
   "id": "ac5689cf",
   "metadata": {},
   "outputs": [],
   "source": [
    "\"\"\"\n",
    "В Python переменные не такие строгие, как в C++.\n",
    "Их не требуется объявлять заранее.\n",
    "И у них вообще нет строгих типов.\n",
    "(Кстати, вот так можно делать блоки многострочных комментариев.)\n",
    "\"\"\"\n",
    "\n",
    "# Например, сейчас у меня есть переменная а, которая равна целому числу 42\n",
    "a = 42\n",
    "\n",
    "# Могу её напечатать\n",
    "print(a)"
   ]
  },
  {
   "cell_type": "code",
   "execution_count": null,
   "id": "514bf958",
   "metadata": {},
   "outputs": [],
   "source": [
    "# А потом могу внезапно сказать, что теперь a содержит строку\n",
    "a = \"Тестовая строка\"\n",
    "\n",
    "print(a)"
   ]
  },
  {
   "cell_type": "markdown",
   "id": "76fdb529",
   "metadata": {},
   "source": [
    "### <span style=\"color:#55628D\">3. Преобразование типов</span>"
   ]
  },
  {
   "cell_type": "code",
   "execution_count": null,
   "id": "09f71b5e",
   "metadata": {},
   "outputs": [],
   "source": [
    "\"\"\"\n",
    "Иногда всё-таки хочется определённости, что сейчас лежит в переменной.\n",
    "Тогда можно и нужно кастовать содержимое к нужному типу.\n",
    "\"\"\"\n",
    "\n",
    "# Например, была переменная b, в ней лежала вот такая строка\n",
    "b = \"111\"\n",
    "\n",
    "# Напечатаем переменню и её тип:\n",
    "print(\"b = \" + b)\n",
    "print(\"Тип переменной b:\")\n",
    "print(type(b))"
   ]
  },
  {
   "cell_type": "code",
   "execution_count": null,
   "id": "2c72c012",
   "metadata": {},
   "outputs": [],
   "source": [
    "# Попросим, чтобы b стала целым числом:\n",
    "b = int(b)\n",
    "\n",
    "# Ну и напечатаем снова:\n",
    "print(\"b = \" + str(b))      # Пришлось сделать str(b). Потому что нельзя взять и сложить строку и целое число.\n",
    "print(\"Тип переменной b:\")\n",
    "print(type(b))\n",
    "\n",
    "# На самом деле, тут скрывается большая кроличья нора под названием duck typing. Но о ней мы тоже поговорим позже."
   ]
  },
  {
   "cell_type": "code",
   "execution_count": null,
   "id": "6a968433",
   "metadata": {},
   "outputs": [],
   "source": [
    "a = 10\n",
    "print(\"Остаток от деления: \" + str(a % 2))\n",
    "print(type(a % 2))\n",
    "print(\"Целая часть от деления: \" + str(a // 2))\n",
    "print(type(a // 2))"
   ]
  },
  {
   "cell_type": "markdown",
   "id": "f108b31d",
   "metadata": {},
   "source": [
    "### <span style=\"color:#55628D\">4. Ввод и вывод</span>"
   ]
  },
  {
   "cell_type": "code",
   "execution_count": null,
   "id": "07e5ab18",
   "metadata": {},
   "outputs": [],
   "source": [
    "# Базово что-нибудь считать с консоли можно вот так:\n",
    "a = input()\n",
    "\n",
    "# Потом можно вывести его обратно:\n",
    "print(a)"
   ]
  },
  {
   "cell_type": "code",
   "execution_count": null,
   "id": "16e3ec3b",
   "metadata": {},
   "outputs": [],
   "source": [
    "# Кстати. Как думаете, какой будет тип, если ввести число? Давайте посмотрим.\n",
    "print(type(a))"
   ]
  },
  {
   "cell_type": "code",
   "execution_count": null,
   "id": "8e105ed1",
   "metadata": {},
   "outputs": [],
   "source": [
    "# Разумеется, кастовать считанное к нужному типу можно. Даже нужно.\n",
    "i = int(a)\n",
    "f = float(a)\n",
    "print(a)\n",
    "print(type(a))\n",
    "print(i)\n",
    "print(type(i))\n",
    "print(f)\n",
    "print(type(f))"
   ]
  },
  {
   "cell_type": "code",
   "execution_count": null,
   "id": "7ac3db52",
   "metadata": {},
   "outputs": [],
   "source": [
    "# По умолчанию print выводит в конце символ новой строки. Но можно попросить его так не делать:\n",
    "print(\"Раз \", end='')\n",
    "print(\"Два \", end='')\n",
    "print(\"Три\")"
   ]
  },
  {
   "cell_type": "markdown",
   "id": "51d4d6c5",
   "metadata": {},
   "source": [
    "### <span style=\"color:#48B026\">Контест №1: Hello, Alice!</span>"
   ]
  },
  {
   "cell_type": "markdown",
   "id": "404518c2",
   "metadata": {},
   "source": [
    "### <span style=\"color:#55628D\">5. Массивы</span>"
   ]
  },
  {
   "cell_type": "code",
   "execution_count": null,
   "id": "1b72dfbc",
   "metadata": {},
   "outputs": [],
   "source": [
    "\"\"\"\n",
    "Вообще массивы в Python - не совсем то, чем кажутся.\n",
    "Пока что воспримем их примерно как обычные массивы.\n",
    "Хотя самые хитрые, наверное, быстро поймут, что они больше похоже на C++-ные vector-ы.\n",
    "\"\"\"\n",
    "\n",
    "# Пустой массив\n",
    "arr1 = []\n",
    "\n",
    "# Непустой массив\n",
    "arr2 = [1, 2, 3]\n",
    "\n",
    "# Двумерный массив\n",
    "arr2d = [[1, 2, 3], [4, 5, 6], [7, 8, 9]]\n",
    "\n",
    "# Можно взять и напечатать его\n",
    "print(arr2d)"
   ]
  },
  {
   "cell_type": "code",
   "execution_count": null,
   "id": "8408e00f",
   "metadata": {},
   "outputs": [],
   "source": [
    "# Можно обойти и обратиться поэлементно\n",
    "for a in arr2:\n",
    "    print(\"Элемент = \" + str(a))"
   ]
  },
  {
   "cell_type": "code",
   "execution_count": null,
   "id": "ee67b23b",
   "metadata": {},
   "outputs": [],
   "source": [
    "# Можно досыпать элементов в массив, он при этом автоматически увеличится в размере\n",
    "arr2.append(42)\n",
    "print(arr2)"
   ]
  },
  {
   "cell_type": "code",
   "execution_count": null,
   "id": "9ab73a42",
   "metadata": {},
   "outputs": [],
   "source": [
    "# Можно получить размер массива.\n",
    "# Кстати, здесь использован форматированный вывод:\n",
    "# в строке формата указано %d (\"сюда будет подставлено целое число\"), дальше через % указано, что подставлять.\n",
    "\n",
    "print(\"Длина массива: %d\" % len(arr2d))"
   ]
  },
  {
   "cell_type": "markdown",
   "id": "be5836b7",
   "metadata": {},
   "source": [
    "### <span style=\"color:#55628D\">6. Условия</span>"
   ]
  },
  {
   "cell_type": "code",
   "execution_count": null,
   "id": "b1a49156",
   "metadata": {},
   "outputs": [],
   "source": [
    "\"\"\"\n",
    "Без if-ов жить, конечно, нельзя. В Python-е они выглядят примерно так.\n",
    "\"\"\"\n",
    "\n",
    "a = int(input())\n",
    "\n",
    "if a > 0:\n",
    "    print(\"Положительное\")\n",
    "elif a < 0:\n",
    "    print(\"Отрицательное\")\n",
    "else:\n",
    "    print(\"Ноль\")"
   ]
  },
  {
   "cell_type": "markdown",
   "id": "3e6b278d",
   "metadata": {},
   "source": [
    "### <span style=\"color:#55628D\">7. Циклы</span>"
   ]
  },
  {
   "cell_type": "code",
   "execution_count": null,
   "id": "6b8d9176",
   "metadata": {},
   "outputs": [],
   "source": [
    "# Цикл for:\n",
    "for i in range(5):\n",
    "    print(i)"
   ]
  },
  {
   "cell_type": "code",
   "execution_count": null,
   "id": "c3afec75",
   "metadata": {},
   "outputs": [],
   "source": [
    "# Цикл while:\n",
    "a = 0\n",
    "while a < 10:\n",
    "    print(a)\n",
    "    a += 4"
   ]
  },
  {
   "cell_type": "code",
   "execution_count": null,
   "id": "4622ee92-f256-4fa1-9bd6-c7b6b3a612ec",
   "metadata": {},
   "outputs": [],
   "source": [
    "while True:\n",
    "    print(\"Цикл while\")\n",
    "    break"
   ]
  },
  {
   "cell_type": "code",
   "execution_count": null,
   "id": "623cc94e",
   "metadata": {},
   "outputs": [],
   "source": [
    "# Примечание относительно range()\n",
    "a = range(5)  # От 0 до 4\n",
    "print(a)\n",
    "a = range(1, 10)  # От 1 до 10\n",
    "print(a)\n",
    "a = range(10, 1)  # От 10 до 1\n",
    "print(a)\n",
    "a = range(0, 10, 5)  # От 0 до 10 с шагом 5\n",
    "print(a)"
   ]
  },
  {
   "cell_type": "code",
   "execution_count": null,
   "id": "eda52cc0",
   "metadata": {},
   "outputs": [],
   "source": [
    "for i in [0, 1, 2]:\n",
    "    print(i)"
   ]
  },
  {
   "cell_type": "markdown",
   "id": "136c71c7",
   "metadata": {},
   "source": [
    "### <span style=\"color:#55628D\">8. Разбиение строки</span>"
   ]
  },
  {
   "cell_type": "code",
   "execution_count": null,
   "id": "4ab127e2",
   "metadata": {},
   "outputs": [],
   "source": [
    "\"\"\"\n",
    "Некоторая печаль случается, когда хочется прочитать строчку чисел.\n",
    "Например, такую: 1 2 3\n",
    "Штатно же вызов input() прочитает всю строку со всеми числами разом.\n",
    "\"\"\"\n",
    "\n",
    "# Можно сделать так\n",
    "\n",
    "# Прочитали строку на входе\n",
    "z = input()\n",
    "\n",
    "# split-нули её, используя пробел как разделитель, получили массив\n",
    "data = z.split(\" \")\n",
    "\n",
    "# Обошли массив, сделали что-то с его элементами\n",
    "# (Если нужно, скастовали их к нужным типам и т.д.)\n",
    "for a in data:\n",
    "    print(\"Распознано: \" + a)"
   ]
  },
  {
   "cell_type": "code",
   "execution_count": null,
   "id": "402ec490",
   "metadata": {},
   "outputs": [],
   "source": [
    "# Ну или не обошли, а просто обратились к нужным элементам:\n",
    "a = int(data[1])\n",
    "\n",
    "print(\"Второй элемент в ведённой строке: %d\" % a)"
   ]
  },
  {
   "cell_type": "markdown",
   "id": "10d2909a",
   "metadata": {},
   "source": [
    "### <span style=\"color:#55628D\">9. Функции</span>"
   ]
  },
  {
   "cell_type": "code",
   "execution_count": null,
   "id": "4a9c74aa",
   "metadata": {},
   "outputs": [],
   "source": [
    "# Это функция, принимает аргумент n, возврашает значение n!\n",
    "def fact(n):\n",
    "    res = 1\n",
    "    for i in range(1, n + 1):\n",
    "        res *= i\n",
    "    return res\n",
    "\n",
    "n = 5\n",
    "print(\"%d! = %d\" % (n, fact(n)))"
   ]
  },
  {
   "cell_type": "markdown",
   "id": "87fb624e",
   "metadata": {},
   "source": [
    "### <span style=\"color:#55628D\">10. Встроенные функции</span>\n",
    "\n",
    "Список функций: https://pythonworld.ru/osnovy/vstroennye-funkcii.html"
   ]
  },
  {
   "cell_type": "code",
   "execution_count": null,
   "id": "3fa44c2f",
   "metadata": {},
   "outputs": [],
   "source": [
    "# Были у нас переменные\n",
    "a = 1\n",
    "b = -1\n",
    "c = 0\n",
    "\n",
    "# Сделаем из них массив\n",
    "data = [a, b, c]\n",
    "\n",
    "# Поиспользуем немного встроенных функций\n",
    "print(\"Max: %d\" % max(data))\n",
    "print(\"Min: %d\" % min(data))\n",
    "\n",
    "print(\"Sorted data:\")\n",
    "print(sorted(data))\n",
    "\n",
    "print(\"Reverse sorted data:\")\n",
    "print(sorted(data, reverse=True))"
   ]
  },
  {
   "cell_type": "code",
   "execution_count": null,
   "id": "f2d5728c-bf96-4546-b387-b3111b0b58c1",
   "metadata": {},
   "outputs": [],
   "source": [
    "# Использование внутренней функции сортировки\n",
    "data.sort()\n",
    "print(data)"
   ]
  },
  {
   "cell_type": "markdown",
   "id": "642017b0",
   "metadata": {},
   "source": [
    "### <span style=\"color:#48B026\">Контест №2: Разность между числами</span>\n",
    "### <span style=\"color:#48B026\">Контест №3: Лифт и лестница</span>\n",
    "### <span style=\"color:#48B026\">Контест №4: Сортировка</span>"
   ]
  },
  {
   "cell_type": "markdown",
   "id": "0f1afc41",
   "metadata": {},
   "source": [
    "### <span style=\"color:#55628D\">11. Словари</span>"
   ]
  },
  {
   "cell_type": "code",
   "execution_count": 1,
   "id": "6103bf3c",
   "metadata": {},
   "outputs": [],
   "source": [
    "\"\"\"\n",
    "Для хранения составных данных есть приличное количество вариантов.\n",
    "Возьмём для старта и для примера dict. Это примерно как map в C++, хотя, конечно, не совсем.\n",
    "\"\"\"\n",
    "\n",
    "# Пусть у нас есть два человека. У каждого есть имя и возраст.\n",
    "user_a = {\n",
    "    'name': \"A\",\n",
    "    'age': 20\n",
    "}\n",
    "user_b = {\n",
    "    'name': \"UserB\",\n",
    "    'age': 17\n",
    "}\n",
    "user_c = {\n",
    "    'name': \"C\",\n",
    "    'age': 25\n",
    "}\n",
    "\n",
    "# Сделаем из них массив\n",
    "users = [user_a, user_b, user_c]"
   ]
  },
  {
   "cell_type": "code",
   "execution_count": 2,
   "id": "c2664c58",
   "metadata": {},
   "outputs": [
    {
     "name": "stdout",
     "output_type": "stream",
     "text": [
      "User UserB, age 17\n",
      "User A, age 20\n",
      "User C, age 25\n"
     ]
    }
   ],
   "source": [
    "# Обойдём людей, отсортировав их по возрасту\n",
    "# (sorted не меняет исходный массив users)\n",
    "for user in sorted(users, key = lambda u: u['age']):\n",
    "    print(\"User %s, age %d\" %(user['name'], user['age']))"
   ]
  },
  {
   "cell_type": "code",
   "execution_count": null,
   "id": "755cb78a",
   "metadata": {},
   "outputs": [],
   "source": [
    "# Отсортируем людей по имени, меняя исходный массив.\n",
    "# Потом обойдём отсортированное.\n",
    "users.sort(key = lambda u: u['name'])\n",
    "for user in users:\n",
    "    print(\"User %s, age %d\" % (user['name'], user['age']))"
   ]
  },
  {
   "cell_type": "code",
   "execution_count": null,
   "id": "24d71f98",
   "metadata": {},
   "outputs": [],
   "source": [
    "# Примечание относительно lambda-функций:\n",
    "func = lambda a: a + 1\n",
    "a = func(10)\n",
    "print(a)"
   ]
  },
  {
   "cell_type": "markdown",
   "id": "907f5bd3",
   "metadata": {},
   "source": [
    "### <span style=\"color:#55628D\">12. Сэты</span>"
   ]
  },
  {
   "cell_type": "code",
   "execution_count": null,
   "id": "ea563c88",
   "metadata": {},
   "outputs": [],
   "source": [
    "\"\"\"\n",
    "Множество, содержащее неповторяющиеся элементы\n",
    "\"\"\"\n",
    "\n",
    "a = set()\n",
    "a.add(1)\n",
    "a.add(2)\n",
    "a.add(1)\n",
    "a.add(1)\n",
    "\n",
    "print(a)"
   ]
  },
  {
   "cell_type": "code",
   "execution_count": null,
   "id": "14a087ce",
   "metadata": {},
   "outputs": [],
   "source": [
    "a = set([2, 1, 0, 1, 2])\n",
    "print(a)"
   ]
  },
  {
   "cell_type": "markdown",
   "id": "6ace7173",
   "metadata": {},
   "source": [
    "### <span style=\"color:#55628D\">13. Строки</span>"
   ]
  },
  {
   "cell_type": "code",
   "execution_count": null,
   "id": "769d1e9e",
   "metadata": {},
   "outputs": [],
   "source": [
    "# Строки - это массивы символов\n",
    "s = \"abcdf\"\n",
    "print(s, type(s))"
   ]
  },
  {
   "cell_type": "code",
   "execution_count": null,
   "id": "7c6699ce",
   "metadata": {},
   "outputs": [],
   "source": [
    "# Но отдельные символы - это тоже строки, просто длины 1\n",
    "s0 = s[0]\n",
    "print(s0, type(s0))"
   ]
  },
  {
   "cell_type": "code",
   "execution_count": null,
   "id": "1d5f8583",
   "metadata": {},
   "outputs": [],
   "source": [
    "# Если нужен аналог char-а, есть отдельные функции\n",
    "c = ord(s0)  #  Номер из таблицы символов Unicode \n",
    "print(c, type(c), chr(c))"
   ]
  },
  {
   "cell_type": "code",
   "execution_count": null,
   "id": "3eb8e5af",
   "metadata": {},
   "outputs": [],
   "source": [
    "# Для строк есть много полезных функций (здесь только малая часть)\n",
    "data = \"abc def gh\"\n",
    "print(\"String:\", data)\n",
    "print(\"Len:\", len(data))\n",
    "print(\"Upper:\", data.upper())\n",
    "print(\"Lower:\", data.lower())\n",
    "words = data.split(' ')\n",
    "print(words)"
   ]
  },
  {
   "cell_type": "code",
   "execution_count": null,
   "id": "3f7d4960",
   "metadata": {},
   "outputs": [],
   "source": [
    "# Тип кавычек не имеет значения\n",
    "print(\"Hello world\" == 'Hello world')"
   ]
  },
  {
   "cell_type": "markdown",
   "id": "8272d279",
   "metadata": {},
   "source": [
    "### <span style=\"color:#48B026\">Контест №5: Реккурентная сумма</span>"
   ]
  },
  {
   "cell_type": "markdown",
   "id": "8f5ec9cd",
   "metadata": {},
   "source": [
    "### <span style=\"color:#55628D\">14. Удобные способы вывода</span>"
   ]
  },
  {
   "cell_type": "code",
   "execution_count": null,
   "id": "d2437050",
   "metadata": {},
   "outputs": [],
   "source": [
    "# Данные\n",
    "name = \"Alice\"\n",
    "age = 18\n",
    "\n",
    "# Старый стиль\n",
    "print(\"%s is %d\" % (name, age))"
   ]
  },
  {
   "cell_type": "code",
   "execution_count": null,
   "id": "345f59d9",
   "metadata": {},
   "outputs": [],
   "source": [
    "# Новый стиль\n",
    "print(\"{n} is {a}\".format(n = name, a = age))"
   ]
  },
  {
   "cell_type": "code",
   "execution_count": null,
   "id": "48b9f4eb",
   "metadata": {},
   "outputs": [],
   "source": [
    "# Новейший стиль (f-strings, Python 3.6+)\n",
    "print(f'{name} is {age}')"
   ]
  },
  {
   "cell_type": "code",
   "execution_count": null,
   "id": "e2809630",
   "metadata": {},
   "outputs": [],
   "source": [
    "# Можно не только подстановку переменных, но и вычисление\n",
    "a = 2\n",
    "b = 3\n",
    "print(f'{a} + {b} = {a + b}')"
   ]
  },
  {
   "cell_type": "markdown",
   "id": "52cc9958",
   "metadata": {},
   "source": [
    "### <span style=\"color:#55628D\">15. Распределение памяти (подробнее - в примечании №2)</span>"
   ]
  },
  {
   "cell_type": "code",
   "execution_count": null,
   "id": "23604332",
   "metadata": {},
   "outputs": [],
   "source": [
    "\"\"\"\n",
    "В C++ было много нюансов с передачей параметров в функции.\n",
    "Можно было передавать по значению, по указателю, по ссылке. И ещё были const-ы.\n",
    "Как это устроено в Python-е? Несколько иначе.\n",
    "Бывают неизменяемые типы данных (immutable) и изменяемые (mutable).\n",
    "Всё immutable передаётся по значению. Всё mutable - по ссылке.\n",
    "\"\"\"\n",
    "\n",
    "def change_list(l):\n",
    "    l.append(42)\n",
    "    l[0] = -1\n",
    "\n",
    "my_list = [1, 2, 3]\n",
    "print(my_list)\n",
    "\n",
    "change_list(my_list)\n",
    "print(my_list)"
   ]
  },
  {
   "cell_type": "code",
   "execution_count": null,
   "id": "1ef126d5",
   "metadata": {},
   "outputs": [],
   "source": [
    "def change_string(s):\n",
    "    s = s + \" test\"\n",
    "    print(\"Inside function: %s\" % s)\n",
    "\n",
    "my_string = \"string\"\n",
    "print(my_string)\n",
    "\n",
    "change_string(my_string)\n",
    "print(my_string)"
   ]
  },
  {
   "cell_type": "markdown",
   "id": "82fc3aac",
   "metadata": {},
   "source": [
    "### <span style=\"color:#48B026\">Контест №6: Фасад</span>"
   ]
  },
  {
   "cell_type": "markdown",
   "id": "36b44d83",
   "metadata": {},
   "source": [
    "---\n",
    "\n",
    "### <span style=\"color:#0ab49a\">Примечание №1.</span> <span style=\"color:#BA77D8\">Интегрированная среда разработки для Python.</span> \n",
    "\n",
    "\n",
    "<img src=\"img/cmd.webp\" alt=\"\" style=\"width: 150px;\"/>\n",
    "\n",
    "##### 0. Командная строка\n",
    "\n",
    "- Можно редактировать в обычном блокноте! (кодировка utf-8)\n",
    "- Встроен в официальный сайт: https://www.python.org/\n",
    "\n",
    "\n",
    "<img src=\"img/PyCharm.png\" alt=\"\" style=\"width: 150px;\"/>\n",
    "\n",
    "##### 1. PyCharm Community Edition — удобное приложение для проектов.\n",
    "\n",
    "- Похож на CLion <br><br>\n",
    "- Удобное использование Git и загрузка на GitHub.\n",
    "- Широкий рефакторинг\n",
    "- Библиотеки мониторятся, устанавливаются и обновляются с помощью удобного внутреннего интерфейса.\n",
    "\n",
    "\n",
    "<img src=\"img/VSCode.png\" alt=\"\" style=\"width: 150px;\"/>\n",
    "\n",
    "##### 2. VS Code — универсальное приложение.\n",
    "\n",
    "- Весит меньше, чем PyCharm\n",
    "- Интеграция Git\n",
    "- Работа с библиотеками через внутреннее окно терминала\n",
    "\n",
    "\n",
    "<img src=\"img/Jupyter.png\" alt=\"\" style=\"width: 150px;\"/>\n",
    "\n",
    "##### 3. Jupyter Notebook — удобное приложение для \"быстрого инструмента\".\n",
    "\n",
    "- Работа с файлами .ipynb: держит в оперативной памяти объекты, инициализированные запущенными ячейками. Эти объекты могут использовать и другие ячейки (и сверху, и снизу!).\n",
    "- Магические команды для особо интересующихся: https://pythonpip.ru/osnovy/osnovnye-magicheskie-komandy-v-python-s-primerami\n",
    "- Для вызова консольных комманд используется восклицательный знак \"!\":"
   ]
  },
  {
   "cell_type": "code",
   "execution_count": null,
   "id": "94afb8d9",
   "metadata": {},
   "outputs": [],
   "source": [
    "# pip - обращение к установщику Python\n",
    "# install - команда \"установить\"\n",
    "# math - название библиотеки\n",
    "!pip install math"
   ]
  },
  {
   "cell_type": "markdown",
   "id": "c516390c",
   "metadata": {},
   "source": [
    "---\n",
    "\n",
    "### <span style=\"color:#0ab49a\">Примечание №2.</span> <span style=\"color:#BA77D8\">Распределение памяти</span> \n",
    "\n",
    "- Нет вторичного использования переменных (не надо экономить память на мелочах)\n",
    "- Переменные - имена ячейки памяти:"
   ]
  },
  {
   "cell_type": "code",
   "execution_count": null,
   "id": "5ff3a00d",
   "metadata": {},
   "outputs": [],
   "source": [
    "def compare_objects(a, b, text):\n",
    "    print(text + \" содержат одинаковое значение: \" + str(a == b))\n",
    "    print(text + \" указывают на 1 ячейку памяти: \" + str(a is b))\n",
    "\n",
    "    print(\"Адреса памяти обектов: \" + str(id(a)) + \", \" + str(id(b)))\n",
    "\n",
    "\n",
    "x = 5\n",
    "y = x\n",
    "compare_objects(x, y, \"Переменные x, y\")"
   ]
  },
  {
   "cell_type": "code",
   "execution_count": null,
   "id": "c0075d00",
   "metadata": {},
   "outputs": [],
   "source": [
    "с = 5\n",
    "d = 5\n",
    "compare_objects(c, d, \"Переменные c, d\")"
   ]
  },
  {
   "cell_type": "code",
   "execution_count": null,
   "id": "c55087f7-300e-45b4-945c-3baa525b1875",
   "metadata": {},
   "outputs": [],
   "source": [
    "с = 500\n",
    "d = 500\n",
    "compare_objects(c, d, \"Переменные c, d\")"
   ]
  },
  {
   "cell_type": "code",
   "execution_count": null,
   "id": "9b017336",
   "metadata": {},
   "outputs": [],
   "source": [
    "list1 = [1, 2]\n",
    "list2 = [1, 2]\n",
    "compare_objects(list1, list2, \"Массивы list1, list2\")"
   ]
  },
  {
   "cell_type": "markdown",
   "id": "6da693ea",
   "metadata": {},
   "source": [
    "| Тип | Неизменяемый? |\n",
    "|-----|---------------|\n",
    "|int | Да |\n",
    "|float | Да |\n",
    "|bool | Да |\n",
    "|complex | Да |\n",
    "|tuple | Да |\n",
    "|frozenset | Да |\n",
    "|str | Да |\n",
    "|list | Нет |\n",
    "|set | Нет |\n",
    "|dict | Нет |"
   ]
  },
  {
   "cell_type": "markdown",
   "id": "7af8b44b",
   "metadata": {},
   "source": [
    "Сколько переменные занимают места в оперативной памяти?"
   ]
  },
  {
   "cell_type": "code",
   "execution_count": null,
   "id": "559867be",
   "metadata": {},
   "outputs": [],
   "source": [
    "import sys\n",
    "\n",
    "print(\"Байт (пустой инт):\", sys.getsizeof(int()))\n",
    "\n",
    "a = 1\n",
    "print(\"Число:\", a)\n",
    "print(\"Байт:\", sys.getsizeof(a))\n",
    "\n",
    "b = 2**1000\n",
    "print(\"Число:\", b)\n",
    "print(\"Байт:\", sys.getsizeof(b))"
   ]
  },
  {
   "cell_type": "markdown",
   "id": "c377eb4b",
   "metadata": {},
   "source": [
    "---\n",
    "\n",
    "### <span style=\"color:#0ab49a\">Примечание №3.</span> <span style=\"color:#BA77D8\">Стиль программирования</span> \n",
    "\n",
    "Руководство стиля PEP8:\n",
    "- https://pythonworld.ru/osnovy/pep-8-rukovodstvo-po-napisaniyu-koda-na-python.html\n",
    "- https://www.youtube.com/watch?v=hgI0p1zf31k&ab_channel=PythonDiscord\n",
    "\n",
    "Дзен Python:"
   ]
  },
  {
   "cell_type": "code",
   "execution_count": null,
   "id": "d744079d",
   "metadata": {},
   "outputs": [],
   "source": [
    "import this"
   ]
  }
 ],
 "metadata": {
  "kernelspec": {
   "display_name": "Python 3 (ipykernel)",
   "language": "python",
   "name": "python3"
  },
  "language_info": {
   "codemirror_mode": {
    "name": "ipython",
    "version": 3
   },
   "file_extension": ".py",
   "mimetype": "text/x-python",
   "name": "python",
   "nbconvert_exporter": "python",
   "pygments_lexer": "ipython3",
   "version": "3.10.12"
  }
 },
 "nbformat": 4,
 "nbformat_minor": 5
}
