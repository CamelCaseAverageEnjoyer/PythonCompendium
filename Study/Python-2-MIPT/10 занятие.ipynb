{
 "cells": [
  {
   "cell_type": "markdown",
   "id": "415edbc2",
   "metadata": {},
   "source": [
    "### <span style=\"color:#0ab49a\">Занятие №10:</span> <span style=\"color:#BA77D8\">Scipy, Sympy</span> \n",
    "\n",
    "![Текст картинки если файл картинки не найден](img/banner.png)"
   ]
  },
  {
   "cell_type": "markdown",
   "id": "b82ff661",
   "metadata": {},
   "source": [
    "### <span style=\"color:#55628D\">1. Линейная алгебра в Numpy</span>"
   ]
  },
  {
   "cell_type": "code",
   "execution_count": null,
   "id": "9dfe7c0b",
   "metadata": {},
   "outputs": [],
   "source": [
    "import numpy as np\n",
    "\n",
    "a = np.array([[6, 1, 1],\n",
    "              [4, -2, 5],\n",
    "              [2, 8, 7]], dtype=np.float64)\n",
    "\n",
    "print(\"A:\")\n",
    "print(a)\n",
    "b = np.linalg.inv(a)\n",
    "print(\"A^-1:\")\n",
    "print(b)\n",
    "print(\"A * A^-1:\")\n",
    "print(a @ b)\n",
    "\n",
    "eigvals, eigvecs = np.linalg.eig(a)\n",
    "for i, eigval in enumerate(eigvals):\n",
    "    print(\"================\")\n",
    "    print(\"eigval:\", eigval)\n",
    "    print(\"eigvec:\", eigvecs[:,i])\n",
    "    print(\"delta:\", a.dot(eigvecs[:, i]) - eigval * eigvecs[:, i])"
   ]
  },
  {
   "cell_type": "markdown",
   "id": "2deb6993",
   "metadata": {},
   "source": [
    "### <span style=\"color:#55628D\">2. Линейная алгебра в Scipy</span>"
   ]
  },
  {
   "cell_type": "code",
   "execution_count": null,
   "id": "5a8e4ff2",
   "metadata": {},
   "outputs": [],
   "source": [
    "import numpy as np\n",
    "from scipy import linalg\n",
    "\n",
    "a = np.array([[6, 1, 1],\n",
    "              [4, -2, 5],\n",
    "              [2, 8, 7]], dtype=np.float64)\n",
    "\n",
    "print(\"A:\")\n",
    "print(a)\n",
    "b = linalg.inv(a)\n",
    "print(\"A^-1:\")\n",
    "print(b)\n",
    "print(\"A * A^-1:\")\n",
    "print(a @ b)\n",
    "\n",
    "eigvals, eigvecs = linalg.eig(a)\n",
    "for i, eigval in enumerate(eigvals):\n",
    "    print(\"================\")\n",
    "    print(\"eigval:\", eigval)\n",
    "    print(\"eigvec:\", eigvecs[:,i])\n",
    "    print(\"delta:\", a.dot(eigvecs[:, i]) - eigval * eigvecs[:, i])"
   ]
  },
  {
   "cell_type": "markdown",
   "id": "31e03940",
   "metadata": {},
   "source": [
    "### <span style=\"color:#55628D\">3. Численное решение уравнений Scipy</span>"
   ]
  },
  {
   "cell_type": "code",
   "execution_count": null,
   "id": "8e64e7cd",
   "metadata": {},
   "outputs": [],
   "source": [
    "import numpy as np\n",
    "from scipy import linalg\n",
    "\n",
    "a = np.array([[3, 2, 0],\n",
    "              [1, -1, 0],\n",
    "              [0, 5, 1]])\n",
    "\n",
    "b = np.array([2, 4, -1])\n",
    "\n",
    "x = linalg.solve(a, b)\n",
    "\n",
    "print(x)\n",
    "print(a @ x - b)"
   ]
  },
  {
   "cell_type": "markdown",
   "id": "1c5f5d01",
   "metadata": {},
   "source": [
    "### <span style=\"color:#55628D\">4. Преобразование Фурье</span>"
   ]
  },
  {
   "cell_type": "code",
   "execution_count": null,
   "id": "517b255b",
   "metadata": {},
   "outputs": [],
   "source": [
    "import numpy as np\n",
    "import matplotlib.pyplot as plt\n",
    "from scipy import fft\n",
    "\n",
    "T = 1.0 / 800.0\n",
    "N = 600\n",
    "\n",
    "x = np.linspace(0.0, N * T, N)\n",
    "\n",
    "# Простая функция\n",
    "y = np.sin(1 * 2.0 * np.pi * x)\n",
    "\n",
    "# Сложная функция плюс шум\n",
    "# rng = np.random.default_rng()\n",
    "# y_noise = rng.normal(size = x.size)\n",
    "# y = np.sin(50.0 * 2.0 * np.pi * x) + 0.5 * np.sin(80.0 * 2.0 * np.pi * x) + y_noise\n",
    "\n",
    "# Посмотрим на саму функцию\n",
    "plt.plot(x, y)\n",
    "plt.show()\n",
    "\n",
    "# Получим Фурье и посмотрим спектр\n",
    "yf = fft(y)\n",
    "xf = np.linspace(0.0, 1.0/(2.0*T), N//2)\n",
    "plt.plot(xf, 2.0/N * np.abs(yf[0:N//2]))\n",
    "plt.show()"
   ]
  },
  {
   "cell_type": "markdown",
   "id": "48169482",
   "metadata": {},
   "source": [
    "### <span style=\"color:#55628D\">5. Интерполяция</span>"
   ]
  },
  {
   "cell_type": "code",
   "execution_count": null,
   "id": "a8377753",
   "metadata": {},
   "outputs": [],
   "source": [
    "import numpy as np\n",
    "import matplotlib.pyplot as plt\n",
    "from scipy.optimize import curve_fit\n",
    "\n",
    "\n",
    "# Функция, которой описываются наши данные\n",
    "def func(x, a, b, c):\n",
    "    return a * np.exp(-b * x) + c\n",
    "\n",
    "\n",
    "# Настоящие значения параметров\n",
    "real_params = [2.5, 1.3, 0.5]\n",
    "# Набор точек\n",
    "xdata = np.linspace(0, 4, 50)\n",
    "y = func(xdata, *real_params)\n",
    "\n",
    "# Шум по оси OY в наших точках\n",
    "rng = np.random.default_rng()\n",
    "y_noise = 0.2 * rng.normal(size = xdata.size)\n",
    "ydata = y + y_noise\n",
    "\n",
    "# Посмотрим на вид функции с шумом\n",
    "plt.plot(xdata, ydata, 'b-', label='data + noise: a=%5.3f, b=%5.3f, c=%5.3f' % tuple(real_params))\n",
    "\n",
    "# Попросим определить параметры функции по точкам\n",
    "params1, _ = curve_fit(func, xdata, ydata)\n",
    "# Напечатаем и нарисуем результат\n",
    "print(params1)\n",
    "plt.plot(xdata, func(xdata, *params1), 'r-', label='unconstrained fit: a=%5.3f, b=%5.3f, c=%5.3f' % tuple(params1))\n",
    "\n",
    "# Попросим определить параметры функции по точкам, добавив ограничений на диапазоны значений\n",
    "params2, _ = curve_fit(func, xdata, ydata, bounds=(0, [3., 1., 0.5]))\n",
    "# Напечатаем и нарисуем этот результат тоже\n",
    "print(params2)\n",
    "plt.plot(xdata, func(xdata, *params2), 'g--', label='constrained fit: a=%5.3f, b=%5.3f, c=%5.3f' % tuple(params2))\n",
    "\n",
    "plt.legend()\n",
    "plt.show()"
   ]
  },
  {
   "cell_type": "markdown",
   "id": "9eaac85c",
   "metadata": {},
   "source": [
    "### <span style=\"color:#55628D\">6. Знакомство с Sympy</span>"
   ]
  },
  {
   "cell_type": "code",
   "execution_count": null,
   "id": "2921cac5",
   "metadata": {},
   "outputs": [],
   "source": [
    "from sympy import symbols\n",
    "\n",
    "x, y = symbols('x y')\n",
    "\n",
    "a = x + y + x\n",
    "print(a)\n",
    "\n",
    "a -= x\n",
    "print(a)\n",
    "\n",
    "a += (5*y + 12)\n",
    "print(a)"
   ]
  },
  {
   "cell_type": "markdown",
   "id": "0c8fd72f",
   "metadata": {},
   "source": [
    "### <span style=\"color:#55628D\">7. Подстановка значений</span>"
   ]
  },
  {
   "cell_type": "code",
   "execution_count": 3,
   "id": "a4cf17e2",
   "metadata": {},
   "outputs": [
    {
     "name": "stdout",
     "output_type": "stream",
     "text": [
      "<class 'sympy.core.numbers.Integer'>\n"
     ]
    },
    {
     "data": {
      "text/latex": [
       "$\\displaystyle 15$"
      ],
      "text/plain": [
       "15"
      ]
     },
     "execution_count": 3,
     "metadata": {},
     "output_type": "execute_result"
    }
   ],
   "source": [
    "from sympy import symbols\n",
    "\n",
    "x = symbols('x')\n",
    "\n",
    "f = x**2 + 5*x + 1\n",
    "anw = f.subs(x, 2)\n",
    "\n",
    "print(type(anw))\n",
    "anw"
   ]
  },
  {
   "cell_type": "code",
   "execution_count": 1,
   "id": "dd061513",
   "metadata": {},
   "outputs": [
    {
     "name": "stdout",
     "output_type": "stream",
     "text": [
      "x**2 + 5*x + 1\n",
      "15.0000000000000\n",
      "3.00000000000000\n"
     ]
    }
   ],
   "source": [
    "from sympy import symbols\n",
    "\n",
    "x = symbols('x')\n",
    "\n",
    "f = x**2 + 5*x + 1\n",
    "print(f)\n",
    "print(f.evalf(subs={x: 2}))\n",
    "\n",
    "print((x + x + x).evalf(subs={x : 1}))"
   ]
  },
  {
   "cell_type": "markdown",
   "id": "bbea36f9",
   "metadata": {},
   "source": [
    "### <span style=\"color:#55628D\">8. Символьное решение уравнений</span>"
   ]
  },
  {
   "cell_type": "code",
   "execution_count": null,
   "id": "82bd79b1",
   "metadata": {},
   "outputs": [],
   "source": [
    "from sympy import symbols, Eq, solve\n",
    "\n",
    "x = symbols('x')\n",
    "\n",
    "f = x**2 + 5 * x + 1\n",
    "e = Eq(f, 1)\n",
    "print(e)\n",
    "\n",
    "result = solve(e)\n",
    "for i, root in enumerate(result):\n",
    "    print(f'Root {i}: {root}')"
   ]
  },
  {
   "cell_type": "code",
   "execution_count": null,
   "id": "396e5b98",
   "metadata": {},
   "outputs": [],
   "source": [
    "from sympy import symbols, Eq, solve\n",
    "\n",
    "x = symbols('x')\n",
    "\n",
    "a = symbols('a')\n",
    "f2 = x**2 + a * a * x\n",
    "e2 = Eq(f2, 0)\n",
    "print(e2)\n",
    "\n",
    "result2_1 = solve(e2)\n",
    "for i, root in enumerate(result2_1):\n",
    "    print(f'Root {i}: {root}')\n",
    "\n",
    "print(\"==================\")\n",
    "a0 = 11\n",
    "result2_2 = solve(e2, x)\n",
    "for i, root in enumerate(result2_2):\n",
    "    print(f'Root {i}: {root}')\n",
    "    print(f'Root {i} computed for a = {a0}: {root.subs({a: a0})}')"
   ]
  },
  {
   "cell_type": "markdown",
   "id": "b8f36b41",
   "metadata": {},
   "source": [
    "### <span style=\"color:#0ab49a\">Примечание №1.</span> <span style=\"color:#BA77D8\">Scipy.Optimize.Minimize</span> \n"
   ]
  },
  {
   "cell_type": "code",
   "execution_count": null,
   "id": "fcb275cb",
   "metadata": {},
   "outputs": [],
   "source": []
  }
 ],
 "metadata": {
  "kernelspec": {
   "display_name": "Python 3 (ipykernel)",
   "language": "python",
   "name": "python3"
  },
  "language_info": {
   "codemirror_mode": {
    "name": "ipython",
    "version": 3
   },
   "file_extension": ".py",
   "mimetype": "text/x-python",
   "name": "python",
   "nbconvert_exporter": "python",
   "pygments_lexer": "ipython3",
   "version": "3.10.12"
  }
 },
 "nbformat": 4,
 "nbformat_minor": 5
}
