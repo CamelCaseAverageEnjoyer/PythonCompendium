{
 "cells": [
  {
   "cell_type": "markdown",
   "id": "415edbc2",
   "metadata": {},
   "source": [
    "### Занятие №11: Немного чистой архитектуры. Тестирование."
   ]
  },
  {
   "cell_type": "markdown",
   "id": "b82ff661",
   "metadata": {},
   "source": [
    "##### <span style=\"color:#0ab49a\">Задача:</span> смоделировать функции, вычисляющие RSSI с одной полуволновой антенны на другую \n",
    "- Формула передачи Фрииса: $$\\frac{P_r}{P_t}=G_t G_r \\left( \\frac{\\lambda}{4\\pi R} \\right)^2$$\n",
    "- Коэффициент усиления полуволнового диполя: *(Silver S. Microwave Antenna Theory and Design // McGraw Hill Book Company. 1984. pp. 98–99.)* $$G=\\frac{\\cos\\left(\\frac{\\pi}{2}\\cos\\theta\\right)}{\\sin\\theta}$$"
   ]
  },
  {
   "cell_type": "markdown",
   "id": "4ae37a8a-ea76-43dc-a4b2-54951f734b71",
   "metadata": {},
   "source": [
    "##### SOLID\n",
    "1. <u>Принцип единственной ответственности</u><br>\n",
    "        У каждого класса только 1 ответственность; у него нет других обязанностей\n",
    "2. <u>Принцип открытости/закрытости</u><br>\n",
    "        Сущности (классы, модули, функции) октрыты для расширения, но закрыты для изменений\n",
    "3. <u>Принцип подстановки Лисков</u><br>\n",
    "        Функции, которые используют базовый тип, должны иметь возможность использовать подтипы базового типа, не зная об этом.\n",
    "4. <u>Принцип разделения интерфейса</u><br>\n",
    "        Ни один клиент не должен зависеть от методов, которые он не использует\n",
    "5. <u>Принцип инверсии зависимостей</u><br>\n",
    "        Абстракции не должны зависеть от деталей. Детали должны зависеть от абстракций."
   ]
  },
  {
   "cell_type": "markdown",
   "id": "abddbaaf",
   "metadata": {},
   "source": [
    "##### Структура кода\n",
    "\n",
    "1. "
   ]
  },
  {
   "cell_type": "markdown",
   "id": "597469e3",
   "metadata": {},
   "source": []
  },
  {
   "cell_type": "code",
   "execution_count": null,
   "id": "2b5181b0",
   "metadata": {},
   "outputs": [],
   "source": []
  },
  {
   "cell_type": "markdown",
   "id": "f88cc205",
   "metadata": {},
   "source": []
  },
  {
   "cell_type": "code",
   "execution_count": null,
   "id": "1e1bcf9a",
   "metadata": {},
   "outputs": [],
   "source": []
  },
  {
   "cell_type": "markdown",
   "id": "f794b569",
   "metadata": {
    "jp-MarkdownHeadingCollapsed": true
   },
   "source": [
    "##### Отображение"
   ]
  },
  {
   "cell_type": "code",
   "execution_count": null,
   "id": "7bd0adc0",
   "metadata": {},
   "outputs": [],
   "source": [
    "import matplotlib.pyplot as plt\n",
    "import numpy as np\n",
    "\n",
    "def plot_model_gain(get_RSSI, d: Device, n: int = 20):\n",
    "    fig = plt.figure(figsize=(15, 10))\n",
    "    ax = fig.add_subplot(1, 1, 1, projection='3d')\n",
    "\n",
    "    u = np.linspace(0, 2 * np.pi, n)\n",
    "    v = np.linspace(-np.pi / 2, np.pi / 2, n)\n",
    "    U, V = np.meshgrid(u, v)\n",
    "\n",
    "    g = np.array([[get_gain(...) for ii in range(n)] for jj in range(n)])\n",
    "    \n",
    "    X, Y, Z = pol2dec(g, U, V)\n",
    "    ax.plot_surface(X, Y, Z)\n",
    "    ax.set_box_aspect([1, 1, 1])\n",
    "    ax.set_title(\"Принятый сигнал\")\n",
    "    plt.show()\n",
    "    \n",
    "plot_model_gain(get_RSSI, d)"
   ]
  },
  {
   "cell_type": "markdown",
   "id": "27f4987b",
   "metadata": {
    "jp-MarkdownHeadingCollapsed": true
   },
   "source": [
    "##### Тестирование (unittest / pytest)"
   ]
  },
  {
   "cell_type": "markdown",
   "id": "a61af733-1995-4fb5-981f-ec33ae91ec85",
   "metadata": {},
   "source": [
    "**Пример:**\n",
    "\n",
    "```Python\n",
    "import pytest\n",
    "\n",
    "def setup_module(module):\n",
    "    #init_something()\n",
    "    pass\n",
    "\n",
    "def teardown_module(module):\n",
    "    # teardown_something()\n",
    "    pass\n",
    "\n",
    "def test_upper():\n",
    "    assert 'foo'.upper() == 'FOO'\n",
    "    \n",
    "def test_isupper():\n",
    "    assert 'FOO'.isupper()\n",
    "    \n",
    "def test_failed_upper():\n",
    "    assert 'foo'.upper() == 'FOo'\n",
    "    \n",
    "if __name__ == '__main__':\n",
    "    test_upper()\n",
    "```"
   ]
  },
  {
   "cell_type": "code",
   "execution_count": null,
   "id": "1c5d5d14",
   "metadata": {},
   "outputs": [],
   "source": []
  },
  {
   "cell_type": "code",
   "execution_count": null,
   "id": "34cfc2e3",
   "metadata": {},
   "outputs": [],
   "source": []
  },
  {
   "cell_type": "markdown",
   "id": "598d937d",
   "metadata": {
    "jp-MarkdownHeadingCollapsed": true
   },
   "source": [
    "##### Вопрос"
   ]
  },
  {
   "cell_type": "markdown",
   "id": "2c1766b5-2348-4420-a232-cd9aa971a92a",
   "metadata": {},
   "source": [
    "Что надо изменить, чтобы помимо мощности принимаемого сигнала измерять ещё и фазу?"
   ]
  },
  {
   "cell_type": "markdown",
   "id": "788a0932-8369-46c7-9179-56fcafafb63a",
   "metadata": {
    "jp-MarkdownHeadingCollapsed": true
   },
   "source": [
    "##### <span style=\"color:#0ab49a\">Примечание:</span> Кватернионы в ПО"
   ]
  },
  {
   "cell_type": "markdown",
   "id": "0cd806d9-bb91-409d-a8b0-8879802f26c0",
   "metadata": {},
   "source": [
    "**Инициализация**"
   ]
  },
  {
   "cell_type": "code",
   "execution_count": null,
   "id": "b9b2b7cf-8f76-436e-9f69-f6b5da5f8afd",
   "metadata": {},
   "outputs": [],
   "source": [
    "import numpy as np\n",
    "import quaternion\n",
    "\n",
    "for q in [np.quaternion(1, 0, 0, 0),\n",
    "          np.quaternion(1, 2, 3, 4),\n",
    "          np.quaternion(5, 0, 0),\n",
    "          np.quaternion(5),\n",
    "          np.quaternion()]:\n",
    "    print(f\"q = {q}\")\n",
    "\n",
    "q = np.quaternion(1, 2, 3, 4)"
   ]
  },
  {
   "cell_type": "code",
   "execution_count": null,
   "id": "cb22a35e-d673-4238-b009-9732b7859fe3",
   "metadata": {},
   "outputs": [],
   "source": [
    "a = np.array([0, 0, 1])\n",
    "\n",
    "q1 = quaternion.from_vector_part(a)\n",
    "q2 = quaternion.from_euler_angles(a)\n",
    "\n",
    "print(f\"Кватернион из вектора: {q1}\")\n",
    "print(f\"Кватернион из углов Эйлера: {q2}\")"
   ]
  },
  {
   "cell_type": "markdown",
   "id": "adce827b-095d-4b49-b8a2-cc83c3753718",
   "metadata": {},
   "source": [
    "**Преобразования типов**"
   ]
  },
  {
   "cell_type": "code",
   "execution_count": null,
   "id": "178a0ce9-e28a-42ec-989c-d5f1bf5f41fb",
   "metadata": {},
   "outputs": [],
   "source": [
    "a = quaternion.as_float_array(q)\n",
    "b = quaternion.np.array(q)\n",
    "c = quaternion.np.asarray(q)\n",
    "d = q.components\n",
    "\n",
    "print(f\"Как numpy-массив: {a}\")\n",
    "print(type(a))\n",
    "print(f\"Как numpy-массив: {b}\")\n",
    "print(type(b))\n",
    "print(f\"Как numpy-массив: {c}\")\n",
    "print(type(c))\n",
    "print(f\"Как numpy-массив: {d}\")\n",
    "print(type(d))"
   ]
  },
  {
   "cell_type": "code",
   "execution_count": null,
   "id": "bc2693fd-56c0-4f70-928b-9f9f57709783",
   "metadata": {},
   "outputs": [],
   "source": [
    "a = np.array([0, 0, 0.5])\n",
    "\n",
    "q1 = quaternion.from_vector_part(a)\n",
    "q2 = quaternion.from_euler_angles(a)\n",
    "\n",
    "q3 = np.quaternion(np.sqrt(1 - np.linalg.norm(a)**2), *a)\n",
    "\n",
    "print(f\"Кватернион из вектора: {q1}\")\n",
    "print(f\"Кватернион единичный из вектора: {q3}\")\n",
    "print(f\"Кватернион из углов Эйлера: {q2}\")"
   ]
  },
  {
   "cell_type": "markdown",
   "id": "779b144e-7aa1-4305-9b36-6b580a566dcc",
   "metadata": {},
   "source": [
    "**Преобразовани математические**"
   ]
  },
  {
   "cell_type": "code",
   "execution_count": null,
   "id": "8267f4ac-b5ce-49ae-8cf7-42f9dffd86d0",
   "metadata": {},
   "outputs": [],
   "source": [
    "a = q.real\n",
    "b = q.vec\n",
    "w = q.w\n",
    "x = q.x\n",
    "y = q.y\n",
    "z = q.z\n",
    "\n",
    "print(f\"Скалярная часть: {a}\")\n",
    "print(type(a))\n",
    "print(f\"Векторная часть: {b}\")\n",
    "print(type(b))\n",
    "print(f\"Составлющие: {w} {x} {y} {z}\")\n",
    "print(type(w), type(x), type(y), type(z))"
   ]
  },
  {
   "cell_type": "code",
   "execution_count": null,
   "id": "c02d1391-4039-4296-886e-8020fb267752",
   "metadata": {},
   "outputs": [],
   "source": [
    "a = quaternion.np.normalized(q)\n",
    "\n",
    "print(f\"Нормированный кватернион: {a}\")\n",
    "print(type(a))"
   ]
  },
  {
   "cell_type": "code",
   "execution_count": null,
   "id": "805f6e60-1d6b-4a09-a4ac-1f5b335de51f",
   "metadata": {},
   "outputs": [],
   "source": [
    "a = quaternion.np.abs(q)\n",
    "b = quaternion.np.absolute(q)\n",
    "d = q.abs()\n",
    "\n",
    "c = quaternion.np.norm(q)\n",
    "\n",
    "print(f\"Модуль: {a} | {b} | {d}\")\n",
    "print(type(a), type(b), type(d), '\\n')\n",
    "\n",
    "print(f\"Норма: {c} (√c = {np.sqrt(c)})\")\n",
    "print(type(c))"
   ]
  },
  {
   "cell_type": "code",
   "execution_count": null,
   "id": "16b363b5-c16f-4950-8216-974a166c066d",
   "metadata": {},
   "outputs": [],
   "source": [
    "a = quaternion.np.angle_of_rotor(q)\n",
    "b = q.angle()\n",
    "\n",
    "print(f\"Угол поворота: {a} | {b}\")\n",
    "print(type(a), type(b))"
   ]
  },
  {
   "cell_type": "code",
   "execution_count": null,
   "id": "1e2b537d-ebb7-416c-958e-a8520e061c01",
   "metadata": {},
   "outputs": [],
   "source": [
    "a = q.conj()\n",
    "b = q.conjugate()\n",
    "\n",
    "с = q.inverse()\n",
    "d = q.reciprocal()\n",
    "\n",
    "print(f\"Сопряженный: {a} | {b}\")\n",
    "print(type(a), type(b), '\\n')\n",
    "\n",
    "print(f\"Обратный: {с} | {d}\")\n",
    "print(type(с), type(d))"
   ]
  },
  {
   "cell_type": "code",
   "execution_count": null,
   "id": "0ddb61b1-5e41-4b86-b1da-ebae016cb519",
   "metadata": {},
   "outputs": [],
   "source": [
    "A = quaternion.as_rotation_matrix(q)\n",
    "B = quaternion.as_rotation_matrix(q.normalized())\n",
    "\n",
    "print(f\"Матрица поворота из кватерниона A: \\n{A}\")\n",
    "print(f\"Матрица поворота из кватерниона B: \\n{B}\")"
   ]
  }
 ],
 "metadata": {
  "kernelspec": {
   "display_name": "Python 3 (ipykernel)",
   "language": "python",
   "name": "python3"
  },
  "language_info": {
   "codemirror_mode": {
    "name": "ipython",
    "version": 3
   },
   "file_extension": ".py",
   "mimetype": "text/x-python",
   "name": "python",
   "nbconvert_exporter": "python",
   "pygments_lexer": "ipython3",
   "version": "3.10.12"
  }
 },
 "nbformat": 4,
 "nbformat_minor": 5
}
