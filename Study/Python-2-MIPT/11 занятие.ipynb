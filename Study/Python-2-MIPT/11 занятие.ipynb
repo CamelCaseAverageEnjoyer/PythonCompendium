{
 "cells": [
  {
   "cell_type": "markdown",
   "id": "4a862e10",
   "metadata": {},
   "source": [
    "### <span style=\"color:#0ab49a\">Занятие №11:</span> <span style=\"color:#BA77D8\">Cyton</span> \n",
    "\n",
    "![](img/banner.png)"
   ]
  },
  {
   "cell_type": "markdown",
   "id": "321181d7",
   "metadata": {},
   "source": [
    "### <span style=\"color:#55628D\">1. </span>"
   ]
  },
  {
   "cell_type": "code",
   "execution_count": null,
   "id": "b05e24da",
   "metadata": {},
   "outputs": [],
   "source": []
  }
 ],
 "metadata": {
  "kernelspec": {
   "display_name": "Python 3 (ipykernel)",
   "language": "python",
   "name": "python3"
  },
  "language_info": {
   "codemirror_mode": {
    "name": "ipython",
    "version": 3
   },
   "file_extension": ".py",
   "mimetype": "text/x-python",
   "name": "python",
   "nbconvert_exporter": "python",
   "pygments_lexer": "ipython3",
   "version": "3.10.12"
  }
 },
 "nbformat": 4,
 "nbformat_minor": 5
}
