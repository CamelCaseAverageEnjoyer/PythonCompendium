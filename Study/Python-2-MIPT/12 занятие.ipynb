{
 "cells": [
  {
   "cell_type": "markdown",
   "id": "415edbc2",
   "metadata": {},
   "source": [
    "### Занятие №12: Полиморфизм внутри и вне здравого смысла."
   ]
  },
  {
   "cell_type": "markdown",
   "id": "b82ff661",
   "metadata": {},
   "source": [
    "##### Задача: смоделировать функции, возвращающие импульс и момент импульса в симольном вычислении или numpy-массиве \n",
    "- Импульс: $$\\vec{p} = m \\vec{v}$$\n",
    "- Момент импульса: $$\\vec{M} = $$"
   ]
  },
  {
   "cell_type": "markdown",
   "id": "abddbaaf",
   "metadata": {},
   "source": [
    "##### Структура кода"
   ]
  },
  {
   "cell_type": "markdown",
   "id": "ffdf0a14",
   "metadata": {},
   "source": [
    "1. "
   ]
  },
  {
   "cell_type": "markdown",
   "id": "597469e3",
   "metadata": {},
   "source": [
    "##### "
   ]
  },
  {
   "cell_type": "code",
   "execution_count": null,
   "id": "2b5181b0",
   "metadata": {},
   "outputs": [],
   "source": []
  },
  {
   "cell_type": "markdown",
   "id": "f88cc205",
   "metadata": {},
   "source": [
    "##### "
   ]
  },
  {
   "cell_type": "code",
   "execution_count": null,
   "id": "1e1bcf9a",
   "metadata": {},
   "outputs": [],
   "source": []
  },
  {
   "cell_type": "markdown",
   "id": "f794b569",
   "metadata": {},
   "source": [
    "##### "
   ]
  },
  {
   "cell_type": "code",
   "execution_count": null,
   "id": "7bd0adc0",
   "metadata": {},
   "outputs": [],
   "source": []
  },
  {
   "cell_type": "markdown",
   "id": "27f4987b",
   "metadata": {},
   "source": [
    "##### "
   ]
  },
  {
   "cell_type": "code",
   "execution_count": null,
   "id": "c06e3e80",
   "metadata": {},
   "outputs": [],
   "source": []
  },
  {
   "cell_type": "code",
   "execution_count": null,
   "id": "67617096",
   "metadata": {},
   "outputs": [],
   "source": []
  },
  {
   "cell_type": "code",
   "execution_count": null,
   "id": "1c5d5d14",
   "metadata": {},
   "outputs": [],
   "source": []
  },
  {
   "cell_type": "code",
   "execution_count": null,
   "id": "34cfc2e3",
   "metadata": {},
   "outputs": [],
   "source": []
  },
  {
   "cell_type": "code",
   "execution_count": null,
   "id": "db03e0b6-b8ed-43e7-ae39-bf4b4a716676",
   "metadata": {},
   "outputs": [],
   "source": []
  }
 ],
 "metadata": {
  "kernelspec": {
   "display_name": "Python 3 (ipykernel)",
   "language": "python",
   "name": "python3"
  },
  "language_info": {
   "codemirror_mode": {
    "name": "ipython",
    "version": 3
   },
   "file_extension": ".py",
   "mimetype": "text/x-python",
   "name": "python",
   "nbconvert_exporter": "python",
   "pygments_lexer": "ipython3",
   "version": "3.10.12"
  }
 },
 "nbformat": 4,
 "nbformat_minor": 5
}
