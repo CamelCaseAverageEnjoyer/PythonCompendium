{
 "cells": [
  {
   "cell_type": "markdown",
   "id": "56ebac88",
   "metadata": {},
   "source": [
    "### <span style=\"color:#0ab49a\">Занятие №2:</span> <span style=\"color:#BA77D8\">----</span> \n",
    "\n",
    "![](img/banner.png)"
   ]
  },
  {
   "cell_type": "markdown",
   "id": "04ecbac7",
   "metadata": {},
   "source": [
    "### <span style=\"color:#55628D\">1. Заполнение массива</span>"
   ]
  },
  {
   "cell_type": "code",
   "execution_count": 1,
   "id": "c622d766",
   "metadata": {},
   "outputs": [
    {
     "name": "stdout",
     "output_type": "stream",
     "text": [
      "[0, 1, 2, 3, 4, 5, 6, 7, 8, 9]\n"
     ]
    }
   ],
   "source": [
    "\"\"\"\n",
    "В Python есть весьма специфичная операции list comprehension\n",
    "\"\"\"\n",
    "\n",
    "# Например, массив можно заполнить более-менее привычным образом\n",
    "a = []\n",
    "for i in range(10):\n",
    "    a.append(i)\n",
    "print(a)"
   ]
  },
  {
   "cell_type": "code",
   "execution_count": 2,
   "id": "6e693a4f",
   "metadata": {},
   "outputs": [
    {
     "name": "stdout",
     "output_type": "stream",
     "text": [
      "[0, 1, 2, 3, 4, 5, 6, 7, 8, 9]\n"
     ]
    }
   ],
   "source": [
    "# А можно вот так\n",
    "b = [i for i in range(10)]\n",
    "print(b)\n",
    "# Написанное можно воспринимать примерно как\n",
    "# \"прогоним такой for, на каждой итерации возьмём это самое i, из них породим массив (список, конечно, на самом деле)\""
   ]
  },
  {
   "cell_type": "code",
   "execution_count": 3,
   "id": "5ba09766",
   "metadata": {},
   "outputs": [
    {
     "name": "stdout",
     "output_type": "stream",
     "text": [
      "[0, 1, 4, 9, 16, 25, 36, 49, 64, 81]\n"
     ]
    }
   ],
   "source": [
    "# Не обязательно брать именно i на каждой итерации, можно любую операцию с его участием выполнить\n",
    "# Здесь, например, список заполнится квадратами целых чисел\n",
    "c = [i**2 for i in range(10)]\n",
    "print(c)"
   ]
  },
  {
   "cell_type": "code",
   "execution_count": 4,
   "id": "9a9e2613",
   "metadata": {},
   "outputs": [
    {
     "name": "stdout",
     "output_type": "stream",
     "text": [
      "[1, 1, 1, 1, 1, 1, 1, 1, 1, 1]\n"
     ]
    }
   ],
   "source": [
    "# Собственно говоря, i может и вовсе не участвовать в том выражении, которое пойдёт в список\n",
    "# Например, зальём список единицами\n",
    "d = [1 for i in range(10)]\n",
    "print(d)"
   ]
  },
  {
   "cell_type": "code",
   "execution_count": 6,
   "id": "172ee5a0",
   "metadata": {},
   "outputs": [
    {
     "name": "stdout",
     "output_type": "stream",
     "text": [
      "[2, 2, 2, 2, 2, 2, 2, 2, 2, 2]\n"
     ]
    }
   ],
   "source": [
    "# Хотя конкретно заливку можно и проще сделать:\n",
    "e = [2] * 10\n",
    "print(e)"
   ]
  },
  {
   "cell_type": "code",
   "execution_count": 8,
   "id": "f0228781",
   "metadata": {},
   "outputs": [
    {
     "name": "stdin",
     "output_type": "stream",
     "text": [
      " 1 1 1 1 1 1 \n"
     ]
    },
    {
     "name": "stdout",
     "output_type": "stream",
     "text": [
      "[1, 1, 1, 1, 1, 1]\n"
     ]
    }
   ],
   "source": [
    "\"\"\"\n",
    "Довольно часто удобно использовать list comprehension для разбора входа\n",
    "\"\"\"\n",
    "\n",
    "# Например, вот так можем получить введённый с консоли массив целых чисел в виде именно целых чисел (не строк)\n",
    "a = [int(s) for s in input().split()]\n",
    "print(a)"
   ]
  },
  {
   "cell_type": "code",
   "execution_count": 1,
   "id": "e050f813-a23d-4152-9560-b4a08421a870",
   "metadata": {},
   "outputs": [
    {
     "name": "stdout",
     "output_type": "stream",
     "text": [
      "[0, 2, 4, 6, 8]\n"
     ]
    }
   ],
   "source": [
    "# List comprehension позволяет использовать условия\n",
    "a = [i for i in range(10) if i % 2 == 0]\n",
    "print(a)"
   ]
  },
  {
   "cell_type": "markdown",
   "id": "e6ffc9eb",
   "metadata": {},
   "source": [
    "### <span style=\"color:#55628D\">2. Контейнеры set и dict</span>"
   ]
  },
  {
   "cell_type": "code",
   "execution_count": 9,
   "id": "4486452d",
   "metadata": {},
   "outputs": [
    {
     "name": "stdin",
     "output_type": "stream",
     "text": [
      " 1 2 3\n"
     ]
    },
    {
     "name": "stdout",
     "output_type": "stream",
     "text": [
      "{1, 2, 3}\n",
      "{0: 0, 1: 1, 2: 8, 3: 27, 4: 64}\n"
     ]
    }
   ],
   "source": [
    "\"\"\"\n",
    "Аналогичный comprehension можно использовать и для set-ов и dict-ов\n",
    "# ВНИМАНИЕ! Контейнеры set и dict в Python не упорядоченные! Здесь можно получить некоторые сюрпризы.\n",
    "\"\"\"\n",
    "\n",
    "# Попробуйте запустить это и ввести повторные числа\n",
    "a = set(int(s) for s in input().split())\n",
    "print(a)\n",
    "\n",
    "# Этот пример довольно искусственный. Но это dict comprehension.\n",
    "d = {i: i**3 for i in range(5)}\n",
    "print(d)"
   ]
  },
  {
   "cell_type": "markdown",
   "id": "febc3c76",
   "metadata": {},
   "source": [
    "### <span style=\"color:#55628D\">3. Iterable</span>"
   ]
  },
  {
   "cell_type": "code",
   "execution_count": 12,
   "id": "6d6488b8",
   "metadata": {},
   "outputs": [
    {
     "name": "stdout",
     "output_type": "stream",
     "text": [
      "4\n"
     ]
    }
   ],
   "source": [
    "\"\"\"\n",
    "В Python-е есть довольно фундаментальное понятие - iterable.\n",
    "Всё, что может последовательно перебираться - iterable.\n",
    "Очень многие функции на вход на самом деле принимают именно iterable.\n",
    "\"\"\"\n",
    "\n",
    "# Например, есть у нас list некоторой длины, он iterable\n",
    "a = [1, 2, 3, 4]\n",
    "# Поэтому к нему, например, можно применить max - max принимает на вход iterable сущность произвольной длины\n",
    "print(max(a))"
   ]
  },
  {
   "cell_type": "code",
   "execution_count": 13,
   "id": "5fe715ed",
   "metadata": {},
   "outputs": [
    {
     "name": "stdout",
     "output_type": "stream",
     "text": [
      "3\n"
     ]
    }
   ],
   "source": [
    "# Аналогично set - он тоже iterable\n",
    "s = {1, 2, 3}\n",
    "print(max(s))"
   ]
  },
  {
   "cell_type": "code",
   "execution_count": 14,
   "id": "5d36f3e3",
   "metadata": {},
   "outputs": [
    {
     "name": "stdout",
     "output_type": "stream",
     "text": [
      "<generator object <genexpr> at 0x7f4407e1fa70>\n",
      "81\n"
     ]
    }
   ],
   "source": [
    "# Более того, выполнение некоторого кода тоже порождает iterable результат\n",
    "# И этот iterable результат можно использовать \"на лету\", передавая куда-нибудь без создания промежуточных коллекций\n",
    "print(i**2 for i in range(10))\n",
    "print(max(i**2 for i in range(10)))"
   ]
  },
  {
   "cell_type": "markdown",
   "id": "557a85bf",
   "metadata": {},
   "source": [
    "### <span style=\"color:#55628D\">4. Наличие элемента</span>"
   ]
  },
  {
   "cell_type": "code",
   "execution_count": 21,
   "id": "df9e033c-6f1b-40cc-91b2-ab89f637ea9e",
   "metadata": {},
   "outputs": [
    {
     "name": "stdout",
     "output_type": "stream",
     "text": [
      "Значение 0: d\n",
      "Значение 1: a\n",
      "Значение 2: b\n",
      "Значение 3: c\n"
     ]
    }
   ],
   "source": [
    "\"\"\"\n",
    "Разумеется, над iterable сущностями можно много всего выполнить.\n",
    "Здесь некоторые характерные примеры.\n",
    "\"\"\"\n",
    "\n",
    "# Создадим set из символов строки.\n",
    "# Просто потому что можем. Ну и для ещё одного примера кастов, конечно.\n",
    "s = set(\"abcd\")\n",
    "\n",
    "# Просто for-ы уже были (примерно аналоги range for-ов в C++).\n",
    "# А если iterable хочется обойти, имея не только значение, но и индекс, то можно использовать enumerate.\n",
    "# (Ещё раз напомним, что set и dict в Python не упорядоченные!)\n",
    "for index, value in enumerate(s):\n",
    "    print(f'Значение {index}: {value}')"
   ]
  },
  {
   "cell_type": "code",
   "execution_count": 23,
   "id": "84b748ec-8fd3-4d75-be31-d7ea5aa4ef0b",
   "metadata": {},
   "outputs": [
    {
     "name": "stdout",
     "output_type": "stream",
     "text": [
      "Множество не содержит q\n"
     ]
    }
   ],
   "source": [
    "# Если нужно проверить, есть ли элемент в коллекции (контейнер в терминах C++), то для этого используется in.\n",
    "# Реализация этого in-а будет разная для разных коллекций. Время работы соответственное.\n",
    "if 'q' in s:\n",
    "    print(\"Множество содержит q\")\n",
    "else:\n",
    "    print(\"Множество не содержит q\")"
   ]
  },
  {
   "cell_type": "code",
   "execution_count": 26,
   "id": "40697e59",
   "metadata": {},
   "outputs": [
    {
     "name": "stdout",
     "output_type": "stream",
     "text": [
      "a внутри множества: True\n",
      "z внутри множества: False\n"
     ]
    }
   ],
   "source": [
    "# Ещё раз проверим вхождение нескольких элементов в коллекцию.\n",
    "# Просто ради ещё одной демки синтаксиса.\n",
    "for v in list(\"az\"):\n",
    "    print(f'{v} внутри множества: {v in s}')"
   ]
  },
  {
   "cell_type": "markdown",
   "id": "70c7dcbd-fbd9-47b6-bb59-5a96a0393911",
   "metadata": {},
   "source": [
    "### <span style=\"color:#48B026\">Контест №01, Задача №4: Максимальное уникальное</span>"
   ]
  },
  {
   "cell_type": "markdown",
   "id": "da528fe8",
   "metadata": {},
   "source": [
    "### <span style=\"color:#55628D\">5. Упаковка и распаковка</span>"
   ]
  },
  {
   "cell_type": "code",
   "execution_count": 31,
   "id": "69379a31",
   "metadata": {},
   "outputs": [
    {
     "name": "stdout",
     "output_type": "stream",
     "text": [
      "List itself: [1, 2, 3, 4] <class 'list'>\n",
      "Values from list: 1 2 3 4\n"
     ]
    }
   ],
   "source": [
    "\"\"\"\n",
    "А теперь чуть менее характерные примеры.\n",
    "\"\"\"\n",
    "\n",
    "# Есть у нас список\n",
    "il = [1, 2, 3, 4]\n",
    "\n",
    "# Под именем il у нас сам list\n",
    "print(\"List itself:\", il, type(il))\n",
    "# А обратившись *il можно получить все значения из него. Starred expression\n",
    "print(\"Values from list:\", *il)"
   ]
  },
  {
   "cell_type": "code",
   "execution_count": 36,
   "id": "5c4a6724",
   "metadata": {},
   "outputs": [
    {
     "name": "stdout",
     "output_type": "stream",
     "text": [
      "Пара значений: 1 a\n",
      "Пара значений: 2 b\n",
      "Пара значений: 3 c\n",
      "Пара значений: 4 d\n"
     ]
    }
   ],
   "source": [
    "# А теперь есть второй list\n",
    "sl = list(\"abcd\")\n",
    "\n",
    "# Если мы захотим параллельную итерацию по двум спискам,\n",
    "# её можно организовать вот так.\n",
    "for i, s in zip(il, sl):\n",
    "    print(f'Пара значений: {i} {s}')"
   ]
  },
  {
   "cell_type": "code",
   "execution_count": 38,
   "id": "52df5754-33c2-4822-b5a3-5e3511ae5bd8",
   "metadata": {},
   "outputs": [
    {
     "name": "stdout",
     "output_type": "stream",
     "text": [
      "<class 'zip'>\n"
     ]
    }
   ],
   "source": [
    "# Технически zip возвращает (сюрприз!) итератор.\n",
    "# (Да, ровно как в C++. Иногда они возвращаются.)\n",
    "print(type(zip(il, sl)))"
   ]
  },
  {
   "cell_type": "code",
   "execution_count": 39,
   "id": "6957ccf2",
   "metadata": {},
   "outputs": [
    {
     "name": "stdout",
     "output_type": "stream",
     "text": [
      "<class 'list'>\n",
      "[(1, 'a'), (2, 'b'), (3, 'c'), (4, 'd')]\n"
     ]
    }
   ],
   "source": [
    "# При желании этот итератор можно к чему-нибудь кастануть.\n",
    "print(type(list(zip(il, sl))))\n",
    "print(list(zip(il, sl)))"
   ]
  },
  {
   "cell_type": "code",
   "execution_count": 40,
   "id": "6851830f",
   "metadata": {},
   "outputs": [
    {
     "name": "stdout",
     "output_type": "stream",
     "text": [
      "<class 'map'> <map object at 0x7f4407ea4eb0>\n",
      "[1, 8, 27, 64]\n"
     ]
    }
   ],
   "source": [
    "# А теперь мы хотим что-нибудь применить ко всем элементам списка.\n",
    "# Можем сделать это, например, вот так.\n",
    "# Вызов map применяет заданную функцию к заданной iterable сущности.\n",
    "res = map(lambda value: value**3, il)\n",
    "\n",
    "# Возвращает опять итератор.\n",
    "print(type(res), res)\n",
    "\n",
    "# И его опять можно кастануть, если требуется.\n",
    "print(list(res))"
   ]
  },
  {
   "cell_type": "markdown",
   "id": "e5329892-750b-4f50-90f1-2177694008ac",
   "metadata": {},
   "source": [
    "### <span style=\"color:#55628D\">6. Атрибуты списков</span>"
   ]
  },
  {
   "cell_type": "code",
   "execution_count": null,
   "id": "99886148",
   "metadata": {},
   "outputs": [],
   "source": [
    "\"\"\"\n",
    "Еще немного про списки\n",
    "\"\"\"\n",
    "\n",
    "# Есть у нас список\n",
    "a = [i for i in range(10)]\n",
    "print(a)\n",
    "\n",
    "# В него можно что-нибудь добавить\n",
    "a.append(10)\n",
    "a.insert(0, 42)\n",
    "print(a)\n",
    "\n",
    "# Можно что-нибудь удалить\n",
    "del a[1]\n",
    "print(a)\n",
    "\n",
    "# Теперь есть ещё один список\n",
    "b = [100, 200]\n",
    "\n",
    "# Можно объединить эти списки\n",
    "print(a + b)\n",
    "\n",
    "# Только не надо это делать вот так\n",
    "# В этом случае внезапно в список добавится новый элемент, который сам является списком\n",
    "a.append(b)\n",
    "print(a)\n",
    "\n",
    "# Можно вот так\n",
    "# В этом случае второй список добавится в первый поэлементно\n",
    "a.extend(b)\n",
    "print(a)\n",
    "\n",
    "# Даже вот так можно\n",
    "# Потому что extend на самом деле принимает любой iterable\n",
    "a.extend(-i for i in range(5))\n",
    "print(a)\n",
    "\n",
    "# Ну и на правах финальной ремарки\n",
    "# Вот так сделать нельзя, закомментированная строка ниже упадёт, потому что нельзя прибавить к списку int\n",
    "# a += 42\n",
    "\n",
    "# Но можно вот так, потому что теперь получилась конкатенация списков\n",
    "a += [42]\n",
    "print(a)"
   ]
  },
  {
   "cell_type": "markdown",
   "id": "acc7d5bd-40fb-4dac-a252-617104d91b29",
   "metadata": {},
   "source": [
    "### <span style=\"color:#55628D\">7. Индексация</span>"
   ]
  },
  {
   "cell_type": "code",
   "execution_count": null,
   "id": "3910ade9",
   "metadata": {},
   "outputs": [],
   "source": [
    "\"\"\"\n",
    "Индексация в Python-е позволяет творить чудеса\n",
    "\"\"\"\n",
    "\n",
    "# И снова у нас есть список (на самом деле опять iterable сущность, но пусть будет список для примера)\n",
    "a = [i for i in range(10)]\n",
    "print(a)\n",
    "\n",
    "# Можно обратиться к его диапазону\n",
    "print(a[1:4])\n",
    "\n",
    "# Не только для печати можно, для произвольных операций\n",
    "for i in a[1:4]:\n",
    "    print(i*i)\n",
    "\n",
    "# Более того, для записи тоже можно\n",
    "a[1:4] = [-1, -2, -3]\n",
    "print(a)\n",
    "\n",
    "# Более того, размеры слайсов слева и справа могут не совпадать - так можно заменить произвольный диапазон\n",
    "a[1:4] = [42]\n",
    "print(a)\n",
    "\n",
    "# Даже удалить можно\n",
    "a[1:2] = []\n",
    "print(a)\n",
    "\n",
    "# Ещё можно делать индексацию по отрицательным индексам - с конца\n",
    "# Это будет первый элемент\n",
    "print(a[0])\n",
    "# А это последний\n",
    "print(a[-1])\n",
    "\n",
    "# Со слайсами так тоже можно\n",
    "# (если пропустить какую-то из цифр - там будет \"от начала\" или \"до конца\" соответственно\n",
    "print(a[-3:])\n",
    "\n",
    "# Еще можно получить слайс с заданной позиции с заданным шагом\n",
    "b = [i for i in range(10)]\n",
    "print(b)\n",
    "print(b[1::2])\n",
    "\n",
    "# И в обратную сторону так ходить тоже можно\n",
    "print(b[::-1])"
   ]
  },
  {
   "cell_type": "markdown",
   "id": "984422e9-f7e0-4a3c-8001-b6fd60b64407",
   "metadata": {},
   "source": [
    "### <span style=\"color:#55628D\">8. Кортежи (массивы)</span>"
   ]
  },
  {
   "cell_type": "code",
   "execution_count": null,
   "id": "4230ac85-5190-41e8-a15a-7d4976a6b160",
   "metadata": {},
   "outputs": [],
   "source": [
    "\"\"\"\n",
    "Демонстрация расположения элементов list - списка\n",
    "\"\"\"\n",
    "\n",
    "a = [1, 2, 3]\n",
    "\n",
    "print(f\"{a[0]}: {id(a[0])}, {a[1]}: {id(a[1])}, {a[2]}: {id(a[2])}\")\n",
    "print(f\"Δ1: {id(a[1]) - id(a[0])}, Δ2: {id(a[2]) - id(a[1])}\")"
   ]
  },
  {
   "cell_type": "code",
   "execution_count": null,
   "id": "d75b20c1-1f31-4cf4-802d-b41fa52a0d25",
   "metadata": {},
   "outputs": [],
   "source": [
    "for i in range(1000):\n",
    "    a.append(4 + i)\n",
    "    print(f\"Δ{4 + i}: {id(a[3+i]) - id(a[2+i])}\")  # , end=\", \")"
   ]
  },
  {
   "cell_type": "code",
   "execution_count": null,
   "id": "9ff82536-0cea-489e-aaec-9a3378582527",
   "metadata": {},
   "outputs": [],
   "source": [
    "\"\"\"\n",
    "Есть в Python-е такая фундаментальная штука - tuples - массив\n",
    "\"\"\"\n",
    "\n",
    "# На первый взгляд почти не отличается от списка, только скобочки круглые\n",
    "# На них работает всё то, что было выше для списков\n",
    "t = (1, 2, 3)\n",
    "print(t)\n",
    "print(t[0])"
   ]
  },
  {
   "cell_type": "code",
   "execution_count": null,
   "id": "2000ba40-e3d3-4e31-ac14-4aeac42d977f",
   "metadata": {},
   "outputs": [],
   "source": [
    "# Только писать в него нельзя, элементы тапла неизменяемые, так что закомментированная строка ниже упадёт\n",
    "t[0] = -1"
   ]
  },
  {
   "cell_type": "code",
   "execution_count": null,
   "id": "3638a1e1-08e3-430c-95cd-454624660802",
   "metadata": {},
   "outputs": [],
   "source": [
    "# Присвоить повторно при этом можно, но только целиком\n",
    "t = ('a', 'b', 'c')\n",
    "print(t)"
   ]
  },
  {
   "cell_type": "code",
   "execution_count": null,
   "id": "e0ec6aca-de44-488f-98ce-00f1c517d1e9",
   "metadata": {},
   "outputs": [],
   "source": [
    "# Присовить один тапл другому тоже, конечно, можно\n",
    "t2 = t\n",
    "print(t2)"
   ]
  },
  {
   "cell_type": "code",
   "execution_count": 63,
   "id": "d49c9d43-d1a4-41ea-9b70-8dc0b052caab",
   "metadata": {},
   "outputs": [
    {
     "name": "stdout",
     "output_type": "stream",
     "text": [
      "(1, 2, 3)\n"
     ]
    }
   ],
   "source": [
    "# Ещё можно пропускать скобки. Вот так тоже будет тапл:\n",
    "tt = 1, 2, 3\n",
    "print(tt)"
   ]
  },
  {
   "cell_type": "code",
   "execution_count": 64,
   "id": "d1f2ed82-78e7-4547-8e4b-f72b0a08bc18",
   "metadata": {},
   "outputs": [
    {
     "name": "stdout",
     "output_type": "stream",
     "text": [
      "1 2\n"
     ]
    }
   ],
   "source": [
    "# Дальше начинается лёгкая магия\n",
    "\n",
    "# Можно распаковать содержимое тапла в несколько переменных\n",
    "# Это часто удобно, но это ладно\n",
    "a, b, c = tt\n",
    "print(a, b)"
   ]
  },
  {
   "cell_type": "code",
   "execution_count": null,
   "id": "fad006c9-3538-44ff-be5a-88f707782f58",
   "metadata": {},
   "outputs": [],
   "source": [
    "\"\"\"\n",
    "Последний пример работает на самом деле так:\n",
    "- то, что справа от равно запаковывается во временный тапл,\n",
    "- этот тапл присваивается таплу слева от равно,\n",
    "- тапл слева от равно распаковыывается в именованные переменные.\n",
    "А синтаксис выглядит лёгкой магией, потому что скобочки у таплов можно не писать.\n",
    "\"\"\"\n",
    "\n",
    "# Но дальше можно написать такое:\n",
    "b, a = a, b\n",
    "# И они правда поменяются местами:\n",
    "print(a, b)"
   ]
  },
  {
   "cell_type": "code",
   "execution_count": 67,
   "id": "2f98bad2-a5db-4232-b0b3-30441278aa5c",
   "metadata": {},
   "outputs": [
    {
     "name": "stdout",
     "output_type": "stream",
     "text": [
      "3\n",
      "-1\n"
     ]
    }
   ],
   "source": [
    "\"\"\"\n",
    "Ещё на tuples работает такая особенность функций в Python-е\n",
    "\"\"\"\n",
    "\n",
    "# У нас есть функция, она принимает пару параметров (это ок),\n",
    "# а потом она внезапно возвращает два значения через запятую (это как?)\n",
    "def func(a, b):\n",
    "    return a + b, a - b\n",
    "\n",
    "\n",
    "# На самом деле функция возвращает тапл, который можно принять и распаковать\n",
    "x, y = func(1, 2)\n",
    "print(x)\n",
    "print(y)"
   ]
  },
  {
   "cell_type": "code",
   "execution_count": 68,
   "id": "40622ee0",
   "metadata": {},
   "outputs": [
    {
     "name": "stdout",
     "output_type": "stream",
     "text": [
      "(3, -1)\n"
     ]
    }
   ],
   "source": [
    "# Ну или не распаковать, а так и оставить таплом\n",
    "q = func(1, 2)\n",
    "print(q)"
   ]
  },
  {
   "cell_type": "code",
   "execution_count": 2,
   "id": "3489e637-8d32-43a0-bc1e-9c4772bed7bd",
   "metadata": {},
   "outputs": [
    {
     "name": "stdout",
     "output_type": "stream",
     "text": [
      "Без звёздочки: [[1, 2, 3], 4, 5, 6], со звёздочкой: [1, 2, 3, 4, 5, 6]\n",
      "Без звёздочки: ((1, 2, 3), 4, 5, 6), со звёздочкой: (1, 2, 3, 4, 5, 6)\n"
     ]
    }
   ],
   "source": [
    "# Вспоминаем про starred expression. Внутри списка и массива можно \"достать\" значения\n",
    "a = [1, 2, 3]\n",
    "b = [a, 4, 5, 6]\n",
    "c = [*a, 4, 5, 6]\n",
    "print(f\"Без звёздочки: {b}, со звёздочкой: {c}\")\n",
    "a = 1, 2, 3\n",
    "b = a, 4, 5, 6\n",
    "c = *a, 4, 5, 6\n",
    "print(f\"Без звёздочки: {b}, со звёздочкой: {c}\")"
   ]
  },
  {
   "cell_type": "markdown",
   "id": "eb56318f-1882-41e4-aa81-040c4395cee1",
   "metadata": {},
   "source": [
    "### <span style=\"color:#55628D\">9. Работа с файлами</span>"
   ]
  },
  {
   "cell_type": "code",
   "execution_count": 70,
   "id": "b62eda5c-d632-48e3-ac3d-4f5c7a5be415",
   "metadata": {},
   "outputs": [
    {
     "name": "stdout",
     "output_type": "stream",
     "text": [
      "Корабли лавировали-лавировали, да не вылавировали\n",
      "\n"
     ]
    }
   ],
   "source": [
    "\"\"\"\n",
    "Базовая работа с файлами может быть устроена примерно так\n",
    "\"\"\"\n",
    "\n",
    "# Откроем test.txt на чтение ('r' от 'read')\n",
    "f = open(\"lesson02/test1.txt\", 'r')\n",
    "# Прочитаем весь файл разом в одну строку, тут же выведем её на экран\n",
    "print(f.read())\n",
    "# Закроем файл\n",
    "f.close()"
   ]
  },
  {
   "cell_type": "code",
   "execution_count": 76,
   "id": "44e3775d-9fe0-4a59-b9b8-af72a0590ea9",
   "metadata": {},
   "outputs": [
    {
     "name": "stdout",
     "output_type": "stream",
     "text": [
      "-> Строка №1\n",
      "\n",
      "-> Строка №2\n",
      "\n",
      "-> Строка №3\n",
      "\n"
     ]
    }
   ],
   "source": [
    "# Построчная обработка файла\n",
    "\n",
    "f = open(\"lesson02/test2.txt\", 'r')\n",
    "for l in f:\n",
    "    print(f\"-> {l}\")\n",
    "f.close()"
   ]
  },
  {
   "cell_type": "code",
   "execution_count": 4,
   "id": "51ed0cf1-a067-4a8e-933e-c6643f3b0dfa",
   "metadata": {},
   "outputs": [
    {
     "name": "stdout",
     "output_type": "stream",
     "text": [
      "\n"
     ]
    }
   ],
   "source": [
    "# Этот пример, конечно, не очень хорош - мы почему-то считаем, что файл точно откроется.\n",
    "# А если он не откроется, то этот код некрасиво упадёт.\n",
    "# Можно проверить, что вернул open, потом уже работать с файлом\n",
    "\n",
    "\n",
    "# Но чуть более красиво написать так:\n",
    "with open(\"lesson02/test3.txt\", 'r') as f:\n",
    "    print(f.read())"
   ]
  },
  {
   "cell_type": "code",
   "execution_count": 105,
   "id": "e49ba2e1-bea1-40dd-bf3c-2c76dbdd9d5a",
   "metadata": {},
   "outputs": [
    {
     "name": "stdout",
     "output_type": "stream",
     "text": [
      "Файл найден\n"
     ]
    }
   ],
   "source": [
    "try:\n",
    "    f1 = open(\"lesson02/test2.txt\", 'r')\n",
    "    print(\"Файл найден\")\n",
    "    f1.close()\n",
    "except FileNotFoundError:  # FileNotFoundError - название ошибки\n",
    "    print(\"Такого файла нет!\")\n",
    "else:  # Если исключения except не произошло\n",
    "    pass\n",
    "finally:  # Выполняется в любом случае\n",
    "    pass"
   ]
  },
  {
   "cell_type": "code",
   "execution_count": 106,
   "id": "3986a03f-94a4-443b-ae87-66738a418f48",
   "metadata": {},
   "outputs": [
    {
     "ename": "ValueError",
     "evalue": "текст ошибки",
     "output_type": "error",
     "traceback": [
      "\u001b[0;31m---------------------------------------------------------------------------\u001b[0m",
      "\u001b[0;31mValueError\u001b[0m                                Traceback (most recent call last)",
      "Cell \u001b[0;32mIn[106], line 1\u001b[0m\n\u001b[0;32m----> 1\u001b[0m \u001b[38;5;28;01mraise\u001b[39;00m \u001b[38;5;167;01mValueError\u001b[39;00m(\u001b[38;5;124mf\u001b[39m\u001b[38;5;124m\"\u001b[39m\u001b[38;5;124mтекст ошибки\u001b[39m\u001b[38;5;124m\"\u001b[39m)\n",
      "\u001b[0;31mValueError\u001b[0m: текст ошибки"
     ]
    }
   ],
   "source": [
    "raise ValueError(f\"текст ошибки\")"
   ]
  },
  {
   "cell_type": "code",
   "execution_count": 98,
   "id": "ae8d5da2-c03d-46d0-8648-e59e17b76757",
   "metadata": {},
   "outputs": [
    {
     "ename": "NameError",
     "evalue": "name 'f11' is not defined",
     "output_type": "error",
     "traceback": [
      "\u001b[0;31m---------------------------------------------------------------------------\u001b[0m",
      "\u001b[0;31mNameError\u001b[0m                                 Traceback (most recent call last)",
      "Cell \u001b[0;32mIn[98], line 1\u001b[0m\n\u001b[0;32m----> 1\u001b[0m \u001b[43mf11\u001b[49m\u001b[38;5;241m.\u001b[39mclose()\n",
      "\u001b[0;31mNameError\u001b[0m: name 'f11' is not defined"
     ]
    }
   ],
   "source": [
    "f11.close()"
   ]
  },
  {
   "cell_type": "code",
   "execution_count": null,
   "id": "338f1f50",
   "metadata": {},
   "outputs": [],
   "source": [
    "\n",
    "\n",
    "\n",
    "\n",
    "\"\"\"\n",
    "Это такой типовой блок:\n",
    "with ... as ...:\n",
    "    ...\n",
    "Мы пытаемся захватить ресурс (открыть файл в данном случае)\n",
    "и выполняем тело блока только в том случае, если захватить ресурс удалось.\n",
    "В конце блока ресурс освободится (в данном случае файл закроется).\n",
    "\"\"\""
   ]
  },
  {
   "cell_type": "code",
   "execution_count": null,
   "id": "c5b56388",
   "metadata": {},
   "outputs": [],
   "source": []
  },
  {
   "cell_type": "code",
   "execution_count": null,
   "id": "91c14aa8",
   "metadata": {},
   "outputs": [],
   "source": [
    "\"\"\"\n",
    "Исключения в Python-е есть, как же без них\n",
    "\"\"\"\n",
    "\n",
    "# Например, если этой попытке чтения входа скормить на вход не int-ы, а строки, то она упадёт\n",
    "# Ошибка будет в духе: ValueError: invalid literal for int() ...\n",
    "a = [int(s) for s in input().split()]\n",
    "\n",
    "# Хотелось бы в таких случаях не умирать на месте, а иметь шанс обработать ошибку.\n",
    "# Для этого нужен try и ловля исключений, как и в других языках.\n",
    "# Если попробовать скормить на вход строки вместо int-ов вот такой конструкции, то она не упадёт,\n",
    "# а попадёт в блок except, в котором можно написать свою логику.\n",
    "try:\n",
    "    a = [int(s) for s in input().split()]\n",
    "except:\n",
    "    pass # pass - служебная конструкция со смыслом \"этот блок пустой, и это так задумано\""
   ]
  },
  {
   "cell_type": "code",
   "execution_count": null,
   "id": "53e138a0",
   "metadata": {},
   "outputs": [],
   "source": []
  },
  {
   "cell_type": "code",
   "execution_count": null,
   "id": "6759de43",
   "metadata": {},
   "outputs": [],
   "source": [
    "# Пусть у нас есть вот такие данные - список таплов.\n",
    "# В моей голове это точки, поля каждой это (x, y, color).\n",
    "a = [(1,2,'red'), (1,0,'blue'), (3,5,'red')]\n",
    "\n",
    "# Если я хочу отсортировать точки по x, это можно сделать примерно так\n",
    "print(sorted(a, key = lambda e: e[0]))\n",
    "\n",
    "# Если хочу сортировку по двум критериям сразу, то так тоже можно.\n",
    "# Например, хочу сортировку сперва по X, потом по Y.\n",
    "# В этот момент оказывается, что ключ для сортировки - тапл на самом деле.\n",
    "print(sorted(a, key = lambda e: (e[0], e[1])))\n",
    "\n",
    "\"\"\"\n",
    "Ещё тут стоит сказать, что key не требует строго лямбду, на самом деле.\n",
    "Там ожидается функция, которая для элемента вернёт ключ.\n",
    "Просто часто проще всего в роли этой функции сразу на месте лямбду и написать.\n",
    "Но именованные функции использовать тоже можно.\n",
    "\"\"\"\n",
    "\n",
    "# Функция, на вход принимает очередной элемент (тапл),\n",
    "# распаковывает его (потому что может), в роли ключа возвращает цвет\n",
    "def color_of_point(p):\n",
    "    x,y,color = p\n",
    "    return color\n",
    "\n",
    "# Примерно аналогично, только ключ не равен какому-то полю, а вычисляется\n",
    "def vector_square_length(p):\n",
    "    x,y,color = p\n",
    "    return x**2 + y**2\n",
    "\n",
    "# А теперь в роли ключа вернём тапл, собрав его вызовами прошлых функций\n",
    "def two_param(p):\n",
    "    return color_of_point(p), -vector_square_length(p)\n",
    "\n",
    "# Сортировка по цвету\n",
    "print(sorted(a, key = color_of_point))\n",
    "\n",
    "# Сортировка по удалённости от координат\n",
    "print(sorted(a, key = vector_square_length))\n",
    "\n",
    "# Творческая сортировка по паре параметров\n",
    "print(sorted(a, key = two_param))"
   ]
  },
  {
   "cell_type": "code",
   "execution_count": null,
   "id": "847e5476",
   "metadata": {},
   "outputs": [],
   "source": []
  },
  {
   "cell_type": "code",
   "execution_count": null,
   "id": "3532b47d",
   "metadata": {},
   "outputs": [],
   "source": [
    "\"\"\"\n",
    "Работа с глобальными переменными в Python несколько специфична.\n",
    "\"\"\"\n",
    "\n",
    "# Пусть у нас есть глобальная переменная.\n",
    "# Это всегда так себе идея. Но пусть есть.\n",
    "TEST = 1\n",
    "\n",
    "# Эта функция хочет читать глобальную переменную - имеет право.\n",
    "def func1():\n",
    "    print(\"Inside func1\", TEST)\n",
    "\n",
    "# Эта функция хочет писать в глобальную переменную.\n",
    "# И как будто ей дали это сделать. Но нет.\n",
    "def func2():\n",
    "    TEST = 10\n",
    "    print(\"Inside func2\", TEST)\n",
    "\n",
    "# А вот эта функция правда сможет писать в глобальную переменную.\n",
    "def func3():\n",
    "    global TEST\n",
    "    TEST = 10\n",
    "    print(\"Inside func3\", TEST)\n",
    "\n",
    "\n",
    "print(\"Initial value\", TEST)\n",
    "func1()\n",
    "\n",
    "print(\"Before func2 call\", TEST)\n",
    "func2()\n",
    "print(\"After func2 call\", TEST)\n",
    "\n",
    "print(\"Before func3 call\", TEST)\n",
    "func3()\n",
    "print(\"After func3 call\", TEST)"
   ]
  },
  {
   "cell_type": "markdown",
   "id": "214fe1cb",
   "metadata": {},
   "source": [
    "### <span style=\"color:#0ab49a\">Примечание.</span> <span style=\"color:#BA77D8\">Интерпретируемость</span> \n"
   ]
  }
 ],
 "metadata": {
  "kernelspec": {
   "display_name": "Python 3 (ipykernel)",
   "language": "python",
   "name": "python3"
  },
  "language_info": {
   "codemirror_mode": {
    "name": "ipython",
    "version": 3
   },
   "file_extension": ".py",
   "mimetype": "text/x-python",
   "name": "python",
   "nbconvert_exporter": "python",
   "pygments_lexer": "ipython3",
   "version": "3.10.12"
  }
 },
 "nbformat": 4,
 "nbformat_minor": 5
}
