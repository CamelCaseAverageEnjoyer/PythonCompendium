{
 "cells": [
  {
   "cell_type": "markdown",
   "id": "56ebac88",
   "metadata": {},
   "source": [
    "### <span style=\"color:#0ab49a\">Занятие №2:</span> <span style=\"color:#BA77D8\">----</span> \n",
    "\n",
    "![Текст картинки если файл картинки не найден](img/banner.png)"
   ]
  },
  {
   "cell_type": "markdown",
   "id": "04ecbac7",
   "metadata": {},
   "source": [
    "### <span style=\"color:#55628D\">1. Инициализация массива</span>"
   ]
  },
  {
   "cell_type": "code",
   "execution_count": null,
   "id": "c622d766",
   "metadata": {},
   "outputs": [],
   "source": [
    "\"\"\"\n",
    "В Python есть весьма специфичная операции list comprehension\n",
    "\"\"\"\n",
    "\n",
    "# Например, массив можно заполнить более-менее привычным образом\n",
    "a = []\n",
    "for i in range(10):\n",
    "    a.append(i)\n",
    "print(a)"
   ]
  },
  {
   "cell_type": "code",
   "execution_count": null,
   "id": "6e693a4f",
   "metadata": {},
   "outputs": [],
   "source": [
    "# А можно вот так\n",
    "b = [i for i in range(10)]\n",
    "print(b)\n",
    "# Написанное можно воспринимать примерно как\n",
    "# \"прогоним такой for, на каждой итерации возьмём это самое i, из них породим массив (список, конечно, на самом деле)\""
   ]
  },
  {
   "cell_type": "code",
   "execution_count": null,
   "id": "5ba09766",
   "metadata": {},
   "outputs": [],
   "source": [
    "# Не обязательно брать именно i на каждой итерации, можно любую операцию с его участием выполнить\n",
    "# Здесь, например, список заполнится квадратами целых чисел\n",
    "c = [i**2 for i in range(10)]\n",
    "print(c)"
   ]
  },
  {
   "cell_type": "code",
   "execution_count": null,
   "id": "9a9e2613",
   "metadata": {},
   "outputs": [],
   "source": [
    "# Собственно говоря, i может и вовсе не участвовать в том выражении, которое пойдёт в список\n",
    "# Например, зальём список единицами\n",
    "d = [1 for i in range(10)]\n",
    "print(d)"
   ]
  },
  {
   "cell_type": "code",
   "execution_count": 1,
   "id": "172ee5a0",
   "metadata": {},
   "outputs": [
    {
     "name": "stdout",
     "output_type": "stream",
     "text": [
      "[0, 1, 2, 3, 4, 5, 6, 7, 8, 9]\n",
      "[0, 1, 2, 3, 4, 5, 6, 7, 8, 9]\n",
      "[0, 1, 4, 9, 16, 25, 36, 49, 64, 81]\n",
      "[1, 1, 1, 1, 1, 1, 1, 1, 1, 1]\n",
      "[2, 2, 2, 2, 2, 2, 2, 2, 2, 2]\n"
     ]
    }
   ],
   "source": [
    "# Хотя конкретно заливку можно и проще сделать:\n",
    "e = [2] * 10\n",
    "print(e)"
   ]
  },
  {
   "cell_type": "code",
   "execution_count": 3,
   "id": "f0228781",
   "metadata": {},
   "outputs": [
    {
     "name": "stdout",
     "output_type": "stream",
     "text": [
      "1 1 1 1\n",
      "[1, 1, 1, 1]\n"
     ]
    }
   ],
   "source": [
    "\"\"\"\n",
    "Довольно часто удобно использовать list comprehension для разбора входа\n",
    "\"\"\"\n",
    "\n",
    "# Например, вот так можем получить введённый с консоли массив целых чисел в виде именно целых чисел (не строк)\n",
    "a = [int(s) for s in input().split()]\n",
    "print(a)"
   ]
  },
  {
   "cell_type": "markdown",
   "id": "e6ffc9eb",
   "metadata": {},
   "source": [
    "### <span style=\"color:#55628D\">2. Контейнеры set и dict</span>"
   ]
  },
  {
   "cell_type": "code",
   "execution_count": 4,
   "id": "4486452d",
   "metadata": {},
   "outputs": [
    {
     "name": "stdout",
     "output_type": "stream",
     "text": [
      "1 1 1 1\n",
      "{1}\n",
      "{0: 0, 1: 1, 2: 8, 3: 27, 4: 64}\n"
     ]
    }
   ],
   "source": [
    "\"\"\"\n",
    "Аналогичный comprehension можно использовать и для set-ов и dict-ов\n",
    "# ВНИМАНИЕ! Контейнеры set и dict в Python не упорядоченные! Здесь можно получить некоторые сюрпризы.\n",
    "\"\"\"\n",
    "\n",
    "# Попробуйте запустить это и ввести повторные числа\n",
    "a = set(int(s) for s in input().split())\n",
    "print(a)\n",
    "\n",
    "# Этот пример довольно искусственный. Но это dict comprehension.\n",
    "d = {i: i**3 for i in range(5)}\n",
    "print(d)"
   ]
  },
  {
   "cell_type": "markdown",
   "id": "febc3c76",
   "metadata": {},
   "source": [
    "### <span style=\"color:#55628D\">3. Iterable</span>"
   ]
  },
  {
   "cell_type": "code",
   "execution_count": 1,
   "id": "6d6488b8",
   "metadata": {},
   "outputs": [
    {
     "name": "stdout",
     "output_type": "stream",
     "text": [
      "4\n"
     ]
    }
   ],
   "source": [
    "\"\"\"\n",
    "В Python-е есть довольно фундаментальное понятие - iterable.\n",
    "Всё, что может последовательно перебираться - iterable.\n",
    "Очень многие функции на вход на самом деле принимают именно iterable.\n",
    "\"\"\"\n",
    "\n",
    "# Например, есть у нас list некоторой длины, он iterable\n",
    "a = [1, 2, 3, 4]\n",
    "# Поэтому к нему, например, можно применить max - max принимает на вход iterable сущность произвольной длины\n",
    "print(max(a))"
   ]
  },
  {
   "cell_type": "code",
   "execution_count": 2,
   "id": "5fe715ed",
   "metadata": {},
   "outputs": [
    {
     "name": "stdout",
     "output_type": "stream",
     "text": [
      "3\n"
     ]
    }
   ],
   "source": [
    "# Аналогично set - он тоже iterable\n",
    "s = {1, 2, 3}\n",
    "print(max(s))"
   ]
  },
  {
   "cell_type": "code",
   "execution_count": 6,
   "id": "5d36f3e3",
   "metadata": {},
   "outputs": [
    {
     "name": "stdout",
     "output_type": "stream",
     "text": [
      "<generator object <genexpr> at 0x00000173E9658F10>\n",
      "81\n"
     ]
    }
   ],
   "source": [
    "# Более того, выполнение некоторого кода тоже порождает iterable результат\n",
    "# И этот iterable результат можно использовать \"на лету\", передавая куда-нибудь без создания промежуточных коллекций\n",
    "print(i**2 for i in range(10))\n",
    "print(max(i**2 for i in range(10)))"
   ]
  },
  {
   "cell_type": "markdown",
   "id": "557a85bf",
   "metadata": {},
   "source": [
    "### <span style=\"color:#55628D\">4. </span>"
   ]
  },
  {
   "cell_type": "code",
   "execution_count": 6,
   "id": "40697e59",
   "metadata": {},
   "outputs": [
    {
     "name": "stdout",
     "output_type": "stream",
     "text": [
      "Value 0: c\n",
      "Value 1: b\n",
      "Value 2: d\n",
      "Value 3: a\n",
      "Set does not contain q\n",
      "a in set: True\n",
      "z in set: False\n"
     ]
    }
   ],
   "source": [
    "\"\"\"\n",
    "Разумеется, над iterable сущностями можно много всего выполнить.\n",
    "Здесь некоторые характерные примеры.\n",
    "\"\"\"\n",
    "\n",
    "# Создадим set из символов строки.\n",
    "# Просто потому что можем. Ну и для ещё одного примера кастов, конечно.\n",
    "s = set(\"abcd\")\n",
    "\n",
    "# Просто for-ы уже были (примерно аналоги range for-ов в C++).\n",
    "# А если iterable хочется обойти, имея не только значение, но и индекс, то можно использовать enumerate.\n",
    "# (Ещё раз напомним, что set и dict в Python не упорядоченные!)\n",
    "for index, value in enumerate(s):\n",
    "    print(f'Value {index}: {value}')\n",
    "\n",
    "# Если нужно проверить, есть ли элемент в коллекции (контейнер в терминах C++), то для этого используется in.\n",
    "# Реализация этого in-а будет разная для разных коллекций. Время работы соответственное.\n",
    "if 'q' in s:\n",
    "    print(\"Set contains q\")\n",
    "else:\n",
    "    print(\"Set does not contain q\")\n",
    "\n",
    "# Ещё раз проверим вхождение нескольких элементов в коллекцию.\n",
    "# Просто ради ещё одной демки синтаксиса.\n",
    "for v in list(\"az\"):\n",
    "    print(f'{v} in set: {v in s}')"
   ]
  },
  {
   "cell_type": "markdown",
   "id": "da528fe8",
   "metadata": {},
   "source": [
    "### <span style=\"color:#55628D\">5. </span>"
   ]
  },
  {
   "cell_type": "code",
   "execution_count": 8,
   "id": "69379a31",
   "metadata": {},
   "outputs": [
    {
     "name": "stdout",
     "output_type": "stream",
     "text": [
      "List itself: [1, 2, 3, 4] <class 'list'>\n",
      "Values from list: 1 2 3 4\n"
     ]
    }
   ],
   "source": [
    "\"\"\"\n",
    "А теперь чуть менее характерные примеры.\n",
    "\"\"\"\n",
    "\n",
    "# Есть у нас список\n",
    "il = [1, 2, 3, 4]\n",
    "\n",
    "# Под именем il у нас сам list\n",
    "print(\"List itself:\", il, type(il))\n",
    "# А обратившись *il можно получить все значения из него\n",
    "print(\"Values from list:\", *il)"
   ]
  },
  {
   "cell_type": "code",
   "execution_count": 9,
   "id": "5c4a6724",
   "metadata": {},
   "outputs": [
    {
     "name": "stdout",
     "output_type": "stream",
     "text": [
      "Ad-hoc pair: 1 a\n",
      "Ad-hoc pair: 2 b\n",
      "Ad-hoc pair: 3 c\n",
      "Ad-hoc pair: 4 d\n"
     ]
    }
   ],
   "source": [
    "# А теперь есть второй list\n",
    "sl = list(\"abcd\")\n",
    "\n",
    "# Если мы захотим параллельную итерацию по двум спискам,\n",
    "# её можно организовать вот так.\n",
    "for i, s in zip(il, sl):\n",
    "    print(f'Ad-hoc pair: {i} {s}')"
   ]
  },
  {
   "cell_type": "code",
   "execution_count": 13,
   "id": "6957ccf2",
   "metadata": {},
   "outputs": [
    {
     "name": "stdout",
     "output_type": "stream",
     "text": [
      "<class 'zip'>\n",
      "<class 'list'>\n",
      "[(1, 'a'), (2, 'b'), (3, 'c'), (4, 'd')]\n"
     ]
    }
   ],
   "source": [
    "# Технически zip возвращает (сюрприз!) итератор.\n",
    "# (Да, ровно как в C++. Иногда они возвращаются.)\n",
    "print(type(zip(il, sl)))\n",
    "\n",
    "# При желании этот итератор можно к чему-нибудь кастануть.\n",
    "print(type(list(zip(il, sl))))\n",
    "print(list(zip(il, sl)))"
   ]
  },
  {
   "cell_type": "code",
   "execution_count": 14,
   "id": "6851830f",
   "metadata": {},
   "outputs": [
    {
     "name": "stdout",
     "output_type": "stream",
     "text": [
      "<class 'map'> <map object at 0x00000173E95D6DD8>\n",
      "[1, 8, 27, 64]\n"
     ]
    }
   ],
   "source": [
    "# А теперь мы хотим что-нибудь применить ко всем элементам списка.\n",
    "# Можем сделать это, например, вот так.\n",
    "# Вызов map применяет заданную функцию к заданной iterable сущности.\n",
    "res = map(lambda value: value**3, il)\n",
    "\n",
    "# Возвращает опять итератор.\n",
    "print(type(res), res)\n",
    "\n",
    "# И его опять можно кастануть, если требуется.\n",
    "print(list(res))"
   ]
  },
  {
   "cell_type": "code",
   "execution_count": null,
   "id": "f9f28bfe",
   "metadata": {},
   "outputs": [],
   "source": []
  },
  {
   "cell_type": "code",
   "execution_count": null,
   "id": "99886148",
   "metadata": {},
   "outputs": [],
   "source": [
    "\"\"\"\n",
    "Еще немного про списки\n",
    "\"\"\"\n",
    "\n",
    "# Есть у нас список\n",
    "a = [i for i in range(10)]\n",
    "print(a)\n",
    "\n",
    "# В него можно что-нибудь добавить\n",
    "a.append(10)\n",
    "a.insert(0, 42)\n",
    "print(a)\n",
    "\n",
    "# Можно что-нибудь удалить\n",
    "del a[1]\n",
    "print(a)\n",
    "\n",
    "# Теперь есть ещё один список\n",
    "b = [100, 200]\n",
    "\n",
    "# Можно объединить эти списки\n",
    "print(a + b)\n",
    "\n",
    "# Только не надо это делать вот так\n",
    "# В этом случае внезапно в список добавится новый элемент, который сам является списком\n",
    "a.append(b)\n",
    "print(a)\n",
    "\n",
    "# Можно вот так\n",
    "# В этом случае второй список добавится в первый поэлементно\n",
    "a.extend(b)\n",
    "print(a)\n",
    "\n",
    "# Даже вот так можно\n",
    "# Потому что extend на самом деле принимает любой iterable\n",
    "a.extend(-i for i in range(5))\n",
    "print(a)\n",
    "\n",
    "# Ну и на правах финальной ремарки\n",
    "# Вот так сделать нельзя, закомментированная строка ниже упадёт, потому что нельзя прибавить к списку int\n",
    "# a += 42\n",
    "\n",
    "# Но можно вот так, потому что теперь получилась конкатенация списков\n",
    "a += [42]\n",
    "print(a)"
   ]
  },
  {
   "cell_type": "code",
   "execution_count": null,
   "id": "14a27ac2",
   "metadata": {},
   "outputs": [],
   "source": []
  },
  {
   "cell_type": "code",
   "execution_count": null,
   "id": "3910ade9",
   "metadata": {},
   "outputs": [],
   "source": [
    "\"\"\"\n",
    "Индексация в Python-е позволяет творить чудеса\n",
    "\"\"\"\n",
    "\n",
    "# И снова у нас есть список (на самом деле опять iterable сущность, но пусть будет список для примера)\n",
    "a = [i for i in range(10)]\n",
    "print(a)\n",
    "\n",
    "# Можно обратиться к его диапазону\n",
    "print(a[1:4])\n",
    "\n",
    "# Не только для печати можно, для произвольных операций\n",
    "for i in a[1:4]:\n",
    "    print(i*i)\n",
    "\n",
    "# Более того, для записи тоже можно\n",
    "a[1:4] = [-1, -2, -3]\n",
    "print(a)\n",
    "\n",
    "# Более того, размеры слайсов слева и справа могут не совпадать - так можно заменить произвольный диапазон\n",
    "a[1:4] = [42]\n",
    "print(a)\n",
    "\n",
    "# Даже удалить можно\n",
    "a[1:2] = []\n",
    "print(a)\n",
    "\n",
    "# Ещё можно делать индексацию по отрицательным индексам - с конца\n",
    "# Это будет первый элемент\n",
    "print(a[0])\n",
    "# А это последний\n",
    "print(a[-1])\n",
    "\n",
    "# Со слайсами так тоже можно\n",
    "# (если пропустить какую-то из цифр - там будет \"от начала\" или \"до конца\" соответственно\n",
    "print(a[-3:])\n",
    "\n",
    "# Еще можно получить слайс с заданной позиции с заданным шагом\n",
    "b = [i for i in range(10)]\n",
    "print(b)\n",
    "print(b[1::2])\n",
    "\n",
    "# И в обратную сторону так ходить тоже можно\n",
    "print(b[::-1])"
   ]
  },
  {
   "cell_type": "code",
   "execution_count": null,
   "id": "9a137d48",
   "metadata": {},
   "outputs": [],
   "source": []
  },
  {
   "cell_type": "code",
   "execution_count": null,
   "id": "34a90a06",
   "metadata": {},
   "outputs": [],
   "source": [
    "\"\"\"\n",
    "Есть в Python-е такая фундаментальная штука - tuples\n",
    "\"\"\"\n",
    "\n",
    "# На первый взгляд почти не отличается от списка, только скобочки круглые\n",
    "# На них работает всё то, что было выше для списков\n",
    "t = (1, 2, 3)\n",
    "print(t)\n",
    "print(t[0])\n",
    "# Только писать в него нельзя, элементы тапла неизменяемые, так что закомментированная строка ниже упадёт\n",
    "# t[0] = -1\n",
    "\n",
    "# Присвоить повторно при этом можно, но только целиком\n",
    "t = ('a', 'b', 'c')\n",
    "print(t)\n",
    "\n",
    "# Присовить один тапл другому тоже, конечно, можно\n",
    "t2 = t\n",
    "print(t2)\n",
    "\n",
    "# Ещё можно пропускать скобки. Вот так тоже будет тапл:\n",
    "tt = 1, 2, 3\n",
    "print(tt)\n",
    "\n",
    "# Дальше начинается лёгкая магия\n",
    "\n",
    "# Можно распаковать содержимое тапла в несколько переменных\n",
    "# Это часто удобно, но это ладно\n",
    "a, b, c = tt\n",
    "print(a, b)\n",
    "\n",
    "# Но дальше можно написать такое:\n",
    "b, a = a, b\n",
    "# И они правда поменяются местами:\n",
    "print(a, b)\n",
    "\n",
    "\"\"\"\n",
    "Последний пример работает на самом деле так:\n",
    "- то, что справа от равно запаковывается во временный тапл,\n",
    "- этот тапл присваивается таплу слева от равно,\n",
    "- тапл слева от равно распаковыывается в именованные переменные.\n",
    "А синтаксис выглядит лёгкой магией, потому что скобочки у таплов можно не писать.\n",
    "\"\"\""
   ]
  },
  {
   "cell_type": "code",
   "execution_count": null,
   "id": "0c6955df",
   "metadata": {},
   "outputs": [],
   "source": []
  },
  {
   "cell_type": "code",
   "execution_count": null,
   "id": "40622ee0",
   "metadata": {},
   "outputs": [],
   "source": [
    "\"\"\"\n",
    "Ещё на tuples работает такая особенность функций в Python-е\n",
    "\"\"\"\n",
    "\n",
    "# У нас есть функция, она принимает пару параметров (это ок),\n",
    "# а потом она внезапно возвращает два значения через запятую (это как?)\n",
    "def func(a, b):\n",
    "    return a + b, a - b\n",
    "\n",
    "\n",
    "# На самом деле функция возвращает тапл, который можно принять и распаковать\n",
    "x, y = func(1, 2)\n",
    "print(x)\n",
    "print(y)\n",
    "\n",
    "# Ну или не распаковать, а так и оставить таплом\n",
    "q = func(1, 2)\n",
    "print(q)\n",
    "\n",
    "# Но если уж начали распаковывать, то делать это надо с умом\n",
    "# Строчка ниже упадёт - нельзя распаковать 2 значения в 3\n",
    "# i, j, k = func(1, 2)"
   ]
  },
  {
   "cell_type": "code",
   "execution_count": null,
   "id": "80bea3ff",
   "metadata": {},
   "outputs": [],
   "source": []
  },
  {
   "cell_type": "code",
   "execution_count": null,
   "id": "338f1f50",
   "metadata": {},
   "outputs": [],
   "source": [
    "\"\"\"\n",
    "Базовая работа с файлами может быть устроена примерно так\n",
    "\"\"\"\n",
    "\n",
    "# Откроем test.txt на чтение ('r' от 'read')\n",
    "f = open(\"test.txt\", 'r')\n",
    "# Прочитаем весь файл разом в одну строку, тут же выведем её на экран\n",
    "print(f.read())\n",
    "# Закроем файл\n",
    "f.close()\n",
    "\n",
    "# Этот пример, конечно, не очень хорош - мы почему-то считаем, что файл точно откроется.\n",
    "# А если он не откроется, то этот код некрасиво упадёт.\n",
    "# Можно проверить, что вернул open, потом уже работать с файлом\n",
    "\n",
    "\n",
    "# Но чуть более красиво написать так:\n",
    "with open(\"test.txt\", 'r') as f:\n",
    "    print(f.read())\n",
    "\n",
    "\"\"\"\n",
    "Это такой типовой блок:\n",
    "with ... as ...:\n",
    "    ...\n",
    "Мы пытаемся захватить ресурс (открыть файл в данном случае)\n",
    "и выполняем тело блока только в том случае, если захватить ресурс удалось.\n",
    "В конце блока ресурс освободится (в данном случае файл закроется).\n",
    "\"\"\""
   ]
  },
  {
   "cell_type": "code",
   "execution_count": null,
   "id": "c5b56388",
   "metadata": {},
   "outputs": [],
   "source": []
  },
  {
   "cell_type": "code",
   "execution_count": null,
   "id": "91c14aa8",
   "metadata": {},
   "outputs": [],
   "source": [
    "\"\"\"\n",
    "Исключения в Python-е есть, как же без них\n",
    "\"\"\"\n",
    "\n",
    "# Например, если этой попытке чтения входа скормить на вход не int-ы, а строки, то она упадёт\n",
    "# Ошибка будет в духе: ValueError: invalid literal for int() ...\n",
    "a = [int(s) for s in input().split()]\n",
    "\n",
    "# Хотелось бы в таких случаях не умирать на месте, а иметь шанс обработать ошибку.\n",
    "# Для этого нужен try и ловля исключений, как и в других языках.\n",
    "# Если попробовать скормить на вход строки вместо int-ов вот такой конструкции, то она не упадёт,\n",
    "# а попадёт в блок except, в котором можно написать свою логику.\n",
    "try:\n",
    "    a = [int(s) for s in input().split()]\n",
    "except:\n",
    "    pass # pass - служебная конструкция со смыслом \"этот блок пустой, и это так задумано\""
   ]
  },
  {
   "cell_type": "code",
   "execution_count": null,
   "id": "53e138a0",
   "metadata": {},
   "outputs": [],
   "source": []
  },
  {
   "cell_type": "code",
   "execution_count": null,
   "id": "6759de43",
   "metadata": {},
   "outputs": [],
   "source": [
    "# Пусть у нас есть вот такие данные - список таплов.\n",
    "# В моей голове это точки, поля каждой это (x, y, color).\n",
    "a = [(1,2,'red'), (1,0,'blue'), (3,5,'red')]\n",
    "\n",
    "# Если я хочу отсортировать точки по x, это можно сделать примерно так\n",
    "print(sorted(a, key = lambda e: e[0]))\n",
    "\n",
    "# Если хочу сортировку по двум критериям сразу, то так тоже можно.\n",
    "# Например, хочу сортировку сперва по X, потом по Y.\n",
    "# В этот момент оказывается, что ключ для сортировки - тапл на самом деле.\n",
    "print(sorted(a, key = lambda e: (e[0], e[1])))\n",
    "\n",
    "\"\"\"\n",
    "Ещё тут стоит сказать, что key не требует строго лямбду, на самом деле.\n",
    "Там ожидается функция, которая для элемента вернёт ключ.\n",
    "Просто часто проще всего в роли этой функции сразу на месте лямбду и написать.\n",
    "Но именованные функции использовать тоже можно.\n",
    "\"\"\"\n",
    "\n",
    "# Функция, на вход принимает очередной элемент (тапл),\n",
    "# распаковывает его (потому что может), в роли ключа возвращает цвет\n",
    "def color_of_point(p):\n",
    "    x,y,color = p\n",
    "    return color\n",
    "\n",
    "# Примерно аналогично, только ключ не равен какому-то полю, а вычисляется\n",
    "def vector_square_length(p):\n",
    "    x,y,color = p\n",
    "    return x**2 + y**2\n",
    "\n",
    "# А теперь в роли ключа вернём тапл, собрав его вызовами прошлых функций\n",
    "def two_param(p):\n",
    "    return color_of_point(p), -vector_square_length(p)\n",
    "\n",
    "# Сортировка по цвету\n",
    "print(sorted(a, key = color_of_point))\n",
    "\n",
    "# Сортировка по удалённости от координат\n",
    "print(sorted(a, key = vector_square_length))\n",
    "\n",
    "# Творческая сортировка по паре параметров\n",
    "print(sorted(a, key = two_param))"
   ]
  },
  {
   "cell_type": "code",
   "execution_count": null,
   "id": "847e5476",
   "metadata": {},
   "outputs": [],
   "source": []
  },
  {
   "cell_type": "code",
   "execution_count": null,
   "id": "3532b47d",
   "metadata": {},
   "outputs": [],
   "source": [
    "\"\"\"\n",
    "Работа с глобальными переменными в Python несколько специфична.\n",
    "\"\"\"\n",
    "\n",
    "# Пусть у нас есть глобальная переменная.\n",
    "# Это всегда так себе идея. Но пусть есть.\n",
    "TEST = 1\n",
    "\n",
    "# Эта функция хочет читать глобальную переменную - имеет право.\n",
    "def func1():\n",
    "    print(\"Inside func1\", TEST)\n",
    "\n",
    "# Эта функция хочет писать в глобальную переменную.\n",
    "# И как будто ей дали это сделать. Но нет.\n",
    "def func2():\n",
    "    TEST = 10\n",
    "    print(\"Inside func2\", TEST)\n",
    "\n",
    "# А вот эта функция правда сможет писать в глобальную переменную.\n",
    "def func3():\n",
    "    global TEST\n",
    "    TEST = 10\n",
    "    print(\"Inside func3\", TEST)\n",
    "\n",
    "\n",
    "print(\"Initial value\", TEST)\n",
    "func1()\n",
    "\n",
    "print(\"Before func2 call\", TEST)\n",
    "func2()\n",
    "print(\"After func2 call\", TEST)\n",
    "\n",
    "print(\"Before func3 call\", TEST)\n",
    "func3()\n",
    "print(\"After func3 call\", TEST)"
   ]
  },
  {
   "cell_type": "markdown",
   "id": "214fe1cb",
   "metadata": {},
   "source": [
    "### <span style=\"color:#0ab49a\">Примечание.</span> <span style=\"color:#BA77D8\">Интерпретируемость</span> \n"
   ]
  }
 ],
 "metadata": {
  "kernelspec": {
   "display_name": "Python 3",
   "language": "python",
   "name": "python3"
  },
  "language_info": {
   "codemirror_mode": {
    "name": "ipython",
    "version": 3
   },
   "file_extension": ".py",
   "mimetype": "text/x-python",
   "name": "python",
   "nbconvert_exporter": "python",
   "pygments_lexer": "ipython3",
   "version": "3.6.5"
  }
 },
 "nbformat": 4,
 "nbformat_minor": 5
}
