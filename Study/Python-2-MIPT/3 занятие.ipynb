{
 "cells": [
  {
   "cell_type": "markdown",
   "id": "4b9235fe",
   "metadata": {},
   "source": [
    "### <span style=\"color:#0ab49a\">Занятие №3:</span> <span style=\"color:#BA77D8\">ООП в Python</span> \n",
    "\n",
    "![Текст картинки если файл картинки не найден](img/banner.png)"
   ]
  },
  {
   "cell_type": "markdown",
   "id": "1e3029f0",
   "metadata": {},
   "source": [
    "### <span style=\"color:#55628D\">1. Создание класса</span>"
   ]
  },
  {
   "cell_type": "code",
   "execution_count": 40,
   "id": "1245500e-7539-42f6-9e43-08666833f0eb",
   "metadata": {},
   "outputs": [
    {
     "name": "stdout",
     "output_type": "stream",
     "text": [
      "<__main__.MyClass object at 0x7f9e944623e0>\n",
      "8769941824062\n",
      "8769941823576\n"
     ]
    }
   ],
   "source": [
    "\"\"\"\n",
    "ООП в Python-е, разумеется, есть.\n",
    "Более того, все концепции в нём ровно такие же, как были в прошлом году для C++.\n",
    "Поэтому заново обсуждать базовые принципы не будем.\n",
    "Вместо этого сверхсжато посмотрим, \"а как это будет в Python-е\".\n",
    "\"\"\"\n",
    "\n",
    "# Это класс. Пока что пустой. Но уже технически корректный.\n",
    "class MyClass:\n",
    "    pass\n",
    "\n",
    "# И мы уже можем сделать переменную класса MyClass!\n",
    "m = MyClass()\n",
    "print(m)\n",
    "print(m.__hash__())\n",
    "\n",
    "k = MyClass()\n",
    "print(k.__hash__())"
   ]
  },
  {
   "cell_type": "code",
   "execution_count": 3,
   "id": "9282ba22",
   "metadata": {},
   "outputs": [
    {
     "name": "stdout",
     "output_type": "stream",
     "text": [
      "Alpha: __init__ called\n",
      "Alpha: method called\n"
     ]
    }
   ],
   "source": [
    "\"\"\"\n",
    "Как вы, наверное, помните из курса C++ в прошлом году, \n",
    "при использовании правильных конструкций языка деструктор для прикладных классов почти всегда получается пустой.\n",
    "Здесь в целом то же самое. Вам часто нужен __init__, это штатно и ожидаемо.\n",
    "А если вдруг обнаружите себя в ситуации, когда правда обоснованно нужен __del__,\n",
    "почитайте сразу ещё про __enter__ и __exit__ - это логически родственные конструкции,\n",
    "которые придуманы для классов, внутри которых происходит захват и освобождение ресурсов.   \n",
    "\"\"\"\n",
    "\n",
    "# Это тоже класс. Уже не совсем пустой.\n",
    "class Alpha:\n",
    "    # Это *не* конструктор.\n",
    "    # Его обычно воспринимают как конструктор.\n",
    "    # И это даже обычно разумно.\n",
    "    # Но всё-таки это *не* конструктор.\n",
    "    # Это инициализатор экземпляра, уже созданного ранее \"настоящим\" конструктором.\n",
    "    # Лезть внутрь \"настоящего\" конструктора обычно не надо, поэтому есть __init__\n",
    "    # Но если однажды потребуется залезть в \"настоящий\" конструктор, то он называется __new__\n",
    "    def __init__(self):\n",
    "        print(\"Alpha: __init__ called\")\n",
    "\n",
    "    # Это деструктор.\n",
    "    # Тут всё честно, это \"настоящий\" деструктор.\n",
    "    # Из этого следует интересный момент - __del__ отработает, даже если __init__ упадёт.\n",
    "    # И вот этот момент стоит на всякий случай иметь в виду.\n",
    "    def __del__(self):\n",
    "        print(\"Alpha: __del__ called\")\n",
    "\n",
    "    # А это просто некий метод\n",
    "    def do_smth(self):\n",
    "        print(\"Alpha: method called\")\n",
    "\n",
    "\n",
    "a = Alpha()\n",
    "a.do_smth()"
   ]
  },
  {
   "cell_type": "code",
   "execution_count": 4,
   "id": "d054d670-06da-481e-b378-7383e1a77f83",
   "metadata": {},
   "outputs": [
    {
     "name": "stdout",
     "output_type": "stream",
     "text": [
      "Alpha: __del__ called\n"
     ]
    }
   ],
   "source": [
    "a = 1"
   ]
  },
  {
   "cell_type": "code",
   "execution_count": 5,
   "id": "1ad626e8-4d16-4f90-a288-a079ac3e57eb",
   "metadata": {},
   "outputs": [
    {
     "name": "stdout",
     "output_type": "stream",
     "text": [
      "1000 100 a720po\n"
     ]
    }
   ],
   "source": [
    "class Car:\n",
    "    def __init__(self, capacity, speed, number):\n",
    "        self.capacity = capacity\n",
    "        self.speed = speed\n",
    "        self.number = number\n",
    "\n",
    "c = Car(1000, 100, \"a720po\")\n",
    "print(c.capacity, c.speed, c.number)"
   ]
  },
  {
   "cell_type": "markdown",
   "id": "13c46e10",
   "metadata": {},
   "source": [
    "### <span style=\"color:#55628D\">2. Работа с полями класса</span>"
   ]
  },
  {
   "cell_type": "code",
   "execution_count": 6,
   "id": "a3d384b6-2208-4afe-b786-541f855a0e65",
   "metadata": {},
   "outputs": [],
   "source": [
    "# У этого класса будут поля\n",
    "class TestClass:\n",
    "\n",
    "    # Это поле класса. Примерно как static-поле в C++, хотя и не совсем.\n",
    "    foo = 42\n",
    "\n",
    "    # Это конструктор с параметрами\n",
    "    def __init__(self, a, b):\n",
    "        # Возникают ещё два поля класса, теперь уже личные для данного экземпляра.\n",
    "        # Правило хорошего тона - все поля должны возникнуть внутри __init__-а.\n",
    "        # Хотя технически ничто не мешает создать новые поля внутри других методов.\n",
    "        self.bar = a\n",
    "        self.baz = b\n",
    "\n",
    "        # Так тоже можно писать. Это снова таплы, да.\n",
    "        #self.bar, self.baz = a, b\n",
    "\n",
    "\n",
    "# Создадим пару экземпляров класса\n",
    "a = TestClass(1, 2)\n",
    "b = TestClass(3, 4)"
   ]
  },
  {
   "cell_type": "code",
   "execution_count": 7,
   "id": "526bdd77-415e-4c2d-af9f-3dba5a70cbe0",
   "metadata": {},
   "outputs": [
    {
     "name": "stdout",
     "output_type": "stream",
     "text": [
      "foo = 42, bar = 1, baz = 2\n",
      "foo = 42, bar = 3, baz = 4\n"
     ]
    }
   ],
   "source": [
    "# Распечатаем, посмотрим и на поле класса, и на поля экземпляров\n",
    "for c in [a, b]:\n",
    "    print(f\"foo = {c.foo}, bar = {c.bar}, baz = {c.baz}\")"
   ]
  },
  {
   "cell_type": "code",
   "execution_count": 8,
   "id": "0edcb2ed-b609-4c96-8e5b-16932fd1bc0b",
   "metadata": {},
   "outputs": [
    {
     "name": "stdout",
     "output_type": "stream",
     "text": [
      "foo = 24, bar = -1, baz = -2\n",
      "foo = 24, bar = 3, baz = 4\n"
     ]
    }
   ],
   "source": [
    "# Поменяем поле класса\n",
    "TestClass.foo = 24\n",
    "# И поля одного из экземпляров тоже\n",
    "a.bar = -1\n",
    "a.baz = -2\n",
    "\n",
    "# Снова на них посмотрим\n",
    "for c in [a, b]:\n",
    "    print(f\"foo = {c.foo}, bar = {c.bar}, baz = {c.baz}\")"
   ]
  },
  {
   "cell_type": "code",
   "execution_count": 9,
   "id": "cce11f03",
   "metadata": {},
   "outputs": [
    {
     "name": "stdout",
     "output_type": "stream",
     "text": [
      "foo = 88, bar = -1, baz = -2\n",
      "foo = 24, bar = 3, baz = 4\n"
     ]
    }
   ],
   "source": [
    "\"\"\"\n",
    "Интуитивно очевидно, что в полях класса может быть что угодно - в том числе массивы, другие классы и т.д.\n",
    "Так вот, интуиция в этот раз не подвела. И правда может.\n",
    "\"\"\"\n",
    "\n",
    "# Попробуем ещё раз поменять \"квазистатическое\" поле и ещё раз посмотреть на все значения\n",
    "a.foo = 88\n",
    "for c in [a, b]:\n",
    "    print(f\"foo = {c.foo}, bar = {c.bar}, baz = {c.baz}\")"
   ]
  },
  {
   "cell_type": "markdown",
   "id": "752c8c46-f445-4a4e-9020-a452e591b0d2",
   "metadata": {},
   "source": [
    "### <span style=\"color:#48B026\">Контест №02, Задача №1: Машины</span>"
   ]
  },
  {
   "cell_type": "markdown",
   "id": "a0b1c64e",
   "metadata": {},
   "source": [
    "### <span style=\"color:#55628D\">3. Наследование</span>"
   ]
  },
  {
   "cell_type": "code",
   "execution_count": 10,
   "id": "647094a4-f202-418a-b59e-dbd7b3f3de6e",
   "metadata": {},
   "outputs": [
    {
     "name": "stdout",
     "output_type": "stream",
     "text": [
      "a.a = 42\n"
     ]
    }
   ],
   "source": [
    "# Это базовый класс\n",
    "class A:\n",
    "    def __init__(self, v=42):\n",
    "        self.a = v\n",
    "\n",
    "# Создадим базовый класс, посмотрим на поля\n",
    "a = A()\n",
    "print(f\"a.a = {a.a}\")"
   ]
  },
  {
   "cell_type": "code",
   "execution_count": 12,
   "id": "f035144c-7eed-4bb8-9d47-818f1b57df27",
   "metadata": {},
   "outputs": [
    {
     "name": "stdout",
     "output_type": "stream",
     "text": [
      "b.a = 42\n"
     ]
    }
   ],
   "source": [
    "# Это базовый класс\n",
    "class B(A):\n",
    "    pass\n",
    "\n",
    "# Создадим базовый класс, посмотрим на поля\n",
    "b = B()\n",
    "print(f\"b.a = {b.a}\")"
   ]
  },
  {
   "cell_type": "code",
   "execution_count": 13,
   "id": "ed116b3e-6c1a-43cd-98eb-5aa156761837",
   "metadata": {},
   "outputs": [
    {
     "name": "stdout",
     "output_type": "stream",
     "text": [
      "b.a = 1, b.b = -1\n"
     ]
    }
   ],
   "source": [
    "# А это унаследованный от него\n",
    "class B(A):\n",
    "    # Допустим, наследник хочет свой __init__\n",
    "    def __init__(self):\n",
    "        # Тогда на его совести вызвать __init__ родителя,\n",
    "        # иначе логика инита базового класса не выполнится\n",
    "        super().__init__(1)\n",
    "        \n",
    "        # Дальше можно свой дополнительный инит писать\n",
    "        self.b = -1\n",
    "\n",
    "# Аналогично посмотрим на унаследованный\n",
    "b = B()\n",
    "print(f\"b.a = {b.a}, b.b = {b.b}\")"
   ]
  },
  {
   "cell_type": "code",
   "execution_count": 14,
   "id": "3dcfec04-9725-4ef3-845d-6f4b879e9e68",
   "metadata": {},
   "outputs": [
    {
     "name": "stdout",
     "output_type": "stream",
     "text": [
      "c.a = 42\n"
     ]
    }
   ],
   "source": [
    "class C(A):\n",
    "    # Если нет своего __init__, он наследуется с наследуемого класса\n",
    "    pass\n",
    "\n",
    "c = C()\n",
    "print(f\"c.a = {c.a}\")"
   ]
  },
  {
   "cell_type": "code",
   "execution_count": 15,
   "id": "907cd678-9be4-43c9-99cf-5853773fd8ed",
   "metadata": {},
   "outputs": [
    {
     "name": "stdout",
     "output_type": "stream",
     "text": [
      "True\n",
      "True\n"
     ]
    }
   ],
   "source": [
    "# Функция isinstance проверяет принадлежность объекта классу\n",
    "print(isinstance(1, int))\n",
    "print(isinstance(\"abc\", str))"
   ]
  },
  {
   "cell_type": "code",
   "execution_count": 18,
   "id": "f3d2525b-7069-4250-bdcf-a71d599cee32",
   "metadata": {},
   "outputs": [
    {
     "name": "stdout",
     "output_type": "stream",
     "text": [
      "a принадлежит классу A: True\n",
      "a принадлежит классу B: False\n",
      "b принадлежит классу A: True\n",
      "b принадлежит классу B: True\n"
     ]
    }
   ],
   "source": [
    "# Ещё сразу посмотрим на логику того, кто кем является при выполнении кода\n",
    "print(f\"a принадлежит классу A: {isinstance(a, A)}\")\n",
    "print(f\"a принадлежит классу B: {isinstance(a, B)}\")\n",
    "print(f\"b принадлежит классу A: {isinstance(b, A)}\")\n",
    "print(f\"b принадлежит классу B: {isinstance(b, B)}\")"
   ]
  },
  {
   "cell_type": "markdown",
   "id": "3afd71d3-7dbc-4d6c-90fc-eae9be6e9397",
   "metadata": {},
   "source": [
    "### <span style=\"color:#48B026\">Контест №02, Задача №2: Машины v2</span>"
   ]
  },
  {
   "cell_type": "markdown",
   "id": "7b182137-c0ba-48ff-a43f-ffeeb514db31",
   "metadata": {},
   "source": [
    "### <span style=\"color:#48B026\">Контест №02, Задача №3: Копилка</span>"
   ]
  },
  {
   "cell_type": "markdown",
   "id": "b9cc7c5f",
   "metadata": {},
   "source": [
    "### <span style=\"color:#55628D\">4. Куда лезть разрешали и куда не разрешали</span>"
   ]
  },
  {
   "cell_type": "code",
   "execution_count": 19,
   "id": "6c7d57fc-0cf5-46a7-ad7a-a8386d6d01f1",
   "metadata": {},
   "outputs": [
    {
     "name": "stdout",
     "output_type": "stream",
     "text": [
      "Поле a = 42\n",
      "Поле b = 42\n"
     ]
    }
   ],
   "source": [
    "\"\"\"\n",
    "Аналоги public, protected и private есть. Но с нюансами.\n",
    "Синтаксически они основаны на именовании:\n",
    "    - что начинается с __ - то private,\n",
    "    - что начинается с _ - то protected,\n",
    "    - что начинается без подчёркиваний - то public.\n",
    "Но держится всё это на сокрытии имён и порядочнсти участников процесса.\n",
    "\"\"\"\n",
    "\n",
    "# Это базовый класс\n",
    "class A:\n",
    "    def __init__(self, v):\n",
    "        # Это его публичное поле\n",
    "        self.a = v\n",
    "        # Это protected\n",
    "        self._b = v\n",
    "        # А это приватное\n",
    "        self.__c = v\n",
    "\n",
    "a = A(42)\n",
    "print(f\"Поле a = {a.a}\")\n",
    "print(f\"Поле b = {a._b}\")"
   ]
  },
  {
   "cell_type": "code",
   "execution_count": 20,
   "id": "a3be5286-a6c5-4dd8-a9bf-000bd945222e",
   "metadata": {},
   "outputs": [
    {
     "ename": "AttributeError",
     "evalue": "'A' object has no attribute '__c'",
     "output_type": "error",
     "traceback": [
      "\u001b[0;31m---------------------------------------------------------------------------\u001b[0m",
      "\u001b[0;31mAttributeError\u001b[0m                            Traceback (most recent call last)",
      "Cell \u001b[0;32mIn[20], line 1\u001b[0m\n\u001b[0;32m----> 1\u001b[0m \u001b[38;5;28mprint\u001b[39m(\u001b[38;5;124mf\u001b[39m\u001b[38;5;124m\"\u001b[39m\u001b[38;5;124mПоле c = \u001b[39m\u001b[38;5;132;01m{\u001b[39;00m\u001b[43ma\u001b[49m\u001b[38;5;241;43m.\u001b[39;49m\u001b[43m__c\u001b[49m\u001b[38;5;132;01m}\u001b[39;00m\u001b[38;5;124m\"\u001b[39m)\n",
      "\u001b[0;31mAttributeError\u001b[0m: 'A' object has no attribute '__c'"
     ]
    }
   ],
   "source": [
    "print(f\"Поле c = {a.__c}\")"
   ]
  },
  {
   "cell_type": "code",
   "execution_count": 21,
   "id": "b4812623-ef62-4fa7-988b-8dd68ace5c74",
   "metadata": {},
   "outputs": [
    {
     "name": "stdout",
     "output_type": "stream",
     "text": [
      "['_A__c', '__class__', '__delattr__', '__dict__', '__dir__', '__doc__', '__eq__', '__format__', '__ge__', '__getattribute__', '__gt__', '__hash__', '__init__', '__init_subclass__', '__le__', '__lt__', '__module__', '__ne__', '__new__', '__reduce__', '__reduce_ex__', '__repr__', '__setattr__', '__sizeof__', '__str__', '__subclasshook__', '__weakref__', '_b', 'a']\n"
     ]
    }
   ],
   "source": [
    "# Проверьте, что среди атрибутов класса не показаны скрытые\n",
    "print(dir(a))"
   ]
  },
  {
   "cell_type": "code",
   "execution_count": 22,
   "id": "f2012738-972c-4d41-828f-d77277de433c",
   "metadata": {},
   "outputs": [
    {
     "name": "stdout",
     "output_type": "stream",
     "text": [
      "Поле c = 42\n"
     ]
    }
   ],
   "source": [
    "print(f\"Поле c = {a._A__c}\")"
   ]
  },
  {
   "cell_type": "code",
   "execution_count": 25,
   "id": "599c884f-bcf0-4588-aaa7-c74f6b712930",
   "metadata": {},
   "outputs": [
    {
     "name": "stdout",
     "output_type": "stream",
     "text": [
      "42\n",
      "42\n"
     ]
    }
   ],
   "source": [
    "# Это унаследованный класс\n",
    "class B(A):\n",
    "\n",
    "    # Это его публичный метод\n",
    "    def do_some_work(self):\n",
    "        print(self.a)       # Так можно\n",
    "        print(self._b)      # Так тоже\n",
    "        # print(self.__c)    # А так нельзя\n",
    "\n",
    "    # А это приватный\n",
    "    def __secret(self):\n",
    "        print(\"Secret!\")\n",
    "\n",
    "b = B(42)\n",
    "b.do_some_work()"
   ]
  },
  {
   "cell_type": "code",
   "execution_count": 28,
   "id": "8f948d02-ad50-4c16-bdb5-ef3c17e0909d",
   "metadata": {},
   "outputs": [
    {
     "name": "stdout",
     "output_type": "stream",
     "text": [
      "['_A__c', '_B__secret', '__class__', '__delattr__', '__dict__', '__dir__', '__doc__', '__eq__', '__format__', '__ge__', '__getattribute__', '__gt__', '__hash__', '__init__', '__init_subclass__', '__le__', '__lt__', '__module__', '__ne__', '__new__', '__reduce__', '__reduce_ex__', '__repr__', '__setattr__', '__sizeof__', '__str__', '__subclasshook__', '__weakref__', '_b', 'a', 'do_some_work']\n"
     ]
    }
   ],
   "source": [
    "print(dir(b))"
   ]
  },
  {
   "cell_type": "code",
   "execution_count": 27,
   "id": "ffeb2aa0-4df2-47ec-9d8e-ea3eed151e0e",
   "metadata": {},
   "outputs": [
    {
     "name": "stdout",
     "output_type": "stream",
     "text": [
      "Поле c = 42\n"
     ]
    }
   ],
   "source": [
    "print(f\"Поле c = {b._A__c}\")"
   ]
  },
  {
   "cell_type": "code",
   "execution_count": 26,
   "id": "3930a15b-2ce4-415f-b21d-19478c9f508b",
   "metadata": {},
   "outputs": [
    {
     "name": "stdout",
     "output_type": "stream",
     "text": [
      "Secret!\n"
     ]
    }
   ],
   "source": [
    "b._B__secret()"
   ]
  },
  {
   "cell_type": "markdown",
   "id": "c13891a8",
   "metadata": {},
   "source": [
    "### <span style=\"color:#55628D\">5. Перегрузка методов</span>"
   ]
  },
  {
   "cell_type": "code",
   "execution_count": 29,
   "id": "893788c9-41c3-47df-bfae-1d03c8b8c14c",
   "metadata": {},
   "outputs": [
    {
     "name": "stdout",
     "output_type": "stream",
     "text": [
      "Сумма чисел: a + b = 3\n",
      "Сумма строк: a + b = Hello World!\n"
     ]
    }
   ],
   "source": [
    "# Безклассовая перегрузка методов\n",
    "def func(a, b):\n",
    "    if isinstance(a, int) and isinstance(b, int):\n",
    "        print(f\"Сумма чисел: a + b = {a + b}\")\n",
    "    if isinstance(a, str) and isinstance(b, str):\n",
    "        print(f\"Сумма строк: a + b = {a + b}\")\n",
    "\n",
    "func(1, 2)\n",
    "func(\"Hello \", \"World!\")"
   ]
  },
  {
   "cell_type": "code",
   "execution_count": 30,
   "id": "4474d996-7237-4e36-a816-78cba9bd54d9",
   "metadata": {},
   "outputs": [
    {
     "name": "stdout",
     "output_type": "stream",
     "text": [
      "6\n",
      "6\n",
      "5\n"
     ]
    }
   ],
   "source": [
    "# Операции - внутренние методы класса\n",
    "a = 5\n",
    "print(a + 1)\n",
    "print(a.__add__(1))\n",
    "print(a)"
   ]
  },
  {
   "cell_type": "code",
   "execution_count": 31,
   "id": "0e9acb23-d24a-46cd-8205-9937b93637b6",
   "metadata": {},
   "outputs": [
    {
     "name": "stdout",
     "output_type": "stream",
     "text": [
      "True\n",
      "True\n"
     ]
    }
   ],
   "source": [
    "print(a == 5)\n",
    "print(a.__eq__(5))"
   ]
  },
  {
   "cell_type": "code",
   "execution_count": null,
   "id": "a1ea0cee-2f2a-4479-a77b-6db58a1aefb1",
   "metadata": {},
   "outputs": [],
   "source": [
    "print(a)"
   ]
  },
  {
   "cell_type": "code",
   "execution_count": 36,
   "id": "26f28067",
   "metadata": {},
   "outputs": [
    {
     "name": "stdout",
     "output_type": "stream",
     "text": [
      "Instance of class A with 42 inside\n",
      "False\n"
     ]
    }
   ],
   "source": [
    "class A:\n",
    "    def __init__(self, v=42, t=\"asd\"):\n",
    "        self.data = v\n",
    "        self.tag = t\n",
    "\n",
    "    # Это позволяет задать, как будет виден объект глазами, например, в отладчике и консоли\n",
    "    def __repr__(self):\n",
    "        return f\"class A: {self.data}\"\n",
    "\n",
    "    # А это - во что превратится объект при явном кастовании в строку\n",
    "    # Если не задать __str__, для этой цели тоже будет использоваться __repr__\n",
    "    def __str__(self):\n",
    "        return f\"Instance of class A with {self.data} inside\"\n",
    "\n",
    "    # Как проверять экземпляры на равенство\n",
    "    # Это примерно перегрузка оператора ==\n",
    "    def __eq__(self, other):\n",
    "        return self.data == other.data and self.tag == other.tag\n",
    "\n",
    "    # Есть ещё более нишевые служебные методы в духе индексации, получения размера и т.д.\n",
    "\n",
    "    # Немного особняком стоит __hash__\n",
    "    # Он вычисляет хэш для экземпляра класса.\n",
    "    # А этот хэш используется, когда класс должен быть сложен в set или оказаться ключом в dict-е.\n",
    "    # (Под капотом set и dict реализованы как хэш-таблицы. Так что нужен хэш для объекта, чтобы его туда сложить.)\n",
    "    def __hash__(self):\n",
    "        # Здесь сейчас сказано, что хэш считается по таплу, в который включены два поля.\n",
    "        # То есть хэши для двух экземпляров класса будут разные, если значение хотя бы одно из полей у них разное.\n",
    "        # Хэши совпадут, если значения обоих полей совпадёт.\n",
    "        # Логически это как будто очень близко к __eq__, но технически используется для совсем других целей.\n",
    "        return hash((self.data, self.tag))\n",
    "\n",
    "\n",
    "# Попробуйте запускать, меняя __repr__ и __str__\n",
    "a = A()\n",
    "print(a)\n",
    "\n",
    "# А это попробуйте запускать, меняя __eq__ и значения полей классов\n",
    "b = A(42, \"zxc\")\n",
    "print(a == b)"
   ]
  },
  {
   "cell_type": "markdown",
   "id": "5c4dcce8-9e98-49cc-85fe-91afa1630040",
   "metadata": {},
   "source": [
    "---\n",
    "\n",
    "Ещё есть перегрузка следующего:\n",
    "- __ne__(self, other) $-$ a!=b\n",
    "- __lt__(self, other) $-$ a<b\n",
    "- __le__(self, other) $-$ a<=b\n",
    "- __gt__(self, other) $-$ a>b\n",
    "- __ge__(self, other) $-$ a>=b\n",
    "\n",
    "И математику при большом желании тоже можно перегружать\n",
    "- __add__(self, other) $-$ a+b\n",
    "- __mul__(self, other) $-$ a*b\n",
    "- __sub__(self, other) $-$ a-b\n",
    "- __mod__(self, other) $-$ a%b\n",
    "- __truediv__(self, other) $-$ a/b"
   ]
  },
  {
   "cell_type": "markdown",
   "id": "73b0c594",
   "metadata": {},
   "source": [
    "### <span style=\"color:#55628D\">6. Set из классов</span>"
   ]
  },
  {
   "cell_type": "code",
   "execution_count": 47,
   "id": "80ce0f32",
   "metadata": {},
   "outputs": [
    {
     "name": "stdout",
     "output_type": "stream",
     "text": [
      "MyClass образцы со значениями (1; 2; 3)\n",
      "Set: {MyClass образцы со значениями (1; 2; 3)}\n"
     ]
    }
   ],
   "source": [
    "# Есть у нас вот такой класс\n",
    "class MyClass:\n",
    "    def __init__(self, a=0, b=0, c=0):\n",
    "        self.a, self.b, self.c = a, b, c\n",
    "\n",
    "    def __repr__(self):\n",
    "        return f\"MyClass образцы со значениями ({self.a}; {self.b}; {self.c})\"\n",
    "\n",
    "    # Хэш считается только по полю a\n",
    "    def __hash__(self):\n",
    "        return hash(self.a)\n",
    "        \n",
    "    def __eq__(self, other):\n",
    "        if isinstance(other, type(self)):\n",
    "            return self.a == other.a\n",
    "        else:\n",
    "            return self.a == other\n",
    "\n",
    "# То есть хэши вот этих объектов совпадут\n",
    "z = MyClass(1, 2, 3)\n",
    "q = MyClass(1, 8, 42)\n",
    "\n",
    "# Попробуем сложить эти объекты в set (хэши совпадают)\n",
    "s = set()\n",
    "s.add(z)\n",
    "s.add(q)\n",
    "\n",
    "# Обойдём set и напечатаем его содержимое\n",
    "for v in s:\n",
    "    print(v)\n",
    "\n",
    "print(f\"Set: {s}\")\n",
    "\n",
    "# Запустите, посмотрите на вывод, объясните результат"
   ]
  },
  {
   "cell_type": "code",
   "execution_count": 49,
   "id": "c0f50c64-89ea-4128-9357-598dee114428",
   "metadata": {},
   "outputs": [
    {
     "data": {
      "text/plain": [
       "True"
      ]
     },
     "execution_count": 49,
     "metadata": {},
     "output_type": "execute_result"
    }
   ],
   "source": [
    "z == q"
   ]
  },
  {
   "cell_type": "code",
   "execution_count": 50,
   "id": "09fc7820-dd35-4cba-8bfd-9ff731c9fe08",
   "metadata": {},
   "outputs": [
    {
     "data": {
      "text/plain": [
       "True"
      ]
     },
     "execution_count": 50,
     "metadata": {},
     "output_type": "execute_result"
    }
   ],
   "source": [
    "z == 1"
   ]
  },
  {
   "cell_type": "markdown",
   "id": "98aff07e-2e28-40b0-93a3-b3eed35a8e7d",
   "metadata": {},
   "source": [
    "### <span style=\"color:#48B026\">Контест №02, Задача №4: Машины v3</span>\n",
    "### <span style=\"color:#48B026\">Контест №02, Задача №5: Машины v4</span>\n",
    "### <span style=\"color:#48B026\">Контест №02, Задача №6: Гараж</span>"
   ]
  }
 ],
 "metadata": {
  "kernelspec": {
   "display_name": "Python 3 (ipykernel)",
   "language": "python",
   "name": "python3"
  },
  "language_info": {
   "codemirror_mode": {
    "name": "ipython",
    "version": 3
   },
   "file_extension": ".py",
   "mimetype": "text/x-python",
   "name": "python",
   "nbconvert_exporter": "python",
   "pygments_lexer": "ipython3",
   "version": "3.10.12"
  }
 },
 "nbformat": 4,
 "nbformat_minor": 5
}
