{
 "cells": [
  {
   "cell_type": "markdown",
   "id": "47733193",
   "metadata": {},
   "source": [
    "### <span style=\"color:#0ab49a\">Занятие №4:</span> <span style=\"color:#BA77D8\">Модули в Python</span> \n",
    "\n",
    "![Текст картинки если файл картинки не найден](img/banner.png)"
   ]
  },
  {
   "cell_type": "markdown",
   "id": "3074a451",
   "metadata": {},
   "source": [
    "## <span style=\"color:#55628D\">1. Подключение библиотек</span>"
   ]
  },
  {
   "cell_type": "code",
   "execution_count": null,
   "id": "3ac22d1c-a118-4721-9e8b-26ccef965fbc",
   "metadata": {},
   "outputs": [],
   "source": [
    "# Пространство имён\n",
    "print(dir())"
   ]
  },
  {
   "cell_type": "code",
   "execution_count": null,
   "id": "3e42b7c7-4c85-4c06-805f-b12a86652cca",
   "metadata": {},
   "outputs": [],
   "source": [
    "# Импортировать модуль math, но не включать его содержимое в текущее пространство имён\n",
    "# Модуль при этом выполнит всю свою инициализацию (и упадёт, если с ней что-то пойдёт не так)\n",
    "import math\n",
    "# Дальше можно обращаться к содержимому модуля, явно указывая его имя\n",
    "print(math.cos(1))\n",
    "print(math.cos(math.pi))"
   ]
  },
  {
   "cell_type": "code",
   "execution_count": null,
   "id": "7b574ae7-a97f-4322-96a9-416602aa16be",
   "metadata": {},
   "outputs": [],
   "source": [
    "# Импортировать из модуля math конкретную функцию (и включить её в пространство имён)\n",
    "from math import cos\n",
    "# Теперь имя модуля при вызове можно уже не писать\n",
    "print(cos(1))"
   ]
  },
  {
   "cell_type": "code",
   "execution_count": null,
   "id": "e8b3ed9e",
   "metadata": {},
   "outputs": [],
   "source": [
    "# Импортировать всё содержимое модуля (и включить его в пространство имён)\n",
    "from math import *\n",
    "# Теперь можно вызывать всё, что в нём есть, не указывая имя модуля\n",
    "print(sin(1))"
   ]
  },
  {
   "cell_type": "code",
   "execution_count": null,
   "id": "4e0993ba-15f5-4a68-abd0-ce1a4b3be149",
   "metadata": {},
   "outputs": [],
   "source": [
    "# Аналогично можно обращаться со своим кодом из файликов\n",
    "import lesson04.foo\n",
    "lesson04.foo.test()\n",
    "\n",
    "# Строчки ниже упадут.\n",
    "# Потому что в момент import foo модуль foo попробует выполнить импорт некоей grawagra, которой нет.\n",
    "# Важно заметить, что упадёт оно сразу в момент import foo, до попыток его использовать.\n",
    "# Это позитивный момент - модуль в момент импорта должен упасть сразу, а не маскировать будущую проблему."
   ]
  },
  {
   "cell_type": "markdown",
   "id": "dc0c57a1",
   "metadata": {},
   "source": [
    "## <span style=\"color:#55628D\">2. env - окружение</span>"
   ]
  },
  {
   "cell_type": "code",
   "execution_count": null,
   "id": "f99b4f3f-acdc-4029-bc16-55b99eefb54f",
   "metadata": {},
   "outputs": [],
   "source": [
    "# После активации окружения можно смотреть путь к интерпретатору командой which python3.\n",
    "!which python3"
   ]
  },
  {
   "cell_type": "code",
   "execution_count": null,
   "id": "e6858a6f-b9c4-4a91-91f3-bb460f1ab95b",
   "metadata": {},
   "outputs": [],
   "source": [
    "# Ещё иногдаможно смотреть путь к pip-у командой which pip3.\n",
    "# У меня вылезает специфика для Linux.\n",
    "!which pip3"
   ]
  },
  {
   "cell_type": "code",
   "execution_count": 7,
   "id": "7fb417f7-8ed0-4006-87de-276f809d49e7",
   "metadata": {},
   "outputs": [
    {
     "name": "stdout",
     "output_type": "stream",
     "text": [
      "3.10.12 (main, Jun 11 2023, 05:26:28) [GCC 11.4.0]\n"
     ]
    }
   ],
   "source": [
    "import sys\n",
    "\n",
    "# Какой у нас интерпретатор?\n",
    "print(sys.version)"
   ]
  },
  {
   "cell_type": "code",
   "execution_count": 8,
   "id": "f4e2e46b-e07d-4d7a-826f-6151161f0a12",
   "metadata": {},
   "outputs": [
    {
     "name": "stdout",
     "output_type": "stream",
     "text": [
      "/usr/lib/python310.zip\n",
      "/usr/lib/python3.10\n",
      "/usr/lib/python3.10/lib-dynload\n",
      "\n",
      "/home/kodiak/.local/lib/python3.10/site-packages\n",
      "/usr/local/lib/python3.10/dist-packages\n",
      "/usr/lib/python3/dist-packages\n",
      "/usr/lib/python3.10/dist-packages\n"
     ]
    }
   ],
   "source": [
    "# Осмотримся, в какие пути смотрит интерпретатор.\n",
    "for p in sys.path:\n",
    "    print(p)"
   ]
  },
  {
   "cell_type": "code",
   "execution_count": 9,
   "id": "fc72d0a2-0ae8-4f40-80e1-1a23d08c7ec0",
   "metadata": {},
   "outputs": [
    {
     "name": "stdout",
     "output_type": "stream",
     "text": [
      "math\n"
     ]
    }
   ],
   "source": [
    "# Посмотрим на загруженные модули\n",
    "for i in sorted(sys.modules.keys()):\n",
    "    if i in [\"math\", \"numpy\"]:\n",
    "        print(i)"
   ]
  },
  {
   "cell_type": "code",
   "execution_count": 10,
   "id": "4cb9a43b-f928-4281-8f33-e5301635c2b2",
   "metadata": {},
   "outputs": [
    {
     "name": "stdout",
     "output_type": "stream",
     "text": [
      "['/home/kodiak/.local/lib/python3.10/site-packages/numpy']\n"
     ]
    }
   ],
   "source": [
    "# Импортируем какой-нибудь недефолтный модуль\n",
    "import numpy\n",
    "\n",
    "# Посмотрим на конкретный модуль\n",
    "print(sys.modules['numpy'].__path__)"
   ]
  },
  {
   "cell_type": "code",
   "execution_count": 11,
   "id": "34509751-68d4-433d-88ec-3ccca9ae6022",
   "metadata": {},
   "outputs": [
    {
     "name": "stdout",
     "output_type": "stream",
     "text": [
      "Defaulting to user installation because normal site-packages is not writeable\n",
      "Requirement already satisfied: numpy in /home/kodiak/.local/lib/python3.10/site-packages (2.1.2)\n",
      "\u001b[33mWARNING: Error parsing dependencies of libtorrent: Invalid version: '2.0.5-build-libtorrent-rasterbar-qrM5vM-libtorrent-rasterbar-2.0.5-bindings-python'\u001b[0m\u001b[33m\n",
      "\u001b[0m"
     ]
    }
   ],
   "source": [
    "!pip3 install numpy"
   ]
  },
  {
   "cell_type": "markdown",
   "id": "92e02e66",
   "metadata": {},
   "source": [
    "## <span style=\"color:#55628D\">3. Работа с модулями</span>"
   ]
  },
  {
   "cell_type": "markdown",
   "id": "ac87b046",
   "metadata": {},
   "source": [
    "### <span style=\"color:#1DA398\">3.1 Нюансы областей видимости</span>"
   ]
  },
  {
   "cell_type": "code",
   "execution_count": 12,
   "id": "5c7cbf61-9129-4a81-bc7f-3dbc5d12e22f",
   "metadata": {},
   "outputs": [
    {
     "name": "stdout",
     "output_type": "stream",
     "text": [
      "Значение переменной: 5\n"
     ]
    }
   ],
   "source": [
    "# Есть некоторая переменная \n",
    "a = 5\n",
    "\n",
    "# Эта функция просто её печатает\n",
    "def report_value():\n",
    "    global a  # nonlocal\n",
    "    print(\"Значение переменной:\", a)\n",
    "\n",
    "report_value()"
   ]
  },
  {
   "cell_type": "code",
   "execution_count": 13,
   "id": "9b864ec9",
   "metadata": {},
   "outputs": [
    {
     "name": "stdout",
     "output_type": "stream",
     "text": [
      "Current value: 5\n",
      "New value: 6\n",
      "Значение переменной: 6\n"
     ]
    }
   ],
   "source": [
    "# А эта функция печатает и меняет\n",
    "def do_some_work():\n",
    "    global a\n",
    "    print(\"Current value:\", a)\n",
    "    a += 1\n",
    "    print(\"New value:\", a)\n",
    "\n",
    "\n",
    "# Попробуем это всё выполнить\n",
    "do_some_work()\n",
    "report_value()"
   ]
  },
  {
   "cell_type": "markdown",
   "id": "a5824976-87c8-4566-aef7-4d098b1a486c",
   "metadata": {},
   "source": [
    "---"
   ]
  },
  {
   "cell_type": "code",
   "execution_count": 14,
   "id": "f04ef9cf-2fbe-42a4-87e7-163e11f01927",
   "metadata": {},
   "outputs": [
    {
     "name": "stdout",
     "output_type": "stream",
     "text": [
      "Значение переменной: 5\n"
     ]
    }
   ],
   "source": [
    "# Есть некоторая переменная \n",
    "a = 5\n",
    "\n",
    "# Эта функция просто её печатает\n",
    "def report_value():\n",
    "    print(\"Значение переменной:\", a)\n",
    "\n",
    "report_value()"
   ]
  },
  {
   "cell_type": "code",
   "execution_count": 15,
   "id": "cab79c99",
   "metadata": {},
   "outputs": [
    {
     "name": "stdout",
     "output_type": "stream",
     "text": [
      "Current value: 5\n",
      "New value: 6\n",
      "Значение переменной: 6\n"
     ]
    }
   ],
   "source": [
    "# А эта функция печатает и меняет\n",
    "def do_some_work():\n",
    "    # ... явно сказав, что намерена работать с глобальной переменной\n",
    "    global a\n",
    "    print(\"Current value:\", a)\n",
    "    a += 1\n",
    "    print(\"New value:\", a)\n",
    "\n",
    "\n",
    "# Попробуем это всё выполнить\n",
    "do_some_work()\n",
    "report_value()"
   ]
  },
  {
   "cell_type": "markdown",
   "id": "971c0ae6-34a3-4eb5-a22c-ade8fd3320d8",
   "metadata": {},
   "source": [
    "---"
   ]
  },
  {
   "cell_type": "code",
   "execution_count": null,
   "id": "3cdf83ef",
   "metadata": {},
   "outputs": [],
   "source": [
    "def foo():\n",
    "    x = 20\n",
    "\n",
    "    def bar():\n",
    "        nonlocal x\n",
    "        x = 25\n",
    "    \n",
    "    print(\"До вызова функции bar:\", x)\n",
    "    print(\"Вызов bar\")\n",
    "    bar()\n",
    "    print(\"После вызова функции bar:\", x)\n",
    "\n",
    "foo()"
   ]
  },
  {
   "cell_type": "code",
   "execution_count": null,
   "id": "8582b985-372a-4d9f-97c6-451e9ce1db46",
   "metadata": {},
   "outputs": [],
   "source": [
    "print(\"Переменная x в main:\", x)"
   ]
  },
  {
   "cell_type": "markdown",
   "id": "db1421d1",
   "metadata": {},
   "source": [
    "### <span style=\"color:#1DA398\">3.2 Нюансы выполнения и импортирования кода</span>\n",
    "\n",
    "В каталоге **lesson04** следующие файлы:\n",
    "- **very_simple_module.py**<br><br>\n",
    "    def foo(): <br>\n",
    "    ____print(\"Работает функция foo |\", \\_\\_name\\_\\_) <br>\n",
    "    print(\"Работает код верхнего уровня |\", \\_\\_name\\_\\_) <br>\n",
    "    foo()\n",
    "\n",
    "- **very_simple_module_updated.py**<br><br>\n",
    "    def foo():<br>\n",
    "    ____print(\"Сейчас \\_\\_name\\_\\_ =\",  \\_\\_name\\_\\_)<br>\n",
    "    ____print(\"Работает функция foo\")<br><br>\n",
    "    \n",
    "    if \\_\\_name\\_\\_ == \"\\_\\_main\\_\\_\":<br>\n",
    "    ____print(\"Сейчас \\_\\_name\\_\\_ =\",  \\_\\_name\\_\\_)<br>\n",
    "    ____print(\"Работает код верхнего уровня\")<br>\n",
    "    ____foo()"
   ]
  },
  {
   "cell_type": "code",
   "execution_count": null,
   "id": "21099d3d",
   "metadata": {},
   "outputs": [],
   "source": [
    "from lesson04.very_simple_module import foo\n",
    "\n",
    "foo()"
   ]
  },
  {
   "cell_type": "code",
   "execution_count": null,
   "id": "8ff3823f",
   "metadata": {},
   "outputs": [],
   "source": [
    "from lesson04.very_simple_module_updated import foo\n",
    "\n",
    "foo()"
   ]
  },
  {
   "cell_type": "markdown",
   "id": "c7cdda4f",
   "metadata": {},
   "source": [
    "### <span style=\"color:#1DA398\">3.3 Теперь у нас есть пакет из нескольких файлов внутри</span>\n",
    "\n",
    "В каталоге **lesson04/simple_package** следующие файлы:\n",
    "- **bar.py**<br><br>\n",
    "    def bar():<br>\n",
    "    ____print(\"Работает функция bar\")<br><br>\n",
    "\n",
    "- **foo.py**<br><br>\n",
    "    def foo():<br>\n",
    "    ____print(\"Работает функция foo\")\n",
    "    "
   ]
  },
  {
   "cell_type": "code",
   "execution_count": null,
   "id": "6c4b16d4-81b8-4d1a-b68a-413c35d07db4",
   "metadata": {},
   "outputs": [],
   "source": [
    "from lesson04.simple_package import *"
   ]
  },
  {
   "cell_type": "code",
   "execution_count": null,
   "id": "752195da-c421-4be9-8c82-9629239c8a28",
   "metadata": {},
   "outputs": [],
   "source": [
    "# Попробуем как-нибудь достучаться до содержимого\n",
    "simple_package.foo.foo()\n",
    "simple_package.bar.bar()"
   ]
  },
  {
   "cell_type": "code",
   "execution_count": null,
   "id": "1f9359dc-e2ff-4862-8e5e-0aaeccad3ce5",
   "metadata": {},
   "outputs": [],
   "source": [
    "foo.foo()\n",
    "bar.bar()"
   ]
  },
  {
   "cell_type": "code",
   "execution_count": null,
   "id": "ee216ef7",
   "metadata": {},
   "outputs": [],
   "source": [
    "foo()\n",
    "bar()"
   ]
  },
  {
   "cell_type": "code",
   "execution_count": null,
   "id": "d7379021-eb08-44ad-8b25-0cc4d75012ba",
   "metadata": {},
   "outputs": [],
   "source": [
    "import lesson04.simple_package.foo\n",
    "\n",
    "lesson04.simple_package.foo.foo()"
   ]
  },
  {
   "cell_type": "code",
   "execution_count": null,
   "id": "cbbe80ca",
   "metadata": {},
   "outputs": [],
   "source": [
    "from lesson04.simple_package.bar import bar\n",
    "\n",
    "bar()"
   ]
  },
  {
   "cell_type": "markdown",
   "id": "787d97ec-8598-44dd-899b-85d7725c27cc",
   "metadata": {},
   "source": [
    "- Теперь для пакета дописан **\\_\\_init\\_\\_.py** (в каталоге **lesson04/simple_package**):<br><br>\n",
    "    import lesson04.simple_package_updated.foo<br>\n",
    "    import lesson04.simple_package_updated.bar<br><br>\n",
    "    \\_\\_all\\_\\_ = [\"foo\", \"bar\"]"
   ]
  },
  {
   "cell_type": "code",
   "execution_count": 1,
   "id": "32b7f3cd-4a21-4a05-8e70-22c6dd48dece",
   "metadata": {},
   "outputs": [
    {
     "name": "stdout",
     "output_type": "stream",
     "text": [
      "Работает функция foo\n",
      "Работает функция bar\n"
     ]
    }
   ],
   "source": [
    "# Один подход\n",
    "import lesson04.simple_package_updated as simple_package_updated\n",
    "simple_package_updated.foo.foo()\n",
    "simple_package_updated.bar.bar()"
   ]
  },
  {
   "cell_type": "code",
   "execution_count": 2,
   "id": "d2e2552e-229a-4b4e-a0ab-dab541e71292",
   "metadata": {},
   "outputs": [
    {
     "name": "stdout",
     "output_type": "stream",
     "text": [
      "Работает функция foo\n"
     ]
    },
    {
     "ename": "NameError",
     "evalue": "name 'bar' is not defined",
     "output_type": "error",
     "traceback": [
      "\u001b[0;31m---------------------------------------------------------------------------\u001b[0m",
      "\u001b[0;31mNameError\u001b[0m                                 Traceback (most recent call last)",
      "Cell \u001b[0;32mIn[2], line 4\u001b[0m\n\u001b[1;32m      2\u001b[0m \u001b[38;5;28;01mfrom\u001b[39;00m \u001b[38;5;21;01mlesson04\u001b[39;00m\u001b[38;5;21;01m.\u001b[39;00m\u001b[38;5;21;01msimple_package_updated\u001b[39;00m \u001b[38;5;28;01mimport\u001b[39;00m \u001b[38;5;241m*\u001b[39m\n\u001b[1;32m      3\u001b[0m foo\u001b[38;5;241m.\u001b[39mfoo()\n\u001b[0;32m----> 4\u001b[0m \u001b[43mbar\u001b[49m\u001b[38;5;241m.\u001b[39mbar()\n",
      "\u001b[0;31mNameError\u001b[0m: name 'bar' is not defined"
     ]
    }
   ],
   "source": [
    "# Другой подход\n",
    "from lesson04.simple_package_updated import *\n",
    "foo.foo()\n",
    "bar.bar()"
   ]
  },
  {
   "cell_type": "code",
   "execution_count": 3,
   "id": "9cf9fc3c",
   "metadata": {},
   "outputs": [
    {
     "name": "stdout",
     "output_type": "stream",
     "text": [
      "Работает функция bar\n"
     ]
    }
   ],
   "source": [
    "# Третий подход\n",
    "from lesson04.simple_package_updated.bar import bar\n",
    "bar()"
   ]
  },
  {
   "cell_type": "code",
   "execution_count": 4,
   "id": "de9953d7-b163-4c32-9fc2-6fcc4bfbfadd",
   "metadata": {},
   "outputs": [
    {
     "ename": "SyntaxError",
     "evalue": "import * only allowed at module level (1139087675.py, line 2)",
     "output_type": "error",
     "traceback": [
      "\u001b[0;36m  Cell \u001b[0;32mIn[4], line 2\u001b[0;36m\u001b[0m\n\u001b[0;31m    from math import *\u001b[0m\n\u001b[0m                     ^\u001b[0m\n\u001b[0;31mSyntaxError\u001b[0m\u001b[0;31m:\u001b[0m import * only allowed at module level\n"
     ]
    }
   ],
   "source": [
    "def func():\n",
    "    from math import *\n",
    "    print(cos(1))\n",
    "\n",
    "func()"
   ]
  },
  {
   "cell_type": "markdown",
   "id": "c9c608b3-91d7-4f84-b850-1f9f8fa65677",
   "metadata": {},
   "source": [
    "В каталоге **lesson04/stateful_package** следующие файлы:\n",
    "- **\\_\\_init\\_\\_.py**<br><br>\n",
    "    print(\"Инициализация работает, что-то создается и так далее..\")<br>\n",
    "    val = 42<br>\n",
    "\n",
    "    import lesson04.stateful_package.test<br><br>\n",
    "\n",
    "- **test.py**<br><br>\n",
    "    import lesson04.stateful_package as stateful_package<br>\n",
    "\n",
    "    def test():<br>\n",
    "    ____print(f\"Тест: {stateful_package.val}\")<br>"
   ]
  },
  {
   "cell_type": "code",
   "execution_count": 5,
   "id": "225fc3d7",
   "metadata": {},
   "outputs": [
    {
     "name": "stdout",
     "output_type": "stream",
     "text": [
      "Инициализация работает, что-то создается и так далее..\n",
      "Тест: 42\n"
     ]
    }
   ],
   "source": [
    "from lesson04.stateful_package.test import test\n",
    "\n",
    "test()"
   ]
  },
  {
   "cell_type": "code",
   "execution_count": 6,
   "id": "82c53b2f-c0f9-4881-b346-d18bf291327f",
   "metadata": {},
   "outputs": [
    {
     "name": "stdout",
     "output_type": "stream",
     "text": [
      "Тест: 111\n"
     ]
    }
   ],
   "source": [
    "# Можно добавить\n",
    "import lesson04.stateful_package as stateful_package\n",
    "\n",
    "stateful_package.val = 111\n",
    "stateful_package.test.test()"
   ]
  },
  {
   "cell_type": "markdown",
   "id": "23722648",
   "metadata": {},
   "source": [
    "### <span style=\"color:#55628D\">4. Декораторы</span>"
   ]
  },
  {
   "cell_type": "markdown",
   "id": "58aa539a-2f37-442f-925e-34b0ac375125",
   "metadata": {},
   "source": [
    "### <span style=\"color:#1DA398\">4.1 Часть 1</span>"
   ]
  },
  {
   "cell_type": "code",
   "execution_count": null,
   "id": "a3d78fbc",
   "metadata": {},
   "outputs": [],
   "source": [
    "# У нас есть функция, которая принимает на вход другую функцию\n",
    "# (не результат её работы, а именно саму функцию)\n",
    "# и возвращает созданную обёртку над принятой функцией.\n",
    "# Просто потому что может.\n",
    "def test_decorator(func):\n",
    "    def wrapper():\n",
    "        print(\"До вызова func()\")\n",
    "        func()\n",
    "        print(\"После вызова func()\")\n",
    "    return wrapper\n",
    "\n",
    "\n",
    "# А это некая смысловая функция\n",
    "def hello():\n",
    "    print(\"Привет!\")\n",
    "\n",
    "\n",
    "# Теперь test - смысловая функция, обёрнутая некоторым образом\n",
    "test = test_decorator(hello)\n",
    "\n",
    "# Этот самый test можно вызвать как обычно\n",
    "test()"
   ]
  },
  {
   "cell_type": "markdown",
   "id": "f9b36d64-5311-4428-8ade-499a93d523e3",
   "metadata": {},
   "source": [
    "### <span style=\"color:#1DA398\">4.2 Часть 2</span>\n",
    "\n",
    "- синтаксис прикручивания обёртки теперь \"декораторный\""
   ]
  },
  {
   "cell_type": "code",
   "execution_count": null,
   "id": "87927906",
   "metadata": {},
   "outputs": [],
   "source": [
    "def test_decorator(func):\n",
    "    def wrapper():\n",
    "        print(\"До вызова func()\")\n",
    "        func()\n",
    "        print(\"После вызова func()\")\n",
    "    return wrapper\n",
    "\n",
    "\n",
    "@test_decorator\n",
    "def hello():\n",
    "    print(\"Привет!\")\n",
    "\n",
    "\n",
    "hello()"
   ]
  },
  {
   "cell_type": "markdown",
   "id": "86bff8af-cb9a-4c9a-95a0-3bd7bd3d1c66",
   "metadata": {},
   "source": [
    "### <span style=\"color:#1DA398\">4.3 Часть 3</span>\n",
    "\n",
    "- оборачиваемой функции передаются все параметры (при том, что их состав неизвестен);\n",
    "- обёртка передаёт возвращаемое значение вызвавшему;\n",
    "- декоратор пытается изобразить какую-то полезную деятельность."
   ]
  },
  {
   "cell_type": "code",
   "execution_count": null,
   "id": "f9d8eb04",
   "metadata": {},
   "outputs": [],
   "source": [
    "import time\n",
    "\n",
    "def timer(func):\n",
    "    def wrapper_timer(*args, **kwargs):\n",
    "        \n",
    "        start_time = time.perf_counter()\n",
    "        # Выполнение вложенной функции\n",
    "        value = func(*args, **kwargs)\n",
    "        end_time = time.perf_counter()\n",
    "        \n",
    "        run_time = end_time - start_time\n",
    "        print(f'Выполнена функция \"{func.__name__}\" за {run_time:.4f} секунд | Внутреннее значение value: {value}')\n",
    "        return value\n",
    "    return wrapper_timer\n",
    "\n",
    "@timer\n",
    "def do_smth():\n",
    "    time.sleep(0.3)\n",
    "    return 42\n",
    "\n",
    "res = do_smth()\n",
    "print(f\"Возвращённое значение: {res}\")"
   ]
  },
  {
   "cell_type": "code",
   "execution_count": null,
   "id": "81e823e7-9880-4e87-bf6f-f52ad1427246",
   "metadata": {},
   "outputs": [],
   "source": [
    "@timer\n",
    "def not_do_smth():\n",
    "    print(\"Я ничего не делаю!\")\n",
    "\n",
    "res = not_do_smth()\n",
    "print(f\"Возвращённое значение: {res}\")"
   ]
  },
  {
   "cell_type": "markdown",
   "id": "7a52c626-e8b9-41e9-9880-c7f830cfa9f2",
   "metadata": {},
   "source": [
    "### <span style=\"color:#55628D\">На этом моменте следующие темы пройдены:</span>\n",
    "\n",
    "- Типы данных\n",
    "- Условия, циклы\n",
    "- Функции\n",
    "- List comprehensions\n",
    "- Iterable\n",
    "- Сортировка\n",
    "- Видимость переменных\n",
    "- Работа с файлами\n",
    "- Классы\n",
    "- Декораторы"
   ]
  },
  {
   "cell_type": "markdown",
   "id": "b2144f36-b6dd-4782-94db-d6d8ec0ad37b",
   "metadata": {},
   "source": [
    "### <span style=\"color:#48B026\"> Пример контрольной #1 (2020 год)</span>\n",
    "### <span style=\"color:#48B026\"> Пример контрольной #2 (2020 год)</span>"
   ]
  }
 ],
 "metadata": {
  "kernelspec": {
   "display_name": "Python 3 (ipykernel)",
   "language": "python",
   "name": "python3"
  },
  "language_info": {
   "codemirror_mode": {
    "name": "ipython",
    "version": 3
   },
   "file_extension": ".py",
   "mimetype": "text/x-python",
   "name": "python",
   "nbconvert_exporter": "python",
   "pygments_lexer": "ipython3",
   "version": "3.10.12"
  }
 },
 "nbformat": 4,
 "nbformat_minor": 5
}
