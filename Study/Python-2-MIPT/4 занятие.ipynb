{
 "cells": [
  {
   "cell_type": "markdown",
   "id": "47733193",
   "metadata": {},
   "source": [
    "### <span style=\"color:#0ab49a\">Занятие №4:</span> <span style=\"color:#BA77D8\">Модули</span> \n",
    "\n",
    "![Текст картинки если файл картинки не найден](img/banner.png)"
   ]
  },
  {
   "cell_type": "markdown",
   "id": "3074a451",
   "metadata": {},
   "source": [
    "## <span style=\"color:#55628D\">1. Подключение библиотек</span>"
   ]
  },
  {
   "cell_type": "code",
   "execution_count": null,
   "id": "e8b3ed9e",
   "metadata": {},
   "outputs": [],
   "source": [
    "# Импортировать модуль math, но не включать его содержимое в текущее пространство имён\n",
    "# Модуль при этом выполнит всю свою инициализацию (и упадёт, если с ней что-то пойдёт не так)\n",
    "import math\n",
    "# Дальше можно обращаться к содержимому модуля, явно указывая его имя\n",
    "print(math.cos(1))\n",
    "\n",
    "# Импортировать из модуля math конкретную функцию (и включить её в пространство имён)\n",
    "from math import cos\n",
    "# Теперь имя модуля при вызове можно уже не писать\n",
    "print(cos(1))\n",
    "\n",
    "# Импортировать всё содержимое модуля (и включить его в пространство имён)\n",
    "from math import *\n",
    "# Теперь можно вызывать всё, что в нём есть, не указывая имя модуля\n",
    "print(sin(1))\n",
    "\n",
    "\n",
    "# Аналогично можно обращаться со своим кодом из файликов\n",
    "import bar\n",
    "bar.test()\n",
    "\n",
    "# Строчки ниже упадут.\n",
    "# Потому что в момент import foo модуль foo попробует выполнить импорт некоей grawagra, которой нет.\n",
    "# Важно заметить, что упадёт оно сразу в момент import foo, до попыток его использовать.\n",
    "# Это позитивный момент - модуль в момент импорта должен упасть сразу, а не маскировать будущую проблему.\n",
    "#import foo\n",
    "#foo.test()"
   ]
  },
  {
   "cell_type": "markdown",
   "id": "dc0c57a1",
   "metadata": {},
   "source": [
    "## <span style=\"color:#55628D\">2. env</span>"
   ]
  },
  {
   "cell_type": "code",
   "execution_count": null,
   "id": "b1b7b984",
   "metadata": {},
   "outputs": [],
   "source": [
    "\"\"\"\n",
    "Это невероятно краткий конспект.\n",
    "Потому что смысл был не в коде, а в том, что вокруг этого кода происходит.\n",
    "В этом конспекте по сути только ключевые точки, на которые смотреть, изучая окружение.\n",
    "\"\"\"\n",
    "\n",
    "# После активации окружения я смотрел путь к интерпретатору командой which python3.\n",
    "# Ещё иногда смотрел путь к pip-у командой which pip3.\n",
    "# Это, конечно, было специфично для Linux.\n",
    "\n",
    "import sys\n",
    "\n",
    "# Какой у нас интерпретатор?\n",
    "print(\"=== sys.version ===\")\n",
    "print(sys.version)\n",
    "\n",
    "# Осмотримся, в какие пути смотрит интерпретатор.\n",
    "print(\"\\n=== sys.path ===\")\n",
    "for p in sys.path:\n",
    "    print(p)\n",
    "\n",
    "# Посмотрим на загруженные модули\n",
    "# (В демке вывод был другой, но суть sys.modules, конечно, та же.)\n",
    "print(\"\\n=== sys.modules ===\")\n",
    "print(\" \".join(sys.modules.keys()))\n",
    "\n",
    "# Импортируем какой-нибудь недефолтный модуль\n",
    "# (В демке мы его ещё ставили перед этим.)\n",
    "import requests\n",
    "\n",
    "# Посмотрим на конкретный модуль\n",
    "# (В демке не было точечного указания __path__, но суть от этого не меняется.)\n",
    "print(\"\\n=== requests module path ===\")\n",
    "print(sys.modules['requests'].__path__)\n",
    "\n",
    "\"\"\"\n",
    "Вживую мы смотрели на:\n",
    "- окружение с системным python-ом,\n",
    "- окружение, которое принесла anaconda,\n",
    "- venv, созданный системным python-ом.\n",
    "Можете посмотреть ещё какие-нибудь вариации при желании.\n",
    "\"\"\""
   ]
  },
  {
   "cell_type": "markdown",
   "id": "92e02e66",
   "metadata": {},
   "source": [
    "## <span style=\"color:#55628D\">3. Работа с модулями</span>"
   ]
  },
  {
   "cell_type": "markdown",
   "id": "ac87b046",
   "metadata": {},
   "source": [
    "### <span style=\"color:#1DA398\">3.1 Нюансы областей видимости</span>"
   ]
  },
  {
   "cell_type": "code",
   "execution_count": null,
   "id": "9b864ec9",
   "metadata": {},
   "outputs": [],
   "source": [
    "\"\"\"\n",
    "Нюансы областей видимости\n",
    "\"\"\"\n",
    "\n",
    "# Есть некоторая переменная \n",
    "a = 5\n",
    "\n",
    "# Эта функция просто её печатает\n",
    "def report_value():\n",
    "    print(\"The value is:\", a)\n",
    "\n",
    "# А эта функция печатает и меняет\n",
    "def do_some_work():\n",
    "    print(\"Current value:\", a)\n",
    "    a += 1\n",
    "    print(\"New value:\", a)\n",
    "\n",
    "\n",
    "# Попробуем это всё выполнить\n",
    "report_value()\n",
    "do_some_work()\n",
    "report_value()"
   ]
  },
  {
   "cell_type": "code",
   "execution_count": null,
   "id": "cab79c99",
   "metadata": {},
   "outputs": [],
   "source": [
    "\"\"\"\n",
    "Нюансы областей видимости\n",
    "\"\"\"\n",
    "\n",
    "# Есть некоторая переменная \n",
    "a = 5\n",
    "\n",
    "# Эта функция просто её печатает\n",
    "def report_value():\n",
    "    print(\"The value is:\", a)\n",
    "\n",
    "# А эта функция печатает и меняет\n",
    "def do_some_work():\n",
    "    # ... явно сказав, что намерена работать с глобальной переменной\n",
    "    global a\n",
    "    print(\"Current value:\", a)\n",
    "    a += 1\n",
    "    print(\"New value:\", a)\n",
    "\n",
    "\n",
    "# Попробуем это всё выполнить\n",
    "report_value()\n",
    "do_some_work()\n",
    "report_value()"
   ]
  },
  {
   "cell_type": "code",
   "execution_count": null,
   "id": "3cdf83ef",
   "metadata": {},
   "outputs": [],
   "source": [
    "\"\"\"\n",
    "Нюансы областей видимости\n",
    "\"\"\"\n",
    "\n",
    "def foo():\n",
    "    x = 20\n",
    "\n",
    "    def bar():\n",
    "        global x\n",
    "        x = 25\n",
    "    \n",
    "    print(\"Before calling bar:\", x)\n",
    "    print(\"Calling bar now\")\n",
    "    bar()\n",
    "    print(\"After calling bar:\", x)\n",
    "\n",
    "foo()\n",
    "print(\"x in main:\", x)"
   ]
  },
  {
   "cell_type": "markdown",
   "id": "db1421d1",
   "metadata": {},
   "source": [
    "### <span style=\"color:#1DA398\">3.2 Нюансы выполнения и импортирования кода</span>\n",
    "#### <span style=\"color:#7E65A7\">Это нужно выполнить и посмотреть на результат. Потом подумать, почему так вышло.</span>"
   ]
  },
  {
   "cell_type": "code",
   "execution_count": null,
   "id": "21099d3d",
   "metadata": {},
   "outputs": [],
   "source": [
    "from lesson04.very_simple_module import foo\n",
    "\n",
    "foo()"
   ]
  },
  {
   "cell_type": "code",
   "execution_count": null,
   "id": "8ff3823f",
   "metadata": {},
   "outputs": [],
   "source": [
    "from lesson04.very_simple_module_updated import foo\n",
    "\n",
    "foo()"
   ]
  },
  {
   "cell_type": "markdown",
   "id": "c7cdda4f",
   "metadata": {},
   "source": [
    "### <span style=\"color:#1DA398\">3.3 Теперь у нас есть пакет из нескольких файлов внутри</span>"
   ]
  },
  {
   "cell_type": "code",
   "execution_count": null,
   "id": "ee216ef7",
   "metadata": {},
   "outputs": [],
   "source": [
    "from simple_package import *\n",
    "\n",
    "# ... и попробуем как-нибудь достучаться до содержимого\n",
    "simple_package.foo.foo()\n",
    "simple_package.bar.bar()\n",
    "foo.foo()\n",
    "bar.bar()\n",
    "foo()\n",
    "bar()"
   ]
  },
  {
   "cell_type": "code",
   "execution_count": null,
   "id": "cbbe80ca",
   "metadata": {},
   "outputs": [],
   "source": [
    "import simple_package.foo\n",
    "from simple_package import bar\n",
    "\n",
    "simple_package.foo.foo()\n",
    "bar.bar()"
   ]
  },
  {
   "cell_type": "code",
   "execution_count": null,
   "id": "9cf9fc3c",
   "metadata": {},
   "outputs": [],
   "source": [
    "\"\"\"\n",
    "Теперь для пакета дописан __init__.py\n",
    "\"\"\"\n",
    "\n",
    "# Один подход\n",
    "import simple_package_updated\n",
    "simple_package_updated.foo.foo()\n",
    "simple_package_updated.bar.bar()\n",
    "\n",
    "# Другой подход\n",
    "#from simple_package_updated import *\n",
    "#foo.foo()\n",
    "#bar.bar()\n",
    "\n",
    "# Третий подход\n",
    "#from simple_package_updated.bar import bar\n",
    "#bar()\n",
    "\n",
    "\"\"\"\n",
    "Попробуйте поменять содержимое __init__.py и посмотреть, что на что влияет \n",
    "\"\"\""
   ]
  },
  {
   "cell_type": "code",
   "execution_count": null,
   "id": "225fc3d7",
   "metadata": {},
   "outputs": [],
   "source": [
    "from stateful_package.test import test\n",
    "\n",
    "test()\n",
    "\n",
    "# Можно добавить\n",
    "#import stateful_package\n",
    "#stateful_package.val = 111\n",
    "#stateful_package.test.test()"
   ]
  },
  {
   "cell_type": "markdown",
   "id": "23722648",
   "metadata": {},
   "source": [
    "### <span style=\"color:#55628D\">4. Декораторы</span>"
   ]
  },
  {
   "cell_type": "code",
   "execution_count": null,
   "id": "a3d78fbc",
   "metadata": {},
   "outputs": [],
   "source": [
    "\"\"\"\n",
    "Изнанка декораторов, часть 1.\n",
    "\"\"\"\n",
    "\n",
    "# У нас есть функция, которая принимает на вход другую функцию\n",
    "# (не результат её работы, а именно саму функцию)\n",
    "# и возвращает созданную обёртку над принятой функцией.\n",
    "# Просто потому что может.\n",
    "def test_decorator(func):\n",
    "    def wrapper():\n",
    "        print(\"Before the call\")\n",
    "        func()\n",
    "        print(\"After the call\")\n",
    "    return wrapper\n",
    "\n",
    "\n",
    "# А это некая смысловая функция\n",
    "def hello():\n",
    "    print(\"Hello\")\n",
    "\n",
    "\n",
    "# Теперь test - смысловая функция, обёрнутая некоторым образом\n",
    "test = test_decorator(hello)\n",
    "\n",
    "# Этот самый test можно вызвать как обычно\n",
    "test()"
   ]
  },
  {
   "cell_type": "code",
   "execution_count": null,
   "id": "87927906",
   "metadata": {},
   "outputs": [],
   "source": [
    "\"\"\"\n",
    "Изнанка декораторов, часть 2.\n",
    "Здесь происходит всё ровно то же самое.\n",
    "Только синтаксис прикручивания обёртки теперь \"декораторный\".\n",
    "\"\"\"\n",
    "\n",
    "def test_decorator(func):\n",
    "    def wrapper():\n",
    "        print(\"Before the call\")\n",
    "        func()\n",
    "        print(\"After the call\")\n",
    "    return wrapper\n",
    "\n",
    "\n",
    "@test_decorator\n",
    "def hello():\n",
    "    print(\"Hello\")\n",
    "\n",
    "\n",
    "hello()"
   ]
  },
  {
   "cell_type": "code",
   "execution_count": null,
   "id": "f9d8eb04",
   "metadata": {},
   "outputs": [],
   "source": [
    "\"\"\"\n",
    "Изнанка декораторов, часть 3.\n",
    "А здесь всё то же самое, но чуть объёмнее:\n",
    "- оборачиваемой функции передаются все параметры (при том, что их состав неизвестен);\n",
    "- обёртка передаёт возвращаемое значение вызвавшему;\n",
    "- декоратор пытается изобразить какую-то полезную деятельность.\n",
    "\"\"\"\n",
    "\n",
    "import time\n",
    "\n",
    "\n",
    "def timer(func):\n",
    "    def wrapper_timer(*args, **kwargs):\n",
    "        start_time = time.perf_counter()\n",
    "        value = func(*args, **kwargs)\n",
    "        end_time = time.perf_counter()\n",
    "        run_time = end_time - start_time\n",
    "        print(f\"Finished {func.__name__!r} in {run_time:.4f} secs\")\n",
    "        return value\n",
    "    return wrapper_timer\n",
    "\n",
    "\n",
    "@timer\n",
    "def do_smth():\n",
    "    time.sleep(0.1)\n",
    "    return 42\n",
    "\n",
    "\n",
    "res = do_smth()\n",
    "print(res)"
   ]
  }
 ],
 "metadata": {
  "kernelspec": {
   "display_name": "Python 3",
   "language": "python",
   "name": "python3"
  },
  "language_info": {
   "codemirror_mode": {
    "name": "ipython",
    "version": 3
   },
   "file_extension": ".py",
   "mimetype": "text/x-python",
   "name": "python",
   "nbconvert_exporter": "python",
   "pygments_lexer": "ipython3",
   "version": "3.6.5"
  }
 },
 "nbformat": 4,
 "nbformat_minor": 5
}
