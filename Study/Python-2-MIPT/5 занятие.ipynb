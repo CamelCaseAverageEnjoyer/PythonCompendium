{
 "cells": [
  {
   "cell_type": "markdown",
   "id": "d1fc11c3",
   "metadata": {},
   "source": [
    "### <span style=\"color:#0ab49a\">Занятие №5:</span> <span style=\"color:#BA77D8\">Рисовашки</span> \n",
    "\n",
    "![Текст картинки если файл картинки не найден](img/banner.png)"
   ]
  },
  {
   "cell_type": "markdown",
   "id": "3616ea1a",
   "metadata": {},
   "source": [
    "### <span style=\"color:#55628D\">1. Знакомство с Matplotlib</span>"
   ]
  },
  {
   "cell_type": "code",
   "execution_count": null,
   "id": "a940773f",
   "metadata": {},
   "outputs": [],
   "source": [
    "# Импортируем базовый кусочек mpl\n",
    "import matplotlib.pyplot as plt\n",
    "\n",
    "# Это будут наши данные\n",
    "x = [1, 2, 3, 4]\n",
    "y = [7, 12, 56, 8]\n",
    "\n",
    "# Построим график\n",
    "plt.plot(x, y)\n",
    "# И покажем его\n",
    "plt.show()"
   ]
  },
  {
   "cell_type": "markdown",
   "id": "4ac96980",
   "metadata": {},
   "source": [
    "### <span style=\"color:#55628D\">2. Стили</span>"
   ]
  },
  {
   "cell_type": "code",
   "execution_count": null,
   "id": "5cddfec4",
   "metadata": {},
   "outputs": [],
   "source": [
    "import matplotlib.pyplot as plt\n",
    "\n",
    "# Это будет X\n",
    "x = [2 * i / 100 for i in range(100)]\n",
    "# А это три штуки y(x)\n",
    "y1 = [i for i in x]\n",
    "y2 = [i**2 for i in x]\n",
    "y3 = [i**3 for i in x]\n",
    "\n",
    "# Построим графики, указав названия\n",
    "plt.plot(x, y1, label='linear')\n",
    "plt.plot(x, y2, label='quadratic')\n",
    "plt.plot(x, y3, label='cubic')\n",
    "\n",
    "# Подпишем оси\n",
    "plt.xlabel('x label')\n",
    "plt.ylabel('y label')\n",
    "# И график целиком\n",
    "plt.title(\"Simple Plot\")\n",
    "# И легенду нарисуем, чтобы было ясно, кто есть кто\n",
    "plt.legend()\n",
    "\n",
    "plt.show()"
   ]
  },
  {
   "cell_type": "code",
   "execution_count": null,
   "id": "b6d28f51",
   "metadata": {},
   "outputs": [],
   "source": [
    "import matplotlib.pyplot as plt\n",
    "\n",
    "# Теперь сделаем ровно то же самое,\n",
    "# но общаться с mpl будем в ООП-шном стиле\n",
    "\n",
    "x = [2 * i / 100 for i in range(100)]\n",
    "y1 = [i for i in x]\n",
    "y2 = [i**2 for i in x]\n",
    "y3 = [i**3 for i in x]\n",
    "\n",
    "# Попросим создать изображение (fig) с одним графиком на ней (ax)\n",
    "fig, ax = plt.subplots()\n",
    "\n",
    "# Полученный ax - объект со смыслом \"график\" (на самом деле \"axes\" - \"оси\").\n",
    "# Построим всё то же самое, вызывая его методы.\n",
    "ax.plot(x, y1, label='linear')\n",
    "ax.plot(x, y2, label='quadratic')\n",
    "ax.plot(x, y3, label='cubic')\n",
    "\n",
    "ax.set_xlabel('x label')\n",
    "ax.set_ylabel('y label')\n",
    "ax.set_title(\"Simple Plot\")\n",
    "ax.legend()\n",
    "\n",
    "plt.show()\n",
    "\n",
    "# В каком стиле общаться с mpl - дело вкуса.\n",
    "# Только смешивать код разных стилей не стоит."
   ]
  },
  {
   "cell_type": "code",
   "execution_count": 1,
   "id": "7aaf0312",
   "metadata": {},
   "outputs": [
    {
     "data": {
      "image/png": "[encoded data removed]",
      "text/plain": [
       "<Figure size 432x288 with 1 Axes>"
      ]
     },
     "metadata": {
      "needs_background": "light"
     },
     "output_type": "display_data"
    }
   ],
   "source": [
    "import matplotlib.pyplot as plt\n",
    "\n",
    "x = [2 * i / 10 for i in range(10)]\n",
    "y1 = [i for i in x]\n",
    "y2 = [i**2 for i in x]\n",
    "y3 = [i**3 for i in x]\n",
    "\n",
    "fig, ax = plt.subplots()\n",
    "# Немного поэкспериментируем со стилями самих графиков\n",
    "ax.plot(x, y1, label='linear', marker='o', linestyle='-', color='red', linewidth=1)\n",
    "ax.plot(x, y2, label='quadratic', marker='v', linestyle='--', color='green', linewidth=1)\n",
    "ax.plot(x, y3, label='cubic', marker='^', linestyle='-.', color='black', linewidth=1)\n",
    "ax.legend()\n",
    "\n",
    "plt.show()"
   ]
  },
  {
   "cell_type": "markdown",
   "id": "5e1715e8",
   "metadata": {},
   "source": [
    "### <span style=\"color:#55628D\">3. Подграфики</span>"
   ]
  },
  {
   "cell_type": "code",
   "execution_count": null,
   "id": "11e1f3dd",
   "metadata": {},
   "outputs": [],
   "source": [
    "import matplotlib.pyplot as plt\n",
    "\n",
    "x = [2 * i / 100 for i in range(100)]\n",
    "y1 = [i for i in x]\n",
    "y2 = [i**2 for i in x]\n",
    "y3 = [i**3 for i in x]\n",
    "\n",
    "# А теперь создадим одно изображение, на котором будет несколько графиков\n",
    "fig, axs = plt.subplots(nrows=1, ncols=3)\n",
    "# Теперь в axs - набор \"осей\", в кокторых мы построим свои y(x) по отдельности\n",
    "axs[0].plot(x, y1, label='linear')\n",
    "axs[1].plot(x, y2, label='quadratic')\n",
    "axs[2].plot(x, y3, label='cubic')\n",
    "\n",
    "# Можно при желании перебирать оси в цикле, иногда это удобно\n",
    "for ax in axs:\n",
    "    ax.set_xlabel('x label')\n",
    "    ax.set_ylabel('y label')\n",
    "    ax.legend()\n",
    "    ax.set_title(\"Smth\")\n",
    "\n",
    "# Всё изображение целиком тоже подпишем\n",
    "fig.suptitle(\"Several subplots\", size=18)\n",
    "\n",
    "plt.show()"
   ]
  },
  {
   "cell_type": "markdown",
   "id": "6a858b4c",
   "metadata": {},
   "source": [
    "### <span style=\"color:#55628D\">4. Диаграммы</span>"
   ]
  },
  {
   "cell_type": "code",
   "execution_count": 2,
   "id": "d804a049",
   "metadata": {},
   "outputs": [
    {
     "data": {
      "image/png": "[encoded data removed]",
      "text/plain": [
       "<Figure size 432x288 with 1 Axes>"
      ]
     },
     "metadata": {
      "needs_background": "light"
     },
     "output_type": "display_data"
    }
   ],
   "source": [
    "import matplotlib.pyplot as plt\n",
    "\n",
    "# Это наши данные\n",
    "data = {'alpha': 6, 'bravo': 12, 'charlie': 11, 'donny': 13}\n",
    "\n",
    "# Барчарт строится немного неочевидным образом. Это не самая сильная сторона mpl.\n",
    "\n",
    "# Это номера столбиков (\"координаты по ОХ\")\n",
    "bar_numbers = range(len(data))\n",
    "# Это подписи столбиков\n",
    "labels = list(data.keys())\n",
    "# Это значения столбиков\n",
    "values = list(data.values())\n",
    "\n",
    "fig, ax = plt.subplots()\n",
    "\n",
    "# Сама картинка барчарта строится из номеров столбиков и их значений\n",
    "ax.bar(bar_numbers, values)\n",
    "# Потом на оси ОХ задаются положения отсечек с подписями\n",
    "ax.set_xticks(bar_numbers)\n",
    "# И текст этих подписей\n",
    "ax.set_xticklabels(labels)\n",
    "\n",
    "plt.show()"
   ]
  },
  {
   "cell_type": "markdown",
   "id": "b33a4e2b",
   "metadata": {},
   "source": [
    "### <span style=\"color:#55628D\">5. Сохранение изображения</span>"
   ]
  },
  {
   "cell_type": "code",
   "execution_count": null,
   "id": "7e598bd5",
   "metadata": {},
   "outputs": [],
   "source": [
    "import matplotlib.pyplot as plt\n",
    "\n",
    "x = [1, 2, 3, 4]\n",
    "y = [7, 12, 56, 8]\n",
    "\n",
    "fig, ax = plt.subplots()\n",
    "\n",
    "ax.plot(x, y)\n",
    "\n",
    "# Построенный график можно сохранить вместо показа на экране\n",
    "plt.savefig(\"test.png\")"
   ]
  },
  {
   "cell_type": "markdown",
   "id": "8c1d4feb",
   "metadata": {},
   "source": [
    "### <span style=\"color:#0ab49a\">Примечание №1.</span> <span style=\"color:#BA77D8\">Анимация</span> \n",
    "\n"
   ]
  },
  {
   "cell_type": "markdown",
   "id": "1d8846ec",
   "metadata": {},
   "source": [
    "### <span style=\"color:#0ab49a\">Примечание №2.</span> <span style=\"color:#BA77D8\">Plotly, Vedo</span> \n",
    "\n"
   ]
  }
 ],
 "metadata": {
  "kernelspec": {
   "display_name": "Python 3",
   "language": "python",
   "name": "python3"
  },
  "language_info": {
   "codemirror_mode": {
    "name": "ipython",
    "version": 3
   },
   "file_extension": ".py",
   "mimetype": "text/x-python",
   "name": "python",
   "nbconvert_exporter": "python",
   "pygments_lexer": "ipython3",
   "version": "3.6.5"
  }
 },
 "nbformat": 4,
 "nbformat_minor": 5
}
