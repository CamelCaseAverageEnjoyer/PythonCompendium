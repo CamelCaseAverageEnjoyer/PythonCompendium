{
 "cells": [
  {
   "cell_type": "markdown",
   "id": "d1fc11c3",
   "metadata": {},
   "source": [
    "### <span style=\"color:#0ab49a\">Занятие №5:</span> <span style=\"color:#BA77D8\">Немного чистой архитектуры</span> \n",
    "\n",
    "![](img/banner.png)"
   ]
  },
  {
   "cell_type": "markdown",
   "id": "ad5fb53b-d55c-4e75-8140-4616d1968cc2",
   "metadata": {},
   "source": [
    "> Каждая минута, потраченная на организацию своей деятельности, экономит вам целый час\n",
    ">> Бенджамин Франклин"
   ]
  },
  {
   "cell_type": "markdown",
   "id": "3616ea1a",
   "metadata": {},
   "source": [
    "### <span style=\"color:#55628D\">1. Выводы из предыдущего занятия</span>\n",
    "\n",
    "1. Большой код можно и нужно разбивать на модули; модули включают друг друга с помощью *import*\n",
    "2. Множество модулей можно импортировать скопом с помощью *\\_\\_init\\_\\_.py*\n",
    "3. При взаимном импорте модулей со стороны Python идёт \"тонкая настройка\", которую можно пониимать или избегать\n",
    "\n",
    "**Это ответы на вопросы \"Как делать можно\". А как делать надо/не надо?**\n",
    "\n",
    "#### <span style=\"color:#1DA398\">Разделение проекта на уровни</span>\n",
    "\n",
    "![](img/pure_architecure.jpeg)\n",
    "![](img/pure_architecture.png)"
   ]
  },
  {
   "cell_type": "markdown",
   "id": "3da3ed43-59ba-4b63-bbf8-750ebf94b815",
   "metadata": {},
   "source": [
    "#### <span style=\"color:#1DA398\">Пример: комплекс ориентации и навигации (КОН)</span>"
   ]
  },
  {
   "cell_type": "markdown",
   "id": "05720cec-452d-411d-90a4-ceef843ceb7e",
   "metadata": {},
   "source": [
    "![](img/КОН.jpg)"
   ]
  },
  {
   "cell_type": "markdown",
   "id": "9677e3e7-793d-413a-adcb-9273f9f93c90",
   "metadata": {},
   "source": [
    "### <span style=\"color:#55628D\">2. Принципы SOLID</span>"
   ]
  },
  {
   "cell_type": "markdown",
   "id": "ec2174b4-14ce-414f-86d1-ae16f145b48f",
   "metadata": {},
   "source": [
    "#### <span style=\"color:#1DA398\">2.1 Принцип единственной ответственности</span>\n",
    "##### <span style=\"color:#737eb5\">У каждого класса только 1 ответственность; у него нет других обязанностей</span>\n",
    "**Пример:** калькулятор, который достаёт числа из файла и записывает в файл"
   ]
  },
  {
   "cell_type": "code",
   "execution_count": null,
   "id": "27beb8d2-110b-4307-b1db-510235337661",
   "metadata": {},
   "outputs": [],
   "source": [
    "# Плохой пример\n",
    "class CountManagment_And_FileManagment:\n",
    "    def __init__(self, name_save, name_load):\n",
    "        self.a = None\n",
    "        self.b = None\n",
    "        self.c = None\n",
    "        self.name_save = name_save\n",
    "        self.name_load = name_load\n",
    "\n",
    "    def load(self):\n",
    "        with open(self.name_load, \"r\") as f:\n",
    "            ab = f.read().split()\n",
    "        self.a = int(ab[0])\n",
    "        self.b = int(ab[1])\n",
    "\n",
    "    def save(self):\n",
    "        with open(self.name_save, \"w\") as f:\n",
    "            f.write(self.c)\n",
    "\n",
    "    def sum(self):\n",
    "        self.c = self.a + self.b"
   ]
  },
  {
   "cell_type": "code",
   "execution_count": null,
   "id": "aaf11da8-499e-464b-b731-86021bc65f17",
   "metadata": {},
   "outputs": [],
   "source": [
    "# Хороший пример\n",
    "class CountManagment:\n",
    "    def __init__(self):\n",
    "        self.a = None\n",
    "        self.b = None\n",
    "        self.c = None\n",
    "\n",
    "    def sum(self):\n",
    "        self.c = self.a + self.b\n",
    "\n",
    "\n",
    "class FileManagment:\n",
    "    def __init__(self, name_save, name_load):\n",
    "        self.name_save = name_save\n",
    "        self.name_load = name_load\n",
    "\n",
    "    def load(self, counter: CountManagment):\n",
    "        with open(self.name_load, \"r\") as f:\n",
    "            ab = f.read().split()\n",
    "        counter.a = int(ab[0])\n",
    "        counter.b = int(ab[1])\n",
    "\n",
    "    def save(self, counter: CountManagment):\n",
    "        with open(self.name_save, \"w\") as f:\n",
    "            f.write(counter.c)"
   ]
  },
  {
   "cell_type": "markdown",
   "id": "1fe499c6-b949-4acc-851e-96751a9a8784",
   "metadata": {},
   "source": [
    "#### <span style=\"color:#1DA398\">2.2 Принцип открытости/закрытости</span>\n",
    "##### <span style=\"color:#737eb5\">Сущности (классы, модули, функции) октрыты для расширения, но закрыты для изменений</span>\n",
    "**Пример:** рассчёт физических величин из констант"
   ]
  },
  {
   "cell_type": "code",
   "execution_count": null,
   "id": "71e6a629-626e-49b7-adad-22a3bc345215",
   "metadata": {},
   "outputs": [],
   "source": [
    "# Плохой пример\n",
    "def get_circle_len(r):\n",
    "    pi = 3.1415\n",
    "    return 2 * pi * r"
   ]
  },
  {
   "cell_type": "code",
   "execution_count": null,
   "id": "1828b01d-6720-486a-abe6-a7544f92f000",
   "metadata": {},
   "outputs": [],
   "source": [
    "# Хороший пример\n",
    "import math\n",
    "pi_1 = 3.1415\n",
    "pi_2 = math.pi\n",
    "\n",
    "def get_circle_len(r, pi):\n",
    "    return 2 * pi * r"
   ]
  },
  {
   "cell_type": "markdown",
   "id": "2fd97e63-555e-41f6-a84d-634599b2abef",
   "metadata": {},
   "source": [
    "#### <span style=\"color:#1DA398\">2.3 Принцип подстановки Лисков</span>\n",
    "##### <span style=\"color:#737eb5\">Объекты в программе должны быть заменяемы экземплярами их подтипов без ущерба корректности работы программы</span>\n",
    "или\n",
    "##### <span style=\"color:#737eb5\">Функции, которые используют базовый тип, должны иметь возможность использовать подтипы базового типа, не зная об этом.</span>\n",
    "**Пример:** подкласс машины, на которой дополнительный двигатель"
   ]
  },
  {
   "cell_type": "code",
   "execution_count": 4,
   "id": "32d273ec-e5db-48fb-a3e3-2f930cab0f80",
   "metadata": {},
   "outputs": [],
   "source": [
    "# Хороший пример\n",
    "class Car:\n",
    "    dt = 0.1\n",
    "    \n",
    "    def __init__(self, horsepower):\n",
    "        self.x = 0.\n",
    "        self.v = 0.\n",
    "        self.a = horsepower\n",
    "\n",
    "    def run(self, times):\n",
    "        for _ in range(times):\n",
    "            self.v += self.a * self.dt\n",
    "            self.x += self.v * self.dt\n",
    "\n",
    "class HybridCar(Car):\n",
    "    def __init__(self, horsepower, extra_horsepower):\n",
    "        super().__init__(horsepower)\n",
    "        self.extra_a = extra_horsepower\n",
    "\n",
    "    def run(self, times):\n",
    "        for _ in range(times):\n",
    "            self.v += (self.a + self.extra_a) * self.dt\n",
    "            self.x += self.v * self.dt"
   ]
  },
  {
   "cell_type": "code",
   "execution_count": 5,
   "id": "a47e536c-c30e-4682-a416-f02366e70411",
   "metadata": {},
   "outputs": [
    {
     "name": "stdout",
     "output_type": "stream",
     "text": [
      "505.0\n"
     ]
    }
   ],
   "source": [
    "c = Car(10)\n",
    "c.run(100)\n",
    "print(c.x)"
   ]
  },
  {
   "cell_type": "code",
   "execution_count": 6,
   "id": "6df23a06-e441-42c8-b947-f870258c1fa5",
   "metadata": {},
   "outputs": [
    {
     "name": "stdout",
     "output_type": "stream",
     "text": [
      "555.4999999999998\n"
     ]
    }
   ],
   "source": [
    "c = HybridCar(10, 1)\n",
    "c.run(100)\n",
    "print(c.x)"
   ]
  },
  {
   "cell_type": "markdown",
   "id": "55419bfb-ba68-443a-9e6b-a48bc8cf1a1f",
   "metadata": {},
   "source": [
    "#### <span style=\"color:#1DA398\">2.4 Принцип разделения интерфейса</span>\n",
    "##### <span style=\"color:#737eb5\">Ни один клиент не должен зависеть от методов, которые он не использует</span>\n",
    "**Пример:** \"слишком раздутый\" интефрейс у общего класса транспортных средств"
   ]
  },
  {
   "cell_type": "code",
   "execution_count": 11,
   "id": "89ed6320-5def-4b92-8114-0b7ad6b8c53b",
   "metadata": {},
   "outputs": [
    {
     "name": "stdout",
     "output_type": "stream",
     "text": [
      "Ту-160: БИИИИИИИИИИП!!!\n"
     ]
    }
   ],
   "source": [
    "# Плохой пример\n",
    "class Vehicle:\n",
    "    dt = 0.1\n",
    "    \n",
    "    def __init__(self, tag, horsepower):\n",
    "        self.x = 0.\n",
    "        self.v = 0.\n",
    "        self.tag = tag\n",
    "        self.a = horsepower\n",
    "\n",
    "    def run(self, times):\n",
    "        for _ in range(times):\n",
    "            self.v += self.a * self.dt\n",
    "            self.x += self.v * self.dt\n",
    "\n",
    "    def sign(self):\n",
    "        print(self.tag + \": БИИИИИИИИИИП!!!\")\n",
    "\n",
    "class Plane(Vehicle):\n",
    "    pass\n",
    "\n",
    "p = Plane('Ту-160', 100)\n",
    "p.sign()"
   ]
  },
  {
   "cell_type": "code",
   "execution_count": 19,
   "id": "a06e120c-ca38-43c8-aab0-61c9bd7fe6bd",
   "metadata": {},
   "outputs": [
    {
     "name": "stdout",
     "output_type": "stream",
     "text": [
      "VW Polo: БИИИИИИИИИИП!!!\n"
     ]
    }
   ],
   "source": [
    "# Хороший пример\n",
    "class Vehicle:\n",
    "    dt = 0.1\n",
    "    \n",
    "    def __init__(self, tag, horsepower):\n",
    "        self.x = 0.\n",
    "        self.v = 0.\n",
    "        self.tag = tag\n",
    "        self.a = horsepower\n",
    "\n",
    "    def run(self, times):\n",
    "        for _ in range(times):\n",
    "            self.v += self.a * self.dt\n",
    "            self.x += self.v * self.dt\n",
    "\n",
    "class SignDevice:\n",
    "    def __init__(self, tag):\n",
    "        self.tag = tag\n",
    "        \n",
    "    def sign(self):\n",
    "        print(self.tag + \": БИИИИИИИИИИП!!!\")\n",
    "\n",
    "class Car(Vehicle, SignDevice):\n",
    "    pass\n",
    "\n",
    "class Plane(Vehicle):\n",
    "    pass\n",
    "\n",
    "c = Car(tag='VW Polo', horsepower=10)\n",
    "c.sign()"
   ]
  },
  {
   "cell_type": "code",
   "execution_count": null,
   "id": "7225dd60-c2b5-4e54-bce1-261bb1c3ee6d",
   "metadata": {},
   "outputs": [],
   "source": [
    "p = Plane('Ту-160', 100)\n",
    "p.sign()"
   ]
  },
  {
   "cell_type": "markdown",
   "id": "4a4f49fe-dd2d-41a0-a777-85bce4a59727",
   "metadata": {},
   "source": [
    "#### <span style=\"color:#1DA398\">2.5 Принцип инверсии зависимостей</span>\n",
    "##### <span style=\"color:#737eb5\">Абстракции не должны зависеть от деталей. Детали должны зависеть от абстракций.</span>\n",
    "Неявная согласованность с принципом подстановки Лисков\n",
    "\n",
    "**Пример:** тестирование калькулятора"
   ]
  },
  {
   "cell_type": "code",
   "execution_count": 7,
   "id": "0a82ed33-e521-496d-b03a-cb90a6a126db",
   "metadata": {},
   "outputs": [
    {
     "name": "stdout",
     "output_type": "stream",
     "text": [
      "Калькулятор работает неверно! (4 != 3)\n"
     ]
    }
   ],
   "source": [
    "# Плохой пример\n",
    "class Calculator:\n",
    "    def set_a_b(self, a, b):\n",
    "        self.a = a\n",
    "        self.b = b\n",
    "\n",
    "    def get_sum(self):\n",
    "        return self.a + self.b + 1\n",
    "\n",
    "def test_calc():\n",
    "    a = 1\n",
    "    b = 2\n",
    "\n",
    "    c = Calculator()\n",
    "    c.set_a_b(a=a, b=b)\n",
    "    if c.get_sum() == a + b:\n",
    "        print(f\"Калькулятор работает верно!\")\n",
    "    else:\n",
    "        print(f\"Калькулятор работает неверно! ({c.get_sum()} != {a + b})\")\n",
    "\n",
    "test_calc()"
   ]
  },
  {
   "cell_type": "code",
   "execution_count": 6,
   "id": "d8e74733-a1d1-425e-8e36-1efe8ac412ea",
   "metadata": {},
   "outputs": [
    {
     "name": "stdout",
     "output_type": "stream",
     "text": [
      "Калькулятор работает неверно! (4 != 3)\n"
     ]
    }
   ],
   "source": [
    "# Хороший пример\n",
    "class Calculator:\n",
    "    def set_a_b(self, a, b):\n",
    "        self.a = a\n",
    "        self.b = b\n",
    "\n",
    "    def get_sum(self, a=None, b=None):\n",
    "        if a is None and b is None:\n",
    "            a, b = self.a, self.b\n",
    "        return a + b + 1\n",
    "        \n",
    "\n",
    "def test_calc():\n",
    "    a = 1\n",
    "    b = 2\n",
    "\n",
    "    if Calculator().get_sum(a, b) == a + b:\n",
    "        print(f\"Калькулятор работает верно!\")\n",
    "    else:\n",
    "        print(f\"Калькулятор работает неверно! ({Calculator().get_sum(a, b)} != {a + b})\")\n",
    "\n",
    "test_calc()"
   ]
  },
  {
   "cell_type": "markdown",
   "id": "6af5cf19-adb4-4b8e-885e-41915d7e929e",
   "metadata": {},
   "source": [
    "### <span style=\"color:#48B026\"> Пример контрольной #3 (2021 год)</span>\n",
    "Решение задач на семинаре"
   ]
  },
  {
   "cell_type": "markdown",
   "id": "16577399-7a38-4c58-a08c-10c84e418ee8",
   "metadata": {},
   "source": [
    "##### Строка"
   ]
  },
  {
   "cell_type": "code",
   "execution_count": null,
   "id": "8f4bfb36-2c4f-4296-9cae-19bfd7fe17e8",
   "metadata": {},
   "outputs": [],
   "source": []
  },
  {
   "cell_type": "markdown",
   "id": "e0b02539-4c66-4818-8a5e-eaa1ca936bc3",
   "metadata": {},
   "source": [
    "##### Фонари"
   ]
  },
  {
   "cell_type": "code",
   "execution_count": null,
   "id": "5348aea8-1354-4547-9afb-6f7a7775526d",
   "metadata": {},
   "outputs": [],
   "source": []
  },
  {
   "cell_type": "markdown",
   "id": "0c6b939a-2211-44d2-883c-3c3de320c74b",
   "metadata": {},
   "source": [
    "##### Толстые коты"
   ]
  },
  {
   "cell_type": "code",
   "execution_count": null,
   "id": "2d24defc-61f2-495c-85e9-1ce377b4d0d6",
   "metadata": {},
   "outputs": [],
   "source": []
  },
  {
   "cell_type": "markdown",
   "id": "73616526-0659-433c-8a50-eff99c1a256a",
   "metadata": {},
   "source": [
    "##### Шарики"
   ]
  },
  {
   "cell_type": "code",
   "execution_count": null,
   "id": "34fdbd8a-4a22-42b8-aeec-1fb8113a1b23",
   "metadata": {},
   "outputs": [],
   "source": []
  },
  {
   "cell_type": "markdown",
   "id": "3abf4b55-7400-4a70-a45a-f00522486806",
   "metadata": {},
   "source": [
    "##### События в сигнале"
   ]
  },
  {
   "cell_type": "code",
   "execution_count": null,
   "id": "acba7528-68a4-4d2c-8b2a-40102a5bc5fd",
   "metadata": {},
   "outputs": [],
   "source": []
  },
  {
   "cell_type": "markdown",
   "id": "9caf4872-6b3e-4d5c-8348-7879fe305892",
   "metadata": {},
   "source": [
    "##### Покемоны"
   ]
  },
  {
   "cell_type": "code",
   "execution_count": null,
   "id": "961a0f55-8121-4f04-a6c0-15da8cb3e1de",
   "metadata": {},
   "outputs": [],
   "source": []
  },
  {
   "cell_type": "markdown",
   "id": "afacdcd9-2297-4ddb-9d36-04de8e077c88",
   "metadata": {},
   "source": [
    "##### Опечатки"
   ]
  },
  {
   "cell_type": "code",
   "execution_count": null,
   "id": "d85e1f50-b722-4907-8587-5b01ed756d5c",
   "metadata": {},
   "outputs": [],
   "source": []
  },
  {
   "cell_type": "markdown",
   "id": "4f44f674-bd96-4199-9877-ca63aae319f8",
   "metadata": {},
   "source": [
    "##### Дискорд"
   ]
  },
  {
   "cell_type": "code",
   "execution_count": null,
   "id": "b961f8fc-21ef-4e7d-9821-852a79f8156a",
   "metadata": {},
   "outputs": [],
   "source": []
  },
  {
   "cell_type": "markdown",
   "id": "ce4f446d-bab5-43a8-ac46-1adff6881bf5",
   "metadata": {},
   "source": [
    "### <span style=\"color:#48B026\"> Пример контрольной #4 (2021 год)</span>"
   ]
  },
  {
   "cell_type": "markdown",
   "id": "506f125f-cfd8-440d-b489-43623c94f818",
   "metadata": {},
   "source": [
    "### <span style=\"color:#0ab49a\">Примечание №1.</span> <span style=\"color:#BA77D8\">Перед контрольной</span> "
   ]
  },
  {
   "cell_type": "code",
   "execution_count": 12,
   "id": "65724efb-11b3-44b0-953d-b151dfb6343b",
   "metadata": {},
   "outputs": [
    {
     "name": "stdout",
     "output_type": "stream",
     "text": [
      "<class 'str'> 1 <class 'str'> 23\n"
     ]
    }
   ],
   "source": [
    "# Вывод текста определённой длинны\n",
    "a = 1.23\n",
    "n = 4\n",
    "a_1, a_2 = str(a).split(\".\")\n",
    "print(type(a_1), a_1, type(a_2), a_2)"
   ]
  },
  {
   "cell_type": "code",
   "execution_count": 15,
   "id": "9e77632b-75c0-4947-96aa-efd6624b7c9d",
   "metadata": {},
   "outputs": [
    {
     "name": "stdout",
     "output_type": "stream",
     "text": [
      "1.2300\n",
      "1.2300\n",
      "1.2300\n",
      "1.2300\n",
      "1.2300\n"
     ]
    }
   ],
   "source": [
    "# Способ вывести полностью вручную\n",
    "print(a_1 + '.' + a_2 + '0'*(n - len(a_2)))\n",
    "\n",
    "# Способ с использованием rjust(), ljust()\n",
    "print(str(a).ljust(n + 1 + len(a_1), '0'))\n",
    "\n",
    "# Новый способ\n",
    "print((\"{:.\" + str(n) + \"f}\").format(a))\n",
    "\n",
    "# Новейший способ\n",
    "print(f\"{a:.4f}\")\n",
    "print(f\"{a:.{n}f}\")"
   ]
  }
 ],
 "metadata": {
  "kernelspec": {
   "display_name": "Python 3 (ipykernel)",
   "language": "python",
   "name": "python3"
  },
  "language_info": {
   "codemirror_mode": {
    "name": "ipython",
    "version": 3
   },
   "file_extension": ".py",
   "mimetype": "text/x-python",
   "name": "python",
   "nbconvert_exporter": "python",
   "pygments_lexer": "ipython3",
   "version": "3.10.12"
  }
 },
 "nbformat": 4,
 "nbformat_minor": 5
}
