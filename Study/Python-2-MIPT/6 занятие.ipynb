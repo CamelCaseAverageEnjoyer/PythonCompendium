{
 "cells": [
  {
   "cell_type": "markdown",
   "id": "d1fc11c3",
   "metadata": {},
   "source": [
    "### <span style=\"color:#0ab49a\">Занятие №6:</span> <span style=\"color:#BA77D8\">Изображение</span> \n",
    "\n",
    "![Текст картинки если файл картинки не найден](img/banner.png)"
   ]
  },
  {
   "cell_type": "markdown",
   "id": "3616ea1a",
   "metadata": {},
   "source": [
    "### <span style=\"color:#55628D\">1. Знакомство с Matplotlib</span>\n",
    "#### <span style=\"color:#1DA398\">1.1 Plot</span>"
   ]
  },
  {
   "cell_type": "code",
   "execution_count": null,
   "id": "a940773f",
   "metadata": {},
   "outputs": [],
   "source": [
    "# Импортируем базовый кусочек mpl\n",
    "import matplotlib.pyplot as plt\n",
    "\n",
    "# Это будут наши данные\n",
    "x = [1, 2, 3, 4]\n",
    "y = [1, 3, 2, 4]\n",
    "\n",
    "# Построим график\n",
    "plt.plot(x, y, color=[0, 0, 1])\n",
    "# И покажем его\n",
    "plt.show()"
   ]
  },
  {
   "cell_type": "code",
   "execution_count": null,
   "id": "6e639b77-7624-4171-b5a5-6d4787d9f873",
   "metadata": {},
   "outputs": [],
   "source": [
    "x = [1, 2, 3, 4]\n",
    "plt.plot(x, [1, 3, 5, 7])\n",
    "plt.plot(x, [3, 2, 1, 0])\n",
    "plt.show()"
   ]
  },
  {
   "cell_type": "markdown",
   "id": "a668b0e3-2f01-4116-a03b-dba416aa2228",
   "metadata": {},
   "source": [
    "#### <span style=\"color:#1DA398\">1.2 Scatter</span>"
   ]
  },
  {
   "cell_type": "code",
   "execution_count": null,
   "id": "ae5a148a-398b-4fd0-8fc7-839ce2f0c85c",
   "metadata": {},
   "outputs": [],
   "source": [
    "x = [1, 2, 3, 4]\n",
    "x = \"a b c d\".split()\n",
    "plt.plot(x, [1, 3, 5, 7])\n",
    "plt.scatter(x, [1, 3, 5, 7])\n",
    "plt.scatter(x, [3, 2, 1, 0])\n",
    "plt.show()"
   ]
  },
  {
   "cell_type": "markdown",
   "id": "4ac96980",
   "metadata": {},
   "source": [
    "### <span style=\"color:#55628D\">2. Стили</span>\n",
    "\n",
    "#### <span style=\"color:#1DA398\">2.1 Единственный график</span>"
   ]
  },
  {
   "cell_type": "code",
   "execution_count": null,
   "id": "b19afeb2-7d4c-4943-b804-3c9d7ba520ad",
   "metadata": {},
   "outputs": [],
   "source": [
    "[i**2 for i in range(10)]"
   ]
  },
  {
   "cell_type": "code",
   "execution_count": null,
   "id": "5cddfec4",
   "metadata": {},
   "outputs": [],
   "source": [
    "import matplotlib.pyplot as plt\n",
    "\n",
    "# Это будет X\n",
    "x = [2 * i / 100 for i in range(100)]\n",
    "\n",
    "# А это три штуки y(x)\n",
    "y1 = [i for i in x]\n",
    "y2 = [i**2 for i in x]\n",
    "y3 = [i**3 for i in x]\n",
    "\n",
    "# Построим графики, указав названия\n",
    "plt.plot(x, y1, label='linear')\n",
    "plt.plot(x, y2, label='quadratic')\n",
    "plt.plot(x, y3, label='cubic')\n",
    "\n",
    "# Подпишем оси\n",
    "plt.xlabel('x label')\n",
    "plt.ylabel('y label')\n",
    "\n",
    "# И график целиком\n",
    "plt.title(\"Simple Plot\")\n",
    "\n",
    "# И легенду нарисуем, чтобы было ясно, кто есть кто\n",
    "plt.legend()\n",
    "\n",
    "plt.show()"
   ]
  },
  {
   "cell_type": "markdown",
   "id": "7aa0d033-e49f-414e-9ef9-170fae0ea7ae",
   "metadata": {},
   "source": [
    "#### <span style=\"color:#1DA398\">2.2 Разделение на figure, axes</span>\n",
    "1. **subplots** позволяет на 1 рисунке (figure) сделать несколько графиков (axes)\n",
    "\n",
    "2. Размер фигуры (**figsize**) определяет размер фигуры в дюймах. Это определяет объем пространства, который элементы занимают внутри фигуры. Размер фигуры по умолчанию в*matplotlib 2* составляет (6,4, 4,8) дюйма.\n",
    "\n",
    "\n",
    "3. Количество точек на дюйм (**dpi**) определяет количество пикселей в рисунке. Значение dpi в matplotlib по умолчанию равно 100."
   ]
  },
  {
   "cell_type": "code",
   "execution_count": null,
   "id": "b6d28f51",
   "metadata": {},
   "outputs": [],
   "source": [
    "import matplotlib.pyplot as plt\n",
    "\n",
    "# Теперь сделаем ровно то же самое,\n",
    "# но общаться с mpl будем в ООП-шном стиле\n",
    "\n",
    "x = [2 * i / 100 for i in range(100)]\n",
    "y1 = [i for i in x]\n",
    "y2 = [i**2 for i in x]\n",
    "y3 = [i**3 for i in x]\n",
    "\n",
    "# Попросим создать изображение (fig) с одним графиком на ней (ax)\n",
    "fig, ax = plt.subplots(figsize=(8, 4))\n",
    "\n",
    "# Полученный ax - объект со смыслом \"график\" (на самом деле \"axes\" - \"оси\").\n",
    "# Построим всё то же самое, вызывая его методы.\n",
    "ax.plot(x, y1, label='linear')\n",
    "ax.plot(x, y2, label='quadratic')\n",
    "ax.plot(x, y3, label='cubic')\n",
    "\n",
    "ax.set_xlabel('x label')\n",
    "ax.set_ylabel('y label')\n",
    "ax.set_title(\"Simple Plot\")\n",
    "ax.legend()\n",
    "\n",
    "plt.show()\n",
    "\n",
    "# В каком стиле общаться с mpl - дело вкуса.\n",
    "# Только смешивать код разных стилей не стоит."
   ]
  },
  {
   "cell_type": "markdown",
   "id": "c1744026-8464-4288-b371-afb5ae1f74ec",
   "metadata": {},
   "source": [
    "#### <span style=\"color:#1DA398\">2.3 Стили линий</span>"
   ]
  },
  {
   "cell_type": "code",
   "execution_count": null,
   "id": "7aaf0312",
   "metadata": {},
   "outputs": [],
   "source": [
    "import matplotlib.pyplot as plt\n",
    "\n",
    "x = [2 * i / 10 for i in range(10)]\n",
    "y1 = [i for i in x]\n",
    "y2 = [i**2 for i in x]\n",
    "y3 = [i**3 for i in x]\n",
    "\n",
    "fig, ax = plt.subplots()\n",
    "# Немного поэкспериментируем со стилями самих графиков\n",
    "ax.plot(x, y1, label=f'linear {1}', linestyle='-', c='red', lw=1)\n",
    "ax.scatter(x, y1, c='red', s=50, marker='v')\n",
    "ax.plot(x, y2, label='quadratic', marker='v', linestyle='--', c='green', linewidth=1)\n",
    "ax.plot(x, y3, label='cubic', marker='^', linestyle=':', color='black', linewidth=1)\n",
    "ax.legend()\n",
    "\n",
    "plt.show()"
   ]
  },
  {
   "cell_type": "markdown",
   "id": "5e1715e8",
   "metadata": {},
   "source": [
    "### <span style=\"color:#55628D\">3. Подграфики</span>"
   ]
  },
  {
   "cell_type": "code",
   "execution_count": null,
   "id": "11e1f3dd",
   "metadata": {},
   "outputs": [],
   "source": [
    "import matplotlib.pyplot as plt\n",
    "\n",
    "x = [2 * i / 100 for i in range(100)]\n",
    "y1 = [i for i in x]\n",
    "y2 = [i**2 for i in x]\n",
    "y3 = [i**3 for i in x]\n",
    "\n",
    "# А теперь создадим одно изображение, на котором будет несколько графиков\n",
    "fig, axs = plt.subplots(2, 2, figsize=(15, 5))\n",
    "# Теперь в axs - набор \"осей\", в кокторых мы построим свои y(x) по отдельности\n",
    "axs[0][0].plot(x, y1, label='linear')\n",
    "axs[0][1].plot(x, y2, label='quadratic')\n",
    "axs[1][0].plot(x, y3, label='cubic')\n",
    "axs[1][1].plot(x, y1)\n",
    "\n",
    "# Можно при желании перебирать оси в цикле, иногда это удобно\n",
    "'''for ax in axs:\n",
    "    ax.set_xlabel('x label')\n",
    "    ax.set_ylabel('y label')\n",
    "    ax.legend()\n",
    "    ax.set_title(\"Smth\")'''\n",
    "\n",
    "# Всё изображение целиком тоже подпишем\n",
    "fig.suptitle(\"Several subplots\", size=18)\n",
    "\n",
    "plt.show()"
   ]
  },
  {
   "cell_type": "markdown",
   "id": "6a858b4c",
   "metadata": {},
   "source": [
    "### <span style=\"color:#55628D\">4. Диаграммы</span>\n",
    "#### <span style=\"color:#1DA398\">4.1 Обычный bar</span>"
   ]
  },
  {
   "cell_type": "code",
   "execution_count": null,
   "id": "d804a049",
   "metadata": {},
   "outputs": [],
   "source": [
    "import matplotlib.pyplot as plt\n",
    "\n",
    "# Это наши данные\n",
    "data = {'alpha': 6, 'bravo': 12, 'charlie': 11, 'donny': 13}\n",
    "\n",
    "# Барчарт строится немного неочевидным образом. Это не самая сильная сторона mpl.\n",
    "\n",
    "# Это номера столбиков (\"координаты по ОХ\")\n",
    "bar_numbers = range(len(data))\n",
    "\n",
    "# Это подписи столбиков\n",
    "labels = list(data.keys())\n",
    "\n",
    "# Это значения столбиков\n",
    "values = list(data.values()) \n",
    "\n",
    "fig, ax = plt.subplots()\n",
    "\n",
    "# Сама картинка барчарта строится из номеров столбиков и их значений\n",
    "ax.bar(bar_numbers, values)\n",
    "\n",
    "# Потом на оси ОХ задаются положения отсечек с подписями\n",
    "ax.set_xticks(bar_numbers)\n",
    "\n",
    "# И текст этих подписей\n",
    "ax.set_xticklabels(labels)\n",
    "\n",
    "plt.show()"
   ]
  },
  {
   "cell_type": "code",
   "execution_count": null,
   "id": "70e0e57e-d54d-41f8-99ce-e11412091ed1",
   "metadata": {},
   "outputs": [],
   "source": [
    "data = {'alpha': 6, 'bravo': 12, 'charlie': 11, 'donny': 13}\n",
    "\n",
    "for d in data:\n",
    "    plt.bar(d, data[d], label=\"data\")\n",
    "\n",
    "plt.legend()\n",
    "plt.show()"
   ]
  },
  {
   "cell_type": "markdown",
   "id": "09152808-cfda-41ec-942c-5c9f99fa3faa",
   "metadata": {},
   "source": [
    "#### <span style=\"color:#1DA398\">4.2 Grouped bar chart</span>\n",
    "Добавлен **width**"
   ]
  },
  {
   "cell_type": "code",
   "execution_count": null,
   "id": "7c04dd99-29a8-4ae3-8a94-b434d2010791",
   "metadata": {},
   "outputs": [],
   "source": [
    "data_1 = {'alpha': 6, 'bravo': 12, 'charlie': 11, 'donny': 13}\n",
    "data_2 = {'alpha': 7, 'bravo': 13, 'charlie': 12, 'donny': 14}\n",
    "\n",
    "width = 0.3\n",
    "\n",
    "\n",
    "fig, ax = plt.subplots()\n",
    "\n",
    "for i, data in enumerate([data_1, data_2]):\n",
    "    x = [j + (i-0.5)*width for j in range(len(data))]\n",
    "\n",
    "    labels = list(data.keys())\n",
    "    values = list(data.values())\n",
    "    \n",
    "    ax.bar(x, values, width=width, label=f\"Данные {i+1}\")\n",
    "    \n",
    "    ax.set_xticks(bar_numbers)\n",
    "    ax.set_xticklabels(labels)\n",
    "\n",
    "plt.legend()\n",
    "plt.show()"
   ]
  },
  {
   "cell_type": "markdown",
   "id": "33e73fb4-c206-4e09-bdac-a9f073665023",
   "metadata": {},
   "source": [
    "#### <span style=\"color:#1DA398\">4.3 Stacked bar chart</span>\n",
    "Добавлен **bottom**"
   ]
  },
  {
   "cell_type": "code",
   "execution_count": null,
   "id": "aed8dc01-609e-4a8e-9864-f53056d3c219",
   "metadata": {},
   "outputs": [],
   "source": [
    "data_1 = {'alpha': 1, 'bravo': 1, 'charlie': 1, 'donny': 1}\n",
    "data_2 = {'alpha': 7, 'bravo': 13, 'charlie': 12, 'donny': 14}\n",
    "\n",
    "\n",
    "fig, ax = plt.subplots()\n",
    "bottom = [0 for _ in data_1.keys()]\n",
    "\n",
    "for i, data in enumerate([data_1, data_2]):\n",
    "    x = range(len(data))\n",
    "\n",
    "    labels = list(data.keys())\n",
    "    values = list(data.values())\n",
    "    \n",
    "    ax.bar(x, values, label=f\"Данные {i+1}\", bottom=bottom)\n",
    "    for j in range(len(data.keys())):\n",
    "        bottom[j] += values[j]\n",
    "    \n",
    "    ax.set_xticks(bar_numbers)\n",
    "    ax.set_xticklabels(labels)\n",
    "\n",
    "plt.legend()\n",
    "plt.show()"
   ]
  },
  {
   "cell_type": "markdown",
   "id": "b33a4e2b",
   "metadata": {},
   "source": [
    "### <span style=\"color:#55628D\">5. Сохранение изображения</span>"
   ]
  },
  {
   "cell_type": "code",
   "execution_count": null,
   "id": "7e598bd5",
   "metadata": {},
   "outputs": [],
   "source": [
    "import matplotlib.pyplot as plt\n",
    "\n",
    "x = [1, 2, 3, 4]\n",
    "y = [1, 3, 2, 4]\n",
    "\n",
    "fig, ax = plt.subplots()\n",
    "\n",
    "ax.plot(x, y)\n",
    "\n",
    "# Построенный график можно сохранить вместо показа на экране\n",
    "plt.savefig(\"lesson06/test.jpg\")"
   ]
  },
  {
   "cell_type": "markdown",
   "id": "8c1d4feb",
   "metadata": {},
   "source": [
    "### <span style=\"color:#0ab49a\">Примечание №1.</span> <span style=\"color:#BA77D8\">Анимация</span> \n",
    "\n"
   ]
  },
  {
   "cell_type": "markdown",
   "id": "77cbfca5-e5f3-4df7-b734-666796268163",
   "metadata": {},
   "source": [
    "#### <span style=\"color:#1DA398\">1. matplotlib.animation.FuncAnimation</span>\n",
    "ref: https://matplotlib.org/stable/api/animation_api.html"
   ]
  },
  {
   "cell_type": "code",
   "execution_count": null,
   "id": "26c352ef-e0f6-46d3-9497-462038b996e2",
   "metadata": {},
   "outputs": [],
   "source": [
    "import numpy as np\n",
    "import matplotlib.pyplot as plt\n",
    "from matplotlib.animation import FuncAnimation\n",
    "\n",
    "fig, ax = plt.subplots()\n",
    "xdata, ydata = [], []\n",
    "ln, = ax.plot([], [], 'ro')\n",
    "\n",
    "def init():\n",
    "    ax.set_xlim(0, 2*np.pi)\n",
    "    ax.set_ylim(-1, 1)\n",
    "    return ln,\n",
    "\n",
    "def update(frame):\n",
    "    xdata.append(frame)\n",
    "    ydata.append(np.sin(frame))\n",
    "    ln.set_data(xdata, ydata)\n",
    "    return ln,\n",
    "\n",
    "ani = FuncAnimation(fig, update, frames=np.linspace(0, 2*np.pi, 128),\n",
    "                    init_func=init, blit=True)\n",
    "plt.show()"
   ]
  },
  {
   "cell_type": "code",
   "execution_count": null,
   "id": "f0507ead-0861-42bf-b7d4-601a180a0903",
   "metadata": {},
   "outputs": [],
   "source": [
    "ani.save('lesson06/animation.gif', writer='pillow')"
   ]
  },
  {
   "cell_type": "markdown",
   "id": "bba27c54-e126-4da5-b28e-615968159ea2",
   "metadata": {},
   "source": [
    "#### <span style=\"color:#1DA398\">2. ffmpeg</span>"
   ]
  },
  {
   "cell_type": "code",
   "execution_count": null,
   "id": "f816ab71-195e-4072-bad7-8efc00c4eb9d",
   "metadata": {},
   "outputs": [],
   "source": [
    "import os\n",
    "\n",
    "framerate = 5  # Кол-во кадров в секунду\n",
    "path = \"/\"\n",
    "form = \"jpg\"\n",
    "w = 1080\n",
    "h = 720\n",
    "file = \"res.gif\"\n",
    "\n",
    "# %04d - формат имён; здесь: 0001.jpg, 0002.jpg, ...\n",
    "command = f\"ffmpeg -f image2 -framerate {framerate} -start_number 1 -i {path}%04d.{form} -s {w}x{h}  -b:v 100000k {file}\"\n",
    "\n",
    "os.system(command)"
   ]
  },
  {
   "cell_type": "markdown",
   "id": "1d8846ec",
   "metadata": {},
   "source": [
    "### <span style=\"color:#0ab49a\">Примечание №2.</span> <span style=\"color:#BA77D8\">Plotly</span> \n",
    "ref: https://community.plotly.com/t/plotly-graph-objects-volume-cube/75455/4"
   ]
  },
  {
   "cell_type": "code",
   "execution_count": null,
   "id": "d00138ef-aca2-45c7-be38-74a9157875da",
   "metadata": {},
   "outputs": [],
   "source": [
    "import plotly.graph_objs as go\n",
    "\n",
    "def cubes(size, pos_x, pos_y, pos_z, color):\n",
    "    # create points\n",
    "    x, y, z = np.meshgrid(\n",
    "        np.linspace(pos_x-size/2, pos_x+size/2, 2), \n",
    "        np.linspace(pos_y-size/2, pos_y+size/2, 2), \n",
    "        np.linspace(pos_z-size/2, pos_z+size/2, 2),\n",
    "    )\n",
    "    x = x.flatten()\n",
    "    y = y.flatten()\n",
    "    z = z.flatten()\n",
    "    \n",
    "    return go.Mesh3d(x=x, y=y, z=z, alphahull=1, flatshading=True, color=color, lighting={'diffuse': 0.1, 'specular': 2.0, 'roughness': 0.5})\n",
    "\n",
    "fig = go.Figure()\n",
    "\n",
    "bigsize = 20\n",
    "size = 5\n",
    "\n",
    "# add outer cube\n",
    "fig.add_trace(cubes(bigsize, 0,0,0, 'rgba(255,100,0,0.1)'))\n",
    "\n",
    "# add inner center cube\n",
    "fig.add_trace(cubes(size, 0,0,0, 'rgba(100,0,100,0.1)'))\n",
    "\n",
    "# add inner cubes\n",
    "fig.add_trace(cubes(size, size,0,0, 'rgba(100,0,100,0.1)'))\n",
    "\n",
    "fig.show()"
   ]
  },
  {
   "cell_type": "markdown",
   "id": "d19ffb7e-1dbb-4b7e-80bc-47f274f81b60",
   "metadata": {},
   "source": [
    "### <span style=\"color:#0ab49a\">Примечание №3.</span> <span style=\"color:#BA77D8\">Vedo</span> \n",
    "ref: https://vedo.embl.es/"
   ]
  },
  {
   "cell_type": "code",
   "execution_count": null,
   "id": "169b8058-fb96-494a-99a5-4d0145de7736",
   "metadata": {},
   "outputs": [],
   "source": [
    "\"\"\"Embed a mesh into a skybox environment\n",
    "Mesh lighting is by Physically Based Rendering (PBR)\"\"\"\n",
    "from vedo import *\n",
    "\n",
    "msh = Mesh(dataurl+\"man.vtk\").rotate_x(-90)\n",
    "\n",
    "# Use physically based rendering (PBR):\n",
    "msh.c(\"white\").lighting(metallicity=1, roughness=0.05)\n",
    "\n",
    "# Specify a skybox environment from a HDR file\n",
    "# (more skybox example HDR files at https://polyhaven.com/hdris)\n",
    "cubemap_path = download(dataurl+\"kloppenheim_06_4k.hdr\")\n",
    "\n",
    "show(msh, __doc__, bg=cubemap_path).close()"
   ]
  }
 ],
 "metadata": {
  "kernelspec": {
   "display_name": "Python 3 (ipykernel)",
   "language": "python",
   "name": "python3"
  },
  "language_info": {
   "codemirror_mode": {
    "name": "ipython",
    "version": 3
   },
   "file_extension": ".py",
   "mimetype": "text/x-python",
   "name": "python",
   "nbconvert_exporter": "python",
   "pygments_lexer": "ipython3",
   "version": "3.10.12"
  }
 },
 "nbformat": 4,
 "nbformat_minor": 5
}
