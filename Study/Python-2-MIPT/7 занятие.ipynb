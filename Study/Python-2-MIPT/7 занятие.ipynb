{
 "cells": [
  {
   "cell_type": "markdown",
   "id": "65c339fb",
   "metadata": {},
   "source": [
    "### <span style=\"color:#0ab49a\">Занятие №7:</span> <span style=\"color:#BA77D8\">Табличные данные</span> \n",
    "\n",
    "![](img/banner.png)"
   ]
  },
  {
   "cell_type": "markdown",
   "id": "10b1bb29",
   "metadata": {
    "jp-MarkdownHeadingCollapsed": true
   },
   "source": [
    "### <span style=\"color:#55628D\">1. Знакомство с Pandas</span>"
   ]
  },
  {
   "cell_type": "code",
   "execution_count": null,
   "id": "a19e6deb-68b8-40bd-9e6a-4c0e1e3bed32",
   "metadata": {},
   "outputs": [],
   "source": [
    "import pandas as pd\n",
    "\n",
    "# У нас есть какие-то данные табличного духа\n",
    "data = [[ 0.990360, -1.131429, -1.065981,  0.855488],\n",
    "        [ 0.493665,  0.589660, -0.432106, -0.240378],\n",
    "        [-0.807992, -1.794176, -1.210304,  0.201295],\n",
    "        [-0.270479, -1.121976,  0.459273, -0.178025],\n",
    "        [ 0.188286, -0.931686,  1.959219,  0.387350],\n",
    "        [ 2.252443,  0.848532,  0.925256,  1.014754]]\n",
    "\n",
    "df = pd.DataFrame(data)\n",
    "print(df)"
   ]
  },
  {
   "cell_type": "code",
   "execution_count": null,
   "id": "e8f27fba",
   "metadata": {},
   "outputs": [],
   "source": [
    "# Из них можно создать DataFrame, дав колонкам имена\n",
    "df = pd.DataFrame(data, columns=list('ABCD'))\n",
    "print(df)"
   ]
  },
  {
   "cell_type": "code",
   "execution_count": null,
   "id": "73368bc7-fc6b-4ff5-863e-99878f9b1acb",
   "metadata": {},
   "outputs": [],
   "source": [
    "# Если данные очень большие, по умолчанию отображение урезается\n",
    "data = [[f\"{i}-{j}\" for i in range(5)] for j in range(100)]\n",
    "df = pd.DataFrame(data)\n",
    "print(df)"
   ]
  },
  {
   "cell_type": "code",
   "execution_count": null,
   "id": "1bb30454-83eb-44ea-a499-802f4d264d83",
   "metadata": {
    "scrolled": true
   },
   "outputs": [],
   "source": [
    "pd.set_option(\"display.max_rows\", None)\n",
    "print(df)\n",
    "pd.set_option(\"display.max_rows\", 10)"
   ]
  },
  {
   "cell_type": "markdown",
   "id": "3d79a440",
   "metadata": {
    "jp-MarkdownHeadingCollapsed": true
   },
   "source": [
    "### <span style=\"color:#55628D\">2. Метаданные</span>"
   ]
  },
  {
   "cell_type": "code",
   "execution_count": null,
   "id": "3e718ad6-246f-4ba9-a703-3d345c8c1471",
   "metadata": {},
   "outputs": [],
   "source": [
    "import pandas as pd\n",
    "\n",
    "# Если у нас есть словарь с разнородными данными, из него тоже можно сделать DataFrame\n",
    "N = 2\n",
    "data = {'A': [1.1 for _ in range(N)],\n",
    "        'B': pd.Timestamp('20200901'),\n",
    "        'C': [111, \"str\"],\n",
    "        'D': [42 * i  for i in range(N)],\n",
    "        'E': 'foo'}\n",
    "df = pd.DataFrame(data)\n",
    "\n",
    "# Посмотрим, как выглядит df с учётом того, что данные в него были загружены разной размерности\n",
    "print(df)"
   ]
  },
  {
   "cell_type": "code",
   "execution_count": null,
   "id": "1fc2f9fe-7253-47e7-a91e-ada51d1501e3",
   "metadata": {},
   "outputs": [],
   "source": [
    "# Типы данных\n",
    "print(df.dtypes)"
   ]
  },
  {
   "cell_type": "code",
   "execution_count": null,
   "id": "e63c090d-b035-4add-b08d-384fe7055c6c",
   "metadata": {},
   "outputs": [],
   "source": [
    "# Индекс\n",
    "print(list(df.index))"
   ]
  },
  {
   "cell_type": "code",
   "execution_count": null,
   "id": "c6a604bf",
   "metadata": {},
   "outputs": [],
   "source": [
    "# Столбцы\n",
    "print(list(df.columns))"
   ]
  },
  {
   "cell_type": "markdown",
   "id": "124589c4",
   "metadata": {
    "jp-MarkdownHeadingCollapsed": true
   },
   "source": [
    "### <span style=\"color:#55628D\">3. Индексы</span>\n",
    "На этапе первого общения с pandas вряд ли нужны нестандартные индексы. Но стоит знать, что они бывают.<br>\n",
    "И при обращении через .loc нужно именно значение индекса, и оно может быть не равно номеру строки."
   ]
  },
  {
   "cell_type": "code",
   "execution_count": null,
   "id": "db0c574a-37ac-4080-baf7-26b77fad2ad3",
   "metadata": {},
   "outputs": [],
   "source": [
    "import pandas as pd\n",
    "\n",
    "data = [[ 0.990360, -1.131429, -1.065981,  0.855488],\n",
    "        [ 0.493665,  0.589660, -0.432106, -0.240378],\n",
    "        [-0.807992, -1.794176, -1.210304,  0.201295],\n",
    "        [-0.270479, -1.121976,  0.459273, -0.178025],\n",
    "        [ 0.188286, -0.931686,  1.959219,  0.387350],\n",
    "        [ 2.252443,  0.848532,  0.925256,  1.014754]]\n",
    "\n",
    "df = pd.DataFrame(data, columns=list('ABCD'))\n",
    "print(df)"
   ]
  },
  {
   "cell_type": "code",
   "execution_count": null,
   "id": "ccb3a3c0-3851-40a0-8901-2cd756d1cd5d",
   "metadata": {},
   "outputs": [],
   "source": [
    "# По умолчанию индексы - номера строк\n",
    "print(df.index)"
   ]
  },
  {
   "cell_type": "code",
   "execution_count": null,
   "id": "a00c2756-0381-49ad-98f7-a2fddf97de56",
   "metadata": {},
   "outputs": [],
   "source": [
    "# Обращение к отдельной \"ячейке таблицы\"\n",
    "print(df.loc[0,'A'])"
   ]
  },
  {
   "cell_type": "code",
   "execution_count": null,
   "id": "42b3920b-0cd2-46a8-b9e8-217aec25ddcf",
   "metadata": {},
   "outputs": [],
   "source": [
    "# Создадим новый фрейм из тех же данных, но индекс теперь будет нестандартный\n",
    "dates = pd.date_range('20200101', periods=6)\n",
    "df2 = pd.DataFrame(data, index=dates, columns=list('ABCD'))\n",
    "print(df2)"
   ]
  },
  {
   "cell_type": "code",
   "execution_count": null,
   "id": "0c4ef2e9-9c63-44a7-aa46-1287b35325b3",
   "metadata": {},
   "outputs": [],
   "source": [
    "print(df2.index)"
   ]
  },
  {
   "cell_type": "code",
   "execution_count": null,
   "id": "ed5b1b8d-6b18-4b82-8878-8127677377cd",
   "metadata": {},
   "outputs": [],
   "source": [
    "# И обратим внимание, как теперь выглядит обрашение к \"ячейке таблицы\"\n",
    "print(df2.loc['20200102','A'])"
   ]
  },
  {
   "cell_type": "markdown",
   "id": "f2f0cae0",
   "metadata": {
    "jp-MarkdownHeadingCollapsed": true
   },
   "source": [
    "### <span style=\"color:#55628D\">4. Обращение к элементам</span>\n",
    "\"Просто скобочками\" можно обращаться к столбцам по имени или к строкам по диапазонам.<br>\n",
    "Просто потому что это частая хотелка и интуитивное ожидание.<br>\n",
    "Но во избежание путаницы есть смысл использовать .loc или .iloc явно."
   ]
  },
  {
   "cell_type": "markdown",
   "id": "6914c090-01b4-41eb-b377-96db42fdce99",
   "metadata": {},
   "source": [
    "#### <span style=\"color:#1DA398\">4.1 loc</span>\n",
    "Выборки средствами .loc, при обращении через .loc используются *ключи*.<br>\n",
    "Можно использовать отдельные значения, списки, диапазоны."
   ]
  },
  {
   "cell_type": "code",
   "execution_count": null,
   "id": "bef971d9-e106-4004-8db6-8513714d82e0",
   "metadata": {},
   "outputs": [],
   "source": [
    "import pandas as pd\n",
    "\n",
    "data = {'A': 1.1,\n",
    "        'B': pd.Timestamp('20200901'),\n",
    "        'C': 111,\n",
    "        'D': [42 * i  for i in range(4)],\n",
    "        'E': 'foo'}\n",
    "\n",
    "df = pd.DataFrame(data)\n",
    "\n",
    "# Посмотрим весь фрейм\n",
    "print(df)"
   ]
  },
  {
   "cell_type": "code",
   "execution_count": null,
   "id": "2b32e966-544a-4791-ac52-9a28ac541d80",
   "metadata": {},
   "outputs": [],
   "source": [
    "# Заданная пара строк, все столбцы\n",
    "# (обратите внимание, что последний элемент включён в выборку)\n",
    "print(df.loc[1:2])"
   ]
  },
  {
   "cell_type": "code",
   "execution_count": null,
   "id": "dbda5828-d8a1-4aeb-a4ce-52a5ef94f852",
   "metadata": {},
   "outputs": [],
   "source": [
    "# Заданный столбец, все строки\n",
    "print(df.loc[:,'D'])"
   ]
  },
  {
   "cell_type": "code",
   "execution_count": null,
   "id": "7d0ac59e-7be0-4a5a-b975-f3f95a921a86",
   "metadata": {},
   "outputs": [],
   "source": [
    "# Заданная пара строк, избранные столбцы\n",
    "print(df.loc[1:2, ['A', 'D']])"
   ]
  },
  {
   "cell_type": "code",
   "execution_count": null,
   "id": "1103e5a5-ab94-4d27-a5c5-e688bba3891c",
   "metadata": {},
   "outputs": [],
   "source": [
    "# Конкретная \"ячейка\"\n",
    "print(df.loc[1,'A'])"
   ]
  },
  {
   "cell_type": "code",
   "execution_count": null,
   "id": "1311c35f-127d-4a1b-b649-aaadb8759d01",
   "metadata": {},
   "outputs": [],
   "source": [
    "# То же самое, но .at вместо .loc (умеет работать только со скалярами, зато быстрее)\n",
    "print(df.at[1,'A'])"
   ]
  },
  {
   "cell_type": "markdown",
   "id": "80d833e5-162a-4210-ac9c-37c073135dfc",
   "metadata": {},
   "source": [
    "#### <span style=\"color:#1DA398\">4.2 iloc</span>\n",
    "Выборки средствами .iloc, при обращении через .iloc используются *номера*.<br>\n",
    "Можно использовать отдельные значения, списки, диапазоны."
   ]
  },
  {
   "cell_type": "code",
   "execution_count": null,
   "id": "5dbafb49-159a-4cab-8196-edc4bbd181ff",
   "metadata": {},
   "outputs": [],
   "source": [
    "print(df)"
   ]
  },
  {
   "cell_type": "code",
   "execution_count": null,
   "id": "240bc636-37d2-4605-ab11-d9c20ad0e86e",
   "metadata": {},
   "outputs": [],
   "source": [
    "# Заданная пара строк, все столбцы\n",
    "# (обратите внимание, что последний элемент не включён в выборку)\n",
    "print(df.iloc[1:3])"
   ]
  },
  {
   "cell_type": "code",
   "execution_count": null,
   "id": "92f914ae-86a2-4f34-a152-f45e4e75acab",
   "metadata": {},
   "outputs": [],
   "source": [
    "# Заданный столбец, все строки\n",
    "print(\"=================\")\n",
    "print(df.iloc[:,3])"
   ]
  },
  {
   "cell_type": "code",
   "execution_count": null,
   "id": "443529f0-4a2f-4b70-bd07-8ebef3e68610",
   "metadata": {},
   "outputs": [],
   "source": [
    "# Заданная пара строк, избранные столбцы\n",
    "print(\"=================\")\n",
    "print(df.iloc[[0,3],[0,3]])"
   ]
  },
  {
   "cell_type": "code",
   "execution_count": null,
   "id": "95f6ee6e-4adb-4520-93c2-8c676235ed9b",
   "metadata": {},
   "outputs": [],
   "source": [
    "# Конкретная \"ячейка\"\n",
    "print(\"=================\")\n",
    "print(df.iloc[1,3])"
   ]
  },
  {
   "cell_type": "code",
   "execution_count": null,
   "id": "9f50b245-ce1f-42ad-9354-8d00332759c6",
   "metadata": {},
   "outputs": [],
   "source": [
    "# То же самое, но .iat вместо .iloc\n",
    "# (умеет работать только со скалярами, зато быстрее)\n",
    "print(\"=================\")\n",
    "print(df.iat[1,3])"
   ]
  },
  {
   "cell_type": "markdown",
   "id": "03fdf3d2-3801-419c-9778-69321283e3ce",
   "metadata": {},
   "source": [
    "#### <span style=\"color:#1DA398\">4.3 по умолчанию</span>"
   ]
  },
  {
   "cell_type": "code",
   "execution_count": null,
   "id": "fa36c1e3-fcab-4cf1-a99f-9bbc0c837d86",
   "metadata": {},
   "outputs": [],
   "source": [
    "# Все значения из столбца\n",
    "# (кажется, по умолчанию используется .loc ...)\n",
    "print(df['D'])"
   ]
  },
  {
   "cell_type": "code",
   "execution_count": null,
   "id": "317d4fb2-1e25-452f-90e1-71dc096dd03b",
   "metadata": {},
   "outputs": [],
   "source": [
    "# А так вообще нельзя\n",
    "print(df[0])"
   ]
  },
  {
   "cell_type": "code",
   "execution_count": null,
   "id": "f66099bb-e594-4704-8d49-8a6fd2e452e4",
   "metadata": {},
   "outputs": [],
   "source": [
    "# А так можно, и это будут строки\n",
    "print(df[0:2])"
   ]
  },
  {
   "cell_type": "markdown",
   "id": "c1047ee7",
   "metadata": {
    "jp-MarkdownHeadingCollapsed": true
   },
   "source": [
    "### <span style=\"color:#55628D\">5. Изменение</span>"
   ]
  },
  {
   "cell_type": "code",
   "execution_count": null,
   "id": "617eee92-04f1-469b-8a81-277226f4605e",
   "metadata": {},
   "outputs": [],
   "source": [
    "import pandas as pd\n",
    "\n",
    "data = {'A': 1.1,\n",
    "        'B': pd.Timestamp('20200901'),\n",
    "        'C': 111,\n",
    "        'D': [42 * i  for i in range(4)],\n",
    "        'E': 'foo'}\n",
    "\n",
    "df = pd.DataFrame(data)\n",
    "print(df)"
   ]
  },
  {
   "cell_type": "code",
   "execution_count": null,
   "id": "d1aabd94-6cfb-4b35-9d81-3d8524cf00b1",
   "metadata": {},
   "outputs": [],
   "source": [
    "# Можно присвоить отдельное значение\n",
    "df.loc[0,'D'] = -42\n",
    "print(df)"
   ]
  },
  {
   "cell_type": "code",
   "execution_count": null,
   "id": "03f52e2e",
   "metadata": {},
   "outputs": [],
   "source": [
    "# Или, например, столбец целиком\n",
    "df.loc[:,'D'] = [i for i in range(4)]\n",
    "print(df)"
   ]
  },
  {
   "cell_type": "code",
   "execution_count": null,
   "id": "46f1e7b1-5164-45a6-a576-834eb76233fd",
   "metadata": {},
   "outputs": [],
   "source": [
    "# Замена целых стоблца/строки одним значеним\n",
    "df.loc[:,'D'] = 0\n",
    "df.loc[2, :] = 0\n",
    "print(df)"
   ]
  },
  {
   "cell_type": "markdown",
   "id": "a5da2e4e",
   "metadata": {},
   "source": [
    "### <span style=\"color:#55628D\">6. Критерии</span>"
   ]
  },
  {
   "cell_type": "code",
   "execution_count": null,
   "id": "ffc6bd8e",
   "metadata": {},
   "outputs": [],
   "source": [
    "import pandas as pd\n",
    "\n",
    "data = {'A': 1.1,\n",
    "        'B': pd.Timestamp('20200901'),\n",
    "        'C': 111,\n",
    "        'D': [42 * i  for i in range(4)],\n",
    "        'E': 'foo'}\n",
    "\n",
    "df = pd.DataFrame(data)\n",
    "print(df)"
   ]
  },
  {
   "cell_type": "code",
   "execution_count": null,
   "id": "d8cb99d9-a944-4a26-993b-8edef9b86893",
   "metadata": {},
   "outputs": [],
   "source": [
    "# Правильный способ выборки чего-нибудь по критерию\n",
    "print(df[df['D'] > 0])"
   ]
  },
  {
   "cell_type": "code",
   "execution_count": null,
   "id": "847f37eb-b180-4809-bb94-c0df8b159a85",
   "metadata": {},
   "outputs": [],
   "source": [
    "# Результат такой операции над фреймом - маска из boolean-ов\n",
    "a = df['D'] > 42\n",
    "print(a)\n",
    "# И эту маску можно применить к тому же фрейму для выборки нужных строк\n",
    "print(\"=================\")\n",
    "print(df[a])"
   ]
  },
  {
   "cell_type": "code",
   "execution_count": null,
   "id": "dbef0116-3462-4fe6-b08b-6d9f1becfbb5",
   "metadata": {},
   "outputs": [],
   "source": [
    "# После выборки строк из них можно извлечь нужный столбец с помощью .loc\n",
    "print(df[df['D'] > 42].loc[:,'D'])"
   ]
  },
  {
   "cell_type": "code",
   "execution_count": null,
   "id": "1214a1ef-233e-48e9-ae3b-006d54710536",
   "metadata": {},
   "outputs": [],
   "source": [
    "print(df[df['D'] > 42]['D'])"
   ]
  },
  {
   "cell_type": "code",
   "execution_count": null,
   "id": "9cf31e2a-0af5-424e-bc50-82e352201065",
   "metadata": {},
   "outputs": [],
   "source": [
    "# А вот так нельзя! потому что цепочка df[].loc[] смотрит уже в копию\n",
    "df[df['D'] > 42].loc[:,'D'] = 0"
   ]
  },
  {
   "cell_type": "code",
   "execution_count": null,
   "id": "89dbe0d9-adf4-4d82-bf3d-b43191db041b",
   "metadata": {},
   "outputs": [],
   "source": [
    "# Но сам .loc умеет принимать маску из boolean-ов в роли индекса, поэтому можно и вот такое написать для выборки.\n",
    "print(df.loc[df['D'] > 42, ['A','D']])"
   ]
  },
  {
   "cell_type": "code",
   "execution_count": null,
   "id": "6c5bbff6",
   "metadata": {},
   "outputs": [],
   "source": [
    "# И вот так теперь можно! Потому что df.loc[] смотрит в реальные данные.\n",
    "df.loc[df['D'] > 42,'D'] = 100\n",
    "print(df)"
   ]
  },
  {
   "cell_type": "markdown",
   "id": "8976f008",
   "metadata": {
    "jp-MarkdownHeadingCollapsed": true
   },
   "source": [
    "### <span style=\"color:#55628D\">7. Сортировка</span>"
   ]
  },
  {
   "cell_type": "code",
   "execution_count": null,
   "id": "a418a96d-145e-4d45-b95f-b0762b11d751",
   "metadata": {},
   "outputs": [],
   "source": [
    "import pandas as pd\n",
    "\n",
    "data = {'A': 1.1,\n",
    "        'B': pd.Timestamp('20200901'),\n",
    "        'C': 111,\n",
    "        'D': [42 * i  for i in range(4)],\n",
    "        'E': 'foo'}\n",
    "\n",
    "df = pd.DataFrame(data)\n",
    "print(df)"
   ]
  },
  {
   "cell_type": "code",
   "execution_count": null,
   "id": "3efef257-737e-4a86-a0bd-bea043ecf436",
   "metadata": {},
   "outputs": [],
   "source": [
    "# Отсортировать фрейм по колонке можно примерно так\n",
    "print(df.sort_values(by='D', ascending=True))"
   ]
  },
  {
   "cell_type": "code",
   "execution_count": null,
   "id": "adcbb198",
   "metadata": {},
   "outputs": [],
   "source": [
    "# Сортировать фрейм можно и после каких-то ещё операций над ним, соединяя их в логические цепочки\n",
    "print(df.loc[df['D'] > 42].sort_values(by='D', ascending=True))"
   ]
  },
  {
   "cell_type": "markdown",
   "id": "d87331d4",
   "metadata": {},
   "source": [
    "### <span style=\"color:#55628D\">8. Пробелы в данных</span>"
   ]
  },
  {
   "cell_type": "code",
   "execution_count": 14,
   "id": "3a88ef13-3364-4b02-ba5b-ed46b0ece4c3",
   "metadata": {},
   "outputs": [
    {
     "name": "stdout",
     "output_type": "stream",
     "text": [
      "     A          B    C    D    E\n",
      "0  1.1 2020-09-01  111    0  foo\n",
      "1  1.1 2020-09-01  111   42  foo\n",
      "2  1.1 2020-09-01  111   84  foo\n",
      "3  1.1 2020-09-01  111  126  foo\n"
     ]
    }
   ],
   "source": [
    "import pandas as pd\n",
    "\n",
    "data = {'A': 1.1,\n",
    "        'B': pd.Timestamp('20200901'),\n",
    "        'C': 111,\n",
    "        'D': [42 * i  for i in range(4)],\n",
    "        'E': 'foo'}\n",
    "\n",
    "df = pd.DataFrame(data)\n",
    "print(df)"
   ]
  },
  {
   "cell_type": "code",
   "execution_count": 15,
   "id": "6d10c927-7438-449d-839b-f4c10817e2cc",
   "metadata": {},
   "outputs": [
    {
     "name": "stdout",
     "output_type": "stream",
     "text": [
      "     A          B    C    D    E     F\n",
      "0  1.1 2020-09-01  111    0  foo   NaN\n",
      "1  1.1 2020-09-01  111   42  foo  test\n",
      "2  1.1 2020-09-01  111   84  foo  test\n",
      "3  1.1 2020-09-01  111  126  foo   NaN\n"
     ]
    }
   ],
   "source": [
    "# Ещё можно при желании создавать новые колонки на лету\n",
    "df.loc[1:2, 'F'] = 'test'\n",
    "print(df)"
   ]
  },
  {
   "cell_type": "code",
   "execution_count": 16,
   "id": "9bc380c1",
   "metadata": {},
   "outputs": [
    {
     "name": "stdout",
     "output_type": "stream",
     "text": [
      "     A          B    C    D    E     F\n",
      "0  1.1 2020-09-01  111    0  foo     s\n",
      "1  1.1 2020-09-01  111   42  foo  test\n",
      "2  1.1 2020-09-01  111   84  foo  test\n",
      "3  1.1 2020-09-01  111  126  foo     s\n"
     ]
    }
   ],
   "source": [
    "# Если это сделать так, как в примере выше, то в данных останутся NaN-ы.\n",
    "# Это не единственный источник NaN-ов, разумеется.\n",
    "# Заполнить такие пробелы в данных значением по умолчанию можно вот так.\n",
    "print(df.fillna(value='s'))"
   ]
  },
  {
   "cell_type": "markdown",
   "id": "7bfa1267",
   "metadata": {
    "jp-MarkdownHeadingCollapsed": true
   },
   "source": [
    "### <span style=\"color:#55628D\">9. Статистика</span>"
   ]
  },
  {
   "cell_type": "code",
   "execution_count": null,
   "id": "8b8dbf68-e5d6-496f-a772-a3cc4bf5706d",
   "metadata": {},
   "outputs": [],
   "source": [
    "import pandas as pd\n",
    "\n",
    "data = {'A': 1.1,\n",
    "        'B': pd.Timestamp('20200901'),\n",
    "        'C': 111,\n",
    "        'D': [i ** 2  for i in range(4)],\n",
    "        'E': 'foo'}\n",
    "\n",
    "df = pd.DataFrame(data)\n",
    "print(df)"
   ]
  },
  {
   "cell_type": "code",
   "execution_count": null,
   "id": "70464428-c30b-4871-8cf6-28c63c27acc1",
   "metadata": {},
   "outputs": [],
   "source": [
    "# Можно посчитать от данных какие-нибудь статы\n",
    "\n",
    "# Кстати, если что-нибудь будет нам многократно нужно, его очень даже можно запомнить в какой-нибудь переменной.\n",
    "target = df.loc[df['D'] > 0, 'D']\n",
    "print(target)"
   ]
  },
  {
   "cell_type": "code",
   "execution_count": null,
   "id": "ea3d76e5-2a64-4187-912f-352a200be430",
   "metadata": {},
   "outputs": [],
   "source": [
    "# Теперь посчитаем статы от выбранного кусочка данных\n",
    "print(f\"Минимум: {target.min()}\")\n",
    "print(f\"Максимум: {target.max()}\")\n",
    "print(f\"Среднее: {target.mean()}\")\n",
    "print(f\"Медиана: {target.median()}\")"
   ]
  },
  {
   "cell_type": "code",
   "execution_count": null,
   "id": "2ca61476-80e1-40f1-ab90-aef3d2a51b07",
   "metadata": {},
   "outputs": [],
   "source": [
    "# На правах ремарки. Вот этот результат вряд ли вам понравится.\n",
    "print(df.loc[:,['D']].mean())\n",
    "print(\"=================\")\n",
    "print(df.loc[:,['D']].mean().to_list()[0])\n",
    "print(df.loc[:,['D']].mean()[0])\n",
    "print(\"=================\")\n",
    "\n",
    "# Потому что его тип будет не float, а pandas.core.series.Series\n",
    "# Потому что указали не один столбец, а список из одного столбца.\n",
    "print(type(df.loc[:,['D']].mean()))"
   ]
  },
  {
   "cell_type": "markdown",
   "id": "889c3045",
   "metadata": {},
   "source": [
    "### <span style=\"color:#55628D\">10. Функция apply()</span>\n",
    "Внимание! Сама идея использовать **.apply()** довольно плохая. Потому что это плохо для производительности.<br>\n",
    "Лучше использовать нативные методы.<br>\n",
    "Но если очень нужно, то так можно."
   ]
  },
  {
   "cell_type": "code",
   "execution_count": null,
   "id": "67e39ce0-02f2-47a8-a43d-906400d62e43",
   "metadata": {},
   "outputs": [],
   "source": [
    "import pandas as pd\n",
    "\n",
    "data = {'A': 1.1,\n",
    "        'B': pd.Timestamp('20200901'),\n",
    "        'C': 111,\n",
    "        'D': [i ** 2  for i in range(4)],\n",
    "        'E': 'foo'}\n",
    "\n",
    "df = pd.DataFrame(data)\n",
    "print(df)"
   ]
  },
  {
   "cell_type": "code",
   "execution_count": null,
   "id": "bfa9f17a",
   "metadata": {},
   "outputs": [],
   "source": [
    "print(df.loc[:,['A', 'C', 'D']].apply(lambda x: x**2))"
   ]
  },
  {
   "cell_type": "code",
   "execution_count": null,
   "id": "dee97278-bc57-409f-9ba7-3c7b41cf0d14",
   "metadata": {},
   "outputs": [],
   "source": [
    "print(df)"
   ]
  },
  {
   "cell_type": "markdown",
   "id": "6383feb0",
   "metadata": {},
   "source": [
    "### <span style=\"color:#55628D\">11. Склейка</span>"
   ]
  },
  {
   "cell_type": "markdown",
   "id": "ff1d594e-e833-473f-abc9-0a9066c79b8d",
   "metadata": {},
   "source": [
    "#### <span style=\"color:#1DA398\">11.0 Простая склейка</span>"
   ]
  },
  {
   "cell_type": "code",
   "execution_count": null,
   "id": "71a6ff6f-794b-4578-8c7b-18cb7e3f58f1",
   "metadata": {},
   "outputs": [],
   "source": [
    "import pandas as pd\n",
    "\n",
    "# У нас есть данные из разных источников, которые хочется склеить по ключу\n",
    "left = pd.DataFrame({'key': ['foo', 'bar'], \n",
    "                     'lval': [1, 2]})\n",
    "right = pd.DataFrame({'key': ['foo', 'bar'], \n",
    "                      'rval': [4, 5]})\n",
    "\n",
    "print(f\"Слева:\\n{left}\")\n",
    "print(\"=================\")\n",
    "print(f\"Справа:\\n{right}\")"
   ]
  },
  {
   "cell_type": "code",
   "execution_count": null,
   "id": "16ddd24f-2840-47bc-b3c0-54ad14ad49c4",
   "metadata": {},
   "outputs": [],
   "source": [
    "m = pd.merge(left, right)\n",
    "print(m)"
   ]
  },
  {
   "cell_type": "markdown",
   "id": "5ff4c24b-3f8a-409a-9831-951329d8b990",
   "metadata": {},
   "source": [
    "#### <span style=\"color:#1DA398\">11.1 Исправных данных по ключу</span>"
   ]
  },
  {
   "cell_type": "code",
   "execution_count": null,
   "id": "ed5ff9ed-1e7a-4ad4-95d2-334c30549e90",
   "metadata": {},
   "outputs": [],
   "source": [
    "# Это можно сделать вот так\n",
    "m = pd.merge(left, right, on='key')\n",
    "print(m)"
   ]
  },
  {
   "cell_type": "markdown",
   "id": "5ff8654b-258d-41e6-b798-60336b3a49dc",
   "metadata": {},
   "source": [
    "#### <span style=\"color:#1DA398\">11.2 Ошибочных данных по ключу</span>"
   ]
  },
  {
   "cell_type": "code",
   "execution_count": null,
   "id": "2ea6322c-21a5-4db9-89b5-c5f20f894090",
   "metadata": {},
   "outputs": [],
   "source": [
    "# А если ключи не совпадают?\n",
    "right2 = pd.DataFrame({'key': ['foo', 'baz'], 'rval': [4, 5]})\n",
    "\n",
    "print(f\"Слева:\\n{left}\")\n",
    "print(\"=================\")\n",
    "print(f\"Справа:\\n{right2}\")"
   ]
  },
  {
   "cell_type": "code",
   "execution_count": null,
   "id": "1123b4cc-2da2-4b95-9cf0-f1861d92356c",
   "metadata": {},
   "outputs": [],
   "source": [
    "print(pd.merge(left, right2, on='key'))"
   ]
  },
  {
   "cell_type": "markdown",
   "id": "ec9e03b9-d080-42ff-b5ae-9753d8bc875c",
   "metadata": {},
   "source": [
    "#### <span style=\"color:#1DA398\">11.3 Повторяющихся данных по ключу</span>"
   ]
  },
  {
   "cell_type": "code",
   "execution_count": null,
   "id": "4360b0bc-a55b-4fa2-933d-7c03f556b434",
   "metadata": {},
   "outputs": [],
   "source": [
    "left3 = pd.DataFrame({'key': ['foo', 'foo'], 'lval': [1, 2]})\n",
    "right3 = pd.DataFrame({'key': ['foo', 'foo'], 'rval': [4, 5]})\n",
    "\n",
    "print(f\"Слева:\\n{left3}\")\n",
    "print(\"=================\")\n",
    "print(f\"Справа:\\n{right3}\")"
   ]
  },
  {
   "cell_type": "code",
   "execution_count": null,
   "id": "9ff30880",
   "metadata": {},
   "outputs": [],
   "source": [
    "print(pd.merge(left3, right3, on='key'))"
   ]
  },
  {
   "cell_type": "markdown",
   "id": "57bdfe10",
   "metadata": {},
   "source": [
    "### <span style=\"color:#55628D\">12. Группировка</span>"
   ]
  },
  {
   "cell_type": "code",
   "execution_count": 1,
   "id": "358e6e85-3fe9-41ad-aa97-18d0cd0d02b0",
   "metadata": {},
   "outputs": [
    {
     "name": "stdout",
     "output_type": "stream",
     "text": [
      "     A      B  C   D\n",
      "0  foo    one  0   0\n",
      "1  bar    one  1   1\n",
      "2  foo    two  2   4\n",
      "3  bar  three  3   9\n",
      "4  foo    two  4  16\n",
      "5  bar    two  5  25\n",
      "6  foo    one  6  36\n",
      "7  foo  three  7  49\n"
     ]
    }
   ],
   "source": [
    "import pandas as pd\n",
    "\n",
    "df = pd.DataFrame({'A': ['foo', 'bar', 'foo', 'bar', 'foo', 'bar', 'foo', 'foo'],\n",
    "                   'B': ['one', 'one', 'two', 'three', 'two', 'two', 'one', 'three'],\n",
    "                   'C': [i for i in range(8)],\n",
    "                   'D': [i**2 for i in range(8)]})\n",
    "\n",
    "print(df)"
   ]
  },
  {
   "cell_type": "code",
   "execution_count": 2,
   "id": "84ad055e",
   "metadata": {},
   "outputs": [
    {
     "name": "stdout",
     "output_type": "stream",
     "text": [
      "                     B   C    D\n",
      "A                              \n",
      "bar        onethreetwo   9   35\n",
      "foo  onetwotwoonethree  19  105\n"
     ]
    }
   ],
   "source": [
    "# Можно, например, сгруппировать по значениям в столбце A, после чего посчитать суммы по каждой группе.\n",
    "print(df.groupby('A').sum())"
   ]
  },
  {
   "cell_type": "code",
   "execution_count": null,
   "id": "d271b444-f431-49cb-a486-3b27be94c6f9",
   "metadata": {},
   "outputs": [],
   "source": [
    "# Так тоже можно. Но лучше без .apply всё же.\n",
    "print(df.groupby('A').apply()"
   ]
  },
  {
   "cell_type": "markdown",
   "id": "519b1000",
   "metadata": {},
   "source": [
    "### <span style=\"color:#55628D\">13. Визуализация</span>"
   ]
  },
  {
   "cell_type": "code",
   "execution_count": null,
   "id": "9e413e0e-7528-47a3-ba60-57ac6c788025",
   "metadata": {},
   "outputs": [],
   "source": [
    "import pandas as pd\n",
    "import matplotlib.pyplot as plt\n",
    "\n",
    "df = pd.DataFrame({'A': ['foo', 'bar', 'foo', 'bar', 'foo', 'bar', 'foo', 'foo'],\n",
    "                   'B': ['one', 'one', 'two', 'three', 'two', 'two', 'one', 'three'],\n",
    "                   'C': [i for i in range(8)],\n",
    "                   'D': [i**2 for i in range(8)]})\n",
    "\n",
    "print(df)"
   ]
  },
  {
   "cell_type": "code",
   "execution_count": null,
   "id": "d4a48f8f-eaea-45a4-890b-c90e6e8ac595",
   "metadata": {},
   "outputs": [],
   "source": [
    "# Можно взять и нарисовать фрейм\n",
    "ax = df.plot()\n",
    "ax.set_xlabel('x label')\n",
    "ax.set_ylabel('y label')\n",
    "plt.show()"
   ]
  },
  {
   "cell_type": "code",
   "execution_count": null,
   "id": "48776f7d-484c-4e6c-9b0e-220e4690da18",
   "metadata": {},
   "outputs": [],
   "source": [
    "# А потом посчитать агрегаты\n",
    "aggr = df.groupby('A').sum()\n",
    "print(aggr)"
   ]
  },
  {
   "cell_type": "code",
   "execution_count": null,
   "id": "98b82dcf",
   "metadata": {},
   "outputs": [],
   "source": [
    "# И их тоже нарисовать\n",
    "ax2 = aggr.plot(kind='bar')\n",
    "\n",
    "plt.show()"
   ]
  },
  {
   "cell_type": "markdown",
   "id": "f7b5e049",
   "metadata": {},
   "source": [
    "### <span style=\"color:#55628D\">14. Чтение из файла</span>\n",
    "1. read_csv\n",
    "2. read_excel\n",
    "3. read_json\n",
    "4. read_html\n",
    "5. read_sql\n",
    "6. ..."
   ]
  },
  {
   "cell_type": "code",
   "execution_count": null,
   "id": "d63ee49d",
   "metadata": {},
   "outputs": [],
   "source": [
    "import pandas as pd\n",
    "\n",
    "df = pd.read_csv(\"lesson07/data.csv\", index_col='num', sep=\",\")\n",
    "\n",
    "print(df)"
   ]
  },
  {
   "cell_type": "code",
   "execution_count": null,
   "id": "61282d14-bd85-45a8-a592-df8e8f921cb3",
   "metadata": {},
   "outputs": [],
   "source": [
    "print(df.groupby('A').sum())"
   ]
  },
  {
   "cell_type": "markdown",
   "id": "eeaee820-3712-46cd-b5f6-07745477b209",
   "metadata": {},
   "source": [
    "---\n",
    "#### LMS-контест "
   ]
  },
  {
   "cell_type": "code",
   "execution_count": null,
   "id": "342dbdaa-5809-4ed7-8544-a58625982147",
   "metadata": {},
   "outputs": [],
   "source": [
    "import pandas as pd\n",
    "\n",
    "file1 = \"lesson07/games001.csv\"\n",
    "file2 = \"lesson07/rates001.csv\"\n",
    "\n",
    "games = pd.read_csv(file1, sep=\";\")\n",
    "rates = pd.read_csv(file2, sep=\";\")\n",
    "\n",
    "# Подготовка\n",
    "mean_marks = rates.groupby('id', as_index=False).mean()\n",
    "data = pd.merge(games, mean_marks, on='id')\n",
    "\n",
    "# 1-я часть задачи\n",
    "sorted_data = data.sort_values(\"mark\", ascending=False)\n",
    "sorted_data = sorted_data.reset_index()\n",
    "for i in range(3):\n",
    "    print(f\"{sorted_data.loc[i, 'name']} {sorted_data.loc[i, 'mark']:.3f}\")\n",
    "\n",
    "# 2-я часть задачи\n",
    "data_8 = data.loc[data['mark'] > 8.0]\n",
    "tmp = data_8.loc[:, \"company\"].value_counts()\n",
    "a = tmp.sort_values(ascending=False)\n",
    "print(f\"{a.index[0]} {a.iloc[0]}\")"
   ]
  }
 ],
 "metadata": {
  "kernelspec": {
   "display_name": "Python 3 (ipykernel)",
   "language": "python",
   "name": "python3"
  },
  "language_info": {
   "codemirror_mode": {
    "name": "ipython",
    "version": 3
   },
   "file_extension": ".py",
   "mimetype": "text/x-python",
   "name": "python",
   "nbconvert_exporter": "python",
   "pygments_lexer": "ipython3",
   "version": "3.10.12"
  }
 },
 "nbformat": 4,
 "nbformat_minor": 5
}
