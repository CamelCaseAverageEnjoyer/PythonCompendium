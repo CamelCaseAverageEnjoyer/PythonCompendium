{
 "cells": [
  {
   "cell_type": "markdown",
   "id": "65c339fb",
   "metadata": {},
   "source": [
    "### <span style=\"color:#0ab49a\">Занятие №7:</span> <span style=\"color:#BA77D8\">Табличные данные</span> \n",
    "\n",
    "![](img/banner.png)"
   ]
  },
  {
   "cell_type": "markdown",
   "id": "10b1bb29",
   "metadata": {},
   "source": [
    "### <span style=\"color:#55628D\">1. Знакомство с Pandas</span>"
   ]
  },
  {
   "cell_type": "code",
   "execution_count": 94,
   "id": "a19e6deb-68b8-40bd-9e6a-4c0e1e3bed32",
   "metadata": {},
   "outputs": [
    {
     "name": "stdout",
     "output_type": "stream",
     "text": [
      "          0         1         2         3\n",
      "0  0.990360 -1.131429 -1.065981  0.855488\n",
      "1  0.493665  0.589660 -0.432106 -0.240378\n",
      "2 -0.807992 -1.794176 -1.210304  0.201295\n",
      "3 -0.270479 -1.121976  0.459273 -0.178025\n",
      "4  0.188286 -0.931686  1.959219  0.387350\n",
      "5  2.252443  0.848532  0.925256  1.014754\n"
     ]
    }
   ],
   "source": [
    "import pandas as pd\n",
    "\n",
    "# У нас есть какие-то данные табличного духа\n",
    "data = [[ 0.990360, -1.131429, -1.065981,  0.855488],\n",
    "        [ 0.493665,  0.589660, -0.432106, -0.240378],\n",
    "        [-0.807992, -1.794176, -1.210304,  0.201295],\n",
    "        [-0.270479, -1.121976,  0.459273, -0.178025],\n",
    "        [ 0.188286, -0.931686,  1.959219,  0.387350],\n",
    "        [ 2.252443,  0.848532,  0.925256,  1.014754]]\n",
    "\n",
    "df = pd.DataFrame(data)\n",
    "print(df)"
   ]
  },
  {
   "cell_type": "code",
   "execution_count": 101,
   "id": "a1a74245-7908-4901-8af1-6f48753b731e",
   "metadata": {},
   "outputs": [
    {
     "data": {
      "text/html": [
       "<div>\n",
       "<style scoped>\n",
       "    .dataframe tbody tr th:only-of-type {\n",
       "        vertical-align: middle;\n",
       "    }\n",
       "\n",
       "    .dataframe tbody tr th {\n",
       "        vertical-align: top;\n",
       "    }\n",
       "\n",
       "    .dataframe thead th {\n",
       "        text-align: right;\n",
       "    }\n",
       "</style>\n",
       "<table border=\"1\" class=\"dataframe\">\n",
       "  <thead>\n",
       "    <tr style=\"text-align: right;\">\n",
       "      <th></th>\n",
       "      <th>0</th>\n",
       "      <th>1</th>\n",
       "      <th>2</th>\n",
       "      <th>3</th>\n",
       "    </tr>\n",
       "  </thead>\n",
       "  <tbody>\n",
       "    <tr>\n",
       "      <th>0</th>\n",
       "      <td>0.990360</td>\n",
       "      <td>-1.131429</td>\n",
       "      <td>-1.065981</td>\n",
       "      <td>0.855488</td>\n",
       "    </tr>\n",
       "    <tr>\n",
       "      <th>1</th>\n",
       "      <td>0.493665</td>\n",
       "      <td>0.589660</td>\n",
       "      <td>-0.432106</td>\n",
       "      <td>-0.240378</td>\n",
       "    </tr>\n",
       "    <tr>\n",
       "      <th>2</th>\n",
       "      <td>-0.807992</td>\n",
       "      <td>-1.794176</td>\n",
       "      <td>-1.210304</td>\n",
       "      <td>0.201295</td>\n",
       "    </tr>\n",
       "  </tbody>\n",
       "</table>\n",
       "</div>"
      ],
      "text/plain": [
       "          0         1         2         3\n",
       "0  0.990360 -1.131429 -1.065981  0.855488\n",
       "1  0.493665  0.589660 -0.432106 -0.240378\n",
       "2 -0.807992 -1.794176 -1.210304  0.201295"
      ]
     },
     "execution_count": 101,
     "metadata": {},
     "output_type": "execute_result"
    }
   ],
   "source": [
    "df[0:3]"
   ]
  },
  {
   "cell_type": "code",
   "execution_count": 96,
   "id": "bfb00702-6df9-45cf-8c68-39425bf78d5d",
   "metadata": {},
   "outputs": [
    {
     "data": {
      "text/plain": [
       "0"
      ]
     },
     "execution_count": 96,
     "metadata": {},
     "output_type": "execute_result"
    }
   ],
   "source": [
    "list(df.columns)[0]"
   ]
  },
  {
   "cell_type": "code",
   "execution_count": 41,
   "id": "e8f27fba",
   "metadata": {},
   "outputs": [
    {
     "name": "stdout",
     "output_type": "stream",
     "text": [
      "          A         B         C         D\n",
      "0  0.990360 -1.131429 -1.065981  0.855488\n",
      "1  0.493665  0.589660 -0.432106 -0.240378\n",
      "2 -0.807992 -1.794176 -1.210304  0.201295\n",
      "3 -0.270479 -1.121976  0.459273 -0.178025\n",
      "4  0.188286 -0.931686  1.959219  0.387350\n",
      "5  2.252443  0.848532  0.925256  1.014754\n"
     ]
    }
   ],
   "source": [
    "# Из них можно создать DataFrame, дав колонкам имена\n",
    "df = pd.DataFrame(data, columns=list('ABCD'))\n",
    "print(df)"
   ]
  },
  {
   "cell_type": "code",
   "execution_count": 42,
   "id": "73368bc7-fc6b-4ff5-863e-99878f9b1acb",
   "metadata": {},
   "outputs": [
    {
     "name": "stdout",
     "output_type": "stream",
     "text": [
      "       0     1     2     3     4\n",
      "0    0-0   1-0   2-0   3-0   4-0\n",
      "1    0-1   1-1   2-1   3-1   4-1\n",
      "2    0-2   1-2   2-2   3-2   4-2\n",
      "3    0-3   1-3   2-3   3-3   4-3\n",
      "4    0-4   1-4   2-4   3-4   4-4\n",
      "..   ...   ...   ...   ...   ...\n",
      "95  0-95  1-95  2-95  3-95  4-95\n",
      "96  0-96  1-96  2-96  3-96  4-96\n",
      "97  0-97  1-97  2-97  3-97  4-97\n",
      "98  0-98  1-98  2-98  3-98  4-98\n",
      "99  0-99  1-99  2-99  3-99  4-99\n",
      "\n",
      "[100 rows x 5 columns]\n"
     ]
    }
   ],
   "source": [
    "# Если данные очень большие, по умолчанию отображение урезается\n",
    "data = [[f\"{i}-{j}\" for i in range(5)] for j in range(100)]\n",
    "df = pd.DataFrame(data)\n",
    "print(df)"
   ]
  },
  {
   "cell_type": "code",
   "execution_count": 43,
   "id": "1bb30454-83eb-44ea-a499-802f4d264d83",
   "metadata": {
    "scrolled": true
   },
   "outputs": [
    {
     "name": "stdout",
     "output_type": "stream",
     "text": [
      "       0     1     2     3     4\n",
      "0    0-0   1-0   2-0   3-0   4-0\n",
      "1    0-1   1-1   2-1   3-1   4-1\n",
      "2    0-2   1-2   2-2   3-2   4-2\n",
      "3    0-3   1-3   2-3   3-3   4-3\n",
      "4    0-4   1-4   2-4   3-4   4-4\n",
      "5    0-5   1-5   2-5   3-5   4-5\n",
      "6    0-6   1-6   2-6   3-6   4-6\n",
      "7    0-7   1-7   2-7   3-7   4-7\n",
      "8    0-8   1-8   2-8   3-8   4-8\n",
      "9    0-9   1-9   2-9   3-9   4-9\n",
      "10  0-10  1-10  2-10  3-10  4-10\n",
      "11  0-11  1-11  2-11  3-11  4-11\n",
      "12  0-12  1-12  2-12  3-12  4-12\n",
      "13  0-13  1-13  2-13  3-13  4-13\n",
      "14  0-14  1-14  2-14  3-14  4-14\n",
      "15  0-15  1-15  2-15  3-15  4-15\n",
      "16  0-16  1-16  2-16  3-16  4-16\n",
      "17  0-17  1-17  2-17  3-17  4-17\n",
      "18  0-18  1-18  2-18  3-18  4-18\n",
      "19  0-19  1-19  2-19  3-19  4-19\n",
      "20  0-20  1-20  2-20  3-20  4-20\n",
      "21  0-21  1-21  2-21  3-21  4-21\n",
      "22  0-22  1-22  2-22  3-22  4-22\n",
      "23  0-23  1-23  2-23  3-23  4-23\n",
      "24  0-24  1-24  2-24  3-24  4-24\n",
      "25  0-25  1-25  2-25  3-25  4-25\n",
      "26  0-26  1-26  2-26  3-26  4-26\n",
      "27  0-27  1-27  2-27  3-27  4-27\n",
      "28  0-28  1-28  2-28  3-28  4-28\n",
      "29  0-29  1-29  2-29  3-29  4-29\n",
      "30  0-30  1-30  2-30  3-30  4-30\n",
      "31  0-31  1-31  2-31  3-31  4-31\n",
      "32  0-32  1-32  2-32  3-32  4-32\n",
      "33  0-33  1-33  2-33  3-33  4-33\n",
      "34  0-34  1-34  2-34  3-34  4-34\n",
      "35  0-35  1-35  2-35  3-35  4-35\n",
      "36  0-36  1-36  2-36  3-36  4-36\n",
      "37  0-37  1-37  2-37  3-37  4-37\n",
      "38  0-38  1-38  2-38  3-38  4-38\n",
      "39  0-39  1-39  2-39  3-39  4-39\n",
      "40  0-40  1-40  2-40  3-40  4-40\n",
      "41  0-41  1-41  2-41  3-41  4-41\n",
      "42  0-42  1-42  2-42  3-42  4-42\n",
      "43  0-43  1-43  2-43  3-43  4-43\n",
      "44  0-44  1-44  2-44  3-44  4-44\n",
      "45  0-45  1-45  2-45  3-45  4-45\n",
      "46  0-46  1-46  2-46  3-46  4-46\n",
      "47  0-47  1-47  2-47  3-47  4-47\n",
      "48  0-48  1-48  2-48  3-48  4-48\n",
      "49  0-49  1-49  2-49  3-49  4-49\n",
      "50  0-50  1-50  2-50  3-50  4-50\n",
      "51  0-51  1-51  2-51  3-51  4-51\n",
      "52  0-52  1-52  2-52  3-52  4-52\n",
      "53  0-53  1-53  2-53  3-53  4-53\n",
      "54  0-54  1-54  2-54  3-54  4-54\n",
      "55  0-55  1-55  2-55  3-55  4-55\n",
      "56  0-56  1-56  2-56  3-56  4-56\n",
      "57  0-57  1-57  2-57  3-57  4-57\n",
      "58  0-58  1-58  2-58  3-58  4-58\n",
      "59  0-59  1-59  2-59  3-59  4-59\n",
      "60  0-60  1-60  2-60  3-60  4-60\n",
      "61  0-61  1-61  2-61  3-61  4-61\n",
      "62  0-62  1-62  2-62  3-62  4-62\n",
      "63  0-63  1-63  2-63  3-63  4-63\n",
      "64  0-64  1-64  2-64  3-64  4-64\n",
      "65  0-65  1-65  2-65  3-65  4-65\n",
      "66  0-66  1-66  2-66  3-66  4-66\n",
      "67  0-67  1-67  2-67  3-67  4-67\n",
      "68  0-68  1-68  2-68  3-68  4-68\n",
      "69  0-69  1-69  2-69  3-69  4-69\n",
      "70  0-70  1-70  2-70  3-70  4-70\n",
      "71  0-71  1-71  2-71  3-71  4-71\n",
      "72  0-72  1-72  2-72  3-72  4-72\n",
      "73  0-73  1-73  2-73  3-73  4-73\n",
      "74  0-74  1-74  2-74  3-74  4-74\n",
      "75  0-75  1-75  2-75  3-75  4-75\n",
      "76  0-76  1-76  2-76  3-76  4-76\n",
      "77  0-77  1-77  2-77  3-77  4-77\n",
      "78  0-78  1-78  2-78  3-78  4-78\n",
      "79  0-79  1-79  2-79  3-79  4-79\n",
      "80  0-80  1-80  2-80  3-80  4-80\n",
      "81  0-81  1-81  2-81  3-81  4-81\n",
      "82  0-82  1-82  2-82  3-82  4-82\n",
      "83  0-83  1-83  2-83  3-83  4-83\n",
      "84  0-84  1-84  2-84  3-84  4-84\n",
      "85  0-85  1-85  2-85  3-85  4-85\n",
      "86  0-86  1-86  2-86  3-86  4-86\n",
      "87  0-87  1-87  2-87  3-87  4-87\n",
      "88  0-88  1-88  2-88  3-88  4-88\n",
      "89  0-89  1-89  2-89  3-89  4-89\n",
      "90  0-90  1-90  2-90  3-90  4-90\n",
      "91  0-91  1-91  2-91  3-91  4-91\n",
      "92  0-92  1-92  2-92  3-92  4-92\n",
      "93  0-93  1-93  2-93  3-93  4-93\n",
      "94  0-94  1-94  2-94  3-94  4-94\n",
      "95  0-95  1-95  2-95  3-95  4-95\n",
      "96  0-96  1-96  2-96  3-96  4-96\n",
      "97  0-97  1-97  2-97  3-97  4-97\n",
      "98  0-98  1-98  2-98  3-98  4-98\n",
      "99  0-99  1-99  2-99  3-99  4-99\n"
     ]
    }
   ],
   "source": [
    "pd.set_option(\"display.max_rows\", None)\n",
    "print(df)\n",
    "pd.set_option(\"display.max_rows\", 10)"
   ]
  },
  {
   "cell_type": "markdown",
   "id": "3d79a440",
   "metadata": {},
   "source": [
    "### <span style=\"color:#55628D\">2. Метаданные</span>"
   ]
  },
  {
   "cell_type": "code",
   "execution_count": 54,
   "id": "3e718ad6-246f-4ba9-a703-3d345c8c1471",
   "metadata": {},
   "outputs": [
    {
     "name": "stdout",
     "output_type": "stream",
     "text": [
      "     A          B    C   D    E\n",
      "0  1.1 2020-09-01  111   0  foo\n",
      "1  1.1 2020-09-01  str  42  foo\n"
     ]
    }
   ],
   "source": [
    "import pandas as pd\n",
    "\n",
    "# Если у нас есть словарь с разнородными данными, из него тоже можно сделать DataFrame\n",
    "N = 2\n",
    "data = {'A': [1.1 for _ in range(N)],\n",
    "        'B': pd.Timestamp('20200901'),\n",
    "        'C': [111, \"str\"],\n",
    "        'D': [42 * i  for i in range(N)],\n",
    "        'E': 'foo'}\n",
    "df = pd.DataFrame(data)\n",
    "\n",
    "# Посмотрим, как выглядит df с учётом того, что данные в него были загружены разной размерности\n",
    "print(df)"
   ]
  },
  {
   "cell_type": "code",
   "execution_count": 55,
   "id": "1fc2f9fe-7253-47e7-a91e-ada51d1501e3",
   "metadata": {},
   "outputs": [
    {
     "name": "stdout",
     "output_type": "stream",
     "text": [
      "A          float64\n",
      "B    datetime64[s]\n",
      "C           object\n",
      "D            int64\n",
      "E           object\n",
      "dtype: object\n"
     ]
    }
   ],
   "source": [
    "# Типы данных\n",
    "print(df.dtypes)"
   ]
  },
  {
   "cell_type": "code",
   "execution_count": 53,
   "id": "e63c090d-b035-4add-b08d-384fe7055c6c",
   "metadata": {},
   "outputs": [
    {
     "name": "stdout",
     "output_type": "stream",
     "text": [
      "[0, 1, 2, 3]\n"
     ]
    }
   ],
   "source": [
    "# Индекс\n",
    "print(list(df.index))"
   ]
  },
  {
   "cell_type": "code",
   "execution_count": 52,
   "id": "c6a604bf",
   "metadata": {},
   "outputs": [
    {
     "name": "stdout",
     "output_type": "stream",
     "text": [
      "['A', 'B', 'C', 'D', 'E']\n"
     ]
    }
   ],
   "source": [
    "# Столбцы\n",
    "print(list(df.columns))"
   ]
  },
  {
   "cell_type": "markdown",
   "id": "124589c4",
   "metadata": {},
   "source": [
    "### <span style=\"color:#55628D\">3. Индексы</span>\n",
    "На этапе первого общения с pandas вряд ли нужны нестандартные индексы. Но стоит знать, что они бывают.<br>\n",
    "И при обращении через .loc нужно именно значение индекса, и оно может быть не равно номеру строки."
   ]
  },
  {
   "cell_type": "code",
   "execution_count": 61,
   "id": "db0c574a-37ac-4080-baf7-26b77fad2ad3",
   "metadata": {},
   "outputs": [
    {
     "name": "stdout",
     "output_type": "stream",
     "text": [
      "          A         B         C         D\n",
      "0  0.990360 -1.131429 -1.065981  0.855488\n",
      "1  0.493665  0.589660 -0.432106 -0.240378\n",
      "2 -0.807992 -1.794176 -1.210304  0.201295\n",
      "3 -0.270479 -1.121976  0.459273 -0.178025\n",
      "4  0.188286 -0.931686  1.959219  0.387350\n",
      "5  2.252443  0.848532  0.925256  1.014754\n"
     ]
    }
   ],
   "source": [
    "import pandas as pd\n",
    "\n",
    "data = [[ 0.990360, -1.131429, -1.065981,  0.855488],\n",
    "        [ 0.493665,  0.589660, -0.432106, -0.240378],\n",
    "        [-0.807992, -1.794176, -1.210304,  0.201295],\n",
    "        [-0.270479, -1.121976,  0.459273, -0.178025],\n",
    "        [ 0.188286, -0.931686,  1.959219,  0.387350],\n",
    "        [ 2.252443,  0.848532,  0.925256,  1.014754]]\n",
    "\n",
    "df = pd.DataFrame(data, columns=list('ABCD'))\n",
    "print(df)"
   ]
  },
  {
   "cell_type": "code",
   "execution_count": 62,
   "id": "ccb3a3c0-3851-40a0-8901-2cd756d1cd5d",
   "metadata": {},
   "outputs": [
    {
     "name": "stdout",
     "output_type": "stream",
     "text": [
      "RangeIndex(start=0, stop=6, step=1)\n"
     ]
    }
   ],
   "source": [
    "# По умолчанию индексы - номера строк\n",
    "print(df.index)"
   ]
  },
  {
   "cell_type": "code",
   "execution_count": 63,
   "id": "a00c2756-0381-49ad-98f7-a2fddf97de56",
   "metadata": {},
   "outputs": [
    {
     "name": "stdout",
     "output_type": "stream",
     "text": [
      "0.99036\n"
     ]
    }
   ],
   "source": [
    "# Обращение к отдельной \"ячейке таблицы\"\n",
    "print(df.loc[0,'A'])"
   ]
  },
  {
   "cell_type": "code",
   "execution_count": 64,
   "id": "42b3920b-0cd2-46a8-b9e8-217aec25ddcf",
   "metadata": {},
   "outputs": [
    {
     "name": "stdout",
     "output_type": "stream",
     "text": [
      "                   A         B         C         D\n",
      "2020-01-01  0.990360 -1.131429 -1.065981  0.855488\n",
      "2020-01-02  0.493665  0.589660 -0.432106 -0.240378\n",
      "2020-01-03 -0.807992 -1.794176 -1.210304  0.201295\n",
      "2020-01-04 -0.270479 -1.121976  0.459273 -0.178025\n",
      "2020-01-05  0.188286 -0.931686  1.959219  0.387350\n",
      "2020-01-06  2.252443  0.848532  0.925256  1.014754\n"
     ]
    }
   ],
   "source": [
    "# Создадим новый фрейм из тех же данных, но индекс теперь будет нестандартный\n",
    "dates = pd.date_range('20200101', periods=6)\n",
    "df2 = pd.DataFrame(data, index=dates, columns=list('ABCD'))\n",
    "print(df2)"
   ]
  },
  {
   "cell_type": "code",
   "execution_count": 65,
   "id": "0c4ef2e9-9c63-44a7-aa46-1287b35325b3",
   "metadata": {},
   "outputs": [
    {
     "name": "stdout",
     "output_type": "stream",
     "text": [
      "DatetimeIndex(['2020-01-01', '2020-01-02', '2020-01-03', '2020-01-04',\n",
      "               '2020-01-05', '2020-01-06'],\n",
      "              dtype='datetime64[ns]', freq='D')\n"
     ]
    }
   ],
   "source": [
    "print(df2.index)"
   ]
  },
  {
   "cell_type": "code",
   "execution_count": 69,
   "id": "ed5b1b8d-6b18-4b82-8878-8127677377cd",
   "metadata": {},
   "outputs": [
    {
     "name": "stdout",
     "output_type": "stream",
     "text": [
      "0.493665\n"
     ]
    }
   ],
   "source": [
    "# И обратим внимание, как теперь выглядит обрашение к \"ячейке таблицы\"\n",
    "print(df2.loc['20200102','A'])"
   ]
  },
  {
   "cell_type": "markdown",
   "id": "f2f0cae0",
   "metadata": {},
   "source": [
    "### <span style=\"color:#55628D\">4. Обращение к элементам</span>\n",
    "\"Просто скобочками\" можно обращаться к столбцам по имени или к строкам по диапазонам.<br>\n",
    "Просто потому что это частая хотелка и интуитивное ожидание.<br>\n",
    "Но во избежание путаницы есть смысл использовать .loc или .iloc явно."
   ]
  },
  {
   "cell_type": "markdown",
   "id": "6914c090-01b4-41eb-b377-96db42fdce99",
   "metadata": {},
   "source": [
    "#### <span style=\"color:#1DA398\">4.1 loc</span>\n",
    "Выборки средствами .loc, при обращении через .loc используются *ключи*.<br>\n",
    "Можно использовать отдельные значения, списки, диапазоны."
   ]
  },
  {
   "cell_type": "code",
   "execution_count": 70,
   "id": "bef971d9-e106-4004-8db6-8513714d82e0",
   "metadata": {},
   "outputs": [
    {
     "name": "stdout",
     "output_type": "stream",
     "text": [
      "     A          B    C    D    E\n",
      "0  1.1 2020-09-01  111    0  foo\n",
      "1  1.1 2020-09-01  111   42  foo\n",
      "2  1.1 2020-09-01  111   84  foo\n",
      "3  1.1 2020-09-01  111  126  foo\n"
     ]
    }
   ],
   "source": [
    "import pandas as pd\n",
    "\n",
    "data = {'A': 1.1,\n",
    "        'B': pd.Timestamp('20200901'),\n",
    "        'C': 111,\n",
    "        'D': [42 * i  for i in range(4)],\n",
    "        'E': 'foo'}\n",
    "\n",
    "df = pd.DataFrame(data)\n",
    "\n",
    "# Посмотрим весь фрейм\n",
    "print(df)"
   ]
  },
  {
   "cell_type": "code",
   "execution_count": 73,
   "id": "2b32e966-544a-4791-ac52-9a28ac541d80",
   "metadata": {},
   "outputs": [
    {
     "name": "stdout",
     "output_type": "stream",
     "text": [
      "     A          B    C   D    E\n",
      "1  1.1 2020-09-01  111  42  foo\n",
      "2  1.1 2020-09-01  111  84  foo\n"
     ]
    }
   ],
   "source": [
    "# Заданная пара строк, все столбцы\n",
    "# (обратите внимание, что последний элемент включён в выборку)\n",
    "print(df.loc[1:2])"
   ]
  },
  {
   "cell_type": "code",
   "execution_count": 76,
   "id": "dbda5828-d8a1-4aeb-a4ce-52a5ef94f852",
   "metadata": {},
   "outputs": [
    {
     "name": "stdout",
     "output_type": "stream",
     "text": [
      "0      0\n",
      "1     42\n",
      "2     84\n",
      "3    126\n",
      "Name: D, dtype: int64\n"
     ]
    }
   ],
   "source": [
    "# Заданный столбец, все строки\n",
    "print(df.loc[:,'D'])"
   ]
  },
  {
   "cell_type": "code",
   "execution_count": 82,
   "id": "7d0ac59e-7be0-4a5a-b975-f3f95a921a86",
   "metadata": {},
   "outputs": [
    {
     "name": "stdout",
     "output_type": "stream",
     "text": [
      "     A   D\n",
      "1  1.1  42\n",
      "2  1.1  84\n"
     ]
    }
   ],
   "source": [
    "# Заданная пара строк, избранные столбцы\n",
    "print(df.loc[1:2, ['A', 'D']])"
   ]
  },
  {
   "cell_type": "code",
   "execution_count": 83,
   "id": "1103e5a5-ab94-4d27-a5c5-e688bba3891c",
   "metadata": {},
   "outputs": [
    {
     "name": "stdout",
     "output_type": "stream",
     "text": [
      "1.1\n"
     ]
    }
   ],
   "source": [
    "# Конкретная \"ячейка\"\n",
    "print(df.loc[1,'A'])"
   ]
  },
  {
   "cell_type": "code",
   "execution_count": 84,
   "id": "1311c35f-127d-4a1b-b649-aaadb8759d01",
   "metadata": {},
   "outputs": [
    {
     "name": "stdout",
     "output_type": "stream",
     "text": [
      "1.1\n"
     ]
    }
   ],
   "source": [
    "# То же самое, но .at вместо .loc (умеет работать только со скалярами, зато быстрее)\n",
    "print(df.at[1,'A'])"
   ]
  },
  {
   "cell_type": "markdown",
   "id": "80d833e5-162a-4210-ac9c-37c073135dfc",
   "metadata": {},
   "source": [
    "#### <span style=\"color:#1DA398\">4.2 iloc</span>\n",
    "Выборки средствами .iloc, при обращении через .iloc используются *номера*.<br>\n",
    "Можно использовать отдельные значения, списки, диапазоны."
   ]
  },
  {
   "cell_type": "code",
   "execution_count": 85,
   "id": "5dbafb49-159a-4cab-8196-edc4bbd181ff",
   "metadata": {},
   "outputs": [
    {
     "name": "stdout",
     "output_type": "stream",
     "text": [
      "     A          B    C    D    E\n",
      "0  1.1 2020-09-01  111    0  foo\n",
      "1  1.1 2020-09-01  111   42  foo\n",
      "2  1.1 2020-09-01  111   84  foo\n",
      "3  1.1 2020-09-01  111  126  foo\n"
     ]
    }
   ],
   "source": [
    "print(df)"
   ]
  },
  {
   "cell_type": "code",
   "execution_count": 86,
   "id": "240bc636-37d2-4605-ab11-d9c20ad0e86e",
   "metadata": {},
   "outputs": [
    {
     "name": "stdout",
     "output_type": "stream",
     "text": [
      "     A          B    C   D    E\n",
      "1  1.1 2020-09-01  111  42  foo\n",
      "2  1.1 2020-09-01  111  84  foo\n"
     ]
    }
   ],
   "source": [
    "# Заданная пара строк, все столбцы\n",
    "# (обратите внимание, что последний элемент не включён в выборку)\n",
    "print(df.iloc[1:3])"
   ]
  },
  {
   "cell_type": "code",
   "execution_count": 87,
   "id": "92f914ae-86a2-4f34-a152-f45e4e75acab",
   "metadata": {},
   "outputs": [
    {
     "name": "stdout",
     "output_type": "stream",
     "text": [
      "=================\n",
      "0      0\n",
      "1     42\n",
      "2     84\n",
      "3    126\n",
      "Name: D, dtype: int64\n"
     ]
    }
   ],
   "source": [
    "# Заданный столбец, все строки\n",
    "print(\"=================\")\n",
    "print(df.iloc[:,3])"
   ]
  },
  {
   "cell_type": "code",
   "execution_count": 88,
   "id": "443529f0-4a2f-4b70-bd07-8ebef3e68610",
   "metadata": {},
   "outputs": [
    {
     "name": "stdout",
     "output_type": "stream",
     "text": [
      "=================\n",
      "     A    D\n",
      "0  1.1    0\n",
      "3  1.1  126\n"
     ]
    }
   ],
   "source": [
    "# Заданная пара строк, избранные столбцы\n",
    "print(\"=================\")\n",
    "print(df.iloc[[0,3],[0,3]])"
   ]
  },
  {
   "cell_type": "code",
   "execution_count": 89,
   "id": "95f6ee6e-4adb-4520-93c2-8c676235ed9b",
   "metadata": {},
   "outputs": [
    {
     "name": "stdout",
     "output_type": "stream",
     "text": [
      "=================\n",
      "42\n"
     ]
    }
   ],
   "source": [
    "# Конкретная \"ячейка\"\n",
    "print(\"=================\")\n",
    "print(df.iloc[1,3])"
   ]
  },
  {
   "cell_type": "code",
   "execution_count": 90,
   "id": "9f50b245-ce1f-42ad-9354-8d00332759c6",
   "metadata": {},
   "outputs": [
    {
     "name": "stdout",
     "output_type": "stream",
     "text": [
      "=================\n",
      "42\n"
     ]
    }
   ],
   "source": [
    "# То же самое, но .iat вместо .iloc\n",
    "# (умеет работать только со скалярами, зато быстрее)\n",
    "print(\"=================\")\n",
    "print(df.iat[1,3])"
   ]
  },
  {
   "cell_type": "markdown",
   "id": "03fdf3d2-3801-419c-9778-69321283e3ce",
   "metadata": {},
   "source": [
    "#### <span style=\"color:#1DA398\">4.3 по умолчанию</span>"
   ]
  },
  {
   "cell_type": "code",
   "execution_count": 91,
   "id": "fa36c1e3-fcab-4cf1-a99f-9bbc0c837d86",
   "metadata": {},
   "outputs": [
    {
     "name": "stdout",
     "output_type": "stream",
     "text": [
      "0      0\n",
      "1     42\n",
      "2     84\n",
      "3    126\n",
      "Name: D, dtype: int64\n"
     ]
    }
   ],
   "source": [
    "# Все значения из столбца\n",
    "# (кажется, по умолчанию используется .loc ...)\n",
    "print(df['D'])"
   ]
  },
  {
   "cell_type": "code",
   "execution_count": 92,
   "id": "317d4fb2-1e25-452f-90e1-71dc096dd03b",
   "metadata": {},
   "outputs": [
    {
     "ename": "KeyError",
     "evalue": "0",
     "output_type": "error",
     "traceback": [
      "\u001b[0;31m---------------------------------------------------------------------------\u001b[0m",
      "\u001b[0;31mKeyError\u001b[0m                                  Traceback (most recent call last)",
      "File \u001b[0;32m/usr/local/lib/python3.10/dist-packages/pandas/core/indexes/base.py:3805\u001b[0m, in \u001b[0;36mIndex.get_loc\u001b[0;34m(self, key)\u001b[0m\n\u001b[1;32m   3804\u001b[0m \u001b[38;5;28;01mtry\u001b[39;00m:\n\u001b[0;32m-> 3805\u001b[0m     \u001b[38;5;28;01mreturn\u001b[39;00m \u001b[38;5;28;43mself\u001b[39;49m\u001b[38;5;241;43m.\u001b[39;49m\u001b[43m_engine\u001b[49m\u001b[38;5;241;43m.\u001b[39;49m\u001b[43mget_loc\u001b[49m\u001b[43m(\u001b[49m\u001b[43mcasted_key\u001b[49m\u001b[43m)\u001b[49m\n\u001b[1;32m   3806\u001b[0m \u001b[38;5;28;01mexcept\u001b[39;00m \u001b[38;5;167;01mKeyError\u001b[39;00m \u001b[38;5;28;01mas\u001b[39;00m err:\n",
      "File \u001b[0;32mindex.pyx:167\u001b[0m, in \u001b[0;36mpandas._libs.index.IndexEngine.get_loc\u001b[0;34m()\u001b[0m\n",
      "File \u001b[0;32mindex.pyx:196\u001b[0m, in \u001b[0;36mpandas._libs.index.IndexEngine.get_loc\u001b[0;34m()\u001b[0m\n",
      "File \u001b[0;32mpandas/_libs/hashtable_class_helper.pxi:7081\u001b[0m, in \u001b[0;36mpandas._libs.hashtable.PyObjectHashTable.get_item\u001b[0;34m()\u001b[0m\n",
      "File \u001b[0;32mpandas/_libs/hashtable_class_helper.pxi:7089\u001b[0m, in \u001b[0;36mpandas._libs.hashtable.PyObjectHashTable.get_item\u001b[0;34m()\u001b[0m\n",
      "\u001b[0;31mKeyError\u001b[0m: 0",
      "\nThe above exception was the direct cause of the following exception:\n",
      "\u001b[0;31mKeyError\u001b[0m                                  Traceback (most recent call last)",
      "Cell \u001b[0;32mIn[92], line 2\u001b[0m\n\u001b[1;32m      1\u001b[0m \u001b[38;5;66;03m# А так вообще нельзя\u001b[39;00m\n\u001b[0;32m----> 2\u001b[0m \u001b[38;5;28mprint\u001b[39m(\u001b[43mdf\u001b[49m\u001b[43m[\u001b[49m\u001b[38;5;241;43m0\u001b[39;49m\u001b[43m]\u001b[49m)\n",
      "File \u001b[0;32m/usr/local/lib/python3.10/dist-packages/pandas/core/frame.py:4102\u001b[0m, in \u001b[0;36mDataFrame.__getitem__\u001b[0;34m(self, key)\u001b[0m\n\u001b[1;32m   4100\u001b[0m \u001b[38;5;28;01mif\u001b[39;00m \u001b[38;5;28mself\u001b[39m\u001b[38;5;241m.\u001b[39mcolumns\u001b[38;5;241m.\u001b[39mnlevels \u001b[38;5;241m>\u001b[39m \u001b[38;5;241m1\u001b[39m:\n\u001b[1;32m   4101\u001b[0m     \u001b[38;5;28;01mreturn\u001b[39;00m \u001b[38;5;28mself\u001b[39m\u001b[38;5;241m.\u001b[39m_getitem_multilevel(key)\n\u001b[0;32m-> 4102\u001b[0m indexer \u001b[38;5;241m=\u001b[39m \u001b[38;5;28;43mself\u001b[39;49m\u001b[38;5;241;43m.\u001b[39;49m\u001b[43mcolumns\u001b[49m\u001b[38;5;241;43m.\u001b[39;49m\u001b[43mget_loc\u001b[49m\u001b[43m(\u001b[49m\u001b[43mkey\u001b[49m\u001b[43m)\u001b[49m\n\u001b[1;32m   4103\u001b[0m \u001b[38;5;28;01mif\u001b[39;00m is_integer(indexer):\n\u001b[1;32m   4104\u001b[0m     indexer \u001b[38;5;241m=\u001b[39m [indexer]\n",
      "File \u001b[0;32m/usr/local/lib/python3.10/dist-packages/pandas/core/indexes/base.py:3812\u001b[0m, in \u001b[0;36mIndex.get_loc\u001b[0;34m(self, key)\u001b[0m\n\u001b[1;32m   3807\u001b[0m     \u001b[38;5;28;01mif\u001b[39;00m \u001b[38;5;28misinstance\u001b[39m(casted_key, \u001b[38;5;28mslice\u001b[39m) \u001b[38;5;129;01mor\u001b[39;00m (\n\u001b[1;32m   3808\u001b[0m         \u001b[38;5;28misinstance\u001b[39m(casted_key, abc\u001b[38;5;241m.\u001b[39mIterable)\n\u001b[1;32m   3809\u001b[0m         \u001b[38;5;129;01mand\u001b[39;00m \u001b[38;5;28many\u001b[39m(\u001b[38;5;28misinstance\u001b[39m(x, \u001b[38;5;28mslice\u001b[39m) \u001b[38;5;28;01mfor\u001b[39;00m x \u001b[38;5;129;01min\u001b[39;00m casted_key)\n\u001b[1;32m   3810\u001b[0m     ):\n\u001b[1;32m   3811\u001b[0m         \u001b[38;5;28;01mraise\u001b[39;00m InvalidIndexError(key)\n\u001b[0;32m-> 3812\u001b[0m     \u001b[38;5;28;01mraise\u001b[39;00m \u001b[38;5;167;01mKeyError\u001b[39;00m(key) \u001b[38;5;28;01mfrom\u001b[39;00m \u001b[38;5;21;01merr\u001b[39;00m\n\u001b[1;32m   3813\u001b[0m \u001b[38;5;28;01mexcept\u001b[39;00m \u001b[38;5;167;01mTypeError\u001b[39;00m:\n\u001b[1;32m   3814\u001b[0m     \u001b[38;5;66;03m# If we have a listlike key, _check_indexing_error will raise\u001b[39;00m\n\u001b[1;32m   3815\u001b[0m     \u001b[38;5;66;03m#  InvalidIndexError. Otherwise we fall through and re-raise\u001b[39;00m\n\u001b[1;32m   3816\u001b[0m     \u001b[38;5;66;03m#  the TypeError.\u001b[39;00m\n\u001b[1;32m   3817\u001b[0m     \u001b[38;5;28mself\u001b[39m\u001b[38;5;241m.\u001b[39m_check_indexing_error(key)\n",
      "\u001b[0;31mKeyError\u001b[0m: 0"
     ]
    }
   ],
   "source": [
    "# А так вообще нельзя\n",
    "print(df[0])"
   ]
  },
  {
   "cell_type": "code",
   "execution_count": 93,
   "id": "f66099bb-e594-4704-8d49-8a6fd2e452e4",
   "metadata": {},
   "outputs": [
    {
     "name": "stdout",
     "output_type": "stream",
     "text": [
      "     A          B    C   D    E\n",
      "0  1.1 2020-09-01  111   0  foo\n",
      "1  1.1 2020-09-01  111  42  foo\n"
     ]
    }
   ],
   "source": [
    "# А так можно, и это будут строки\n",
    "print(df[0:2])"
   ]
  },
  {
   "cell_type": "markdown",
   "id": "c1047ee7",
   "metadata": {},
   "source": [
    "### <span style=\"color:#55628D\">5. Изменение</span>"
   ]
  },
  {
   "cell_type": "code",
   "execution_count": 105,
   "id": "617eee92-04f1-469b-8a81-277226f4605e",
   "metadata": {},
   "outputs": [
    {
     "name": "stdout",
     "output_type": "stream",
     "text": [
      "     A          B    C    D    E\n",
      "0  1.1 2020-09-01  111    0  foo\n",
      "1  1.1 2020-09-01  111   42  foo\n",
      "2  1.1 2020-09-01  111   84  foo\n",
      "3  1.1 2020-09-01  111  126  foo\n"
     ]
    }
   ],
   "source": [
    "import pandas as pd\n",
    "\n",
    "data = {'A': 1.1,\n",
    "        'B': pd.Timestamp('20200901'),\n",
    "        'C': 111,\n",
    "        'D': [42 * i  for i in range(4)],\n",
    "        'E': 'foo'}\n",
    "\n",
    "df = pd.DataFrame(data)\n",
    "print(df)"
   ]
  },
  {
   "cell_type": "code",
   "execution_count": 107,
   "id": "d1aabd94-6cfb-4b35-9d81-3d8524cf00b1",
   "metadata": {},
   "outputs": [
    {
     "name": "stdout",
     "output_type": "stream",
     "text": [
      "     A          B    C    D    E\n",
      "0  1.1 2020-09-01  111  -42  foo\n",
      "1  1.1 2020-09-01  111   42  foo\n",
      "2  1.1 2020-09-01  111   84  foo\n",
      "3  1.1 2020-09-01  111  126  foo\n"
     ]
    }
   ],
   "source": [
    "# Можно присвоить отдельное значение\n",
    "df.loc[0,'D'] = -42\n",
    "print(df)"
   ]
  },
  {
   "cell_type": "code",
   "execution_count": 110,
   "id": "03f52e2e",
   "metadata": {},
   "outputs": [
    {
     "name": "stdout",
     "output_type": "stream",
     "text": [
      "     A          B    C  D    E\n",
      "0  1.1 2020-09-01  111  0  foo\n",
      "1  1.1 2020-09-01  111  1  foo\n",
      "2  1.1 2020-09-01  111  2  foo\n",
      "3  1.1 2020-09-01  111  3  foo\n"
     ]
    }
   ],
   "source": [
    "# Или, например, столбец целиком\n",
    "df.loc[:,'D'] = [i for i in range(4)]\n",
    "print(df)"
   ]
  },
  {
   "cell_type": "code",
   "execution_count": 111,
   "id": "46f1e7b1-5164-45a6-a576-834eb76233fd",
   "metadata": {},
   "outputs": [
    {
     "name": "stdout",
     "output_type": "stream",
     "text": [
      "     A                    B    C  D    E\n",
      "0  1.1  2020-09-01 00:00:00  111  0  foo\n",
      "1  1.1  2020-09-01 00:00:00  111  0  foo\n",
      "2  0.0                    0    0  0    0\n",
      "3  1.1  2020-09-01 00:00:00  111  0  foo\n"
     ]
    },
    {
     "name": "stderr",
     "output_type": "stream",
     "text": [
      "/tmp/ipykernel_11764/2455619555.py:3: FutureWarning: Setting an item of incompatible dtype is deprecated and will raise an error in a future version of pandas. Value '0' has dtype incompatible with datetime64[s], please explicitly cast to a compatible dtype first.\n",
      "  df.loc[2, :] = 0\n"
     ]
    }
   ],
   "source": [
    "# Замена целых стоблца/строки одним значеним\n",
    "df.loc[:,'D'] = 0\n",
    "df.loc[2, :] = 0\n",
    "print(df)"
   ]
  },
  {
   "cell_type": "markdown",
   "id": "a5da2e4e",
   "metadata": {},
   "source": [
    "### <span style=\"color:#55628D\">6. Критерии</span>"
   ]
  },
  {
   "cell_type": "code",
   "execution_count": 1,
   "id": "ffc6bd8e",
   "metadata": {},
   "outputs": [
    {
     "name": "stdout",
     "output_type": "stream",
     "text": [
      "     A          B    C    D    E\n",
      "0  1.1 2020-09-01  111    0  foo\n",
      "1  1.1 2020-09-01  111   42  foo\n",
      "2  1.1 2020-09-01  111   84  foo\n",
      "3  1.1 2020-09-01  111  126  foo\n"
     ]
    }
   ],
   "source": [
    "import pandas as pd\n",
    "\n",
    "data = {'A': 1.1,\n",
    "        'B': pd.Timestamp('20200901'),\n",
    "        'C': 111,\n",
    "        'D': [42 * i  for i in range(4)],\n",
    "        'E': 'foo'}\n",
    "\n",
    "df = pd.DataFrame(data)\n",
    "print(df)"
   ]
  },
  {
   "cell_type": "code",
   "execution_count": 115,
   "id": "90d99082-f892-4fe3-9eb7-211ad89ee423",
   "metadata": {},
   "outputs": [
    {
     "data": {
      "text/plain": [
       "4"
      ]
     },
     "execution_count": 115,
     "metadata": {},
     "output_type": "execute_result"
    }
   ],
   "source": [
    "len(df)"
   ]
  },
  {
   "cell_type": "code",
   "execution_count": 113,
   "id": "d8cb99d9-a944-4a26-993b-8edef9b86893",
   "metadata": {},
   "outputs": [
    {
     "name": "stdout",
     "output_type": "stream",
     "text": [
      "     A          B    C    D    E\n",
      "1  1.1 2020-09-01  111   42  foo\n",
      "2  1.1 2020-09-01  111   84  foo\n",
      "3  1.1 2020-09-01  111  126  foo\n"
     ]
    }
   ],
   "source": [
    "# Правильный способ выборки чего-нибудь по критерию\n",
    "print(df[df['D'] > 0])"
   ]
  },
  {
   "cell_type": "code",
   "execution_count": 116,
   "id": "847f37eb-b180-4809-bb94-c0df8b159a85",
   "metadata": {},
   "outputs": [
    {
     "name": "stdout",
     "output_type": "stream",
     "text": [
      "0    False\n",
      "1    False\n",
      "2     True\n",
      "3     True\n",
      "Name: D, dtype: bool\n",
      "=================\n",
      "     A          B    C    D    E\n",
      "2  1.1 2020-09-01  111   84  foo\n",
      "3  1.1 2020-09-01  111  126  foo\n"
     ]
    }
   ],
   "source": [
    "# Результат такой операции над фреймом - маска из boolean-ов\n",
    "a = df['D'] > 42\n",
    "print(a)\n",
    "# И эту маску можно применить к тому же фрейму для выборки нужных строк\n",
    "print(\"=================\")\n",
    "print(df[a])"
   ]
  },
  {
   "cell_type": "code",
   "execution_count": 117,
   "id": "dbef0116-3462-4fe6-b08b-6d9f1becfbb5",
   "metadata": {},
   "outputs": [
    {
     "name": "stdout",
     "output_type": "stream",
     "text": [
      "2     84\n",
      "3    126\n",
      "Name: D, dtype: int64\n"
     ]
    }
   ],
   "source": [
    "# После выборки строк из них можно извлечь нужный столбец с помощью .loc\n",
    "print(df[df['D'] > 42].loc[:,'D'])"
   ]
  },
  {
   "cell_type": "code",
   "execution_count": 120,
   "id": "1214a1ef-233e-48e9-ae3b-006d54710536",
   "metadata": {},
   "outputs": [
    {
     "name": "stdout",
     "output_type": "stream",
     "text": [
      "2     84\n",
      "3    126\n",
      "Name: D, dtype: int64\n"
     ]
    }
   ],
   "source": [
    "print(df[df['D'] > 42]['D'])"
   ]
  },
  {
   "cell_type": "code",
   "execution_count": null,
   "id": "9cf31e2a-0af5-424e-bc50-82e352201065",
   "metadata": {},
   "outputs": [],
   "source": [
    "# А вот так нельзя! потому что цепочка df[].loc[] смотрит уже в копию\n",
    "df[df['D'] > 42].loc[:,'D'] = 0"
   ]
  },
  {
   "cell_type": "code",
   "execution_count": 123,
   "id": "89dbe0d9-adf4-4d82-bf3d-b43191db041b",
   "metadata": {},
   "outputs": [
    {
     "name": "stdout",
     "output_type": "stream",
     "text": [
      "     A    D\n",
      "2  1.1   84\n",
      "3  1.1  126\n"
     ]
    }
   ],
   "source": [
    "# Но сам .loc умеет принимать маску из boolean-ов в роли индекса, поэтому можно и вот такое написать для выборки.\n",
    "print(df.loc[df['D'] > 42, ['A','D']])"
   ]
  },
  {
   "cell_type": "code",
   "execution_count": 2,
   "id": "6c5bbff6",
   "metadata": {},
   "outputs": [
    {
     "name": "stdout",
     "output_type": "stream",
     "text": [
      "     A          B    C    D    E\n",
      "0  1.1 2020-09-01  111    0  foo\n",
      "1  1.1 2020-09-01  111   42  foo\n",
      "2  1.1 2020-09-01  111  100  foo\n",
      "3  1.1 2020-09-01  111  100  foo\n"
     ]
    }
   ],
   "source": [
    "# И вот так теперь можно! Потому что df.loc[] смотрит в реальные данные.\n",
    "df.loc[df['D'] > 42,'D'] = 100\n",
    "print(df)"
   ]
  },
  {
   "cell_type": "markdown",
   "id": "8976f008",
   "metadata": {},
   "source": [
    "### <span style=\"color:#55628D\">7. Сортировка</span>"
   ]
  },
  {
   "cell_type": "code",
   "execution_count": 3,
   "id": "a418a96d-145e-4d45-b95f-b0762b11d751",
   "metadata": {},
   "outputs": [
    {
     "name": "stdout",
     "output_type": "stream",
     "text": [
      "     A          B    C    D    E\n",
      "0  1.1 2020-09-01  111    0  foo\n",
      "1  1.1 2020-09-01  111   42  foo\n",
      "2  1.1 2020-09-01  111   84  foo\n",
      "3  1.1 2020-09-01  111  126  foo\n"
     ]
    }
   ],
   "source": [
    "import pandas as pd\n",
    "\n",
    "data = {'A': 1.1,\n",
    "        'B': pd.Timestamp('20200901'),\n",
    "        'C': 111,\n",
    "        'D': [42 * i  for i in range(4)],\n",
    "        'E': 'foo'}\n",
    "\n",
    "df = pd.DataFrame(data)\n",
    "print(df)"
   ]
  },
  {
   "cell_type": "code",
   "execution_count": 5,
   "id": "3efef257-737e-4a86-a0bd-bea043ecf436",
   "metadata": {},
   "outputs": [
    {
     "name": "stdout",
     "output_type": "stream",
     "text": [
      "     A          B    C    D    E\n",
      "0  1.1 2020-09-01  111    0  foo\n",
      "1  1.1 2020-09-01  111   42  foo\n",
      "2  1.1 2020-09-01  111   84  foo\n",
      "3  1.1 2020-09-01  111  126  foo\n"
     ]
    }
   ],
   "source": [
    "# Отсортировать фрейм по колонке можно примерно так\n",
    "print(df.sort_values(by='D', ascending=True))"
   ]
  },
  {
   "cell_type": "code",
   "execution_count": 6,
   "id": "adcbb198",
   "metadata": {},
   "outputs": [
    {
     "name": "stdout",
     "output_type": "stream",
     "text": [
      "     A          B    C    D    E\n",
      "2  1.1 2020-09-01  111   84  foo\n",
      "3  1.1 2020-09-01  111  126  foo\n"
     ]
    }
   ],
   "source": [
    "# Сортировать фрейм можно и после каких-то ещё операций над ним, соединяя их в логические цепочки\n",
    "print(df.loc[df['D'] > 42].sort_values(by='D', ascending=True))"
   ]
  },
  {
   "cell_type": "markdown",
   "id": "d87331d4",
   "metadata": {},
   "source": [
    "### <span style=\"color:#55628D\">8. Пробелы в данных</span>"
   ]
  },
  {
   "cell_type": "code",
   "execution_count": 7,
   "id": "3a88ef13-3364-4b02-ba5b-ed46b0ece4c3",
   "metadata": {},
   "outputs": [
    {
     "name": "stdout",
     "output_type": "stream",
     "text": [
      "     A          B    C    D    E\n",
      "0  1.1 2020-09-01  111    0  foo\n",
      "1  1.1 2020-09-01  111   42  foo\n",
      "2  1.1 2020-09-01  111   84  foo\n",
      "3  1.1 2020-09-01  111  126  foo\n"
     ]
    }
   ],
   "source": [
    "import pandas as pd\n",
    "\n",
    "data = {'A': 1.1,\n",
    "        'B': pd.Timestamp('20200901'),\n",
    "        'C': 111,\n",
    "        'D': [42 * i  for i in range(4)],\n",
    "        'E': 'foo'}\n",
    "\n",
    "df = pd.DataFrame(data)\n",
    "print(df)"
   ]
  },
  {
   "cell_type": "code",
   "execution_count": 12,
   "id": "6d10c927-7438-449d-839b-f4c10817e2cc",
   "metadata": {},
   "outputs": [
    {
     "name": "stdout",
     "output_type": "stream",
     "text": [
      "     A          B    C    D    E     F\n",
      "0  1.1 2020-09-01  111    0  foo   NaN\n",
      "1  1.1 2020-09-01  111   42  foo  test\n",
      "2  1.1 2020-09-01  111   84  foo  test\n",
      "3  1.1 2020-09-01  111  126  foo   NaN\n"
     ]
    }
   ],
   "source": [
    "# Ещё можно при желании создавать новые колонки на лету\n",
    "df.loc[1:2, 'F'] = 'test'\n",
    "print(df)"
   ]
  },
  {
   "cell_type": "code",
   "execution_count": 15,
   "id": "9bc380c1",
   "metadata": {},
   "outputs": [
    {
     "name": "stdout",
     "output_type": "stream",
     "text": [
      "     A          B    C    D    E     F\n",
      "0  1.1 2020-09-01  111    0  foo     s\n",
      "1  1.1 2020-09-01  111   42  foo  test\n",
      "2  1.1 2020-09-01  111   84  foo  test\n",
      "3  1.1 2020-09-01  111  126  foo     s\n"
     ]
    }
   ],
   "source": [
    "# Если это сделать так, как в примере выше, то в данных останутся NaN-ы.\n",
    "# Это не единственный источник NaN-ов, разумеется.\n",
    "# Заполнить такие пробелы в данных значением по умолчанию можно вот так.\n",
    "print(df.fillna(value='s'))"
   ]
  },
  {
   "cell_type": "markdown",
   "id": "7bfa1267",
   "metadata": {},
   "source": [
    "### <span style=\"color:#55628D\">9. Статистика</span>"
   ]
  },
  {
   "cell_type": "code",
   "execution_count": 1,
   "id": "8b8dbf68-e5d6-496f-a772-a3cc4bf5706d",
   "metadata": {},
   "outputs": [
    {
     "name": "stdout",
     "output_type": "stream",
     "text": [
      "     A          B    C  D    E\n",
      "0  1.1 2020-09-01  111  0  foo\n",
      "1  1.1 2020-09-01  111  1  foo\n",
      "2  1.1 2020-09-01  111  4  foo\n",
      "3  1.1 2020-09-01  111  9  foo\n"
     ]
    }
   ],
   "source": [
    "import pandas as pd\n",
    "\n",
    "data = {'A': 1.1,\n",
    "        'B': pd.Timestamp('20200901'),\n",
    "        'C': 111,\n",
    "        'D': [i ** 2  for i in range(4)],\n",
    "        'E': 'foo'}\n",
    "\n",
    "df = pd.DataFrame(data)\n",
    "print(df)"
   ]
  },
  {
   "cell_type": "code",
   "execution_count": 4,
   "id": "70464428-c30b-4871-8cf6-28c63c27acc1",
   "metadata": {},
   "outputs": [
    {
     "name": "stdout",
     "output_type": "stream",
     "text": [
      "1    1\n",
      "2    4\n",
      "3    9\n",
      "Name: D, dtype: int64\n"
     ]
    }
   ],
   "source": [
    "# Можно посчитать от данных какие-нибудь статы\n",
    "\n",
    "# Кстати, если что-нибудь будет нам многократно нужно, его очень даже можно запомнить в какой-нибудь переменной.\n",
    "target = df.loc[df['D'] > 0, 'D']\n",
    "print(target)"
   ]
  },
  {
   "cell_type": "code",
   "execution_count": 5,
   "id": "ea3d76e5-2a64-4187-912f-352a200be430",
   "metadata": {},
   "outputs": [
    {
     "name": "stdout",
     "output_type": "stream",
     "text": [
      "Минимум: 1\n",
      "Максимум: 9\n",
      "Среднее: 4.666666666666667\n",
      "Медиана: 4.0\n"
     ]
    }
   ],
   "source": [
    "# Теперь посчитаем статы от выбранного кусочка данных\n",
    "print(f\"Минимум: {target.min()}\")\n",
    "print(f\"Максимум: {target.max()}\")\n",
    "print(f\"Среднее: {target.mean()}\")\n",
    "print(f\"Медиана: {target.median()}\")"
   ]
  },
  {
   "cell_type": "code",
   "execution_count": 26,
   "id": "2ca61476-80e1-40f1-ab90-aef3d2a51b07",
   "metadata": {},
   "outputs": [
    {
     "name": "stdout",
     "output_type": "stream",
     "text": [
      "D    3.5\n",
      "dtype: float64\n",
      "=================\n",
      "3.5\n",
      "3.5\n",
      "=================\n",
      "<class 'pandas.core.series.Series'>\n"
     ]
    },
    {
     "name": "stderr",
     "output_type": "stream",
     "text": [
      "/tmp/ipykernel_17578/714969950.py:5: FutureWarning: Series.__getitem__ treating keys as positions is deprecated. In a future version, integer keys will always be treated as labels (consistent with DataFrame behavior). To access a value by position, use `ser.iloc[pos]`\n",
      "  print(df.loc[:,['D']].mean()[0])\n"
     ]
    }
   ],
   "source": [
    "# На правах ремарки. Вот этот результат вряд ли вам понравится.\n",
    "print(df.loc[:,['D']].mean())\n",
    "print(\"=================\")\n",
    "print(df.loc[:,['D']].mean().to_list()[0])\n",
    "print(df.loc[:,['D']].mean()[0])\n",
    "print(\"=================\")\n",
    "\n",
    "# Потому что его тип будет не float, а pandas.core.series.Series\n",
    "# Потому что указали не один столбец, а список из одного столбца.\n",
    "print(type(df.loc[:,['D']].mean()))"
   ]
  },
  {
   "cell_type": "markdown",
   "id": "889c3045",
   "metadata": {},
   "source": [
    "### <span style=\"color:#55628D\">10. Функция apply()</span>\n",
    "Внимание! Сама идея использовать **.apply()** довольно плохая. Потому что это плохо для производительности.<br>\n",
    "Лучше использовать нативные методы.<br>\n",
    "Но если очень нужно, то так можно."
   ]
  },
  {
   "cell_type": "code",
   "execution_count": 6,
   "id": "67e39ce0-02f2-47a8-a43d-906400d62e43",
   "metadata": {},
   "outputs": [
    {
     "name": "stdout",
     "output_type": "stream",
     "text": [
      "     A          B    C  D    E\n",
      "0  1.1 2020-09-01  111  0  foo\n",
      "1  1.1 2020-09-01  111  1  foo\n",
      "2  1.1 2020-09-01  111  4  foo\n",
      "3  1.1 2020-09-01  111  9  foo\n"
     ]
    }
   ],
   "source": [
    "import pandas as pd\n",
    "\n",
    "data = {'A': 1.1,\n",
    "        'B': pd.Timestamp('20200901'),\n",
    "        'C': 111,\n",
    "        'D': [i ** 2  for i in range(4)],\n",
    "        'E': 'foo'}\n",
    "\n",
    "df = pd.DataFrame(data)\n",
    "print(df)"
   ]
  },
  {
   "cell_type": "code",
   "execution_count": 7,
   "id": "bfa9f17a",
   "metadata": {},
   "outputs": [
    {
     "name": "stdout",
     "output_type": "stream",
     "text": [
      "      A      C   D\n",
      "0  1.21  12321   0\n",
      "1  1.21  12321   1\n",
      "2  1.21  12321  16\n",
      "3  1.21  12321  81\n"
     ]
    }
   ],
   "source": [
    "print(df.loc[:,['A', 'C', 'D']].apply(lambda x: x**2))"
   ]
  },
  {
   "cell_type": "code",
   "execution_count": 8,
   "id": "dee97278-bc57-409f-9ba7-3c7b41cf0d14",
   "metadata": {},
   "outputs": [
    {
     "name": "stdout",
     "output_type": "stream",
     "text": [
      "     A          B    C  D    E\n",
      "0  1.1 2020-09-01  111  0  foo\n",
      "1  1.1 2020-09-01  111  1  foo\n",
      "2  1.1 2020-09-01  111  4  foo\n",
      "3  1.1 2020-09-01  111  9  foo\n"
     ]
    }
   ],
   "source": [
    "print(df)"
   ]
  },
  {
   "cell_type": "markdown",
   "id": "6383feb0",
   "metadata": {},
   "source": [
    "### <span style=\"color:#55628D\">11. Склейка</span>"
   ]
  },
  {
   "cell_type": "markdown",
   "id": "ff1d594e-e833-473f-abc9-0a9066c79b8d",
   "metadata": {},
   "source": [
    "#### <span style=\"color:#1DA398\">11.0 Простая склейка</span>"
   ]
  },
  {
   "cell_type": "code",
   "execution_count": 15,
   "id": "71a6ff6f-794b-4578-8c7b-18cb7e3f58f1",
   "metadata": {},
   "outputs": [
    {
     "name": "stdout",
     "output_type": "stream",
     "text": [
      "Слева:\n",
      "   key  lval\n",
      "0  foo     1\n",
      "1  bar     2\n",
      "=================\n",
      "Справа:\n",
      "   key  rval\n",
      "0  foo     4\n",
      "1  bar     5\n"
     ]
    }
   ],
   "source": [
    "import pandas as pd\n",
    "\n",
    "# У нас есть данные из разных источников, которые хочется склеить по ключу\n",
    "left = pd.DataFrame({'key': ['foo', 'bar'], \n",
    "                     'lval': [1, 2]})\n",
    "right = pd.DataFrame({'key': ['foo', 'bar'], \n",
    "                      'rval': [4, 5]})\n",
    "\n",
    "print(f\"Слева:\\n{left}\")\n",
    "print(\"=================\")\n",
    "print(f\"Справа:\\n{right}\")"
   ]
  },
  {
   "cell_type": "code",
   "execution_count": 16,
   "id": "16ddd24f-2840-47bc-b3c0-54ad14ad49c4",
   "metadata": {},
   "outputs": [
    {
     "name": "stdout",
     "output_type": "stream",
     "text": [
      "   key  lval  rval\n",
      "0  foo     1     4\n",
      "1  bar     2     5\n"
     ]
    }
   ],
   "source": [
    "m = pd.merge(left, right)\n",
    "print(m)"
   ]
  },
  {
   "cell_type": "markdown",
   "id": "5ff4c24b-3f8a-409a-9831-951329d8b990",
   "metadata": {},
   "source": [
    "#### <span style=\"color:#1DA398\">11.1 Исправных данных по ключу</span>"
   ]
  },
  {
   "cell_type": "code",
   "execution_count": 17,
   "id": "ed5ff9ed-1e7a-4ad4-95d2-334c30549e90",
   "metadata": {},
   "outputs": [
    {
     "name": "stdout",
     "output_type": "stream",
     "text": [
      "   key  lval  rval\n",
      "0  foo     1     4\n",
      "1  bar     2     5\n"
     ]
    }
   ],
   "source": [
    "# Это можно сделать вот так\n",
    "m = pd.merge(left, right, on='key')\n",
    "print(m)"
   ]
  },
  {
   "cell_type": "markdown",
   "id": "5ff8654b-258d-41e6-b798-60336b3a49dc",
   "metadata": {},
   "source": [
    "#### <span style=\"color:#1DA398\">11.2 Ошибочных данных по ключу</span>"
   ]
  },
  {
   "cell_type": "code",
   "execution_count": 18,
   "id": "2ea6322c-21a5-4db9-89b5-c5f20f894090",
   "metadata": {},
   "outputs": [
    {
     "name": "stdout",
     "output_type": "stream",
     "text": [
      "Слева:\n",
      "   key  lval\n",
      "0  foo     1\n",
      "1  bar     2\n",
      "=================\n",
      "Справа:\n",
      "   key  rval\n",
      "0  foo     4\n",
      "1  baz     5\n"
     ]
    }
   ],
   "source": [
    "# А если ключи не совпадают?\n",
    "right2 = pd.DataFrame({'key': ['foo', 'baz'], 'rval': [4, 5]})\n",
    "\n",
    "print(f\"Слева:\\n{left}\")\n",
    "print(\"=================\")\n",
    "print(f\"Справа:\\n{right2}\")"
   ]
  },
  {
   "cell_type": "code",
   "execution_count": 19,
   "id": "1123b4cc-2da2-4b95-9cf0-f1861d92356c",
   "metadata": {},
   "outputs": [
    {
     "name": "stdout",
     "output_type": "stream",
     "text": [
      "   key  lval  rval\n",
      "0  foo     1     4\n"
     ]
    }
   ],
   "source": [
    "print(pd.merge(left, right2, on='key'))"
   ]
  },
  {
   "cell_type": "markdown",
   "id": "ec9e03b9-d080-42ff-b5ae-9753d8bc875c",
   "metadata": {},
   "source": [
    "#### <span style=\"color:#1DA398\">11.3 Повторяющихся данных по ключу</span>"
   ]
  },
  {
   "cell_type": "code",
   "execution_count": 20,
   "id": "4360b0bc-a55b-4fa2-933d-7c03f556b434",
   "metadata": {},
   "outputs": [
    {
     "name": "stdout",
     "output_type": "stream",
     "text": [
      "Слева:\n",
      "   key  lval\n",
      "0  foo     1\n",
      "1  foo     2\n",
      "=================\n",
      "Справа:\n",
      "   key  rval\n",
      "0  foo     4\n",
      "1  foo     5\n"
     ]
    }
   ],
   "source": [
    "left3 = pd.DataFrame({'key': ['foo', 'foo'], 'lval': [1, 2]})\n",
    "right3 = pd.DataFrame({'key': ['foo', 'foo'], 'rval': [4, 5]})\n",
    "\n",
    "print(f\"Слева:\\n{left3}\")\n",
    "print(\"=================\")\n",
    "print(f\"Справа:\\n{right3}\")"
   ]
  },
  {
   "cell_type": "code",
   "execution_count": 21,
   "id": "9ff30880",
   "metadata": {},
   "outputs": [
    {
     "name": "stdout",
     "output_type": "stream",
     "text": [
      "   key  lval  rval\n",
      "0  foo     1     4\n",
      "1  foo     1     5\n",
      "2  foo     2     4\n",
      "3  foo     2     5\n"
     ]
    }
   ],
   "source": [
    "print(pd.merge(left3, right3, on='key'))"
   ]
  },
  {
   "cell_type": "markdown",
   "id": "57bdfe10",
   "metadata": {},
   "source": [
    "### <span style=\"color:#55628D\">12. Группировка</span>"
   ]
  },
  {
   "cell_type": "code",
   "execution_count": 22,
   "id": "358e6e85-3fe9-41ad-aa97-18d0cd0d02b0",
   "metadata": {},
   "outputs": [
    {
     "name": "stdout",
     "output_type": "stream",
     "text": [
      "     A      B  C   D\n",
      "0  foo    one  0   0\n",
      "1  bar    one  1   1\n",
      "2  foo    two  2   4\n",
      "3  bar  three  3   9\n",
      "4  foo    two  4  16\n",
      "5  bar    two  5  25\n",
      "6  foo    one  6  36\n",
      "7  foo  three  7  49\n"
     ]
    }
   ],
   "source": [
    "import pandas as pd\n",
    "\n",
    "df = pd.DataFrame({'A': ['foo', 'bar', 'foo', 'bar', 'foo', 'bar', 'foo', 'foo'],\n",
    "                   'B': ['one', 'one', 'two', 'three', 'two', 'two', 'one', 'three'],\n",
    "                   'C': [i for i in range(8)],\n",
    "                   'D': [i**2 for i in range(8)]})\n",
    "\n",
    "print(df)"
   ]
  },
  {
   "cell_type": "code",
   "execution_count": 25,
   "id": "84ad055e",
   "metadata": {},
   "outputs": [
    {
     "name": "stdout",
     "output_type": "stream",
     "text": [
      "                     B   C    D\n",
      "A                              \n",
      "bar        onethreetwo   9   35\n",
      "foo  onetwotwoonethree  19  105\n"
     ]
    }
   ],
   "source": [
    "# Можно, например, сгруппировать по значениям в столбце A, после чего посчитать суммы по каждой группе.\n",
    "print(df.groupby('A').sum())"
   ]
  },
  {
   "cell_type": "code",
   "execution_count": null,
   "id": "d271b444-f431-49cb-a486-3b27be94c6f9",
   "metadata": {},
   "outputs": [],
   "source": [
    "# Так тоже можно. Но лучше без .apply всё же.\n",
    "print(df.groupby('A').apply()"
   ]
  },
  {
   "cell_type": "markdown",
   "id": "519b1000",
   "metadata": {},
   "source": [
    "### <span style=\"color:#55628D\">13. Визуализация</span>"
   ]
  },
  {
   "cell_type": "code",
   "execution_count": 30,
   "id": "9e413e0e-7528-47a3-ba60-57ac6c788025",
   "metadata": {},
   "outputs": [
    {
     "name": "stdout",
     "output_type": "stream",
     "text": [
      "     A      B  C   D\n",
      "0  foo    one  0   0\n",
      "1  bar    one  1   1\n",
      "2  foo    two  2   4\n",
      "3  bar  three  3   9\n",
      "4  foo    two  4  16\n",
      "5  bar    two  5  25\n",
      "6  foo    one  6  36\n",
      "7  foo  three  7  49\n"
     ]
    }
   ],
   "source": [
    "import pandas as pd\n",
    "import matplotlib.pyplot as plt\n",
    "\n",
    "df = pd.DataFrame({'A': ['foo', 'bar', 'foo', 'bar', 'foo', 'bar', 'foo', 'foo'],\n",
    "                   'B': ['one', 'one', 'two', 'three', 'two', 'two', 'one', 'three'],\n",
    "                   'C': [i for i in range(8)],\n",
    "                   'D': [i**2 for i in range(8)]})\n",
    "\n",
    "print(df)"
   ]
  },
  {
   "cell_type": "code",
   "execution_count": 34,
   "id": "d4a48f8f-eaea-45a4-890b-c90e6e8ac595",
   "metadata": {},
   "outputs": [
    {
     "data": {
      "image/png": "[encoded data removed]",
      "text/plain": [
       "<Figure size 640x480 with 1 Axes>"
      ]
     },
     "metadata": {},
     "output_type": "display_data"
    }
   ],
   "source": [
    "# Можно взять и нарисовать фрейм\n",
    "ax = df.plot()\n",
    "ax.set_xlabel('x label')\n",
    "ax.set_ylabel('y label')\n",
    "plt.show()"
   ]
  },
  {
   "cell_type": "code",
   "execution_count": 32,
   "id": "48776f7d-484c-4e6c-9b0e-220e4690da18",
   "metadata": {},
   "outputs": [
    {
     "name": "stdout",
     "output_type": "stream",
     "text": [
      "                     B   C    D\n",
      "A                              \n",
      "bar        onethreetwo   9   35\n",
      "foo  onetwotwoonethree  19  105\n"
     ]
    }
   ],
   "source": [
    "# А потом посчитать агрегаты\n",
    "aggr = df.groupby('A').sum()\n",
    "print(aggr)"
   ]
  },
  {
   "cell_type": "code",
   "execution_count": 33,
   "id": "98b82dcf",
   "metadata": {},
   "outputs": [
    {
     "data": {
      "image/png": "[encoded data removed]",
      "text/plain": [
       "<Figure size 640x480 with 1 Axes>"
      ]
     },
     "metadata": {},
     "output_type": "display_data"
    }
   ],
   "source": [
    "# И их тоже нарисовать\n",
    "ax2 = aggr.plot(kind='bar')\n",
    "\n",
    "plt.show()"
   ]
  },
  {
   "cell_type": "markdown",
   "id": "f7b5e049",
   "metadata": {},
   "source": [
    "### <span style=\"color:#55628D\">14. Чтение из файла</span>\n",
    "1. read_csv\n",
    "2. read_excel\n",
    "3. read_json\n",
    "4. read_html\n",
    "5. read_sql\n",
    "6. ..."
   ]
  },
  {
   "cell_type": "code",
   "execution_count": 39,
   "id": "d63ee49d",
   "metadata": {},
   "outputs": [
    {
     "name": "stdout",
     "output_type": "stream",
     "text": [
      "       A      B  C         D\n",
      "num                         \n",
      "0    foo    one  0  0.784768\n",
      "1    bar    one  1  0.944118\n",
      "2    foo    two  2  0.230714\n",
      "3    bar  three  3  0.367531\n",
      "4    foo    two  4  0.836350\n",
      "5    bar    two  5  0.521741\n",
      "6    foo    one  6  0.026876\n",
      "7    foo  three  7  0.671219\n"
     ]
    }
   ],
   "source": [
    "import pandas as pd\n",
    "\n",
    "df = pd.read_csv(\"lesson07/data.csv\", index_col='num', sep=\",\")\n",
    "\n",
    "print(df)"
   ]
  },
  {
   "cell_type": "code",
   "execution_count": 37,
   "id": "61282d14-bd85-45a8-a592-df8e8f921cb3",
   "metadata": {},
   "outputs": [
    {
     "name": "stdout",
     "output_type": "stream",
     "text": [
      "                     B   C         D\n",
      "A                                   \n",
      "bar        onethreetwo   9  1.833390\n",
      "foo  onetwotwoonethree  19  2.549927\n"
     ]
    }
   ],
   "source": [
    "print(df.groupby('A').sum())"
   ]
  },
  {
   "cell_type": "markdown",
   "id": "eeaee820-3712-46cd-b5f6-07745477b209",
   "metadata": {},
   "source": [
    "---\n",
    "#### LMS-контест "
   ]
  },
  {
   "cell_type": "code",
   "execution_count": 189,
   "id": "342dbdaa-5809-4ed7-8544-a58625982147",
   "metadata": {},
   "outputs": [
    {
     "name": "stdout",
     "output_type": "stream",
     "text": [
      "Darkest Dungeon 9.000\n",
      "XCOM 2 8.867\n",
      "Civilization V 8.333\n",
      "Firaxis 2\n"
     ]
    }
   ],
   "source": [
    "import pandas as pd\n",
    "\n",
    "file1 = \"lesson07/games001.csv\"\n",
    "file2 = \"lesson07/rates001.csv\"\n",
    "\n",
    "games = pd.read_csv(file1, sep=\";\")\n",
    "rates = pd.read_csv(file2, sep=\";\")\n",
    "\n",
    "# Подготовка\n",
    "mean_marks = rates.groupby('id', as_index=False).mean()\n",
    "data = pd.merge(games, mean_marks, on='id')\n",
    "\n",
    "# 1-я часть задачи\n",
    "sorted_data = data.sort_values(\"mark\", ascending=False)\n",
    "sorted_data = sorted_data.reset_index()\n",
    "for i in range(3):\n",
    "    print(f\"{sorted_data.loc[i, 'name']} {sorted_data.loc[i, 'mark']:.3f}\")\n",
    "\n",
    "# 2-я часть задачи\n",
    "data_8 = data.loc[data['mark'] > 8.0]\n",
    "tmp = data_8.loc[:, \"company\"].value_counts()\n",
    "a = tmp.sort_values(ascending=False)\n",
    "print(f\"{a.index[0]} {a.iloc[0]}\")"
   ]
  },
  {
   "cell_type": "code",
   "execution_count": 190,
   "id": "40c3f0bf-df5c-4587-8a47-e8804c8b256f",
   "metadata": {},
   "outputs": [
    {
     "data": {
      "text/html": [
       "<div>\n",
       "<style scoped>\n",
       "    .dataframe tbody tr th:only-of-type {\n",
       "        vertical-align: middle;\n",
       "    }\n",
       "\n",
       "    .dataframe tbody tr th {\n",
       "        vertical-align: top;\n",
       "    }\n",
       "\n",
       "    .dataframe thead th {\n",
       "        text-align: right;\n",
       "    }\n",
       "</style>\n",
       "<table border=\"1\" class=\"dataframe\">\n",
       "  <thead>\n",
       "    <tr style=\"text-align: right;\">\n",
       "      <th></th>\n",
       "      <th>id</th>\n",
       "      <th>name</th>\n",
       "      <th>company</th>\n",
       "      <th>mark</th>\n",
       "    </tr>\n",
       "  </thead>\n",
       "  <tbody>\n",
       "    <tr>\n",
       "      <th>2</th>\n",
       "      <td>3</td>\n",
       "      <td>Darkest Dungeon</td>\n",
       "      <td>Red Hook Studios</td>\n",
       "      <td>9.000000</td>\n",
       "    </tr>\n",
       "    <tr>\n",
       "      <th>0</th>\n",
       "      <td>1</td>\n",
       "      <td>XCOM 2</td>\n",
       "      <td>Firaxis</td>\n",
       "      <td>8.866667</td>\n",
       "    </tr>\n",
       "    <tr>\n",
       "      <th>1</th>\n",
       "      <td>2</td>\n",
       "      <td>Civilization V</td>\n",
       "      <td>Firaxis</td>\n",
       "      <td>8.333333</td>\n",
       "    </tr>\n",
       "    <tr>\n",
       "      <th>3</th>\n",
       "      <td>4</td>\n",
       "      <td>Star Traders</td>\n",
       "      <td>Trese Brothers</td>\n",
       "      <td>8.000000</td>\n",
       "    </tr>\n",
       "  </tbody>\n",
       "</table>\n",
       "</div>"
      ],
      "text/plain": [
       "   id             name           company      mark\n",
       "2   3  Darkest Dungeon  Red Hook Studios  9.000000\n",
       "0   1           XCOM 2           Firaxis  8.866667\n",
       "1   2   Civilization V           Firaxis  8.333333\n",
       "3   4     Star Traders    Trese Brothers  8.000000"
      ]
     },
     "execution_count": 190,
     "metadata": {},
     "output_type": "execute_result"
    }
   ],
   "source": [
    "sorted_data = data.sort_values(\"mark\", ascending=False)\n",
    "sorted_data"
   ]
  },
  {
   "cell_type": "code",
   "execution_count": 193,
   "id": "b994f4e1-24ce-44ad-b1d2-d0ab6d69870d",
   "metadata": {},
   "outputs": [
    {
     "data": {
      "text/plain": [
       "'Red Hook Studios'"
      ]
     },
     "execution_count": 193,
     "metadata": {},
     "output_type": "execute_result"
    }
   ],
   "source": [
    "sorted_data.iloc[0, 2]"
   ]
  }
 ],
 "metadata": {
  "kernelspec": {
   "display_name": "Python 3 (ipykernel)",
   "language": "python",
   "name": "python3"
  },
  "language_info": {
   "codemirror_mode": {
    "name": "ipython",
    "version": 3
   },
   "file_extension": ".py",
   "mimetype": "text/x-python",
   "name": "python",
   "nbconvert_exporter": "python",
   "pygments_lexer": "ipython3",
   "version": "3.10.12"
  }
 },
 "nbformat": 4,
 "nbformat_minor": 5
}
