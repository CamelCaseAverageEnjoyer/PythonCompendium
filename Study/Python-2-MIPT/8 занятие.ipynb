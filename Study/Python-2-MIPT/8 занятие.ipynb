{
 "cells": [
  {
   "cell_type": "markdown",
   "id": "a1d058ca",
   "metadata": {},
   "source": [
    "### <span style=\"color:#0ab49a\">Занятие №8:</span> <span style=\"color:#BA77D8\">Векторы и матрицы</span> \n",
    "\n",
    "![Текст картинки если файл картинки не найден](img/banner.png)"
   ]
  },
  {
   "cell_type": "markdown",
   "id": "76fced7b",
   "metadata": {},
   "source": [
    "### <span style=\"color:#55628D\">1. C++</span>"
   ]
  },
  {
   "cell_type": "markdown",
   "id": "8451ba61",
   "metadata": {},
   "source": [
    "### <span style=\"color:#55628D\">2. Рукописные векторы</span>"
   ]
  },
  {
   "cell_type": "code",
   "execution_count": null,
   "id": "6d2ed119",
   "metadata": {},
   "outputs": [],
   "source": [
    "from random import random\n",
    "import time\n",
    "\n",
    "# Полностью аналогичный код - умножение матриц, написанное на \"чистом Python-е\".\n",
    "# Все операции выполняются \"руками\", матрицы хранятся в list-ах list-ов.\n",
    "# Работает, разумеется, сильно медленнее, чем на C++.\n",
    "# Насколько сильно - стоит измерить.\n",
    "\n",
    "N = 256\n",
    "\n",
    "def init_matrix(m):\n",
    "    size = len(m)\n",
    "    for i in range(0, size):\n",
    "        for j in range(0, size):\n",
    "            m[i][j] = random()\n",
    "\n",
    "\n",
    "def print_matrix(m):\n",
    "    for row in m:\n",
    "        print(row)\n",
    "\n",
    "\n",
    "def mult(c, a, b):\n",
    "    size = len(c)\n",
    "    for i in range(0, size):\n",
    "        for j in range(0, size):\n",
    "            c[i][j] = 0\n",
    "            for k in range(0, size):\n",
    "                c[i][j] += a[i][k]*b[k][j]\n",
    "\n",
    "\n",
    "if __name__ == '__main__':\n",
    "    a = [[0] * N for i in range(N)]\n",
    "    b = [[0] * N for i in range(N)]\n",
    "    c = [[0] * N for i in range(N)]\n",
    "\n",
    "    init_matrix(a)\n",
    "    init_matrix(b)\n",
    "\n",
    "    start_time = time.time()\n",
    "    mult(c, a, b)\n",
    "    elapsed_time = time.time() - start_time\n",
    "\n",
    "    print(elapsed_time)"
   ]
  },
  {
   "cell_type": "markdown",
   "id": "d478858e",
   "metadata": {},
   "source": [
    "### <span style=\"color:#55628D\">3. Знакомство с Numpy</span>"
   ]
  },
  {
   "cell_type": "code",
   "execution_count": null,
   "id": "2750ab68",
   "metadata": {},
   "outputs": [],
   "source": [
    "from random import random\n",
    "import numpy as np\n",
    "import time\n",
    "\n",
    "# А теперь возьмём NumPy-ные массивы для хранения данных. Они же должны быть быстрые.\n",
    "# Все операции всё ещё выполняются \"руками\", так что чудес насчёт скорости не ждём.\n",
    "# Но всё-таки должно же стать лучше.\n",
    "# (Спойлер: не станет. Будет хуже, причём сильно. Насколько - можно измерить. Почему - вспоминаем обсуждение.)\n",
    "\n",
    "N = 256\n",
    "\n",
    "def init_matrix(m):\n",
    "    size = len(m)\n",
    "    for i in range(0, size):\n",
    "        for j in range(0, size):\n",
    "            m[i][j] = random()\n",
    "\n",
    "\n",
    "def print_matrix(m):\n",
    "    for row in m:\n",
    "        print(row)\n",
    "\n",
    "\n",
    "def mult(c, a, b):\n",
    "    size = len(c)\n",
    "    for i in range(0, size):\n",
    "        for j in range(0, size):\n",
    "            c[i][j] = 0\n",
    "            for k in range(0, size):\n",
    "                c[i][j] += a[i][k]*b[k][j]\n",
    "\n",
    "\n",
    "if __name__ == '__main__':\n",
    "    a = np.zeros((N, N))\n",
    "    b = np.zeros((N, N))\n",
    "    c = np.zeros((N, N))\n",
    "\n",
    "    init_matrix(a)\n",
    "    init_matrix(b)\n",
    "\n",
    "    start_time = time.time()\n",
    "    mult(c, a, b)\n",
    "    elapsed_time = time.time() - start_time\n",
    "\n",
    "    print(elapsed_time)"
   ]
  },
  {
   "cell_type": "code",
   "execution_count": null,
   "id": "7dc2541a",
   "metadata": {},
   "outputs": [],
   "source": [
    "from random import random\n",
    "import numpy as np\n",
    "import time\n",
    "\n",
    "# А теперь используем NumPy до конца.\n",
    "# И вот теперь правда станет сильно лучше насчёт скорости работы.\n",
    "# Насколько - можно измерить. Почему - вспоминаем обсуждение.\n",
    "\n",
    "N = 256\n",
    "\n",
    "def init_matrix(m):\n",
    "    size = len(m)\n",
    "    m[:] = np.random.rand(size, size)\n",
    "\n",
    "\n",
    "def print_matrix(m):\n",
    "    for row in m:\n",
    "        print(row)\n",
    "\n",
    "\n",
    "def mult(c, a, b):\n",
    "    np.matmul(a, b, out=c)\n",
    "\n",
    "\n",
    "if __name__ == '__main__':\n",
    "    a = np.zeros((N, N))\n",
    "    b = np.zeros((N, N))\n",
    "    c = np.zeros((N, N))\n",
    "\n",
    "    init_matrix(a)\n",
    "    init_matrix(b)\n",
    "\n",
    "    start_time = time.time()\n",
    "    mult(c, a, b)\n",
    "    elapsed_time = time.time() - start_time\n",
    "\n",
    "    print(elapsed_time)"
   ]
  },
  {
   "cell_type": "markdown",
   "id": "71d5c640",
   "metadata": {},
   "source": [
    "### <span style=\"color:#0ab49a\">Примечание №1.</span> <span style=\"color:#BA77D8\">Векторное умножение</span> \n",
    "\n"
   ]
  },
  {
   "cell_type": "markdown",
   "id": "dd990d82",
   "metadata": {},
   "source": [
    "### <span style=\"color:#0ab49a\">Примечание №2.</span> <span style=\"color:#BA77D8\">Порядок важен</span> \n",
    "\n",
    "(для любознательных) Лекция о подгрузке данных: https://www.youtube.com/watch?v=WDIkqP4JbkE&t=693s"
   ]
  },
  {
   "cell_type": "code",
   "execution_count": null,
   "id": "d72b8d48",
   "metadata": {},
   "outputs": [],
   "source": []
  }
 ],
 "metadata": {
  "kernelspec": {
   "display_name": "Python 3 (ipykernel)",
   "language": "python",
   "name": "python3"
  },
  "language_info": {
   "codemirror_mode": {
    "name": "ipython",
    "version": 3
   },
   "file_extension": ".py",
   "mimetype": "text/x-python",
   "name": "python",
   "nbconvert_exporter": "python",
   "pygments_lexer": "ipython3",
   "version": "3.10.12"
  }
 },
 "nbformat": 4,
 "nbformat_minor": 5
}
