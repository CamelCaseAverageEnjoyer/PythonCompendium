{
 "cells": [
  {
   "cell_type": "markdown",
   "id": "4a862e10",
   "metadata": {},
   "source": [
    "### <span style=\"color:#0ab49a\">Занятие №9:</span> <span style=\"color:#BA77D8\">Numpy, продолжение</span> \n",
    "\n",
    "![](img/banner.png)"
   ]
  },
  {
   "cell_type": "markdown",
   "id": "321181d7",
   "metadata": {},
   "source": [
    "### <span style=\"color:#55628D\">1. Структуры объекта</span>"
   ]
  },
  {
   "cell_type": "code",
   "execution_count": 75,
   "id": "b05e24da",
   "metadata": {},
   "outputs": [
    {
     "name": "stdout",
     "output_type": "stream",
     "text": [
      "Двумерный массив: \n",
      "[[1 2 3]\n",
      " [4 5 6]]\n",
      "\n",
      "Длина массива: 6\n",
      "Кол-во байт в 1 элементе: 8\n"
     ]
    }
   ],
   "source": [
    "import numpy as np\n",
    "\n",
    "a = np.array([(1,2,3),(4,5,6)])\n",
    "print(f\"Двумерный массив: \\n{a}\\n\")\n",
    "print(f\"Длина массива: {a.size}\")\n",
    "print(f\"Кол-во байт в 1 элементе: {a.itemsize}\")"
   ]
  },
  {
   "cell_type": "code",
   "execution_count": 76,
   "id": "b23d67ab-72bb-4b05-9ce7-552313307e58",
   "metadata": {},
   "outputs": [
    {
     "name": "stdout",
     "output_type": "stream",
     "text": [
      "Двумерный массив: \n",
      "[[1 2 3]\n",
      " [4 5 6]]\n",
      "Сглаженный массив: [1 2 3 4 5 6]\n",
      "\n",
      "Размерность: 2\n",
      "Размер: (2, 3)\n"
     ]
    }
   ],
   "source": [
    "a = np.array([(1,2,3),(4,5,6)])\n",
    "\n",
    "print(f\"Двумерный массив: \\n{a}\")\n",
    "print(f\"Сглаженный массив: {a.ravel()}\\n\")\n",
    "print(f\"Размерность: {a.ndim}\")\n",
    "print(f\"Размер: {a.shape}\")"
   ]
  },
  {
   "cell_type": "code",
   "execution_count": 77,
   "id": "c530d133-78fa-4949-9e50-e8287a0c4398",
   "metadata": {},
   "outputs": [
    {
     "data": {
      "text/plain": [
       "array([[1, 2, 3],\n",
       "       [4, 5, 6]])"
      ]
     },
     "execution_count": 77,
     "metadata": {},
     "output_type": "execute_result"
    }
   ],
   "source": [
    "a[0:2, 0:3]"
   ]
  },
  {
   "cell_type": "code",
   "execution_count": 81,
   "id": "3ceacb14",
   "metadata": {},
   "outputs": [
    {
     "name": "stdout",
     "output_type": "stream",
     "text": [
      "Двумерный массив: \n",
      "[[1 2]\n",
      " [3 4]\n",
      " [5 6]]\n",
      "Сглаженный массив: [1 2 3 4 5 6]\n",
      "\n",
      "Размерность: 2\n",
      "Размер: (3, 2)\n"
     ]
    }
   ],
   "source": [
    "a = a.reshape(3, -1)\n",
    "\n",
    "print(f\"Двумерный массив: \\n{a}\")\n",
    "print(f\"Сглаженный массив: {a.ravel()}\\n\")\n",
    "print(f\"Размерность: {a.ndim}\")\n",
    "print(f\"Размер: {a.shape}\")"
   ]
  },
  {
   "cell_type": "code",
   "execution_count": 83,
   "id": "89d0b752-2a24-488d-a8a0-6babb180dc91",
   "metadata": {},
   "outputs": [
    {
     "name": "stdout",
     "output_type": "stream",
     "text": [
      "[[1 2]\n",
      " [3 4]\n",
      " [5 6]]\n"
     ]
    }
   ],
   "source": [
    "print(a)"
   ]
  },
  {
   "cell_type": "code",
   "execution_count": 84,
   "id": "d3a39010-000d-4502-ac69-b069224221a6",
   "metadata": {},
   "outputs": [
    {
     "name": "stdout",
     "output_type": "stream",
     "text": [
      "Срез 1: [1 3 5]\n",
      "\n",
      "Срез 2: [3 4]\n",
      "\n",
      "Срез 3: [5 6]\n",
      "(a.reshape(1,6) = [[1 2 3 4 5 6]] | a.reshape(6) = [1 2 3 4 5 6])\n"
     ]
    }
   ],
   "source": [
    "print(f\"Срез 1: {a[0:, 0]}\\n\")\n",
    "print(f\"Срез 2: {a[1, :]}\\n\")\n",
    "print(f\"Срез 3: {a.reshape(1,6)[0,4:]}\")\n",
    "print(f\"(a.reshape(1,6) = {a.reshape(1,6)} | a.reshape(6) = {a.reshape(6)})\")"
   ]
  },
  {
   "cell_type": "code",
   "execution_count": 85,
   "id": "5c86c7b1-04bd-4fa4-b49b-e52da3197cbd",
   "metadata": {},
   "outputs": [
    {
     "name": "stdout",
     "output_type": "stream",
     "text": [
      "[1 2 3 4 5 6]\n",
      "[1 2 3 4 5 6]\n"
     ]
    }
   ],
   "source": [
    "print(a.ravel())\n",
    "print(a.flatten())"
   ]
  },
  {
   "cell_type": "markdown",
   "id": "b6f6c6d3-dba5-4a6c-8e55-0f6dbaffd2f2",
   "metadata": {},
   "source": [
    "**В чём разница?**"
   ]
  },
  {
   "cell_type": "markdown",
   "id": "54a82855",
   "metadata": {},
   "source": [
    "### <span style=\"color:#55628D\">2. Типы данных</span>"
   ]
  },
  {
   "cell_type": "code",
   "execution_count": 86,
   "id": "22b320bf-5d51-44b2-aca5-8fce40a4e423",
   "metadata": {},
   "outputs": [
    {
     "name": "stdout",
     "output_type": "stream",
     "text": [
      "Все типы:\n",
      "int: [<class 'numpy.int8'>, <class 'numpy.int16'>, <class 'numpy.int32'>, <class 'numpy.int64'>]\n",
      "uint: [<class 'numpy.uint8'>, <class 'numpy.uint16'>, <class 'numpy.uint32'>, <class 'numpy.uint64'>]\n",
      "float: [<class 'numpy.float16'>, <class 'numpy.float32'>, <class 'numpy.float64'>, <class 'numpy.longdouble'>]\n",
      "complex: [<class 'numpy.complex64'>, <class 'numpy.complex128'>, <class 'numpy.clongdouble'>]\n",
      "others: [<class 'bool'>, <class 'object'>, <class 'bytes'>, <class 'str'>, <class 'numpy.void'>]\n"
     ]
    }
   ],
   "source": [
    "print(\"Все типы:\")\n",
    "\n",
    "for k in np.sctypes.keys():\n",
    "    print(f\"{k}: {np.sctypes[k]}\")"
   ]
  },
  {
   "cell_type": "code",
   "execution_count": 90,
   "id": "3800c59e-21b1-415c-8831-4c26bd0d85dd",
   "metadata": {},
   "outputs": [
    {
     "name": "stdout",
     "output_type": "stream",
     "text": [
      "[[1 2 3]\n",
      " [4 5 6]]\n",
      "\n",
      "int64\n",
      "8\n"
     ]
    }
   ],
   "source": [
    "a = np.array([(1,2,3),(4,5,6)])\n",
    "\n",
    "print(a)\n",
    "print()\n",
    "print(a.dtype)\n",
    "print(a.itemsize)"
   ]
  },
  {
   "cell_type": "code",
   "execution_count": 88,
   "id": "14c9685f",
   "metadata": {},
   "outputs": [
    {
     "name": "stdout",
     "output_type": "stream",
     "text": [
      "[[1. 2. 3.]\n",
      " [4. 5. 6.]]\n",
      "\n",
      "float64\n",
      "8\n"
     ]
    }
   ],
   "source": [
    "a = np.array([(1,2,3),(4,5,6)], dtype=np.float64)\n",
    "\n",
    "print(a)\n",
    "print()\n",
    "print(a.dtype)\n",
    "print(a.itemsize)"
   ]
  },
  {
   "cell_type": "markdown",
   "id": "f650f8f8",
   "metadata": {},
   "source": [
    "### <span style=\"color:#55628D\">3. Указатели</span>"
   ]
  },
  {
   "cell_type": "code",
   "execution_count": 91,
   "id": "d94672e4",
   "metadata": {},
   "outputs": [
    {
     "name": "stdout",
     "output_type": "stream",
     "text": [
      "[[ 1.  2.  3.]\n",
      " [ 4. 42.  6.]]\n"
     ]
    }
   ],
   "source": [
    "a = np.array([(1,2,3),(4,5,6)], dtype=np.float64)\n",
    "\n",
    "b = a[1,1:]\n",
    "b[0] = 42\n",
    "\n",
    "print(a)"
   ]
  },
  {
   "cell_type": "code",
   "execution_count": 92,
   "id": "c7dd389c-9650-4be5-9cfe-801893e72e72",
   "metadata": {},
   "outputs": [
    {
     "name": "stdout",
     "output_type": "stream",
     "text": [
      "a = \n",
      "[[ 0.  2.  3.]\n",
      " [ 4. 42.  6.]]\n"
     ]
    }
   ],
   "source": [
    "b = a.ravel()\n",
    "c = a.flatten()\n",
    "\n",
    "b[0] = 0\n",
    "c[1] = 0\n",
    "\n",
    "print(f\"a = \\n{a}\")"
   ]
  },
  {
   "cell_type": "markdown",
   "id": "4ac9b3c3",
   "metadata": {},
   "source": [
    "### <span style=\"color:#55628D\">4. Способы инициализации</span>"
   ]
  },
  {
   "cell_type": "code",
   "execution_count": 93,
   "id": "8918299f",
   "metadata": {},
   "outputs": [
    {
     "name": "stdout",
     "output_type": "stream",
     "text": [
      "arange: [0 1 2 3 4 5 6]\n",
      "random: [[0.24825882 0.13267697 0.97881365]]\n",
      "ones: [[1. 1. 1.]]\n",
      "zeros: [[0. 0. 0.]]\n",
      "full: [[42 42 42]]\n",
      "linspace: [ 0. 14. 28. 42.]\n"
     ]
    }
   ],
   "source": [
    "import numpy as np\n",
    "\n",
    "print(\"arange:\", np.arange(7))\n",
    "print(\"random:\", np.random.random((1,3)))\n",
    "print(\"ones:\", np.ones((1,3)))\n",
    "print(\"zeros:\", np.zeros((1,3)))\n",
    "print(\"full:\", np.full((1,3), 42))\n",
    "print(\"linspace:\", np.linspace(0, 42, 4))"
   ]
  },
  {
   "cell_type": "code",
   "execution_count": 95,
   "id": "bbaa1878-2a0c-4b9e-a6ae-ddc64feb0813",
   "metadata": {},
   "outputs": [
    {
     "name": "stdout",
     "output_type": "stream",
     "text": [
      "Массив с шагом (arange): [0 2 4 6 8]\n",
      "Массив с кол-вом элементов (linspace): [ 0. 10.]\n"
     ]
    }
   ],
   "source": [
    "print(\"Массив с шагом (arange):\", np.arange(0, 10, 2))\n",
    "print(\"Массив с кол-вом элементов (linspace):\", np.linspace(0, 10, 2))"
   ]
  },
  {
   "cell_type": "markdown",
   "id": "135a3a43",
   "metadata": {},
   "source": [
    "### <span style=\"color:#55628D\">5. Операции</span>"
   ]
  },
  {
   "cell_type": "code",
   "execution_count": 96,
   "id": "1b0ec36b-441e-41b3-8542-ce75e45a6af6",
   "metadata": {},
   "outputs": [
    {
     "name": "stdout",
     "output_type": "stream",
     "text": [
      "[[3. 2. 1.]\n",
      " [4. 5. 6.]]\n"
     ]
    }
   ],
   "source": [
    "a = np.array([(3,2,1),(4,5,6)], dtype=np.float64)\n",
    "\n",
    "print(a)"
   ]
  },
  {
   "cell_type": "code",
   "execution_count": 97,
   "id": "67656360-ca84-4760-9186-0c8f285811de",
   "metadata": {},
   "outputs": [
    {
     "name": "stdout",
     "output_type": "stream",
     "text": [
      "[[3. 4.]\n",
      " [2. 5.]\n",
      " [1. 6.]]\n"
     ]
    }
   ],
   "source": [
    "print(a.T)"
   ]
  },
  {
   "cell_type": "code",
   "execution_count": 102,
   "id": "8f42e56c-2bb7-4501-bb59-e0ed5e32ceae",
   "metadata": {},
   "outputs": [
    {
     "name": "stdout",
     "output_type": "stream",
     "text": [
      "min: 1.0\n",
      "max: 6.0\n",
      "sum: 21.0\n",
      "mean: 3.5\n",
      "axis sum:\n",
      " [[7. 7. 7.]]\n",
      "axis mean:\n",
      " [[2.]\n",
      " [5.]]\n"
     ]
    }
   ],
   "source": [
    "print(\"min:\", a.min())\n",
    "print(\"max:\", a.max())\n",
    "print(\"sum:\", a.sum())\n",
    "print(\"mean:\", a.mean())\n",
    "print(\"axis sum:\\n\", a.sum(axis=0, keepdims=True))\n",
    "print(\"axis mean:\\n\", a.mean(axis=1, keepdims=True))"
   ]
  },
  {
   "cell_type": "code",
   "execution_count": 103,
   "id": "ac9476c6-c416-4292-9d07-914ab6ac9e75",
   "metadata": {},
   "outputs": [
    {
     "name": "stdout",
     "output_type": "stream",
     "text": [
      "a1 = [3. 2. 1.]\n",
      "a2 = [4. 5. 6.]\n"
     ]
    }
   ],
   "source": [
    "a1 = a.T[:,0]\n",
    "a2 = a.T[:,1]\n",
    "\n",
    "print(f\"a1 = {a1}\\na2 = {a2}\")"
   ]
  },
  {
   "cell_type": "code",
   "execution_count": 105,
   "id": "f73a0252",
   "metadata": {},
   "outputs": [
    {
     "name": "stdout",
     "output_type": "stream",
     "text": [
      "Сумма: [7. 7. 7.]\n",
      "Произведение: [12. 10.  6.]\n",
      "Произведение матричное: 28.0 или 28.0\n"
     ]
    }
   ],
   "source": [
    "print(f\"Сумма: {a1 + a2}\")\n",
    "print(f\"Произведение: {a1 * a2}\") \n",
    "print(f\"Произведение матричное: {np.dot(a1, a2)} или {a1 @ a2}\")"
   ]
  },
  {
   "cell_type": "code",
   "execution_count": 110,
   "id": "e281ccbb-c72b-4f91-990a-2d1aef300984",
   "metadata": {},
   "outputs": [
    {
     "name": "stdout",
     "output_type": "stream",
     "text": [
      "Массив: \n",
      "[[3. 2. 1.]\n",
      " [4. 5. 6.]]\n",
      "\n",
      "Сумма со скаляром: \n",
      "[[13. 12. 11.]\n",
      " [14. 15. 16.]]\n",
      "\n",
      "Сумма с вектором: \n",
      "[[  13.  102. 1001.]\n",
      " [  14.  105. 1006.]]\n",
      "\n"
     ]
    }
   ],
   "source": [
    "print(f\"Массив: \\n{a}\\n\")\n",
    "print(f\"Сумма со скаляром: \\n{a + 10}\\n\")\n",
    "print(f\"Сумма с вектором: \\n{a + np.array([10, 100, 1000])}\\n\") "
   ]
  },
  {
   "cell_type": "code",
   "execution_count": 107,
   "id": "d68ff425-23d0-4e6c-95fe-4028760fbdb1",
   "metadata": {},
   "outputs": [
    {
     "data": {
      "text/plain": [
       "(2, 3)"
      ]
     },
     "execution_count": 107,
     "metadata": {},
     "output_type": "execute_result"
    }
   ],
   "source": [
    "a.shape"
   ]
  },
  {
   "cell_type": "code",
   "execution_count": 108,
   "id": "2333c091-4838-4ac3-89e5-9b01783ff6ef",
   "metadata": {},
   "outputs": [
    {
     "data": {
      "text/plain": [
       "(3,)"
      ]
     },
     "execution_count": 108,
     "metadata": {},
     "output_type": "execute_result"
    }
   ],
   "source": [
    "np.array([10, 100, 1000]).shape"
   ]
  },
  {
   "cell_type": "markdown",
   "id": "80c35bfd",
   "metadata": {},
   "source": [
    "### <span style=\"color:#55628D\">6. Склейка</span>"
   ]
  },
  {
   "cell_type": "code",
   "execution_count": 111,
   "id": "740f8ca3-7c6a-4803-8d12-53ed70c511aa",
   "metadata": {},
   "outputs": [
    {
     "name": "stdout",
     "output_type": "stream",
     "text": [
      "Матрица А:\n",
      "[[1. 2. 3.]\n",
      " [4. 5. 6.]]\n",
      "\n",
      "Матрица B:\n",
      "[[10. 20. 30.]\n",
      " [40. 50. 60.]]\n"
     ]
    }
   ],
   "source": [
    "a = np.array([(1,2,3),(4,5,6)], dtype=np.float64)\n",
    "b = np.array([(10,20,30),(40,50,60)], dtype=np.float64)\n",
    "\n",
    "print(f\"Матрица А:\\n{a}\\n\")\n",
    "print(f\"Матрица B:\\n{b}\")"
   ]
  },
  {
   "cell_type": "code",
   "execution_count": 112,
   "id": "834a48c0-81af-4d5d-8b2a-ffb3a75b4fc1",
   "metadata": {},
   "outputs": [
    {
     "name": "stdout",
     "output_type": "stream",
     "text": [
      "Склейка 'по горизонтали': \n",
      "[[ 1.  2.  3. 10. 20. 30.]\n",
      " [ 4.  5.  6. 40. 50. 60.]]\n",
      "\n",
      "Склейка 'по вертикали': \n",
      "[[ 1.  2.  3.]\n",
      " [ 4.  5.  6.]\n",
      " [10. 20. 30.]\n",
      " [40. 50. 60.]]\n"
     ]
    }
   ],
   "source": [
    "print(f\"Склейка 'по горизонтали': \\n{np.hstack((a, b))}\\n\")\n",
    "print(f\"Склейка 'по вертикали': \\n{np.vstack((a, b))}\")"
   ]
  },
  {
   "cell_type": "code",
   "execution_count": 115,
   "id": "10384643-686b-49bb-8c37-a2ea65b21be5",
   "metadata": {},
   "outputs": [
    {
     "name": "stdout",
     "output_type": "stream",
     "text": [
      "Свободная склейка: \n",
      "[[ 1.  2.  3. 10. 20. 30.]\n",
      " [ 4.  5.  6. 40. 50. 60.]\n",
      " [ 0.  0.  0.  0.  0.  0.]\n",
      " [ 0.  0.  0.  0.  0.  0.]]\n"
     ]
    }
   ],
   "source": [
    "c = np.bmat([[a, b], \n",
    "             [np.zeros((2, 6))]])\n",
    "print(f\"Свободная склейка: \\n{c}\")"
   ]
  },
  {
   "cell_type": "code",
   "execution_count": 117,
   "id": "c4a5d240-cc37-4d9e-8172-1863442d49f5",
   "metadata": {},
   "outputs": [
    {
     "name": "stdout",
     "output_type": "stream",
     "text": [
      "Склейка с созданием новой оси: \n",
      "[[[ 1.  2.  3.]\n",
      "  [ 4.  5.  6.]]\n",
      "\n",
      " [[ 1.  2.  3.]\n",
      "  [ 4.  5.  6.]]\n",
      "\n",
      " [[ 1.  2.  3.]\n",
      "  [ 4.  5.  6.]]\n",
      "\n",
      " [[10. 20. 30.]\n",
      "  [40. 50. 60.]]]\n",
      "\n",
      "Размер склейки: (4, 2, 3)\n"
     ]
    }
   ],
   "source": [
    "c = np.stack([a, a, a, b])\n",
    "\n",
    "print(f\"Склейка с созданием новой оси: \\n{c}\\n\")\n",
    "print(f\"Размер склейки: {c.shape}\")"
   ]
  },
  {
   "cell_type": "code",
   "execution_count": 118,
   "id": "d0c38bce-4cfd-4365-80e1-5ee0f3ed8ab0",
   "metadata": {},
   "outputs": [
    {
     "name": "stdout",
     "output_type": "stream",
     "text": [
      "[ 1.  2.  3. 10. 20. 30.  4.  5.  6. 40. 50. 60.]\n",
      "[ 1.  2.  3.  4.  5.  6. 10. 20. 30. 40. 50. 60.]\n"
     ]
    }
   ],
   "source": [
    "print(np.hstack((a, b)).ravel())\n",
    "print(np.vstack((a, b)).ravel())"
   ]
  },
  {
   "cell_type": "code",
   "execution_count": 119,
   "id": "413de13f-67a0-4dce-9a75-7e275c78db9b",
   "metadata": {},
   "outputs": [
    {
     "name": "stdout",
     "output_type": "stream",
     "text": [
      "Размножение матрицы (tile):\n",
      "[[1. 2. 3. 1. 2. 3. 1. 2. 3.]\n",
      " [4. 5. 6. 4. 5. 6. 4. 5. 6.]\n",
      " [1. 2. 3. 1. 2. 3. 1. 2. 3.]\n",
      " [4. 5. 6. 4. 5. 6. 4. 5. 6.]]\n",
      "Размножение матрицы (repeat):\n",
      "[[1. 2. 3.]\n",
      " [1. 2. 3.]\n",
      " [4. 5. 6.]\n",
      " [4. 5. 6.]]\n",
      "Размножение матрицы (repeat):\n",
      "[[1. 1. 1. 2. 2. 2. 3. 3. 3.]\n",
      " [4. 4. 4. 5. 5. 5. 6. 6. 6.]]\n"
     ]
    }
   ],
   "source": [
    "print(\"Размножение матрицы (tile):\")\n",
    "print(np.tile(a, (2, 3)))\n",
    "\n",
    "print(\"Размножение матрицы (repeat):\")\n",
    "print(np.repeat(a, 2, axis=0))\n",
    "\n",
    "print(\"Размножение матрицы (repeat):\")\n",
    "print(np.repeat(a, 3, axis=1))"
   ]
  },
  {
   "cell_type": "markdown",
   "id": "0cf8391d",
   "metadata": {},
   "source": [
    "### <span style=\"color:#55628D\">7. Индексация</span>"
   ]
  },
  {
   "cell_type": "code",
   "execution_count": 130,
   "id": "a394368b-9bd7-4ead-8189-a0375692cea6",
   "metadata": {},
   "outputs": [
    {
     "name": "stdout",
     "output_type": "stream",
     "text": [
      "[[1. 2. 3.]\n",
      " [4. 5. 6.]]\n"
     ]
    }
   ],
   "source": [
    "a = np.array([(1,2,3),(4,5,6)], dtype=np.float64)\n",
    "\n",
    "print(a)"
   ]
  },
  {
   "cell_type": "code",
   "execution_count": 131,
   "id": "2427cd83-862b-4372-a6ae-c380dc2367fe",
   "metadata": {},
   "outputs": [
    {
     "name": "stdout",
     "output_type": "stream",
     "text": [
      "Элемент (1,1): 5.0\n",
      "Элемент (1,1): 5.0\n"
     ]
    }
   ],
   "source": [
    "print(f\"Элемент (1,1): {a[1][1]}\")\n",
    "print(f\"Элемент (1,1): {a[1, 1]}\")"
   ]
  },
  {
   "cell_type": "code",
   "execution_count": 132,
   "id": "77f928af-09d4-4346-9a67-fa35f7448e8b",
   "metadata": {},
   "outputs": [
    {
     "name": "stdout",
     "output_type": "stream",
     "text": [
      "Определённые элементы: \n",
      "[1. 2. 6.]\n",
      "Массив a: \n",
      "[[101. 102.   3.]\n",
      " [  4.   5. 106.]]\n"
     ]
    }
   ],
   "source": [
    "print(f\"Определённые элементы: \\n{a[[0, 0, 1], [0, 1, 2]]}\")\n",
    "a[[0, 0, 1], [0, 1, 2]] += 100\n",
    "print(f\"Массив a: \\n{a}\")"
   ]
  },
  {
   "cell_type": "code",
   "execution_count": 133,
   "id": "1280f6ae",
   "metadata": {},
   "outputs": [
    {
     "name": "stdout",
     "output_type": "stream",
     "text": [
      "Маска: \n",
      "[[ True  True False]\n",
      " [False False  True]]\n",
      "\n",
      "Применение маски: [101. 102. 106.]\n",
      "309.0\n"
     ]
    }
   ],
   "source": [
    "mask = a > 100\n",
    "\n",
    "print(f\"Маска: \\n{mask}\\n\")\n",
    "print(f\"Применение маски: {a[mask]}\")\n",
    "print(a[mask].sum())"
   ]
  },
  {
   "cell_type": "code",
   "execution_count": 135,
   "id": "81cff48b-d70a-44c5-9f4a-aab16bc2763d",
   "metadata": {},
   "outputs": [
    {
     "name": "stdout",
     "output_type": "stream",
     "text": [
      "Отрицательная маска: \n",
      "[[False False  True]\n",
      " [ True  True False]]\n"
     ]
    }
   ],
   "source": [
    "print(f\"Отрицательная маска: \\n{np.logical_not(mask)}\")"
   ]
  },
  {
   "cell_type": "markdown",
   "id": "e435e3ce",
   "metadata": {},
   "source": [
    "### <span style=\"color:#55628D\">8. Картинки</span>"
   ]
  },
  {
   "cell_type": "code",
   "execution_count": 136,
   "id": "c0b4d08b",
   "metadata": {},
   "outputs": [
    {
     "data": {
      "image/png": "[encoded data removed]",
      "text/plain": [
       "<Figure size 640x480 with 1 Axes>"
      ]
     },
     "metadata": {},
     "output_type": "display_data"
    }
   ],
   "source": [
    "import numpy as np\n",
    "import matplotlib.pyplot as plt\n",
    "\n",
    "x = np.linspace(0, 3*np.pi, 100)\n",
    "y = 42 * np.sin(x)\n",
    "\n",
    "plt.plot(x, y)\n",
    "plt.grid()\n",
    "plt.show()"
   ]
  },
  {
   "cell_type": "code",
   "execution_count": 138,
   "id": "c96e100f-e526-4b54-b000-34dbf0a1aa7b",
   "metadata": {},
   "outputs": [
    {
     "name": "stdout",
     "output_type": "stream",
     "text": [
      "Размеры матрицы y: (100, 9)\n"
     ]
    },
    {
     "data": {
      "image/png": "[encoded data removed]",
      "text/plain": [
       "<Figure size 640x480 with 1 Axes>"
      ]
     },
     "metadata": {},
     "output_type": "display_data"
    }
   ],
   "source": [
    "n = 100\n",
    "powers = [0, 1, 2, 3, 4, 5, 6, 7, 10]\n",
    "\n",
    "x = np.linspace(0, 1, n)\n",
    "y = np.array([[x[i]**j for j in powers] for i in range(n)])\n",
    "print(f\"Размеры матрицы y: {y.shape}\")\n",
    "\n",
    "plt.plot(x, y, label=powers)\n",
    "plt.legend()\n",
    "plt.grid()\n",
    "plt.show()"
   ]
  },
  {
   "cell_type": "markdown",
   "id": "cbc398b1-09c8-40d7-a929-463cc5f63ef1",
   "metadata": {},
   "source": [
    "### <span style=\"color:#0ab49a\">Примечание №1.</span> <span style=\"color:#BA77D8\">.npy</span> "
   ]
  },
  {
   "cell_type": "code",
   "execution_count": 139,
   "id": "7a15b22e-f985-42dc-bb9a-f3f46630f809",
   "metadata": {},
   "outputs": [
    {
     "name": "stdout",
     "output_type": "stream",
     "text": [
      "Размер массива: (1000,)\n",
      "Созданный массив: \n",
      "[1.         1.00900901 1.01801802 1.02702703 1.03603604 1.04504505\n",
      " 1.05405405 1.06306306 1.07207207 1.08108108 1.09009009 1.0990991 ]...\n"
     ]
    }
   ],
   "source": [
    "a = np.linspace(1, 10, 1000)\n",
    "print(f\"Размер массива: {a.shape}\")\n",
    "print(f\"Созданный массив: \\n{a[:12]}...\")\n",
    "\n",
    "path = f\"lesson09/smth.npy\"\n",
    "np.save(path, a)"
   ]
  },
  {
   "cell_type": "code",
   "execution_count": null,
   "id": "f60f353a-1f49-4901-a479-c67e0c00566d",
   "metadata": {},
   "outputs": [],
   "source": [
    "with open(path) as f:\n",
    "    print(f.read())"
   ]
  },
  {
   "cell_type": "code",
   "execution_count": 141,
   "id": "da45e874-2ac8-483c-bceb-5dde7b34d0c6",
   "metadata": {},
   "outputs": [
    {
     "name": "stdout",
     "output_type": "stream",
     "text": [
      "Загруженный массив: \n",
      "[1.         1.00900901 1.01801802 1.02702703 1.03603604 1.04504505\n",
      " 1.05405405 1.06306306 1.07207207 1.08108108 1.09009009 1.0990991 ]...\n"
     ]
    }
   ],
   "source": [
    "b = np.load(path)\n",
    "print(f\"Загруженный массив: \\n{b[:12]}...\")"
   ]
  },
  {
   "cell_type": "markdown",
   "id": "42b481cf-d72a-4d84-a3fe-4bd2f4b3a08f",
   "metadata": {},
   "source": [
    "### <span style=\"color:#0ab49a\">Примечание №2.</span> <span style=\"color:#BA77D8\">Пробелы в данных</span> "
   ]
  },
  {
   "cell_type": "code",
   "execution_count": 147,
   "id": "c217ea37-d4b8-4f15-9058-b34a4fde0c1c",
   "metadata": {},
   "outputs": [
    {
     "name": "stdout",
     "output_type": "stream",
     "text": [
      "13.0\n"
     ]
    }
   ],
   "source": [
    "a = np.array([1, 2, np.nan, 4, np.nan, 6])\n",
    "print(np.nansum(a))"
   ]
  }
 ],
 "metadata": {
  "kernelspec": {
   "display_name": "Python 3 (ipykernel)",
   "language": "python",
   "name": "python3"
  },
  "language_info": {
   "codemirror_mode": {
    "name": "ipython",
    "version": 3
   },
   "file_extension": ".py",
   "mimetype": "text/x-python",
   "name": "python",
   "nbconvert_exporter": "python",
   "pygments_lexer": "ipython3",
   "version": "3.10.12"
  }
 },
 "nbformat": 4,
 "nbformat_minor": 5
}
