{
 "cells": [
  {
   "cell_type": "markdown",
   "id": "4a862e10",
   "metadata": {},
   "source": [
    "### <span style=\"color:#0ab49a\">Занятие №9:</span> <span style=\"color:#BA77D8\">Numpy, продолжение</span> \n",
    "\n",
    "![Текст картинки если файл картинки не найден](img/banner.png)"
   ]
  },
  {
   "cell_type": "markdown",
   "id": "321181d7",
   "metadata": {},
   "source": [
    "### <span style=\"color:#55628D\">1. Структуры объекта</span>"
   ]
  },
  {
   "cell_type": "code",
   "execution_count": null,
   "id": "b05e24da",
   "metadata": {},
   "outputs": [],
   "source": [
    "import numpy as np\n",
    "\n",
    "a = np.array([(1,2,3),(4,5,6)])\n",
    "print(a)\n",
    "\n",
    "print(\"Array size: \", a.size)\n",
    "print(\"Item size: \", a.itemsize)"
   ]
  },
  {
   "cell_type": "markdown",
   "id": "54a82855",
   "metadata": {},
   "source": [
    "### <span style=\"color:#55628D\">2. Типы данных</span>"
   ]
  },
  {
   "cell_type": "code",
   "execution_count": null,
   "id": "14c9685f",
   "metadata": {},
   "outputs": [],
   "source": [
    "import numpy as np\n",
    "\n",
    "a = np.array([(1,2,3),(4,5,6)])\n",
    "\n",
    "print(a)\n",
    "print(a.dtype)\n",
    "print(a.itemsize)\n",
    "\n",
    "a = np.array([(1,2,3),(4,5,6)], dtype=np.float64)\n",
    "\n",
    "print(a)\n",
    "print(a.dtype)\n",
    "print(a.itemsize)"
   ]
  },
  {
   "cell_type": "code",
   "execution_count": null,
   "id": "3ceacb14",
   "metadata": {},
   "outputs": [],
   "source": [
    "import numpy as np\n",
    "\n",
    "a = np.array([(1,2,3),(4,5,6)], dtype=np.float64)\n",
    "\n",
    "print(a)\n",
    "print(\"Dims:\", a.ndim)\n",
    "print(\"Shape:\", a.shape)\n",
    "\n",
    "a = a.reshape(3, 2)\n",
    "\n",
    "print(a)\n",
    "print(\"Dims:\", a.ndim)\n",
    "print(\"Shape:\", a.shape)\n",
    "\n",
    "print(\"Slice 1: \", a[0:,0])\n",
    "print(\"Slice 2: \", a[1,:])\n",
    "print(\"Slice 3: \", a.reshape(1,6)[0,4:])"
   ]
  },
  {
   "cell_type": "markdown",
   "id": "f650f8f8",
   "metadata": {},
   "source": [
    "### <span style=\"color:#55628D\">3. Указатели</span>"
   ]
  },
  {
   "cell_type": "code",
   "execution_count": null,
   "id": "d94672e4",
   "metadata": {},
   "outputs": [],
   "source": [
    "import numpy as np\n",
    "\n",
    "a = np.array([(1,2,3),(4,5,6)], dtype=np.float64)\n",
    "\n",
    "b = a[1,1:]\n",
    "b[0] = 42\n",
    "\n",
    "print(a)"
   ]
  },
  {
   "cell_type": "markdown",
   "id": "4ac9b3c3",
   "metadata": {},
   "source": [
    "### <span style=\"color:#55628D\">4. Способы инициализации</span>"
   ]
  },
  {
   "cell_type": "code",
   "execution_count": null,
   "id": "8918299f",
   "metadata": {},
   "outputs": [],
   "source": [
    "import numpy as np\n",
    "\n",
    "print(\"arange:\", np.arange(7))\n",
    "print(\"random:\", np.random.random((1,3)))\n",
    "print(\"ones:\", np.ones((1,3)))\n",
    "print(\"zeros:\", np.zeros((1,3)))\n",
    "print(\"full:\", np.full((1,3), 42))\n",
    "print(\"linspace:\", np.linspace(0, 42, 4))"
   ]
  },
  {
   "cell_type": "markdown",
   "id": "135a3a43",
   "metadata": {},
   "source": [
    "### <span style=\"color:#55628D\">5. Операции</span>"
   ]
  },
  {
   "cell_type": "code",
   "execution_count": null,
   "id": "f73a0252",
   "metadata": {},
   "outputs": [],
   "source": [
    "import numpy as np\n",
    "\n",
    "a = np.array([(3,2,1),(4,5,6)], dtype=np.float64)\n",
    "\n",
    "print(a)\n",
    "#print(\"min:\", a.min())\n",
    "#print(\"max:\", a.max())\n",
    "#print(\"sum:\", a.sum())\n",
    "#print(\"mean:\", a.mean())\n",
    "#print(\"axis sum:\", a.sum(axis=1))\n",
    "#print(\"axis mean:\", a.mean(axis=1, keepdims=True))\n",
    "\n",
    "print(\"==============\")\n",
    "print(a.T)\n",
    "col_one = a.T[:,0]\n",
    "col_two = a.T[:,1]\n",
    "\n",
    "print(col_one + col_two)\n",
    "print(col_one * col_two)\n",
    "print(np.dot(col_one, col_two))\n",
    "print(col_one @ col_two)"
   ]
  },
  {
   "cell_type": "markdown",
   "id": "8098fc6a",
   "metadata": {},
   "source": [
    "### <span style=\"color:#55628D\">6. Ручная настройка с axis</span>"
   ]
  },
  {
   "cell_type": "code",
   "execution_count": null,
   "id": "a4764db5",
   "metadata": {},
   "outputs": [],
   "source": [
    "import numpy as np\n",
    "\n",
    "a = np.array([(3,2,4),(4,1,6)], dtype=np.float64)\n",
    "\n",
    "print(a)\n",
    "print(a - a.min())\n",
    "print(\"==============\")\n",
    "print(a.min(axis=0))\n",
    "print(a.min(axis=1))\n",
    "print(a.min(axis=1, keepdims=True))\n",
    "print(\"==============\")\n",
    "print(a - a.min(axis=1, keepdims=True))"
   ]
  },
  {
   "cell_type": "markdown",
   "id": "80c35bfd",
   "metadata": {},
   "source": [
    "### <span style=\"color:#55628D\">7. Склейка</span>"
   ]
  },
  {
   "cell_type": "code",
   "execution_count": null,
   "id": "04e2babb",
   "metadata": {},
   "outputs": [],
   "source": [
    "import numpy as np\n",
    "\n",
    "a = np.array([(1,2,3),(4,5,6)], dtype=np.float64)\n",
    "b = np.array([(10,20,30),(40,50,60)], dtype=np.float64)\n",
    "\n",
    "print(np.hstack((a, b)))\n",
    "print(np.vstack((a, b)))\n",
    "\n",
    "print(np.hstack((a, b)).ravel())\n",
    "print(np.vstack((a, b)).ravel())\n",
    "\n",
    "print(\"==============\")\n",
    "print(np.tile(a, (2, 3)))\n",
    "\n",
    "print(\"==============\")\n",
    "print(np.repeat(a, 2, axis=0))\n",
    "print(np.repeat(a, 3, axis=1))"
   ]
  },
  {
   "cell_type": "markdown",
   "id": "0cf8391d",
   "metadata": {},
   "source": [
    "### <span style=\"color:#55628D\">8. Индексы</span>"
   ]
  },
  {
   "cell_type": "code",
   "execution_count": null,
   "id": "1280f6ae",
   "metadata": {},
   "outputs": [],
   "source": [
    "import numpy as np\n",
    "\n",
    "a = np.array([(1,2,3),(4,5,6)], dtype=np.float64)\n",
    "\n",
    "print(a)\n",
    "print(a[1][1])\n",
    "print(a[[0, 1],[0, 2]])\n",
    "\n",
    "a[[0, 1],[0, 1]] += 100\n",
    "print(a)\n",
    "\n",
    "mask = (a > 100)\n",
    "print(mask)\n",
    "print(a[mask])\n",
    "print(a[mask].sum())"
   ]
  },
  {
   "cell_type": "markdown",
   "id": "e435e3ce",
   "metadata": {},
   "source": [
    "### <span style=\"color:#55628D\">9. Картинки</span>"
   ]
  },
  {
   "cell_type": "code",
   "execution_count": null,
   "id": "c0b4d08b",
   "metadata": {},
   "outputs": [],
   "source": [
    "import numpy as np\n",
    "import matplotlib.pyplot as plt\n",
    "\n",
    "x = np.linspace(0, 3*np.pi, 100)\n",
    "y = 42 * np.sin(x)\n",
    "\n",
    "fig, ax = plt.subplots()\n",
    "ax.plot(x, y)\n",
    "ax.grid()\n",
    "plt.show()"
   ]
  }
 ],
 "metadata": {
  "kernelspec": {
   "display_name": "Python 3 (ipykernel)",
   "language": "python",
   "name": "python3"
  },
  "language_info": {
   "codemirror_mode": {
    "name": "ipython",
    "version": 3
   },
   "file_extension": ".py",
   "mimetype": "text/x-python",
   "name": "python",
   "nbconvert_exporter": "python",
   "pygments_lexer": "ipython3",
   "version": "3.10.12"
  }
 },
 "nbformat": 4,
 "nbformat_minor": 5
}
