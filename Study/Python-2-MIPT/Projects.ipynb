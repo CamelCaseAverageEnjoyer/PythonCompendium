{
 "cells": [
  {
   "cell_type": "markdown",
   "id": "12b3d0ee-d34e-4da3-9bf2-cb72192ed92d",
   "metadata": {},
   "source": [
    "![](../../storage/banners/16_projects.png)"
   ]
  },
  {
   "cell_type": "markdown",
   "id": "69640c29-ffc0-467f-81ea-6167315112dc",
   "metadata": {},
   "source": [
    "Пары в учебной программе:\n",
    "\n",
    "- Теормех\n",
    "- Матан\n",
    "- Физика: электродинамика\n",
    "- Физика: мкт, распределения\n",
    "- Диффуры\n",
    "- Микроконтроллеры"
   ]
  },
  {
   "cell_type": "markdown",
   "id": "f35dd07d-9305-4be7-8afd-6bde4a6cc50b",
   "metadata": {},
   "source": [
    "#### <span style=\"color:#0ab49a\">Кооперация:</span> <span style=\"color:#A254FC\">дилемма заключённого</span> "
   ]
  },
  {
   "cell_type": "code",
   "execution_count": null,
   "id": "8c306317-2cfd-4dc2-b83e-9dc06ce079da",
   "metadata": {},
   "outputs": [],
   "source": []
  },
  {
   "cell_type": "markdown",
   "id": "edc8142d-fd92-4095-859d-be7c9c29019b",
   "metadata": {},
   "source": [
    "#### <span style=\"color:#0ab49a\">Чёрный ящик:</span> <span style=\"color:#A254FC\">параллельное программирование</span> "
   ]
  },
  {
   "cell_type": "markdown",
   "id": "0766355a-ec21-4788-9b1f-75977023dc33",
   "metadata": {
    "jp-MarkdownHeadingCollapsed": true
   },
   "source": [
    "##### **Генерация файлика с проекциями**"
   ]
  },
  {
   "cell_type": "code",
   "execution_count": 1,
   "id": "a78132c6-2326-4434-9ec0-2f300fffb4a6",
   "metadata": {},
   "outputs": [
    {
     "data": {
      "image/png": "[encoded data removed]",
      "text/plain": [
       "<Figure size 640x480 with 1 Axes>"
      ]
     },
     "metadata": {},
     "output_type": "display_data"
    },
    {
     "name": "stdout",
     "output_type": "stream",
     "text": [
      "Всего элементов: 5×5=25\n",
      "Всего вариантов: 2^25 = 33554432\n"
     ]
    }
   ],
   "source": [
    "\"\"\"\n",
    "Задача: найти двумерный массив 50×50 (картинку), дающий проекции на оси Ox, Oy. \n",
    "Эти проекции известны, вызываются функцией get_noise_projection().\n",
    "Использовать параллельное программирование для перебора вариантов.\n",
    "\"\"\"\n",
    "\n",
    "import matplotlib.pyplot as plt\n",
    "from PIL import Image\n",
    "import numpy as np\n",
    "import random\n",
    "\n",
    "N = 5\n",
    "\n",
    "m = Image.open(\"img/003.jpg\")\n",
    "m = m.resize([N, N])\n",
    "a = np.array(m)\n",
    "a = [[1 if np.mean(a[i][j]) > 255/2 else 0 for i in range(N)]for j in range(N)]\n",
    "plt.imshow(a)\n",
    "plt.show()\n",
    "\n",
    "print(f\"Всего элементов: {N}×{N}={N**2}\\nВсего вариантов: 2^{N**2} = {2**(N**2)}\")"
   ]
  },
  {
   "cell_type": "code",
   "execution_count": 65,
   "id": "0856f127-e5c0-4649-b5de-dffc5e42d2d2",
   "metadata": {},
   "outputs": [],
   "source": [
    "def save_pic_projection():\n",
    "    with open(\"projects/projections.py\", \"w\") as f:\n",
    "        f.wrtie(f'\"\"\"\\nСуммы строк и столбцов квадратной матрицы {N}×{N}\\n\"\"\"')\n",
    "        f.write(f\"x_projection = {[sum([a[i][j] for j in range(N)]) for i in range(N)]}\\n\")\n",
    "        f.write(f\"y_projection = {[sum([a[j][i] for j in range(N)]) for i in range(N)]}\\n\")\n",
    "\n",
    "def save_noise_pic_projection():\n",
    "    pass\n",
    "\n",
    "save_pic_projection()"
   ]
  },
  {
   "cell_type": "markdown",
   "id": "a39ee622-9330-44db-8273-bd5be4fb95e5",
   "metadata": {
    "jp-MarkdownHeadingCollapsed": true
   },
   "source": [
    "##### **Скелет для студента**"
   ]
  },
  {
   "cell_type": "code",
   "execution_count": null,
   "id": "66bec54b-65a5-4f15-8fec-623b472cd2b4",
   "metadata": {},
   "outputs": [],
   "source": [
    "\"\"\"\n",
    "Рекомендую использовать следующие библиотеки:\n",
    "\n",
    "Распределение задач на процессоры: p_tqdm\n",
    "Работа со временем: datetime\n",
    "\n",
    "Так же импортирован файл projections.py\n",
    "\"\"\"\n",
    "from p_tqdm import p_map\n",
    "import datetime\n",
    "from projections import *\n",
    "\n",
    "\n",
    "def compare_func(m):\n",
    "    \"\"\"Тут два варианта, выбор которых зависит от задачи:\n",
    "    1. Либо функция сравнивает проекции матрицы m с x_projection, y_projection\n",
    "    2. Либо функция возвращает модуль разницы векторов проекций m и целевых проекций\n",
    "    В этой задаче, оба варианта подходят, поскольку они решают идентичные задачи. Если же векторы проекций имеют шум, то корректное \n",
    "    решение будет только 2.\"\"\"\n",
    "\n",
    "\n",
    "def partial_find_it(a, b, c):\n",
    "    # Функция, передаваемая на разные процессоры\n",
    "\n",
    "    # Здесь будет Ваш код!\n",
    "    \n",
    "    return a  # О возвращаемом \n",
    "\n",
    "\n",
    "def find_it(n_p, ...):\n",
    "    # Функция, осуществляющая поиск\n",
    "\n",
    "    # Когда распараллеливается выполнение программы на процессоры, им передаётся одинаковая функция (partial_find_it), и разные аргументы\n",
    "    # Эти аргументы берутся из длинны \n",
    "    t0 = dt.datetime.now()\n",
    "    anws = p_map(partial_find_it, \n",
    "                 [a for i in range(n_p)],\n",
    "                 [b for i in range(n_p)],\n",
    "                 [c for i in range(n_p)])\n",
    "    print(f\"Затраченное время: {dt.datetime.now() - t0}\")\n"
   ]
  },
  {
   "cell_type": "markdown",
   "id": "f2624ff4-0761-48e8-b9c6-9a3ee5a35053",
   "metadata": {},
   "source": [
    "##### **Решение**"
   ]
  },
  {
   "cell_type": "code",
   "execution_count": 2,
   "id": "25ffb69d-65bd-4364-9ac9-225e30323ea0",
   "metadata": {},
   "outputs": [
    {
     "data": {
      "text/plain": [
       "[5, 4, 3, 5, 5]"
      ]
     },
     "execution_count": 2,
     "metadata": {},
     "output_type": "execute_result"
    }
   ],
   "source": [
    "from projects.projections import *\n",
    "x_projection"
   ]
  },
  {
   "cell_type": "code",
   "execution_count": null,
   "id": "73c9f174-8181-467a-848e-0336eb9f473e",
   "metadata": {},
   "outputs": [],
   "source": [
    "import datetime as dt\n",
    "from p_tqdm import p_map\n",
    "\n",
    "def get_loss(pic: list):\n",
    "    x_proj = [sum([pic[i][j] for j in range(N)]) for i in range(N)]\n",
    "    y_proj = [sum([pic[j][i] for j in range(N)]) for i in range(N)]\n",
    "    return sum([int(x_proj[i]!=x_projection[i]) + int(y_proj[i]!=y_projection[i]) for i in range(N)])\n",
    "\n",
    "min_loss = 1e10\n",
    "pic_best = None\n",
    "def find_it(min_loss, pic_best, N_map):\n",
    "\n",
    "    def partial_find_it(N_range, min_loss, pic_best):\n",
    "        for a_dec in range(N_range[0], N_range[1]):\n",
    "            a_bin = bin(a_dec)[2:].rjust(N**2, \"0\")\n",
    "            # Составление картинки\n",
    "            pic_tmp = [[int(a_bin[i*N + j]) for i in range(N)] for j in range(N)]\n",
    "    \n",
    "            # Рассчёт потерь\n",
    "            loss = get_loss(pic_tmp)\n",
    "            if min_loss > loss:\n",
    "                min_loss = loss\n",
    "                pic_best = pic_tmp\n",
    "    \n",
    "        return min_loss, pic_best\n",
    "        \n",
    "    t0 = dt.datetime.now()\n",
    "    anws = p_map(partial_find_it, \n",
    "                [(int(num//N_map)*i, int(num//N_map)*(i+1) if (i+1)<N_map else num) for i in range(N_map)],\n",
    "                [min_loss for i in range(N_map)],\n",
    "                [pic_best for i in range(N_map)])\n",
    "    print(f\"Затраченное время: {dt.datetime.now() - t0}\")\n",
    "    \n",
    "    for anw in anws:\n",
    "        if min_loss > anw[0]:\n",
    "            min_loss = anw[0]\n",
    "            pic_best = anw[1]\n",
    "    return min_loss, pic_best\n",
    "    \n",
    "\n",
    "min_loss, pic_best = find_it(min_loss, pic_best, 50)\n",
    "plt.imshow(pic_best)\n",
    "plt.show()"
   ]
  },
  {
   "cell_type": "markdown",
   "id": "9bddeb7f-c9fe-4810-b7ad-7224de846dad",
   "metadata": {},
   "source": [
    "#### <span style=\"color:#0ab49a\">Хэш-функции:</span> <span style=\"color:#A254FC\">шифрование и дешифрование</span> "
   ]
  },
  {
   "cell_type": "code",
   "execution_count": null,
   "id": "fbab345e-43c4-481c-9a18-213e7619c1be",
   "metadata": {},
   "outputs": [],
   "source": []
  },
  {
   "cell_type": "markdown",
   "id": "684efb9a-7288-44b6-bba7-891686121128",
   "metadata": {},
   "source": [
    "#### <span style=\"color:#0ab49a\">Задача 3 тел:</span> <span style=\"color:#A254FC\">резонанс кого-то там</span> "
   ]
  },
  {
   "cell_type": "code",
   "execution_count": null,
   "id": "063d4bf7-e5f9-44d6-9a04-c5fa2df97164",
   "metadata": {},
   "outputs": [],
   "source": []
  },
  {
   "cell_type": "markdown",
   "id": "f75731a6-4773-4f4f-b2d6-7b2a6fc38180",
   "metadata": {
    "jp-MarkdownHeadingCollapsed": true
   },
   "source": [
    "#### <span style=\"color:#0ab49a\">Gym:</span> <span style=\"color:#A254FC\">двойной маятник</span> "
   ]
  },
  {
   "cell_type": "code",
   "execution_count": 89,
   "id": "724db2e3-dc01-40f8-b228-1affbac6ef67",
   "metadata": {},
   "outputs": [
    {
     "name": "stdout",
     "output_type": "stream",
     "text": [
      "[ 0.02830734 -0.15921979  0.03777779  0.29856065]\n",
      "[ 0.02512294 -0.3548593   0.043749    0.6029146 ]\n",
      "[ 0.01802576 -0.550565    0.0558073   0.9090503 ]\n",
      "[ 0.00701446 -0.74639606  0.0739883   1.2187384 ]\n",
      "[-0.00791346 -0.5523018   0.09836307  0.9501264 ]\n",
      "[-0.0189595  -0.35863167  0.1173656   0.6898975 ]\n",
      "[-0.02613213 -0.5551698   0.13116355  1.017103  ]\n",
      "[-0.03723553 -0.7517733   0.1515056   1.3479266 ]\n",
      "[-0.052271   -0.5588451   0.17846414  1.1062218 ]\n",
      "[-0.0634479  -0.36646023  0.20058857  0.8744182 ]\n",
      "[-0.0707771  -0.5636609   0.21807694  1.2228667 ]\n"
     ]
    }
   ],
   "source": [
    "import gymnasium as gym\n",
    "\n",
    "env = gym.make(\"CartPole-v1\")\n",
    "observation_space = env.observation_space.shape[0]\n",
    "action_space = env.action_space.n   \n",
    "\n",
    "terminal_state = False\n",
    "state = env.reset()\n",
    "# state = np.reshape(state, [1, observation_space])  \n",
    "\n",
    "while True:\n",
    "    #env.render()\n",
    "    # action = dqn_solver.act(state)\n",
    "    action = np.random.randint(2)\n",
    "    # print(env.step(action))\n",
    "    state_next, reward, terminal, info, _ = env.step(action)\n",
    "    state = np.reshape(state_next, [1, observation_space])\n",
    "    # print(state)\n",
    "    print(state[0])\n",
    "      \n",
    "    if terminal:\n",
    "        break"
   ]
  },
  {
   "cell_type": "code",
   "execution_count": 86,
   "id": "efc741ec-386e-438d-b032-61fa4eff5b4e",
   "metadata": {},
   "outputs": [
    {
     "data": {
      "text/plain": [
       "array([[ 0.14828601,  1.3443959 , -0.22132792, -2.122732  ]],\n",
       "      dtype=float32)"
      ]
     },
     "execution_count": 86,
     "metadata": {},
     "output_type": "execute_result"
    }
   ],
   "source": [
    "state"
   ]
  },
  {
   "cell_type": "code",
   "execution_count": 78,
   "id": "4bef62e0-ad68-488c-a112-8dd7d54feefc",
   "metadata": {},
   "outputs": [
    {
     "data": {
      "text/plain": [
       "array([-4.8000002e+00, -3.4028235e+38, -4.1887903e-01, -3.4028235e+38],\n",
       "      dtype=float32)"
      ]
     },
     "execution_count": 78,
     "metadata": {},
     "output_type": "execute_result"
    }
   ],
   "source": [
    "env.observation_space.low"
   ]
  },
  {
   "cell_type": "code",
   "execution_count": null,
   "id": "e928944c-866f-433f-93d3-e0243c62206b",
   "metadata": {},
   "outputs": [],
   "source": [
    "dir(env.observation_space.high)"
   ]
  }
 ],
 "metadata": {
  "kernelspec": {
   "display_name": "Python 3 (ipykernel)",
   "language": "python",
   "name": "python3"
  },
  "language_info": {
   "codemirror_mode": {
    "name": "ipython",
    "version": 3
   },
   "file_extension": ".py",
   "mimetype": "text/x-python",
   "name": "python",
   "nbconvert_exporter": "python",
   "pygments_lexer": "ipython3",
   "version": "3.10.12"
  }
 },
 "nbformat": 4,
 "nbformat_minor": 5
}
