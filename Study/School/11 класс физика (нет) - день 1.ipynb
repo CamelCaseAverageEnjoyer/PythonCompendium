{
 "cells": [
  {
   "cell_type": "markdown",
   "id": "e5518e8b-08cb-45da-87f5-039e53249a6e",
   "metadata": {},
   "source": [
    "### <span style=\"color:#0ab49a\">Алгоритмическая (вычислительная) сложность, циклы</span> <span style=\"color:#BA77D8\">на языке Python</span> \n",
    "\n",
    "![](Python-2-MIPT/img/banner.png)"
   ]
  },
  {
   "cell_type": "markdown",
   "id": "ac6f86e0-7984-47b2-b7e5-56ac971323d2",
   "metadata": {},
   "source": [
    "<span style=\"color:#b500a7\">Для начала, пройдём базовые понятия в Python</span>"
   ]
  },
  {
   "cell_type": "markdown",
   "id": "888f696c-0e8a-4551-9760-13c28d475137",
   "metadata": {},
   "source": [
    "### <span style=\"color:#55628D\">1. Основной синтасис Python</span>"
   ]
  },
  {
   "cell_type": "code",
   "execution_count": 1,
   "id": "0bf8d180-9025-4828-aa6e-749c884b9a7e",
   "metadata": {},
   "outputs": [
    {
     "name": "stdout",
     "output_type": "stream",
     "text": [
      "Одно значение: 42\n",
      "Другое значение Тестовая строка\n"
     ]
    }
   ],
   "source": [
    "# Переменные не обязательно инициализировать\n",
    "a = 42\n",
    "print(\"Одно значение:\", a)\n",
    "\n",
    "# Благодаря этому, можно присваивать любое значение уже готовой переменной\n",
    "a = \"Тестовая строка\"\n",
    "print(\"Другое значение\", a)"
   ]
  },
  {
   "cell_type": "code",
   "execution_count": 2,
   "id": "2e020359-a5c0-4290-ba6e-0a9356940008",
   "metadata": {},
   "outputs": [
    {
     "name": "stdin",
     "output_type": "stream",
     "text": [
      "Введите число: 100\n"
     ]
    },
    {
     "name": "stdout",
     "output_type": "stream",
     "text": [
      "Прочитанная строка: 100 ; её тип: <class 'str'>\n",
      "Строка, умноженная на 10: 100100100100100100100100100100\n",
      "Умножение целочисленного значения на 10: 1000\n"
     ]
    }
   ],
   "source": [
    "# Ввод работает через внутреннюю функцию input()\n",
    "a = input(\"Введите число:\")\n",
    "\n",
    "# Вывод работает через внутреннюю функцию print()\n",
    "print(\"Прочитанная строка:\", a, \"; её тип:\", type(a))\n",
    "\n",
    "# Введённое значение - всегда строка. Её можно привести в целочисленное значение через функцию приведения типов\n",
    "print(\"Строка, умноженная на 10:\", a * 10)\n",
    "print(\"Умножение целочисленного значения на 10:\", int(a) * 10)"
   ]
  },
  {
   "cell_type": "code",
   "execution_count": 3,
   "id": "771d95e2-6c42-4dec-91c8-5b66db91b6f0",
   "metadata": {},
   "outputs": [
    {
     "name": "stdout",
     "output_type": "stream",
     "text": [
      "Пустой массив: [] , длина массива: 0\n",
      "Одномерный массив: [1, 2, 3] , длина массива: 3\n",
      "Вложенный массив: [[1, 2, 3], [4, 5, 6], [7, 8, 9]] , длина массива: 3\n",
      "\n",
      "Новый одномерный массив: [1, 2, 3, 100]\n",
      "Новый двумерный массив: [[1, 2, 3], [4, 5, 6], [7, 8, 9], 100]\n"
     ]
    }
   ],
   "source": [
    "# Массивы в Python - не совсем массивы. Но об этом не сейчас\n",
    "arr1 = []\n",
    "print(\"Пустой массив:\", arr1, \", длина массива:\", len(arr1))\n",
    "\n",
    "arr2 = [1, 2, 3]\n",
    "print(\"Одномерный массив:\", arr2, \", длина массива:\", len(arr2))\n",
    "\n",
    "arr3 = [[1, 2, 3], [4, 5, 6], [7, 8, 9]]\n",
    "print(\"Вложенный массив:\", arr3, \", длина массива:\", len(arr3))\n",
    "\n",
    "# Добавление пустой строки\n",
    "print()\n",
    "\n",
    "arr2.append(100)\n",
    "print(\"Новый одномерный массив:\", arr2)\n",
    "arr3.append(100)\n",
    "print(\"Новый двумерный массив:\", arr3)"
   ]
  },
  {
   "cell_type": "code",
   "execution_count": 4,
   "id": "bff1bf6d-ad81-4381-8cb4-139dff534c23",
   "metadata": {},
   "outputs": [
    {
     "name": "stdout",
     "output_type": "stream",
     "text": [
      "Одномерный массив: [1, 2, 3]\n",
      "Одномерный массив: [1, 2, 3, 4, 5, 6]\n"
     ]
    }
   ],
   "source": [
    "arr2 = [1, 2, 3]\n",
    "print(\"Одномерный массив:\", arr2)\n",
    "\n",
    "# Можно, конечно, добавлять элементы массива и обычным сложением. Далее, будем пользоваться всё-таки атрибутом append().\n",
    "arr2 = arr2 + [4, 5, 6]\n",
    "print(\"Одномерный массив:\", arr2)"
   ]
  },
  {
   "cell_type": "code",
   "execution_count": 5,
   "id": "755c5e40-8fd5-4fd2-818f-58b18b379493",
   "metadata": {},
   "outputs": [
    {
     "name": "stdin",
     "output_type": "stream",
     "text": [
      "Введите число: 5\n"
     ]
    },
    {
     "name": "stdout",
     "output_type": "stream",
     "text": [
      "Положительное\n"
     ]
    }
   ],
   "source": [
    "# Условия\n",
    "a = int(input(\"Введите число:\"))\n",
    "\n",
    "# Можно заметить, что в Python нет фигурных скобок и \";\"\n",
    "if a > 0:\n",
    "    print(\"Положительное\")\n",
    "elif a < 0:\n",
    "    print(\"Отрицательное\")\n",
    "else:\n",
    "    print(\"Ноль\")"
   ]
  },
  {
   "cell_type": "markdown",
   "id": "c1afaebb-e5ef-4f63-81f1-c5e636765568",
   "metadata": {},
   "source": [
    "<span style=\"color:#b500a7\">Циклы for и while отличаются следующим:</span>\n",
    "\n",
    "- **for** создаёт последовательность значений, которые передаются в переменную **i** (в примере ниже, это $i=[0,1,2,3,4]$)\n",
    "- **while** проверяет истинность условия на каждом шагу, и работает пока условие истинно (в примере ниже, это условие $a < 10$)"
   ]
  },
  {
   "cell_type": "code",
   "execution_count": 6,
   "id": "828f928a-f606-4dd9-a692-e748e4b61de6",
   "metadata": {},
   "outputs": [
    {
     "name": "stdout",
     "output_type": "stream",
     "text": [
      "Число i = 0\n",
      "Число i = 1\n",
      "Число i = 2\n",
      "Число i = 3\n",
      "Число i = 4\n"
     ]
    }
   ],
   "source": [
    "# Цикл \"for\":\n",
    "for i in range(0, 5):\n",
    "    print(\"Число i =\", i)"
   ]
  },
  {
   "cell_type": "code",
   "execution_count": 7,
   "id": "d3a0ce94-2796-4126-89fc-e03d190bb155",
   "metadata": {},
   "outputs": [
    {
     "name": "stdout",
     "output_type": "stream",
     "text": [
      "Число a = 0\n",
      "Число a = 3\n",
      "Число a = 6\n",
      "Число a = 9\n"
     ]
    }
   ],
   "source": [
    "# Цикл \"while\":\n",
    "a = 0\n",
    "while a < 10:\n",
    "    print(\"Число a =\", a)\n",
    "    a += 3"
   ]
  },
  {
   "cell_type": "markdown",
   "id": "a9e16cad-19d8-4730-b82f-b8bbd84e0f68",
   "metadata": {},
   "source": [
    "<span style=\"color:#b500a7\">Функции, которые мы создаём, имеют следующие части:</span>\n",
    "\n",
    "- *Входные аргументы* $-$ параметры, указываемые в круглых скобках, передаваемые в функцию при её вызове (в примере: $a, b$)\n",
    "- *Тело функции* $-$ строки кода, которые определяют работу функции\n",
    "- *Выходные данные* $-$ передаваемые параметры обратно в место вызова функции, указываемые после **return**\n",
    "\n",
    "Внимание! В функции может и не быть выходных данных! В таком случае, функция возвращает **None** (пример с func_456)"
   ]
  },
  {
   "cell_type": "code",
   "execution_count": 8,
   "id": "ff829fdf-fd2b-454f-a063-f88e1d089ca5",
   "metadata": {},
   "outputs": [
    {
     "name": "stdout",
     "output_type": "stream",
     "text": [
      "Переменная c: 3\n"
     ]
    }
   ],
   "source": [
    "# Функции объявляются с помощью \"def\"; возвращаемое зачение записывается после \"return\"\n",
    "def func_123(a, b):  # Название функции может быть любым! Ну, почти\n",
    "    return a + b\n",
    "\n",
    "c = func_123(1, 2)\n",
    "print(\"Переменная c:\", c)"
   ]
  },
  {
   "cell_type": "code",
   "execution_count": 9,
   "id": "359bbd58-55ac-4725-909d-7912de62ae35",
   "metadata": {},
   "outputs": [
    {
     "name": "stdout",
     "output_type": "stream",
     "text": [
      "3\n",
      "Переменная c: None\n"
     ]
    }
   ],
   "source": [
    "def func_456(a, b):\n",
    "    print(a + b)\n",
    "    # Здесь не прописан return!\n",
    "\n",
    "c = func_456(1, 2)\n",
    "print(\"Переменная c:\", c)"
   ]
  },
  {
   "cell_type": "markdown",
   "id": "0f476b92-f169-4253-ab2f-931f774ee507",
   "metadata": {},
   "source": [
    "<span style=\"color:#b500a7\">Ниже запихнём цикл внутрь функции на примере рассчёта факториала.</span>\n",
    "\n",
    "Факториал $a!$ $-$ произведение целых положительных чисел от $1$ до $а$ включительно:\n",
    "$$a! = 1*2*3...*(a-1)*a$$\n",
    "\n",
    "Примеры:\n",
    "$$3! = 1*2*3 = 6$$\n",
    "$$5! = 1*2*3*4*5 = 120$$"
   ]
  },
  {
   "cell_type": "code",
   "execution_count": 10,
   "id": "445a619a-9b6a-48df-8ddb-540faef5aa3f",
   "metadata": {},
   "outputs": [
    {
     "name": "stdin",
     "output_type": "stream",
     "text": [
      "Введите число: 5\n"
     ]
    },
    {
     "name": "stdout",
     "output_type": "stream",
     "text": [
      "Промежуточные значения: i= 1 res= 1\n",
      "Промежуточные значения: i= 2 res= 2\n",
      "Промежуточные значения: i= 3 res= 6\n",
      "Промежуточные значения: i= 4 res= 24\n",
      "Промежуточные значения: i= 5 res= 120\n",
      "Для числа 5 факториал равен  120\n"
     ]
    }
   ],
   "source": [
    "def fact(n):\n",
    "    res = 1\n",
    "    for i in range(1, n + 1):\n",
    "        res = res * i\n",
    "        print(\"Промежуточные значения: i=\", i, \"res=\", res)\n",
    "    return res\n",
    "\n",
    "n = int(input(\"Введите число:\"))\n",
    "a = fact(n)\n",
    "print(\"Для числа\", n, \"факториал равен \", a)"
   ]
  },
  {
   "cell_type": "markdown",
   "id": "0719878a-7e93-4d62-bac1-a788b812bf71",
   "metadata": {},
   "source": [
    "<span style=\"color:#b500a7\">Опасная вещь - вызов функции внутри самой себя. В таком случае нужно быть уверенным, что эта \"матрёшка\" не будет открываться вечно.</span>\n",
    "\n",
    "**Матрёшка** $-$ наиболее точное описание функции, которая вызывает сама себя. Потому что (на примере ниже) F(1) работает внутри времени работы F(0), F(2) работает внутри F(1) и так далее. Пока F(1) не завершится, F(0) не сможет завершиться."
   ]
  },
  {
   "cell_type": "code",
   "execution_count": 11,
   "id": "29fe24b1-4196-4d8b-bffe-73b0081d3296",
   "metadata": {},
   "outputs": [
    {
     "name": "stdout",
     "output_type": "stream",
     "text": [
      "Значение внутри функции x = 0\n",
      "Вызов F( 0 + 1 )!\n",
      "Значение внутри функции x = 1\n",
      "Вызов F( 1 + 1 )!\n",
      "Значение внутри функции x = 2\n",
      "Вызов F( 2 + 1 )!\n",
      "Значение внутри функции x = 3\n",
      "Вызов F( 3 + 1 )!\n",
      "Значение внутри функции x = 4\n",
      "Вызов F( 4 + 1 )!\n",
      "Значение внутри функции x = 5\n"
     ]
    }
   ],
   "source": [
    "# Функция, вызывающая себя\n",
    "def F(x):\n",
    "    print(\"Значение внутри функции x =\", x)\n",
    "    if x < 5:\n",
    "        print(\"Вызов F(\", x, \"+ 1 )!\")\n",
    "        F(x + 1)\n",
    "\n",
    "F(0)"
   ]
  },
  {
   "cell_type": "markdown",
   "id": "a7e43d55-66dc-4957-a377-bade8eba9c80",
   "metadata": {},
   "source": [
    "### <span style=\"color:#55628D\">2. Задача: числа Фибоначчи</span>\n",
    "\n",
    "Напишите функцию, которая находит число Фибоначчи с нужным номером. Последовательность задаётся такой формулой:\n",
    "\n",
    "$$F(1) = 0$$\n",
    "$$F(2) = 1$$\n",
    "$$F(N) = F(N - 1) + F(N - 2) \\hskip20px для \\hskip20px N >= 3$$\n",
    "\n",
    "Некоторые значения:\n",
    "| x  | 1 | 2 | 3 | 4 | 5 | 6 | 7 | 8 | 9 | 10 |\n",
    "|----|---|---|---|---|---|---|---|---|---|----|\n",
    "|F(x)| 0 | 1 | 1 | 2 | 3 | 5 | 8 |13 |21 | 34 |"
   ]
  },
  {
   "cell_type": "code",
   "execution_count": 13,
   "id": "f0efa48d-dff4-4f31-9703-d4b35e5564e6",
   "metadata": {},
   "outputs": [
    {
     "name": "stdin",
     "output_type": "stream",
     "text": [
      "Введите число: 10\n"
     ]
    },
    {
     "name": "stdout",
     "output_type": "stream",
     "text": [
      "Ответ: 34\n"
     ]
    }
   ],
   "source": [
    "# Тут будет наше решение!\n",
    "def F(x):\n",
    "    if x == 1:\n",
    "        return 0\n",
    "    elif x == 2:\n",
    "        return 1\n",
    "    else:\n",
    "        return F(x-1) + F(x-2)\n",
    "\n",
    "a = int(input(\"Введите число:\"))\n",
    "print(\"Ответ:\", F(a))"
   ]
  },
  {
   "cell_type": "markdown",
   "id": "5cf12cc8-530f-4713-8b60-57c0cc70bb11",
   "metadata": {},
   "source": [
    "<span style=\"color:#b500a7\">Что в этом решении не так? К этой задаче мы ещё вернёмся.</span>"
   ]
  },
  {
   "cell_type": "markdown",
   "id": "f4d1ad17-c190-45a8-8cc9-f710c6f51b0c",
   "metadata": {},
   "source": [
    "### <span style=\"color:#55628D\">3. Алгоритмическая сложность</span>\n",
    "\n",
    "Описания и примеры взяты со статьи: https://habr.com/ru/articles/782608/\n",
    "\n",
    "- $O(1):$ **Константная сложность.** Время выполнения алгоритма не зависит от размера входных данных.\n",
    "    - Пример: доступ к элементу массива по индексу.\n",
    "- $O(\\log(n)):$ **Логарифмическая сложность.**\n",
    "    - Пример: бинарный поиск в отсортированном массиве.\n",
    "- $O(n):$ **Линейная сложность.** Время выполнения алгоритма пропорционально размеру входных данных. \n",
    "    - Пример: просмотр всех элементов в массиве.\n",
    "- $O(n \\log(n)):$ **Линейно-логарифмическая сложность.**\n",
    "- $O(n^2):$ **Квадратичная сложность.** \n",
    "    - Пример: алгоритмы, которые имеют 2 вложенных цикла.\n",
    "- $O(n^3):$ **Кубическая сложность**.\n",
    "    - Пример: алгоритмы, которые имеют 3 вложенных цикла.\n",
    "- $O(n!):$ **Факториальная сложность.** Это самая высокая степень роста времени выполнения алгоритма. \n",
    "    - Пример: перебор всех возможных комбинаций элементов, что делает его чрезвычайно неэффективным для больших значений n."
   ]
  },
  {
   "cell_type": "markdown",
   "id": "c048401d-7f30-404c-a622-ce5b89368f48",
   "metadata": {},
   "source": [
    "<span style=\"color:#b500a7\">Покажем, что алгоритмическая (вычислительная) сложность влияет на время выполнения программы</span>"
   ]
  },
  {
   "cell_type": "code",
   "execution_count": 14,
   "id": "70b12f7c-b480-4f63-8ca8-ddcf797fc6ca",
   "metadata": {},
   "outputs": [
    {
     "name": "stdin",
     "output_type": "stream",
     "text": [
      "Введите степень 10: 8\n"
     ]
    },
    {
     "name": "stdout",
     "output_type": "stream",
     "text": [
      "Для того, чтобы цикл 100000000 раз присвоил значение переменной a, нужно 0:00:03.789599 ч:мм:сс:мкс\n"
     ]
    }
   ],
   "source": [
    "# Библиотека, обрабатывающая дату и время\n",
    "import datetime\n",
    "\n",
    "a = int(input(\"Введите степень 10:\"))\n",
    "n = 10**a\n",
    "\n",
    "t0 = datetime.datetime.now()  # Дата-время до выполнения функции\n",
    "for i in range(n):\n",
    "    a = i  # Работающая операция\n",
    "t1 = datetime.datetime.now()  # Дата-время после выполнения функции\n",
    "\n",
    "print(\"Для того, чтобы цикл\", n, \"раз присвоил значение переменной a, нужно\", t1 - t0, \"ч:мм:сс:мкс\")"
   ]
  },
  {
   "cell_type": "markdown",
   "id": "6df93d2b-a715-4967-bfa8-7ade3854b5b6",
   "metadata": {},
   "source": [
    "<span style=\"color:#b500a7\">Пример линейной сложности: вызов одного цикла</span>"
   ]
  },
  {
   "cell_type": "code",
   "execution_count": 29,
   "id": "71eb5402-9623-4c4f-9952-f6a827e079b4",
   "metadata": {},
   "outputs": [
    {
     "data": {
      "image/png": "[encoded data removed]",
      "text/plain": [
       "<Figure size 640x480 with 1 Axes>"
      ]
     },
     "metadata": {},
     "output_type": "display_data"
    }
   ],
   "source": [
    "# Библиотека для отображения графиков\n",
    "import matplotlib.pyplot as plt\n",
    "\n",
    "def get_delta_linear(n):\n",
    "    t0 = datetime.datetime.now()  # Дата-время до выполнения функции\n",
    "    for i in range(n):\n",
    "        a = i\n",
    "    t1 = datetime.datetime.now()  # Дата-время после выполнения функции\n",
    "\n",
    "    # Рассчёт разницы во времени\n",
    "    delta_microsec = t1.microsecond - t0.microsecond\n",
    "    return delta_microsec\n",
    "\n",
    "# Рассчёт времени работы кода в зависимости от количества вычислений\n",
    "x = [1000, 2000, 3000, 4000, 5000, 6000, 7000, 8000, 9000, 10000]  # Количество вызова операции присвоения\n",
    "y = []\n",
    "for i in range(10):\n",
    "    dt = get_delta_linear(x[i])\n",
    "    y.append(dt)\n",
    "\n",
    "plt.plot(x, y, c=\"blue\")\n",
    "plt.scatter(x, y, c=\"red\")\n",
    "plt.xlabel(\"Количество вызова операции\")\n",
    "plt.ylabel(\"Микросекунды\")\n",
    "plt.show()"
   ]
  },
  {
   "cell_type": "markdown",
   "id": "2a93ffd3-ee82-4cba-89f7-3c6eface508e",
   "metadata": {},
   "source": [
    "<span style=\"color:#b500a7\">Пример квадратичной сложности: вызов цикла внутри цикла</span>"
   ]
  },
  {
   "cell_type": "code",
   "execution_count": 30,
   "id": "5c66f7f2-5401-46f4-91aa-0e58892bfde6",
   "metadata": {},
   "outputs": [
    {
     "data": {
      "image/png": "[encoded data removed]",
      "text/plain": [
       "<Figure size 640x480 with 1 Axes>"
      ]
     },
     "metadata": {},
     "output_type": "display_data"
    }
   ],
   "source": [
    "def get_delta_quadratic(n):\n",
    "    t0 = datetime.datetime.now()  # Дата-время до выполнения функции\n",
    "    for i in range(n):\n",
    "        for j in range(n):\n",
    "            a = i + j\n",
    "    t1 = datetime.datetime.now()  # Дата-время после выполнения функции\n",
    "\n",
    "    # Рассчёт разницы во времени\n",
    "    delta_microsec = t1.microsecond - t0.microsecond\n",
    "    return delta_microsec\n",
    "\n",
    "# Рассчёт времени работы кода в зависимости от количества вычислений\n",
    "x = [10, 20, 30, 40, 50, 60, 70, 80, 90, 100, 110, 120, 130, 140, 150, 160, 170, 180, 190, 200]  # Количество вызова операции присвоения\n",
    "y = []\n",
    "for i in range(20):\n",
    "    dt = get_delta_quadratic(x[i])\n",
    "    y.append(dt)\n",
    "\n",
    "plt.plot(x, y, c=\"blue\")\n",
    "plt.scatter(x, y, c=\"red\")\n",
    "plt.xlabel(\"Количество вызова операции по каждому из 2-х циклов\")\n",
    "plt.ylabel(\"Микросекунды\")\n",
    "plt.show()"
   ]
  },
  {
   "cell_type": "markdown",
   "id": "1e5bc509-a2f0-4268-80a5-bb9edacbef04",
   "metadata": {},
   "source": [
    "### <span style=\"color:#55628D\">4. Разные способы нахождения чисел Фибоначчи</span>"
   ]
  },
  {
   "cell_type": "markdown",
   "id": "c57287e1-5c09-4a07-86d1-07d6c9ad7348",
   "metadata": {},
   "source": [
    "#### Способ №1\n",
    "\n",
    "Тот способ, который выходит из формул. Подразумевает *огромный рост* вызова функции при больших числах. Наглядно это можно показать в виде **матрёшки** итераций:\n",
    "\n",
    "F(6) вызывает рассчёт F(5), F(4) <br>\n",
    "--->F(5) вызывает рассчёт F(4), F(3) <br>\n",
    "--->--->F(4) вызывает рассчёт F(3), F(2) <br>\n",
    "--->--->--->F(3) вызывает рассчёт F(2), F(1) <br>\n",
    "--->--->--->--->F(2) вовзращает 1 <br>\n",
    "--->--->--->--->F(1) вовзращает 0 <br>\n",
    "--->--->--->F(2) вовзращает 1 <br>\n",
    "--->--->F(3) вызывает рассчёт F(2), F(1) <br>\n",
    "--->--->--->F(2) вовзращает 1 <br>\n",
    "--->--->--->F(1) вовзращает 0 <br>\n",
    "--->F(4) вызывает рассчёт F(3), F(2) <br>\n",
    "--->--->F(3) вызывает рассчёт F(2), F(1) <br>\n",
    "--->--->--->F(2) вовзращает 1 <br>\n",
    "--->--->--->F(1) вовзращает 0 <br>\n",
    "--->--->F(2) вовзращает 1 <br>\n",
    "\n",
    "Ох... Итого! <br>\n",
    "Итого изначально мы имели задачу с *вроде как* линейной алгоритмической сложностью (можно руками просто посчитать числа в одну строку). Но мы из неё сделали нечно неприятное. В чём это заключается? Для того, чтобы *посчитать F(6)*, надо:\n",
    "- 1 раз вызвать F(5)\n",
    "- 2 раза вызвать F(4)\n",
    "- 3 раза вызвать F(3)\n",
    "- 5 раз вызвать F(2)\n",
    "- 3 раза вызвать F(1)\n",
    "\n",
    "Иначе говоря:\n",
    "1. Как будто можно сделать лучше;\n",
    "2. Что будет для больших чисел - страшно подумать!\n",
    "\n",
    "Ниже, это выведено в \"Количестве вызова функции\""
   ]
  },
  {
   "cell_type": "code",
   "execution_count": 36,
   "id": "0a583820-2741-42b7-ab8d-e037dbb25373",
   "metadata": {},
   "outputs": [
    {
     "name": "stdin",
     "output_type": "stream",
     "text": [
      "Введите число: 35\n"
     ]
    },
    {
     "name": "stdout",
     "output_type": "stream",
     "text": [
      "Ответ: 5702887\n",
      "Затраченное время: 0:00:02.466396 ч:мм:сс:мкс\n",
      "Количество вызова функции: 9227464\n"
     ]
    }
   ],
   "source": [
    "counter = 0\n",
    "\n",
    "def fib_func_1(n):\n",
    "    global counter\n",
    "    if n == 1:\n",
    "        return 0\n",
    "    elif n == 2:\n",
    "        return 1\n",
    "    else:\n",
    "        counter += 1\n",
    "        return fib_func_1(n - 1) + fib_func_1(n - 2)\n",
    "\n",
    "a = int(input(\"Введите число:\"))\n",
    "t0 = datetime.datetime.now()\n",
    "f = fib_func_1(a)\n",
    "t1 = datetime.datetime.now()\n",
    "print(\"Ответ:\", f)\n",
    "\n",
    "print(\"Затраченное время:\", t1 - t0, \"ч:мм:сс:мкс\")\n",
    "print(\"Количество вызова функции:\", counter)"
   ]
  },
  {
   "cell_type": "markdown",
   "id": "32ca6f2a-de74-49f6-8abe-528aaf839f7e",
   "metadata": {},
   "source": [
    "#### Способ №2\n",
    "\n",
    "А можно легче? Можно!\n",
    "\n",
    "Давайте просто сделаем массив из чисел $[0, 1, 1, 2, 3, 5, 8, 13, 21, ...]$ длинной $n$, и просто вернём последний элемент! Поскольку изначально мы задали массив $[0,1]$, надо совершить всего $(n-2)$ итераций! (Уже сложность линейная)\n",
    "\n",
    "Внимание: \n",
    "- $a[0]$ - первый элемент массива $a$\n",
    "- $a[-1]$ - последний элемент массива $a$\n",
    "- $a[-2]$ - предпоследний элемент массива $a$"
   ]
  },
  {
   "cell_type": "code",
   "execution_count": 37,
   "id": "406cbd43-11ec-471c-906d-03934e9361fd",
   "metadata": {},
   "outputs": [
    {
     "name": "stdin",
     "output_type": "stream",
     "text": [
      "Введите число: 35\n"
     ]
    },
    {
     "name": "stdout",
     "output_type": "stream",
     "text": [
      "Ответ: 5702887\n",
      "Затраченное время: 0:00:00.000052 ч:мм:сс:мкс\n",
      "Количества вызова функции: 33\n"
     ]
    }
   ],
   "source": [
    "counter = 0\n",
    "\n",
    "def fib_func_2(n):\n",
    "    global counter\n",
    "    if n == 1:\n",
    "        return 0\n",
    "    elif n == 2:\n",
    "        return 1\n",
    "    else:\n",
    "        b = [0, 1]\n",
    "        for i in range(n - 2):\n",
    "            counter += 1\n",
    "            b.append(b[-1] + b[-2])\n",
    "        return b[-1]\n",
    "\n",
    "a = int(input(\"Введите число:\"))\n",
    "t0 = datetime.datetime.now()\n",
    "f = fib_func_2(a)\n",
    "t1 = datetime.datetime.now()\n",
    "print(\"Ответ:\", f)\n",
    "\n",
    "print(\"Затраченное время:\", t1 - t0, \"ч:мм:сс:мкс\")\n",
    "print(\"Количества вызова функции:\", counter)"
   ]
  },
  {
   "cell_type": "markdown",
   "id": "bfc3b59a-20b2-46b3-bc3e-49ed0fc18c59",
   "metadata": {},
   "source": [
    "#### Способ №3\n",
    "\n",
    "Здесь мы обошлись ещё хитрее. Мы взяли 2 переменные, и записали в них первые числа последовательности.\n",
    "\n",
    "Далее: [1-е число, 2-е числое] заменяем [2-ым числом, суммой 1-го и 2-го чисел] $(n-2)$ раз. Проверьте сами, что всё верно!"
   ]
  },
  {
   "cell_type": "code",
   "execution_count": 38,
   "id": "588545c9-f985-4506-a612-a3c07469a6d7",
   "metadata": {},
   "outputs": [
    {
     "name": "stdin",
     "output_type": "stream",
     "text": [
      "Введите число: 35\n"
     ]
    },
    {
     "name": "stdout",
     "output_type": "stream",
     "text": [
      "Ответ: 5702887\n",
      "Затраченное время: 0:00:00.000084 ч:мм:сс:мкс\n",
      "Количества вызова функции: 33\n"
     ]
    }
   ],
   "source": [
    "counter = 0\n",
    "\n",
    "def fib_func_3(n):\n",
    "    global counter\n",
    "    if n == 1:\n",
    "        return 0\n",
    "    elif n == 2:\n",
    "        return 1\n",
    "    else:\n",
    "        a, b = 0, 1\n",
    "        for i in range(n - 2):\n",
    "            counter += 1\n",
    "            a, b = b, a + b\n",
    "        return b\n",
    "\n",
    "a = int(input(\"Введите число:\"))\n",
    "t0 = datetime.datetime.now()\n",
    "f = fib_func_3(a)\n",
    "t1 = datetime.datetime.now()\n",
    "print(\"Ответ:\", f)\n",
    "\n",
    "print(\"Затраченное время:\", t1 - t0, \"ч:мм:сс:мкс\")\n",
    "print(\"Количества вызова функции:\", counter)"
   ]
  },
  {
   "cell_type": "markdown",
   "id": "682e412b-00fd-4bcb-b87d-bf5b5bf16904",
   "metadata": {},
   "source": [
    "#### «Бритва Оккама» — методологический принцип, в кратком виде гласящий: «Не следует множить сущее без необходимости» "
   ]
  }
 ],
 "metadata": {
  "kernelspec": {
   "display_name": "Python 3 (ipykernel)",
   "language": "python",
   "name": "python3"
  },
  "language_info": {
   "codemirror_mode": {
    "name": "ipython",
    "version": 3
   },
   "file_extension": ".py",
   "mimetype": "text/x-python",
   "name": "python",
   "nbconvert_exporter": "python",
   "pygments_lexer": "ipython3",
   "version": "3.10.12"
  }
 },
 "nbformat": 4,
 "nbformat_minor": 5
}
