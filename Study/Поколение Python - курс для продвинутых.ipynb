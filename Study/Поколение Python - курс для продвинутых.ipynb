{
 "cells": [
  {
   "cell_type": "markdown",
   "id": "c58d2909",
   "metadata": {},
   "source": [
    "![-](../storage/22.png)"
   ]
  },
  {
   "cell_type": "markdown",
   "id": "0b6fcfae",
   "metadata": {},
   "source": [
    "### Проверка типов"
   ]
  },
  {
   "cell_type": "code",
   "execution_count": 87,
   "id": "8b3b4acf",
   "metadata": {},
   "outputs": [
    {
     "name": "stdout",
     "output_type": "stream",
     "text": [
      "True\n",
      "True\n"
     ]
    }
   ],
   "source": [
    "print(isinstance(3, int))\n",
    "print(isinstance(3.5, float))"
   ]
  },
  {
   "cell_type": "code",
   "execution_count": 90,
   "id": "b625a94a",
   "metadata": {},
   "outputs": [
    {
     "name": "stdout",
     "output_type": "stream",
     "text": [
      "<class 'int'>\n",
      "<class 'float'>\n"
     ]
    }
   ],
   "source": [
    "print(type(3))\n",
    "print(type(3.5))"
   ]
  },
  {
   "cell_type": "markdown",
   "id": "e275ebf9",
   "metadata": {},
   "source": [
    "### Смачные ништяки"
   ]
  },
  {
   "cell_type": "code",
   "execution_count": 3,
   "id": "39afdcf7",
   "metadata": {},
   "outputs": [
    {
     "name": "stdout",
     "output_type": "stream",
     "text": [
      "Hello-Python-Pythons\n"
     ]
    }
   ],
   "source": [
    "words = ['Hello', 'Python', 'Pythons']\n",
    "print('-'.join(words))"
   ]
  },
  {
   "cell_type": "code",
   "execution_count": 5,
   "id": "e9cb067b",
   "metadata": {},
   "outputs": [
    {
     "name": "stdout",
     "output_type": "stream",
     "text": [
      "[20, 30, 40]\n"
     ]
    }
   ],
   "source": [
    "numbers = [1, 2, 3, 4]\n",
    "del numbers[0:2]\n",
    "print(numbers)"
   ]
  },
  {
   "cell_type": "markdown",
   "id": "d24ad47c",
   "metadata": {},
   "source": [
    "![-](../storage/list.png)"
   ]
  },
  {
   "cell_type": "markdown",
   "id": "7476d744-cf2a-4910-b8bc-6384bec19ed0",
   "metadata": {},
   "source": [
    "У функции print есть крутой артибут end (по умолчанию \"\\n\")"
   ]
  },
  {
   "cell_type": "code",
   "execution_count": null,
   "id": "d7c99274",
   "metadata": {},
   "outputs": [],
   "source": []
  },
  {
   "cell_type": "code",
   "execution_count": null,
   "id": "01a152dd",
   "metadata": {},
   "outputs": [],
   "source": []
  },
  {
   "cell_type": "code",
   "execution_count": null,
   "id": "73485c73",
   "metadata": {},
   "outputs": [],
   "source": []
  },
  {
   "cell_type": "code",
   "execution_count": null,
   "id": "7a5cdd05",
   "metadata": {},
   "outputs": [],
   "source": []
  },
  {
   "cell_type": "code",
   "execution_count": null,
   "id": "4fbc9af1",
   "metadata": {},
   "outputs": [],
   "source": []
  },
  {
   "cell_type": "code",
   "execution_count": null,
   "id": "1ad23072",
   "metadata": {},
   "outputs": [],
   "source": []
  }
 ],
 "metadata": {
  "kernelspec": {
   "display_name": "Python 3 (ipykernel)",
   "language": "python",
   "name": "python3"
  },
  "language_info": {
   "codemirror_mode": {
    "name": "ipython",
    "version": 3
   },
   "file_extension": ".py",
   "mimetype": "text/x-python",
   "name": "python",
   "nbconvert_exporter": "python",
   "pygments_lexer": "ipython3",
   "version": "3.10.12"
  }
 },
 "nbformat": 4,
 "nbformat_minor": 5
}
