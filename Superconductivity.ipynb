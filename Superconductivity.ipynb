{
  "nbformat": 4,
  "nbformat_minor": 0,
  "metadata": {
    "kernelspec": {
      "display_name": "Python 3",
      "language": "python",
      "name": "python3"
    },
    "language_info": {
      "codemirror_mode": {
        "name": "ipython",
        "version": 3
      },
      "file_extension": ".py",
      "mimetype": "text/x-python",
      "name": "python",
      "nbconvert_exporter": "python",
      "pygments_lexer": "ipython3",
      "version": "3.8.5"
    },
    "colab": {
      "name": "Superconductivity.ipynb",
      "provenance": []
    }
  },
  "cells": [
    {
      "cell_type": "code",
      "metadata": {
        "id": "55Sqoj22cNDK"
      },
      "source": [
        "import matplotlib.pyplot as plt\n",
        "import math\n",
        "import numpy as np"
      ],
      "execution_count": null,
      "outputs": []
    },
    {
      "cell_type": "code",
      "metadata": {
        "id": "75ddQf3AcNDe"
      },
      "source": [
        "Na = 6.02214082*1e23\n",
        "P = 1e5 ####### Паскали\n",
        "\n",
        "######################## Переводы\n",
        "def erg(T):\n",
        "    return 1.380648780669e-16*T\n",
        "\n",
        "def eV(T):\n",
        "    return 0.00008617328149741*T\n",
        "\n",
        "def eV_erg(E):\n",
        "    return 1.60218e-12*E\n",
        "\n",
        "def erg_K(T):\n",
        "    return T/1.380648780669e-16\n",
        "\n",
        "def eV_K(T):\n",
        "    return T/0.00008617328149741\n",
        "\n",
        "######################## Аргон\n",
        "sigma_Ar = 1e-18\n",
        "######################## Калий\n",
        "sigma_K = 1e-15\n",
        "m_K = 39.0983 / Na\n",
        "I = 4.34 ## эВ\n",
        "\n",
        "g_e = 2\n",
        "g_i = 1\n",
        "l = 0\n",
        "s = 2\n",
        "g_k = s*(2*l + 1)\n",
        "\n",
        "\n",
        "h = 6.62607015*1e-27   ##### эрг*с\n",
        "#h = 4.135667669*1e-15   ### эВ * с\n",
        "#m_e = 9.1093837015/1e29 ## в граммах\n",
        "m_e = 0.511*1e6 ## эВ\n",
        "e = -4.80320427/1e10\n",
        "\n",
        "def vt(T):\n",
        "    return math.sqrt(3*T/m_e)\n",
        "\n",
        "def S(g_e, g_i, g_k, h,m_e,T,I):\n",
        "    return g_e *g_i/g_k * ( m_e/2 * T/math.pi/h**2 )**(3/2) * math.exp(-I/T)\n",
        "\n",
        "def sigm(xx,SS,e,TT,P,sigma_K,sigma_Ar, v_t):\n",
        "    a = e**2/m_e/v_t*math.sqrt(SS*TT/P)\n",
        "    return a*math.sqrt(xx)/(xx*sigma_K + sigma_Ar)"
      ],
      "execution_count": null,
      "outputs": []
    },
    {
      "cell_type": "code",
      "metadata": {
        "id": "1mQdwXsecNDk",
        "outputId": "c6971922-38d0-48c9-94d5-19f85fa9deff"
      },
      "source": [
        "N = 100  ###### Количество точек\n",
        "N_GRAPH = 5\n",
        "T = np.linspace(2000, 5000, N_GRAPH) ########### В Кельвинах\n",
        "x = np.linspace(0, 1e-2, N)\n",
        "sgm = [0 for i in range(N)]\n",
        "TT = eV_K(T[0])\n",
        "SS = S(g_e, g_i, g_k, h,m_e,TT,I)\n",
        "\n",
        "for i in range(N):\n",
        "    sgm[i] = sigm(x[i],SS,e,TT,P,sigma_K,sigma_Ar, vt(TT))\n",
        "    \n",
        "\n",
        "## Подгоночная прямая\n",
        "N_line = 5\n",
        "tmp = 1e-3\n",
        "x_line = np.linspace(tmp,tmp,N_line)\n",
        "y_line = np.linspace(0,3e40,N_line)\n",
        "\n",
        "\n",
        "\n",
        "plt.plot(x, sgm)\n",
        "plt.plot(x_line, y_line)\n",
        "plt.show()"
      ],
      "execution_count": null,
      "outputs": [
        {
          "data": {
            "image/png": "[encoded data removed]",
            "text/plain": [
              "<Figure size 432x288 with 1 Axes>"
            ]
          },
          "metadata": {
            "needs_background": "light"
          },
          "output_type": "display_data"
        }
      ]
    },
    {
      "cell_type": "code",
      "metadata": {
        "id": "sRyKIdRCcNDp",
        "outputId": "8c2d76b4-a58e-4706-a562-824455b765db"
      },
      "source": [
        ""
      ],
      "execution_count": null,
      "outputs": [
        {
          "data": {
            "text/plain": [
              "2000.0"
            ]
          },
          "execution_count": 96,
          "metadata": {},
          "output_type": "execute_result"
        }
      ]
    },
    {
      "cell_type": "code",
      "metadata": {
        "id": "KFsx0tgjcNDr",
        "outputId": "35dae884-26b5-42d0-9297-86a1d670a2c6"
      },
      "source": [
        "sigma_Ar"
      ],
      "execution_count": null,
      "outputs": [
        {
          "data": {
            "text/plain": [
              "1e-18"
            ]
          },
          "execution_count": 85,
          "metadata": {},
          "output_type": "execute_result"
        }
      ]
    },
    {
      "cell_type": "code",
      "metadata": {
        "id": "435lthOkcNDt",
        "outputId": "87cd20b0-810f-4bc6-d1b3-99dbbe4cd544"
      },
      "source": [
        "T"
      ],
      "execution_count": null,
      "outputs": [
        {
          "data": {
            "text/plain": [
              "1.6935506000842931e+40"
            ]
          },
          "execution_count": 52,
          "metadata": {},
          "output_type": "execute_result"
        }
      ]
    }
  ]
}