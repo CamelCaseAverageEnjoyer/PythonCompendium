{
 "cells": [
  {
   "cell_type": "code",
   "execution_count": null,
   "metadata": {
    "id": "IQieO1Pf6MlO"
   },
   "outputs": [],
   "source": [
    "import math\n",
    "import numpy as np\n",
    "import matplotlib.pyplot as plt"
   ]
  },
  {
   "cell_type": "code",
   "execution_count": null,
   "metadata": {
    "id": "ysqOXzEA6SBg"
   },
   "outputs": [],
   "source": [
    "v0 = 10\n",
    "v1 = 0\n",
    "Ha = 5\n",
    "l = 1\n",
    "def V(z):\n",
    "    return -(v1*math.sinh(Ha*z/l))/2/math.sinh(Ha) + v0 + (math.cosh(Ha*z/l) - 1)*(v0-v1/2)/(1 - math.cosh(Ha))\n",
    "\n",
    "N = 1000\n",
    "y = np.linspace(-l,l,N)\n",
    "VV = np.array([V(y[i]) for i in range(N)])\n",
    "\n",
    "N_line = 5\n",
    "x_line1 = np.linspace(-l*0.1,l*0.1,N_line)\n",
    "y_line1 = np.linspace(v0,v0,N_line)\n",
    "\n",
    "x_line2 = np.linspace(0,0,N_line)\n",
    "y_line2 = np.linspace(0,v0,N_line)\n",
    "\n",
    "x_line3 = np.linspace(-l,-l*0.9,N_line)\n",
    "y_line3 = np.linspace(v1,v1,N_line)\n",
    "\n",
    "tmp  = -v1*l/4/(v0-v1/2)\n",
    "x_line4 = np.linspace(tmp,tmp,N_line)\n",
    "y_line4 = np.linspace(0,v0*1.2,N_line)"
   ]
  },
  {
   "cell_type": "code",
   "execution_count": null,
   "metadata": {
    "colab": {
     "base_uri": "https://localhost:8080/",
     "height": 265
    },
    "id": "o17tHh7S7CwW",
    "outputId": "96305b7d-e4b8-4064-acbd-a362a7581464"
   },
   "outputs": [
    {
     "data": {
      "image/png": "[encoded data removed]",
      "text/plain": [
       "<Figure size 432x288 with 1 Axes>"
      ]
     },
     "metadata": {
      "needs_background": "light"
     },
     "output_type": "display_data"
    }
   ],
   "source": [
    "plt.plot(y,VV)\n",
    "#plt.plot(x_line1,y_line1)\n",
    "#plt.plot(x_line2,y_line2)\n",
    "#plt.plot(x_line3,y_line3)\n",
    "#plt.plot(x_line4,y_line4) #Максимальная скорость ламинарного течения\n",
    "plt.show()"
   ]
  }
 ],
 "metadata": {
  "colab": {
   "collapsed_sections": [],
   "name": "Hartman profile.ipynb",
   "provenance": []
  },
  "kernelspec": {
   "display_name": "Python 3 (ipykernel)",
   "language": "python",
   "name": "python3"
  },
  "language_info": {
   "codemirror_mode": {
    "name": "ipython",
    "version": 3
   },
   "file_extension": ".py",
   "mimetype": "text/x-python",
   "name": "python",
   "nbconvert_exporter": "python",
   "pygments_lexer": "ipython3",
   "version": "3.10.12"
  }
 },
 "nbformat": 4,
 "nbformat_minor": 4
}
