{
 "cells": [
  {
   "cell_type": "code",
   "execution_count": 7,
   "metadata": {},
   "outputs": [
    {
     "data": {
      "image/png": "[encoded data removed]",
      "text/plain": [
       "<Figure size 432x288 with 1 Axes>"
      ]
     },
     "metadata": {
      "needs_background": "light"
     },
     "output_type": "display_data"
    },
    {
     "data": {
      "text/plain": [
       "[[92228496.0,\n",
       "  106021537.0,\n",
       "  123202624.0,\n",
       "  132164569.0,\n",
       "  151325798.0,\n",
       "  179323175.0,\n",
       "  203211926.0,\n",
       "  226545805.0,\n",
       "  248709873.0,\n",
       "  281421906.0],\n",
       " [0, 1, 2, 3, 4, 5, 6, 7, 8],\n",
       " [0, 1, 2, 3, 4, 5, 6, 7],\n",
       " [0, 1, 2, 3, 4, 5, 6],\n",
       " [0, 1, 2, 3, 4, 5],\n",
       " [0, 1, 2, 3, 4],\n",
       " [0, 1, 2, 3],\n",
       " [0, 1, 2],\n",
       " [0, 1],\n",
       " [0]]"
      ]
     },
     "execution_count": 7,
     "metadata": {},
     "output_type": "execute_result"
    }
   ],
   "source": [
    "import matplotlib.pyplot as p\n",
    "import math as mt\n",
    "import numpy as np\n",
    "r = 10\n",
    "h = 10.\n",
    "x = [1910.,\n",
    "     1920.,\n",
    "     1930.,\n",
    "     1940.,\n",
    "     1950.,\n",
    "     1960.,\n",
    "     1970.,\n",
    "     1980.,\n",
    "     1990.,\n",
    "     2000.]\n",
    "d = [list(range(i)) for i in range(1, r + 1)][::-1]\n",
    "d[0] = [92228496.,\n",
    "     106021537.,\n",
    "     123202624.,\n",
    "     132164569.,\n",
    "     151325798.,\n",
    "     179323175.,\n",
    "     203211926.,\n",
    "     226545805.,\n",
    "     248709873.,\n",
    "     281421906.]\n",
    "p.plot(x, d[0])\n",
    "p.show()\n",
    "d"
   ]
  },
  {
   "cell_type": "code",
   "execution_count": 27,
   "metadata": {},
   "outputs": [
    {
     "data": {
      "image/png": "[encoded data removed]",
      "text/plain": [
       "<Figure size 432x288 with 1 Axes>"
      ]
     },
     "metadata": {
      "needs_background": "light"
     },
     "output_type": "display_data"
    },
    {
     "name": "stdout",
     "output_type": "stream",
     "text": [
      "Polinom value:  827906509\n",
      "True value:  308745538\n",
      "---------> 3999 1949.99399939994\n",
      "---------> 4000 1950.00400040004\n",
      "---------> 4001 1950.01400140014\n",
      "---------> 4002 1950.02400240024\n",
      "---------> 4003 1950.03400340034\n",
      "---------> 4004 1950.0440044004401\n",
      "---------> 4005 1950.05400540054\n",
      "---------> 4006 1950.06400640064\n",
      "---------> 4007 1950.0740074007401\n",
      "---------> 4008 1950.08400840084\n",
      "---------> 4009 1950.0940094009402\n",
      "---------> 4010 1950.1040104010401\n",
      "Proizvodnaya in 1950 year:  2605027.574725253\n"
     ]
    }
   ],
   "source": [
    "for a in range(r - 1):\n",
    "    for b in range(r - 1 - a):\n",
    "        d[a + 1][b] = (d[a][b + 1] - d[a][b]) / (x[b + 1 + a] - x[b])\n",
    "def polinom(a, d):\n",
    "    p = 0\n",
    "    tmp = 1\n",
    "    for i in range(r):\n",
    "        for m in range (i):\n",
    "            tmp *= (a - x[m])\n",
    "        p += tmp*d[i][0]\n",
    "        tmp = 1\n",
    "    return p\n",
    "ax = np.linspace(x[0], x[len(x) - 1] + 10, 10000)\n",
    "pp = np.array(ax)\n",
    "for i in range(len(ax)):\n",
    "    pp[i] = polinom(ax[i], d)\n",
    "p.plot(ax, pp, color = 'b')\n",
    "#p.plot(x, d[0], color = 'r')\n",
    "p.scatter(x, d[0], color = 'r')\n",
    "p.show()\n",
    "print ('Polinom value: ', int(pp[len(pp) - 1]))\n",
    "print ('True value: ',308745538)\n",
    "\n",
    "for i in range(len(ax)):\n",
    "    if (ax[i] > 1949.99 and ax[i] < 1950.11):\n",
    "        print('--------->', i, ax[i]);\n",
    "        \n",
    "print('Proizvodnaya in 1950 year: ',(pp[4000] - pp[3999])/(ax[4000] - ax[3999]));"
   ]
  },
  {
   "cell_type": "code",
   "execution_count": 10,
   "metadata": {},
   "outputs": [],
   "source": [
    "# S[i](ax)= a[i] + b[i]*(ax - x[i]) + c[i]*(ax - x[i])^2 + d[i]*(ax - x[i])^3\n",
    "# S[i](x[i]) = a[i], S'[i](x[i]) = b[i], S\"[i](x[i]) = 2c[i]\n",
    "# f[i] = d[0][i]\n",
    "# a[i] = f[i], d[i]= = (c[i] - c[i-1])/3/h[i], b[i] = (a[i] - a[i-1])/h[i] + (2*c[i] + c[i-1])/3*h[i]\n",
    "# c[i-1]*h[i] + 2*c[i]*(h[i] + h[i+1]) + c[i+1]*h[i+1] = 3*((a[i+1] - a[i])/h[i+1] - (a[i] - a[i-1])/h[i])\n",
    "# c[r-1] = 0, c[0] - 3*d[0]*h[0] = 0\n",
    "# Метод прогонки: (for c)\n",
    "# A[i]*c[i-1] + C[i]*x[i] + B[i]*c[i+1] = F[i]\n",
    "# aa[i+1] = -B[i]/(A[i]*aa[i] + C[i])\n",
    "# bb[i+1] = (F[i] - A[i]*B[i])/(A[i]*aa[i] + C[i])\n",
    "# aa[0] = 0, bb[0] = 0\n",
    "# c[r-1] = (F[r-1] - A[r-1]*bb[r-1])/(C[r-1] - A[r-1]*aa[r-1])\n",
    "# c[i] = aa[i+1]*c[i+1] + bb[i+1]"
   ]
  },
  {
   "cell_type": "code",
   "execution_count": 13,
   "metadata": {},
   "outputs": [],
   "source": [
    "a = list(range(r))\n",
    "b = list(range(r-1))\n",
    "c = list(range(r-1))\n",
    "d = list(range(r-1))\n",
    "aa = list(range(r-1))\n",
    "bb = list(range(r-1))\n",
    "A = list(range(r-2))\n",
    "B = list(range(r-2))\n",
    "C = list(range(r-2))\n",
    "F = list(range(r-2))\n",
    "for i in range(r):\n",
    "    a[i] = x[i]\n",
    "for i in range(r-2):\n",
    "    A[i] = B[i] = h\n",
    "    C[i] = 2*h\n",
    "    F[i] = "
   ]
  }
 ],
 "metadata": {
  "kernelspec": {
   "display_name": "Python 3 (ipykernel)",
   "language": "python",
   "name": "python3"
  },
  "language_info": {
   "codemirror_mode": {
    "name": "ipython",
    "version": 3
   },
   "file_extension": ".py",
   "mimetype": "text/x-python",
   "name": "python",
   "nbconvert_exporter": "python",
   "pygments_lexer": "ipython3",
   "version": "3.10.12"
  }
 },
 "nbformat": 4,
 "nbformat_minor": 4
}
