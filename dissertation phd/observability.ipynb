{
 "cells": [
  {
   "cell_type": "code",
   "execution_count": 1,
   "id": "0ff3d261",
   "metadata": {},
   "outputs": [],
   "source": [
    "from sympy import *\n",
    "import numpy as np"
   ]
  },
  {
   "cell_type": "markdown",
   "id": "7fa89981",
   "metadata": {},
   "source": [
    "## (Афанасьев В.Н.) Математическая теория конструирования систем управления $-$ линейная система"
   ]
  },
  {
   "cell_type": "code",
   "execution_count": 76,
   "id": "270b38f5",
   "metadata": {},
   "outputs": [
    {
     "data": {
      "text/plain": [
       "[x^0_0(t),\n",
       " y^0_0(t),\n",
       " z^0_0(t),\n",
       " v^x0_0(t),\n",
       " v^y0_0(t),\n",
       " v^z0_0(t),\n",
       " x^0_1(t),\n",
       " y^0_1(t),\n",
       " z^0_1(t),\n",
       " v^x0_1(t),\n",
       " v^y0_1(t),\n",
       " v^z0_1(t),\n",
       " x^0_2(t),\n",
       " y^0_2(t),\n",
       " z^0_2(t),\n",
       " v^x0_2(t),\n",
       " v^y0_2(t),\n",
       " v^z0_2(t)]"
      ]
     },
     "execution_count": 76,
     "metadata": {},
     "output_type": "execute_result"
    }
   ],
   "source": [
    "n = 3\n",
    "n_time = 1\n",
    "\n",
    "t = var(\"t\", real=True)\n",
    "w = var(\"w\", real=True, constant=True)\n",
    "\n",
    "def get_vars(name: str, n: int):\n",
    "    s = \"\"\n",
    "    for i in range(n):\n",
    "        s += f\"{name}_{i} \"\n",
    "    return var(s, real=True)\n",
    "\n",
    "def get_func(name: str, n: int):\n",
    "    return [Function(f\"{name}_{i}\")(t) for i in range(n)]\n",
    "\n",
    "t_ = get_vars(\"t\", n_time)\n",
    "x = [get_func(f\"x^{j}\", n) for j in range(n_time)]\n",
    "y = [get_func(f\"y^{j}\", n) for j in range(n_time)]\n",
    "z = [get_func(f\"z^{j}\", n) for j in range(n_time)]\n",
    "vx = [get_func(f\"v^x{j}\", n) for j in range(n_time)]\n",
    "vy = [get_func(f\"v^y{j}\", n) for j in range(n_time)]\n",
    "vz = [get_func(f\"v^z{j}\", n) for j in range(n_time)]\n",
    "r = [[sqrt(x[j][i]**2 + y[j][i]**2 + z[j][i]**2) for i in range(n)] for j in range(n_time)]\n",
    "X_ = []\n",
    "for i in range(n):\n",
    "    X_ += [x[0][i], y[0][i], z[0][i], vx[0][i], vy[0][i], vz[0][i]]\n",
    "# X_ = Matrix(X_)\n",
    "X_"
   ]
  },
  {
   "cell_type": "code",
   "execution_count": 77,
   "id": "396f86ae",
   "metadata": {},
   "outputs": [
    {
     "name": "stdout",
     "output_type": "stream",
     "text": [
      "Неизвестные: 18, Известные: 6.0, k=3.0\n"
     ]
    }
   ],
   "source": [
    "Y_ = []\n",
    "for j in range(n_time):\n",
    "    R = Matrix([[r[j][i] if i==jj else sqrt((x[j][i]-x[j][jj])**2 + (y[j][i]-y[j][jj])**2 + (z[j][i]-z[j][jj])**2) for i in range(n)] for jj in range(n)])\n",
    "    Y_ += r[j].copy()\n",
    "    for i in range(n):\n",
    "        for j in range(i):\n",
    "            Y_ += [R[i, j]]\n",
    "# Y_ = Matrix(Y_)\n",
    "# ro = get_vars(\"rho\", len(R_))\n",
    "print(f\"Неизвестные: {len(X_)}, Известные: {len(Y_) / n_time}, k={len(X_) / (len(Y_) // n_time)}\")\n",
    "l = int(len(Y_) // n_time)\n",
    "k = int(len(X_) // (len(Y_) // n_time))\n",
    "# Y_"
   ]
  },
  {
   "cell_type": "code",
   "execution_count": 92,
   "id": "28090688",
   "metadata": {},
   "outputs": [],
   "source": [
    "def my_diff(expr, power: int = 1, vari: any = t):\n",
    "    if power == 0:\n",
    "        return expr\n",
    "    if power == 1:\n",
    "        anw = expr\n",
    "    else:\n",
    "        anw = my_diff(expr, power - 1)\n",
    "    subses = []\n",
    "    for i in range(n):\n",
    "        for j in range(n_time):\n",
    "            subses += [(Derivative(x[j][i], t), vx[j][i])]\n",
    "            subses += [(Derivative(y[j][i], t), vy[j][i])]\n",
    "            subses += [(Derivative(z[j][i], t), vz[j][i])]\n",
    "            subses += [(Derivative(vx[j][i], t), -2*w*vz[j][i] - 1e-6)]\n",
    "            subses += [(Derivative(vy[j][i], t), -w**2*y[j][i])]\n",
    "            subses += [(Derivative(vz[j][i], t), 2*w*vx[j][i] + 3*w**2*z[j][i])]\n",
    "    return anw.diff(vari).subs(subses).simplify()"
   ]
  },
  {
   "cell_type": "code",
   "execution_count": 93,
   "id": "fdd9422e",
   "metadata": {
    "scrolled": true
   },
   "outputs": [],
   "source": [
    "# H_ = Matrix([[my_diff(Y_[ll], kk) for ll in range(l)] for kk in range(k)])\n",
    "H_ = Matrix([[Y_[0] for ll in range(l)] for kk in range(k)])\n",
    "H_one_line = []\n",
    "for kk in range(k):\n",
    "    for ll in range(l):\n",
    "        tmp = Y_[ll] if kk==0 else my_diff(H_[kk - 1, ll])\n",
    "        H_[kk, ll] = tmp\n",
    "        H_one_line += [tmp]\n",
    "# H_"
   ]
  },
  {
   "cell_type": "code",
   "execution_count": 116,
   "id": "036dc154-a218-4521-8e81-d01dc92fcbb5",
   "metadata": {},
   "outputs": [
    {
     "data": {
      "text/plain": [
       "(3, 6)"
      ]
     },
     "execution_count": 116,
     "metadata": {},
     "output_type": "execute_result"
    }
   ],
   "source": [
    "shape(H_)"
   ]
  },
  {
   "cell_type": "markdown",
   "id": "2fb3b845-2d6c-4db2-9722-f1bebacf4d9c",
   "metadata": {},
   "source": [
    "## $\\to$checkpoint"
   ]
  },
  {
   "cell_type": "code",
   "execution_count": 114,
   "id": "9558ec13-cd2c-4447-be3b-8a719c2e274f",
   "metadata": {},
   "outputs": [],
   "source": [
    "A_single = Matrix([[0, 0, 0, 1, 0, 0], \n",
    "                   [0, 0, 0, 0, 1, 0],\n",
    "                   [0, 0, 0, 0, 0, 1],\n",
    "                   [0, 0, 0, 0, 0, -2*w],\n",
    "                   [0, -w**2, 0, 0, 0, 0],\n",
    "                   [0, 0, 3*w**2, 2*w, 0, 0]])\n",
    "A_ = Matrix([[A_single if i==j else zeros(6, 6) for j in range(n)] for i in range(n)])"
   ]
  },
  {
   "cell_type": "code",
   "execution_count": 115,
   "id": "e2c02577-91cb-4fa4-9183-ca61fcd9c2b8",
   "metadata": {},
   "outputs": [
    {
     "ename": "ShapeError",
     "evalue": "Matrix size mismatch: (18, 18) * (3, 6).",
     "output_type": "error",
     "traceback": [
      "\u001b[0;31m---------------------------------------------------------------------------\u001b[0m",
      "\u001b[0;31mShapeError\u001b[0m                                Traceback (most recent call last)",
      "Cell \u001b[0;32mIn[115], line 2\u001b[0m\n\u001b[1;32m      1\u001b[0m anw \u001b[38;5;241m=\u001b[39m Matrix\u001b[38;5;241m.\u001b[39mhstack(H_, \n\u001b[0;32m----> 2\u001b[0m                     \u001b[43mA_\u001b[49m\u001b[38;5;241;43m.\u001b[39;49m\u001b[43mT\u001b[49m\u001b[43m \u001b[49m\u001b[38;5;241;43m@\u001b[39;49m\u001b[43m \u001b[49m\u001b[43mH_\u001b[49m, \n\u001b[1;32m      3\u001b[0m                     A_\u001b[38;5;241m.\u001b[39mT \u001b[38;5;241m@\u001b[39m A_\u001b[38;5;241m.\u001b[39mT \u001b[38;5;241m@\u001b[39m H_, \n\u001b[1;32m      4\u001b[0m                     A_\u001b[38;5;241m.\u001b[39mT \u001b[38;5;241m@\u001b[39m A_\u001b[38;5;241m.\u001b[39mT \u001b[38;5;241m@\u001b[39m A_\u001b[38;5;241m.\u001b[39mT \u001b[38;5;241m@\u001b[39m H_, \n\u001b[1;32m      5\u001b[0m                     A_\u001b[38;5;241m.\u001b[39mT \u001b[38;5;241m@\u001b[39m A_\u001b[38;5;241m.\u001b[39mT \u001b[38;5;241m@\u001b[39m A_\u001b[38;5;241m.\u001b[39mT \u001b[38;5;241m@\u001b[39m A_\u001b[38;5;241m.\u001b[39mT \u001b[38;5;241m@\u001b[39m H_, \n\u001b[1;32m      6\u001b[0m                     A_\u001b[38;5;241m.\u001b[39mT \u001b[38;5;241m@\u001b[39m A_\u001b[38;5;241m.\u001b[39mT \u001b[38;5;241m@\u001b[39m A_\u001b[38;5;241m.\u001b[39mT \u001b[38;5;241m@\u001b[39m A_\u001b[38;5;241m.\u001b[39mT \u001b[38;5;241m@\u001b[39m A_\u001b[38;5;241m.\u001b[39mT \u001b[38;5;241m@\u001b[39m H_)\n\u001b[1;32m      7\u001b[0m shape(anw)\n",
      "File \u001b[0;32m~/.local/lib/python3.10/site-packages/sympy/core/decorators.py:106\u001b[0m, in \u001b[0;36mcall_highest_priority.<locals>.priority_decorator.<locals>.binary_op_wrapper\u001b[0;34m(self, other)\u001b[0m\n\u001b[1;32m    104\u001b[0m         \u001b[38;5;28;01mif\u001b[39;00m f \u001b[38;5;129;01mis\u001b[39;00m \u001b[38;5;129;01mnot\u001b[39;00m \u001b[38;5;28;01mNone\u001b[39;00m:\n\u001b[1;32m    105\u001b[0m             \u001b[38;5;28;01mreturn\u001b[39;00m f(\u001b[38;5;28mself\u001b[39m)\n\u001b[0;32m--> 106\u001b[0m \u001b[38;5;28;01mreturn\u001b[39;00m \u001b[43mfunc\u001b[49m\u001b[43m(\u001b[49m\u001b[38;5;28;43mself\u001b[39;49m\u001b[43m,\u001b[49m\u001b[43m \u001b[49m\u001b[43mother\u001b[49m\u001b[43m)\u001b[49m\n",
      "File \u001b[0;32m~/.local/lib/python3.10/site-packages/sympy/matrices/common.py:2668\u001b[0m, in \u001b[0;36mMatrixArithmetic.__matmul__\u001b[0;34m(self, other)\u001b[0m\n\u001b[1;32m   2665\u001b[0m \u001b[38;5;28;01mif\u001b[39;00m \u001b[38;5;129;01mnot\u001b[39;00m \u001b[38;5;28mgetattr\u001b[39m(other, \u001b[38;5;124m'\u001b[39m\u001b[38;5;124mis_Matrix\u001b[39m\u001b[38;5;124m'\u001b[39m, \u001b[38;5;28;01mFalse\u001b[39;00m) \u001b[38;5;129;01mand\u001b[39;00m \u001b[38;5;129;01mnot\u001b[39;00m \u001b[38;5;28mgetattr\u001b[39m(other, \u001b[38;5;124m'\u001b[39m\u001b[38;5;124mis_MatrixLike\u001b[39m\u001b[38;5;124m'\u001b[39m, \u001b[38;5;28;01mFalse\u001b[39;00m):\n\u001b[1;32m   2666\u001b[0m     \u001b[38;5;28;01mreturn\u001b[39;00m \u001b[38;5;28mNotImplemented\u001b[39m\n\u001b[0;32m-> 2668\u001b[0m \u001b[38;5;28;01mreturn\u001b[39;00m \u001b[38;5;28;43mself\u001b[39;49m\u001b[38;5;241;43m.\u001b[39;49m\u001b[38;5;21;43m__mul__\u001b[39;49m\u001b[43m(\u001b[49m\u001b[43mother\u001b[49m\u001b[43m)\u001b[49m\n",
      "File \u001b[0;32m~/.local/lib/python3.10/site-packages/sympy/core/decorators.py:106\u001b[0m, in \u001b[0;36mcall_highest_priority.<locals>.priority_decorator.<locals>.binary_op_wrapper\u001b[0;34m(self, other)\u001b[0m\n\u001b[1;32m    104\u001b[0m         \u001b[38;5;28;01mif\u001b[39;00m f \u001b[38;5;129;01mis\u001b[39;00m \u001b[38;5;129;01mnot\u001b[39;00m \u001b[38;5;28;01mNone\u001b[39;00m:\n\u001b[1;32m    105\u001b[0m             \u001b[38;5;28;01mreturn\u001b[39;00m f(\u001b[38;5;28mself\u001b[39m)\n\u001b[0;32m--> 106\u001b[0m \u001b[38;5;28;01mreturn\u001b[39;00m \u001b[43mfunc\u001b[49m\u001b[43m(\u001b[49m\u001b[38;5;28;43mself\u001b[39;49m\u001b[43m,\u001b[49m\u001b[43m \u001b[49m\u001b[43mother\u001b[49m\u001b[43m)\u001b[49m\n",
      "File \u001b[0;32m~/.local/lib/python3.10/site-packages/sympy/matrices/common.py:2702\u001b[0m, in \u001b[0;36mMatrixArithmetic.__mul__\u001b[0;34m(self, other)\u001b[0m\n\u001b[1;32m   2673\u001b[0m \u001b[38;5;129m@call_highest_priority\u001b[39m(\u001b[38;5;124m'\u001b[39m\u001b[38;5;124m__rmul__\u001b[39m\u001b[38;5;124m'\u001b[39m)\n\u001b[1;32m   2674\u001b[0m \u001b[38;5;28;01mdef\u001b[39;00m \u001b[38;5;21m__mul__\u001b[39m(\u001b[38;5;28mself\u001b[39m, other):\n\u001b[1;32m   2675\u001b[0m \u001b[38;5;250m    \u001b[39m\u001b[38;5;124;03m\"\"\"Return self*other where other is either a scalar or a matrix\u001b[39;00m\n\u001b[1;32m   2676\u001b[0m \u001b[38;5;124;03m    of compatible dimensions.\u001b[39;00m\n\u001b[1;32m   2677\u001b[0m \n\u001b[0;32m   (...)\u001b[0m\n\u001b[1;32m   2699\u001b[0m \u001b[38;5;124;03m    matrix_multiply_elementwise\u001b[39;00m\n\u001b[1;32m   2700\u001b[0m \u001b[38;5;124;03m    \"\"\"\u001b[39;00m\n\u001b[0;32m-> 2702\u001b[0m     \u001b[38;5;28;01mreturn\u001b[39;00m \u001b[38;5;28;43mself\u001b[39;49m\u001b[38;5;241;43m.\u001b[39;49m\u001b[43mmultiply\u001b[49m\u001b[43m(\u001b[49m\u001b[43mother\u001b[49m\u001b[43m)\u001b[49m\n",
      "File \u001b[0;32m~/.local/lib/python3.10/site-packages/sympy/matrices/common.py:2724\u001b[0m, in \u001b[0;36mMatrixArithmetic.multiply\u001b[0;34m(self, other, dotprodsimp)\u001b[0m\n\u001b[1;32m   2720\u001b[0m \u001b[38;5;28;01mif\u001b[39;00m (\u001b[38;5;28mhasattr\u001b[39m(other, \u001b[38;5;124m'\u001b[39m\u001b[38;5;124mshape\u001b[39m\u001b[38;5;124m'\u001b[39m) \u001b[38;5;129;01mand\u001b[39;00m \u001b[38;5;28mlen\u001b[39m(other\u001b[38;5;241m.\u001b[39mshape) \u001b[38;5;241m==\u001b[39m \u001b[38;5;241m2\u001b[39m \u001b[38;5;129;01mand\u001b[39;00m\n\u001b[1;32m   2721\u001b[0m     (\u001b[38;5;28mgetattr\u001b[39m(other, \u001b[38;5;124m'\u001b[39m\u001b[38;5;124mis_Matrix\u001b[39m\u001b[38;5;124m'\u001b[39m, \u001b[38;5;28;01mTrue\u001b[39;00m) \u001b[38;5;129;01mor\u001b[39;00m\n\u001b[1;32m   2722\u001b[0m      \u001b[38;5;28mgetattr\u001b[39m(other, \u001b[38;5;124m'\u001b[39m\u001b[38;5;124mis_MatrixLike\u001b[39m\u001b[38;5;124m'\u001b[39m, \u001b[38;5;28;01mTrue\u001b[39;00m))):\n\u001b[1;32m   2723\u001b[0m     \u001b[38;5;28;01mif\u001b[39;00m \u001b[38;5;28mself\u001b[39m\u001b[38;5;241m.\u001b[39mshape[\u001b[38;5;241m1\u001b[39m] \u001b[38;5;241m!=\u001b[39m other\u001b[38;5;241m.\u001b[39mshape[\u001b[38;5;241m0\u001b[39m]:\n\u001b[0;32m-> 2724\u001b[0m         \u001b[38;5;28;01mraise\u001b[39;00m ShapeError(\u001b[38;5;124m\"\u001b[39m\u001b[38;5;124mMatrix size mismatch: \u001b[39m\u001b[38;5;132;01m%s\u001b[39;00m\u001b[38;5;124m * \u001b[39m\u001b[38;5;132;01m%s\u001b[39;00m\u001b[38;5;124m.\u001b[39m\u001b[38;5;124m\"\u001b[39m \u001b[38;5;241m%\u001b[39m (\n\u001b[1;32m   2725\u001b[0m             \u001b[38;5;28mself\u001b[39m\u001b[38;5;241m.\u001b[39mshape, other\u001b[38;5;241m.\u001b[39mshape))\n\u001b[1;32m   2727\u001b[0m \u001b[38;5;66;03m# honest SymPy matrices defer to their class's routine\u001b[39;00m\n\u001b[1;32m   2728\u001b[0m \u001b[38;5;28;01mif\u001b[39;00m \u001b[38;5;28mgetattr\u001b[39m(other, \u001b[38;5;124m'\u001b[39m\u001b[38;5;124mis_Matrix\u001b[39m\u001b[38;5;124m'\u001b[39m, \u001b[38;5;28;01mFalse\u001b[39;00m):\n",
      "\u001b[0;31mShapeError\u001b[0m: Matrix size mismatch: (18, 18) * (3, 6)."
     ]
    }
   ],
   "source": [
    "anw = Matrix.hstack(H_, \n",
    "                    A_.T @ H_, \n",
    "                    A_.T @ A_.T @ H_, \n",
    "                    A_.T @ A_.T @ A_.T @ H_, \n",
    "                    A_.T @ A_.T @ A_.T @ A_.T @ H_, \n",
    "                    A_.T @ A_.T @ A_.T @ A_.T @ A_.T @ H_)\n",
    "shape(anw)"
   ]
  },
  {
   "cell_type": "code",
   "execution_count": 108,
   "id": "466bfce9-bc49-4184-95e3-148f75fda884",
   "metadata": {},
   "outputs": [],
   "source": [
    "Radius_orbit = 6800e3\n",
    "mu = 5.972e24 * 6.67408e-11\n",
    "w_0 = np.sqrt(mu / Radius_orbit ** 3)\n",
    "\n",
    "x0rand = [np.random.uniform(-100, 100) for _ in range(n)]\n",
    "y0rand = [np.random.uniform(-100, 100) for _ in range(n)]\n",
    "z0rand = [np.random.uniform(-100, 100) for _ in range(n)]\n",
    "vx0rand = [np.random.uniform(-1, 1) for _ in range(n)]\n",
    "vy0rand = [np.random.uniform(-1, 1) for _ in range(n)]\n",
    "vz0rand = [np.random.uniform(-1, 1) for _ in range(n)]"
   ]
  },
  {
   "cell_type": "code",
   "execution_count": 109,
   "id": "6015a8e1-b264-4f86-8d28-ac8a742bf6e5",
   "metadata": {},
   "outputs": [],
   "source": [
    "subses = [(w, w_0)]\n",
    "for i in range(n):\n",
    "    subses += [(x[0][i], x0rand[i]), (y[0][i], y0rand[i]), (z[0][i], z0rand[i]), (vx[0][i], vx0rand[i]), (vy[0][i], vy0rand[i]), (vz[0][i], vz0rand[i])]\n",
    "anw_numb = anw.subs(subses)\n",
    "det(anw_numb)"
   ]
  },
  {
   "cell_type": "code",
   "execution_count": 110,
   "id": "c3f2330a-c6e0-4e52-aca0-5abc69fe5a12",
   "metadata": {},
   "outputs": [
    {
     "data": {
      "text/latex": [
       "$\\displaystyle \\left[\\begin{matrix}111.920485834732 & 0.371205798574056 & 0.00408786854282351 & 0 & 0 & 0\\\\115.690689327415 & 0.945571542542173 & 0.00702484508913071 & -7.14198782418648 \\cdot 10^{-5} & -6.89198573440637 \\cdot 10^{-7} & -1.62727028742046 \\cdot 10^{-8}\\\\69.3527105132341 & -0.33995394940928 & 0.00197638505615263 & 0.000640287688750991 & 2.17169867883479 \\cdot 10^{-6} & 1.80664255251497 \\cdot 10^{-8}\\\\220.143810267416 & 1.27720496915373 & 0.010815389498481 & 112.299618896271 & 0.37249172485893 & 0.0040985662016115\\\\56.3423083929516 & 0.543700710847932 & 0.0128373453763167 & 115.690689327415 & 0.945571542542173 & 0.00702484508913071\\\\168.371828254168 & 0.571075913837815 & 0.00475079741361419 & 68.8569993385628 & -0.34282990933196 & 0.0019520313874017\\end{matrix}\\right]$"
      ],
      "text/plain": [
       "Matrix([\n",
       "[111.920485834732, 0.371205798574056, 0.00408786854282351,                    0,                    0,                    0],\n",
       "[115.690689327415, 0.945571542542173, 0.00702484508913071, -7.14198782418648e-5, -6.89198573440637e-7, -1.62727028742046e-8],\n",
       "[69.3527105132341, -0.33995394940928, 0.00197638505615263, 0.000640287688750991,  2.17169867883479e-6,  1.80664255251497e-8],\n",
       "[220.143810267416,  1.27720496915373,   0.010815389498481,     112.299618896271,     0.37249172485893,   0.0040985662016115],\n",
       "[56.3423083929516, 0.543700710847932,  0.0128373453763167,     115.690689327415,    0.945571542542173,  0.00702484508913071],\n",
       "[168.371828254168, 0.571075913837815, 0.00475079741361419,     68.8569993385628,    -0.34282990933196,   0.0019520313874017]])"
      ]
     },
     "execution_count": 110,
     "metadata": {},
     "output_type": "execute_result"
    }
   ],
   "source": [
    "anw_get = anw_numb[:,0:6]\n",
    "anw_get"
   ]
  },
  {
   "cell_type": "code",
   "execution_count": 111,
   "id": "9d56096e-dab1-4ab0-92a2-5aa31c3851b0",
   "metadata": {},
   "outputs": [
    {
     "data": {
      "text/latex": [
       "$\\displaystyle 0.0207281102680228$"
      ],
      "text/plain": [
       "0.0207281102680228"
      ]
     },
     "execution_count": 111,
     "metadata": {},
     "output_type": "execute_result"
    }
   ],
   "source": [
    "det(anw_get)"
   ]
  },
  {
   "cell_type": "markdown",
   "id": "c7a1614d-6815-40ce-9637-0df9a400ccfb",
   "metadata": {},
   "source": [
    "Линейная система с 1 челиком ненаблюдаема"
   ]
  },
  {
   "cell_type": "markdown",
   "id": "e9da5c14-8b18-444c-9020-d5ac28ed6493",
   "metadata": {},
   "source": [
    "## 038 (Shauying R.K.) Observability of Nonlinear Systems"
   ]
  },
  {
   "cell_type": "code",
   "execution_count": 63,
   "id": "7118e430",
   "metadata": {
    "scrolled": true
   },
   "outputs": [],
   "source": [
    "J_ = Matrix([[Y_[0] for _ in range(k)] for _ in range(k)])\n",
    "for k1 in range(k):\n",
    "    for k2 in range(k):\n",
    "        J_[k1, k2] = my_diff(H_[k1, 0], 1, X_[k2])\n",
    "# J_"
   ]
  },
  {
   "cell_type": "code",
   "execution_count": 64,
   "id": "507514c4-df65-4005-b08c-6fb8a5c3f4a2",
   "metadata": {},
   "outputs": [
    {
     "data": {
      "text/plain": [
       "(6, 6)"
      ]
     },
     "execution_count": 64,
     "metadata": {},
     "output_type": "execute_result"
    }
   ],
   "source": [
    "shape(J_)"
   ]
  },
  {
   "cell_type": "code",
   "execution_count": 65,
   "id": "6d80ac6e-f659-4f6b-a48f-ddfc4442b9b6",
   "metadata": {},
   "outputs": [
    {
     "data": {
      "text/latex": [
       "$\\displaystyle \\left[\\begin{matrix}0.172667766051081 & -0.861093717642721 & 0.478229497211504 & 0 & 0 & 0\\\\0.00604087068534745 & 0.00167233271913739 & 0.000830085877867968 & 0.172667766051081 & -0.861093717642721 & 0.478229497211504\\\\-0.000147039734430793 & 6.9941855645064 \\cdot 10^{-6} & -1.80590620483103 \\cdot 10^{-5} & 0.0131585997458507 & 0.00334466543827478 & 0.00127136527040675\\\\3.97157884067362 \\cdot 10^{-6} & -1.66422791304654 \\cdot 10^{-6} & 1.20257969329942 \\cdot 10^{-6} & -0.000436387238237535 & 1.87995006483193 \\cdot 10^{-5} & -0.000101047039642682\\\\-9.92005862442659 \\cdot 10^{-8} & 1.23746724537604 \\cdot 10^{-7} & -6.60485526501681 \\cdot 10^{-8} & 1.54938724723434 \\cdot 10^{-5} & -6.63995277313596 \\cdot 10^{-6} & 6.76122672862733 \\cdot 10^{-6}\\\\-5.76690715048524 \\cdot 10^{-11} & -7.8823349545748 \\cdot 10^{-9} & 3.42895106752713 \\cdot 10^{-9} & -4.61658858556289 \\cdot 10^{-7} & 6.18888802145556 \\cdot 10^{-7} & -4.16020432808427 \\cdot 10^{-7}\\end{matrix}\\right]$"
      ],
      "text/plain": [
       "Matrix([\n",
       "[    0.172667766051081,   -0.861093717642721,    0.478229497211504,                     0,                    0,                     0],\n",
       "[  0.00604087068534745,  0.00167233271913739, 0.000830085877867968,     0.172667766051081,   -0.861093717642721,     0.478229497211504],\n",
       "[-0.000147039734430793,   6.9941855645064e-6, -1.80590620483103e-5,    0.0131585997458507,  0.00334466543827478,   0.00127136527040675],\n",
       "[  3.97157884067362e-6, -1.66422791304654e-6,  1.20257969329942e-6, -0.000436387238237535,  1.87995006483193e-5, -0.000101047039642682],\n",
       "[ -9.92005862442659e-8,  1.23746724537604e-7, -6.60485526501681e-8,   1.54938724723434e-5, -6.63995277313596e-6,   6.76122672862733e-6],\n",
       "[-5.76690715048524e-11,  -7.8823349545748e-9,  3.42895106752713e-9,  -4.61658858556289e-7,  6.18888802145556e-7,  -4.16020432808427e-7]])"
      ]
     },
     "execution_count": 65,
     "metadata": {},
     "output_type": "execute_result"
    }
   ],
   "source": [
    "J_numb = J_.subs([(x[0][0], x0rand), (y[0][0], y0rand), (z[0][0], z0rand), (vx[0][0], vx0rand), (vy[0][0], vy0rand), (vz[0][0], vz0rand), (w, w_0)])\n",
    "J_numb"
   ]
  },
  {
   "cell_type": "code",
   "execution_count": 67,
   "id": "d3e60d88",
   "metadata": {},
   "outputs": [
    {
     "name": "stdout",
     "output_type": "stream",
     "text": [
      "Δ=-3.14683294414133E-25\n"
     ]
    }
   ],
   "source": [
    "t = 0\n",
    "d0 = J_numb.minor(t, t)\n",
    "print(f\"Δ={d0}\")"
   ]
  },
  {
   "cell_type": "code",
   "execution_count": 68,
   "id": "f1cc73d8-0ed7-4404-903f-63f8521eb0d7",
   "metadata": {},
   "outputs": [
    {
     "name": "stdout",
     "output_type": "stream",
     "text": [
      "Δ=1.11984235961813E-23\n"
     ]
    }
   ],
   "source": [
    "t = 1\n",
    "d1 = J_numb.minor(t, t)\n",
    "print(f\"Δ={d1}\")"
   ]
  },
  {
   "cell_type": "code",
   "execution_count": 69,
   "id": "74b60618-838a-4772-8bfd-6bbbfa98b22c",
   "metadata": {},
   "outputs": [
    {
     "name": "stdout",
     "output_type": "stream",
     "text": [
      "Δ=-4.25201368923751E-23\n"
     ]
    }
   ],
   "source": [
    "t = 2\n",
    "d2 = J_numb.minor(t, t)\n",
    "print(f\"Δ={d2}\")"
   ]
  },
  {
   "cell_type": "code",
   "execution_count": 70,
   "id": "e2e8dd6b",
   "metadata": {},
   "outputs": [
    {
     "name": "stdout",
     "output_type": "stream",
     "text": [
      "Δ=3.41107634358119E-22\n"
     ]
    }
   ],
   "source": [
    "t = 3\n",
    "d3 = J_numb.minor(t, t)\n",
    "print(f\"Δ={d3}\")"
   ]
  },
  {
   "cell_type": "code",
   "execution_count": 71,
   "id": "fe89d1c5",
   "metadata": {},
   "outputs": [
    {
     "name": "stdout",
     "output_type": "stream",
     "text": [
      "Δ=6.06319617375816E-20\n"
     ]
    }
   ],
   "source": [
    "t = 4\n",
    "d4 = J_numb.minor(t, t)\n",
    "print(f\"Δ={d4}\")"
   ]
  },
  {
   "cell_type": "code",
   "execution_count": 72,
   "id": "70c4e7c7",
   "metadata": {},
   "outputs": [
    {
     "name": "stdout",
     "output_type": "stream",
     "text": [
      "Δ=-6.24132599352045E-20\n"
     ]
    }
   ],
   "source": [
    "t = 5\n",
    "d5 = J_numb.minor(t, t)\n",
    "print(f\"Δ={d5}\")"
   ]
  },
  {
   "cell_type": "markdown",
   "id": "1dcca2e9",
   "metadata": {},
   "source": [
    "### Можно ли просто решить систему уравнений?"
   ]
  },
  {
   "cell_type": "code",
   "execution_count": null,
   "id": "56a6a93b",
   "metadata": {},
   "outputs": [],
   "source": [
    "n = 2\n",
    "\n",
    "def get_vars(name: str, n: int):\n",
    "    s = \"\"\n",
    "    for i in range(n):\n",
    "        s += f\"{name}_{i} \"\n",
    "    return var(s, real=True)\n",
    "\n",
    "x = get_vars(\"x\", n)\n",
    "y = get_vars(\"y\", n)\n",
    "z = get_vars(\"z\", n)\n",
    "r = [sqrt(x[i]**2 + y[i]**2 + z[i]**2) for i in range(n)]\n",
    "X_ = []\n",
    "for i in range(n):\n",
    "    X_ += [x[i], y[i], z[i]]\n",
    "# X_ = Matrix(X_)\n",
    "X_"
   ]
  },
  {
   "cell_type": "code",
   "execution_count": null,
   "id": "d7d61698",
   "metadata": {},
   "outputs": [],
   "source": [
    "R = Matrix([[r[i] if i==j else sqrt((x[i]-x[j])**2 + (y[i]-y[j])**2 + (z[i]-z[j])**2) for i in range(n)] for j in range(n)])\n",
    "R_ = r.copy()\n",
    "for i in range(n):\n",
    "    for j in range(i):\n",
    "        R_ += [R[i, j]]\n",
    "# R_ = Matrix(R_)\n",
    "ro = get_vars(\"rho\", len(R_))\n",
    "R_"
   ]
  },
  {
   "cell_type": "code",
   "execution_count": null,
   "id": "42b464f1",
   "metadata": {},
   "outputs": [],
   "source": [
    "ph0, th0, ph1, th1 = var(\"varphi_0 theta_0 varphi_1 theta_1\", real=True)\n",
    "equations_angles = [Eq(sin(ph0), y[0] / sqrt(x[0]**2 + y[0]**2)),\n",
    "    Eq(sin(ph1), y[1] / sqrt(x[1]**2 + y[1]**2)),\n",
    "    Eq(sin(th0), z[0] / r[0]),\n",
    "    Eq(sin(th1), z[1] / r[1])]\n",
    "equations_angles"
   ]
  },
  {
   "cell_type": "code",
   "execution_count": null,
   "id": "0e89b6ff",
   "metadata": {},
   "outputs": [],
   "source": [
    "print(f\"Неизвестные: {len(X_)}, Известные: {len(R_) + 4}\")"
   ]
  },
  {
   "cell_type": "code",
   "execution_count": null,
   "id": "81c74d0a",
   "metadata": {},
   "outputs": [],
   "source": [
    "equations_distanses = [Eq(ro[i], R_[i]) for i in range(len(R_))]\n",
    "anw = solve(equations_distanses + equations_angles, X_)\n",
    "anw"
   ]
  },
  {
   "cell_type": "markdown",
   "id": "b9ac4883",
   "metadata": {},
   "source": [
    "### Решение обратной задачи $R=HX$ -> $\\hat{X}=H^{+}R$"
   ]
  },
  {
   "cell_type": "code",
   "execution_count": null,
   "id": "bbfec65b",
   "metadata": {},
   "outputs": [],
   "source": [
    "n = 3\n",
    "\n",
    "def get_vars(name: str, n: int):\n",
    "    s = \"\"\n",
    "    for i in range(n):\n",
    "        s += f\"{name}_{i} \"\n",
    "    return var(s, real=True)\n",
    "\n",
    "x = get_vars(\"x\", n)\n",
    "y = get_vars(\"y\", n)\n",
    "z = get_vars(\"z\", n)\n",
    "r = [sqrt(x[i]**2 + y[i]**2 + z[i]**2) for i in range(n)]"
   ]
  },
  {
   "cell_type": "code",
   "execution_count": null,
   "id": "f42da9cb",
   "metadata": {},
   "outputs": [],
   "source": [
    "R = Matrix([[r[i] if i==j else sqrt((x[i]-x[j])**2 + (y[i]-y[j])**2 + (z[i]-z[j])**2) for i in range(n)] for j in range(n)])\n",
    "R"
   ]
  },
  {
   "cell_type": "code",
   "execution_count": null,
   "id": "dcb6c815",
   "metadata": {},
   "outputs": [],
   "source": [
    "R_ = r.copy()\n",
    "for i in range(n):\n",
    "    for j in range(i):\n",
    "        R_ += [R[i, j]]\n",
    "R_ = Matrix(R_)\n",
    "R_"
   ]
  },
  {
   "cell_type": "code",
   "execution_count": null,
   "id": "31a677ea",
   "metadata": {},
   "outputs": [],
   "source": [
    "X_ = []\n",
    "for i in range(n):\n",
    "    X_ += [x[i], y[i], z[i]]\n",
    "X_ = Matrix(X_)\n",
    "X_"
   ]
  },
  {
   "cell_type": "code",
   "execution_count": null,
   "id": "702b03bd",
   "metadata": {},
   "outputs": [],
   "source": [
    "H_ = Matrix([[R_[i].diff(X_[j]) for i in range(len(R_))] for j in range(3 * n)])\n",
    "H_"
   ]
  },
  {
   "cell_type": "code",
   "execution_count": null,
   "id": "22c83b2a",
   "metadata": {},
   "outputs": [],
   "source": [
    "H_.T * H_"
   ]
  },
  {
   "cell_type": "code",
   "execution_count": null,
   "id": "3a35aa9d",
   "metadata": {},
   "outputs": [],
   "source": [
    "tmp_0 = H_.T * H_\n",
    "tmp_0.simplify()\n",
    "tmp_0"
   ]
  },
  {
   "cell_type": "code",
   "execution_count": null,
   "id": "7eec4e89",
   "metadata": {},
   "outputs": [],
   "source": [
    "tmp_1 = tmp_0.inv()\n",
    "tmp_1.simplify()\n",
    "tmp_1"
   ]
  },
  {
   "cell_type": "code",
   "execution_count": null,
   "id": "2116b155",
   "metadata": {},
   "outputs": [],
   "source": [
    "H_pi = (H_.T * H_).inv() * H_.T\n",
    "H_pi"
   ]
  },
  {
   "cell_type": "markdown",
   "id": "4fe3a67d",
   "metadata": {},
   "source": [
    "## Бляха муха оно не инверсируется"
   ]
  },
  {
   "cell_type": "markdown",
   "id": "1b26b988",
   "metadata": {},
   "source": [
    "### Поиск коэффициентов $C_1...C_6$ по измерениям\n",
    "\n",
    "$\\boldsymbol{r} =\n",
    "\\begin{bmatrix}\n",
    "    { C_4 -3C_1 \\omega_{\\text{0}} t_{p} + 2C_2 \\cos{\\omega_0 t_{p}} -2C_3 \\sin{\\omega_0 t_{p}}  }\\\\\n",
    "    { C_5 \\sin{\\omega_0 t_{p}} + C_6 \\cos{\\omega_0 t_{p}} }\\\\\n",
    "    { 2C_1 + C_2 \\sin{\\omega_0 t_{p}} + C_3 \\cos{\\omega_0 t_{p}}}\n",
    "\\end{bmatrix}$"
   ]
  },
  {
   "cell_type": "code",
   "execution_count": null,
   "id": "36df3c08",
   "metadata": {},
   "outputs": [],
   "source": [
    "n = 3\n",
    "n_time = 2\n",
    "\n",
    "def get_vars(name: str, n: int):\n",
    "    s = \"\"\n",
    "    for i in range(n):\n",
    "        s += f\"{name}_{i} \"\n",
    "    return var(s, real=True)\n",
    "\n",
    "w = var(\"w\", real=True, constant=True)\n",
    "t_ = get_vars(\"t\", n_time)\n",
    "C1 = get_vars(\"C1\", n)\n",
    "C2 = get_vars(\"C2\", n)\n",
    "C3 = get_vars(\"C3\", n)\n",
    "C4 = get_vars(\"C4\", n)\n",
    "C5 = get_vars(\"C5\", n)\n",
    "C6 = get_vars(\"C6\", n)\n",
    "C_ = C1 + C2 + C3 + C4 + C5 + C6  # Вектор состояний\n",
    "\n",
    "R_c = []  # Вектор состояний (переведённый)\n",
    "for t in range(n_time):\n",
    "    x_tmp = [C4[i] - 3*C1[i]*w*t_[t] + 2*C2[i]*cos(w*t_[t]) - 2*C3[i]*sin(w*t_[t]) for i in range(n)]\n",
    "    y_tmp = [C6[i]*cos(w*t_[t]) + C5[i]*sin(w*t_[t]) for i in range(n)]\n",
    "    z_tmp = [2*C1[i] + C3[i]*cos(w*t_[t]) + C2[i]*sin(w*t_[t]) for i in range(n)]\n",
    "    R_tmp = [sqrt(x_tmp[i]**2 + y_tmp[i]**2 + z_tmp[i]**2) for i in range(n)]\n",
    "    R_tt = [[R_tmp[i] if i==j else sqrt((x_tmp[i]-x_tmp[j])**2 + (y_tmp[i]-y_tmp[j])**2 + (z_tmp[i]-z_tmp[j])**2) for i in range(n)] for j in range(n)]\n",
    "    \n",
    "    for i in range(n):\n",
    "        for j in range(i):\n",
    "            R_tmp += [R_tt[i][j]]\n",
    "    R_c += R_tmp\n",
    "len(R_c)"
   ]
  },
  {
   "cell_type": "code",
   "execution_count": null,
   "id": "922eddbf",
   "metadata": {},
   "outputs": [],
   "source": [
    "H_c = Matrix([[R_c[i].diff(C_[j]) for i in range(len(R_c))] for j in range(len(C_))])\n",
    "H_c"
   ]
  },
  {
   "cell_type": "code",
   "execution_count": null,
   "id": "3d8c4063",
   "metadata": {},
   "outputs": [],
   "source": [
    "R_c"
   ]
  },
  {
   "cell_type": "markdown",
   "id": "24517d1c",
   "metadata": {},
   "source": [
    "## Проба на данных"
   ]
  },
  {
   "cell_type": "code",
   "execution_count": null,
   "id": "43032e8d",
   "metadata": {},
   "outputs": [],
   "source": [
    "n_model = 10\n",
    "\n",
    "X_model = np.random.uniform(-100, 100, 3 * n_model)\n",
    "x_model = [X_model[i * 3 + 0] for i in range(n_model)]\n",
    "y_model = [X_model[i * 3 + 1] for i in range(n_model)]\n",
    "z_model = [X_model[i * 3 + 2] for i in range(n_model)]\n",
    "r_model = [sqrt(x_model[i]**2 + y_model[i]**2 + z_model[i]**2) for i in range(n_model)]\n",
    "R_m = [[r_model[i] if i==j else sqrt((x_model[i]-x_model[j])**2 + (y_model[i]-y_model[j])**2 + (z_model[i]-z_model[j])**2) for i in range(n_model)] for j in range(n_model)]\n",
    "R_model = r_model.copy()\n",
    "for i in range(n_model):\n",
    "    for j in range(i):\n",
    "        R_model += [R_m[i][j]]\n",
    "R_model"
   ]
  },
  {
   "cell_type": "markdown",
   "id": "9025d3e7",
   "metadata": {},
   "source": []
  },
  {
   "cell_type": "code",
   "execution_count": null,
   "id": "9147eb59",
   "metadata": {},
   "outputs": [],
   "source": []
  }
 ],
 "metadata": {
  "kernelspec": {
   "display_name": "Python 3 (ipykernel)",
   "language": "python",
   "name": "python3"
  },
  "language_info": {
   "codemirror_mode": {
    "name": "ipython",
    "version": 3
   },
   "file_extension": ".py",
   "mimetype": "text/x-python",
   "name": "python",
   "nbconvert_exporter": "python",
   "pygments_lexer": "ipython3",
   "version": "3.10.12"
  }
 },
 "nbformat": 4,
 "nbformat_minor": 5
}
