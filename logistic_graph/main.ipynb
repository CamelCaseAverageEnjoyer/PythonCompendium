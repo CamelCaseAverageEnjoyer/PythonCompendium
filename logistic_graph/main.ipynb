{
 "cells": [
  {
   "cell_type": "markdown",
   "id": "floating-enhancement",
   "metadata": {},
   "source": [
    "![а где картиночка?](../img/pixel-art-town-sakura-blossom-skyscrapers.jpg)"
   ]
  },
  {
   "cell_type": "markdown",
   "id": "supreme-bahamas",
   "metadata": {},
   "source": [
    "### Ты сама <font color='darkviolet'>меняешь</font> только 2 параметра: <font color='#009999'>name</font> (имя студента) и <font color='#009999'>equalgraph</font> (equal graph - равнозначный граф):\n",
    "##### 1) <font color='#009999'>name</font> должен быть ровно как название текстового файлика из папки \"storage/\". Например,  [<font color='#009999'>name = \"Alex\"</font>], если надо обработать файл \"Alex\" и \"Alex_unequalgraph\" из папки \"storage/\".\n",
    "##### 2) [<font color='#009999'>equalgraph=True</font>] обработает файл \"Alex\", [<font color='#009999'>equalgraph=False</font>] - файл \"Alex_unequalgraph\".\n",
    "\n",
    "### <font color='darkviolet'>Новые</font> файлы создавать так: <font color='#53ad88'>копируешь</font> файл \"Alex\" или \"Alex_unequalgraph\", делаешь <font color='#53ad88'>по образу и подобию</font>.\n",
    "\n",
    "### <font color='darkviolet'>Запускать ячейки</font> так: 1) тыкаешь на неё мышкой, 2) нажимаешь <font color='#737a73'>Ctrl+Enter</font>\n",
    "#############################################################################################################################"
   ]
  },
  {
   "cell_type": "markdown",
   "id": "interesting-pierre",
   "metadata": {},
   "source": [
    "###  <font color='#bd33a4'>(сюда!)</font> <font color='#122faa'>Ячейка №1: сделать word-файл, положить в папку word-files</font>"
   ]
  },
  {
   "cell_type": "code",
   "execution_count": null,
   "id": "extra-middle",
   "metadata": {},
   "outputs": [],
   "source": [
    "from objects import *\n",
    "\n",
    "# Для кого считаем? name={\"Alex\", \"Lola\", \"Diana\"}\n",
    "name = \"Alex\"\n",
    "\n",
    "# Расстояние туда-сюда одинаковое? equalgraph={True, False}\n",
    "equalgraph = False\n",
    "\n",
    "g = Graph(name=name, equalgraph=equalgraph)\n",
    "g.calculate()"
   ]
  },
  {
   "cell_type": "markdown",
   "id": "fitting-wings",
   "metadata": {},
   "source": [
    "###  <font color='#497e76'>(тебе не надо)</font> <font color='#122faa'>Ячейка №2: сбросить нумерацию файлов обратно до 0</font>"
   ]
  },
  {
   "cell_type": "code",
   "execution_count": null,
   "id": "demanding-combining",
   "metadata": {},
   "outputs": [],
   "source": [
    "f = open(\"storage/counter.TXT\", 'w')\n",
    "f.write(f\"{0}\")\n",
    "f.close()"
   ]
  },
  {
   "cell_type": "markdown",
   "id": "deluxe-requirement",
   "metadata": {},
   "source": [
    "###  <font color='#497e76'>(тебе не надо)</font> <font color='#122faa'>Ячейка №3: взять файл с одинаковыми расстояниями, сделать файл с ориентированным графом (расстояние дублируется туда-и-обратно одинаковым)</font>"
   ]
  },
  {
   "cell_type": "code",
   "execution_count": null,
   "id": "attempted-responsibility",
   "metadata": {},
   "outputs": [],
   "source": [
    "name = \"Alex\"\n",
    "\n",
    "f0 = open(\"storage/\" + name + \".TXT\", 'r', encoding=\"utf-8\")\n",
    "f1 = open(\"storage/\" + name + \"_unequalgraph.TXT\", 'w', encoding=\"utf-8\")\n",
    "\n",
    "flag = False\n",
    "for line in f0:\n",
    "    if flag:\n",
    "        txt = \"\"\n",
    "        lst = line.split('-')\n",
    "        for i in range(len(lst)):\n",
    "            txt += str(int(lst[i])) + '-'\n",
    "        txt += str(int(lst[-1])) + '\\n'\n",
    "    else:\n",
    "        txt = line\n",
    "    f1.write(txt)\n",
    "    flag = True if ('Палочки' in line) else flag\n",
    "\n",
    "f0.close()\n",
    "f1.close()"
   ]
  }
 ],
 "metadata": {
  "kernelspec": {
   "display_name": "Python 3",
   "language": "python",
   "name": "python3"
  },
  "language_info": {
   "codemirror_mode": {
    "name": "ipython",
    "version": 3
   },
   "file_extension": ".py",
   "mimetype": "text/x-python",
   "name": "python",
   "nbconvert_exporter": "python",
   "pygments_lexer": "ipython3",
   "version": "3.9.2"
  }
 },
 "nbformat": 4,
 "nbformat_minor": 5
}
