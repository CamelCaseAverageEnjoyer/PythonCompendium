{
 "cells": [
  {
   "cell_type": "code",
   "execution_count": 1,
   "metadata": {},
   "outputs": [],
   "source": [
    "import matplotlib.pyplot as plt\n",
    "import numpy as np\n",
    "\n",
    "h = 10\n",
    "\n",
    "years = [1910, 1920, 1930, 1940, 1950, 1960, 1970, 1980, 1990, 2000]\n",
    "a = [92228496, 106021537, 123202624, 132164569, 151325798, 179323175, 203211926, 226545805, 248709873, 281421906]"
   ]
  },
  {
   "cell_type": "code",
   "execution_count": 2,
   "metadata": {},
   "outputs": [],
   "source": [
    "A, C, B = (1, 4, 1)\n",
    "\n",
    "F = [0]\n",
    "F.extend([3.0 / h ** 2 * (a[i + 1] - 2 * a[i] + a[i - 1]) for i in range(1, len(a) - 1)])\n",
    "F.append(0)\n",
    "\n",
    "alpha = [0, -B / C]\n",
    "beta = [0, F[0]/C]\n",
    "\n",
    "for i in range(2, len(a) - 1):\n",
    "    alpha.append(-B / (A * alpha[i - 1] + C))\n",
    "    beta.append((F[i - 1] - A * beta[i - 1]) / (A * alpha[i - 1] + C))"
   ]
  },
  {
   "cell_type": "code",
   "execution_count": 3,
   "metadata": {},
   "outputs": [],
   "source": [
    "x = []\n",
    "\n",
    "for i in range(len(a) - 1):\n",
    "    x.append(1.0 * (F[i] - A * beta[i]) / (C + A * alpha[i]))\n",
    "    \n",
    "x.append(0)"
   ]
  },
  {
   "cell_type": "code",
   "execution_count": 4,
   "metadata": {},
   "outputs": [],
   "source": [
    "b = [(a[i] - a[i - 1]) / 10 + (2 * x[i] + x[i - 1]) / 3 * 10 for i in range(len(x))]\n",
    "d = [(x[i] - x[i - 1]) / 30 for i in range(len(x))]"
   ]
  },
  {
   "cell_type": "code",
   "execution_count": 10,
   "metadata": {},
   "outputs": [
    {
     "data": {
      "text/plain": [
       "[<matplotlib.lines.Line2D at 0x8cb9978>]"
      ]
     },
     "execution_count": 10,
     "metadata": {},
     "output_type": "execute_result"
    },
    {
     "data": {
      "image/png": "[encoded data removed]",
      "text/plain": [
       "<Figure size 1080x720 with 1 Axes>"
      ]
     },
     "metadata": {
      "needs_background": "light"
     },
     "output_type": "display_data"
    }
   ],
   "source": [
    "Y = []\n",
    "for i in range(1, 10):\n",
    "    X = np.linspace(1900 + i * 10, 1900 + i * 10 + 10, 1000)\n",
    "    Y.extend(a[i] + b[i] * (X - years[i]) + x[i] * (X - years[i]) ** 2 + d[i] * (X - years[i]) ** 3)\n",
    "\n",
    "    X = np.linspace(1910, 2000, len(Y))\n",
    "\n",
    "from pylab import rcParams\n",
    "rcParams['figure.figsize'] = 15, 10\n",
    "\n",
    "plt.scatter(years, a, color='red')\n",
    "plt.scatter(2010, answer, color='magenta')\n",
    "plt.scatter(2010, 308745538, color='cyan')\n",
    "plt.plot(X, Y, color='blue')"
   ]
  },
  {
   "cell_type": "code",
   "execution_count": 11,
   "metadata": {},
   "outputs": [
    {
     "data": {
      "text/plain": [
       "384908185.77457714"
      ]
     },
     "execution_count": 11,
     "metadata": {},
     "output_type": "execute_result"
    }
   ],
   "source": [
    "i = 8\n",
    "X = 2010\n",
    "answer = a[i] + b[i] * (X - years[i]) + x[i] * (X - years[i]) ** 2 + d[i] * (X - years[i]) ** 3\n",
    "answer"
   ]
  },
  {
   "cell_type": "code",
   "execution_count": 12,
   "metadata": {},
   "outputs": [
    {
     "data": {
      "text/plain": [
       "1266369.1333333333"
      ]
     },
     "execution_count": 12,
     "metadata": {},
     "output_type": "execute_result"
    }
   ],
   "source": [
    "def derivative(point, i, x, b, c, d):\n",
    "    return b[i] + 2 * c[i] * (point - x[i]) + 3 * d[i] * (point - x[i]) ** 2\n",
    "\n",
    "derivative(1910, 1, years, b, x, d)"
   ]
  }
 ],
 "metadata": {
  "kernelspec": {
   "display_name": "Python 3",
   "language": "python",
   "name": "python3"
  },
  "language_info": {
   "codemirror_mode": {
    "name": "ipython",
    "version": 3
   },
   "file_extension": ".py",
   "mimetype": "text/x-python",
   "name": "python",
   "nbconvert_exporter": "python",
   "pygments_lexer": "ipython3",
   "version": "3.8.2"
  }
 },
 "nbformat": 4,
 "nbformat_minor": 2
}
